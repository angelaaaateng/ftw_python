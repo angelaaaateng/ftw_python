{
  "nbformat": 4,
  "nbformat_minor": 0,
  "metadata": {
    "colab": {
      "name": "Copy of IntroToRegre.ipynb",
      "provenance": [],
      "collapsed_sections": [],
      "toc_visible": true,
      "include_colab_link": true
    },
    "kernelspec": {
      "name": "python3",
      "display_name": "Python 3"
    }
  },
  "cells": [
    {
      "cell_type": "markdown",
      "metadata": {
        "id": "view-in-github",
        "colab_type": "text"
      },
      "source": [
        "<a href=\"https://colab.research.google.com/github/angelaaaateng/ftw_python/blob/main/IntroToRegre.ipynb\" target=\"_parent\"><img src=\"https://colab.research.google.com/assets/colab-badge.svg\" alt=\"Open In Colab\"/></a>"
      ]
    },
    {
      "cell_type": "markdown",
      "metadata": {
        "id": "Z3YQPE3ffaKk"
      },
      "source": [
        "[Data Descriptions](https://drive.google.com/file/d/1quqKLJihuHjRKHYxNG-7qxU1y4AVGTXA/view?usp=sharing)"
      ]
    },
    {
      "cell_type": "code",
      "metadata": {
        "id": "Danr1BvUHT3t"
      },
      "source": [
        "# IMPORT GENERIC PACKAGES\n",
        "import numpy as np # numerical calc package\n",
        "import pandas as pd # holds data\n",
        "import matplotlib.pyplot as plt # plotting library\n",
        "import seaborn as sns # pretty plotting\n",
        "\n",
        "# plotting config\n",
        "sns.set(style='white', rc={'figure.figsize':(20,10)})\n",
        "\n",
        "from sklearn.linear_model import LinearRegression # linear regression package\n",
        "from sklearn.model_selection import train_test_split # split dataset\n",
        "from sklearn.metrics import mean_squared_error as mse # Measurement metric"
      ],
      "execution_count": null,
      "outputs": []
    },
    {
      "cell_type": "markdown",
      "metadata": {
        "id": "IBhXR_S2IQtZ"
      },
      "source": [
        "## Objective:  Predict Sales Using Advertising Costs From Different Digital Platforms"
      ]
    },
    {
      "cell_type": "markdown",
      "metadata": {
        "id": "-1Z7i4pgI8DM"
      },
      "source": [
        "### Read Data"
      ]
    },
    {
      "cell_type": "code",
      "metadata": {
        "id": "k_EtjF0DHw5k"
      },
      "source": [
        "# read data into a DataFrame\n",
        "data = pd.read_csv('../Datasets/advertising_regression.csv', index_col=0)"
      ],
      "execution_count": null,
      "outputs": []
    },
    {
      "cell_type": "markdown",
      "metadata": {
        "id": "5fcxkdVgJI-U"
      },
      "source": [
        "### Variables\n",
        "\n",
        "- **TV**: advertising dollars spent on TV for a single product in a given market (in thousands of dollars)  \n",
        "- **Radio**: advertising dollars spent on Radio  \n",
        "- **Newspaper**: advertising dollars spent on Newspaper  \n",
        "\n",
        "### Target  \n",
        "\n",
        "- **Sales**: sales of a single product in a given market (in thousands of dollars)"
      ]
    },
    {
      "cell_type": "markdown",
      "metadata": {
        "id": "Np15p3AWOxnX"
      },
      "source": [
        "# Look at the Data"
      ]
    },
    {
      "cell_type": "code",
      "metadata": {
        "id": "oE_Xpr7Xue1k",
        "colab": {
          "base_uri": "https://localhost:8080/",
          "height": 206
        },
        "outputId": "162bc19d-252b-4640-aed7-00fb241d3406"
      },
      "source": [
        "data.head()"
      ],
      "execution_count": null,
      "outputs": [
        {
          "output_type": "execute_result",
          "data": {
            "text/html": [
              "<div>\n",
              "<style scoped>\n",
              "    .dataframe tbody tr th:only-of-type {\n",
              "        vertical-align: middle;\n",
              "    }\n",
              "\n",
              "    .dataframe tbody tr th {\n",
              "        vertical-align: top;\n",
              "    }\n",
              "\n",
              "    .dataframe thead th {\n",
              "        text-align: right;\n",
              "    }\n",
              "</style>\n",
              "<table border=\"1\" class=\"dataframe\">\n",
              "  <thead>\n",
              "    <tr style=\"text-align: right;\">\n",
              "      <th></th>\n",
              "      <th>TV</th>\n",
              "      <th>radio</th>\n",
              "      <th>newspaper</th>\n",
              "      <th>sales</th>\n",
              "    </tr>\n",
              "  </thead>\n",
              "  <tbody>\n",
              "    <tr>\n",
              "      <th>1</th>\n",
              "      <td>230.1</td>\n",
              "      <td>37.8</td>\n",
              "      <td>69.2</td>\n",
              "      <td>22.1</td>\n",
              "    </tr>\n",
              "    <tr>\n",
              "      <th>2</th>\n",
              "      <td>44.5</td>\n",
              "      <td>39.3</td>\n",
              "      <td>45.1</td>\n",
              "      <td>10.4</td>\n",
              "    </tr>\n",
              "    <tr>\n",
              "      <th>3</th>\n",
              "      <td>17.2</td>\n",
              "      <td>45.9</td>\n",
              "      <td>69.3</td>\n",
              "      <td>9.3</td>\n",
              "    </tr>\n",
              "    <tr>\n",
              "      <th>4</th>\n",
              "      <td>151.5</td>\n",
              "      <td>41.3</td>\n",
              "      <td>58.5</td>\n",
              "      <td>18.5</td>\n",
              "    </tr>\n",
              "    <tr>\n",
              "      <th>5</th>\n",
              "      <td>180.8</td>\n",
              "      <td>10.8</td>\n",
              "      <td>58.4</td>\n",
              "      <td>12.9</td>\n",
              "    </tr>\n",
              "  </tbody>\n",
              "</table>\n",
              "</div>"
            ],
            "text/plain": [
              "      TV  radio  newspaper  sales\n",
              "1  230.1   37.8       69.2   22.1\n",
              "2   44.5   39.3       45.1   10.4\n",
              "3   17.2   45.9       69.3    9.3\n",
              "4  151.5   41.3       58.5   18.5\n",
              "5  180.8   10.8       58.4   12.9"
            ]
          },
          "metadata": {
            "tags": []
          },
          "execution_count": 3
        }
      ]
    },
    {
      "cell_type": "code",
      "metadata": {
        "id": "z4bbteJXO0JL"
      },
      "source": [
        "# take a subset of our data\n",
        "columns = ['TV', 'radio', 'sales']\n",
        "subset_data = data[columns]"
      ],
      "execution_count": null,
      "outputs": []
    },
    {
      "cell_type": "code",
      "metadata": {
        "id": "jmPejNuYRGqQ",
        "colab": {
          "base_uri": "https://localhost:8080/",
          "height": 34
        },
        "outputId": "9527b32f-c8ce-4f77-a8b5-70a86c2194b4"
      },
      "source": [
        "# Get number of (rows, columns)\n",
        "subset_data.shape"
      ],
      "execution_count": null,
      "outputs": [
        {
          "output_type": "execute_result",
          "data": {
            "text/plain": [
              "(200, 3)"
            ]
          },
          "metadata": {
            "tags": []
          },
          "execution_count": 5
        }
      ]
    },
    {
      "cell_type": "code",
      "metadata": {
        "id": "w-EVPElRPfVK",
        "colab": {
          "base_uri": "https://localhost:8080/",
          "height": 206
        },
        "outputId": "f01b1d50-f219-44bf-e48d-085c3d959bcb"
      },
      "source": [
        "# Get first 5 rows\n",
        "subset_data.head()"
      ],
      "execution_count": null,
      "outputs": [
        {
          "output_type": "execute_result",
          "data": {
            "text/html": [
              "<div>\n",
              "<style scoped>\n",
              "    .dataframe tbody tr th:only-of-type {\n",
              "        vertical-align: middle;\n",
              "    }\n",
              "\n",
              "    .dataframe tbody tr th {\n",
              "        vertical-align: top;\n",
              "    }\n",
              "\n",
              "    .dataframe thead th {\n",
              "        text-align: right;\n",
              "    }\n",
              "</style>\n",
              "<table border=\"1\" class=\"dataframe\">\n",
              "  <thead>\n",
              "    <tr style=\"text-align: right;\">\n",
              "      <th></th>\n",
              "      <th>TV</th>\n",
              "      <th>radio</th>\n",
              "      <th>sales</th>\n",
              "    </tr>\n",
              "  </thead>\n",
              "  <tbody>\n",
              "    <tr>\n",
              "      <th>1</th>\n",
              "      <td>230.1</td>\n",
              "      <td>37.8</td>\n",
              "      <td>22.1</td>\n",
              "    </tr>\n",
              "    <tr>\n",
              "      <th>2</th>\n",
              "      <td>44.5</td>\n",
              "      <td>39.3</td>\n",
              "      <td>10.4</td>\n",
              "    </tr>\n",
              "    <tr>\n",
              "      <th>3</th>\n",
              "      <td>17.2</td>\n",
              "      <td>45.9</td>\n",
              "      <td>9.3</td>\n",
              "    </tr>\n",
              "    <tr>\n",
              "      <th>4</th>\n",
              "      <td>151.5</td>\n",
              "      <td>41.3</td>\n",
              "      <td>18.5</td>\n",
              "    </tr>\n",
              "    <tr>\n",
              "      <th>5</th>\n",
              "      <td>180.8</td>\n",
              "      <td>10.8</td>\n",
              "      <td>12.9</td>\n",
              "    </tr>\n",
              "  </tbody>\n",
              "</table>\n",
              "</div>"
            ],
            "text/plain": [
              "      TV  radio  sales\n",
              "1  230.1   37.8   22.1\n",
              "2   44.5   39.3   10.4\n",
              "3   17.2   45.9    9.3\n",
              "4  151.5   41.3   18.5\n",
              "5  180.8   10.8   12.9"
            ]
          },
          "metadata": {
            "tags": []
          },
          "execution_count": 6
        }
      ]
    },
    {
      "cell_type": "code",
      "metadata": {
        "id": "uLSrNUzgRCqs",
        "colab": {
          "base_uri": "https://localhost:8080/",
          "height": 206
        },
        "outputId": "6fe8e2b4-339a-4c1d-c07d-0043e89521ca"
      },
      "source": [
        "# Get last 5 rows\n",
        "subset_data.tail()"
      ],
      "execution_count": null,
      "outputs": [
        {
          "output_type": "execute_result",
          "data": {
            "text/html": [
              "<div>\n",
              "<style scoped>\n",
              "    .dataframe tbody tr th:only-of-type {\n",
              "        vertical-align: middle;\n",
              "    }\n",
              "\n",
              "    .dataframe tbody tr th {\n",
              "        vertical-align: top;\n",
              "    }\n",
              "\n",
              "    .dataframe thead th {\n",
              "        text-align: right;\n",
              "    }\n",
              "</style>\n",
              "<table border=\"1\" class=\"dataframe\">\n",
              "  <thead>\n",
              "    <tr style=\"text-align: right;\">\n",
              "      <th></th>\n",
              "      <th>TV</th>\n",
              "      <th>radio</th>\n",
              "      <th>sales</th>\n",
              "    </tr>\n",
              "  </thead>\n",
              "  <tbody>\n",
              "    <tr>\n",
              "      <th>196</th>\n",
              "      <td>38.2</td>\n",
              "      <td>3.7</td>\n",
              "      <td>7.6</td>\n",
              "    </tr>\n",
              "    <tr>\n",
              "      <th>197</th>\n",
              "      <td>94.2</td>\n",
              "      <td>4.9</td>\n",
              "      <td>9.7</td>\n",
              "    </tr>\n",
              "    <tr>\n",
              "      <th>198</th>\n",
              "      <td>177.0</td>\n",
              "      <td>9.3</td>\n",
              "      <td>12.8</td>\n",
              "    </tr>\n",
              "    <tr>\n",
              "      <th>199</th>\n",
              "      <td>283.6</td>\n",
              "      <td>42.0</td>\n",
              "      <td>25.5</td>\n",
              "    </tr>\n",
              "    <tr>\n",
              "      <th>200</th>\n",
              "      <td>232.1</td>\n",
              "      <td>8.6</td>\n",
              "      <td>13.4</td>\n",
              "    </tr>\n",
              "  </tbody>\n",
              "</table>\n",
              "</div>"
            ],
            "text/plain": [
              "        TV  radio  sales\n",
              "196   38.2    3.7    7.6\n",
              "197   94.2    4.9    9.7\n",
              "198  177.0    9.3   12.8\n",
              "199  283.6   42.0   25.5\n",
              "200  232.1    8.6   13.4"
            ]
          },
          "metadata": {
            "tags": []
          },
          "execution_count": 7
        }
      ]
    },
    {
      "cell_type": "code",
      "metadata": {
        "id": "s28vsC3aQVAR",
        "colab": {
          "base_uri": "https://localhost:8080/",
          "height": 300
        },
        "outputId": "85196051-6c07-463f-e751-41f9ee985460"
      },
      "source": [
        "# Get basic descriptive statistics\n",
        "subset_data.describe()"
      ],
      "execution_count": null,
      "outputs": [
        {
          "output_type": "execute_result",
          "data": {
            "text/html": [
              "<div>\n",
              "<style scoped>\n",
              "    .dataframe tbody tr th:only-of-type {\n",
              "        vertical-align: middle;\n",
              "    }\n",
              "\n",
              "    .dataframe tbody tr th {\n",
              "        vertical-align: top;\n",
              "    }\n",
              "\n",
              "    .dataframe thead th {\n",
              "        text-align: right;\n",
              "    }\n",
              "</style>\n",
              "<table border=\"1\" class=\"dataframe\">\n",
              "  <thead>\n",
              "    <tr style=\"text-align: right;\">\n",
              "      <th></th>\n",
              "      <th>TV</th>\n",
              "      <th>radio</th>\n",
              "      <th>sales</th>\n",
              "    </tr>\n",
              "  </thead>\n",
              "  <tbody>\n",
              "    <tr>\n",
              "      <th>count</th>\n",
              "      <td>200.000000</td>\n",
              "      <td>200.000000</td>\n",
              "      <td>200.000000</td>\n",
              "    </tr>\n",
              "    <tr>\n",
              "      <th>mean</th>\n",
              "      <td>147.042500</td>\n",
              "      <td>23.264000</td>\n",
              "      <td>14.022500</td>\n",
              "    </tr>\n",
              "    <tr>\n",
              "      <th>std</th>\n",
              "      <td>85.854236</td>\n",
              "      <td>14.846809</td>\n",
              "      <td>5.217457</td>\n",
              "    </tr>\n",
              "    <tr>\n",
              "      <th>min</th>\n",
              "      <td>0.700000</td>\n",
              "      <td>0.000000</td>\n",
              "      <td>1.600000</td>\n",
              "    </tr>\n",
              "    <tr>\n",
              "      <th>25%</th>\n",
              "      <td>74.375000</td>\n",
              "      <td>9.975000</td>\n",
              "      <td>10.375000</td>\n",
              "    </tr>\n",
              "    <tr>\n",
              "      <th>50%</th>\n",
              "      <td>149.750000</td>\n",
              "      <td>22.900000</td>\n",
              "      <td>12.900000</td>\n",
              "    </tr>\n",
              "    <tr>\n",
              "      <th>75%</th>\n",
              "      <td>218.825000</td>\n",
              "      <td>36.525000</td>\n",
              "      <td>17.400000</td>\n",
              "    </tr>\n",
              "    <tr>\n",
              "      <th>max</th>\n",
              "      <td>296.400000</td>\n",
              "      <td>49.600000</td>\n",
              "      <td>27.000000</td>\n",
              "    </tr>\n",
              "  </tbody>\n",
              "</table>\n",
              "</div>"
            ],
            "text/plain": [
              "               TV       radio       sales\n",
              "count  200.000000  200.000000  200.000000\n",
              "mean   147.042500   23.264000   14.022500\n",
              "std     85.854236   14.846809    5.217457\n",
              "min      0.700000    0.000000    1.600000\n",
              "25%     74.375000    9.975000   10.375000\n",
              "50%    149.750000   22.900000   12.900000\n",
              "75%    218.825000   36.525000   17.400000\n",
              "max    296.400000   49.600000   27.000000"
            ]
          },
          "metadata": {
            "tags": []
          },
          "execution_count": 8
        }
      ]
    },
    {
      "cell_type": "markdown",
      "metadata": {
        "id": "vV3favjkRgoG"
      },
      "source": [
        "# How are the features correlated to each other?"
      ]
    },
    {
      "cell_type": "code",
      "metadata": {
        "id": "m1I5D0BQQYlt",
        "colab": {
          "base_uri": "https://localhost:8080/",
          "height": 143
        },
        "outputId": "76bc1540-08f6-4d72-c54d-302e6733a207"
      },
      "source": [
        "correlation_coefficients = subset_data.corr()\n",
        "correlation_coefficients"
      ],
      "execution_count": null,
      "outputs": [
        {
          "output_type": "execute_result",
          "data": {
            "text/html": [
              "<div>\n",
              "<style scoped>\n",
              "    .dataframe tbody tr th:only-of-type {\n",
              "        vertical-align: middle;\n",
              "    }\n",
              "\n",
              "    .dataframe tbody tr th {\n",
              "        vertical-align: top;\n",
              "    }\n",
              "\n",
              "    .dataframe thead th {\n",
              "        text-align: right;\n",
              "    }\n",
              "</style>\n",
              "<table border=\"1\" class=\"dataframe\">\n",
              "  <thead>\n",
              "    <tr style=\"text-align: right;\">\n",
              "      <th></th>\n",
              "      <th>TV</th>\n",
              "      <th>radio</th>\n",
              "      <th>sales</th>\n",
              "    </tr>\n",
              "  </thead>\n",
              "  <tbody>\n",
              "    <tr>\n",
              "      <th>TV</th>\n",
              "      <td>1.000000</td>\n",
              "      <td>0.054809</td>\n",
              "      <td>0.782224</td>\n",
              "    </tr>\n",
              "    <tr>\n",
              "      <th>radio</th>\n",
              "      <td>0.054809</td>\n",
              "      <td>1.000000</td>\n",
              "      <td>0.576223</td>\n",
              "    </tr>\n",
              "    <tr>\n",
              "      <th>sales</th>\n",
              "      <td>0.782224</td>\n",
              "      <td>0.576223</td>\n",
              "      <td>1.000000</td>\n",
              "    </tr>\n",
              "  </tbody>\n",
              "</table>\n",
              "</div>"
            ],
            "text/plain": [
              "             TV     radio     sales\n",
              "TV     1.000000  0.054809  0.782224\n",
              "radio  0.054809  1.000000  0.576223\n",
              "sales  0.782224  0.576223  1.000000"
            ]
          },
          "metadata": {
            "tags": []
          },
          "execution_count": 9
        }
      ]
    },
    {
      "cell_type": "code",
      "metadata": {
        "id": "tXePxac5Rkc7",
        "colab": {
          "base_uri": "https://localhost:8080/",
          "height": 615
        },
        "outputId": "92f9cdae-244b-4cb8-b248-6dc674230d49"
      },
      "source": [
        "# Create heatmap of correlation coefficients\n",
        "sns.heatmap(correlation_coefficients, annot=True, cmap='Reds')"
      ],
      "execution_count": null,
      "outputs": [
        {
          "output_type": "execute_result",
          "data": {
            "text/plain": [
              "<matplotlib.axes._subplots.AxesSubplot at 0x7f06fe73f4e0>"
            ]
          },
          "metadata": {
            "tags": []
          },
          "execution_count": 10
        },
        {
          "output_type": "display_data",
          "data": {
            "image/png": "[encoded data removed]",
            "text/plain": [
              "<Figure size 1440x720 with 2 Axes>"
            ]
          },
          "metadata": {
            "tags": []
          }
        }
      ]
    },
    {
      "cell_type": "markdown",
      "metadata": {
        "id": "QP6nrKZdSBkl"
      },
      "source": [
        "# Visualize Distributions and Relationships"
      ]
    },
    {
      "cell_type": "code",
      "metadata": {
        "id": "ZiIISzVGSEhM",
        "colab": {
          "base_uri": "https://localhost:8080/",
          "height": 1000
        },
        "outputId": "fb7dae6d-8188-4da1-8385-48867376e193"
      },
      "source": [
        "sns.pairplot(subset_data, height=5)"
      ],
      "execution_count": null,
      "outputs": [
        {
          "output_type": "execute_result",
          "data": {
            "text/plain": [
              "<seaborn.axisgrid.PairGrid at 0x7f06fea2b2b0>"
            ]
          },
          "metadata": {
            "tags": []
          },
          "execution_count": 11
        },
        {
          "output_type": "display_data",
          "data": {
            "image/png": "[encoded data removed]",
            "text/plain": [
              "<Figure size 1080x1080 with 12 Axes>"
            ]
          },
          "metadata": {
            "tags": []
          }
        }
      ]
    },
    {
      "cell_type": "markdown",
      "metadata": {
        "id": "Owg-ct3GPh-u"
      },
      "source": [
        "# Build a Machine Learning Model"
      ]
    },
    {
      "cell_type": "markdown",
      "metadata": {
        "id": "dU5QzBbCPlXG"
      },
      "source": [
        "# Linear Regression  \n",
        "Linear regression is the simplest method of predicting continuous variables. Its all about establishing a relationship between dependent variable (*Y*) and one or more independent variables (*X*) using a best fit straight line (also known as regression line).\n",
        "\n",
        "Mathematically,\n",
        "\n",
        "$\\begin {equation}\n",
        "h(x_i) = y = m_i x_i + b\n",
        "\\end {equation}$\n",
        "\n",
        "where $m_i$ is the linear coefficient (slope) and $b$ is the intercept.\n",
        "\n",
        "### Why learn linear regression?\n",
        "\n",
        "- Easy to use,\n",
        "- Used everywhere,\n",
        "- Runs quickly,\n",
        "- interpretable,\n",
        "- most basic form of machine learning.  \n",
        "\n",
        "\n"
      ]
    },
    {
      "cell_type": "markdown",
      "metadata": {
        "id": "SPjvHertLE-8"
      },
      "source": [
        "### For now, we use all three variables to predict sales  \n"
      ]
    },
    {
      "cell_type": "code",
      "metadata": {
        "id": "G0hEDKVvSQzN",
        "colab": {
          "base_uri": "https://localhost:8080/",
          "height": 34
        },
        "outputId": "24a6978e-f67c-44dc-c995-2b24d501119c"
      },
      "source": [
        "data.columns"
      ],
      "execution_count": null,
      "outputs": [
        {
          "output_type": "execute_result",
          "data": {
            "text/plain": [
              "Index(['TV', 'radio', 'newspaper', 'sales'], dtype='object')"
            ]
          },
          "metadata": {
            "tags": []
          },
          "execution_count": 12
        }
      ]
    },
    {
      "cell_type": "code",
      "metadata": {
        "id": "tzIOcaEpJM2a"
      },
      "source": [
        "# Define Features\n",
        "features = ['TV', 'radio', 'newspaper']\n",
        "\n",
        "# Set X\n",
        "X = data[features]"
      ],
      "execution_count": null,
      "outputs": []
    },
    {
      "cell_type": "code",
      "metadata": {
        "id": "o4K9QmhfLMm0"
      },
      "source": [
        "# Set y\n",
        "y = data['sales']"
      ],
      "execution_count": null,
      "outputs": []
    },
    {
      "cell_type": "code",
      "metadata": {
        "id": "6BZGPCO4e3fW"
      },
      "source": [
        "# Train-test split\n",
        "X_train, X_test, y_train, y_test = train_test_split(X, y, test_size = 0.4, random_state = 42)"
      ],
      "execution_count": null,
      "outputs": []
    },
    {
      "cell_type": "code",
      "metadata": {
        "id": "eLfNfXu4LZf2"
      },
      "source": [
        "# Initialize model\n",
        "model = LinearRegression() \n"
      ],
      "execution_count": null,
      "outputs": []
    },
    {
      "cell_type": "code",
      "metadata": {
        "id": "JGwg3gd2LmFG",
        "colab": {
          "base_uri": "https://localhost:8080/",
          "height": 34
        },
        "outputId": "b0557f5f-20d5-42b7-bfa5-2acfa9b2c298"
      },
      "source": [
        "# Fit Model\n",
        "model.fit(X_train, y_train)"
      ],
      "execution_count": null,
      "outputs": [
        {
          "output_type": "execute_result",
          "data": {
            "text/plain": [
              "LinearRegression(copy_X=True, fit_intercept=True, n_jobs=None, normalize=False)"
            ]
          },
          "metadata": {
            "tags": []
          },
          "execution_count": 17
        }
      ]
    },
    {
      "cell_type": "code",
      "metadata": {
        "id": "W9EzcesOMgfl"
      },
      "source": [
        "# get coefficients\n",
        "coefficient = model.coef_\n",
        "\n",
        "# get intercept\n",
        "intercept = model.intercept_"
      ],
      "execution_count": null,
      "outputs": []
    },
    {
      "cell_type": "code",
      "metadata": {
        "id": "rm3jA5s3M9Z9",
        "colab": {
          "base_uri": "https://localhost:8080/",
          "height": 34
        },
        "outputId": "3f5d5f2e-aa1e-4e8c-876d-a9a36f8355f4"
      },
      "source": [
        "# print coefficient\n",
        "coefficient"
      ],
      "execution_count": null,
      "outputs": [
        {
          "output_type": "execute_result",
          "data": {
            "text/plain": [
              "array([0.04491068, 0.19843664, 0.0085429 ])"
            ]
          },
          "metadata": {
            "tags": []
          },
          "execution_count": 19
        }
      ]
    },
    {
      "cell_type": "code",
      "metadata": {
        "id": "f1tWynoUNLrf",
        "colab": {
          "base_uri": "https://localhost:8080/",
          "height": 34
        },
        "outputId": "41570f18-5bca-442c-cce8-6732a781d983"
      },
      "source": [
        "# print intercept\n",
        "intercept"
      ],
      "execution_count": null,
      "outputs": [
        {
          "output_type": "execute_result",
          "data": {
            "text/plain": [
              "2.5825935725675553"
            ]
          },
          "metadata": {
            "tags": []
          },
          "execution_count": 20
        }
      ]
    },
    {
      "cell_type": "code",
      "metadata": {
        "id": "JfHcNJ-pNOVH",
        "colab": {
          "base_uri": "https://localhost:8080/",
          "height": 34
        },
        "outputId": "334f65a5-4d70-4ced-83d9-0ba1c926654b"
      },
      "source": [
        "# calculate the R-squared\n",
        "model.score(X_test, y_test)"
      ],
      "execution_count": null,
      "outputs": [
        {
          "output_type": "execute_result",
          "data": {
            "text/plain": [
              "0.864341606388241"
            ]
          },
          "metadata": {
            "tags": []
          },
          "execution_count": 21
        }
      ]
    },
    {
      "cell_type": "code",
      "metadata": {
        "id": "NVHWPPEbeo-Q"
      },
      "source": [
        "y_predicted = model.predict(X_test)"
      ],
      "execution_count": null,
      "outputs": []
    },
    {
      "cell_type": "markdown",
      "metadata": {
        "id": "rWN3PYoDNbMh"
      },
      "source": [
        "The equation of the line is just: \n",
        "\n",
        "$\\begin {equation}\n",
        "Sales = 0.045 * TV + 0.198 * Radio + 0.008 * newspaper + 2.58\n",
        "\\end {equation}$\n",
        "\n",
        "### Interpreting the Coefficients\n",
        "- For a given amount of Radio and Newspaper ad spending, an **increase of 1000 dollars in TV ad spending** is associated with an **increase in Sales of 45 thousand dollars** (assuming everything else is unchanged).\n",
        "\n",
        "- For a given amount of TV and Newspaper ad spending, an **increase of 1000 dollars in Radio ad spending** is associated with an **increase in Sales of 198 thousand dollars** (assuming everything else is unchanged).\n",
        "- For a given amount of TV and Radio ad spending, a **increase of 1000 dollars in newspaper ad spending** is associated with an **increase in Sales of 8 thousand dollars**."
      ]
    },
    {
      "cell_type": "code",
      "metadata": {
        "id": "qgmRH_UeNN6F",
        "colab": {
          "base_uri": "https://localhost:8080/",
          "height": 143
        },
        "outputId": "e80bf317-2ecb-42ea-a043-b27c2ee2d1f4"
      },
      "source": [
        "# put coefficients into dataframe\n",
        "# pair the feature names with the coefficients\n",
        "coefficients_pd = pd.DataFrame((list(zip(features, model.coef_ * 1000))), columns = ['Features', 'Coefficients'])\n",
        "\n",
        "# print table of coefficients for contribution chart\n",
        "coefficients_pd\n"
      ],
      "execution_count": null,
      "outputs": [
        {
          "output_type": "execute_result",
          "data": {
            "text/html": [
              "<div>\n",
              "<style scoped>\n",
              "    .dataframe tbody tr th:only-of-type {\n",
              "        vertical-align: middle;\n",
              "    }\n",
              "\n",
              "    .dataframe tbody tr th {\n",
              "        vertical-align: top;\n",
              "    }\n",
              "\n",
              "    .dataframe thead th {\n",
              "        text-align: right;\n",
              "    }\n",
              "</style>\n",
              "<table border=\"1\" class=\"dataframe\">\n",
              "  <thead>\n",
              "    <tr style=\"text-align: right;\">\n",
              "      <th></th>\n",
              "      <th>Features</th>\n",
              "      <th>Coefficients</th>\n",
              "    </tr>\n",
              "  </thead>\n",
              "  <tbody>\n",
              "    <tr>\n",
              "      <th>0</th>\n",
              "      <td>TV</td>\n",
              "      <td>44.910676</td>\n",
              "    </tr>\n",
              "    <tr>\n",
              "      <th>1</th>\n",
              "      <td>radio</td>\n",
              "      <td>198.436642</td>\n",
              "    </tr>\n",
              "    <tr>\n",
              "      <th>2</th>\n",
              "      <td>newspaper</td>\n",
              "      <td>8.542896</td>\n",
              "    </tr>\n",
              "  </tbody>\n",
              "</table>\n",
              "</div>"
            ],
            "text/plain": [
              "    Features  Coefficients\n",
              "0         TV     44.910676\n",
              "1      radio    198.436642\n",
              "2  newspaper      8.542896"
            ]
          },
          "metadata": {
            "tags": []
          },
          "execution_count": 23
        }
      ]
    },
    {
      "cell_type": "markdown",
      "metadata": {
        "id": "vgNzQaboNpcB"
      },
      "source": [
        "### Contribution Chart"
      ]
    },
    {
      "cell_type": "code",
      "metadata": {
        "id": "pVhW45Y3NOUk",
        "colab": {
          "base_uri": "https://localhost:8080/",
          "height": 611
        },
        "outputId": "4eb1c211-13cf-4b1a-99d9-521cbad0c1cb"
      },
      "source": [
        "# Plot Contribution chart\n",
        "coefficients_pd.sort_values('Coefficients').set_index('Features').plot(kind = 'barh', color = 'g')"
      ],
      "execution_count": null,
      "outputs": [
        {
          "output_type": "execute_result",
          "data": {
            "text/plain": [
              "<matplotlib.axes._subplots.AxesSubplot at 0x7f06fa675fd0>"
            ]
          },
          "metadata": {
            "tags": []
          },
          "execution_count": 24
        },
        {
          "output_type": "display_data",
          "data": {
            "image/png": "[encoded data removed]",
            "text/plain": [
              "<Figure size 1440x720 with 1 Axes>"
            ]
          },
          "metadata": {
            "tags": []
          }
        }
      ]
    },
    {
      "cell_type": "markdown",
      "metadata": {
        "id": "JzaGexcrdhvO"
      },
      "source": [
        "### Actual Prediction of Sales Using New Advertising Data"
      ]
    },
    {
      "cell_type": "code",
      "metadata": {
        "id": "sonn6CzJdl8P",
        "colab": {
          "base_uri": "https://localhost:8080/",
          "height": 34
        },
        "outputId": "bc1990a7-8b07-4a25-c7f4-5be6c04ffdab"
      },
      "source": [
        "# We input new advertising data into the model to predict future sales\n",
        "\n",
        "# Sample TV, Radio, Newspaper\n",
        "new_data = [[10, 30, 100]]\n",
        "model.predict(new_data)"
      ],
      "execution_count": null,
      "outputs": [
        {
          "output_type": "execute_result",
          "data": {
            "text/plain": [
              "array([9.83908922])"
            ]
          },
          "metadata": {
            "tags": []
          },
          "execution_count": 25
        }
      ]
    },
    {
      "cell_type": "markdown",
      "metadata": {
        "id": "uG9eatmxe-Xi"
      },
      "source": [
        "We can change the three values in `new_data` to see how much sales we can generate based on ad cost."
      ]
    },
    {
      "cell_type": "markdown",
      "metadata": {
        "id": "7Fy9gICAeV2s"
      },
      "source": [
        "# Model Evaluation"
      ]
    },
    {
      "cell_type": "markdown",
      "metadata": {
        "id": "K6RN__jGchfF"
      },
      "source": [
        "### Model Error"
      ]
    },
    {
      "cell_type": "markdown",
      "metadata": {
        "id": "ENN-1q65jodF"
      },
      "source": [
        "**Mean Absolute Error (MAE)**\n",
        "\n",
        "An *error* is defined as the difference between the predicted value and the actual value.\n",
        "\n",
        "  $\\begin {equation}\n",
        "    error = y_{predicted} - y_{test}\n",
        "  \\end {equation}$\n",
        "\n",
        "Calculate the error for each row, then take the absolute value of them and finally compute the mean of all absolute prediction errors. \n",
        "\n",
        "The formula of MAE is:\n",
        "\n",
        "$\\begin {equation}\n",
        " MAE = \\frac{1}{n}  \\sum |error|\n",
        "\\end {equation}$\n",
        "\n",
        "This gives less weight to outliers, which is not sensitive to outliers."
      ]
    },
    {
      "cell_type": "code",
      "metadata": {
        "id": "i4rir7dzesai",
        "colab": {
          "base_uri": "https://localhost:8080/",
          "height": 34
        },
        "outputId": "157e2619-c6f9-4fe8-f448-5549476ff309"
      },
      "source": [
        "# MAE\n",
        "from sklearn.metrics import mean_absolute_error\n",
        "mean_absolute_error(y_test, y_predicted)"
      ],
      "execution_count": null,
      "outputs": [
        {
          "output_type": "execute_result",
          "data": {
            "text/plain": [
              "1.425969478596604"
            ]
          },
          "metadata": {
            "tags": []
          },
          "execution_count": 29
        }
      ]
    },
    {
      "cell_type": "markdown",
      "metadata": {
        "id": "DON1eGagnBIh"
      },
      "source": [
        "**Mean Squared Error (MSE)**\n",
        "\n",
        "MSE measures the average squared error of our predictions. For each point, it calculates square difference between the predicted value and the actual value and then average those values.\n",
        "\n",
        "The formula of MSE is:\n",
        "\n",
        "$\\begin {equation}\n",
        " MSE = \\frac{1}{n}  \\sum error^2\n",
        "\\end {equation}$\n",
        "\n",
        "In small scales where your errors are less than 1 because the values themselves are small, taking just the absolute might not be the best."
      ]
    },
    {
      "cell_type": "code",
      "metadata": {
        "id": "zN6ohC-_eurQ",
        "colab": {
          "base_uri": "https://localhost:8080/",
          "height": 34
        },
        "outputId": "f16e6818-7b3d-495f-cee4-ba85d1667a96"
      },
      "source": [
        "# MSE\n",
        "from sklearn.metrics import mean_squared_error\n",
        "mean_squared_error(y_test,y_predicted)"
      ],
      "execution_count": null,
      "outputs": [
        {
          "output_type": "execute_result",
          "data": {
            "text/plain": [
              "3.429006480219629"
            ]
          },
          "metadata": {
            "tags": []
          },
          "execution_count": 31
        }
      ]
    },
    {
      "cell_type": "markdown",
      "metadata": {
        "id": "OOZaC7MLscFQ"
      },
      "source": [
        "**Root mean square error (RMSE)**\n",
        "\n",
        "RMSE is the same as MSE except that it takes into account the scaling problem which is having the same unit of measure with the data.\n",
        "\n",
        "The formula of RMSE is:\n",
        "\n",
        "$\\begin {equation}\n",
        " RMSE = \\sqrt{ \\frac{1}{n}  \\sum error^2}\n",
        "\\end {equation}$"
      ]
    },
    {
      "cell_type": "code",
      "metadata": {
        "id": "nZyoRoKTckZ1"
      },
      "source": [
        "np.sqrt(mse(y_predicted, y_test)) # Root mean squared error"
      ],
      "execution_count": null,
      "outputs": []
    },
    {
      "cell_type": "markdown",
      "metadata": {
        "id": "MXtyBLrXfi87"
      },
      "source": [
        "This means that the root mean square error of any prediction done by the model against the actual value should be ~2 thousand dollars per campaign. Your predictions should deviate from the real values only by about 2 thousand dollars. This is high but we can further improve on this model by doing feature engineering but for now, this will do."
      ]
    },
    {
      "cell_type": "code",
      "metadata": {
        "id": "MBS6ezcWzuLM"
      },
      "source": [
        ""
      ],
      "execution_count": null,
      "outputs": []
    }
  ]
}