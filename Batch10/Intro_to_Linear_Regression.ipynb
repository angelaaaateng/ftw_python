{
  "cells": [
    {
      "cell_type": "markdown",
      "metadata": {
        "id": "view-in-github",
        "colab_type": "text"
      },
      "source": [
        "<a href=\"https://colab.research.google.com/github/angelaaaateng/ftw_python/blob/main/Batch10/Intro_to_Linear_Regression.ipynb\" target=\"_parent\"><img src=\"https://colab.research.google.com/assets/colab-badge.svg\" alt=\"Open In Colab\"/></a>"
      ]
    },
    {
      "cell_type": "markdown",
      "metadata": {
        "id": "GabGCh19zLvS"
      },
      "source": [
        "Regression\n",
        "===\n",
        "if the desired output consists of one or more continuous variables, then the task is called regression. An example of a regression problem would be the prediction of the length of a salmon based on its age and weight."
      ]
    },
    {
      "cell_type": "code",
      "execution_count": null,
      "metadata": {
        "id": "xGF6ZR_DzLva"
      },
      "outputs": [],
      "source": [
        "%matplotlib inline\n",
        "import matplotlib.pyplot as plt\n",
        "import seaborn as sns; sns.set()\n",
        "import numpy as np\n",
        "import pandas as pd"
      ]
    },
    {
      "cell_type": "markdown",
      "metadata": {
        "id": "00k8Ag6QzLve"
      },
      "source": [
        "# Simple Linear Regression\n",
        "We will start with the most familiar linear regression, a straight-line fit to data. A straight-line fit is a model of the form\n",
        ">y=ax+b\n",
        "\n",
        "where **a** is commonly known as the slope, and **b** is commonly known as the intercept while **y** is the dependent (target) and **x** is the independent(feature) variable/s\n",
        "\n",
        "Let's generate a random dataset of points scattered about a line with a slope of 2 and an intercept of -5 or y = 2x - 5:"
      ]
    },
    {
      "cell_type": "code",
      "execution_count": null,
      "metadata": {
        "colab": {
          "base_uri": "https://localhost:8080/"
        },
        "id": "wZy0ZF6ezLvf",
        "outputId": "94a062a9-a867-4a4c-b2e4-37591a6c85fa"
      },
      "outputs": [
        {
          "output_type": "stream",
          "name": "stdout",
          "text": [
            "          x         y\n",
            "0  4.170220  2.653267\n",
            "1  7.203245  8.561284\n",
            "2  0.001144 -5.668959\n",
            "3  3.023326  1.033987\n",
            "4  1.467559 -3.182193\n"
          ]
        }
      ],
      "source": [
        "#generate random points scattered around y = 2x - 5\n",
        "rng = np.random.RandomState(1)\n",
        "x = 10 * rng.rand(50) #let's generate some random numbers of x\n",
        "y = 2 * x - 5 + rng.randn(50) #let's plug the x values to y=ax+b\n",
        "\n",
        "#let's create a dataframe to display this dataset\n",
        "tmp_df = {}\n",
        "tmp_df['x'] = x\n",
        "tmp_df['y'] = y\n",
        "print(pd.DataFrame(tmp_df).head()) #display the first values of the dataset"
      ]
    },
    {
      "cell_type": "code",
      "execution_count": null,
      "metadata": {
        "colab": {
          "base_uri": "https://localhost:8080/",
          "height": 434
        },
        "id": "vqVPJB0mzLvg",
        "outputId": "b1d2b096-774a-460c-e914-f4fd2e17c79d"
      },
      "outputs": [
        {
          "output_type": "display_data",
          "data": {
            "text/plain": [
              "<Figure size 640x480 with 1 Axes>"
            ],
            "image/png": "[encoded data removed]"
          },
          "metadata": {}
        }
      ],
      "source": [
        "#this is what it looks like (clue: it looks linear!)\n",
        "plt.scatter(tmp_df['x'],tmp_df['y']);"
      ]
    },
    {
      "cell_type": "markdown",
      "metadata": {
        "id": "RXAR8PqfzLvj"
      },
      "source": [
        "\n",
        "### Gameplan (for linear regression)\n",
        "\n",
        "We will follow the following steps for linear regression, but it is also applicable when using Scikit-Learn.\n",
        "\n",
        "1.  Import the appropriate estimator class from Scikit-Learn. To import linear regression, type the following below:\n",
        "\n",
        "> from sklearn.linear_model import LinearRegression\n",
        "\n",
        "2.  Choose model hyperparameters by instantiating this class with desired values.\n",
        "\n",
        "> model = LinearRegression(fit_intercept=True)\n",
        "\n",
        "3.  Arrange data into a features matrix and target vector following the discussion above.\n",
        "\n",
        "4.  Fit the model to your data by calling the  `fit()`  method of the model instance.\n",
        "\n",
        "5.  Apply the Model to new data:\n",
        "    -   Since linear regression is under supervised learning,  we predict labels for unknown data using the `predict()`  method."
      ]
    },
    {
      "cell_type": "markdown",
      "metadata": {
        "id": "G3uE5DOjzLvl"
      },
      "source": [
        "## Let's try it!\n",
        "We can use Scikit-Learn's LinearRegression estimator to fit this data and construct the best-fit line:"
      ]
    },
    {
      "cell_type": "markdown",
      "metadata": {
        "id": "kzAP745tTPrM"
      },
      "source": [
        "### Univariate (one variable)"
      ]
    },
    {
      "cell_type": "markdown",
      "source": [
        "1.  Import the appropriate estimator class from Scikit-Learn.\n",
        "\n",
        "2.  Choose model hyperparameters by instantiating this class with desired values."
      ],
      "metadata": {
        "id": "Sj-vcbmfXTLh"
      }
    },
    {
      "cell_type": "code",
      "execution_count": null,
      "metadata": {
        "id": "QseSAGrVzLvm"
      },
      "outputs": [],
      "source": [
        "#1. import linear regression\n",
        "from sklearn.linear_model import LinearRegression #implements ordinary least squares\n",
        "\n",
        "#2. choose model hyperparameters\n",
        "model = LinearRegression(fit_intercept=True)\n"
      ]
    },
    {
      "cell_type": "markdown",
      "source": [
        "3.  Arrange data into a features matrix and target vector following the discussion above."
      ],
      "metadata": {
        "id": "OfThPYstX-tR"
      }
    },
    {
      "cell_type": "code",
      "source": [
        "#3. arrange data into a features matrix and target vector\n",
        "x = tmp_df['x'].reshape(50,-1) # reshape the input x so that it is acceptable by the model (a matrix of 50 samples of 1 feature)\n",
        "y = tmp_df['y']\n",
        "\n",
        "print(\"before: \",tmp_df['x'][0:5])\n",
        "print(\"after: \",tmp_df['x'].reshape(50,-1)[0:5])\n"
      ],
      "metadata": {
        "colab": {
          "base_uri": "https://localhost:8080/"
        },
        "id": "1ZmTt9g5Xrug",
        "outputId": "8bb379b7-8127-41cc-99d1-be69869188b2"
      },
      "execution_count": null,
      "outputs": [
        {
          "output_type": "stream",
          "name": "stdout",
          "text": [
            "before:  [4.17022005e+00 7.20324493e+00 1.14374817e-03 3.02332573e+00\n",
            " 1.46755891e+00]\n",
            "after:  [[4.17022005e+00]\n",
            " [7.20324493e+00]\n",
            " [1.14374817e-03]\n",
            " [3.02332573e+00]\n",
            " [1.46755891e+00]]\n"
          ]
        }
      ]
    },
    {
      "cell_type": "markdown",
      "source": [
        "4.  Fit the model to your data by calling the  `fit()`  method of the model instance."
      ],
      "metadata": {
        "id": "RRQXltLRYEgo"
      }
    },
    {
      "cell_type": "code",
      "source": [
        "#4. fit the model to the data\n",
        "model.fit( x,y )\n",
        "\n",
        "# Let's get some regression information\n",
        "\n",
        "print(\"Model slope:    \", model.coef_[0])\n",
        "print(\"Model intercept:\", model.intercept_)\n",
        "\n",
        "# Note not all regression models would be able to provide this information"
      ],
      "metadata": {
        "colab": {
          "base_uri": "https://localhost:8080/"
        },
        "id": "LUz8qtneYFXp",
        "outputId": "40bcd226-8b64-4ae0-8543-cd431c3ad1eb"
      },
      "execution_count": null,
      "outputs": [
        {
          "output_type": "stream",
          "name": "stdout",
          "text": [
            "Model slope:     2.0272088103606953\n",
            "Model intercept: -4.998577085553204\n"
          ]
        }
      ]
    },
    {
      "cell_type": "markdown",
      "source": [
        "5.  Apply the Model to new data"
      ],
      "metadata": {
        "id": "A8VQ42UKYLZQ"
      }
    },
    {
      "cell_type": "code",
      "execution_count": null,
      "metadata": {
        "colab": {
          "base_uri": "https://localhost:8080/"
        },
        "id": "SPNeNBN9zLvn",
        "outputId": "63a7d61a-05a4-477b-f2f2-5ba636bc596c"
      },
      "outputs": [
        {
          "output_type": "execute_result",
          "data": {
            "text/plain": [
              "array([-4.99857709])"
            ]
          },
          "metadata": {},
          "execution_count": 13
        }
      ],
      "source": [
        "# Test the model to predict from a single x-value\n",
        "\n",
        "model.predict([[0]]) #use the model to predict the value of y for x = 0\n",
        "\n",
        "#you can check this manually using the regression information above."
      ]
    },
    {
      "cell_type": "code",
      "execution_count": null,
      "metadata": {
        "colab": {
          "base_uri": "https://localhost:8080/",
          "height": 434
        },
        "id": "39Di98-XzLvn",
        "outputId": "1e2f369c-cecc-408b-cce1-ee1f5fa968be",
        "scrolled": true
      },
      "outputs": [
        {
          "output_type": "display_data",
          "data": {
            "text/plain": [
              "<Figure size 640x480 with 1 Axes>"
            ],
            "image/png": "[encoded data removed]"
          },
          "metadata": {}
        }
      ],
      "source": [
        "# Let's test this model on a set of new x-values\n",
        "\n",
        "xnew = np.linspace(0, 10, 50) #generate 50 numbers between 0 and 10 that are evenly spaced\n",
        "ypred = model.predict(xnew.reshape(50,-1))\n",
        "\n",
        "plt.scatter(x, y) #let's do a scatter plot of the original dataset\n",
        "plt.plot(xnew, ypred); #plot new xs and predicted ys to see how it fits the scatterplot of the original dataset"
      ]
    },
    {
      "cell_type": "markdown",
      "source": [
        "# Check assumptions\n",
        "Below is a short guide on checking if the assumptions for linear regression are satisfied:\n",
        "\n",
        "- **Linear relationship** - linearity\n",
        "scatter plots and correlation coefficient (r) for x and y should indicate a linear relationship\n",
        "\n",
        "- **Multivariate normality** - histogram of residuals should follow a normal distribution\n",
        "\n",
        "- **Homoscedasticity** - scatter plot of x and residuals should show no pattern\n",
        "\n",
        "- **No auto-correlation** - observations should be independent from each other, i.e. one observation should not be affected by another observation\n",
        "\n",
        "- **No or little multicollinearity** - for multiple linear regression, multicollinearity occurs when the independent variables are too highly correlated with each other.\n",
        "\n",
        "-- WARNING - if any of the above items are violated, it would be hard to trust your LR results!"
      ],
      "metadata": {
        "id": "ZPs1k76UaJzM"
      }
    },
    {
      "cell_type": "markdown",
      "source": [
        "## Linear relationship\n",
        "Let's check the scatter plot of x and y and correlation coefficient"
      ],
      "metadata": {
        "id": "aE0ewHZmcLiX"
      }
    },
    {
      "cell_type": "code",
      "source": [
        "plt.scatter(tmp_df['x'],tmp_df['y']);\n",
        "x_corr = tmp_df['x']\n",
        "y_corr = tmp_df['y']\n",
        "np.corrcoef(x_corr,y_corr)"
      ],
      "metadata": {
        "colab": {
          "base_uri": "https://localhost:8080/",
          "height": 470
        },
        "id": "0KSN43r-cQ_W",
        "outputId": "b633f711-83c0-437f-a1a5-c31cd47d3fee"
      },
      "execution_count": null,
      "outputs": [
        {
          "output_type": "execute_result",
          "data": {
            "text/plain": [
              "array([[1.        , 0.98948475],\n",
              "       [0.98948475, 1.        ]])"
            ]
          },
          "metadata": {},
          "execution_count": 17
        },
        {
          "output_type": "display_data",
          "data": {
            "text/plain": [
              "<Figure size 640x480 with 1 Axes>"
            ],
            "image/png": "[encoded data removed]"
          },
          "metadata": {}
        }
      ]
    },
    {
      "cell_type": "markdown",
      "source": [
        "## Multivariate normality\n",
        "Let's check if the residuals exhibit normality"
      ],
      "metadata": {
        "id": "vULiHccZf30v"
      }
    },
    {
      "cell_type": "code",
      "source": [
        "# Residuals\n",
        "residuals = y-ypred\n",
        "type(residuals)\n",
        "\n",
        "plt.hist(residuals)"
      ],
      "metadata": {
        "colab": {
          "base_uri": "https://localhost:8080/",
          "height": 523
        },
        "id": "Bo781UBCgFZb",
        "outputId": "f1ff390a-7c71-4be2-fd97-1c259fbc983b"
      },
      "execution_count": null,
      "outputs": [
        {
          "output_type": "execute_result",
          "data": {
            "text/plain": [
              "(array([3., 2., 6., 1., 7., 8., 6., 9., 4., 4.]),\n",
              " array([-17.87369764, -14.77171336, -11.66972907,  -8.56774478,\n",
              "         -5.4657605 ,  -2.36377621,   0.73820808,   3.84019237,\n",
              "          6.94217665,  10.04416094,  13.14614523]),\n",
              " <BarContainer object of 10 artists>)"
            ]
          },
          "metadata": {},
          "execution_count": 24
        },
        {
          "output_type": "display_data",
          "data": {
            "text/plain": [
              "<Figure size 640x480 with 1 Axes>"
            ],
            "image/png": "[encoded data removed]"
          },
          "metadata": {}
        }
      ]
    },
    {
      "cell_type": "markdown",
      "source": [
        "## Homoscedascity\n",
        "Let's see if the residual plot exhibits a pattern"
      ],
      "metadata": {
        "id": "KFd3vGnxiGrZ"
      }
    },
    {
      "cell_type": "code",
      "source": [
        "plt.scatter(x_corr, residuals)"
      ],
      "metadata": {
        "colab": {
          "base_uri": "https://localhost:8080/",
          "height": 452
        },
        "id": "K-6kwmIYiRz9",
        "outputId": "d94b1515-615e-486b-a18b-293c2be53c62"
      },
      "execution_count": null,
      "outputs": [
        {
          "output_type": "execute_result",
          "data": {
            "text/plain": [
              "<matplotlib.collections.PathCollection at 0x7acfb6339570>"
            ]
          },
          "metadata": {},
          "execution_count": 25
        },
        {
          "output_type": "display_data",
          "data": {
            "text/plain": [
              "<Figure size 640x480 with 1 Axes>"
            ],
            "image/png": "[encoded data removed]"
          },
          "metadata": {}
        }
      ]
    },
    {
      "cell_type": "markdown",
      "source": [
        "## Auto-correlation and Multicollinearity\n",
        "\n",
        "- For auto-correlation, we can assume that each data point is independent from each other\n",
        "- For multicollinearity, since there is only one independent variable, we do not need to check for multicollinearity"
      ],
      "metadata": {
        "id": "VvYNYNe4jAiq"
      }
    },
    {
      "cell_type": "markdown",
      "metadata": {
        "id": "W6GqKVP8zLvp"
      },
      "source": [
        "# Model Evaluation\n",
        "\n",
        "Below are some notes for the metrics for evaluating the model:\n",
        "\n",
        "- R - Squared: close to 1 is good\n",
        "- MAE (Mean Absolute Error): close to 0 is good\n",
        "- MSE (Mean Squared Error): close to 0 is good\n",
        "- RMSE (Root Mean Squared Error): close to 0 is good\n",
        "\n"
      ]
    },
    {
      "cell_type": "code",
      "source": [
        "import sklearn.metrics as metrics\n",
        "\n",
        "yactual = 2 * xnew - 5 # let's compute our actual y based on the provided formula and compare to ypred\n",
        "mae = metrics.mean_absolute_error(yactual, ypred) # closer to 0 is good.\n",
        "mse = metrics.mean_squared_error(yactual, ypred) # closer to 0 is good.\n",
        "rmse = np.sqrt(mse) # or mse**(0.5)  # closer to 0 is good.\n",
        "r2 = metrics.r2_score(yactual,ypred)  # closer to 1 is good.\n",
        "\n",
        "print(\"Results of sklearn.metrics:\")\n",
        "print(\"MAE:\",mae)\n",
        "print(\"MSE:\", mse)\n",
        "print(\"RMSE:\", rmse)\n",
        "print(\"R-Squared:\", r2)"
      ],
      "metadata": {
        "colab": {
          "base_uri": "https://localhost:8080/"
        },
        "id": "F5-Eygg7lAH2",
        "outputId": "894e9413-3430-4c4e-f1c6-65bb235be85b"
      },
      "execution_count": null,
      "outputs": [
        {
          "output_type": "stream",
          "name": "stdout",
          "text": [
            "Results of sklearn.metrics:\n",
            "MAE: 0.1374669662502729\n",
            "MSE: 0.025318304126968325\n",
            "RMSE: 0.15911726533273604\n",
            "R-Squared: 0.9992702371163403\n"
          ]
        }
      ]
    },
    {
      "cell_type": "markdown",
      "metadata": {
        "id": "6T_BCUOazLvq"
      },
      "source": [
        "# Congrats! It's your first model. Notice anything?\n",
        "\n",
        "Sklearn makes it so easy for anyone to do any type of prediction! (specially from a bunch of random numbers!).\n",
        "\n",
        "Now, how do we ensure that the models we are developing are valid?\n",
        "\n",
        "* Goodness of fit - is the model underfit/ overfit?\n",
        "* Prediction accuracy - is the model able to predict accurately from unknown data?\n",
        "* Usability - is the model designed in such a way that it is not too complex that it cannot be used"
      ]
    },
    {
      "cell_type": "markdown",
      "source": [
        "# Try it out!\n",
        "\n",
        "Can you try predicting the age of a person using their salary?\n",
        "\n",
        "Let's load and prepare the Salary Dataset."
      ],
      "metadata": {
        "id": "PfX6cJXxBSJi"
      }
    },
    {
      "cell_type": "code",
      "source": [
        "df = pd.read_excel(\"Ask A Manager Salary Survey 2021 (Responses) - Form Responses 1_UPDATED (3).xlsx\")\n",
        "df = df.drop('Unnamed: 0', axis =1)\n",
        "df.rename(columns={'Timestamp':'time',\n",
        "                     'How old are you?': 'age',\n",
        "                     'What industry do you work in?':'industry',\n",
        "                     'Job title': 'job',\n",
        "                     'If your job title needs additional context, please clarify here:':'job_others',\n",
        "                     \"What is your annual salary? (You'll indicate the currency in a later question. If you are part-time or hourly, please enter an annualized equivalent -- what you would earn if you worked the job 40 hours a week, 52 weeks a year.)\": 'annual_salary' , 'How much additional monetary compensation do you get, if any (for example, bonuses or overtime in an average year)? Please only include monetary compensation here, not the value of benefits.' : 'addtl_compensation',\n",
        "                     'Please indicate the currency': \"currency\",\n",
        "                     'If \"Other,\" please indicate the currency here: ': \"currency_others\",\n",
        "                     'If your income needs additional context, please provide it here:': \"income_addlcontext\",\n",
        "                     'What country do you work in?': \"work_country\",\n",
        "                     \"If you're in the U.S., what state do you work in?\" : \"US_state\",\n",
        "                     'What city do you work in?': \"city\",\n",
        "                     'How many years of professional work experience do you have overall?': \"yrs_exp\",\n",
        "                     'How many years of professional work experience do you have in your field?' : 'yrs_exp_field',\n",
        "                     'What is your highest level of education completed?': \"educ_level\",\n",
        "                     'What is your gender?': \"gender\",\n",
        "                     'What is your race? (Choose all that apply.)' : \"race\"},\n",
        "            inplace=True)\n",
        "df['annual_salary'] = df['annual_salary'].str.replace(',', '')\n",
        "df['annual_salary'] = df['annual_salary'].astype('float')"
      ],
      "metadata": {
        "id": "U23cKYHvCR_5"
      },
      "execution_count": null,
      "outputs": []
    },
    {
      "cell_type": "code",
      "source": [
        "df.info()"
      ],
      "metadata": {
        "colab": {
          "base_uri": "https://localhost:8080/"
        },
        "id": "__2_8CEzCWRu",
        "outputId": "5f438e8b-1a35-46f1-e91c-d686d92f7e4c"
      },
      "execution_count": null,
      "outputs": [
        {
          "output_type": "stream",
          "name": "stdout",
          "text": [
            "<class 'pandas.core.frame.DataFrame'>\n",
            "RangeIndex: 28042 entries, 0 to 28041\n",
            "Data columns (total 18 columns):\n",
            " #   Column              Non-Null Count  Dtype  \n",
            "---  ------              --------------  -----  \n",
            " 0   time                28042 non-null  object \n",
            " 1   age                 28042 non-null  int64  \n",
            " 2   industry            27968 non-null  object \n",
            " 3   job                 28041 non-null  object \n",
            " 4   job_others          7259 non-null   object \n",
            " 5   annual_salary       28042 non-null  float64\n",
            " 6   addtl_compensation  20755 non-null  float64\n",
            " 7   currency            28042 non-null  object \n",
            " 8   currency_others     202 non-null    object \n",
            " 9   income_addlcontext  3040 non-null   object \n",
            " 10  work_country        28042 non-null  object \n",
            " 11  US_state            23028 non-null  object \n",
            " 12  city                27960 non-null  object \n",
            " 13  yrs_exp             28042 non-null  int64  \n",
            " 14  yrs_exp_field       28042 non-null  int64  \n",
            " 15  educ_level          27823 non-null  object \n",
            " 16  gender              27872 non-null  object \n",
            " 17  race                27867 non-null  object \n",
            "dtypes: float64(2), int64(3), object(13)\n",
            "memory usage: 3.9+ MB\n"
          ]
        }
      ]
    },
    {
      "cell_type": "code",
      "source": [
        "df.describe() # check if there are any missing values"
      ],
      "metadata": {
        "colab": {
          "base_uri": "https://localhost:8080/",
          "height": 320
        },
        "id": "80eV6TWUCYmT",
        "outputId": "e116aa19-4bbb-4d14-9548-f04de4df17d5"
      },
      "execution_count": null,
      "outputs": [
        {
          "output_type": "execute_result",
          "data": {
            "text/plain": [
              "                age  annual_salary  addtl_compensation       yrs_exp  \\\n",
              "count  28042.000000   2.804200e+04        2.075500e+04  28042.000000   \n",
              "mean      36.138649   1.475411e+05        1.816943e+04     23.323800   \n",
              "std        9.322576   5.409978e+06        8.342741e+05     18.065223   \n",
              "min       14.000000   0.000000e+00        0.000000e+00      0.000000   \n",
              "25%       29.000000   5.400000e+04        0.000000e+00      7.000000   \n",
              "50%       35.000000   7.500000e+04        2.000000e+03     21.000000   \n",
              "75%       42.000000   1.100000e+05        1.000000e+04     43.000000   \n",
              "max       85.000000   8.700000e+08        1.200000e+08     50.000000   \n",
              "\n",
              "       yrs_exp_field  \n",
              "count   28042.000000  \n",
              "mean       16.539583  \n",
              "std        17.326083  \n",
              "min         0.000000  \n",
              "25%         4.000000  \n",
              "50%         7.000000  \n",
              "75%        30.000000  \n",
              "max        50.000000  "
            ],
            "text/html": [
              "\n",
              "  <div id=\"df-f7f61075-bf0d-4f5e-918e-6aad47282bc9\" class=\"colab-df-container\">\n",
              "    <div>\n",
              "<style scoped>\n",
              "    .dataframe tbody tr th:only-of-type {\n",
              "        vertical-align: middle;\n",
              "    }\n",
              "\n",
              "    .dataframe tbody tr th {\n",
              "        vertical-align: top;\n",
              "    }\n",
              "\n",
              "    .dataframe thead th {\n",
              "        text-align: right;\n",
              "    }\n",
              "</style>\n",
              "<table border=\"1\" class=\"dataframe\">\n",
              "  <thead>\n",
              "    <tr style=\"text-align: right;\">\n",
              "      <th></th>\n",
              "      <th>age</th>\n",
              "      <th>annual_salary</th>\n",
              "      <th>addtl_compensation</th>\n",
              "      <th>yrs_exp</th>\n",
              "      <th>yrs_exp_field</th>\n",
              "    </tr>\n",
              "  </thead>\n",
              "  <tbody>\n",
              "    <tr>\n",
              "      <th>count</th>\n",
              "      <td>28042.000000</td>\n",
              "      <td>2.804200e+04</td>\n",
              "      <td>2.075500e+04</td>\n",
              "      <td>28042.000000</td>\n",
              "      <td>28042.000000</td>\n",
              "    </tr>\n",
              "    <tr>\n",
              "      <th>mean</th>\n",
              "      <td>36.138649</td>\n",
              "      <td>1.475411e+05</td>\n",
              "      <td>1.816943e+04</td>\n",
              "      <td>23.323800</td>\n",
              "      <td>16.539583</td>\n",
              "    </tr>\n",
              "    <tr>\n",
              "      <th>std</th>\n",
              "      <td>9.322576</td>\n",
              "      <td>5.409978e+06</td>\n",
              "      <td>8.342741e+05</td>\n",
              "      <td>18.065223</td>\n",
              "      <td>17.326083</td>\n",
              "    </tr>\n",
              "    <tr>\n",
              "      <th>min</th>\n",
              "      <td>14.000000</td>\n",
              "      <td>0.000000e+00</td>\n",
              "      <td>0.000000e+00</td>\n",
              "      <td>0.000000</td>\n",
              "      <td>0.000000</td>\n",
              "    </tr>\n",
              "    <tr>\n",
              "      <th>25%</th>\n",
              "      <td>29.000000</td>\n",
              "      <td>5.400000e+04</td>\n",
              "      <td>0.000000e+00</td>\n",
              "      <td>7.000000</td>\n",
              "      <td>4.000000</td>\n",
              "    </tr>\n",
              "    <tr>\n",
              "      <th>50%</th>\n",
              "      <td>35.000000</td>\n",
              "      <td>7.500000e+04</td>\n",
              "      <td>2.000000e+03</td>\n",
              "      <td>21.000000</td>\n",
              "      <td>7.000000</td>\n",
              "    </tr>\n",
              "    <tr>\n",
              "      <th>75%</th>\n",
              "      <td>42.000000</td>\n",
              "      <td>1.100000e+05</td>\n",
              "      <td>1.000000e+04</td>\n",
              "      <td>43.000000</td>\n",
              "      <td>30.000000</td>\n",
              "    </tr>\n",
              "    <tr>\n",
              "      <th>max</th>\n",
              "      <td>85.000000</td>\n",
              "      <td>8.700000e+08</td>\n",
              "      <td>1.200000e+08</td>\n",
              "      <td>50.000000</td>\n",
              "      <td>50.000000</td>\n",
              "    </tr>\n",
              "  </tbody>\n",
              "</table>\n",
              "</div>\n",
              "    <div class=\"colab-df-buttons\">\n",
              "\n",
              "  <div class=\"colab-df-container\">\n",
              "    <button class=\"colab-df-convert\" onclick=\"convertToInteractive('df-f7f61075-bf0d-4f5e-918e-6aad47282bc9')\"\n",
              "            title=\"Convert this dataframe to an interactive table.\"\n",
              "            style=\"display:none;\">\n",
              "\n",
              "  <svg xmlns=\"http://www.w3.org/2000/svg\" height=\"24px\" viewBox=\"0 -960 960 960\">\n",
              "    <path d=\"M120-120v-720h720v720H120Zm60-500h600v-160H180v160Zm220 220h160v-160H400v160Zm0 220h160v-160H400v160ZM180-400h160v-160H180v160Zm440 0h160v-160H620v160ZM180-180h160v-160H180v160Zm440 0h160v-160H620v160Z\"/>\n",
              "  </svg>\n",
              "    </button>\n",
              "\n",
              "  <style>\n",
              "    .colab-df-container {\n",
              "      display:flex;\n",
              "      gap: 12px;\n",
              "    }\n",
              "\n",
              "    .colab-df-convert {\n",
              "      background-color: #E8F0FE;\n",
              "      border: none;\n",
              "      border-radius: 50%;\n",
              "      cursor: pointer;\n",
              "      display: none;\n",
              "      fill: #1967D2;\n",
              "      height: 32px;\n",
              "      padding: 0 0 0 0;\n",
              "      width: 32px;\n",
              "    }\n",
              "\n",
              "    .colab-df-convert:hover {\n",
              "      background-color: #E2EBFA;\n",
              "      box-shadow: 0px 1px 2px rgba(60, 64, 67, 0.3), 0px 1px 3px 1px rgba(60, 64, 67, 0.15);\n",
              "      fill: #174EA6;\n",
              "    }\n",
              "\n",
              "    .colab-df-buttons div {\n",
              "      margin-bottom: 4px;\n",
              "    }\n",
              "\n",
              "    [theme=dark] .colab-df-convert {\n",
              "      background-color: #3B4455;\n",
              "      fill: #D2E3FC;\n",
              "    }\n",
              "\n",
              "    [theme=dark] .colab-df-convert:hover {\n",
              "      background-color: #434B5C;\n",
              "      box-shadow: 0px 1px 3px 1px rgba(0, 0, 0, 0.15);\n",
              "      filter: drop-shadow(0px 1px 2px rgba(0, 0, 0, 0.3));\n",
              "      fill: #FFFFFF;\n",
              "    }\n",
              "  </style>\n",
              "\n",
              "    <script>\n",
              "      const buttonEl =\n",
              "        document.querySelector('#df-f7f61075-bf0d-4f5e-918e-6aad47282bc9 button.colab-df-convert');\n",
              "      buttonEl.style.display =\n",
              "        google.colab.kernel.accessAllowed ? 'block' : 'none';\n",
              "\n",
              "      async function convertToInteractive(key) {\n",
              "        const element = document.querySelector('#df-f7f61075-bf0d-4f5e-918e-6aad47282bc9');\n",
              "        const dataTable =\n",
              "          await google.colab.kernel.invokeFunction('convertToInteractive',\n",
              "                                                    [key], {});\n",
              "        if (!dataTable) return;\n",
              "\n",
              "        const docLinkHtml = 'Like what you see? Visit the ' +\n",
              "          '<a target=\"_blank\" href=https://colab.research.google.com/notebooks/data_table.ipynb>data table notebook</a>'\n",
              "          + ' to learn more about interactive tables.';\n",
              "        element.innerHTML = '';\n",
              "        dataTable['output_type'] = 'display_data';\n",
              "        await google.colab.output.renderOutput(dataTable, element);\n",
              "        const docLink = document.createElement('div');\n",
              "        docLink.innerHTML = docLinkHtml;\n",
              "        element.appendChild(docLink);\n",
              "      }\n",
              "    </script>\n",
              "  </div>\n",
              "\n",
              "\n",
              "<div id=\"df-18293cb7-34f7-41b4-a34a-e30818474739\">\n",
              "  <button class=\"colab-df-quickchart\" onclick=\"quickchart('df-18293cb7-34f7-41b4-a34a-e30818474739')\"\n",
              "            title=\"Suggest charts\"\n",
              "            style=\"display:none;\">\n",
              "\n",
              "<svg xmlns=\"http://www.w3.org/2000/svg\" height=\"24px\"viewBox=\"0 0 24 24\"\n",
              "     width=\"24px\">\n",
              "    <g>\n",
              "        <path d=\"M19 3H5c-1.1 0-2 .9-2 2v14c0 1.1.9 2 2 2h14c1.1 0 2-.9 2-2V5c0-1.1-.9-2-2-2zM9 17H7v-7h2v7zm4 0h-2V7h2v10zm4 0h-2v-4h2v4z\"/>\n",
              "    </g>\n",
              "</svg>\n",
              "  </button>\n",
              "\n",
              "<style>\n",
              "  .colab-df-quickchart {\n",
              "      --bg-color: #E8F0FE;\n",
              "      --fill-color: #1967D2;\n",
              "      --hover-bg-color: #E2EBFA;\n",
              "      --hover-fill-color: #174EA6;\n",
              "      --disabled-fill-color: #AAA;\n",
              "      --disabled-bg-color: #DDD;\n",
              "  }\n",
              "\n",
              "  [theme=dark] .colab-df-quickchart {\n",
              "      --bg-color: #3B4455;\n",
              "      --fill-color: #D2E3FC;\n",
              "      --hover-bg-color: #434B5C;\n",
              "      --hover-fill-color: #FFFFFF;\n",
              "      --disabled-bg-color: #3B4455;\n",
              "      --disabled-fill-color: #666;\n",
              "  }\n",
              "\n",
              "  .colab-df-quickchart {\n",
              "    background-color: var(--bg-color);\n",
              "    border: none;\n",
              "    border-radius: 50%;\n",
              "    cursor: pointer;\n",
              "    display: none;\n",
              "    fill: var(--fill-color);\n",
              "    height: 32px;\n",
              "    padding: 0;\n",
              "    width: 32px;\n",
              "  }\n",
              "\n",
              "  .colab-df-quickchart:hover {\n",
              "    background-color: var(--hover-bg-color);\n",
              "    box-shadow: 0 1px 2px rgba(60, 64, 67, 0.3), 0 1px 3px 1px rgba(60, 64, 67, 0.15);\n",
              "    fill: var(--button-hover-fill-color);\n",
              "  }\n",
              "\n",
              "  .colab-df-quickchart-complete:disabled,\n",
              "  .colab-df-quickchart-complete:disabled:hover {\n",
              "    background-color: var(--disabled-bg-color);\n",
              "    fill: var(--disabled-fill-color);\n",
              "    box-shadow: none;\n",
              "  }\n",
              "\n",
              "  .colab-df-spinner {\n",
              "    border: 2px solid var(--fill-color);\n",
              "    border-color: transparent;\n",
              "    border-bottom-color: var(--fill-color);\n",
              "    animation:\n",
              "      spin 1s steps(1) infinite;\n",
              "  }\n",
              "\n",
              "  @keyframes spin {\n",
              "    0% {\n",
              "      border-color: transparent;\n",
              "      border-bottom-color: var(--fill-color);\n",
              "      border-left-color: var(--fill-color);\n",
              "    }\n",
              "    20% {\n",
              "      border-color: transparent;\n",
              "      border-left-color: var(--fill-color);\n",
              "      border-top-color: var(--fill-color);\n",
              "    }\n",
              "    30% {\n",
              "      border-color: transparent;\n",
              "      border-left-color: var(--fill-color);\n",
              "      border-top-color: var(--fill-color);\n",
              "      border-right-color: var(--fill-color);\n",
              "    }\n",
              "    40% {\n",
              "      border-color: transparent;\n",
              "      border-right-color: var(--fill-color);\n",
              "      border-top-color: var(--fill-color);\n",
              "    }\n",
              "    60% {\n",
              "      border-color: transparent;\n",
              "      border-right-color: var(--fill-color);\n",
              "    }\n",
              "    80% {\n",
              "      border-color: transparent;\n",
              "      border-right-color: var(--fill-color);\n",
              "      border-bottom-color: var(--fill-color);\n",
              "    }\n",
              "    90% {\n",
              "      border-color: transparent;\n",
              "      border-bottom-color: var(--fill-color);\n",
              "    }\n",
              "  }\n",
              "</style>\n",
              "\n",
              "  <script>\n",
              "    async function quickchart(key) {\n",
              "      const quickchartButtonEl =\n",
              "        document.querySelector('#' + key + ' button');\n",
              "      quickchartButtonEl.disabled = true;  // To prevent multiple clicks.\n",
              "      quickchartButtonEl.classList.add('colab-df-spinner');\n",
              "      try {\n",
              "        const charts = await google.colab.kernel.invokeFunction(\n",
              "            'suggestCharts', [key], {});\n",
              "      } catch (error) {\n",
              "        console.error('Error during call to suggestCharts:', error);\n",
              "      }\n",
              "      quickchartButtonEl.classList.remove('colab-df-spinner');\n",
              "      quickchartButtonEl.classList.add('colab-df-quickchart-complete');\n",
              "    }\n",
              "    (() => {\n",
              "      let quickchartButtonEl =\n",
              "        document.querySelector('#df-18293cb7-34f7-41b4-a34a-e30818474739 button');\n",
              "      quickchartButtonEl.style.display =\n",
              "        google.colab.kernel.accessAllowed ? 'block' : 'none';\n",
              "    })();\n",
              "  </script>\n",
              "</div>\n",
              "\n",
              "    </div>\n",
              "  </div>\n"
            ],
            "application/vnd.google.colaboratory.intrinsic+json": {
              "type": "dataframe",
              "summary": "{\n  \"name\": \"df\",\n  \"rows\": 8,\n  \"fields\": [\n    {\n      \"column\": \"age\",\n      \"properties\": {\n        \"dtype\": \"number\",\n        \"std\": 9901.720540560531,\n        \"min\": 9.32257552748333,\n        \"max\": 28042.0,\n        \"num_unique_values\": 8,\n        \"samples\": [\n          36.13864916910349,\n          35.0,\n          28042.0\n        ],\n        \"semantic_type\": \"\",\n        \"description\": \"\"\n      }\n    },\n    {\n      \"column\": \"annual_salary\",\n      \"properties\": {\n        \"dtype\": \"number\",\n        \"std\": 307302951.5953484,\n        \"min\": 0.0,\n        \"max\": 870000000.0,\n        \"num_unique_values\": 8,\n        \"samples\": [\n          147541.07963055416,\n          75000.0,\n          28042.0\n        ],\n        \"semantic_type\": \"\",\n        \"description\": \"\"\n      }\n    },\n    {\n      \"column\": \"addtl_compensation\",\n      \"properties\": {\n        \"dtype\": \"number\",\n        \"std\": 42382683.418941155,\n        \"min\": 0.0,\n        \"max\": 120000000.0,\n        \"num_unique_values\": 7,\n        \"samples\": [\n          20755.0,\n          18169.431462298242,\n          10000.0\n        ],\n        \"semantic_type\": \"\",\n        \"description\": \"\"\n      }\n    },\n    {\n      \"column\": \"yrs_exp\",\n      \"properties\": {\n        \"dtype\": \"number\",\n        \"std\": 9906.156298951662,\n        \"min\": 0.0,\n        \"max\": 28042.0,\n        \"num_unique_values\": 8,\n        \"samples\": [\n          23.323800014264318,\n          21.0,\n          28042.0\n        ],\n        \"semantic_type\": \"\",\n        \"description\": \"\"\n      }\n    },\n    {\n      \"column\": \"yrs_exp_field\",\n      \"properties\": {\n        \"dtype\": \"number\",\n        \"std\": 9908.050569136785,\n        \"min\": 0.0,\n        \"max\": 28042.0,\n        \"num_unique_values\": 8,\n        \"samples\": [\n          16.539583481919976,\n          7.0,\n          28042.0\n        ],\n        \"semantic_type\": \"\",\n        \"description\": \"\"\n      }\n    }\n  ]\n}"
            }
          },
          "metadata": {},
          "execution_count": 17
        }
      ]
    },
    {
      "cell_type": "code",
      "source": [
        "#remove outliers\n",
        "Q1c=df.annual_salary.quantile(0.25)\n",
        "Q3c=df.annual_salary.quantile(0.75)\n",
        "print('1stQ: ',Q1c, ' 2nsQ: ',Q3c)\n",
        "\n",
        "IQRc = Q3c-Q1c\n",
        "l=Q1c-1.5*IQRc\n",
        "h=Q3c+1.5*IQRc\n",
        "\n",
        "print(df.shape, l, h)\n",
        "df1 = df[(df.annual_salary >l)&(df.annual_salary < h)]\n",
        "print(df1.shape)"
      ],
      "metadata": {
        "colab": {
          "base_uri": "https://localhost:8080/"
        },
        "id": "ST2fMePCCbZN",
        "outputId": "0e2d83d5-e16d-4579-f190-4afb153d3f66"
      },
      "execution_count": null,
      "outputs": [
        {
          "output_type": "stream",
          "name": "stdout",
          "text": [
            "1stQ:  54000.0  2nsQ:  110000.0\n",
            "(28042, 18) -30000.0 194000.0\n",
            "(26853, 18)\n"
          ]
        }
      ]
    },
    {
      "cell_type": "markdown",
      "source": [
        "Your turn: create a linear regression model predicting a person's age from their salary (Hint: you can follow the process earlier--steps are in the comments.)"
      ],
      "metadata": {
        "id": "1Xr2BHtUCndb"
      }
    },
    {
      "cell_type": "code",
      "source": [
        "#1. import linear regression\n",
        "from sklearn.linear_model import LinearRegression\n",
        "\n",
        "#2. choose model hyperparameters\n",
        "model = LinearRegression(fit_intercept=True)\n",
        "\n",
        "#3. arrange data into a features matrix and target vector\n",
        "x = df1[['annual_salary']]\n",
        "y = df1[['age']]\n",
        "\n",
        "#print(x.shape)\n",
        "#print(y.shape)\n",
        "\n",
        "#4. fit the model to the data\n",
        "model.fit(x,y)\n",
        "\n",
        "print(\"Model slope:    \", model.coef_[0])\n",
        "print(\"Model intercept:\", model.intercept_)\n",
        "\n",
        "#5. predict the age for a salary of 100,000\n",
        "model.predict([[100000]])"
      ],
      "metadata": {
        "colab": {
          "base_uri": "https://localhost:8080/"
        },
        "id": "mBi18mKYCvro",
        "outputId": "42a71583-f62c-479e-bd58-d3c9d2bf2bf0"
      },
      "execution_count": null,
      "outputs": [
        {
          "output_type": "stream",
          "name": "stdout",
          "text": [
            "Model slope:     [4.19183722e-05]\n",
            "Model intercept: [32.61548643]\n"
          ]
        },
        {
          "output_type": "stream",
          "name": "stderr",
          "text": [
            "/usr/local/lib/python3.10/dist-packages/sklearn/utils/validation.py:2739: UserWarning: X does not have valid feature names, but LinearRegression was fitted with feature names\n",
            "  warnings.warn(\n"
          ]
        },
        {
          "output_type": "execute_result",
          "data": {
            "text/plain": [
              "array([[36.80732365]])"
            ]
          },
          "metadata": {},
          "execution_count": 32
        }
      ]
    },
    {
      "cell_type": "markdown",
      "source": [
        "# Multiple linear regression\n",
        "\n",
        "Multiple linear regression (MLR), also known simply as multiple regression, is a statistical technique that uses several explanatory variables to predict the outcome of a response variable.\n",
        "\n",
        "The method is broadly used to predict the behavior of the response variables associated to changes in the predictor variables, once a desired degree of relation has been established.\n",
        "\n",
        "Let's use our Salary Dataset\n"
      ],
      "metadata": {
        "id": "ALBpj6kVo4wg"
      }
    },
    {
      "cell_type": "markdown",
      "metadata": {
        "id": "F5m2NUvUzLvt"
      },
      "source": [
        "## MODEL 0 (Baseline Model)\n",
        "Lets use annual salary *and* years of experience to predict the age."
      ]
    },
    {
      "cell_type": "code",
      "execution_count": null,
      "metadata": {
        "id": "nyAZ-UxjzLvt"
      },
      "outputs": [],
      "source": [
        "#1. import linear regression\n",
        "from sklearn.linear_model import LinearRegression #implements ordinary least squares\n",
        "\n",
        "#2. choose model hyperparameters\n",
        "model = LinearRegression()\n",
        "\n",
        "#3. arrange data into a features matrix and target vector\n",
        "x = df1[['annual_salary','yrs_exp']]\n",
        "y = df1['age']\n",
        "\n",
        "\n",
        "\n"
      ]
    },
    {
      "cell_type": "markdown",
      "metadata": {
        "id": "_xzzPm0VzLvt"
      },
      "source": [
        "### Hold out method\n",
        "how do we ensure that our model would be able to generalize where it can handle unknown data? aka prevent overfitting"
      ]
    },
    {
      "cell_type": "code",
      "execution_count": null,
      "metadata": {
        "colab": {
          "base_uri": "https://localhost:8080/"
        },
        "id": "enJf_GM6zLvv",
        "outputId": "8c717eac-6079-40cb-a4fd-0143778292c7"
      },
      "outputs": [
        {
          "output_type": "stream",
          "name": "stdout",
          "text": [
            "X_train data: (17991, 2)\n",
            "y_train data: (17991,)\n",
            "X_test data: (8862, 2)\n",
            "y_test data: (8862,)\n"
          ]
        }
      ],
      "source": [
        "from sklearn.model_selection import train_test_split\n",
        "X_train, X_test, y_train, y_test = train_test_split(x, y, test_size=0.33, random_state=53)\n",
        "\n",
        "print(\"X_train data:\",X_train.shape)\n",
        "print(\"y_train data:\",y_train.shape)\n",
        "print(\"X_test data:\",X_test.shape)\n",
        "print(\"y_test data:\",y_test.shape)\n",
        "\n",
        "# now we have a test data that is \"unknown\" to the model that we can later use to compare if it was able to predict accurately"
      ]
    },
    {
      "cell_type": "code",
      "execution_count": null,
      "metadata": {
        "colab": {
          "base_uri": "https://localhost:8080/",
          "height": 80
        },
        "id": "UHAYjEBCzLvv",
        "outputId": "ee170b7e-46f2-4a5b-c5bd-732ca5e816e9"
      },
      "outputs": [
        {
          "output_type": "execute_result",
          "data": {
            "text/plain": [
              "LinearRegression()"
            ],
            "text/html": [
              "<style>#sk-container-id-5 {\n",
              "  /* Definition of color scheme common for light and dark mode */\n",
              "  --sklearn-color-text: #000;\n",
              "  --sklearn-color-text-muted: #666;\n",
              "  --sklearn-color-line: gray;\n",
              "  /* Definition of color scheme for unfitted estimators */\n",
              "  --sklearn-color-unfitted-level-0: #fff5e6;\n",
              "  --sklearn-color-unfitted-level-1: #f6e4d2;\n",
              "  --sklearn-color-unfitted-level-2: #ffe0b3;\n",
              "  --sklearn-color-unfitted-level-3: chocolate;\n",
              "  /* Definition of color scheme for fitted estimators */\n",
              "  --sklearn-color-fitted-level-0: #f0f8ff;\n",
              "  --sklearn-color-fitted-level-1: #d4ebff;\n",
              "  --sklearn-color-fitted-level-2: #b3dbfd;\n",
              "  --sklearn-color-fitted-level-3: cornflowerblue;\n",
              "\n",
              "  /* Specific color for light theme */\n",
              "  --sklearn-color-text-on-default-background: var(--sg-text-color, var(--theme-code-foreground, var(--jp-content-font-color1, black)));\n",
              "  --sklearn-color-background: var(--sg-background-color, var(--theme-background, var(--jp-layout-color0, white)));\n",
              "  --sklearn-color-border-box: var(--sg-text-color, var(--theme-code-foreground, var(--jp-content-font-color1, black)));\n",
              "  --sklearn-color-icon: #696969;\n",
              "\n",
              "  @media (prefers-color-scheme: dark) {\n",
              "    /* Redefinition of color scheme for dark theme */\n",
              "    --sklearn-color-text-on-default-background: var(--sg-text-color, var(--theme-code-foreground, var(--jp-content-font-color1, white)));\n",
              "    --sklearn-color-background: var(--sg-background-color, var(--theme-background, var(--jp-layout-color0, #111)));\n",
              "    --sklearn-color-border-box: var(--sg-text-color, var(--theme-code-foreground, var(--jp-content-font-color1, white)));\n",
              "    --sklearn-color-icon: #878787;\n",
              "  }\n",
              "}\n",
              "\n",
              "#sk-container-id-5 {\n",
              "  color: var(--sklearn-color-text);\n",
              "}\n",
              "\n",
              "#sk-container-id-5 pre {\n",
              "  padding: 0;\n",
              "}\n",
              "\n",
              "#sk-container-id-5 input.sk-hidden--visually {\n",
              "  border: 0;\n",
              "  clip: rect(1px 1px 1px 1px);\n",
              "  clip: rect(1px, 1px, 1px, 1px);\n",
              "  height: 1px;\n",
              "  margin: -1px;\n",
              "  overflow: hidden;\n",
              "  padding: 0;\n",
              "  position: absolute;\n",
              "  width: 1px;\n",
              "}\n",
              "\n",
              "#sk-container-id-5 div.sk-dashed-wrapped {\n",
              "  border: 1px dashed var(--sklearn-color-line);\n",
              "  margin: 0 0.4em 0.5em 0.4em;\n",
              "  box-sizing: border-box;\n",
              "  padding-bottom: 0.4em;\n",
              "  background-color: var(--sklearn-color-background);\n",
              "}\n",
              "\n",
              "#sk-container-id-5 div.sk-container {\n",
              "  /* jupyter's `normalize.less` sets `[hidden] { display: none; }`\n",
              "     but bootstrap.min.css set `[hidden] { display: none !important; }`\n",
              "     so we also need the `!important` here to be able to override the\n",
              "     default hidden behavior on the sphinx rendered scikit-learn.org.\n",
              "     See: https://github.com/scikit-learn/scikit-learn/issues/21755 */\n",
              "  display: inline-block !important;\n",
              "  position: relative;\n",
              "}\n",
              "\n",
              "#sk-container-id-5 div.sk-text-repr-fallback {\n",
              "  display: none;\n",
              "}\n",
              "\n",
              "div.sk-parallel-item,\n",
              "div.sk-serial,\n",
              "div.sk-item {\n",
              "  /* draw centered vertical line to link estimators */\n",
              "  background-image: linear-gradient(var(--sklearn-color-text-on-default-background), var(--sklearn-color-text-on-default-background));\n",
              "  background-size: 2px 100%;\n",
              "  background-repeat: no-repeat;\n",
              "  background-position: center center;\n",
              "}\n",
              "\n",
              "/* Parallel-specific style estimator block */\n",
              "\n",
              "#sk-container-id-5 div.sk-parallel-item::after {\n",
              "  content: \"\";\n",
              "  width: 100%;\n",
              "  border-bottom: 2px solid var(--sklearn-color-text-on-default-background);\n",
              "  flex-grow: 1;\n",
              "}\n",
              "\n",
              "#sk-container-id-5 div.sk-parallel {\n",
              "  display: flex;\n",
              "  align-items: stretch;\n",
              "  justify-content: center;\n",
              "  background-color: var(--sklearn-color-background);\n",
              "  position: relative;\n",
              "}\n",
              "\n",
              "#sk-container-id-5 div.sk-parallel-item {\n",
              "  display: flex;\n",
              "  flex-direction: column;\n",
              "}\n",
              "\n",
              "#sk-container-id-5 div.sk-parallel-item:first-child::after {\n",
              "  align-self: flex-end;\n",
              "  width: 50%;\n",
              "}\n",
              "\n",
              "#sk-container-id-5 div.sk-parallel-item:last-child::after {\n",
              "  align-self: flex-start;\n",
              "  width: 50%;\n",
              "}\n",
              "\n",
              "#sk-container-id-5 div.sk-parallel-item:only-child::after {\n",
              "  width: 0;\n",
              "}\n",
              "\n",
              "/* Serial-specific style estimator block */\n",
              "\n",
              "#sk-container-id-5 div.sk-serial {\n",
              "  display: flex;\n",
              "  flex-direction: column;\n",
              "  align-items: center;\n",
              "  background-color: var(--sklearn-color-background);\n",
              "  padding-right: 1em;\n",
              "  padding-left: 1em;\n",
              "}\n",
              "\n",
              "\n",
              "/* Toggleable style: style used for estimator/Pipeline/ColumnTransformer box that is\n",
              "clickable and can be expanded/collapsed.\n",
              "- Pipeline and ColumnTransformer use this feature and define the default style\n",
              "- Estimators will overwrite some part of the style using the `sk-estimator` class\n",
              "*/\n",
              "\n",
              "/* Pipeline and ColumnTransformer style (default) */\n",
              "\n",
              "#sk-container-id-5 div.sk-toggleable {\n",
              "  /* Default theme specific background. It is overwritten whether we have a\n",
              "  specific estimator or a Pipeline/ColumnTransformer */\n",
              "  background-color: var(--sklearn-color-background);\n",
              "}\n",
              "\n",
              "/* Toggleable label */\n",
              "#sk-container-id-5 label.sk-toggleable__label {\n",
              "  cursor: pointer;\n",
              "  display: flex;\n",
              "  width: 100%;\n",
              "  margin-bottom: 0;\n",
              "  padding: 0.5em;\n",
              "  box-sizing: border-box;\n",
              "  text-align: center;\n",
              "  align-items: start;\n",
              "  justify-content: space-between;\n",
              "  gap: 0.5em;\n",
              "}\n",
              "\n",
              "#sk-container-id-5 label.sk-toggleable__label .caption {\n",
              "  font-size: 0.6rem;\n",
              "  font-weight: lighter;\n",
              "  color: var(--sklearn-color-text-muted);\n",
              "}\n",
              "\n",
              "#sk-container-id-5 label.sk-toggleable__label-arrow:before {\n",
              "  /* Arrow on the left of the label */\n",
              "  content: \"▸\";\n",
              "  float: left;\n",
              "  margin-right: 0.25em;\n",
              "  color: var(--sklearn-color-icon);\n",
              "}\n",
              "\n",
              "#sk-container-id-5 label.sk-toggleable__label-arrow:hover:before {\n",
              "  color: var(--sklearn-color-text);\n",
              "}\n",
              "\n",
              "/* Toggleable content - dropdown */\n",
              "\n",
              "#sk-container-id-5 div.sk-toggleable__content {\n",
              "  max-height: 0;\n",
              "  max-width: 0;\n",
              "  overflow: hidden;\n",
              "  text-align: left;\n",
              "  /* unfitted */\n",
              "  background-color: var(--sklearn-color-unfitted-level-0);\n",
              "}\n",
              "\n",
              "#sk-container-id-5 div.sk-toggleable__content.fitted {\n",
              "  /* fitted */\n",
              "  background-color: var(--sklearn-color-fitted-level-0);\n",
              "}\n",
              "\n",
              "#sk-container-id-5 div.sk-toggleable__content pre {\n",
              "  margin: 0.2em;\n",
              "  border-radius: 0.25em;\n",
              "  color: var(--sklearn-color-text);\n",
              "  /* unfitted */\n",
              "  background-color: var(--sklearn-color-unfitted-level-0);\n",
              "}\n",
              "\n",
              "#sk-container-id-5 div.sk-toggleable__content.fitted pre {\n",
              "  /* unfitted */\n",
              "  background-color: var(--sklearn-color-fitted-level-0);\n",
              "}\n",
              "\n",
              "#sk-container-id-5 input.sk-toggleable__control:checked~div.sk-toggleable__content {\n",
              "  /* Expand drop-down */\n",
              "  max-height: 200px;\n",
              "  max-width: 100%;\n",
              "  overflow: auto;\n",
              "}\n",
              "\n",
              "#sk-container-id-5 input.sk-toggleable__control:checked~label.sk-toggleable__label-arrow:before {\n",
              "  content: \"▾\";\n",
              "}\n",
              "\n",
              "/* Pipeline/ColumnTransformer-specific style */\n",
              "\n",
              "#sk-container-id-5 div.sk-label input.sk-toggleable__control:checked~label.sk-toggleable__label {\n",
              "  color: var(--sklearn-color-text);\n",
              "  background-color: var(--sklearn-color-unfitted-level-2);\n",
              "}\n",
              "\n",
              "#sk-container-id-5 div.sk-label.fitted input.sk-toggleable__control:checked~label.sk-toggleable__label {\n",
              "  background-color: var(--sklearn-color-fitted-level-2);\n",
              "}\n",
              "\n",
              "/* Estimator-specific style */\n",
              "\n",
              "/* Colorize estimator box */\n",
              "#sk-container-id-5 div.sk-estimator input.sk-toggleable__control:checked~label.sk-toggleable__label {\n",
              "  /* unfitted */\n",
              "  background-color: var(--sklearn-color-unfitted-level-2);\n",
              "}\n",
              "\n",
              "#sk-container-id-5 div.sk-estimator.fitted input.sk-toggleable__control:checked~label.sk-toggleable__label {\n",
              "  /* fitted */\n",
              "  background-color: var(--sklearn-color-fitted-level-2);\n",
              "}\n",
              "\n",
              "#sk-container-id-5 div.sk-label label.sk-toggleable__label,\n",
              "#sk-container-id-5 div.sk-label label {\n",
              "  /* The background is the default theme color */\n",
              "  color: var(--sklearn-color-text-on-default-background);\n",
              "}\n",
              "\n",
              "/* On hover, darken the color of the background */\n",
              "#sk-container-id-5 div.sk-label:hover label.sk-toggleable__label {\n",
              "  color: var(--sklearn-color-text);\n",
              "  background-color: var(--sklearn-color-unfitted-level-2);\n",
              "}\n",
              "\n",
              "/* Label box, darken color on hover, fitted */\n",
              "#sk-container-id-5 div.sk-label.fitted:hover label.sk-toggleable__label.fitted {\n",
              "  color: var(--sklearn-color-text);\n",
              "  background-color: var(--sklearn-color-fitted-level-2);\n",
              "}\n",
              "\n",
              "/* Estimator label */\n",
              "\n",
              "#sk-container-id-5 div.sk-label label {\n",
              "  font-family: monospace;\n",
              "  font-weight: bold;\n",
              "  display: inline-block;\n",
              "  line-height: 1.2em;\n",
              "}\n",
              "\n",
              "#sk-container-id-5 div.sk-label-container {\n",
              "  text-align: center;\n",
              "}\n",
              "\n",
              "/* Estimator-specific */\n",
              "#sk-container-id-5 div.sk-estimator {\n",
              "  font-family: monospace;\n",
              "  border: 1px dotted var(--sklearn-color-border-box);\n",
              "  border-radius: 0.25em;\n",
              "  box-sizing: border-box;\n",
              "  margin-bottom: 0.5em;\n",
              "  /* unfitted */\n",
              "  background-color: var(--sklearn-color-unfitted-level-0);\n",
              "}\n",
              "\n",
              "#sk-container-id-5 div.sk-estimator.fitted {\n",
              "  /* fitted */\n",
              "  background-color: var(--sklearn-color-fitted-level-0);\n",
              "}\n",
              "\n",
              "/* on hover */\n",
              "#sk-container-id-5 div.sk-estimator:hover {\n",
              "  /* unfitted */\n",
              "  background-color: var(--sklearn-color-unfitted-level-2);\n",
              "}\n",
              "\n",
              "#sk-container-id-5 div.sk-estimator.fitted:hover {\n",
              "  /* fitted */\n",
              "  background-color: var(--sklearn-color-fitted-level-2);\n",
              "}\n",
              "\n",
              "/* Specification for estimator info (e.g. \"i\" and \"?\") */\n",
              "\n",
              "/* Common style for \"i\" and \"?\" */\n",
              "\n",
              ".sk-estimator-doc-link,\n",
              "a:link.sk-estimator-doc-link,\n",
              "a:visited.sk-estimator-doc-link {\n",
              "  float: right;\n",
              "  font-size: smaller;\n",
              "  line-height: 1em;\n",
              "  font-family: monospace;\n",
              "  background-color: var(--sklearn-color-background);\n",
              "  border-radius: 1em;\n",
              "  height: 1em;\n",
              "  width: 1em;\n",
              "  text-decoration: none !important;\n",
              "  margin-left: 0.5em;\n",
              "  text-align: center;\n",
              "  /* unfitted */\n",
              "  border: var(--sklearn-color-unfitted-level-1) 1pt solid;\n",
              "  color: var(--sklearn-color-unfitted-level-1);\n",
              "}\n",
              "\n",
              ".sk-estimator-doc-link.fitted,\n",
              "a:link.sk-estimator-doc-link.fitted,\n",
              "a:visited.sk-estimator-doc-link.fitted {\n",
              "  /* fitted */\n",
              "  border: var(--sklearn-color-fitted-level-1) 1pt solid;\n",
              "  color: var(--sklearn-color-fitted-level-1);\n",
              "}\n",
              "\n",
              "/* On hover */\n",
              "div.sk-estimator:hover .sk-estimator-doc-link:hover,\n",
              ".sk-estimator-doc-link:hover,\n",
              "div.sk-label-container:hover .sk-estimator-doc-link:hover,\n",
              ".sk-estimator-doc-link:hover {\n",
              "  /* unfitted */\n",
              "  background-color: var(--sklearn-color-unfitted-level-3);\n",
              "  color: var(--sklearn-color-background);\n",
              "  text-decoration: none;\n",
              "}\n",
              "\n",
              "div.sk-estimator.fitted:hover .sk-estimator-doc-link.fitted:hover,\n",
              ".sk-estimator-doc-link.fitted:hover,\n",
              "div.sk-label-container:hover .sk-estimator-doc-link.fitted:hover,\n",
              ".sk-estimator-doc-link.fitted:hover {\n",
              "  /* fitted */\n",
              "  background-color: var(--sklearn-color-fitted-level-3);\n",
              "  color: var(--sklearn-color-background);\n",
              "  text-decoration: none;\n",
              "}\n",
              "\n",
              "/* Span, style for the box shown on hovering the info icon */\n",
              ".sk-estimator-doc-link span {\n",
              "  display: none;\n",
              "  z-index: 9999;\n",
              "  position: relative;\n",
              "  font-weight: normal;\n",
              "  right: .2ex;\n",
              "  padding: .5ex;\n",
              "  margin: .5ex;\n",
              "  width: min-content;\n",
              "  min-width: 20ex;\n",
              "  max-width: 50ex;\n",
              "  color: var(--sklearn-color-text);\n",
              "  box-shadow: 2pt 2pt 4pt #999;\n",
              "  /* unfitted */\n",
              "  background: var(--sklearn-color-unfitted-level-0);\n",
              "  border: .5pt solid var(--sklearn-color-unfitted-level-3);\n",
              "}\n",
              "\n",
              ".sk-estimator-doc-link.fitted span {\n",
              "  /* fitted */\n",
              "  background: var(--sklearn-color-fitted-level-0);\n",
              "  border: var(--sklearn-color-fitted-level-3);\n",
              "}\n",
              "\n",
              ".sk-estimator-doc-link:hover span {\n",
              "  display: block;\n",
              "}\n",
              "\n",
              "/* \"?\"-specific style due to the `<a>` HTML tag */\n",
              "\n",
              "#sk-container-id-5 a.estimator_doc_link {\n",
              "  float: right;\n",
              "  font-size: 1rem;\n",
              "  line-height: 1em;\n",
              "  font-family: monospace;\n",
              "  background-color: var(--sklearn-color-background);\n",
              "  border-radius: 1rem;\n",
              "  height: 1rem;\n",
              "  width: 1rem;\n",
              "  text-decoration: none;\n",
              "  /* unfitted */\n",
              "  color: var(--sklearn-color-unfitted-level-1);\n",
              "  border: var(--sklearn-color-unfitted-level-1) 1pt solid;\n",
              "}\n",
              "\n",
              "#sk-container-id-5 a.estimator_doc_link.fitted {\n",
              "  /* fitted */\n",
              "  border: var(--sklearn-color-fitted-level-1) 1pt solid;\n",
              "  color: var(--sklearn-color-fitted-level-1);\n",
              "}\n",
              "\n",
              "/* On hover */\n",
              "#sk-container-id-5 a.estimator_doc_link:hover {\n",
              "  /* unfitted */\n",
              "  background-color: var(--sklearn-color-unfitted-level-3);\n",
              "  color: var(--sklearn-color-background);\n",
              "  text-decoration: none;\n",
              "}\n",
              "\n",
              "#sk-container-id-5 a.estimator_doc_link.fitted:hover {\n",
              "  /* fitted */\n",
              "  background-color: var(--sklearn-color-fitted-level-3);\n",
              "}\n",
              "</style><div id=\"sk-container-id-5\" class=\"sk-top-container\"><div class=\"sk-text-repr-fallback\"><pre>LinearRegression()</pre><b>In a Jupyter environment, please rerun this cell to show the HTML representation or trust the notebook. <br />On GitHub, the HTML representation is unable to render, please try loading this page with nbviewer.org.</b></div><div class=\"sk-container\" hidden><div class=\"sk-item\"><div class=\"sk-estimator fitted sk-toggleable\"><input class=\"sk-toggleable__control sk-hidden--visually\" id=\"sk-estimator-id-5\" type=\"checkbox\" checked><label for=\"sk-estimator-id-5\" class=\"sk-toggleable__label fitted sk-toggleable__label-arrow\"><div><div>LinearRegression</div></div><div><a class=\"sk-estimator-doc-link fitted\" rel=\"noreferrer\" target=\"_blank\" href=\"https://scikit-learn.org/1.6/modules/generated/sklearn.linear_model.LinearRegression.html\">?<span>Documentation for LinearRegression</span></a><span class=\"sk-estimator-doc-link fitted\">i<span>Fitted</span></span></div></label><div class=\"sk-toggleable__content fitted\"><pre>LinearRegression()</pre></div> </div></div></div></div>"
            ]
          },
          "metadata": {},
          "execution_count": 74
        }
      ],
      "source": [
        "model.fit( X_train,y_train ) #fit the model"
      ]
    },
    {
      "cell_type": "code",
      "execution_count": null,
      "metadata": {
        "colab": {
          "base_uri": "https://localhost:8080/"
        },
        "id": "xiKMvFDezLvv",
        "outputId": "aa2c4114-d8c9-4597-85b9-3d211883e5c7"
      },
      "outputs": [
        {
          "output_type": "stream",
          "name": "stderr",
          "text": [
            "/usr/local/lib/python3.10/dist-packages/sklearn/utils/validation.py:2739: UserWarning: X does not have valid feature names, but LinearRegression was fitted with feature names\n",
            "  warnings.warn(\n"
          ]
        },
        {
          "output_type": "execute_result",
          "data": {
            "text/plain": [
              "array([33.88693821])"
            ]
          },
          "metadata": {},
          "execution_count": 75
        }
      ],
      "source": [
        "# Let's do a sample prediction\n",
        "\n",
        "model.predict([[100000,13]]) # if you earn 100k and has 13 yrs of experience"
      ]
    },
    {
      "cell_type": "code",
      "execution_count": null,
      "metadata": {
        "colab": {
          "base_uri": "https://localhost:8080/"
        },
        "id": "Jo-Zlw1tzLvw",
        "outputId": "dd7b3e9c-b563-42c0-8594-60aed50f9cb0"
      },
      "outputs": [
        {
          "output_type": "stream",
          "name": "stdout",
          "text": [
            "y_pred data: (8862,)\n"
          ]
        }
      ],
      "source": [
        "y_pred = model.predict(X_test)\n",
        "print(\"y_pred data:\", y_pred.shape)"
      ]
    },
    {
      "cell_type": "code",
      "execution_count": null,
      "metadata": {
        "colab": {
          "base_uri": "https://localhost:8080/"
        },
        "id": "5I5xBTb0zLvw",
        "outputId": "39614dad-0fd9-46a0-fbe6-f0cdc7b4fdfc"
      },
      "outputs": [
        {
          "output_type": "stream",
          "name": "stdout",
          "text": [
            "Results of sklearn.metrics:\n",
            "MAE: 5.97416292639236\n",
            "MSE: 65.54402543639968\n",
            "RMSE: 8.09592647177577\n",
            "R-Squared: 0.24770122956154705\n"
          ]
        }
      ],
      "source": [
        "import sklearn.metrics as metrics\n",
        "\n",
        "mae = metrics.mean_absolute_error(y_test, y_pred) # closer to 0 is good. that means the predicted value from the actual value i\n",
        "mse = metrics.mean_squared_error(y_test, y_pred) # closer to 0 is good.\n",
        "rmse = np.sqrt(mse) # or mse**(0.5)  # closer to 0 is good.\n",
        "r2 = metrics.r2_score(y_test,y_pred)  # closer to 1 is good. that means the model is able to fit\n",
        "\n",
        "print(\"Results of sklearn.metrics:\")\n",
        "print(\"MAE:\",mae)\n",
        "print(\"MSE:\", mse)\n",
        "print(\"RMSE:\", rmse)\n",
        "print(\"R-Squared:\", r2)"
      ]
    },
    {
      "cell_type": "markdown",
      "metadata": {
        "id": "0Rmak7GCzLvx"
      },
      "source": [
        "# Let's check assumptions\n",
        "Below is a short guide on checking if the assumptions for linear regression are satisfied:\n",
        "\n",
        "- **Linear relationship** - linearity\n",
        "scatter plots and correlation coefficient (r) for x and y should indicate a linear relationship\n",
        "\n",
        "- **Multivariate normality** - histogram of residuals should follow a normal distribution\n",
        "\n",
        "- **Homoscedasticity** - scatter plot of x and residuals should show no pattern\n",
        "\n",
        "- **No auto-correlation** - observations should be independent from each other, i.e. one observation should not be affected by another observation\n",
        "\n",
        "- **No or little multicollinearity** - for multiple linear regression, multicollinearity occurs when the independent variables are too highly correlated with each other.\n",
        "\n",
        "-- WARNING - if any of the above items are violated, it would be hard to trust your LR results!"
      ]
    },
    {
      "cell_type": "markdown",
      "metadata": {
        "id": "OMZIQ7E1zLvx"
      },
      "source": [
        "### Linear relationship\n",
        "\n",
        "Do it for all predictor variables"
      ]
    },
    {
      "cell_type": "code",
      "execution_count": null,
      "metadata": {
        "colab": {
          "base_uri": "https://localhost:8080/",
          "height": 452
        },
        "id": "OK8AhldGzLvx",
        "outputId": "9f27e752-265d-4a9e-91ef-676b2cf27205"
      },
      "outputs": [
        {
          "output_type": "execute_result",
          "data": {
            "text/plain": [
              "<matplotlib.collections.PathCollection at 0x7b0bebc93c40>"
            ]
          },
          "metadata": {},
          "execution_count": 78
        },
        {
          "output_type": "display_data",
          "data": {
            "text/plain": [
              "<Figure size 640x480 with 1 Axes>"
            ],
            "image/png": "[encoded data removed]"
          },
          "metadata": {}
        }
      ],
      "source": [
        "plt.scatter(df['yrs_exp'],df['age']) # looks like there is a linear relationship between age and yrs of exp"
      ]
    },
    {
      "cell_type": "code",
      "execution_count": null,
      "metadata": {
        "colab": {
          "base_uri": "https://localhost:8080/",
          "height": 471
        },
        "id": "7mSyc8DEzLvy",
        "outputId": "55b55776-7545-42b6-cf7c-6a3d08b55486"
      },
      "outputs": [
        {
          "output_type": "execute_result",
          "data": {
            "text/plain": [
              "<matplotlib.collections.PathCollection at 0x7b0bec39e2f0>"
            ]
          },
          "metadata": {},
          "execution_count": 79
        },
        {
          "output_type": "display_data",
          "data": {
            "text/plain": [
              "<Figure size 640x480 with 1 Axes>"
            ],
            "image/png": "[encoded data removed]"
          },
          "metadata": {}
        }
      ],
      "source": [
        "plt.scatter(df['annual_salary'],df['age'])  # looks like there is no linear relationship between age and salary"
      ]
    },
    {
      "cell_type": "markdown",
      "metadata": {
        "id": "gdIcbV-8zLvy"
      },
      "source": [
        "### Multivariate normality"
      ]
    },
    {
      "cell_type": "code",
      "execution_count": null,
      "metadata": {
        "colab": {
          "base_uri": "https://localhost:8080/",
          "height": 541
        },
        "id": "pQG5ylo2zLvy",
        "outputId": "09c673e5-de79-4769-d459-911a581f37d9"
      },
      "outputs": [
        {
          "output_type": "execute_result",
          "data": {
            "text/plain": [
              "(array([  78.,  656., 3080., 3218.,  909.,  613.,  242.,   44.,   12.,\n",
              "          10.]),\n",
              " array([-22.61849783, -15.84329033,  -9.06808283,  -2.29287532,\n",
              "          4.48233218,  11.25753968,  18.03274718,  24.80795468,\n",
              "         31.58316219,  38.35836969,  45.13357719]),\n",
              " <BarContainer object of 10 artists>)"
            ]
          },
          "metadata": {},
          "execution_count": 80
        },
        {
          "output_type": "display_data",
          "data": {
            "text/plain": [
              "<Figure size 640x480 with 1 Axes>"
            ],
            "image/png": "[encoded data removed]"
          },
          "metadata": {}
        }
      ],
      "source": [
        "# Residuals\n",
        "residuals = y_test-y_pred\n",
        "type(residuals)\n",
        "\n",
        "plt.hist(residuals)"
      ]
    },
    {
      "cell_type": "markdown",
      "source": [
        "### Homoscedasticity\n",
        "Let's compute the residuals and plot to a scatter graph and lets see if it looks random or not! #we want it to look random"
      ],
      "metadata": {
        "id": "2EPz1LgiWkNS"
      }
    },
    {
      "cell_type": "code",
      "source": [
        "# Predicted values\n",
        "fitted_vals = y_pred\n",
        "\n",
        "# Residuals\n",
        "residuals = y_test-y_pred\n",
        "\n",
        "# Plot\n",
        "plt.scatter(fitted_vals, residuals)\n",
        "plt.axhline(y=0, color='r', linestyle='--')\n",
        "plt.xlabel('Fitted values')\n",
        "plt.ylabel('Residuals')\n",
        "plt.title('Residuals vs Fitted values')\n",
        "plt.show()"
      ],
      "metadata": {
        "colab": {
          "base_uri": "https://localhost:8080/",
          "height": 480
        },
        "id": "djsEEBttWmWn",
        "outputId": "8e150fd8-c70b-41e6-d1a9-95c0b226f36a"
      },
      "execution_count": null,
      "outputs": [
        {
          "output_type": "display_data",
          "data": {
            "text/plain": [
              "<Figure size 640x480 with 1 Axes>"
            ],
            "image/png": "[encoded data removed]"
          },
          "metadata": {}
        }
      ]
    },
    {
      "cell_type": "markdown",
      "metadata": {
        "id": "3_C-qFkuzLv0"
      },
      "source": [
        "### Multicollinearity"
      ]
    },
    {
      "cell_type": "code",
      "execution_count": null,
      "metadata": {
        "colab": {
          "base_uri": "https://localhost:8080/",
          "height": 112
        },
        "id": "KG6nbzGBzLv0",
        "outputId": "0325e18a-e332-4d01-e10a-04a7a054d889"
      },
      "outputs": [
        {
          "output_type": "execute_result",
          "data": {
            "text/plain": [
              "               annual_salary   yrs_exp\n",
              "annual_salary       1.000000  0.192137\n",
              "yrs_exp             0.192137  1.000000"
            ],
            "text/html": [
              "\n",
              "  <div id=\"df-65d69a22-9825-4c19-866e-42ea957357d2\" class=\"colab-df-container\">\n",
              "    <div>\n",
              "<style scoped>\n",
              "    .dataframe tbody tr th:only-of-type {\n",
              "        vertical-align: middle;\n",
              "    }\n",
              "\n",
              "    .dataframe tbody tr th {\n",
              "        vertical-align: top;\n",
              "    }\n",
              "\n",
              "    .dataframe thead th {\n",
              "        text-align: right;\n",
              "    }\n",
              "</style>\n",
              "<table border=\"1\" class=\"dataframe\">\n",
              "  <thead>\n",
              "    <tr style=\"text-align: right;\">\n",
              "      <th></th>\n",
              "      <th>annual_salary</th>\n",
              "      <th>yrs_exp</th>\n",
              "    </tr>\n",
              "  </thead>\n",
              "  <tbody>\n",
              "    <tr>\n",
              "      <th>annual_salary</th>\n",
              "      <td>1.000000</td>\n",
              "      <td>0.192137</td>\n",
              "    </tr>\n",
              "    <tr>\n",
              "      <th>yrs_exp</th>\n",
              "      <td>0.192137</td>\n",
              "      <td>1.000000</td>\n",
              "    </tr>\n",
              "  </tbody>\n",
              "</table>\n",
              "</div>\n",
              "    <div class=\"colab-df-buttons\">\n",
              "\n",
              "  <div class=\"colab-df-container\">\n",
              "    <button class=\"colab-df-convert\" onclick=\"convertToInteractive('df-65d69a22-9825-4c19-866e-42ea957357d2')\"\n",
              "            title=\"Convert this dataframe to an interactive table.\"\n",
              "            style=\"display:none;\">\n",
              "\n",
              "  <svg xmlns=\"http://www.w3.org/2000/svg\" height=\"24px\" viewBox=\"0 -960 960 960\">\n",
              "    <path d=\"M120-120v-720h720v720H120Zm60-500h600v-160H180v160Zm220 220h160v-160H400v160Zm0 220h160v-160H400v160ZM180-400h160v-160H180v160Zm440 0h160v-160H620v160ZM180-180h160v-160H180v160Zm440 0h160v-160H620v160Z\"/>\n",
              "  </svg>\n",
              "    </button>\n",
              "\n",
              "  <style>\n",
              "    .colab-df-container {\n",
              "      display:flex;\n",
              "      gap: 12px;\n",
              "    }\n",
              "\n",
              "    .colab-df-convert {\n",
              "      background-color: #E8F0FE;\n",
              "      border: none;\n",
              "      border-radius: 50%;\n",
              "      cursor: pointer;\n",
              "      display: none;\n",
              "      fill: #1967D2;\n",
              "      height: 32px;\n",
              "      padding: 0 0 0 0;\n",
              "      width: 32px;\n",
              "    }\n",
              "\n",
              "    .colab-df-convert:hover {\n",
              "      background-color: #E2EBFA;\n",
              "      box-shadow: 0px 1px 2px rgba(60, 64, 67, 0.3), 0px 1px 3px 1px rgba(60, 64, 67, 0.15);\n",
              "      fill: #174EA6;\n",
              "    }\n",
              "\n",
              "    .colab-df-buttons div {\n",
              "      margin-bottom: 4px;\n",
              "    }\n",
              "\n",
              "    [theme=dark] .colab-df-convert {\n",
              "      background-color: #3B4455;\n",
              "      fill: #D2E3FC;\n",
              "    }\n",
              "\n",
              "    [theme=dark] .colab-df-convert:hover {\n",
              "      background-color: #434B5C;\n",
              "      box-shadow: 0px 1px 3px 1px rgba(0, 0, 0, 0.15);\n",
              "      filter: drop-shadow(0px 1px 2px rgba(0, 0, 0, 0.3));\n",
              "      fill: #FFFFFF;\n",
              "    }\n",
              "  </style>\n",
              "\n",
              "    <script>\n",
              "      const buttonEl =\n",
              "        document.querySelector('#df-65d69a22-9825-4c19-866e-42ea957357d2 button.colab-df-convert');\n",
              "      buttonEl.style.display =\n",
              "        google.colab.kernel.accessAllowed ? 'block' : 'none';\n",
              "\n",
              "      async function convertToInteractive(key) {\n",
              "        const element = document.querySelector('#df-65d69a22-9825-4c19-866e-42ea957357d2');\n",
              "        const dataTable =\n",
              "          await google.colab.kernel.invokeFunction('convertToInteractive',\n",
              "                                                    [key], {});\n",
              "        if (!dataTable) return;\n",
              "\n",
              "        const docLinkHtml = 'Like what you see? Visit the ' +\n",
              "          '<a target=\"_blank\" href=https://colab.research.google.com/notebooks/data_table.ipynb>data table notebook</a>'\n",
              "          + ' to learn more about interactive tables.';\n",
              "        element.innerHTML = '';\n",
              "        dataTable['output_type'] = 'display_data';\n",
              "        await google.colab.output.renderOutput(dataTable, element);\n",
              "        const docLink = document.createElement('div');\n",
              "        docLink.innerHTML = docLinkHtml;\n",
              "        element.appendChild(docLink);\n",
              "      }\n",
              "    </script>\n",
              "  </div>\n",
              "\n",
              "\n",
              "<div id=\"df-9eb6f013-594d-4ae6-8f54-868fec1306f7\">\n",
              "  <button class=\"colab-df-quickchart\" onclick=\"quickchart('df-9eb6f013-594d-4ae6-8f54-868fec1306f7')\"\n",
              "            title=\"Suggest charts\"\n",
              "            style=\"display:none;\">\n",
              "\n",
              "<svg xmlns=\"http://www.w3.org/2000/svg\" height=\"24px\"viewBox=\"0 0 24 24\"\n",
              "     width=\"24px\">\n",
              "    <g>\n",
              "        <path d=\"M19 3H5c-1.1 0-2 .9-2 2v14c0 1.1.9 2 2 2h14c1.1 0 2-.9 2-2V5c0-1.1-.9-2-2-2zM9 17H7v-7h2v7zm4 0h-2V7h2v10zm4 0h-2v-4h2v4z\"/>\n",
              "    </g>\n",
              "</svg>\n",
              "  </button>\n",
              "\n",
              "<style>\n",
              "  .colab-df-quickchart {\n",
              "      --bg-color: #E8F0FE;\n",
              "      --fill-color: #1967D2;\n",
              "      --hover-bg-color: #E2EBFA;\n",
              "      --hover-fill-color: #174EA6;\n",
              "      --disabled-fill-color: #AAA;\n",
              "      --disabled-bg-color: #DDD;\n",
              "  }\n",
              "\n",
              "  [theme=dark] .colab-df-quickchart {\n",
              "      --bg-color: #3B4455;\n",
              "      --fill-color: #D2E3FC;\n",
              "      --hover-bg-color: #434B5C;\n",
              "      --hover-fill-color: #FFFFFF;\n",
              "      --disabled-bg-color: #3B4455;\n",
              "      --disabled-fill-color: #666;\n",
              "  }\n",
              "\n",
              "  .colab-df-quickchart {\n",
              "    background-color: var(--bg-color);\n",
              "    border: none;\n",
              "    border-radius: 50%;\n",
              "    cursor: pointer;\n",
              "    display: none;\n",
              "    fill: var(--fill-color);\n",
              "    height: 32px;\n",
              "    padding: 0;\n",
              "    width: 32px;\n",
              "  }\n",
              "\n",
              "  .colab-df-quickchart:hover {\n",
              "    background-color: var(--hover-bg-color);\n",
              "    box-shadow: 0 1px 2px rgba(60, 64, 67, 0.3), 0 1px 3px 1px rgba(60, 64, 67, 0.15);\n",
              "    fill: var(--button-hover-fill-color);\n",
              "  }\n",
              "\n",
              "  .colab-df-quickchart-complete:disabled,\n",
              "  .colab-df-quickchart-complete:disabled:hover {\n",
              "    background-color: var(--disabled-bg-color);\n",
              "    fill: var(--disabled-fill-color);\n",
              "    box-shadow: none;\n",
              "  }\n",
              "\n",
              "  .colab-df-spinner {\n",
              "    border: 2px solid var(--fill-color);\n",
              "    border-color: transparent;\n",
              "    border-bottom-color: var(--fill-color);\n",
              "    animation:\n",
              "      spin 1s steps(1) infinite;\n",
              "  }\n",
              "\n",
              "  @keyframes spin {\n",
              "    0% {\n",
              "      border-color: transparent;\n",
              "      border-bottom-color: var(--fill-color);\n",
              "      border-left-color: var(--fill-color);\n",
              "    }\n",
              "    20% {\n",
              "      border-color: transparent;\n",
              "      border-left-color: var(--fill-color);\n",
              "      border-top-color: var(--fill-color);\n",
              "    }\n",
              "    30% {\n",
              "      border-color: transparent;\n",
              "      border-left-color: var(--fill-color);\n",
              "      border-top-color: var(--fill-color);\n",
              "      border-right-color: var(--fill-color);\n",
              "    }\n",
              "    40% {\n",
              "      border-color: transparent;\n",
              "      border-right-color: var(--fill-color);\n",
              "      border-top-color: var(--fill-color);\n",
              "    }\n",
              "    60% {\n",
              "      border-color: transparent;\n",
              "      border-right-color: var(--fill-color);\n",
              "    }\n",
              "    80% {\n",
              "      border-color: transparent;\n",
              "      border-right-color: var(--fill-color);\n",
              "      border-bottom-color: var(--fill-color);\n",
              "    }\n",
              "    90% {\n",
              "      border-color: transparent;\n",
              "      border-bottom-color: var(--fill-color);\n",
              "    }\n",
              "  }\n",
              "</style>\n",
              "\n",
              "  <script>\n",
              "    async function quickchart(key) {\n",
              "      const quickchartButtonEl =\n",
              "        document.querySelector('#' + key + ' button');\n",
              "      quickchartButtonEl.disabled = true;  // To prevent multiple clicks.\n",
              "      quickchartButtonEl.classList.add('colab-df-spinner');\n",
              "      try {\n",
              "        const charts = await google.colab.kernel.invokeFunction(\n",
              "            'suggestCharts', [key], {});\n",
              "      } catch (error) {\n",
              "        console.error('Error during call to suggestCharts:', error);\n",
              "      }\n",
              "      quickchartButtonEl.classList.remove('colab-df-spinner');\n",
              "      quickchartButtonEl.classList.add('colab-df-quickchart-complete');\n",
              "    }\n",
              "    (() => {\n",
              "      let quickchartButtonEl =\n",
              "        document.querySelector('#df-9eb6f013-594d-4ae6-8f54-868fec1306f7 button');\n",
              "      quickchartButtonEl.style.display =\n",
              "        google.colab.kernel.accessAllowed ? 'block' : 'none';\n",
              "    })();\n",
              "  </script>\n",
              "</div>\n",
              "\n",
              "    </div>\n",
              "  </div>\n"
            ],
            "application/vnd.google.colaboratory.intrinsic+json": {
              "type": "dataframe",
              "summary": "{\n  \"name\": \"x\",\n  \"rows\": 2,\n  \"fields\": [\n    {\n      \"column\": \"annual_salary\",\n      \"properties\": {\n        \"dtype\": \"number\",\n        \"std\": 0.5712450575941477,\n        \"min\": 0.1921374921117565,\n        \"max\": 1.0,\n        \"num_unique_values\": 2,\n        \"samples\": [\n          0.1921374921117565,\n          1.0\n        ],\n        \"semantic_type\": \"\",\n        \"description\": \"\"\n      }\n    },\n    {\n      \"column\": \"yrs_exp\",\n      \"properties\": {\n        \"dtype\": \"number\",\n        \"std\": 0.5712450575941477,\n        \"min\": 0.1921374921117565,\n        \"max\": 1.0,\n        \"num_unique_values\": 2,\n        \"samples\": [\n          1.0,\n          0.1921374921117565\n        ],\n        \"semantic_type\": \"\",\n        \"description\": \"\"\n      }\n    }\n  ]\n}"
            }
          },
          "metadata": {},
          "execution_count": 82
        }
      ],
      "source": [
        "x.corr() # since correlation coefficients are less than 1, we are ok."
      ]
    },
    {
      "cell_type": "markdown",
      "metadata": {
        "id": "GOiYduXETPrT"
      },
      "source": [
        "## MODEL 1: Add Predictors"
      ]
    },
    {
      "cell_type": "code",
      "execution_count": null,
      "metadata": {
        "id": "hvyvk3cLTPrT",
        "outputId": "01a749d6-0414-466a-bd26-9897d6111b51",
        "colab": {
          "base_uri": "https://localhost:8080/"
        }
      },
      "outputs": [
        {
          "output_type": "stream",
          "name": "stdout",
          "text": [
            "X_train data: (17991, 3)\n",
            "y_train data: (17991,)\n",
            "X_test data: (8862, 3)\n",
            "y_test data: (8862,)\n",
            "y_pred data: (8862,)\n"
          ]
        }
      ],
      "source": [
        "model1 = LinearRegression()\n",
        "\n",
        "x = df1[['annual_salary','yrs_exp', 'yrs_exp_field']]\n",
        "y = df1['age']\n",
        "\n",
        "#train test split\n",
        "X_train, X_test, y_train, y_test = train_test_split(x, y, test_size=0.33, random_state=42)\n",
        "\n",
        "print(\"X_train data:\",X_train.shape)\n",
        "print(\"y_train data:\",y_train.shape)\n",
        "print(\"X_test data:\",X_test.shape)\n",
        "print(\"y_test data:\",y_test.shape)\n",
        "\n",
        "model1.fit( X_train,y_train ) #fit the model\n",
        "\n",
        "y_pred = model1.predict(X_test)\n",
        "print(\"y_pred data:\", y_pred.shape)"
      ]
    },
    {
      "cell_type": "code",
      "execution_count": null,
      "metadata": {
        "id": "4isIn0ZPTPrT",
        "outputId": "f89101f5-16c8-478d-85d1-5f919f06cbfa"
      },
      "outputs": [
        {
          "name": "stdout",
          "output_type": "stream",
          "text": [
            "Results of sklearn.metrics:\n",
            "MAE: 4.704684384377332\n",
            "MSE: 37.26634198897194\n",
            "RMSE: 6.104616448964827\n",
            "R-Squared: 0.5637278553582772\n"
          ]
        }
      ],
      "source": [
        "mae = metrics.mean_absolute_error(y_test, y_pred) # closer to 0 is good. that means the predicted value from the actual value i\n",
        "mse = metrics.mean_squared_error(y_test, y_pred) # closer to 0 is good.\n",
        "rmse = np.sqrt(mse) # or mse**(0.5)  # closer to 0 is good.\n",
        "r2 = metrics.r2_score(y_test,y_pred)  # closer to 1 is good. that means the model is able to fit\n",
        "\n",
        "print(\"Results of sklearn.metrics:\")\n",
        "print(\"MAE:\",mae)\n",
        "print(\"MSE:\", mse)\n",
        "print(\"RMSE:\", rmse)\n",
        "print(\"R-Squared:\", r2)"
      ]
    },
    {
      "cell_type": "markdown",
      "metadata": {
        "id": "DbxRSl7gzLv1"
      },
      "source": [
        "### Homoscedasticity\n",
        "Let's compute the residuals and plot to a scatter graph and lets see if it looks random or not! #we want it to look random"
      ]
    },
    {
      "cell_type": "code",
      "execution_count": null,
      "metadata": {
        "id": "0kVXDW8_TPrU",
        "outputId": "e335d614-e6b3-43f0-bfd1-2c57c1c59e46",
        "colab": {
          "base_uri": "https://localhost:8080/",
          "height": 480
        }
      },
      "outputs": [
        {
          "output_type": "display_data",
          "data": {
            "text/plain": [
              "<Figure size 640x480 with 1 Axes>"
            ],
            "image/png": "[encoded data removed]"
          },
          "metadata": {}
        }
      ],
      "source": [
        "# Predicted values\n",
        "fitted_vals = y_pred\n",
        "\n",
        "# Residuals\n",
        "residuals = y_test-y_pred\n",
        "\n",
        "# Plot\n",
        "plt.scatter(fitted_vals, residuals)\n",
        "plt.axhline(y=0, color='r', linestyle='--')\n",
        "plt.xlabel('Fitted values')\n",
        "plt.ylabel('Residuals')\n",
        "plt.title('Residuals vs Fitted values')\n",
        "plt.show()"
      ]
    },
    {
      "cell_type": "markdown",
      "metadata": {
        "id": "rAZYWAisTPrU"
      },
      "source": [
        "### Heteroskedasticity\n",
        "Heteroskedasticity in data complicates statistical analysis by causing varying levels of uncertainty across different values of predictors. This inconsistency can lead to biased estimates of relationships between variables and unreliable statistical tests. In practical terms, it undermines the accuracy of predictions and decisions made based on data, impacting the reliability of conclusions drawn from analyses. Addressing heteroskedasticity is crucial for ensuring that statistical models provide accurate insights and predictions.\n",
        "\n"
      ]
    }
  ],
  "metadata": {
    "colab": {
      "collapsed_sections": [
        "0Rmak7GCzLvx",
        "nsN11yVuzLv0"
      ],
      "provenance": [],
      "toc_visible": true,
      "include_colab_link": true
    },
    "kernelspec": {
      "display_name": "Python 3",
      "language": "python",
      "name": "python3"
    },
    "language_info": {
      "codemirror_mode": {
        "name": "ipython",
        "version": 3
      },
      "file_extension": ".py",
      "mimetype": "text/x-python",
      "name": "python",
      "nbconvert_exporter": "python",
      "pygments_lexer": "ipython3",
      "version": "3.12.3"
    }
  },
  "nbformat": 4,
  "nbformat_minor": 0
}