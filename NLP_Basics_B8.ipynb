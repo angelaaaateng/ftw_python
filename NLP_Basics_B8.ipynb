{
  "nbformat": 4,
  "nbformat_minor": 0,
  "metadata": {
    "colab": {
      "provenance": [],
      "authorship_tag": "ABX9TyN6IbKYKj0jBtdWVI0MSchR",
      "include_colab_link": true
    },
    "kernelspec": {
      "name": "python3",
      "display_name": "Python 3"
    },
    "language_info": {
      "name": "python"
    }
  },
  "cells": [
    {
      "cell_type": "markdown",
      "metadata": {
        "id": "view-in-github",
        "colab_type": "text"
      },
      "source": [
        "<a href=\"https://colab.research.google.com/github/angelaaaateng/ftw_python/blob/main/NLP_Basics_B8.ipynb\" target=\"_parent\"><img src=\"https://colab.research.google.com/assets/colab-badge.svg\" alt=\"Open In Colab\"/></a>"
      ]
    },
    {
      "cell_type": "markdown",
      "source": [
        "# NLP Basics\n",
        "FTW Batch 8\n",
        "\n",
        "**Agenda**:\n",
        "1. Introduction to NLP\n",
        "2. Tokenization (and NLP Data Prep)\n",
        "3. Bag-of-Words Representation\n",
        "4. Simple Example of NLP Data Cleaning and BOW Representation"
      ],
      "metadata": {
        "id": "SSILULoHUu9U"
      }
    },
    {
      "cell_type": "markdown",
      "source": [
        "## Introduction to NLP\n",
        "\n",
        "\n"
      ],
      "metadata": {
        "id": "ekU9n1yVVpg6"
      }
    },
    {
      "cell_type": "markdown",
      "source": [
        "### Data Preprocessing and EDA with NLTK\n"
      ],
      "metadata": {
        "id": "3Jyg3bt8n-WU"
      }
    },
    {
      "cell_type": "code",
      "source": [
        "from IPython.display import clear_output\n",
        "import pandas as pd\n",
        "import nltk\n",
        "from nltk.text import Text\n",
        "nltk.download('punkt')\n",
        "nltk.download('averaged_perceptron_tagger')\n",
        "nltk.download('book')\n",
        "clear_output()"
      ],
      "metadata": {
        "id": "384ymfTMVsGi"
      },
      "execution_count": 42,
      "outputs": []
    },
    {
      "cell_type": "code",
      "execution_count": 2,
      "metadata": {
        "colab": {
          "base_uri": "https://localhost:8080/"
        },
        "id": "V_rHUggcUpZA",
        "outputId": "dbe456bc-4c9e-4313-a70d-e206a8fcb479"
      },
      "outputs": [
        {
          "output_type": "stream",
          "name": "stdout",
          "text": [
            "*** Introductory Examples for the NLTK Book ***\n",
            "Loading text1, ..., text9 and sent1, ..., sent9\n",
            "Type the name of the text or sentence to view it.\n",
            "Type: 'texts()' or 'sents()' to list the materials.\n",
            "text1: Moby Dick by Herman Melville 1851\n",
            "text2: Sense and Sensibility by Jane Austen 1811\n",
            "text3: The Book of Genesis\n",
            "text4: Inaugural Address Corpus\n",
            "text5: Chat Corpus\n",
            "text6: Monty Python and the Holy Grail\n",
            "text7: Wall Street Journal\n",
            "text8: Personals Corpus\n",
            "text9: The Man Who Was Thursday by G . K . Chesterton 1908\n"
          ]
        }
      ],
      "source": [
        "from nltk.book import *"
      ]
    },
    {
      "cell_type": "code",
      "source": [
        "print(text1)\n",
        "print(text2)\n",
        "print(text3)"
      ],
      "metadata": {
        "colab": {
          "base_uri": "https://localhost:8080/"
        },
        "id": "DVYbSnxAoJDf",
        "outputId": "b952beb9-e8f2-4c48-b03a-994f1ef31514"
      },
      "execution_count": 3,
      "outputs": [
        {
          "output_type": "stream",
          "name": "stdout",
          "text": [
            "<Text: Moby Dick by Herman Melville 1851>\n",
            "<Text: Sense and Sensibility by Jane Austen 1811>\n",
            "<Text: The Book of Genesis>\n"
          ]
        }
      ]
    },
    {
      "cell_type": "markdown",
      "source": [
        "### How can we search within the text?\n",
        "We can examine the \"context\" in which a word occurs using concordance."
      ],
      "metadata": {
        "id": "APwrSfkqpJ7I"
      }
    },
    {
      "cell_type": "code",
      "source": [
        "text1.concordance(\"monstrous\")"
      ],
      "metadata": {
        "colab": {
          "base_uri": "https://localhost:8080/"
        },
        "id": "R7P43POaoD5r",
        "outputId": "bcdc9909-268d-4bc2-86a0-ff44512335d3"
      },
      "execution_count": 4,
      "outputs": [
        {
          "output_type": "stream",
          "name": "stdout",
          "text": [
            "Displaying 11 of 11 matches:\n",
            "ong the former , one was of a most monstrous size . ... This came towards us , \n",
            "ON OF THE PSALMS . \" Touching that monstrous bulk of the whale or ork we have r\n",
            "ll over with a heathenish array of monstrous clubs and spears . Some were thick\n",
            "d as you gazed , and wondered what monstrous cannibal and savage could ever hav\n",
            "that has survived the flood ; most monstrous and most mountainous ! That Himmal\n",
            "they might scout at Moby Dick as a monstrous fable , or still worse and more de\n",
            "th of Radney .'\" CHAPTER 55 Of the Monstrous Pictures of Whales . I shall ere l\n",
            "ing Scenes . In connexion with the monstrous pictures of whales , I am strongly\n",
            "ere to enter upon those still more monstrous stories of them which are to be fo\n",
            "ght have been rummaged out of this monstrous cabinet there is no telling . But \n",
            "of Whale - Bones ; for Whales of a monstrous size are oftentimes cast up dead u\n"
          ]
        }
      ]
    },
    {
      "cell_type": "code",
      "source": [
        "text1.concordance([\"Moby\", \"Dick\"])"
      ],
      "metadata": {
        "colab": {
          "base_uri": "https://localhost:8080/"
        },
        "id": "niHhz90ap6hl",
        "outputId": "a072a8ba-5ae5-4607-82c8-e46a55d278ce"
      },
      "execution_count": 5,
      "outputs": [
        {
          "output_type": "stream",
          "name": "stdout",
          "text": [
            "Displaying 25 of 83 matches:\n",
            "[ Moby Dick by Herman Melville 1851 ] ETYMOLOG\n",
            "le must be the same that some call Moby Dick .\" \" Moby Dick ?\" shouted Ahab . \"\n",
            "same that some call Moby Dick .\" \" Moby Dick ?\" shouted Ahab . \" Do ye know the\n",
            "l . Death and devils ! men , it is Moby Dick ye have seen -- Moby Dick -- Moby \n",
            " , it is Moby Dick ye have seen -- Moby Dick -- Moby Dick !\" \" Captain Ahab ,\" \n",
            " Dick ye have seen -- Moby Dick -- Moby Dick !\" \" Captain Ahab ,\" said Starbuck\n",
            ". \" Captain Ahab , I have heard of Moby Dick -- but it was not Moby Dick that t\n",
            "ard of Moby Dick -- but it was not Moby Dick that took off thy leg ?\" \" Who tol\n",
            "e , my hearties all round ; it was Moby Dick that dismasted me ; Moby Dick that\n",
            " was Moby Dick that dismasted me ; Moby Dick that brought me to this dead stump\n",
            "he white whale ; a sharp lance for Moby Dick !\" \" God bless ye ,\" he seemed to \n",
            "the white whale ? art not game for Moby Dick ?\" \" I am game for his crooked jaw\n",
            "hful whaleboat ' s bow -- Death to Moby Dick ! God hunt us all , if we do not h\n",
            "od hunt us all , if we do not hunt Moby Dick to his death !\" The long , barbed \n",
            "o bowels to feel fear ! CHAPTER 41 Moby Dick . I , Ishmael , was one of that cr\n",
            "individualizing tidings concerning Moby Dick . It was hardly to be doubted , th\n",
            "stion must have been no other than Moby Dick . Yet as of late the Sperm Whale f\n",
            "accident ignorantly gave battle to Moby Dick ; such hunters , perhaps , for the\n",
            "ting and piling their terrors upon Moby Dick ; those things had gone far to sha\n",
            "encies , which eventually invested Moby Dick with new terrors unborrowed from a\n",
            "shermen recalled , in reference to Moby Dick , the earlier days of the Sperm Wh\n",
            "things were ready to give chase to Moby Dick ; and a still greater number who ,\n",
            "d , was the unearthly conceit that Moby Dick was ubiquitous ; that he had actua\n",
            "in their superstitions ; declaring Moby Dick not only ubiquitous , but immortal\n",
            "e - shaped lower jaw beneath him , Moby Dick had reaped away Ahab ' s leg , as \n"
          ]
        }
      ]
    },
    {
      "cell_type": "code",
      "source": [
        "# we can store these results in a concordance list:\n",
        "con_list = text1.concordance_list(\"monstrous\")\n",
        "print(len(con_list))\n",
        "print(con_list[3].line)"
      ],
      "metadata": {
        "colab": {
          "base_uri": "https://localhost:8080/"
        },
        "id": "O40xs7VTqLwL",
        "outputId": "9c336094-7103-4374-ef10-93271b3fdc2e"
      },
      "execution_count": 6,
      "outputs": [
        {
          "output_type": "stream",
          "name": "stdout",
          "text": [
            "11\n",
            "d as you gazed , and wondered what monstrous cannibal and savage could ever hav\n"
          ]
        }
      ]
    },
    {
      "cell_type": "markdown",
      "source": [
        "Where is the location of a word within the text?\n",
        "\n",
        "- Lexical Dispersion Plot for Words in U.S. Presidential Inaugural Addresses: This can be used to investigate changes in language use over time.\n",
        "- Each stripe represents an instance of a word, and each row represents the entire text.\n",
        "- Striking patterns of word usage over the last 220 years (in an artificial text constructed by joining the texts of the Inaugural Address Corpus end-to-end)."
      ],
      "metadata": {
        "id": "bPXdwTEpq_Rm"
      }
    },
    {
      "cell_type": "code",
      "source": [
        "print(text4)\n",
        "text4.dispersion_plot([\"citizens\", \"democracy\", \"freedom\", \"duties\", \"America\"])"
      ],
      "metadata": {
        "colab": {
          "base_uri": "https://localhost:8080/",
          "height": 490
        },
        "id": "Jhfg-EOprC-A",
        "outputId": "7205fc77-d3cd-4f20-e534-8630b5b7a87f"
      },
      "execution_count": 7,
      "outputs": [
        {
          "output_type": "stream",
          "name": "stdout",
          "text": [
            "<Text: Inaugural Address Corpus>\n"
          ]
        },
        {
          "output_type": "display_data",
          "data": {
            "text/plain": [
              "<Figure size 640x480 with 1 Axes>"
            ],
            "image/png": "[encoded data removed]"
          },
          "metadata": {}
        }
      ]
    },
    {
      "cell_type": "markdown",
      "source": [
        "### Counting Vocabulary\n",
        "\n",
        "What is the length of a text from start to finish, in terms of the words and punctuation symbols that appear.\n",
        "\n",
        "A token is the technical name for a sequence of characters — such as hairy, his, or :) — that we want to treat as a group"
      ],
      "metadata": {
        "id": "dnPYF1XMrZDw"
      }
    },
    {
      "cell_type": "code",
      "source": [
        "print(text1)\n",
        "len(text1)"
      ],
      "metadata": {
        "colab": {
          "base_uri": "https://localhost:8080/"
        },
        "id": "PIof8acMrazX",
        "outputId": "496c3f6f-4824-4a16-d8e2-6f8dcf41cb85"
      },
      "execution_count": 8,
      "outputs": [
        {
          "output_type": "stream",
          "name": "stdout",
          "text": [
            "<Text: Moby Dick by Herman Melville 1851>\n"
          ]
        },
        {
          "output_type": "execute_result",
          "data": {
            "text/plain": [
              "260819"
            ]
          },
          "metadata": {},
          "execution_count": 8
        }
      ]
    },
    {
      "cell_type": "code",
      "source": [
        "print(text3)\n",
        "len(text3)"
      ],
      "metadata": {
        "colab": {
          "base_uri": "https://localhost:8080/"
        },
        "id": "zmRVcdwHru7p",
        "outputId": "d6046b81-3da4-41b9-8451-1de035672495"
      },
      "execution_count": 9,
      "outputs": [
        {
          "output_type": "stream",
          "name": "stdout",
          "text": [
            "<Text: The Book of Genesis>\n"
          ]
        },
        {
          "output_type": "execute_result",
          "data": {
            "text/plain": [
              "44764"
            ]
          },
          "metadata": {},
          "execution_count": 9
        }
      ]
    },
    {
      "cell_type": "markdown",
      "source": [
        "How lexically \"rich\" is the text?\n",
        "- what portion of the tokens are unique?"
      ],
      "metadata": {
        "id": "tgMa44OVsGpY"
      }
    },
    {
      "cell_type": "code",
      "source": [
        "len(set(text1)) / len(text1)"
      ],
      "metadata": {
        "colab": {
          "base_uri": "https://localhost:8080/"
        },
        "id": "Blh-tYSusD4N",
        "outputId": "1fe5cf04-cece-45a0-ef10-8bee08b3a2bc"
      },
      "execution_count": 10,
      "outputs": [
        {
          "output_type": "execute_result",
          "data": {
            "text/plain": [
              "0.07406285585022564"
            ]
          },
          "metadata": {},
          "execution_count": 10
        }
      ]
    },
    {
      "cell_type": "markdown",
      "source": [
        "We can count how often a word occurs in a text, and compute what percentage of the text is taken up by a specific word"
      ],
      "metadata": {
        "id": "0zP3c0LdsXZt"
      }
    },
    {
      "cell_type": "code",
      "source": [
        "text1.count(\"Moby\")"
      ],
      "metadata": {
        "colab": {
          "base_uri": "https://localhost:8080/"
        },
        "id": "q2wLiC7TsZzb",
        "outputId": "8f1b8fb7-2165-4515-ffc7-18d72c425842"
      },
      "execution_count": 11,
      "outputs": [
        {
          "output_type": "execute_result",
          "data": {
            "text/plain": [
              "84"
            ]
          },
          "metadata": {},
          "execution_count": 11
        }
      ]
    },
    {
      "cell_type": "code",
      "source": [
        "100 * text1.count('Moby') / len(text1)"
      ],
      "metadata": {
        "colab": {
          "base_uri": "https://localhost:8080/"
        },
        "id": "0qSmrQACscwe",
        "outputId": "c71d18fd-df99-4064-a969-f9d25287e4ef"
      },
      "execution_count": 12,
      "outputs": [
        {
          "output_type": "execute_result",
          "data": {
            "text/plain": [
              "0.032206242643365704"
            ]
          },
          "metadata": {},
          "execution_count": 12
        }
      ]
    },
    {
      "cell_type": "markdown",
      "source": [
        "### Simple Statistics with Text: Frequency Distributions\n",
        "\n",
        "- can we automatically identify the words of a text that are most informative about the topic and genre of the text?"
      ],
      "metadata": {
        "id": "hDmY5rEQ0WmH"
      }
    },
    {
      "cell_type": "code",
      "source": [
        "print(text1.tokens[:20])"
      ],
      "metadata": {
        "colab": {
          "base_uri": "https://localhost:8080/"
        },
        "id": "EO8YAyr1sqWp",
        "outputId": "55977766-eca9-4d90-e09c-702ae0906c0d"
      },
      "execution_count": 22,
      "outputs": [
        {
          "output_type": "stream",
          "name": "stdout",
          "text": [
            "['[', 'Moby', 'Dick', 'by', 'Herman', 'Melville', '1851', ']', 'ETYMOLOGY', '.', '(', 'Supplied', 'by', 'a', 'Late', 'Consumptive', 'Usher', 'to', 'a', 'Grammar']\n"
          ]
        }
      ]
    },
    {
      "cell_type": "code",
      "source": [
        "fdist1 = FreqDist(text1)\n",
        "print(fdist1)\n"
      ],
      "metadata": {
        "colab": {
          "base_uri": "https://localhost:8080/"
        },
        "id": "GK_q0IR21dAH",
        "outputId": "63cb18c8-d365-4541-8c5d-086ef08fcc2e"
      },
      "execution_count": 25,
      "outputs": [
        {
          "output_type": "stream",
          "name": "stdout",
          "text": [
            "<FreqDist with 19317 samples and 260819 outcomes>\n"
          ]
        }
      ]
    },
    {
      "cell_type": "markdown",
      "source": [
        "- It is a \"distribution\" because it tells us how the total number of word tokens in the text are distributed across the vocabulary items"
      ],
      "metadata": {
        "id": "69miiGwz13A0"
      }
    },
    {
      "cell_type": "code",
      "source": [
        "fdist1.most_common(20)"
      ],
      "metadata": {
        "colab": {
          "base_uri": "https://localhost:8080/"
        },
        "id": "buPpK8kI1u66",
        "outputId": "c2e50965-aa21-4c59-b3aa-747b2324759c"
      },
      "execution_count": 27,
      "outputs": [
        {
          "output_type": "execute_result",
          "data": {
            "text/plain": [
              "[(',', 18713),\n",
              " ('the', 13721),\n",
              " ('.', 6862),\n",
              " ('of', 6536),\n",
              " ('and', 6024),\n",
              " ('a', 4569),\n",
              " ('to', 4542),\n",
              " (';', 4072),\n",
              " ('in', 3916),\n",
              " ('that', 2982),\n",
              " (\"'\", 2684),\n",
              " ('-', 2552),\n",
              " ('his', 2459),\n",
              " ('it', 2209),\n",
              " ('I', 2124),\n",
              " ('s', 1739),\n",
              " ('is', 1695),\n",
              " ('he', 1661),\n",
              " ('with', 1659),\n",
              " ('was', 1632)]"
            ]
          },
          "metadata": {},
          "execution_count": 27
        }
      ]
    },
    {
      "cell_type": "code",
      "source": [
        "fdist1['whale']"
      ],
      "metadata": {
        "colab": {
          "base_uri": "https://localhost:8080/"
        },
        "id": "2pZY25i91_pX",
        "outputId": "a8318727-d93d-44aa-d665-ad1e074911ed"
      },
      "execution_count": 28,
      "outputs": [
        {
          "output_type": "execute_result",
          "data": {
            "text/plain": [
              "906"
            ]
          },
          "metadata": {},
          "execution_count": 28
        }
      ]
    },
    {
      "cell_type": "code",
      "source": [
        "fdist1.plot(40)"
      ],
      "metadata": {
        "colab": {
          "base_uri": "https://localhost:8080/",
          "height": 495
        },
        "id": "R1clhfgu3-Pz",
        "outputId": "c891aed1-be24-4fd1-859a-18b86cd04bf3"
      },
      "execution_count": 39,
      "outputs": [
        {
          "output_type": "display_data",
          "data": {
            "text/plain": [
              "<Figure size 640x480 with 1 Axes>"
            ],
            "image/png": "[encoded data removed]"
          },
          "metadata": {}
        },
        {
          "output_type": "execute_result",
          "data": {
            "text/plain": [
              "<Axes: xlabel='Samples', ylabel='Counts'>"
            ]
          },
          "metadata": {},
          "execution_count": 39
        }
      ]
    },
    {
      "cell_type": "markdown",
      "source": [
        "## Tokenization\n",
        "\n",
        "- How can we represent words in a way that a computer can process them?\n",
        "- Splitting text into smaller units"
      ],
      "metadata": {
        "id": "q_BcOnGrVrNH"
      }
    },
    {
      "cell_type": "code",
      "source": [
        "sentence = \"\"\"I am learning so much during my time at FTW! I love data science\"\"\"\n",
        "tokens = nltk.word_tokenize(sentence)\n",
        "tokens"
      ],
      "metadata": {
        "colab": {
          "base_uri": "https://localhost:8080/"
        },
        "id": "JqYbG5yZbkhE",
        "outputId": "6e121bf8-2da0-4af3-eced-d4f6d5164547"
      },
      "execution_count": 14,
      "outputs": [
        {
          "output_type": "execute_result",
          "data": {
            "text/plain": [
              "['I',\n",
              " 'am',\n",
              " 'learning',\n",
              " 'so',\n",
              " 'much',\n",
              " 'during',\n",
              " 'my',\n",
              " 'time',\n",
              " 'at',\n",
              " 'FTW',\n",
              " '!',\n",
              " 'I',\n",
              " 'love',\n",
              " 'data',\n",
              " 'science']"
            ]
          },
          "metadata": {},
          "execution_count": 14
        }
      ]
    },
    {
      "cell_type": "code",
      "source": [
        "text = \"I love learning data science at FTW\"\n",
        "tokenizer = CountVectorizer().build_tokenizer()\n",
        "print(tokenizer(text))"
      ],
      "metadata": {
        "colab": {
          "base_uri": "https://localhost:8080/"
        },
        "id": "dnHlSK8X-xVk",
        "outputId": "b67d6a37-3c1e-4a6f-ef58-8ab4fa99a1a5"
      },
      "execution_count": 49,
      "outputs": [
        {
          "output_type": "stream",
          "name": "stdout",
          "text": [
            "['love', 'learning', 'data', 'science', 'at', 'FTW']\n"
          ]
        }
      ]
    },
    {
      "cell_type": "markdown",
      "source": [
        "## BOW Representation"
      ],
      "metadata": {
        "id": "VG7L8wC2VsXc"
      }
    },
    {
      "cell_type": "code",
      "source": [
        "from sklearn.feature_extraction.text import CountVectorizer\n",
        "\n",
        "texts = [\n",
        "    \"The caged bird sings with a fearful trill\",\n",
        "    \"for the caged bird sings of freedom\",\n",
        "    \"I really really really like ice cream\"\n",
        "]\n",
        "cv = CountVectorizer()\n",
        "count_matrix = cv.fit_transform(texts)\n",
        "count_array = count_matrix.toarray()\n",
        "\n",
        "# Create a dataframe of the word counts to inspect\n",
        "# - todense transforms the dtm into a dense matrix\n",
        "# - get_feature_names() gives a list words\n",
        "pd.DataFrame(count_matrix.todense(), columns=cv.get_feature_names_out())"
      ],
      "metadata": {
        "colab": {
          "base_uri": "https://localhost:8080/",
          "height": 143
        },
        "id": "fh9JJYvB5p5I",
        "outputId": "ab0ff972-eeaf-46e3-c623-f2ef0dde1428"
      },
      "execution_count": 47,
      "outputs": [
        {
          "output_type": "execute_result",
          "data": {
            "text/plain": [
              "   bird  caged  cream  fearful  for  freedom  ice  like  of  really  sings  \\\n",
              "0     1      1      0        1    0        0    0     0   0       0      1   \n",
              "1     1      1      0        0    1        1    0     0   1       0      1   \n",
              "2     0      0      1        0    0        0    1     1   0       3      0   \n",
              "\n",
              "   the  trill  with  \n",
              "0    1      1     1  \n",
              "1    1      0     0  \n",
              "2    0      0     0  "
            ],
            "text/html": [
              "\n",
              "  <div id=\"df-d6aa74aa-51bf-4dac-8788-c17ba7cac2bc\" class=\"colab-df-container\">\n",
              "    <div>\n",
              "<style scoped>\n",
              "    .dataframe tbody tr th:only-of-type {\n",
              "        vertical-align: middle;\n",
              "    }\n",
              "\n",
              "    .dataframe tbody tr th {\n",
              "        vertical-align: top;\n",
              "    }\n",
              "\n",
              "    .dataframe thead th {\n",
              "        text-align: right;\n",
              "    }\n",
              "</style>\n",
              "<table border=\"1\" class=\"dataframe\">\n",
              "  <thead>\n",
              "    <tr style=\"text-align: right;\">\n",
              "      <th></th>\n",
              "      <th>bird</th>\n",
              "      <th>caged</th>\n",
              "      <th>cream</th>\n",
              "      <th>fearful</th>\n",
              "      <th>for</th>\n",
              "      <th>freedom</th>\n",
              "      <th>ice</th>\n",
              "      <th>like</th>\n",
              "      <th>of</th>\n",
              "      <th>really</th>\n",
              "      <th>sings</th>\n",
              "      <th>the</th>\n",
              "      <th>trill</th>\n",
              "      <th>with</th>\n",
              "    </tr>\n",
              "  </thead>\n",
              "  <tbody>\n",
              "    <tr>\n",
              "      <th>0</th>\n",
              "      <td>1</td>\n",
              "      <td>1</td>\n",
              "      <td>0</td>\n",
              "      <td>1</td>\n",
              "      <td>0</td>\n",
              "      <td>0</td>\n",
              "      <td>0</td>\n",
              "      <td>0</td>\n",
              "      <td>0</td>\n",
              "      <td>0</td>\n",
              "      <td>1</td>\n",
              "      <td>1</td>\n",
              "      <td>1</td>\n",
              "      <td>1</td>\n",
              "    </tr>\n",
              "    <tr>\n",
              "      <th>1</th>\n",
              "      <td>1</td>\n",
              "      <td>1</td>\n",
              "      <td>0</td>\n",
              "      <td>0</td>\n",
              "      <td>1</td>\n",
              "      <td>1</td>\n",
              "      <td>0</td>\n",
              "      <td>0</td>\n",
              "      <td>1</td>\n",
              "      <td>0</td>\n",
              "      <td>1</td>\n",
              "      <td>1</td>\n",
              "      <td>0</td>\n",
              "      <td>0</td>\n",
              "    </tr>\n",
              "    <tr>\n",
              "      <th>2</th>\n",
              "      <td>0</td>\n",
              "      <td>0</td>\n",
              "      <td>1</td>\n",
              "      <td>0</td>\n",
              "      <td>0</td>\n",
              "      <td>0</td>\n",
              "      <td>1</td>\n",
              "      <td>1</td>\n",
              "      <td>0</td>\n",
              "      <td>3</td>\n",
              "      <td>0</td>\n",
              "      <td>0</td>\n",
              "      <td>0</td>\n",
              "      <td>0</td>\n",
              "    </tr>\n",
              "  </tbody>\n",
              "</table>\n",
              "</div>\n",
              "    <div class=\"colab-df-buttons\">\n",
              "\n",
              "  <div class=\"colab-df-container\">\n",
              "    <button class=\"colab-df-convert\" onclick=\"convertToInteractive('df-d6aa74aa-51bf-4dac-8788-c17ba7cac2bc')\"\n",
              "            title=\"Convert this dataframe to an interactive table.\"\n",
              "            style=\"display:none;\">\n",
              "\n",
              "  <svg xmlns=\"http://www.w3.org/2000/svg\" height=\"24px\" viewBox=\"0 -960 960 960\">\n",
              "    <path d=\"M120-120v-720h720v720H120Zm60-500h600v-160H180v160Zm220 220h160v-160H400v160Zm0 220h160v-160H400v160ZM180-400h160v-160H180v160Zm440 0h160v-160H620v160ZM180-180h160v-160H180v160Zm440 0h160v-160H620v160Z\"/>\n",
              "  </svg>\n",
              "    </button>\n",
              "\n",
              "  <style>\n",
              "    .colab-df-container {\n",
              "      display:flex;\n",
              "      gap: 12px;\n",
              "    }\n",
              "\n",
              "    .colab-df-convert {\n",
              "      background-color: #E8F0FE;\n",
              "      border: none;\n",
              "      border-radius: 50%;\n",
              "      cursor: pointer;\n",
              "      display: none;\n",
              "      fill: #1967D2;\n",
              "      height: 32px;\n",
              "      padding: 0 0 0 0;\n",
              "      width: 32px;\n",
              "    }\n",
              "\n",
              "    .colab-df-convert:hover {\n",
              "      background-color: #E2EBFA;\n",
              "      box-shadow: 0px 1px 2px rgba(60, 64, 67, 0.3), 0px 1px 3px 1px rgba(60, 64, 67, 0.15);\n",
              "      fill: #174EA6;\n",
              "    }\n",
              "\n",
              "    .colab-df-buttons div {\n",
              "      margin-bottom: 4px;\n",
              "    }\n",
              "\n",
              "    [theme=dark] .colab-df-convert {\n",
              "      background-color: #3B4455;\n",
              "      fill: #D2E3FC;\n",
              "    }\n",
              "\n",
              "    [theme=dark] .colab-df-convert:hover {\n",
              "      background-color: #434B5C;\n",
              "      box-shadow: 0px 1px 3px 1px rgba(0, 0, 0, 0.15);\n",
              "      filter: drop-shadow(0px 1px 2px rgba(0, 0, 0, 0.3));\n",
              "      fill: #FFFFFF;\n",
              "    }\n",
              "  </style>\n",
              "\n",
              "    <script>\n",
              "      const buttonEl =\n",
              "        document.querySelector('#df-d6aa74aa-51bf-4dac-8788-c17ba7cac2bc button.colab-df-convert');\n",
              "      buttonEl.style.display =\n",
              "        google.colab.kernel.accessAllowed ? 'block' : 'none';\n",
              "\n",
              "      async function convertToInteractive(key) {\n",
              "        const element = document.querySelector('#df-d6aa74aa-51bf-4dac-8788-c17ba7cac2bc');\n",
              "        const dataTable =\n",
              "          await google.colab.kernel.invokeFunction('convertToInteractive',\n",
              "                                                    [key], {});\n",
              "        if (!dataTable) return;\n",
              "\n",
              "        const docLinkHtml = 'Like what you see? Visit the ' +\n",
              "          '<a target=\"_blank\" href=https://colab.research.google.com/notebooks/data_table.ipynb>data table notebook</a>'\n",
              "          + ' to learn more about interactive tables.';\n",
              "        element.innerHTML = '';\n",
              "        dataTable['output_type'] = 'display_data';\n",
              "        await google.colab.output.renderOutput(dataTable, element);\n",
              "        const docLink = document.createElement('div');\n",
              "        docLink.innerHTML = docLinkHtml;\n",
              "        element.appendChild(docLink);\n",
              "      }\n",
              "    </script>\n",
              "  </div>\n",
              "\n",
              "\n",
              "<div id=\"df-0d8e8683-dacb-4558-a66c-3b726354c8ee\">\n",
              "  <button class=\"colab-df-quickchart\" onclick=\"quickchart('df-0d8e8683-dacb-4558-a66c-3b726354c8ee')\"\n",
              "            title=\"Suggest charts.\"\n",
              "            style=\"display:none;\">\n",
              "\n",
              "<svg xmlns=\"http://www.w3.org/2000/svg\" height=\"24px\"viewBox=\"0 0 24 24\"\n",
              "     width=\"24px\">\n",
              "    <g>\n",
              "        <path d=\"M19 3H5c-1.1 0-2 .9-2 2v14c0 1.1.9 2 2 2h14c1.1 0 2-.9 2-2V5c0-1.1-.9-2-2-2zM9 17H7v-7h2v7zm4 0h-2V7h2v10zm4 0h-2v-4h2v4z\"/>\n",
              "    </g>\n",
              "</svg>\n",
              "  </button>\n",
              "\n",
              "<style>\n",
              "  .colab-df-quickchart {\n",
              "      --bg-color: #E8F0FE;\n",
              "      --fill-color: #1967D2;\n",
              "      --hover-bg-color: #E2EBFA;\n",
              "      --hover-fill-color: #174EA6;\n",
              "      --disabled-fill-color: #AAA;\n",
              "      --disabled-bg-color: #DDD;\n",
              "  }\n",
              "\n",
              "  [theme=dark] .colab-df-quickchart {\n",
              "      --bg-color: #3B4455;\n",
              "      --fill-color: #D2E3FC;\n",
              "      --hover-bg-color: #434B5C;\n",
              "      --hover-fill-color: #FFFFFF;\n",
              "      --disabled-bg-color: #3B4455;\n",
              "      --disabled-fill-color: #666;\n",
              "  }\n",
              "\n",
              "  .colab-df-quickchart {\n",
              "    background-color: var(--bg-color);\n",
              "    border: none;\n",
              "    border-radius: 50%;\n",
              "    cursor: pointer;\n",
              "    display: none;\n",
              "    fill: var(--fill-color);\n",
              "    height: 32px;\n",
              "    padding: 0;\n",
              "    width: 32px;\n",
              "  }\n",
              "\n",
              "  .colab-df-quickchart:hover {\n",
              "    background-color: var(--hover-bg-color);\n",
              "    box-shadow: 0 1px 2px rgba(60, 64, 67, 0.3), 0 1px 3px 1px rgba(60, 64, 67, 0.15);\n",
              "    fill: var(--button-hover-fill-color);\n",
              "  }\n",
              "\n",
              "  .colab-df-quickchart-complete:disabled,\n",
              "  .colab-df-quickchart-complete:disabled:hover {\n",
              "    background-color: var(--disabled-bg-color);\n",
              "    fill: var(--disabled-fill-color);\n",
              "    box-shadow: none;\n",
              "  }\n",
              "\n",
              "  .colab-df-spinner {\n",
              "    border: 2px solid var(--fill-color);\n",
              "    border-color: transparent;\n",
              "    border-bottom-color: var(--fill-color);\n",
              "    animation:\n",
              "      spin 1s steps(1) infinite;\n",
              "  }\n",
              "\n",
              "  @keyframes spin {\n",
              "    0% {\n",
              "      border-color: transparent;\n",
              "      border-bottom-color: var(--fill-color);\n",
              "      border-left-color: var(--fill-color);\n",
              "    }\n",
              "    20% {\n",
              "      border-color: transparent;\n",
              "      border-left-color: var(--fill-color);\n",
              "      border-top-color: var(--fill-color);\n",
              "    }\n",
              "    30% {\n",
              "      border-color: transparent;\n",
              "      border-left-color: var(--fill-color);\n",
              "      border-top-color: var(--fill-color);\n",
              "      border-right-color: var(--fill-color);\n",
              "    }\n",
              "    40% {\n",
              "      border-color: transparent;\n",
              "      border-right-color: var(--fill-color);\n",
              "      border-top-color: var(--fill-color);\n",
              "    }\n",
              "    60% {\n",
              "      border-color: transparent;\n",
              "      border-right-color: var(--fill-color);\n",
              "    }\n",
              "    80% {\n",
              "      border-color: transparent;\n",
              "      border-right-color: var(--fill-color);\n",
              "      border-bottom-color: var(--fill-color);\n",
              "    }\n",
              "    90% {\n",
              "      border-color: transparent;\n",
              "      border-bottom-color: var(--fill-color);\n",
              "    }\n",
              "  }\n",
              "</style>\n",
              "\n",
              "  <script>\n",
              "    async function quickchart(key) {\n",
              "      const quickchartButtonEl =\n",
              "        document.querySelector('#' + key + ' button');\n",
              "      quickchartButtonEl.disabled = true;  // To prevent multiple clicks.\n",
              "      quickchartButtonEl.classList.add('colab-df-spinner');\n",
              "      try {\n",
              "        const charts = await google.colab.kernel.invokeFunction(\n",
              "            'suggestCharts', [key], {});\n",
              "      } catch (error) {\n",
              "        console.error('Error during call to suggestCharts:', error);\n",
              "      }\n",
              "      quickchartButtonEl.classList.remove('colab-df-spinner');\n",
              "      quickchartButtonEl.classList.add('colab-df-quickchart-complete');\n",
              "    }\n",
              "    (() => {\n",
              "      let quickchartButtonEl =\n",
              "        document.querySelector('#df-0d8e8683-dacb-4558-a66c-3b726354c8ee button');\n",
              "      quickchartButtonEl.style.display =\n",
              "        google.colab.kernel.accessAllowed ? 'block' : 'none';\n",
              "    })();\n",
              "  </script>\n",
              "</div>\n",
              "    </div>\n",
              "  </div>\n"
            ]
          },
          "metadata": {},
          "execution_count": 47
        }
      ]
    },
    {
      "cell_type": "code",
      "source": [],
      "metadata": {
        "id": "WoYtSvB3V07_"
      },
      "execution_count": 15,
      "outputs": []
    }
  ]
}