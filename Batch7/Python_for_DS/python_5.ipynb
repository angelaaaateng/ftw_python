{
  "cells": [
    {
      "cell_type": "markdown",
      "metadata": {
        "id": "view-in-github",
        "colab_type": "text"
      },
      "source": [
        "<a href=\"https://colab.research.google.com/github/angelaaaateng/ftw_python/blob/main/python_5.ipynb\" target=\"_parent\"><img src=\"https://colab.research.google.com/assets/colab-badge.svg\" alt=\"Open In Colab\"/></a>"
      ]
    },
    {
      "cell_type": "markdown",
      "source": [
        "# Introduction to Python \n",
        "## FTW Foundation\n",
        "June 25, 2022 - Day 1 (Afternoon Session) \n",
        "\n",
        "## Outine: \n",
        "---\n",
        "1. Hello, World\n",
        "2. Python Basics\n",
        "3. Variables\n",
        "  - 3.1 Strings \n",
        "  - 3.2 Integers \n",
        "  - 3.3 Floats \n",
        "4. Data Types \n",
        " - 4.1 Lists \n",
        "    - Changing, Adding, and Removing Elements \n",
        "    - Organizing a List \n",
        "    - Avoiding Index Errors when Working with Lists\n",
        "    - Looping through an entire list\n",
        "    - Avoiding indentation errors\n",
        "    - Making numerical lists\n",
        "    - working with part of a list\n",
        " - 4.2 Tuples \n",
        " - 4.3 Dictionaries **< we are here >**\n",
        "5. Functions \n",
        "  - 5.1 Defining a Function\n",
        "  - 5.2 Passing Arguments \n",
        "  - 5.3 Return Values \n",
        "  - 5.4 Passing a List \n",
        "  - 5.5 Passing an Arbitrary Number of Arguments \n",
        "6. If statements  \n",
        "7. While loops \n",
        "\n",
        "A. Appendix\n",
        " - A.1 Variable Naming Conventions\n",
        " - A.2 The Zen of Python\n",
        "\n",
        "\n",
        "\n",
        "## References: \n",
        "---\n",
        "- <a href='https://ehmatthes.github.io/pcc/index.html'>Python Crash Course</a>"
      ],
      "metadata": {
        "id": "FxUDJsid0AHx"
      }
    },
    {
      "cell_type": "markdown",
      "metadata": {
        "id": "C9o1qEthz7_Y"
      },
      "source": [
        "Dictionaries\n",
        "===\n",
        "Dictionaries allow us to store connected bits of information. For example, you might store a person's name and age together."
      ]
    },
    {
      "cell_type": "markdown",
      "metadata": {
        "id": "PfKv_zmZz7_d"
      },
      "source": [
        "What are dictionaries?\n",
        "===\n",
        "Dictionaries are a way to store information that is connected in some way. Dictionaries store information in *key-value* pairs, so that any one piece of information in a dictionary is connected to at least one other piece of information.\n",
        "\n",
        "Dictionaries do not store their information in any particular order, so you may not get your information back in the same order you entered it."
      ]
    },
    {
      "cell_type": "markdown",
      "metadata": {
        "id": "Rv36lZk8z7_d"
      },
      "source": [
        "General Syntax\n",
        "---\n",
        "A general dictionary in Python looks something like this:"
      ]
    },
    {
      "cell_type": "code",
      "execution_count": null,
      "metadata": {
        "id": "PiPMeD6Gz7_e",
        "colab": {
          "base_uri": "https://localhost:8080/"
        },
        "outputId": "2dfdab4f-e64f-4c75-c776-188ca56f99a2"
      },
      "outputs": [
        {
          "output_type": "execute_result",
          "data": {
            "text/plain": [
              "{'key_1': 'value_1', 'key_2': 'value_2', 'key_3': 'value_3'}"
            ]
          },
          "metadata": {},
          "execution_count": 1
        }
      ],
      "source": [
        "dictionary_name = {'key_1': 'value_1', 'key_2': 'value_2', 'key_3': 'value_3'}\n",
        "dictionary_name "
      ]
    },
    {
      "cell_type": "markdown",
      "source": [
        "Consider a game featuring aliens that can have different colors and point\n",
        "values. This simple dictionary stores information about a particular alien:"
      ],
      "metadata": {
        "id": "Vcf4uC2s1Z8P"
      }
    },
    {
      "cell_type": "code",
      "source": [
        "alien_0 = {'color': 'green', 'points': 5}\n",
        "\n",
        "print(alien_0['color'])\n",
        "print(alien_0['points'])"
      ],
      "metadata": {
        "colab": {
          "base_uri": "https://localhost:8080/"
        },
        "id": "c_1dzwlx1HyY",
        "outputId": "eb814a7f-61af-4f78-d4c3-8a782fb91cd9"
      },
      "execution_count": null,
      "outputs": [
        {
          "output_type": "stream",
          "name": "stdout",
          "text": [
            "green\n",
            "5\n"
          ]
        }
      ]
    },
    {
      "cell_type": "code",
      "source": [
        "alien_1 = {'color': 'pink', 'points': 6}\n",
        "alien_1['color']"
      ],
      "metadata": {
        "colab": {
          "base_uri": "https://localhost:8080/",
          "height": 35
        },
        "id": "lvJQnAodDizP",
        "outputId": "4f75c99a-d9d2-487c-bd9a-656ea7214377"
      },
      "execution_count": null,
      "outputs": [
        {
          "output_type": "execute_result",
          "data": {
            "text/plain": [
              "'pink'"
            ],
            "application/vnd.google.colaboratory.intrinsic+json": {
              "type": "string"
            }
          },
          "metadata": {},
          "execution_count": 4
        }
      ]
    },
    {
      "cell_type": "code",
      "source": [
        "alien_1 = {'color': 'pink', 'points': 6, 'names': ['amber', 'myk']}\n",
        "alien_1['names']"
      ],
      "metadata": {
        "colab": {
          "base_uri": "https://localhost:8080/"
        },
        "id": "LQ9pRGQgDtmH",
        "outputId": "c6060c63-c4b8-4f8e-d63f-517bea2e05dc"
      },
      "execution_count": null,
      "outputs": [
        {
          "output_type": "execute_result",
          "data": {
            "text/plain": [
              "['amber', 'myk']"
            ]
          },
          "metadata": {},
          "execution_count": 5
        }
      ]
    },
    {
      "cell_type": "markdown",
      "metadata": {
        "id": "EHYXKrFXz7_f"
      },
      "source": [
        "Since the keys and values in dictionaries can be long, we often write just one key-value pair on a line. You might see dictionaries that look more like this:"
      ]
    },
    {
      "cell_type": "code",
      "execution_count": null,
      "metadata": {
        "id": "N7WW3R3Kz7_g"
      },
      "outputs": [],
      "source": [
        "dictionary_name = {'key_1': 'value_1',\n",
        "                   'key_2': 'value_2',\n",
        "                   'key_3': 'value_3',\n",
        "                   }"
      ]
    },
    {
      "cell_type": "markdown",
      "metadata": {
        "id": "Ab1En_myz7_g"
      },
      "source": [
        "This is a bit easier to read, especially if the values are long."
      ]
    },
    {
      "cell_type": "markdown",
      "metadata": {
        "id": "52-PlU7Dz7_h"
      },
      "source": [
        "Example\n",
        "---\n",
        "A simple example involves modeling an actual dictionary."
      ]
    },
    {
      "cell_type": "code",
      "execution_count": null,
      "metadata": {
        "id": "Cmn7C7E0z7_h",
        "colab": {
          "base_uri": "https://localhost:8080/"
        },
        "outputId": "e3082b4e-7adc-4472-8dd6-15699680ecc0"
      },
      "outputs": [
        {
          "output_type": "execute_result",
          "data": {
            "text/plain": [
              "{'dictionary': 'A collection of key-value pairs.',\n",
              " 'function': 'A named set of instructions that defines a set of actions in Python.',\n",
              " 'list': 'A collection of values that are not connected, but have an order.'}"
            ]
          },
          "metadata": {},
          "execution_count": 3
        }
      ],
      "source": [
        "python_words = {'list': 'A collection of values that are not connected, but have an order.',\n",
        "                'dictionary': 'A collection of key-value pairs.',\n",
        "                'function': 'A named set of instructions that defines a set of actions in Python.',\n",
        "                }\n",
        "\n",
        "python_words"
      ]
    },
    {
      "cell_type": "markdown",
      "metadata": {
        "id": "lFdGTDuUz7_i"
      },
      "source": [
        "We can get individual items out of the dictionary, by giving the dictionary's name, and the key in square brackets:"
      ]
    },
    {
      "cell_type": "code",
      "execution_count": null,
      "metadata": {
        "id": "Q3c4Srvez7_i",
        "colab": {
          "base_uri": "https://localhost:8080/"
        },
        "outputId": "baf69437-5876-441d-aa80-ab2826c1f273"
      },
      "outputs": [
        {
          "output_type": "stream",
          "name": "stdout",
          "text": [
            "\n",
            "Word: list\n",
            "Meaning: A collection of values that are not connected, but have an order.\n",
            "\n",
            "Word: dictionary\n",
            "Meaning: A collection of key-value pairs.\n",
            "\n",
            "Word: function\n",
            "Meaning: A named set of instructions that defines a set of actions in Python.\n"
          ]
        }
      ],
      "source": [
        "python_words = {'list': 'A collection of values that are not connected, but have an order.',\n",
        "                'dictionary': 'A collection of key-value pairs.',\n",
        "                'function': 'A named set of instructions that defines a set of actions in Python.',\n",
        "                }\n",
        "\n",
        "print(\"\\nWord: %s\" % 'list')\n",
        "print(\"Meaning: %s\" % python_words['list'])\n",
        "      \n",
        "print(\"\\nWord: %s\" % 'dictionary')\n",
        "print(\"Meaning: %s\" % python_words['dictionary'])\n",
        "\n",
        "print(\"\\nWord: %s\" % 'function')\n",
        "print(\"Meaning: %s\" % python_words['function'])"
      ]
    },
    {
      "cell_type": "code",
      "source": [
        "print(python_words['list'])\n",
        "print(python_words['dictionary'])\n",
        "print(python_words['function'])"
      ],
      "metadata": {
        "colab": {
          "base_uri": "https://localhost:8080/"
        },
        "id": "Y9TGcnzA1xIg",
        "outputId": "19ec9b0f-9da4-4f2d-c70e-f2778414c6e9"
      },
      "execution_count": null,
      "outputs": [
        {
          "output_type": "stream",
          "name": "stdout",
          "text": [
            "A collection of values that are not connected, but have an order.\n",
            "A collection of key-value pairs.\n",
            "A named set of instructions that defines a set of actions in Python.\n"
          ]
        }
      ]
    },
    {
      "cell_type": "markdown",
      "metadata": {
        "id": "3p4qhWymz7_j"
      },
      "source": [
        "This code looks pretty repetitive, and it is. Dictionaries have their own for-loop syntax, but since there are two kinds of information in dictionaries, the structure is a bit more complicated than it is for lists. Here is how to use a for loop with a dictionary:"
      ]
    },
    {
      "cell_type": "code",
      "execution_count": null,
      "metadata": {
        "id": "gvUchrFuz7_j",
        "colab": {
          "base_uri": "https://localhost:8080/"
        },
        "outputId": "73d42801-77f5-4f5f-9827-d5d4df4f51b2"
      },
      "outputs": [
        {
          "output_type": "stream",
          "name": "stdout",
          "text": [
            "\n",
            "Word: list\n",
            "Meaning: A collection of values that are not connected, but have an order.\n",
            "\n",
            "Word: dictionary\n",
            "Meaning: A collection of key-value pairs.\n",
            "\n",
            "Word: function\n",
            "Meaning: A named set of instructions that defines a set of actions in Python.\n"
          ]
        }
      ],
      "source": [
        "python_words = {'list': 'A collection of values that are not connected, but have an order.',\n",
        "                'dictionary': 'A collection of key-value pairs.',\n",
        "                'function': 'A named set of instructions that defines a set of actions in Python.',\n",
        "                }\n",
        "\n",
        "# Print out the items in the dictionary.\n",
        "for word, meaning in python_words.items():\n",
        "    print(\"\\nWord: %s\" % word)\n",
        "    print(\"Meaning: %s\" % meaning)"
      ]
    },
    {
      "cell_type": "code",
      "source": [
        "python_words.items()"
      ],
      "metadata": {
        "colab": {
          "base_uri": "https://localhost:8080/"
        },
        "id": "OVO8bnkx2BWA",
        "outputId": "6885b5eb-d689-4dea-a8d4-3657a018c046"
      },
      "execution_count": null,
      "outputs": [
        {
          "output_type": "execute_result",
          "data": {
            "text/plain": [
              "dict_items([('list', 'A collection of values that are not connected, but have an order.'), ('dictionary', 'A collection of key-value pairs.'), ('function', 'A named set of instructions that defines a set of actions in Python.')])"
            ]
          },
          "metadata": {},
          "execution_count": 17
        }
      ]
    },
    {
      "cell_type": "markdown",
      "metadata": {
        "id": "Cnp-5kWPz7_j"
      },
      "source": [
        "The output is identical, but we did it in 3 lines instead of 6. If we had 100 terms in our dictionary, we would still be able to print them out with just 3 lines.\n",
        "\n",
        "The only tricky part about using for loops with dictionaries is figuring out what to call those first two variables. The general syntax for this for loop is:"
      ]
    },
    {
      "cell_type": "code",
      "execution_count": null,
      "metadata": {
        "id": "rpV6dSUcz7_k",
        "colab": {
          "base_uri": "https://localhost:8080/"
        },
        "outputId": "1f1567e6-d460-4c2e-ecab-aa44c2ed87c8"
      },
      "outputs": [
        {
          "output_type": "stream",
          "name": "stdout",
          "text": [
            "key_1\n",
            "value_1\n",
            "key_2\n",
            "value_2\n",
            "key_3\n",
            "value_3\n"
          ]
        }
      ],
      "source": [
        "for key_name, value_name in dictionary_name.items():\n",
        "    print(key_name) # The key is stored in whatever you called the first variable.\n",
        "    print(value_name) # The value associated with that key is stored in your second variable."
      ]
    },
    {
      "cell_type": "markdown",
      "metadata": {
        "id": "H3OBFh-sz7_k"
      },
      "source": [
        "Common operations with dictionaries\n",
        "===\n",
        "There are a few common things you will want to do with dictionaries. These include adding new key-value pairs, modifying information in the dictionary, and removing items from dictionaries."
      ]
    },
    {
      "cell_type": "markdown",
      "metadata": {
        "id": "RoQ17siVz7_k"
      },
      "source": [
        "Adding new key-value pairs\n",
        "---\n",
        "To add a new key-value pair, you give the dictionary name followed by the new key in square brackets, and set that equal to the new value. We will show this by starting with an empty dictionary, and re-creating the dictionary from the example above."
      ]
    },
    {
      "cell_type": "code",
      "execution_count": null,
      "metadata": {
        "id": "oKESV6Wsz7_k",
        "colab": {
          "base_uri": "https://localhost:8080/"
        },
        "outputId": "77fda2ec-2497-486d-9c55-c7cea811fdc8"
      },
      "outputs": [
        {
          "output_type": "stream",
          "name": "stdout",
          "text": [
            "Initial dictionary: {}\n",
            "\n",
            "Word: list\n",
            "Meaning: A collection of values that are not connected, but have an order.\n",
            "\n",
            "Word: dictionary\n",
            "Meaning: A collection of key-value pairs.\n",
            "\n",
            "Word: function\n",
            "Meaning: A named set of instructions that defines a set of actions in Python.\n",
            "\n",
            "Final dictionary: {'list': 'A collection of values that are not connected, but have an order.', 'dictionary': 'A collection of key-value pairs.', 'function': 'A named set of instructions that defines a set of actions in Python.'}\n"
          ]
        }
      ],
      "source": [
        "# Create an empty dictionary.\n",
        "python_words = {}\n",
        "print(\"Initial dictionary:\", python_words)\n",
        "\n",
        "# Fill the dictionary, pair by pair.\n",
        "python_words['list'] ='A collection of values that are not connected, but have an order.'\n",
        "python_words['dictionary'] = 'A collection of key-value pairs.'\n",
        "python_words['function'] = 'A named set of instructions that defines a set of actions in Python.'\n",
        "\n",
        "# Print out the items in the dictionary.\n",
        "for word, meaning in python_words.items():\n",
        "    print(\"\\nWord: %s\" % word)\n",
        "    print(\"Meaning: %s\" % meaning)\n",
        "\n",
        "print(\"\\nFinal dictionary:\", python_words)"
      ]
    },
    {
      "cell_type": "code",
      "source": [
        "python_words"
      ],
      "metadata": {
        "colab": {
          "base_uri": "https://localhost:8080/"
        },
        "id": "hw64uzjpERgm",
        "outputId": "47f2836a-8465-4bb3-f5d8-98564b9ad91f"
      },
      "execution_count": null,
      "outputs": [
        {
          "output_type": "execute_result",
          "data": {
            "text/plain": [
              "{'dictionary': 'A collection of key-value pairs.',\n",
              " 'function': 'A named set of instructions that defines a set of actions in Python.',\n",
              " 'list': 'A collection of values that are not connected, but have an order.'}"
            ]
          },
          "metadata": {},
          "execution_count": 6
        }
      ]
    },
    {
      "cell_type": "markdown",
      "metadata": {
        "id": "_sld00T8z7_l"
      },
      "source": [
        "Modifying values in a dictionary\n",
        "---\n",
        "At some point you may want to modify one of the values in your dictionary. Modifying a value in a dictionary is pretty similar to modifying an element in a list. You give the name of the dictionary and then the key in square brackets, and set that equal to the new value."
      ]
    },
    {
      "cell_type": "code",
      "execution_count": null,
      "metadata": {
        "id": "47Lx4zgPz7_l",
        "colab": {
          "base_uri": "https://localhost:8080/"
        },
        "outputId": "cabe01cd-1161-4903-a4ea-c23c8146ed5b"
      },
      "outputs": [
        {
          "output_type": "stream",
          "name": "stdout",
          "text": [
            "dictionary: A collection of key-value pairs.\n",
            "\n",
            "dictionary: A collection of key-value pairs. Each key can be used to access its corresponding value.\n"
          ]
        }
      ],
      "source": [
        "python_words = {'list': 'A collection of values that are not connected, but have an order.',\n",
        "                'dictionary': 'A collection of key-value pairs.',\n",
        "                'function': 'A named set of instructions that defines a set of actions in Python.',\n",
        "                }\n",
        "\n",
        "print('dictionary: ' + python_words['dictionary'])\n",
        "    \n",
        "# Clarify one of the meanings.\n",
        "python_words['dictionary'] = 'A collection of key-value pairs. Each key can be used to access its corresponding value.'\n",
        "\n",
        "print('\\ndictionary: ' + python_words['dictionary'])"
      ]
    },
    {
      "cell_type": "markdown",
      "metadata": {
        "id": "v1-chBpVz7_l"
      },
      "source": [
        "Removing key-value pairs\n",
        "---\n",
        "You may want to remove some key-value pairs from one of your dictionaries at some point. You can do this using the same `del` command you learned to use with lists. To remove a key-value pair, you give the `del` command, followed by the name of the dictionary, with the key that you want to delete. This removes the key and the value as a pair."
      ]
    },
    {
      "cell_type": "code",
      "execution_count": null,
      "metadata": {
        "id": "lnzNt6Wtz7_l",
        "colab": {
          "base_uri": "https://localhost:8080/"
        },
        "outputId": "fbda7a87-1851-45c0-e461-00b98e0f9c5b"
      },
      "outputs": [
        {
          "output_type": "stream",
          "name": "stdout",
          "text": [
            "\n",
            "\n",
            "These are the Python words I know:\n",
            "\n",
            "Word: list\n",
            "Meaning: A collection of values that are not connected, but have an order.\n",
            "\n",
            "Word: dictionary\n",
            "Meaning: A collection of key-value pairs.\n",
            "\n",
            "Word: function\n",
            "Meaning: A named set of instructions that defines a set of actions in Python.\n",
            "\n",
            "\n",
            "These are the Python words I know:\n",
            "\n",
            "Word: dictionary\n",
            "Meaning: A collection of key-value pairs.\n",
            "\n",
            "Word: function\n",
            "Meaning: A named set of instructions that defines a set of actions in Python.\n"
          ]
        }
      ],
      "source": [
        "python_words = {'list': 'A collection of values that are not connected, but have an order.',\n",
        "                'dictionary': 'A collection of key-value pairs.',\n",
        "                'function': 'A named set of instructions that defines a set of actions in Python.',\n",
        "                }\n",
        "\n",
        "# Show the current set of words and meanings.\n",
        "print(\"\\n\\nThese are the Python words I know:\")\n",
        "for word, meaning in python_words.items():\n",
        "    print(\"\\nWord: %s\" % word)\n",
        "    print(\"Meaning: %s\" % meaning)\n",
        "    \n",
        "# Remove the word 'list' and its meaning.\n",
        "del python_words['list']\n",
        "\n",
        "# Show the current set of words and meanings.\n",
        "print(\"\\n\\nThese are the Python words I know:\")\n",
        "for word, meaning in python_words.items():\n",
        "    print(\"\\nWord: %s\" % word)\n",
        "    print(\"Meaning: %s\" % meaning)"
      ]
    },
    {
      "cell_type": "markdown",
      "metadata": {
        "id": "d2Eijzacz7_m"
      },
      "source": [
        "If you were going to work with this code, you would certainly want to put the code for displaying the dictionary into a function. Let's see what this looks like:"
      ]
    },
    {
      "cell_type": "code",
      "execution_count": null,
      "metadata": {
        "id": "pSRMu2icz7_m",
        "colab": {
          "base_uri": "https://localhost:8080/"
        },
        "outputId": "2ff47c48-da08-4930-a93c-125f334468b1"
      },
      "outputs": [
        {
          "output_type": "stream",
          "name": "stdout",
          "text": [
            "\n",
            "\n",
            "These are the Python words I know:\n",
            "\n",
            "Word: list\n",
            "Meaning: A collection of values that are not connected, but have an order.\n",
            "\n",
            "Word: dictionary\n",
            "Meaning: A collection of key-value pairs.\n",
            "\n",
            "Word: function\n",
            "Meaning: A named set of instructions that defines a set of actions in Python.\n",
            "\n",
            "\n",
            "These are the Python words I know:\n",
            "\n",
            "Word: dictionary\n",
            "Meaning: A collection of key-value pairs.\n",
            "\n",
            "Word: function\n",
            "Meaning: A named set of instructions that defines a set of actions in Python.\n"
          ]
        }
      ],
      "source": [
        "\n",
        "def show_words_meanings(python_words):\n",
        "    # This function takes in a dictionary of python words and meanings,\n",
        "    #  and prints out each word with its meaning.\n",
        "    print(\"\\n\\nThese are the Python words I know:\")\n",
        "    for word, meaning in python_words.items():\n",
        "        print(\"\\nWord: %s\" % word)\n",
        "        print(\"Meaning: %s\" % meaning)\n",
        "        \n",
        "\n",
        "python_words = {'list': 'A collection of values that are not connected, but have an order.',\n",
        "                'dictionary': 'A collection of key-value pairs.',\n",
        "                'function': 'A named set of instructions that defines a set of actions in Python.',\n",
        "                }\n",
        "\n",
        "show_words_meanings(python_words)\n",
        "    \n",
        "# Remove the word 'list' and its meaning.\n",
        "del python_words['list']\n",
        "\n",
        "show_words_meanings(python_words)"
      ]
    },
    {
      "cell_type": "markdown",
      "metadata": {
        "id": "3u9I9vr5z7_m"
      },
      "source": [
        "As long as we have a nice clean function to work with, let's clean up our output a little:"
      ]
    },
    {
      "cell_type": "code",
      "execution_count": null,
      "metadata": {
        "id": "zckBz_4vz7_m",
        "colab": {
          "base_uri": "https://localhost:8080/"
        },
        "outputId": "b99eeaef-c186-45f8-cadb-e70c81b98da0"
      },
      "outputs": [
        {
          "output_type": "stream",
          "name": "stdout",
          "text": [
            "\n",
            "\n",
            "These are the Python words I know:\n",
            "\n",
            "list: A collection of values that are not connected, but have an order.\n",
            "\n",
            "dictionary: A collection of key-value pairs.\n",
            "\n",
            "function: A named set of instructions that defines a set of actions in Python.\n",
            "\n",
            "\n",
            "These are the Python words I know:\n",
            "\n",
            "dictionary: A collection of key-value pairs.\n",
            "\n",
            "function: A named set of instructions that defines a set of actions in Python.\n"
          ]
        }
      ],
      "source": [
        "\n",
        "def show_words_meanings(python_words):\n",
        "    # This function takes in a dictionary of python words and meanings,\n",
        "    #  and prints out each word with its meaning.\n",
        "    print(\"\\n\\nThese are the Python words I know:\")\n",
        "    for word, meaning in python_words.items():\n",
        "        print(\"\\n%s: %s\" % (word, meaning))\n",
        "        \n",
        "\n",
        "python_words = {'list': 'A collection of values that are not connected, but have an order.',\n",
        "                'dictionary': 'A collection of key-value pairs.',\n",
        "                'function': 'A named set of instructions that defines a set of actions in Python.',\n",
        "                }\n",
        "\n",
        "show_words_meanings(python_words)\n",
        "    \n",
        "# Remove the word 'list' and its meaning.\n",
        "del python_words['list']\n",
        "\n",
        "show_words_meanings(python_words)"
      ]
    },
    {
      "cell_type": "markdown",
      "metadata": {
        "id": "Cg1QddU1z7_n"
      },
      "source": [
        "This is much more realistic code."
      ]
    },
    {
      "cell_type": "markdown",
      "metadata": {
        "id": "mr_SpTgrz7_n"
      },
      "source": [
        "Modifying keys in a dictionary\n",
        "---\n",
        "Modifying a value in a dictionary was straightforward, because nothing else depends on the value. Modifying a key is a little harder, because each key is used to unlock a value. We can change a key in two steps:\n",
        "\n",
        "- Make a new key, and copy the value to the new key.\n",
        "- Delete the old key, which also deletes the old value.\n",
        "\n",
        "Here's what this looks like. We will use a dictionary with just one key-value pair, to keep things simple."
      ]
    },
    {
      "cell_type": "code",
      "execution_count": null,
      "metadata": {
        "id": "3udLyu8kz7_n",
        "colab": {
          "base_uri": "https://localhost:8080/"
        },
        "outputId": "846e82de-5280-4c97-aee7-2f25fd1daa96"
      },
      "outputs": [
        {
          "output_type": "stream",
          "name": "stdout",
          "text": [
            "{'lisst': 'A collection of values that are not connected, but have an order.'}\n",
            "{'list': 'A collection of values that are not connected, but have an order.'}\n"
          ]
        }
      ],
      "source": [
        "# We have a spelling mistake!\n",
        "python_words = {'lisst': 'A collection of values that are not connected, but have an order.'}\n",
        "print(python_words)\n",
        "# Create a new, correct key, and connect it to the old value.\n",
        "#  Then delete the old key.\n",
        "python_words['list'] = python_words['lisst']\n",
        "del python_words['lisst']\n",
        "\n",
        "# Print the dictionary, to show that the key has changed.\n",
        "print(python_words)"
      ]
    },
    {
      "cell_type": "markdown",
      "metadata": {
        "id": "A8Us_cEez7_n"
      },
      "source": [
        "Looping through a dictionary\n",
        "===\n",
        "Since dictionaries are really about connecting bits of information, you will often use them in the ways described above, where you add key-value pairs whenever you receive some new information, and then you retrieve the key-value pairs that you care about. Sometimes, however, you will want to loop through the entire dictionary. There are several ways to do this:\n",
        "\n",
        "- You can loop through all key-value pairs;\n",
        "- You can loop through the keys, and pull out the values for any keys that you care about;\n",
        "- You can loop through the values."
      ]
    },
    {
      "cell_type": "markdown",
      "metadata": {
        "id": "6R1pZJxkz7_n"
      },
      "source": [
        "Looping through all key-value pairs\n",
        "---\n",
        "This is the kind of loop that was shown in the first example. Here's what this loop looks like, in a general format:"
      ]
    },
    {
      "cell_type": "code",
      "execution_count": null,
      "metadata": {
        "id": "zqe_KLaez7_n",
        "colab": {
          "base_uri": "https://localhost:8080/"
        },
        "outputId": "382d2e1b-4726-48a1-818c-c42466a85d14"
      },
      "outputs": [
        {
          "output_type": "stream",
          "name": "stdout",
          "text": [
            "\n",
            "Key: key_1\n",
            "Value: value_1\n",
            "\n",
            "Key: key_2\n",
            "Value: value_2\n",
            "\n",
            "Key: key_3\n",
            "Value: value_3\n"
          ]
        }
      ],
      "source": [
        "my_dict = {'key_1': 'value_1',\n",
        "    'key_2': 'value_2',\n",
        "    'key_3': 'value_3',\n",
        "    }\n",
        "\n",
        "for key, value in my_dict.items():\n",
        "    print('\\nKey: %s' % key)\n",
        "    print('Value: %s' % value)"
      ]
    },
    {
      "cell_type": "markdown",
      "metadata": {
        "id": "J3zEJQHbz7_o"
      },
      "source": [
        "This works because the method `.items()` pulls all key-value pairs from a dictionary into a list of tuples:"
      ]
    },
    {
      "cell_type": "code",
      "execution_count": null,
      "metadata": {
        "id": "G8h4Fs_tz7_o",
        "colab": {
          "base_uri": "https://localhost:8080/"
        },
        "outputId": "7824b498-b5e8-4a3e-9ac5-29fc72b2a973"
      },
      "outputs": [
        {
          "output_type": "stream",
          "name": "stdout",
          "text": [
            "dict_items([('key_1', 'value_1'), ('key_2', 'value_2'), ('key_3', 'value_3')])\n"
          ]
        }
      ],
      "source": [
        "my_dict = {'key_1': 'value_1',\n",
        "    'key_2': 'value_2',\n",
        "    'key_3': 'value_3',\n",
        "    }\n",
        "\n",
        "print(my_dict.items())"
      ]
    },
    {
      "cell_type": "markdown",
      "metadata": {
        "id": "F-q_EXHwz7_o"
      },
      "source": [
        "The syntax `for key, value in my_dict.items():` does the work of looping through this list of tuples, and pulling the first and second item from each tuple for us.\n",
        "\n",
        "There is nothing special about any of these variable names, so Python code that uses this syntax becomes really readable. Rather than create a new example of this loop, let's just look at the original example again to see this in a meaningful context:"
      ]
    },
    {
      "cell_type": "code",
      "execution_count": null,
      "metadata": {
        "id": "KVA02n1Qz7_o",
        "colab": {
          "base_uri": "https://localhost:8080/"
        },
        "outputId": "a81558c7-9b5e-4a15-f632-d530a191e3e6"
      },
      "outputs": [
        {
          "output_type": "stream",
          "name": "stdout",
          "text": [
            "\n",
            "Word: list\n",
            "Meaning: A collection of values that are not connected, but have an order.\n",
            "\n",
            "Word: dictionary\n",
            "Meaning: A collection of key-value pairs.\n",
            "\n",
            "Word: function\n",
            "Meaning: A named set of instructions that defines a set of actions in Python.\n"
          ]
        }
      ],
      "source": [
        "python_words = {'list': 'A collection of values that are not connected, but have an order.',\n",
        "                'dictionary': 'A collection of key-value pairs.',\n",
        "                'function': 'A named set of instructions that defines a set of actions in Python.',\n",
        "                }\n",
        "\n",
        "for word, meaning in python_words.items():\n",
        "    print(\"\\nWord: %s\" % word)\n",
        "    print(\"Meaning: %s\" % meaning)"
      ]
    },
    {
      "cell_type": "markdown",
      "metadata": {
        "id": "DDIyKpF0z7_p"
      },
      "source": [
        "Looping through all keys in a dictionary\n",
        "---\n",
        "Python provides a clear syntax for looping through just the keys in a dictionary:"
      ]
    },
    {
      "cell_type": "code",
      "execution_count": null,
      "metadata": {
        "id": "nqAxaX00z7_p",
        "colab": {
          "base_uri": "https://localhost:8080/"
        },
        "outputId": "61473768-6df6-4ca3-ea82-d001b613ea62"
      },
      "outputs": [
        {
          "output_type": "stream",
          "name": "stdout",
          "text": [
            "Key: key_1\n",
            "Key: key_2\n",
            "Key: key_3\n"
          ]
        }
      ],
      "source": [
        "my_dict = {'key_1': 'value_1',\n",
        "    'key_2': 'value_2',\n",
        "    'key_3': 'value_3',\n",
        "    }\n",
        "\n",
        "for key in my_dict.keys():\n",
        "    print('Key: %s' % key)"
      ]
    },
    {
      "cell_type": "markdown",
      "metadata": {
        "id": "NlDKwAxRz7_p"
      },
      "source": [
        "This is actually the default behavior of looping through the dictionary itself. So you can leave out the `.keys()` part, and get the exact same behavior:"
      ]
    },
    {
      "cell_type": "code",
      "execution_count": null,
      "metadata": {
        "id": "542AxIBFz7_p",
        "colab": {
          "base_uri": "https://localhost:8080/"
        },
        "outputId": "a6d72817-5a66-4e96-dda1-899829797c35"
      },
      "outputs": [
        {
          "output_type": "stream",
          "name": "stdout",
          "text": [
            "Key: key_1\n",
            "Key: key_2\n",
            "Key: key_3\n"
          ]
        }
      ],
      "source": [
        "\n",
        "my_dict = {'key_1': 'value_1',\n",
        "    'key_2': 'value_2',\n",
        "    'key_3': 'value_3',\n",
        "    }\n",
        "\n",
        "for key in my_dict:\n",
        "    print('Key: %s' % key)"
      ]
    },
    {
      "cell_type": "markdown",
      "metadata": {
        "id": "WuKseCFfz7_q"
      },
      "source": [
        "The only advantage of using the `.keys()` in the code is a little bit of clarity. But anyone who knows Python reasonably well is going to recognize what the second version does. In the rest of our code, we will leave out the `.keys()` when we want this behavior.\n",
        "\n",
        "You can pull out the value of any key that you are interested in within your loop, using the standard notation for accessing a dictionary value from a key:"
      ]
    },
    {
      "cell_type": "code",
      "execution_count": null,
      "metadata": {
        "id": "gSV73e2uz7_q",
        "colab": {
          "base_uri": "https://localhost:8080/"
        },
        "outputId": "cf9602f5-0ff5-4516-ea0b-deea767b77da"
      },
      "outputs": [
        {
          "output_type": "stream",
          "name": "stdout",
          "text": [
            "Key: key_1\n",
            "Key: key_2\n",
            "  The value for key_2 is value_2.\n",
            "Key: key_3\n"
          ]
        }
      ],
      "source": [
        "\n",
        "my_dict = {'key_1': 'value_1',\n",
        "    'key_2': 'value_2',\n",
        "    'key_3': 'value_3',\n",
        "    }\n",
        "\n",
        "for key in my_dict:\n",
        "    print('Key: %s' % key)\n",
        "    if key == 'key_2':\n",
        "        print(\"  The value for key_2 is %s.\" % my_dict[key])"
      ]
    },
    {
      "cell_type": "markdown",
      "metadata": {
        "id": "X9FF16Wpz7_q"
      },
      "source": [
        "Let's show how we might use this in our Python words program. This kind of loop provides a straightforward way to show only the words in the dictionary:"
      ]
    },
    {
      "cell_type": "code",
      "execution_count": null,
      "metadata": {
        "id": "53diGz_Lz7_q",
        "colab": {
          "base_uri": "https://localhost:8080/"
        },
        "outputId": "46506e82-1483-4ffc-e3fb-34b4e61fcb81"
      },
      "outputs": [
        {
          "output_type": "stream",
          "name": "stdout",
          "text": [
            "The following Python words have been defined:\n",
            "- list\n",
            "- dictionary\n",
            "- function\n"
          ]
        }
      ],
      "source": [
        "python_words = {'list': 'A collection of values that are not connected, but have an order.',\n",
        "                'dictionary': 'A collection of key-value pairs.',\n",
        "                'function': 'A named set of instructions that defines a set of actions in Python.',\n",
        "                }\n",
        "\n",
        "# Show the words that are currently in the dictionary.\n",
        "print(\"The following Python words have been defined:\")\n",
        "for word in python_words:\n",
        "    print(\"- %s\" % word)"
      ]
    },
    {
      "cell_type": "markdown",
      "metadata": {
        "id": "vOxzrshxz7_q"
      },
      "source": [
        "We can extend this slightly to make a program that lets you look up words. We first let the user choose a word. When the user has chosen a word, we get the meaning for that word, and display it:"
      ]
    },
    {
      "cell_type": "code",
      "execution_count": null,
      "metadata": {
        "scrolled": false,
        "id": "uQag46wkz7_q",
        "colab": {
          "base_uri": "https://localhost:8080/"
        },
        "outputId": "627a148a-d6ee-438d-f2c4-31b9b456b820"
      },
      "outputs": [
        {
          "output_type": "stream",
          "name": "stdout",
          "text": [
            "The following Python words have been defined:\n",
            "- list\n",
            "- dictionary\n",
            "- function\n",
            "\n",
            "What word would you like to learn about? list\n",
            "\n",
            "list: A collection of values that are not connected, but have an order.\n"
          ]
        }
      ],
      "source": [
        "\n",
        "python_words = {'list': 'A collection of values that are not connected, but have an order.',\n",
        "                'dictionary': 'A collection of key-value pairs.',\n",
        "                'function': 'A named set of instructions that defines a set of actions in Python.',\n",
        "                }\n",
        "\n",
        "# Show the words that are currently in the dictionary.\n",
        "print(\"The following Python words have been defined:\")\n",
        "for word in python_words:\n",
        "    print(\"- %s\" % word)\n",
        "    \n",
        "# Allow the user to choose a word, and then display the meaning for that word.\n",
        "requested_word = input(\"\\nWhat word would you like to learn about? \")\n",
        "print(\"\\n%s: %s\" % (requested_word, python_words[requested_word]))"
      ]
    },
    {
      "cell_type": "markdown",
      "metadata": {
        "id": "tyEFimE-z7_q"
      },
      "source": [
        "This allows the user to select one word that has been defined. If we enclose the input part of the program in a while loop, the user can see as many definitions as they'd like:"
      ]
    },
    {
      "cell_type": "code",
      "execution_count": null,
      "metadata": {
        "id": "JpIflP6nz7_q",
        "colab": {
          "base_uri": "https://localhost:8080/"
        },
        "outputId": "67bf5c40-4771-4b56-827a-937e32219655"
      },
      "outputs": [
        {
          "output_type": "stream",
          "name": "stdout",
          "text": [
            "The following Python words have been defined:\n",
            "- list\n",
            "- dictionary\n",
            "- function\n",
            "\n",
            "What word would you like to learn about? (or 'quit') list\n",
            "\n",
            "  list: A collection of values that are not connected, but have an order.\n",
            "\n",
            "What word would you like to learn about? (or 'quit') quit\n",
            "\n",
            "  Sorry, I don't know that word.\n"
          ]
        }
      ],
      "source": [
        "###highlight=[12,13,14,15,16,17,18,19,20]\n",
        "python_words = {'list': 'A collection of values that are not connected, but have an order.',\n",
        "                'dictionary': 'A collection of key-value pairs.',\n",
        "                'function': 'A named set of instructions that defines a set of actions in Python.',\n",
        "                }\n",
        "\n",
        "# Show the words that are currently in the dictionary.\n",
        "print(\"The following Python words have been defined:\")\n",
        "for word in python_words:\n",
        "    print(\"- %s\" % word)\n",
        "\n",
        "requested_word = ''\n",
        "while requested_word != 'quit':\n",
        "    # Allow the user to choose a word, and then display the meaning for that word.\n",
        "    requested_word = input(\"\\nWhat word would you like to learn about? (or 'quit') \")\n",
        "    if requested_word in python_words.keys():\n",
        "        print(\"\\n  %s: %s\" % (requested_word, python_words[requested_word]))\n",
        "    else:\n",
        "        # Handle misspellings, and words not yet stored.\n",
        "        print(\"\\n  Sorry, I don't know that word.\")"
      ]
    },
    {
      "cell_type": "markdown",
      "metadata": {
        "id": "3mk7aQTzz7_r"
      },
      "source": [
        "This allows the user to ask for as many meanings as they want, but it takes the word \"quit\" as a requested word. Let's add an `elif` clause to clean up this behavior:"
      ]
    },
    {
      "cell_type": "code",
      "execution_count": null,
      "metadata": {
        "id": "a8NgJVIWz7_r",
        "colab": {
          "base_uri": "https://localhost:8080/"
        },
        "outputId": "8fa410ea-65e6-4d3d-afae-2b23a4ea58e0"
      },
      "outputs": [
        {
          "output_type": "stream",
          "name": "stdout",
          "text": [
            "The following Python words have been defined:\n",
            "- list\n",
            "- dictionary\n",
            "- function\n",
            "\n",
            "What word would you like to learn about? (or 'quit') function\n",
            "\n",
            "  function: A named set of instructions that defines a set of actions in Python.\n",
            "\n",
            "What word would you like to learn about? (or 'quit') quit\n",
            "\n",
            "  Bye!\n"
          ]
        }
      ],
      "source": [
        "\n",
        "python_words = {'list': 'A collection of values that are not connected, but have an order.',\n",
        "                'dictionary': 'A collection of key-value pairs.',\n",
        "                'function': 'A named set of instructions that defines a set of actions in Python.',\n",
        "                }\n",
        "\n",
        "# Show the words that are currently in the dictionary.\n",
        "print(\"The following Python words have been defined:\")\n",
        "for word in python_words:\n",
        "    print(\"- %s\" % word)\n",
        "\n",
        "requested_word = ''\n",
        "while requested_word != 'quit':\n",
        "    # Allow the user to choose a word, and then display the meaning for that word.\n",
        "    requested_word = input(\"\\nWhat word would you like to learn about? (or 'quit') \")\n",
        "    if requested_word in python_words.keys():\n",
        "        # This is a word we know, so show the meaning.\n",
        "        print(\"\\n  %s: %s\" % (requested_word, python_words[requested_word]))\n",
        "    elif requested_word != 'quit':\n",
        "        # This is not in python_words, and it's not 'quit'.\n",
        "        print(\"\\n  Sorry, I don't know that word.\")\n",
        "    else:\n",
        "        # The word is quit.\n",
        "        print(\"\\n  Bye!\")"
      ]
    },
    {
      "cell_type": "markdown",
      "metadata": {
        "id": "iHmfUSjhz7_r"
      },
      "source": [
        "Looping through all values in a dictionary\n",
        "---\n",
        "Python provides a straightforward syntax for looping through all the values in a dictionary, as well:"
      ]
    },
    {
      "cell_type": "code",
      "execution_count": null,
      "metadata": {
        "id": "TIQI0ZPqz7_r",
        "colab": {
          "base_uri": "https://localhost:8080/"
        },
        "outputId": "69815cab-15c5-425e-a446-0fc05d278f58"
      },
      "outputs": [
        {
          "output_type": "stream",
          "name": "stdout",
          "text": [
            "Value: value_1\n",
            "Value: value_2\n",
            "Value: value_3\n"
          ]
        }
      ],
      "source": [
        "my_dict = {'key_1': 'value_1',\n",
        "    'key_2': 'value_2',\n",
        "    'key_3': 'value_3',\n",
        "    }\n",
        "\n",
        "for value in my_dict.values():\n",
        "    print('Value: %s' % value)"
      ]
    },
    {
      "cell_type": "markdown",
      "metadata": {
        "id": "KDcluLrXz7_r"
      },
      "source": [
        "We can use this loop syntax to have a little fun with the dictionary example, by making a little quiz program. The program will display a meaning, and ask the user to guess the word that matches that meaning. Let's start out by showing all the meanings in the dictionary:"
      ]
    },
    {
      "cell_type": "code",
      "execution_count": null,
      "metadata": {
        "id": "smE4sw6yz7_r",
        "colab": {
          "base_uri": "https://localhost:8080/"
        },
        "outputId": "0e50fa5e-7daf-488a-e966-5a975b9e15ae"
      },
      "outputs": [
        {
          "output_type": "stream",
          "name": "stdout",
          "text": [
            "Meaning: A collection of values that are not connected, but have an order.\n",
            "Meaning: A collection of key-value pairs.\n",
            "Meaning: A named set of instructions that defines a set of actions in Python.\n"
          ]
        }
      ],
      "source": [
        "python_words = {'list': 'A collection of values that are not connected, but have an order.',\n",
        "                'dictionary': 'A collection of key-value pairs.',\n",
        "                'function': 'A named set of instructions that defines a set of actions in Python.',\n",
        "                }\n",
        "\n",
        "for meaning in python_words.values():\n",
        "    print(\"Meaning: %s\" % meaning)"
      ]
    },
    {
      "cell_type": "markdown",
      "metadata": {
        "id": "47yOKiKNz7_s"
      },
      "source": [
        "Now we can add a prompt after each meaning, asking the user to guess the word:"
      ]
    },
    {
      "cell_type": "code",
      "execution_count": null,
      "metadata": {
        "id": "cG9-quHkz7_s",
        "colab": {
          "base_uri": "https://localhost:8080/"
        },
        "outputId": "b82d5481-109c-4888-9732-16fa105b9083"
      },
      "outputs": [
        {
          "output_type": "stream",
          "name": "stdout",
          "text": [
            "\n",
            "Meaning: A collection of values that are not connected, but have an order.\n",
            "What word do you think this is? list\n",
            "You got it!\n",
            "\n",
            "Meaning: A collection of key-value pairs.\n",
            "What word do you think this is? dictionary\n",
            "You got it!\n",
            "\n",
            "Meaning: A named set of instructions that defines a set of actions in Python.\n",
            "What word do you think this is? function\n",
            "You got it!\n"
          ]
        }
      ],
      "source": [
        "\n",
        "python_words = {'list': 'A collection of values that are not connected, but have an order.',\n",
        "                'dictionary': 'A collection of key-value pairs.',\n",
        "                'function': 'A named set of instructions that defines a set of actions in Python.',\n",
        "                }\n",
        "\n",
        "# Print each meaning, one at a time, and ask the user\n",
        "#  what word they think it is.\n",
        "for meaning in python_words.values():\n",
        "    print(\"\\nMeaning: %s\" % meaning)\n",
        "    \n",
        "    guessed_word = input(\"What word do you think this is? \")\n",
        "    \n",
        "    # The guess is correct if the guessed word's meaning matches the current meaning.\n",
        "    if python_words[guessed_word] == meaning:\n",
        "        print(\"You got it!\")\n",
        "    else:\n",
        "        print(\"Sorry, that's just not the right word.\")"
      ]
    },
    {
      "cell_type": "markdown",
      "metadata": {
        "id": "oS0-_9lZz7_s"
      },
      "source": [
        "This is starting to work, but we can see from the output that the user does not get the chance to take a second guess if they guess wrong for any meaning. We can use a while loop around the guessing code, to let the user guess until they get it right:"
      ]
    },
    {
      "cell_type": "code",
      "execution_count": null,
      "metadata": {
        "id": "PSwXtLw6z7_s",
        "colab": {
          "base_uri": "https://localhost:8080/"
        },
        "outputId": "2441a232-3068-4fdc-d435-a9799e08d662"
      },
      "outputs": [
        {
          "output_type": "stream",
          "name": "stdout",
          "text": [
            "\n",
            "Meaning: A collection of values that are not connected, but have an order.\n",
            "\n",
            "What word do you think this is? list\n",
            "You got it!\n",
            "\n",
            "Meaning: A collection of key-value pairs.\n",
            "\n",
            "What word do you think this is? list\n",
            "Sorry, that's just not the right word.\n",
            "\n",
            "What word do you think this is? dictionary\n",
            "You got it!\n",
            "\n",
            "Meaning: A named set of instructions that defines a set of actions in Python.\n",
            "\n",
            "What word do you think this is? function\n",
            "You got it!\n"
          ]
        }
      ],
      "source": [
        "python_words = {'list': 'A collection of values that are not connected, but have an order.',\n",
        "                'dictionary': 'A collection of key-value pairs.',\n",
        "                'function': 'A named set of instructions that defines a set of actions in Python.',\n",
        "                }\n",
        "\n",
        "# Print each meaning, one at a time, and ask the user\n",
        "#  what word they think it is.\n",
        "for meaning in python_words.values():\n",
        "    print(\"\\nMeaning: %s\" % meaning)\n",
        "    \n",
        "    # Assume the guess is not correct; keep guessing until correct.\n",
        "    correct = False\n",
        "    while not correct:\n",
        "        guessed_word = input(\"\\nWhat word do you think this is? \")\n",
        "    \n",
        "        # The guess is correct if the guessed word's meaning matches the current meaning.\n",
        "        if python_words[guessed_word] == meaning:\n",
        "            print(\"You got it!\")\n",
        "            correct = True\n",
        "        else:\n",
        "            print(\"Sorry, that's just not the right word.\")"
      ]
    },
    {
      "cell_type": "markdown",
      "metadata": {
        "id": "6F_7KOBkz7_s"
      },
      "source": [
        "This is better. Now, if the guess is incorrect, the user is caught in a loop that they can only exit by guessing correctly. The final revision to this code is to show the user a list of words to choose from when they are asked to guess:"
      ]
    },
    {
      "cell_type": "code",
      "execution_count": null,
      "metadata": {
        "id": "LR74sznBz7_s",
        "colab": {
          "base_uri": "https://localhost:8080/"
        },
        "outputId": "70af59de-5a06-4e3b-a86d-5a9660798f61"
      },
      "outputs": [
        {
          "output_type": "stream",
          "name": "stdout",
          "text": [
            "\n",
            "A collection of values that are not connected, but have an order.\n",
            "\n",
            "What word do you think this is?\n",
            "list  dictionary  function  \n",
            "- list\n",
            "You got it!\n",
            "\n",
            "A collection of key-value pairs.\n",
            "\n",
            "What word do you think this is?\n",
            "list  dictionary  function  \n",
            "- dictionary\n",
            "You got it!\n",
            "\n",
            "A named set of instructions that defines a set of actions in Python.\n",
            "\n",
            "What word do you think this is?\n",
            "list  dictionary  function  \n",
            "- function\n",
            "You got it!\n"
          ]
        }
      ],
      "source": [
        "\n",
        "python_words = {'list': 'A collection of values that are not connected, but have an order.',\n",
        "                'dictionary': 'A collection of key-value pairs.',\n",
        "                'function': 'A named set of instructions that defines a set of actions in Python.',\n",
        "                }\n",
        "\n",
        "def show_words(python_words):\n",
        "    # A simple function to show the words in the dictionary.\n",
        "    display_message = \"\"\n",
        "    for word in python_words.keys():\n",
        "        display_message += word + '  '\n",
        "    print(display_message)\n",
        "\n",
        "# Print each meaning, one at a time, and ask the user\n",
        "#  what word they think it is.\n",
        "for meaning in python_words.values():\n",
        "    print(\"\\n%s\" % meaning)\n",
        "\n",
        "    # Assume the guess is not correct; keep guessing until correct.\n",
        "    correct = False\n",
        "    while not correct:\n",
        "        \n",
        "        print(\"\\nWhat word do you think this is?\")\n",
        "        show_words(python_words)\n",
        "        guessed_word = input(\"- \") \n",
        "\n",
        "        if guessed_word not in python_words.keys():\n",
        "          print(\"Sorry, that word isn't in our list\")\n",
        "          quit()\n",
        "   \n",
        "        # The guess is correct if the guessed word's meaning matches the current meaning.\n",
        "        if python_words[guessed_word] == meaning:\n",
        "            print(\"You got it!\")\n",
        "            correct = True\n",
        "        else:\n",
        "            print(\"Sorry, that's just not the right word.\")"
      ]
    },
    {
      "cell_type": "markdown",
      "metadata": {
        "id": "IZSqa-PEz7_s"
      },
      "source": [
        "Looping through a dictionary in order\n",
        "===\n",
        "Dictionaries are quite useful because they allow bits of information to be connected. One of the problems with dictionaries, however, is that they are not stored in any particular order. When you retrieve all of the keys or values in your dictionary, you can't be sure what order you will get them back. There is a quick and easy way to do this, however, when you want them in a particular order.\n",
        "\n",
        "Let's take a look at the order that results from a simple call to *dictionary.keys()*:"
      ]
    },
    {
      "cell_type": "code",
      "execution_count": null,
      "metadata": {
        "id": "GcNSTGaQz7_t",
        "colab": {
          "base_uri": "https://localhost:8080/"
        },
        "outputId": "46066aa2-37a5-44b8-8943-73c88fd68414"
      },
      "outputs": [
        {
          "output_type": "stream",
          "name": "stdout",
          "text": [
            "list\n",
            "dictionary\n",
            "function\n"
          ]
        }
      ],
      "source": [
        "python_words = {'list': 'A collection of values that are not connected, but have an order.',\n",
        "                'dictionary': 'A collection of key-value pairs.',\n",
        "                'function': 'A named set of instructions that defines a set of actions in Python.',\n",
        "                }\n",
        "\n",
        "for word in python_words.keys():\n",
        "    print(word)"
      ]
    },
    {
      "cell_type": "markdown",
      "metadata": {
        "id": "nUhD1k-_z7_t"
      },
      "source": [
        "The resulting list is not in order. The list of keys can be put in order by passing the list into the *sorted()* function, in the line that initiates the for loop:"
      ]
    },
    {
      "cell_type": "code",
      "execution_count": null,
      "metadata": {
        "id": "5xCF_zvkz7_t",
        "colab": {
          "base_uri": "https://localhost:8080/"
        },
        "outputId": "05c32a5e-9267-44a5-bfb5-af8a5874c7ea"
      },
      "outputs": [
        {
          "output_type": "stream",
          "name": "stdout",
          "text": [
            "dictionary\n",
            "function\n",
            "list\n"
          ]
        }
      ],
      "source": [
        "\n",
        "python_words = {'list': 'A collection of values that are not connected, but have an order.',\n",
        "                'dictionary': 'A collection of key-value pairs.',\n",
        "                'function': 'A named set of instructions that defines a set of actions in Python.',\n",
        "                }\n",
        "\n",
        "for word in sorted(python_words.keys()):\n",
        "    print(word)"
      ]
    },
    {
      "cell_type": "markdown",
      "metadata": {
        "id": "-4-cKQSmz7_t"
      },
      "source": [
        "This approach can be used to work with the keys and values in order. For example, the words and meanings can be printed in alphabetical order by word:"
      ]
    },
    {
      "cell_type": "code",
      "execution_count": null,
      "metadata": {
        "id": "u-hEHrPFz7_t",
        "colab": {
          "base_uri": "https://localhost:8080/"
        },
        "outputId": "fcdc8609-6ea1-44df-c03a-274dc8129452"
      },
      "outputs": [
        {
          "output_type": "stream",
          "name": "stdout",
          "text": [
            "Dictionary: A collection of key-value pairs.\n",
            "Function: A named set of instructions that defines a set of actions in Python.\n",
            "List: A collection of values that are not connected, but have an order.\n"
          ]
        }
      ],
      "source": [
        "\n",
        "python_words = {'list': 'A collection of values that are not connected, but have an order.',\n",
        "                'dictionary': 'A collection of key-value pairs.',\n",
        "                'function': 'A named set of instructions that defines a set of actions in Python.',\n",
        "                }\n",
        "\n",
        "for word in sorted(python_words.keys()):\n",
        "    print(\"%s: %s\" % (word.title(), python_words[word]))"
      ]
    },
    {
      "cell_type": "markdown",
      "metadata": {
        "id": "JQU_tGjvz7_t"
      },
      "source": [
        "In this example, the keys have been put into alphabetical order in the for loop only; Python has not changed the way the dictionary is stored at all. So the next time the dictionary is accessed, the keys could be returned in any order. There is no way to permanently specify an order for the items in an ordinary dictionary, but if you want to do this you can use the [OrderedDict](http://docs.python.org/3.3/library/collections.html#ordereddict-objects) structure."
      ]
    },
    {
      "cell_type": "markdown",
      "metadata": {
        "id": "c7sMbGlvz7_t"
      },
      "source": [
        "Nesting\n",
        "===\n",
        "Nesting is one of the most powerful concepts we have come to so far. Nesting involves putting a list or dictionary inside another list or dictionary. We will look at two examples here, lists inside of a dictionary and dictionaries inside of a dictionary. With nesting, the kind of information we can model in our programs is expanded greatly."
      ]
    },
    {
      "cell_type": "markdown",
      "metadata": {
        "id": "0XbwPYWSz7_t"
      },
      "source": [
        "Lists in a dictionary\n",
        "---\n",
        "A dictionary connects two pieces of information. Those two pieces of information can be any kind of data structure in Python. Let's keep using strings for our keys, but let's try giving a list as a value.\n",
        "\n",
        "The first example will involve storing a number of people's favorite numbers. The keys consist of people's names, and the values are lists of each person's favorite numbers. In this first example, we will access each person's list one at a time."
      ]
    },
    {
      "cell_type": "code",
      "execution_count": null,
      "metadata": {
        "id": "ZDrZyvGNz7_t",
        "colab": {
          "base_uri": "https://localhost:8080/"
        },
        "outputId": "307a3ceb-a024-4e91-c066-11246fdf1636"
      },
      "outputs": [
        {
          "output_type": "stream",
          "name": "stdout",
          "text": [
            "Eric's favorite numbers are:\n",
            "[3, 11, 19, 23, 42]\n",
            "\n",
            "Ever's favorite numbers are:\n",
            "[2, 4, 5]\n",
            "\n",
            "Willie's favorite numbers are:\n",
            "[5, 35, 120]\n"
          ]
        }
      ],
      "source": [
        "# This program stores people's favorite numbers, and displays them.\n",
        "favorite_numbers = {'eric': [3, 11, 19, 23, 42],\n",
        "                    'ever': [2, 4, 5],\n",
        "                    'willie': [5, 35, 120],\n",
        "                    }\n",
        "\n",
        "# Display each person's favorite numbers.\n",
        "print(\"Eric's favorite numbers are:\")\n",
        "print(favorite_numbers['eric'])\n",
        "\n",
        "print(\"\\nEver's favorite numbers are:\")\n",
        "print(favorite_numbers['ever'])\n",
        "\n",
        "print(\"\\nWillie's favorite numbers are:\")\n",
        "print(favorite_numbers['willie'])"
      ]
    },
    {
      "cell_type": "markdown",
      "metadata": {
        "id": "DjYqYlhBz7_u"
      },
      "source": [
        "We are really just working our way through each key in the dictionary, so let's use a for loop to go through the keys in the dictionary:"
      ]
    },
    {
      "cell_type": "code",
      "execution_count": null,
      "metadata": {
        "id": "pPvUxM90z7_u",
        "colab": {
          "base_uri": "https://localhost:8080/"
        },
        "outputId": "68de188f-3f1c-4f67-d648-d89d1fe6037f"
      },
      "outputs": [
        {
          "output_type": "stream",
          "name": "stdout",
          "text": [
            "\n",
            "Eric's favorite numbers are:\n",
            "[3, 11, 19, 23, 42]\n",
            "\n",
            "Ever's favorite numbers are:\n",
            "[2, 4, 5]\n",
            "\n",
            "Willie's favorite numbers are:\n",
            "[5, 35, 120]\n"
          ]
        }
      ],
      "source": [
        "\n",
        "# This program stores people's favorite numbers, and displays them.\n",
        "favorite_numbers = {'eric': [3, 11, 19, 23, 42],\n",
        "                    'ever': [2, 4, 5],\n",
        "                    'willie': [5, 35, 120],\n",
        "                    }\n",
        "\n",
        "# Display each person's favorite numbers.\n",
        "for name in favorite_numbers:\n",
        "    print(\"\\n%s's favorite numbers are:\" % name.title())\n",
        "    print(favorite_numbers[name])      "
      ]
    },
    {
      "cell_type": "markdown",
      "metadata": {
        "id": "mxCBxlnRz7_u"
      },
      "source": [
        "This structure is fairly complex, so don't worry if it takes a while for things to sink in. The dictionary itself probably makes sense; each person is connected to a list of their favorite numbers.\n",
        "\n",
        "This works, but we'd rather not print raw Python in our output. Let's use a for loop to print the favorite numbers individually, rather than in a Python list."
      ]
    },
    {
      "cell_type": "code",
      "execution_count": null,
      "metadata": {
        "id": "VsVZXHkJz7_u",
        "colab": {
          "base_uri": "https://localhost:8080/"
        },
        "outputId": "c825d58c-f401-4f09-e11d-66bc915f91bd"
      },
      "outputs": [
        {
          "output_type": "stream",
          "name": "stdout",
          "text": [
            "\n",
            "Eric's favorite numbers are:\n",
            "3\n",
            "11\n",
            "19\n",
            "23\n",
            "42\n",
            "\n",
            "Ever's favorite numbers are:\n",
            "2\n",
            "4\n",
            "5\n",
            "\n",
            "Willie's favorite numbers are:\n",
            "5\n",
            "35\n",
            "120\n"
          ]
        }
      ],
      "source": [
        "\n",
        "# This program stores people's favorite numbers, and displays them.\n",
        "favorite_numbers = {'eric': [3, 11, 19, 23, 42],\n",
        "                    'ever': [2, 4, 5],\n",
        "                    'willie': [5, 35, 120],\n",
        "                    }\n",
        "\n",
        "# Display each person's favorite numbers.\n",
        "for name in favorite_numbers:\n",
        "    print(\"\\n%s's favorite numbers are:\" % name.title())\n",
        "    # Each value is itself a list, so we need another for loop\n",
        "    #  to work with the list.\n",
        "    for favorite_number in favorite_numbers[name]:\n",
        "        print(favorite_number)        "
      ]
    },
    {
      "cell_type": "markdown",
      "metadata": {
        "id": "6NQ_wvlxz7_u"
      },
      "source": [
        "Things get a little more complicated inside the for loop. The value is a list of favorite numbers, so the for loop pulls each *favorite\\_number* out of the list one at a time. If it makes more sense to you, you are free to store the list in a new variable, and use that to define your for loop:\n"
      ]
    },
    {
      "cell_type": "code",
      "execution_count": null,
      "metadata": {
        "id": "bWyrmv9oz7_u",
        "colab": {
          "base_uri": "https://localhost:8080/"
        },
        "outputId": "08bfb35c-d87d-4401-f3c3-22308809bc2c"
      },
      "outputs": [
        {
          "output_type": "stream",
          "name": "stdout",
          "text": [
            "\n",
            "Eric's favorite numbers are:\n",
            "3\n",
            "11\n",
            "19\n",
            "23\n",
            "42\n",
            "\n",
            "Ever's favorite numbers are:\n",
            "2\n",
            "4\n",
            "5\n",
            "\n",
            "Willie's favorite numbers are:\n",
            "5\n",
            "35\n",
            "120\n"
          ]
        }
      ],
      "source": [
        "\n",
        "# This program stores people's favorite numbers, and displays them.\n",
        "favorite_numbers = {'eric': [3, 11, 19, 23, 42],\n",
        "                    'ever': [2, 4, 5],\n",
        "                    'willie': [5, 35, 120],\n",
        "                    }\n",
        "\n",
        "# Display each person's favorite numbers.\n",
        "for name in favorite_numbers:\n",
        "    print(\"\\n%s's favorite numbers are:\" % name.title())\n",
        "    \n",
        "    # Each value is itself a list, so let's put that list in a variable.\n",
        "    current_favorite_numbers = favorite_numbers[name]\n",
        "    for favorite_number in current_favorite_numbers:\n",
        "        print(favorite_number)        "
      ]
    },
    {
      "cell_type": "markdown",
      "metadata": {
        "id": "-grLxe0Sz7_u"
      },
      "source": [
        "Dictionaries in a dictionary\n",
        "---\n",
        "The most powerful nesting concept we will cover right now is nesting a dictionary inside of a dictionary.\n",
        "\n",
        "To demonstrate this, let's make a dictionary of pets, with some information about each pet. The keys for this dictionary will consist of the pet's name. The values will include information such as the kind of animal, the owner, and whether the pet has been vaccinated."
      ]
    },
    {
      "cell_type": "code",
      "execution_count": null,
      "metadata": {
        "id": "1rp_vPhqz7_v",
        "colab": {
          "base_uri": "https://localhost:8080/"
        },
        "outputId": "d327ac58-63fb-4d07-a20e-e491b5f711ec"
      },
      "outputs": [
        {
          "output_type": "stream",
          "name": "stdout",
          "text": [
            "Here is what I know about Willie:\n",
            "kind: dog\n",
            "owner: eric\n",
            "vaccinated: True\n",
            "\n",
            "Here is what I know about Walter:\n",
            "kind: cockroach\n",
            "owner: eric\n",
            "vaccinated: False\n",
            "\n",
            "Here is what I know about Peso:\n",
            "kind: dog\n",
            "owner: chloe\n",
            "vaccinated: True\n"
          ]
        }
      ],
      "source": [
        "# This program stores information about pets. For each pet,\n",
        "#   we store the kind of animal, the owner's name, and\n",
        "#   the breed.\n",
        "pets = {'willie': {'kind': 'dog', 'owner': 'eric', 'vaccinated': True},\n",
        "        'walter': {'kind': 'cockroach', 'owner': 'eric', 'vaccinated': False},\n",
        "        'peso': {'kind': 'dog', 'owner': 'chloe', 'vaccinated': True},\n",
        "        }\n",
        "\n",
        "# Let's show all the information for each pet.\n",
        "print(\"Here is what I know about Willie:\")\n",
        "print(\"kind: \" + pets['willie']['kind'])\n",
        "print(\"owner: \" + pets['willie']['owner'])\n",
        "print(\"vaccinated: \" + str(pets['willie']['vaccinated']))\n",
        "\n",
        "print(\"\\nHere is what I know about Walter:\")\n",
        "print(\"kind: \" + pets['walter']['kind'])\n",
        "print(\"owner: \" + pets['walter']['owner'])\n",
        "print(\"vaccinated: \" + str(pets['walter']['vaccinated']))\n",
        "\n",
        "print(\"\\nHere is what I know about Peso:\")\n",
        "print(\"kind: \" + pets['peso']['kind'])\n",
        "print(\"owner: \" + pets['peso']['owner'])\n",
        "print(\"vaccinated: \" + str(pets['peso']['vaccinated']))"
      ]
    },
    {
      "cell_type": "markdown",
      "metadata": {
        "id": "OmDI-tBtz7_v"
      },
      "source": [
        "Clearly this is some repetitive code, but it shows exactly how we access information in a nested dictionary. In the first set of `print` statements, we use the name 'willie' to unlock the 'kind' of animal he is, the 'owner' he has, and whether or not he is 'vaccinated'. We have to wrap the vaccination value in the `str` function so that Python knows we want the words 'True' and 'False', not the values `True` and `False`. We then do the same thing for each animal.\n",
        "\n",
        "Let's rewrite this program, using a for loop to go through the dictionary's keys:"
      ]
    },
    {
      "cell_type": "code",
      "execution_count": null,
      "metadata": {
        "id": "6CysIdYVz7_v",
        "colab": {
          "base_uri": "https://localhost:8080/"
        },
        "outputId": "aa3d0d49-5d15-4b1c-97c3-0ace35dd3a0c"
      },
      "outputs": [
        {
          "output_type": "stream",
          "name": "stdout",
          "text": [
            "\n",
            "Here is what I know about Willie:\n",
            "kind: dog\n",
            "owner: eric\n",
            "vaccinated: True\n",
            "\n",
            "Here is what I know about Walter:\n",
            "kind: cockroach\n",
            "owner: eric\n",
            "vaccinated: False\n",
            "\n",
            "Here is what I know about Peso:\n",
            "kind: dog\n",
            "owner: chloe\n",
            "vaccinated: True\n"
          ]
        }
      ],
      "source": [
        "\n",
        "# This program stores information about pets. For each pet,\n",
        "#   we store the kind of animal, the owner's name, and\n",
        "#   the breed.\n",
        "pets = {'willie': {'kind': 'dog', 'owner': 'eric', 'vaccinated': True},\n",
        "        'walter': {'kind': 'cockroach', 'owner': 'eric', 'vaccinated': False},\n",
        "        'peso': {'kind': 'dog', 'owner': 'chloe', 'vaccinated': True},\n",
        "        }\n",
        "\n",
        "# Let's show all the information for each pet.\n",
        "for pet_name, pet_information in pets.items():\n",
        "    print(\"\\nHere is what I know about %s:\" % pet_name.title())\n",
        "    print(\"kind: \" + pet_information['kind'])\n",
        "    print(\"owner: \" + pet_information['owner'])\n",
        "    print(\"vaccinated: \" + str(pet_information['vaccinated']))"
      ]
    },
    {
      "cell_type": "markdown",
      "metadata": {
        "id": "32ReXpaIz7_v"
      },
      "source": [
        "This code is much shorter and easier to maintain. But even this code will not keep up with our dictionary. If we add more information to the dictionary later, we will have to update our print statements. Let's put a second for loop inside the first loop in order to run through all the information about each pet:"
      ]
    },
    {
      "cell_type": "code",
      "execution_count": null,
      "metadata": {
        "id": "Upxr-Nkuz7_v",
        "colab": {
          "base_uri": "https://localhost:8080/"
        },
        "outputId": "998cb4ab-2cc7-43a7-beb1-a44ac23f482b"
      },
      "outputs": [
        {
          "output_type": "stream",
          "name": "stdout",
          "text": [
            "\n",
            "Here is what I know about Willie:\n",
            "kind: dog\n",
            "owner: eric\n",
            "vaccinated: True\n",
            "\n",
            "Here is what I know about Walter:\n",
            "kind: cockroach\n",
            "owner: eric\n",
            "vaccinated: False\n",
            "\n",
            "Here is what I know about Peso:\n",
            "kind: dog\n",
            "owner: chloe\n",
            "vaccinated: True\n"
          ]
        }
      ],
      "source": [
        "\n",
        "# This program stores information about pets. For each pet,\n",
        "#   we store the kind of animal, the owner's name, and\n",
        "#   the breed.\n",
        "pets = {'willie': {'kind': 'dog', 'owner': 'eric', 'vaccinated': True},\n",
        "        'walter': {'kind': 'cockroach', 'owner': 'eric', 'vaccinated': False},\n",
        "        'peso': {'kind': 'dog', 'owner': 'chloe', 'vaccinated': True},\n",
        "        }\n",
        "\n",
        "# Let's show all the information for each pet.\n",
        "for pet_name, pet_information in pets.items():\n",
        "    print(\"\\nHere is what I know about %s:\" % pet_name.title())\n",
        "    # Each animal's dictionary is in 'information'\n",
        "    for key in pet_information:\n",
        "        print(key + \": \" + str(pet_information[key]))"
      ]
    },
    {
      "cell_type": "markdown",
      "metadata": {
        "id": "pwrcD7eoz7_v"
      },
      "source": [
        "This nested loop can look pretty complicated, so again, don't worry if it doesn't make sense for a while.\n",
        "\n",
        "- The first loop gives us all the keys in the main dictionary, which consist of the name of each pet.\n",
        "- Each of these names can be used to 'unlock' the dictionary of each pet.\n",
        "- The inner loop goes through the dictionary for that individual pet, and pulls out all of the keys in that individual pet's dictionary.\n",
        "- We print the key, which tells us the kind of information we are about to see, and the value for that key.\n",
        "- You can see that we could improve the formatting in the output.\n",
        "    - We could capitalize the owner's name.\n",
        "    - We could print 'yes' or 'no', instead of True and False.\n",
        "    \n",
        "Let's show one last version that uses some if statements to clean up our data for printing:"
      ]
    },
    {
      "cell_type": "code",
      "execution_count": null,
      "metadata": {
        "id": "CJW328F2z7_v",
        "colab": {
          "base_uri": "https://localhost:8080/"
        },
        "outputId": "3d1e0ffb-1ee4-4d28-d33f-544c1c1b5231"
      },
      "outputs": [
        {
          "output_type": "stream",
          "name": "stdout",
          "text": [
            "\n",
            "Here is what I know about Willie:\n",
            "kind: dog\n",
            "owner: Eric\n",
            "vaccinated: yes\n",
            "\n",
            "Here is what I know about Walter:\n",
            "kind: cockroach\n",
            "owner: Eric\n",
            "vaccinated: no\n",
            "\n",
            "Here is what I know about Peso:\n",
            "kind: dog\n",
            "owner: Chloe\n",
            "vaccinated: yes\n"
          ]
        }
      ],
      "source": [
        "\n",
        "# This program stores information about pets. For each pet,\n",
        "#   we store the kind of animal, the owner's name, and\n",
        "#   the breed.\n",
        "pets = {'willie': {'kind': 'dog', 'owner': 'eric', 'vaccinated': True},\n",
        "        'walter': {'kind': 'cockroach', 'owner': 'eric', 'vaccinated': False},\n",
        "        'peso': {'kind': 'dog', 'owner': 'chloe', 'vaccinated': True},\n",
        "        }\n",
        "\n",
        "# Let's show all the information for each pet.\n",
        "for pet_name, pet_information in pets.items():\n",
        "    print(\"\\nHere is what I know about %s:\" % pet_name.title())\n",
        "    # Each animal's dictionary is in pet_information\n",
        "    for key in pet_information:\n",
        "        if key == 'owner':\n",
        "            # Capitalize the owner's name.\n",
        "            print(key + \": \" + pet_information[key].title())\n",
        "        elif key == 'vaccinated':\n",
        "            # Print 'yes' for True, and 'no' for False.\n",
        "            vaccinated = pet_information['vaccinated']\n",
        "            if vaccinated:\n",
        "                print('vaccinated: yes')\n",
        "            else:\n",
        "                print('vaccinated: no')\n",
        "        else:\n",
        "            # No special formatting needed for this key.\n",
        "            print(key + \": \" + pet_information[key])"
      ]
    },
    {
      "cell_type": "markdown",
      "metadata": {
        "id": "Ypcx9f9xz7_v"
      },
      "source": [
        "This code is a lot longer, and now we have nested if statements as well as nested for loops. But keep in mind, this structure would work if there were 1000 pets in our dictionary, and it would work if we were storing 1000 pieces of information about each pet. One level of nesting lets us model an incredible array of information."
      ]
    },
    {
      "cell_type": "markdown",
      "metadata": {
        "id": "YZjKfcniz7_w"
      },
      "source": [
        "An important note about nesting\n",
        "---\n",
        "While one level of nesting is really useful, nesting much deeper than that gets really complicated, really quickly. There are other structures such as classes which can be even more useful for modeling information. In addition to this, we can use Python to store information in a database, which is the proper tool for storing deeply nested information.\n",
        "\n",
        "Often times when you are storing information in a database you will pull a small set of that information out and put it into a dictionary, or a slightly nested structure, and then work with it. But you will rarely, if ever, work with Python data structures nested more than one level deep."
      ]
    },
    {
      "cell_type": "markdown",
      "source": [
        "## DIY 1: Personal Info\n",
        "Use a dictionary to store information about a person you know.\n",
        "Store their first name, last name, age, and the city in which they live. You\n",
        "should have keys such as first_name, last_name, age, and city. Print each\n",
        "piece of information stored in your dictionary."
      ],
      "metadata": {
        "id": "Osr5spFI50mO"
      }
    },
    {
      "cell_type": "code",
      "execution_count": null,
      "metadata": {
        "id": "Pkj93xySz7_w"
      },
      "outputs": [],
      "source": [
        "# write your code here"
      ]
    },
    {
      "cell_type": "code",
      "source": [
        ""
      ],
      "metadata": {
        "id": "3LtYg28e54FX"
      },
      "execution_count": null,
      "outputs": []
    }
  ],
  "metadata": {
    "kernelspec": {
      "display_name": "Python 3",
      "language": "python",
      "name": "python3"
    },
    "language_info": {
      "codemirror_mode": {
        "name": "ipython",
        "version": 3
      },
      "file_extension": ".py",
      "mimetype": "text/x-python",
      "name": "python",
      "nbconvert_exporter": "python",
      "pygments_lexer": "ipython3",
      "version": "3.8.3"
    },
    "colab": {
      "name": "python_5.ipynb",
      "provenance": [],
      "collapsed_sections": [],
      "include_colab_link": true
    }
  },
  "nbformat": 4,
  "nbformat_minor": 0
}