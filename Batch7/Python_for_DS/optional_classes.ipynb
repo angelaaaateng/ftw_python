{
  "cells": [
    {
      "cell_type": "markdown",
      "metadata": {
        "id": "view-in-github",
        "colab_type": "text"
      },
      "source": [
        "<a href=\"https://colab.research.google.com/github/angelaaaateng/ftw_python/blob/main/optional_classes.ipynb\" target=\"_parent\"><img src=\"https://colab.research.google.com/assets/colab-badge.svg\" alt=\"Open In Colab\"/></a>"
      ]
    },
    {
      "cell_type": "markdown",
      "source": [
        "# Introduction to Python \n",
        "## FTW Foundation\n",
        "June 25, 2022 - Day 1\n",
        "\n",
        "## Outine: \n",
        "---\n",
        "1. Hello, World\n",
        "2. Python Basics\n",
        "3. Variables\n",
        "  - 3.1 Strings \n",
        "  - 3.2 Integers \n",
        "  - 3.3 Floats \n",
        "4. Data Types \n",
        " - 4.1 Lists \n",
        " - 4.2 Tuples \n",
        " - 4.3 Dictionaries \n",
        "5. Functions \n",
        "6. If statements \n",
        "7. While loops\n",
        "8. More Functions \n",
        "\n",
        "A. Appendix\n",
        " - A.1 Variable Naming Conventions\n",
        " - A.2 The Zen of Python\n",
        " - A.3 Classes\n",
        "\n",
        "\n",
        "\n",
        "## References: \n",
        "---\n",
        "- <a href='https://ehmatthes.github.io/pcc/index.html'>Python Crash Course</a>"
      ],
      "metadata": {
        "id": "v54ben2xTYN-"
      }
    },
    {
      "cell_type": "markdown",
      "metadata": {
        "id": "eshhjH7yTU21"
      },
      "source": [
        "Classes\n",
        "===\n",
        "So far you have learned about Python's core data types: strings, numbers, lists, tuples, and dictionaries. In this section you will learn about the last major data structure, classes. Classes are quite unlike the other data types, in that they are much more flexible. Classes allow you to define the information and behavior that characterize anything you want to model in your program. Classes are a rich topic, so you will learn just enough here to dive into the projects you'd like to get started on."
      ]
    },
    {
      "cell_type": "markdown",
      "metadata": {
        "id": "II1dKZwkTU24"
      },
      "source": [
        "Contents\n",
        "===\n",
        "- [What are classes?](#What-are-classes?)\n",
        "- [Object-Oriented Terminology](#Object-Oriented-Terminology)\n",
        "    - [General terminology](#General-terminology)\n",
        "    - [A closer look at the Rocket class](#A-closer-look-at-the-Rocket-class)\n",
        "        - [The \\_\\_init\\_\\_() method](#The-__init__%28%29-method)\n",
        "        - [A simple method](#A-simple-method)\n",
        "        - [Making multiple objects from a class](#Making-multiple-objects-from-a-class)\n",
        "        - [A quick check-in](#A-quick-check-in)\n",
        "- [Refining the Rocket class](#Refining-the-Rocket-class)\n",
        "    - [Accepting parameters for the \\_\\_init\\_\\_() method](#Accepting-parameters-for-the-__init__%28%29-method)\n",
        "    - [Accepting parameters in a method](#Accepting-parameters-in-a-method)\n",
        "    - [Adding a new method](#Adding-a-new-method)\n",
        "- [Inheritance](#Inheritance)\n",
        "    - [The SpaceShuttle class](#The-SpaceShuttle-class)\n",
        "- [Modules and classes](#Modules-and-classes)\n",
        "    - [Storing a single class in a module](#Storing-a-single-class-in-a-module)\n",
        "    - [Storing multiple classes in a module](#Storing-multiple-classes-in-a-module)\n",
        "    - [A number of ways to import modules and classes](#A-number-of-ways-to-import-modules-and-classes)\n",
        "    - [A module of functions](#A-module-of-functions)\n"
      ]
    },
    {
      "cell_type": "markdown",
      "metadata": {
        "id": "6xPzhgiCTU25"
      },
      "source": [
        "What are classes?\n",
        "===\n",
        "Classes are a way of combining information and behavior. For example, let's consider what you'd need to do if you were creating a rocket ship in a game, or in a physics simulation. One of the first things you'd want to track are the x and y coordinates of the rocket. Here is what a simple rocket ship class looks like in code:"
      ]
    },
    {
      "cell_type": "code",
      "execution_count": null,
      "metadata": {
        "id": "o4H25HZeTU26"
      },
      "outputs": [],
      "source": [
        "class Rocket():\n",
        "    # Rocket simulates a rocket ship for a game,\n",
        "    #  or a physics simulation.\n",
        "    \n",
        "    def __init__(self):\n",
        "        # Each rocket has an (x,y) position.\n",
        "        self.x = 0\n",
        "        self.y = 0"
      ]
    },
    {
      "cell_type": "markdown",
      "metadata": {
        "id": "PufcYWGMTU27"
      },
      "source": [
        "One of the first things you do with a class is to define the **\\__init\\__()** method. The \\_\\_init\\_\\_() method sets the values for any parameters that need to be defined when an object is first created. The *self* part will be explained later; basically, it's a syntax that allows you to access a variable from anywhere else in the class.\n",
        "\n",
        "The Rocket class stores two pieces of information so far, but it can't do anything. The first behavior to define is a core behavior of a rocket: moving up. Here is what that might look like in code:"
      ]
    },
    {
      "cell_type": "code",
      "execution_count": null,
      "metadata": {
        "id": "b5FGtF7JTU27"
      },
      "outputs": [],
      "source": [
        "###highlight=[11,12,13]\n",
        "class Rocket():\n",
        "    # Rocket simulates a rocket ship for a game,\n",
        "    #  or a physics simulation.\n",
        "    \n",
        "    def __init__(self):\n",
        "        # Each rocket has an (x,y) position.\n",
        "        self.x = 0\n",
        "        self.y = 0\n",
        "        \n",
        "    def move_up(self):\n",
        "        # Increment the y-position of the rocket.\n",
        "        self.y += 1"
      ]
    },
    {
      "cell_type": "markdown",
      "metadata": {
        "id": "eR94VJZTTU28"
      },
      "source": [
        "The Rocket class can now store some information, and it can do something. But this code has not actually created a rocket yet. Here is how you actually make a rocket:"
      ]
    },
    {
      "cell_type": "code",
      "execution_count": null,
      "metadata": {
        "id": "DlafMKVLTU28"
      },
      "outputs": [],
      "source": [
        "###highlight=[15,16, 17]\n",
        "class Rocket():\n",
        "    # Rocket simulates a rocket ship for a game,\n",
        "    #  or a physics simulation.\n",
        "    \n",
        "    def __init__(self):\n",
        "        # Each rocket has an (x,y) position.\n",
        "        self.x = 0\n",
        "        self.y = 0\n",
        "        \n",
        "    def move_up(self):\n",
        "        # Increment the y-position of the rocket.\n",
        "        self.y += 1\n",
        "\n",
        "# Create a Rocket object.\n",
        "my_rocket = Rocket()\n",
        "print(my_rocket)"
      ]
    },
    {
      "cell_type": "markdown",
      "metadata": {
        "id": "UAp8LlkKTU29"
      },
      "source": [
        "To actually use a class, you create a variable such as *my\\_rocket*. Then you set that equal to the name of the class, with an empty set of parentheses. Python creates an **object** from the class. An object is a single instance of the Rocket class; it has a copy of each of the class's variables, and it can do any action that is defined for the class. In this case, you can see that the variable my\\_rocket is a Rocket object from the \\_\\_main\\_\\_ program file, which is stored at a particular location in memory.\n",
        "\n",
        "Once you have a class, you can define an object and use its methods. Here is how you might define a rocket and have it start to move up:"
      ]
    },
    {
      "cell_type": "code",
      "execution_count": null,
      "metadata": {
        "id": "JyUK-UvGTU29"
      },
      "outputs": [],
      "source": [
        "###highlight=[15,16,17,18,19,20,21,22,23]\n",
        "class Rocket():\n",
        "    # Rocket simulates a rocket ship for a game,\n",
        "    #  or a physics simulation.\n",
        "    \n",
        "    def __init__(self):\n",
        "        # Each rocket has an (x,y) position.\n",
        "        self.x = 0\n",
        "        self.y = 0\n",
        "        \n",
        "    def move_up(self):\n",
        "        # Increment the y-position of the rocket.\n",
        "        self.y += 1\n",
        "\n",
        "# Create a Rocket object, and have it start to move up.\n",
        "my_rocket = Rocket()\n",
        "print(\"Rocket altitude:\", my_rocket.y)\n",
        "\n",
        "my_rocket.move_up()\n",
        "print(\"Rocket altitude:\", my_rocket.y)\n",
        "\n",
        "my_rocket.move_up()\n",
        "print(\"Rocket altitude:\", my_rocket.y)"
      ]
    },
    {
      "cell_type": "markdown",
      "metadata": {
        "id": "5PvAsMM6TU2-"
      },
      "source": [
        "To access an object's variables or methods, you give the name of the object and then use *dot notation* to access the variables and methods. So to get the y-value of *my\\_rocket*, you use *my\\_rocket.y*. To use the move_up() method on my_rocket, you write *my\\_rocket.move\\_up()*.\n",
        "\n",
        "Once you have a class defined, you can create as many objects from that class as you want. Each object is its own instance of that class, with its own separate variables. All of the objects are capable of the same behavior, but each object's particular actions do not affect any of the other objects. Here is how you might make a simple fleet of rockets:"
      ]
    },
    {
      "cell_type": "code",
      "execution_count": null,
      "metadata": {
        "id": "fP1O6pc2TU2-"
      },
      "outputs": [],
      "source": [
        "###highlight=[15,16,17,18,19,20,21,22,23]\n",
        "class Rocket():\n",
        "    # Rocket simulates a rocket ship for a game,\n",
        "    #  or a physics simulation.\n",
        "    \n",
        "    def __init__(self):\n",
        "        # Each rocket has an (x,y) position.\n",
        "        self.x = 0\n",
        "        self.y = 0\n",
        "        \n",
        "    def move_up(self):\n",
        "        # Increment the y-position of the rocket.\n",
        "        self.y += 1\n",
        "        \n",
        "# Create a fleet of 5 rockets, and store them in a list.\n",
        "my_rockets = []\n",
        "for x in range(0,5):\n",
        "    new_rocket = Rocket()\n",
        "    my_rockets.append(new_rocket)\n",
        "\n",
        "# Show that each rocket is a separate object.\n",
        "for rocket in my_rockets:\n",
        "    print(rocket)"
      ]
    },
    {
      "cell_type": "markdown",
      "metadata": {
        "id": "PsD7JevBTU2_"
      },
      "source": [
        "You can see that each rocket is at a separate place in memory. By the way, if you understand [list comprehensions](http://introtopython.org/lists_tuples.html#comprehensions), you can make the fleet of rockets in one line:"
      ]
    },
    {
      "cell_type": "code",
      "execution_count": null,
      "metadata": {
        "id": "OpDFdcEHTU2_"
      },
      "outputs": [],
      "source": [
        "###highlight=[16]\n",
        "class Rocket():\n",
        "    # Rocket simulates a rocket ship for a game,\n",
        "    #  or a physics simulation.\n",
        "    \n",
        "    def __init__(self):\n",
        "        # Each rocket has an (x,y) position.\n",
        "        self.x = 0\n",
        "        self.y = 0\n",
        "        \n",
        "    def move_up(self):\n",
        "        # Increment the y-position of the rocket.\n",
        "        self.y += 1\n",
        "        \n",
        "# Create a fleet of 5 rockets, and store them in a list.\n",
        "my_rockets = [Rocket() for x in range(0,5)]\n",
        "\n",
        "# Show that each rocket is a separate object.\n",
        "for rocket in my_rockets:\n",
        "    print(rocket)"
      ]
    },
    {
      "cell_type": "markdown",
      "metadata": {
        "id": "ez5apoY1TU2_"
      },
      "source": [
        "You can prove that each rocket has its own x and y values by moving just one of the rockets:"
      ]
    },
    {
      "cell_type": "code",
      "execution_count": null,
      "metadata": {
        "id": "-OLRMxuITU2_"
      },
      "outputs": [],
      "source": [
        "###highlight=[18,19,20,21,22,23]\n",
        "class Rocket():\n",
        "    # Rocket simulates a rocket ship for a game,\n",
        "    #  or a physics simulation.\n",
        "    \n",
        "    def __init__(self):\n",
        "        # Each rocket has an (x,y) position.\n",
        "        self.x = 0\n",
        "        self.y = 0\n",
        "        \n",
        "    def move_up(self):\n",
        "        # Increment the y-position of the rocket.\n",
        "        self.y += 1\n",
        "        \n",
        "# Create a fleet of 5 rockets, and store them in a list.\n",
        "my_rockets = [Rocket() for x in range(0,5)]\n",
        "\n",
        "# Move the first rocket up.\n",
        "my_rockets[0].move_up()\n",
        "\n",
        "# Show that only the first rocket has moved.\n",
        "for rocket in my_rockets:\n",
        "    print(\"Rocket altitude:\", rocket.y)"
      ]
    },
    {
      "cell_type": "markdown",
      "metadata": {
        "id": "Z65V-pzPTU3A"
      },
      "source": [
        "The syntax for classes may not be very clear at this point, but consider for a moment how you might create a rocket without using classes. You might store the x and y values in a dictionary, but you would have to write a lot of ugly, hard-to-maintain code to manage even a small set of rockets. As more features become incorporated into the Rocket class, you will see how much more efficiently real-world objects can be modeled with classes than they could be using just lists and dictionaries."
      ]
    },
    {
      "cell_type": "markdown",
      "metadata": {
        "id": "fKi8CIHhTU3A"
      },
      "source": [
        "Exercises\n",
        "---\n",
        "\n",
        "#### Rocket With No Class\n",
        "- Using just what you already know, try to write a program that simulates the [above example](#what) about rockets.\n",
        "    - Store an x and y value for a rocket.\n",
        "    - Store an x and y value for each rocket in a set of 5 rockets. Store these 5 rockets in a list.\n",
        "- Don't take this exercise too far; it's really just a quick exercise to help you understand how useful the class structure is, especially as you start to see more capability added to the Rocket class."
      ]
    },
    {
      "cell_type": "markdown",
      "metadata": {
        "id": "vd_vdQwXTU3A"
      },
      "source": [
        "Object-Oriented terminology\n",
        "===\n",
        "Classes are part of a programming paradigm called **object-oriented programming**. Object-oriented programming, or OOP for short, focuses on building reusable blocks of code called classes. When you want to use a class in one of your programs, you make an **object** from that class, which is where the phrase \"object-oriented\" comes from. Python itself is not tied to object-oriented programming, but you will be using objects in most or all of your Python projects. In order to understand classes, you have to understand some of the language that is used in OOP."
      ]
    },
    {
      "cell_type": "markdown",
      "metadata": {
        "id": "wD3sXKiXTU3A"
      },
      "source": [
        "General terminology\n",
        "---\n",
        "A **class** is a body of code that defines the **attributes** and **behaviors** required to accurately model something you need for your program. You can model something from the real world, such as a rocket ship or a guitar string, or you can model something from a virtual world such as a rocket in a game, or a set of physical laws for a game engine.\n",
        "\n",
        "An **attribute** is a piece of information. In code, an attribute is just a variable that is part of a class.\n",
        "\n",
        "A **behavior** is an action that is defined within a class. These are made up of **methods**, which are just functions that are defined for the class.\n",
        "\n",
        "An **object** is a particular instance of a class. An object has a certain set of values for all of the attributes (variables) in the class. You can have as many objects as you want for any one class.\n",
        "\n",
        "There is much more to know, but these words will help you get started. They will make more sense as you see more examples, and start to use classes on your own."
      ]
    },
    {
      "cell_type": "markdown",
      "metadata": {
        "id": "prDURheRTU3A"
      },
      "source": [
        "A closer look at the Rocket class\n",
        "---\n",
        "Now that you have seen a simple example of a class, and have learned some basic OOP terminology, it will be helpful to take a closer look at the Rocket class."
      ]
    },
    {
      "cell_type": "markdown",
      "metadata": {
        "id": "NFHhJ19_TU3B"
      },
      "source": [
        "The \\_\\_init\\_\\_() method\n",
        "---\n",
        "Here is the initial code block that defined the Rocket class:"
      ]
    },
    {
      "cell_type": "code",
      "execution_count": null,
      "metadata": {
        "id": "3I4p_TkBTU3B"
      },
      "outputs": [],
      "source": [
        "class Rocket():\n",
        "    # Rocket simulates a rocket ship for a game,\n",
        "    #  or a physics simulation.\n",
        "    \n",
        "    def __init__(self):\n",
        "        # Each rocket has an (x,y) position.\n",
        "        self.x = 0\n",
        "        self.y = 0"
      ]
    },
    {
      "cell_type": "markdown",
      "metadata": {
        "id": "RbNqUbogTU3B"
      },
      "source": [
        "The first line shows how a class is created in Python. The keyword **class** tells Python that you are about to define a class. The rules for naming a class are the same rules you learned about [naming variables](var_string_num.html#naming_rules), but there is a strong convention among Python programmers that classes should be named using CamelCase. If you are unfamiliar with CamelCase, it is a convention where each letter that starts a word is capitalized, with no underscores in the name. The name of the class is followed by a set of parentheses. These parentheses will be empty for now, but later they may contain a class upon which the new class is based.\n",
        "\n",
        "It is good practice to write a comment at the beginning of your class, describing the class. There is a [more formal syntax](http://www.python.org/dev/peps/pep-0257/) for documenting your classes, but you can wait a little bit to get that formal. For now, just write a comment at the beginning of your class summarizing what you intend the class to do. Writing more formal documentation for your classes will be easy later if you start by writing simple comments now.\n",
        "\n",
        "Function names that start and end with two underscores are special built-in functions that Python uses in certain ways. The \\_\\_init()\\_\\_ method is one of these special functions. It is called automatically when you create an object from your class. The \\_\\_init()\\_\\_ method lets you make sure that all relevant attributes are set to their proper values when an object is created from the class, before the object is used. In this case, The \\_\\_init\\_\\_() method initializes the x and y values of the Rocket to 0.\n",
        "\n",
        "The **self** keyword often takes people a little while to understand. The word \"self\" refers to the current object that you are working with. When you are writing a class, it lets you refer to certain attributes from any other part of the class. Basically, all methods in a class need the *self* object as their first argument, so they can access any attribute that is part of the class.\n",
        "\n",
        "Now let's take a closer look at a **method**."
      ]
    },
    {
      "cell_type": "markdown",
      "metadata": {
        "id": "scjifqw9TU3B"
      },
      "source": [
        "A simple method\n",
        "---\n",
        "Here is the method that was defined for the Rocket class:"
      ]
    },
    {
      "cell_type": "code",
      "execution_count": null,
      "metadata": {
        "id": "rQR4FLQQTU3B"
      },
      "outputs": [],
      "source": [
        "###highlight=[11,12,13]\n",
        "class Rocket():\n",
        "    # Rocket simulates a rocket ship for a game,\n",
        "    #  or a physics simulation.\n",
        "    \n",
        "    def __init__(self):\n",
        "        # Each rocket has an (x,y) position.\n",
        "        self.x = 0\n",
        "        self.y = 0\n",
        "        \n",
        "    def move_up(self):\n",
        "        # Increment the y-position of the rocket.\n",
        "        self.y += 1"
      ]
    },
    {
      "cell_type": "markdown",
      "metadata": {
        "id": "kSJzT_1ATU3B"
      },
      "source": [
        "A method is just a function that is part of a class. Since it is just a function, you can do anything with a method that you learned about with functions. You can accept [positional](more_functions.html#positional_arguments) arguments, [keyword](more_functions.html#keyword_arguments) arguments, an arbitrary [list of argument values](more_functions.html#arbitrary_sequence), an arbitrary [dictionary of arguments](more_functions.html#arbitrary_keyword_arguments), or any combination of these. Your arguments can return a value or a set of values if you want, or they can just do some work without returning any values.\n",
        "\n",
        "Each method has to accept one argument by default, the value **self**. This is a reference to the particular object that is calling the method. This *self* argument gives you access to the calling object's attributes. In this example, the self argument is used to access a Rocket object's y-value. That value is increased by 1, every time the method move_up() is called by a particular Rocket object. This is probably still somewhat confusing, but it should start to make sense as you work through your own examples.\n",
        "\n",
        "If you take a second look at what happens when a method is called, things might make a little more sense:"
      ]
    },
    {
      "cell_type": "code",
      "execution_count": null,
      "metadata": {
        "id": "lD1HnYROTU3C"
      },
      "outputs": [],
      "source": [
        "###highlight=[15,16,17,18,19,20,21,22,23]\n",
        "class Rocket():\n",
        "    # Rocket simulates a rocket ship for a game,\n",
        "    #  or a physics simulation.\n",
        "    \n",
        "    def __init__(self):\n",
        "        # Each rocket has an (x,y) position.\n",
        "        self.x = 0\n",
        "        self.y = 0\n",
        "        \n",
        "    def move_up(self):\n",
        "        # Increment the y-position of the rocket.\n",
        "        self.y += 1\n",
        "\n",
        "# Create a Rocket object, and have it start to move up.\n",
        "my_rocket = Rocket()\n",
        "print(\"Rocket altitude:\", my_rocket.y)\n",
        "\n",
        "my_rocket.move_up()\n",
        "print(\"Rocket altitude:\", my_rocket.y)\n",
        "\n",
        "my_rocket.move_up()\n",
        "print(\"Rocket altitude:\", my_rocket.y)"
      ]
    },
    {
      "cell_type": "markdown",
      "metadata": {
        "id": "gzjtrTURTU3C"
      },
      "source": [
        "In this example, a Rocket object is created and stored in the variable my_rocket. After this object is created, its y value is printed. The value of the attribute *y* is accessed using dot notation. The phrase *my\\_rocket.y* asks Python to return \"the value of the variable y attached to the object my_rocket\".\n",
        "\n",
        "After the object my_rocket is created and its initial y-value is printed, the method move_up() is called. This tells Python to apply the method move_up() to the object my_rocket. Python finds the y-value associated with my_rocket and adds 1 to that value. This process is repeated several times, and you can see from the output that the y-value is in fact increasing."
      ]
    },
    {
      "cell_type": "markdown",
      "metadata": {
        "id": "YYPMVjuETU3C"
      },
      "source": [
        "Making multiple objects from a class\n",
        "---\n",
        "One of the goals of object-oriented programming is to create reusable code. Once you have written the code for a class, you can create as many objects from that class as you need. It is worth mentioning at this point that classes are usually saved in a separate file, and then imported into the program you are working on. So you can build a library of classes, and use those classes over and over again in different programs. Once you know a class works well, you can leave it alone and know that the objects you create in a new program are going to work as they always have.\n",
        "\n",
        "You can see this \"code reusability\" already when the Rocket class is used to make more than one Rocket object. Here is the code that made a fleet of Rocket objects:"
      ]
    },
    {
      "cell_type": "code",
      "execution_count": null,
      "metadata": {
        "id": "Fp5l-qSDTU3C"
      },
      "outputs": [],
      "source": [
        "###highlight=[15,16,17,18,19,20,21,22,23]\n",
        "class Rocket():\n",
        "    # Rocket simulates a rocket ship for a game,\n",
        "    #  or a physics simulation.\n",
        "    \n",
        "    def __init__(self):\n",
        "        # Each rocket has an (x,y) position.\n",
        "        self.x = 0\n",
        "        self.y = 0\n",
        "        \n",
        "    def move_up(self):\n",
        "        # Increment the y-position of the rocket.\n",
        "        self.y += 1\n",
        "        \n",
        "# Create a fleet of 5 rockets, and store them in a list.\n",
        "my_rockets = []\n",
        "for x in range(0,5):\n",
        "    new_rocket = Rocket()\n",
        "    my_rockets.append(new_rocket)\n",
        "\n",
        "# Show that each rocket is a separate object.\n",
        "for rocket in my_rockets:\n",
        "    print(rocket)"
      ]
    },
    {
      "cell_type": "markdown",
      "metadata": {
        "id": "1tfT8N9OTU3C"
      },
      "source": [
        "If you are comfortable using list comprehensions, go ahead and use those as much as you can. I'd rather not assume at this point that everyone is comfortable with comprehensions, so I will use the slightly longer approach of declaring an empty list, and then using a for loop to fill that list. That can be done slightly more efficiently than the previous example, by eliminating the temporary variable *new\\_rocket*:"
      ]
    },
    {
      "cell_type": "code",
      "execution_count": null,
      "metadata": {
        "id": "O1DUgDDITU3C"
      },
      "outputs": [],
      "source": [
        "###highlight=[15,16,17,18]\n",
        "class Rocket():\n",
        "    # Rocket simulates a rocket ship for a game,\n",
        "    #  or a physics simulation.\n",
        "    \n",
        "    def __init__(self):\n",
        "        # Each rocket has an (x,y) position.\n",
        "        self.x = 0\n",
        "        self.y = 0\n",
        "        \n",
        "    def move_up(self):\n",
        "        # Increment the y-position of the rocket.\n",
        "        self.y += 1\n",
        "        \n",
        "# Create a fleet of 5 rockets, and store them in a list.\n",
        "my_rockets = []\n",
        "for x in range(0,5):\n",
        "    my_rockets.append(Rocket())\n",
        "\n",
        "# Show that each rocket is a separate object.\n",
        "for rocket in my_rockets:\n",
        "    print(rocket)"
      ]
    },
    {
      "cell_type": "markdown",
      "metadata": {
        "id": "lFRhdVc_TU3D"
      },
      "source": [
        "What exactly happens in this for loop? The line *my\\_rockets.append(Rocket())* is executed 5 times. Each time, a new Rocket object is created and then added to the list my\\_rockets. The \\_\\_init\\_\\_() method is executed once for each of these objects, so each object gets its own x and y value. When a method is called on one of these objects, the *self* variable allows access to just that object's attributes, and ensures that modifying one object does not affect any of the other objecs that have been created from the class.\n",
        "\n",
        "Each of these objects can be worked with individually. At this point we are ready to move on and see how to add more functionality to the Rocket class. We will work slowly, and give you the chance to start writing your own simple classes."
      ]
    },
    {
      "cell_type": "markdown",
      "metadata": {
        "id": "RbseGQKETU3D"
      },
      "source": [
        "A quick check-in\n",
        "---\n",
        "If all of this makes sense, then the rest of your work with classes will involve learning a lot of details about how classes can be used in more flexible and powerful ways. If this does not make any sense, you could try a few different things:\n",
        "\n",
        "- Reread the previous sections, and see if things start to make any more sense.\n",
        "- Type out these examples in your own editor, and run them. Try making some changes, and see what happens.\n",
        "- Try the next exercise, and see if it helps solidify some of the concepts you have been reading about.\n",
        "- Read on. The next sections are going to add more functionality to the Rocket class. These steps will involve rehashing some of what has already been covered, in a slightly different way.\n",
        "\n",
        "Classes are a huge topic, and once you understand them you will probably use them for the rest of your life as a programmer. If you are brand new to this, be patient and trust that things will start to sink in."
      ]
    },
    {
      "cell_type": "markdown",
      "metadata": {
        "id": "3uQkkRk_TU3D"
      },
      "source": [
        "Refining the Rocket class\n",
        "===\n",
        "The Rocket class so far is very simple. It can be made a little more interesting with some refinements to the \\_\\_init\\_\\_() method, and by the addition of some methods."
      ]
    },
    {
      "cell_type": "markdown",
      "metadata": {
        "id": "95Sl9Z45TU3D"
      },
      "source": [
        "Accepting parameters for the \\_\\_init\\_\\_() method\n",
        "---\n",
        "The \\_\\_init\\_\\_() method is run automatically one time when you create a new object from a class. The \\_\\_init\\_\\_() method for the Rocket class so far is pretty simple:"
      ]
    },
    {
      "cell_type": "code",
      "execution_count": null,
      "metadata": {
        "id": "tNYZ5nsiTU3D"
      },
      "outputs": [],
      "source": [
        "###highlight=[6,7,8,9]\n",
        "class Rocket():\n",
        "    # Rocket simulates a rocket ship for a game,\n",
        "    #  or a physics simulation.\n",
        "    \n",
        "    def __init__(self):\n",
        "        # Each rocket has an (x,y) position.\n",
        "        self.x = 0\n",
        "        self.y = 0\n",
        "        \n",
        "    def move_up(self):\n",
        "        # Increment the y-position of the rocket.\n",
        "        self.y += 1"
      ]
    },
    {
      "cell_type": "markdown",
      "metadata": {
        "id": "czhtWH-MTU3D"
      },
      "source": [
        "All the \\_\\_init\\_\\_() method does so far is set the x and y values for the rocket to 0. We can easily add a couple keyword arguments so that new rockets can be initialized at any position:"
      ]
    },
    {
      "cell_type": "code",
      "execution_count": null,
      "metadata": {
        "id": "Q4uSMFPoTU3D"
      },
      "outputs": [],
      "source": [
        "###highlight=[6,7,8,9]\n",
        "class Rocket():\n",
        "    # Rocket simulates a rocket ship for a game,\n",
        "    #  or a physics simulation.\n",
        "    \n",
        "    def __init__(self, x=0, y=0):\n",
        "        # Each rocket has an (x,y) position.\n",
        "        self.x = x\n",
        "        self.y = y\n",
        "        \n",
        "    def move_up(self):\n",
        "        # Increment the y-position of the rocket.\n",
        "        self.y += 1"
      ]
    },
    {
      "cell_type": "markdown",
      "metadata": {
        "id": "Uo5IhFI7TU3E"
      },
      "source": [
        "Now when you create a new Rocket object you have the choice of passing in arbitrary initial values for x and y:"
      ]
    },
    {
      "cell_type": "code",
      "execution_count": null,
      "metadata": {
        "id": "wd81Q9BXTU3E"
      },
      "outputs": [],
      "source": [
        "###highlight=[15,16,17,18,19,20,21,22,23]\n",
        "class Rocket():\n",
        "    # Rocket simulates a rocket ship for a game,\n",
        "    #  or a physics simulation.\n",
        "    \n",
        "    def __init__(self, x=0, y=0):\n",
        "        # Each rocket has an (x,y) position.\n",
        "        self.x = x\n",
        "        self.y = y\n",
        "        \n",
        "    def move_up(self):\n",
        "        # Increment the y-position of the rocket.\n",
        "        self.y += 1\n",
        "        \n",
        "# Make a series of rockets at different starting places.\n",
        "rockets = []\n",
        "rockets.append(Rocket())\n",
        "rockets.append(Rocket(0,10))\n",
        "rockets.append(Rocket(100,0))\n",
        "\n",
        "# Show where each rocket is.\n",
        "for index, rocket in enumerate(rockets):\n",
        "    print(\"Rocket %d is at (%d, %d).\" % (index, rocket.x, rocket.y))"
      ]
    },
    {
      "cell_type": "markdown",
      "metadata": {
        "id": "KoPu0cVGTU3E"
      },
      "source": [
        "Accepting parameters in a method\n",
        "---\n",
        "The \\_\\_init\\_\\_ method is just a special method that serves a particular purpose, which is to help create new objects from a class. Any method in a class can accept parameters of any kind. With this in mind, the move_up() method can be made much more flexible. By accepting keyword arguments, the move_up() method can be rewritten as a more general move_rocket() method. This new method will allow the rocket to be moved any amount, in any direction:"
      ]
    },
    {
      "cell_type": "code",
      "execution_count": null,
      "metadata": {
        "id": "X9X8O3yJTU3E"
      },
      "outputs": [],
      "source": [
        "###highlight=[11,12,13,14,15]\n",
        "class Rocket():\n",
        "    # Rocket simulates a rocket ship for a game,\n",
        "    #  or a physics simulation.\n",
        "    \n",
        "    def __init__(self, x=0, y=0):\n",
        "        # Each rocket has an (x,y) position.\n",
        "        self.x = x\n",
        "        self.y = y\n",
        "        \n",
        "    def move_rocket(self, x_increment=0, y_increment=1):\n",
        "        # Move the rocket according to the paremeters given.\n",
        "        #  Default behavior is to move the rocket up one unit.\n",
        "        self.x += x_increment\n",
        "        self.y += y_increment"
      ]
    },
    {
      "cell_type": "markdown",
      "metadata": {
        "id": "Mql2HiNRTU3E"
      },
      "source": [
        "The paremeters for the move() method are named x_increment and y_increment rather than x and y. It's good to emphasize that these are changes in the x and y position, not new values for the actual position of the rocket. By carefully choosing the right default values, we can define a meaningful default behavior. If someone calls the method move_rocket() with no parameters, the rocket will simply move up one unit in the y-direciton. Note that this method can be given negative values to move the rocket left or right:"
      ]
    },
    {
      "cell_type": "code",
      "execution_count": null,
      "metadata": {
        "id": "QodIAMcHTU3E"
      },
      "outputs": [],
      "source": [
        "###highlight=[17,18,19,20,21,22,23,24,25,26,27]\n",
        "class Rocket():\n",
        "    # Rocket simulates a rocket ship for a game,\n",
        "    #  or a physics simulation.\n",
        "    \n",
        "    def __init__(self, x=0, y=0):\n",
        "        # Each rocket has an (x,y) position.\n",
        "        self.x = x\n",
        "        self.y = y\n",
        "        \n",
        "    def move_rocket(self, x_increment=0, y_increment=1):\n",
        "        # Move the rocket according to the paremeters given.\n",
        "        #  Default behavior is to move the rocket up one unit.\n",
        "        self.x += x_increment\n",
        "        self.y += y_increment\n",
        "        \n",
        "# Create three rockets.\n",
        "rockets = [Rocket() for x in range(0,3)]\n",
        "\n",
        "# Move each rocket a different amount.\n",
        "rockets[0].move_rocket()\n",
        "rockets[1].move_rocket(10,10)\n",
        "rockets[2].move_rocket(-10,0)\n",
        "          \n",
        "# Show where each rocket is.\n",
        "for index, rocket in enumerate(rockets):\n",
        "    print(\"Rocket %d is at (%d, %d).\" % (index, rocket.x, rocket.y))"
      ]
    },
    {
      "cell_type": "markdown",
      "metadata": {
        "id": "um7aeo0zTU3E"
      },
      "source": [
        "Adding a new method\n",
        "---\n",
        "One of the strengths of object-oriented programming is the ability to closely model real-world phenomena by adding appropriate attributes and behaviors to classes. One of the jobs of a team piloting a rocket is to make sure the rocket does not get too close to any other rockets. Let's add a method that will report the distance from one rocket to any other rocket.\n",
        "\n",
        "If you are not familiar with distance calculations, there is a fairly simple formula to tell the distance between two points if you know the x and y values of each point. This new method performs that calculation, and then returns the resulting distance."
      ]
    },
    {
      "cell_type": "code",
      "execution_count": null,
      "metadata": {
        "id": "5FzTFofsTU3F"
      },
      "outputs": [],
      "source": [
        "###highlight=[19,20,21,22,23,24,25,26,27,28,29,30,31]\n",
        "from math import sqrt\n",
        "\n",
        "class Rocket():\n",
        "    # Rocket simulates a rocket ship for a game,\n",
        "    #  or a physics simulation.\n",
        "    \n",
        "    def __init__(self, x=0, y=0):\n",
        "        # Each rocket has an (x,y) position.\n",
        "        self.x = x\n",
        "        self.y = y\n",
        "        \n",
        "    def move_rocket(self, x_increment=0, y_increment=1):\n",
        "        # Move the rocket according to the paremeters given.\n",
        "        #  Default behavior is to move the rocket up one unit.\n",
        "        self.x += x_increment\n",
        "        self.y += y_increment\n",
        "        \n",
        "    def get_distance(self, other_rocket):\n",
        "        # Calculates the distance from this rocket to another rocket,\n",
        "        #  and returns that value.\n",
        "        distance = sqrt((self.x-other_rocket.x)**2+(self.y-other_rocket.y)**2)\n",
        "        return distance\n",
        "    \n",
        "# Make two rockets, at different places.\n",
        "rocket_0 = Rocket()\n",
        "rocket_1 = Rocket(10,5)\n",
        "\n",
        "# Show the distance between them.\n",
        "distance = rocket_0.get_distance(rocket_1)\n",
        "print(\"The rockets are %f units apart.\" % distance)"
      ]
    },
    {
      "cell_type": "markdown",
      "metadata": {
        "id": "U5hqsqW_TU3F"
      },
      "source": [
        "Hopefully these short refinements show that you can extend a class' attributes and behavior to model the phenomena you are interested in as closely as you want. The rocket could have a name, a crew capacity, a payload, a certain amount of fuel, and any number of other attributes. You could define any behavior you want for the rocket, including interactions with other rockets and launch facilities, gravitational fields, and whatever you need it to! There are techniques for managing these more complex interactions, but what you have just seen is the core of object-oriented programming.\n",
        "\n",
        "At this point you should try your hand at writing some classes of your own. After trying some exercises, we will look at object inheritance, and then you will be ready to move on for now."
      ]
    },
    {
      "cell_type": "markdown",
      "metadata": {
        "id": "s56b5Q5MTU3F"
      },
      "source": [
        "Inheritance\n",
        "===\n",
        "One of the most important goals of the object-oriented approach to programming is the creation of stable, reliable, reusable code. If you had to create a new class for every kind of object you wanted to model, you would hardly have any reusable code. In Python and any other language that supports OOP, one class can **inherit** from another class. This means you can base a new class on an existing class; the new class *inherits* all of the attributes and behavior of the class it is based on. A new class can override any undesirable attributes or behavior of the class it inherits from, and it can add any new attributes or behavior that are appropriate. The original class is called the **parent** class, and the new class is a **child** of the parent class. The parent class is also called a **superclass**, and the child class is also called a **subclass**.\n",
        "\n",
        "The child class inherits all attributes and behavior from the parent class, but any attributes that are defined in the child class are not available to the parent class. This may be obvious to many people, but it is worth stating. This also means a child class can override behavior of the parent class. If a child class defines a method that also appears in the parent class, objects of the child class will use the new method rather than the parent class method.\n",
        "\n",
        "To better understand inheritance, let's look at an example of a class that can be based on the Rocket class."
      ]
    },
    {
      "cell_type": "markdown",
      "metadata": {
        "id": "E6mJYwBaTU3F"
      },
      "source": [
        "The SpaceShuttle class\n",
        "---\n",
        "If you wanted to model a space shuttle, you could write an entirely new class. But a space shuttle is just a special kind of rocket. Instead of writing an entirely new class, you can inherit all of the attributes and behavior of a Rocket, and then add a few appropriate attributes and behavior for a Shuttle.\n",
        "\n",
        "One of the most significant characteristics of a space shuttle is that it can be reused. So the only difference we will add at this point is to record the number of flights the shutttle has completed. Everything else you need to know about a shuttle has already been coded into the Rocket class.\n",
        "\n",
        "Here is what the Shuttle class looks like:"
      ]
    },
    {
      "cell_type": "code",
      "execution_count": null,
      "metadata": {
        "id": "2tDbKtsITU3F"
      },
      "outputs": [],
      "source": [
        "###highlight=[25,26,27,28,29,30,31,32,33,34]\n",
        "from math import sqrt\n",
        "\n",
        "class Rocket():\n",
        "    # Rocket simulates a rocket ship for a game,\n",
        "    #  or a physics simulation.\n",
        "    \n",
        "    def __init__(self, x=0, y=0):\n",
        "        # Each rocket has an (x,y) position.\n",
        "        self.x = x\n",
        "        self.y = y\n",
        "        \n",
        "    def move_rocket(self, x_increment=0, y_increment=1):\n",
        "        # Move the rocket according to the paremeters given.\n",
        "        #  Default behavior is to move the rocket up one unit.\n",
        "        self.x += x_increment\n",
        "        self.y += y_increment\n",
        "        \n",
        "    def get_distance(self, other_rocket):\n",
        "        # Calculates the distance from this rocket to another rocket,\n",
        "        #  and returns that value.\n",
        "        distance = sqrt((self.x-other_rocket.x)**2+(self.y-other_rocket.y)**2)\n",
        "        return distance\n",
        "    \n",
        "class Shuttle(Rocket):\n",
        "    # Shuttle simulates a space shuttle, which is really\n",
        "    #  just a reusable rocket.\n",
        "    \n",
        "    def __init__(self, x=0, y=0, flights_completed=0):\n",
        "        super().__init__(x, y)\n",
        "        self.flights_completed = flights_completed\n",
        "        \n",
        "shuttle = Shuttle(10,0,3)\n",
        "print(shuttle)"
      ]
    },
    {
      "cell_type": "markdown",
      "metadata": {
        "id": "Nw1ToeQXTU3F"
      },
      "source": [
        "When a new class is based on an existing class, you write the name of the parent class in parentheses when you define the new class:\n",
        "\n",
        "    "
      ]
    },
    {
      "cell_type": "raw",
      "metadata": {
        "id": "ZDP1y-AoTU3F"
      },
      "source": [
        "class NewClass(ParentClass):"
      ]
    },
    {
      "cell_type": "markdown",
      "metadata": {
        "id": "_Vb-cYTlTU3F"
      },
      "source": [
        "The \\_\\_init\\_\\_() function of the new class needs to call the \\_\\_init\\_\\_() function of the parent class. The \\_\\_init\\_\\_() function of the new class needs to accept all of the parameters required to build an object from the parent class, and these parameters need to be passed to the \\_\\_init\\_\\_() function of the parent class. The *super().\\_\\_init\\_\\_()* function takes care of this:"
      ]
    },
    {
      "cell_type": "raw",
      "metadata": {
        "id": "bVwpBWWsTU3G"
      },
      "source": [
        "class NewClass(ParentClass):\n",
        "    \n",
        "    def __init__(self, arguments_new_class, arguments_parent_class):\n",
        "        super().__init__(arguments_parent_class)\n",
        "        # Code for initializing an object of the new class."
      ]
    },
    {
      "cell_type": "markdown",
      "metadata": {
        "id": "lrEzkmaQTU3G"
      },
      "source": [
        "The *super()* function passes the *self* argument to the parent class automatically. You could also do this by explicitly naming the parent class when you call the \\_\\_init\\_\\_() function, but you then have to include the *self* argument manually:"
      ]
    },
    {
      "cell_type": "code",
      "execution_count": null,
      "metadata": {
        "id": "ejPnZ9B9TU3G"
      },
      "outputs": [],
      "source": [
        "###highlight=[7]\n",
        "class Shuttle(Rocket):\n",
        "    # Shuttle simulates a space shuttle, which is really\n",
        "    #  just a reusable rocket.\n",
        "    \n",
        "    def __init__(self, x=0, y=0, flights_completed=0):\n",
        "        Rocket.__init__(self, x, y)\n",
        "        self.flights_completed = flights_completed"
      ]
    },
    {
      "cell_type": "markdown",
      "metadata": {
        "id": "joWT6EiHTU3G"
      },
      "source": [
        "This might seem a little easier to read, but it is preferable to use the *super()* syntax. When you use *super()*, you don't need to explicitly name the parent class, so your code is more resilient to later changes. As you learn more about classes, you will be able to write child classes that inherit from multiple parent classes, and the *super()* function will call the parent classes' \\_\\_init\\_\\_() functions for you, in one line. This explicit approach to calling the parent class' \\_\\_init\\_\\_() function is included so that you will be less confused if you see it in someone else's code."
      ]
    },
    {
      "cell_type": "markdown",
      "metadata": {
        "id": "dLJ1AYrrTU3G"
      },
      "source": [
        "The output above shows that a new Shuttle object was created. This new Shuttle object can store the number of flights completed, but it also has all of the functionality of the Rocket class: it has a position that can be changed, and it can calculate the distance between itself and other rockets or shuttles. This can be demonstrated by creating several rockets and shuttles, and then finding the distance between one shuttle and all the other shuttles and rockets. This example uses a simple function called [randint](http://docs.python.org/2/library/random.html#random.randint), which generates a random integer between a lower and upper bound, to determine the position of each rocket and shuttle:"
      ]
    },
    {
      "cell_type": "code",
      "execution_count": null,
      "metadata": {
        "id": "mraMVHIHTU3G"
      },
      "outputs": [],
      "source": [
        "###highlight=[3, 35, 36, 37, 38, 39, 40, 41, 42, 43, 44, 45, 46, 47, 48, 49, 50, 51, 52, 53, 54, 55, 56, 57, 58, 59, 60, 61, 62, 63, 64, 65]\n",
        "from math import sqrt\n",
        "from random import randint\n",
        "\n",
        "class Rocket():\n",
        "    # Rocket simulates a rocket ship for a game,\n",
        "    #  or a physics simulation.\n",
        "    \n",
        "    def __init__(self, x=0, y=0):\n",
        "        # Each rocket has an (x,y) position.\n",
        "        self.x = x\n",
        "        self.y = y\n",
        "        \n",
        "    def move_rocket(self, x_increment=0, y_increment=1):\n",
        "        # Move the rocket according to the paremeters given.\n",
        "        #  Default behavior is to move the rocket up one unit.\n",
        "        self.x += x_increment\n",
        "        self.y += y_increment\n",
        "        \n",
        "    def get_distance(self, other_rocket):\n",
        "        # Calculates the distance from this rocket to another rocket,\n",
        "        #  and returns that value.\n",
        "        distance = sqrt((self.x-other_rocket.x)**2+(self.y-other_rocket.y)**2)\n",
        "        return distance\n",
        "    \n",
        "class Shuttle(Rocket):\n",
        "    # Shuttle simulates a space shuttle, which is really\n",
        "    #  just a reusable rocket.\n",
        "    \n",
        "    def __init__(self, x=0, y=0, flights_completed=0):\n",
        "        super().__init__(x, y)\n",
        "        self.flights_completed = flights_completed\n",
        "        \n",
        "        \n",
        "# Create several shuttles and rockets, with random positions.\n",
        "#  Shuttles have a random number of flights completed.\n",
        "shuttles = []\n",
        "for x in range(0,3):\n",
        "    x = randint(0,100)\n",
        "    y = randint(1,100)\n",
        "    flights_completed = randint(0,10)\n",
        "    shuttles.append(Shuttle(x, y, flights_completed))\n",
        "\n",
        "rockets = []\n",
        "for x in range(0,3):\n",
        "    x = randint(0,100)\n",
        "    y = randint(1,100)\n",
        "    rockets.append(Rocket(x, y))\n",
        "    \n",
        "# Show the number of flights completed for each shuttle.\n",
        "for index, shuttle in enumerate(shuttles):\n",
        "    print(\"Shuttle %d has completed %d flights.\" % (index, shuttle.flights_completed))\n",
        "    \n",
        "print(\"\\n\")    \n",
        "# Show the distance from the first shuttle to all other shuttles.\n",
        "first_shuttle = shuttles[0]\n",
        "for index, shuttle in enumerate(shuttles):\n",
        "    distance = first_shuttle.get_distance(shuttle)\n",
        "    print(\"The first shuttle is %f units away from shuttle %d.\" % (distance, index))\n",
        "\n",
        "print(\"\\n\")\n",
        "# Show the distance from the first shuttle to all other rockets.\n",
        "for index, rocket in enumerate(rockets):\n",
        "    distance = first_shuttle.get_distance(rocket)\n",
        "    print(\"The first shuttle is %f units away from rocket %d.\" % (distance, index))"
      ]
    },
    {
      "cell_type": "markdown",
      "metadata": {
        "id": "SodH61tkTU3H"
      },
      "source": [
        "Inheritance is a powerful feature of object-oriented programming. Using just what you have seen so far about classes, you can model an incredible variety of real-world and virtual phenomena with a high degree of accuracy. The code you write has the potential to be stable and reusable in a variety of applications."
      ]
    },
    {
      "cell_type": "markdown",
      "metadata": {
        "id": "h9Von9lYTU3H"
      },
      "source": [
        "Modules and classes\n",
        "===\n",
        "Now that you are starting to work with classes, your files are going to grow longer. This is good, because it means your programs are probably doing more interesting things. But it is bad, because longer files can be more difficult to work with. Python allows you to save your classes in another file and then import them into the program you are working on. This has the added advantage of isolating your classes into files that can be used in any number of different programs. As you use your classes repeatedly, the classes become more reliable and complete overall."
      ]
    },
    {
      "cell_type": "markdown",
      "metadata": {
        "id": "yxoRjLp0TU3H"
      },
      "source": [
        "Storing a single class in a module\n",
        "---\n",
        "\n",
        "When you save a class into a separate file, that file is called a **module**. You can have any number of classes in a single module. There are a number of ways you can then import the class you are interested in.\n",
        "\n",
        "Start out by saving just the Rocket class into a file called *rocket.py*. Notice the naming convention being used here: the module is saved with a lowercase name, and the class starts with an uppercase letter. This convention is pretty important for a number of reasons, and it is a really good idea to follow the convention."
      ]
    },
    {
      "cell_type": "code",
      "execution_count": null,
      "metadata": {
        "id": "pcJm9evbTU3H"
      },
      "outputs": [],
      "source": [
        "###highlight=[2]\n",
        "# Save as rocket.py\n",
        "from math import sqrt\n",
        "\n",
        "class Rocket():\n",
        "    # Rocket simulates a rocket ship for a game,\n",
        "    #  or a physics simulation.\n",
        "    \n",
        "    def __init__(self, x=0, y=0):\n",
        "        # Each rocket has an (x,y) position.\n",
        "        self.x = x\n",
        "        self.y = y\n",
        "        \n",
        "    def move_rocket(self, x_increment=0, y_increment=1):\n",
        "        # Move the rocket according to the paremeters given.\n",
        "        #  Default behavior is to move the rocket up one unit.\n",
        "        self.x += x_increment\n",
        "        self.y += y_increment\n",
        "        \n",
        "    def get_distance(self, other_rocket):\n",
        "        # Calculates the distance from this rocket to another rocket,\n",
        "        #  and returns that value.\n",
        "        distance = sqrt((self.x-other_rocket.x)**2+(self.y-other_rocket.y)**2)\n",
        "        return distance"
      ]
    },
    {
      "cell_type": "markdown",
      "metadata": {
        "id": "ExMRQf9jTU3H"
      },
      "source": [
        "Make a separate file called *rocket_game.py*. If you are more interested in science than games, feel free to call this file something like *rocket_simulation.py*. Again, to use standard naming conventions, make sure you are using a lowercase_underscore name for this file."
      ]
    },
    {
      "cell_type": "code",
      "execution_count": null,
      "metadata": {
        "id": "1hoi0W8xTU3H"
      },
      "outputs": [],
      "source": [
        "###highlight=[2]\n",
        "# Save as rocket_game.py\n",
        "from rocket import Rocket\n",
        "\n",
        "rocket = Rocket()\n",
        "print(\"The rocket is at (%d, %d).\" % (rocket.x, rocket.y))"
      ]
    },
    {
      "cell_type": "markdown",
      "metadata": {
        "id": "oLKYWr5_TU3H"
      },
      "source": [
        "This is a really clean and uncluttered file. A rocket is now something you can define in your programs, without the details of the rocket's implementation cluttering up your file. You don't have to include all the class code for a rocket in each of your files that deals with rockets; the code defining rocket attributes and behavior lives in one file, and can be used anywhere.\n",
        "\n",
        "The first line tells Python to look for a file called *rocket.py*. It looks for that file in the same directory as your current program. You can put your classes in other directories, but we will get to that convention a bit later. Notice that you do not\n",
        "\n",
        "When Python finds the file *rocket.py*, it looks for a class called *Rocket*. When it finds that class, it imports that code into the current file, without you ever seeing that code. You are then free to use the class Rocket as you have seen it used in previous examples."
      ]
    },
    {
      "cell_type": "markdown",
      "metadata": {
        "id": "u90xeN7VTU3H"
      },
      "source": [
        "Storing multiple classes in a module\n",
        "---\n",
        "\n",
        "A module is simply a file that contains one or more classes or functions, so the Shuttle class actually belongs in the rocket module as well:"
      ]
    },
    {
      "cell_type": "code",
      "execution_count": null,
      "metadata": {
        "id": "xTZzfXd2TU3I"
      },
      "outputs": [],
      "source": [
        "###highlight=[27,28,29,30,31,32,33]\n",
        "# Save as rocket.py\n",
        "from math import sqrt\n",
        "\n",
        "class Rocket():\n",
        "    # Rocket simulates a rocket ship for a game,\n",
        "    #  or a physics simulation.\n",
        "    \n",
        "    def __init__(self, x=0, y=0):\n",
        "        # Each rocket has an (x,y) position.\n",
        "        self.x = x\n",
        "        self.y = y\n",
        "        \n",
        "    def move_rocket(self, x_increment=0, y_increment=1):\n",
        "        # Move the rocket according to the paremeters given.\n",
        "        #  Default behavior is to move the rocket up one unit.\n",
        "        self.x += x_increment\n",
        "        self.y += y_increment\n",
        "        \n",
        "    def get_distance(self, other_rocket):\n",
        "        # Calculates the distance from this rocket to another rocket,\n",
        "        #  and returns that value.\n",
        "        distance = sqrt((self.x-other_rocket.x)**2+(self.y-other_rocket.y)**2)\n",
        "        return distance\n",
        "    \n",
        "\n",
        "class Shuttle(Rocket):\n",
        "    # Shuttle simulates a space shuttle, which is really\n",
        "    #  just a reusable rocket.\n",
        "    \n",
        "    def __init__(self, x=0, y=0, flights_completed=0):\n",
        "        super().__init__(x, y)\n",
        "        self.flights_completed = flights_completed"
      ]
    },
    {
      "cell_type": "markdown",
      "metadata": {
        "id": "opsJ2H5rTU3I"
      },
      "source": [
        "Now you can import the Rocket and the Shuttle class, and use them both in a clean uncluttered program file:"
      ]
    },
    {
      "cell_type": "code",
      "execution_count": null,
      "metadata": {
        "id": "Az5pZLcoTU3I"
      },
      "outputs": [],
      "source": [
        "###highlight=[3,8,9,10]\n",
        "# Save as rocket_game.py\n",
        "from rocket import Rocket, Shuttle\n",
        "\n",
        "rocket = Rocket()\n",
        "print(\"The rocket is at (%d, %d).\" % (rocket.x, rocket.y))\n",
        "\n",
        "shuttle = Shuttle()\n",
        "print(\"\\nThe shuttle is at (%d, %d).\" % (shuttle.x, shuttle.y))\n",
        "print(\"The shuttle has completed %d flights.\" % shuttle.flights_completed)"
      ]
    },
    {
      "cell_type": "markdown",
      "metadata": {
        "id": "2y4UyWcCTU3I"
      },
      "source": [
        "The first line tells Python to import both the *Rocket* and the *Shuttle* classes from the *rocket* module. You don't have to import every class in a module; you can pick and choose the classes you care to use, and Python will only spend time processing those particular classes."
      ]
    },
    {
      "cell_type": "markdown",
      "metadata": {
        "id": "i_nE2mY5TU3I"
      },
      "source": [
        "A number of ways to import modules and classes\n",
        "---\n",
        "There are several ways to import modules and classes, and each has its own merits."
      ]
    },
    {
      "cell_type": "markdown",
      "metadata": {
        "id": "Y4i8GqfLTU3I"
      },
      "source": [
        "### import *module_name*\n",
        "\n",
        "The syntax for importing classes that was just shown:"
      ]
    },
    {
      "cell_type": "raw",
      "metadata": {
        "id": "urfGwr02TU3I"
      },
      "source": [
        "from module_name import ClassName"
      ]
    },
    {
      "cell_type": "markdown",
      "metadata": {
        "id": "ElduWqroTU3I"
      },
      "source": [
        "is straightforward, and is used quite commonly. It allows you to use the class names directly in your program, so you have very clean and readable code. This can be a problem, however, if the names of the classes you are importing conflict with names that have already been used in the program you are working on. This is unlikely to happen in the short programs you have been seeing here, but if you were working on a larger program it is quite possible that the class you want to import from someone else's work would happen to have a name you have already used in your program. In this case, you can use simply import the module itself:"
      ]
    },
    {
      "cell_type": "code",
      "execution_count": null,
      "metadata": {
        "id": "Czu5r5v5TU3J"
      },
      "outputs": [],
      "source": [
        "# Save as rocket_game.py\n",
        "import rocket\n",
        "\n",
        "rocket_0 = rocket.Rocket()\n",
        "print(\"The rocket is at (%d, %d).\" % (rocket_0.x, rocket_0.y))\n",
        "\n",
        "shuttle_0 = rocket.Shuttle()\n",
        "print(\"\\nThe shuttle is at (%d, %d).\" % (shuttle_0.x, shuttle_0.y))\n",
        "print(\"The shuttle has completed %d flights.\" % shuttle_0.flights_completed)"
      ]
    },
    {
      "cell_type": "markdown",
      "metadata": {
        "id": "Wxm4K6sPTU3J"
      },
      "source": [
        "The general syntax for this kind of import is:\n",
        "\n",
        "    "
      ]
    },
    {
      "cell_type": "raw",
      "metadata": {
        "id": "92grHLl4TU3J"
      },
      "source": [
        "import module_name"
      ]
    },
    {
      "cell_type": "markdown",
      "metadata": {
        "id": "YiIoWZ7pTU3J"
      },
      "source": [
        "After this, classes are accessed using dot notation:"
      ]
    },
    {
      "cell_type": "raw",
      "metadata": {
        "id": "TajBbkm4TU3J"
      },
      "source": [
        "module_name.ClassName"
      ]
    },
    {
      "cell_type": "markdown",
      "metadata": {
        "id": "eE-c0KLZTU3J"
      },
      "source": [
        "This prevents some name conflicts. If you were reading carefully however, you might have noticed that the variable name *rocket* in the previous example had to be changed because it has the same name as the module itself. This is not good, because in a longer program that could mean a lot of renaming."
      ]
    },
    {
      "cell_type": "markdown",
      "metadata": {
        "id": "p5F8a6BnTU3J"
      },
      "source": [
        "### import *module_name* as *local_module_name*\n",
        "\n",
        "There is another syntax for imports that is quite useful:"
      ]
    },
    {
      "cell_type": "raw",
      "metadata": {
        "id": "cBdnQw4bTU3J"
      },
      "source": [
        "import module_name as local_module_name"
      ]
    },
    {
      "cell_type": "markdown",
      "metadata": {
        "id": "jfDU-XtPTU3J"
      },
      "source": [
        "When you are importing a module into one of your projects, you are free to choose any name you want for the module in your project. So the last example could be rewritten in a way that the variable name *rocket* would not need to be changed:"
      ]
    },
    {
      "cell_type": "code",
      "execution_count": null,
      "metadata": {
        "id": "EIWXur7XTU3K"
      },
      "outputs": [],
      "source": [
        "# Save as rocket_game.py\n",
        "import rocket as rocket_module\n",
        "\n",
        "rocket = rocket_module.Rocket()\n",
        "print(\"The rocket is at (%d, %d).\" % (rocket.x, rocket.y))\n",
        "\n",
        "shuttle = rocket_module.Shuttle()\n",
        "print(\"\\nThe shuttle is at (%d, %d).\" % (shuttle.x, shuttle.y))\n",
        "print(\"The shuttle has completed %d flights.\" % shuttle.flights_completed)"
      ]
    },
    {
      "cell_type": "markdown",
      "metadata": {
        "id": "etmF4KOcTU3K"
      },
      "source": [
        "This approach is often used to shorten the name of the module, so you don't have to type a long module name before each class name that you want to use. But it is easy to shorten a name so much that you force people reading your code to scroll to the top of your file and see what the shortened name stands for. In this example,"
      ]
    },
    {
      "cell_type": "code",
      "execution_count": null,
      "metadata": {
        "id": "Dsz8bYwATU3K"
      },
      "outputs": [],
      "source": [
        "import rocket as rocket_module"
      ]
    },
    {
      "cell_type": "markdown",
      "metadata": {
        "id": "D7PhylpyTU3K"
      },
      "source": [
        "leads to much more readable code than something like:"
      ]
    },
    {
      "cell_type": "code",
      "execution_count": null,
      "metadata": {
        "id": "M2MqMh0hTU3K"
      },
      "outputs": [],
      "source": [
        "import rocket as r"
      ]
    },
    {
      "cell_type": "markdown",
      "metadata": {
        "id": "N3ri0tNMTU3K"
      },
      "source": [
        "### from *module_name* import *\n",
        "There is one more import syntax that you should be aware of, but you should probably avoid using. This syntax imports all of the available classes and functions in a module:"
      ]
    },
    {
      "cell_type": "raw",
      "metadata": {
        "id": "OwKMPJ2vTU3K"
      },
      "source": [
        "from module_name import *"
      ]
    },
    {
      "cell_type": "markdown",
      "metadata": {
        "id": "sI_7nPTQTU3K"
      },
      "source": [
        "This is not recommended, for a couple reasons. First of all, you may have no idea what all the names of the classes and functions in a module are. If you accidentally give one of your variables the same name as a name from the module, you will have naming conflicts. Also, you may be importing way more code into your program than you need.\n",
        "\n",
        "If you really need all the functions and classes from a module, just import the module and use the `module_name.ClassName` syntax in your program."
      ]
    },
    {
      "cell_type": "markdown",
      "metadata": {
        "id": "kLtfQ3PTTU3K"
      },
      "source": [
        "You will get a sense of how to write your imports as you read more Python code, and as you write and share some of your own code."
      ]
    },
    {
      "cell_type": "markdown",
      "metadata": {
        "id": "wc1eK473TU3K"
      },
      "source": [
        "A module of functions\n",
        "---\n",
        "You can use modules to store a set of functions you want available in different programs as well, even if those functions are not attached to any one class. To do this, you save the functions into a file, and then import that file just as you saw in the last section. Here is a really simple example; save this is *multiplying.py*:"
      ]
    },
    {
      "cell_type": "code",
      "execution_count": null,
      "metadata": {
        "id": "B-vdVrWLTU3L"
      },
      "outputs": [],
      "source": [
        "# Save as multiplying.py\n",
        "def double(x):\n",
        "    return 2*x\n",
        "\n",
        "def triple(x):\n",
        "    return 3*x\n",
        "\n",
        "def quadruple(x):\n",
        "    return 4*x"
      ]
    },
    {
      "cell_type": "markdown",
      "metadata": {
        "id": "44mXE873TU3L"
      },
      "source": [
        "Now you can import the file *multiplying.py*, and use these functions. Using the `from module_name import function_name` syntax:"
      ]
    },
    {
      "cell_type": "code",
      "execution_count": null,
      "metadata": {
        "id": "sisDSqOdTU3L"
      },
      "outputs": [],
      "source": [
        "###highlight=[2]\n",
        "from multiplying import double, triple, quadruple\n",
        "\n",
        "print(double(5))\n",
        "print(triple(5))\n",
        "print(quadruple(5))"
      ]
    },
    {
      "cell_type": "markdown",
      "metadata": {
        "id": "Q4xO_ZxTTU3L"
      },
      "source": [
        "Using the `import module_name` syntax:"
      ]
    },
    {
      "cell_type": "code",
      "execution_count": null,
      "metadata": {
        "id": "lK0Sk5izTU3L"
      },
      "outputs": [],
      "source": [
        "###highlight=[2]\n",
        "import multiplying\n",
        "\n",
        "print(multiplying.double(5))\n",
        "print(multiplying.triple(5))\n",
        "print(multiplying.quadruple(5))"
      ]
    },
    {
      "cell_type": "markdown",
      "metadata": {
        "id": "mzTSpCWPTU3L"
      },
      "source": [
        "Using the `import module_name as local_module_name` syntax:"
      ]
    },
    {
      "cell_type": "code",
      "execution_count": null,
      "metadata": {
        "id": "5qk50DjTTU3L"
      },
      "outputs": [],
      "source": [
        "###highlight=[2]\n",
        "import multiplying as m\n",
        "\n",
        "print(m.double(5))\n",
        "print(m.triple(5))\n",
        "print(m.quadruple(5))"
      ]
    },
    {
      "cell_type": "markdown",
      "metadata": {
        "id": "Tz0_Wc3VTU3L"
      },
      "source": [
        "Using the `from module_name import *` syntax:"
      ]
    },
    {
      "cell_type": "code",
      "execution_count": null,
      "metadata": {
        "id": "NwiiLkKqTU3M"
      },
      "outputs": [],
      "source": [
        "###highlight=[2]\n",
        "from multiplying import *\n",
        "\n",
        "print(double(5))\n",
        "print(triple(5))\n",
        "print(quadruple(5))"
      ]
    },
    {
      "cell_type": "markdown",
      "metadata": {
        "id": "h7WXSQT-TU3M"
      },
      "source": [
        "---\n",
        "**NEXT TOPIC:** [Basic File IO](10_file_io.ipynb)"
      ]
    },
    {
      "cell_type": "code",
      "execution_count": null,
      "metadata": {
        "id": "ct1jILL5TU3M"
      },
      "outputs": [],
      "source": [
        ""
      ]
    }
  ],
  "metadata": {
    "kernelspec": {
      "display_name": "Python 3",
      "language": "python",
      "name": "python3"
    },
    "language_info": {
      "codemirror_mode": {
        "name": "ipython",
        "version": 3
      },
      "file_extension": ".py",
      "mimetype": "text/x-python",
      "name": "python",
      "nbconvert_exporter": "python",
      "pygments_lexer": "ipython3",
      "version": "3.8.3"
    },
    "colab": {
      "name": "optional_classesipynb",
      "provenance": [],
      "collapsed_sections": [
        "fKi8CIHhTU3A",
        "wD3sXKiXTU3A",
        "prDURheRTU3A",
        "NFHhJ19_TU3B",
        "scjifqw9TU3B",
        "YYPMVjuETU3C",
        "RbseGQKETU3D",
        "95Sl9Z45TU3D",
        "KoPu0cVGTU3E",
        "um7aeo0zTU3E",
        "E6mJYwBaTU3F",
        "yxoRjLp0TU3H",
        "u90xeN7VTU3H",
        "i_nE2mY5TU3I",
        "Y4i8GqfLTU3I",
        "p5F8a6BnTU3J",
        "N3ri0tNMTU3K",
        "wc1eK473TU3K"
      ],
      "include_colab_link": true
    }
  },
  "nbformat": 4,
  "nbformat_minor": 0
}