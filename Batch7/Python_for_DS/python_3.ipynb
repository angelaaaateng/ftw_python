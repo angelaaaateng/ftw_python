{
  "cells": [
    {
      "cell_type": "markdown",
      "metadata": {
        "id": "view-in-github",
        "colab_type": "text"
      },
      "source": [
        "<a href=\"https://colab.research.google.com/github/angelaaaateng/ftw_python/blob/main/python_3.ipynb\" target=\"_parent\"><img src=\"https://colab.research.google.com/assets/colab-badge.svg\" alt=\"Open In Colab\"/></a>"
      ]
    },
    {
      "cell_type": "markdown",
      "source": [
        "# Introduction to Python \n",
        "## FTW Foundation\n",
        "June 25, 2022 - Day 1\n",
        "\n",
        "## Outine: \n",
        "---\n",
        "1. Hello, World\n",
        "2. Python Basics\n",
        "3. Variables\n",
        "  - 3.1 Strings \n",
        "  - 3.2 Integers \n",
        "  - 3.3 Floats \n",
        "4. Data Types \n",
        " - 4.1 Lists \n",
        "    - Changing, Adding, and Removing Elements \n",
        "    - Organizing a List \n",
        "    - Avoiding Index Errors when Working with Lists\n",
        "    - Looping through an entire list\n",
        "    - Avoiding indentation errors\n",
        "    - Making numerical lists\n",
        "    - working with part of a list\n",
        " - 4.2 Tuples \n",
        " - 4.3 Dictionaries \n",
        "5. Functions \n",
        "  - 5.1 Defining a Function\n",
        "  - 5.2 Passing Arguments \n",
        "  - 5.3 Return Values \n",
        "  - 5.4 Passing a List \n",
        "  - 5.5 Passing an Arbitrary Number of Arguments \n",
        "6. If statements  **< we are here >**\n",
        "7. While loops\n",
        "\n",
        "A. Appendix\n",
        " - A.1 Variable Naming Conventions\n",
        " - A.2 The Zen of Python\n",
        "\n",
        "\n",
        "\n",
        "## References: \n",
        "---\n",
        "- <a href='https://ehmatthes.github.io/pcc/index.html'>Python Crash Course</a>"
      ],
      "metadata": {
        "id": "jEcY1vG2k65Q"
      }
    },
    {
      "cell_type": "markdown",
      "metadata": {
        "id": "p72hvbxfkMUo"
      },
      "source": [
        "If Statements\n",
        "===\n",
        "By allowing you to respond selectively to different situations and conditions, if statements open up whole new possibilities for your programs. In this section, you will learn how to test for certain conditions, and then respond in appropriate ways to those conditions."
      ]
    },
    {
      "cell_type": "markdown",
      "metadata": {
        "id": "-Mcmvc-GkMUs"
      },
      "source": [
        "What is an *if* statement?\n",
        "===\n",
        "An *if* statement tests for a condition, and then responds to that condition. If the condition is true, then whatever action is listed next gets carried out. You can test for multiple conditions at the same time, and respond appropriately to each condition.\n",
        "\n",
        "Example\n",
        "---\n",
        "Here is an example that shows a number of the desserts I like. It lists those desserts, but lets you know which one is my favorite."
      ]
    },
    {
      "cell_type": "code",
      "execution_count": 1,
      "metadata": {
        "id": "052xC1bskMUs",
        "colab": {
          "base_uri": "https://localhost:8080/"
        },
        "outputId": "4c33fbde-a146-42ea-9be2-41cab40e0d31"
      },
      "outputs": [
        {
          "output_type": "stream",
          "name": "stdout",
          "text": [
            "I like ice cream.\n",
            "I like chocolate.\n",
            "Apple Crisp is my favorite dessert!\n",
            "I like cookies.\n"
          ]
        }
      ],
      "source": [
        "# A list of desserts I like.\n",
        "desserts = ['ice cream', 'chocolate', 'apple crisp', 'cookies']\n",
        "favorite_dessert = 'apple crisp'\n",
        "\n",
        "# Print the desserts out, but let everyone know my favorite dessert.\n",
        "for dessert in desserts:\n",
        "    if dessert == favorite_dessert:\n",
        "        # This dessert is my favorite, let's let everyone know!\n",
        "        print(\"%s is my favorite dessert!\" % dessert.title())\n",
        "    else:\n",
        "        # I like these desserts, but they are not my favorite.\n",
        "        print(\"I like %s.\" % dessert)"
      ]
    },
    {
      "cell_type": "markdown",
      "metadata": {
        "id": "EoComJH5kMUu"
      },
      "source": [
        "#### What happens in this program?\n",
        "\n",
        "- The program starts out with a list of desserts, and one dessert is identified as a favorite.\n",
        "- The for loop runs through all the desserts.\n",
        "- Inside the for loop, each item in the list is tested.\n",
        "    - If the current value of *dessert* is equal to the value of *favorite_dessert*, a message is printed that this is my favorite.\n",
        "    - If the current value of *dessert* is not equal to the value of *favorite_dessert*, a message is printed that I just like the dessert.\n",
        "    \n",
        "You can test as many conditions as you want in an if statement, as you will see in a little bit."
      ]
    },
    {
      "cell_type": "markdown",
      "metadata": {
        "id": "ILTcy0sFkMUu"
      },
      "source": [
        "Logical Tests (Conditional Tests)\n",
        "===\n",
        "Every if statement evaluates to *True* or *False*. *True* and *False* are Python keywords, which have special meanings attached to them. You can test for the following conditions in your if statements:\n",
        "\n",
        "- [equality](#equality) (==)\n",
        "- [inequality](#inequality) (!=)\n",
        "- [other inequalities](#other_inequalities)\n",
        "    - greater than (>)\n",
        "    - greater than or equal to (>=)\n",
        "    - less than (<)\n",
        "    - less than or equal to (<=)\n",
        "- [You can test if an item is **in** a list.](#in_list)\n",
        "\n",
        "### Whitespace\n",
        "Accotding to [PEP 8](http://www.python.org/dev/peps/pep-0008/#other-recommendations), a Python style guide, it's a good idea to put a single space on either side of all of these comparison operators. If you're not sure what this means, just follow the style of the examples you see below."
      ]
    },
    {
      "cell_type": "markdown",
      "metadata": {
        "id": "FCCWd9u6kMUv"
      },
      "source": [
        "Equality\n",
        "---\n",
        "Two items are *equal* if they have the same value. You can test for equality between numbers, strings, and a number of other objects which you will learn about later. Some of these results may be surprising, so take a careful look at the examples below.\n",
        "\n",
        "In Python, as in many programming languages, two equals signs tests for equality.\n",
        "\n",
        "**Watch out!** Be careful of accidentally using one equals sign, which can really throw things off because that one equals sign actually sets your item to the value you are testing for!"
      ]
    },
    {
      "cell_type": "markdown",
      "source": [
        "## DIY 1: Let's discuss the results of these equalities."
      ],
      "metadata": {
        "id": "ntC5DyRSoUgY"
      }
    },
    {
      "cell_type": "code",
      "execution_count": 2,
      "metadata": {
        "id": "h9mLaVgikMUw",
        "colab": {
          "base_uri": "https://localhost:8080/"
        },
        "outputId": "90c1aaa4-0e2f-424f-97b2-245b5e8f8f60"
      },
      "outputs": [
        {
          "output_type": "execute_result",
          "data": {
            "text/plain": [
              "True"
            ]
          },
          "metadata": {},
          "execution_count": 2
        }
      ],
      "source": [
        "5 == 5"
      ]
    },
    {
      "cell_type": "code",
      "execution_count": 3,
      "metadata": {
        "id": "xj5tdOW_kMUx",
        "colab": {
          "base_uri": "https://localhost:8080/"
        },
        "outputId": "4617af2f-69ee-495b-cf9c-64cfe5cf90db"
      },
      "outputs": [
        {
          "output_type": "execute_result",
          "data": {
            "text/plain": [
              "False"
            ]
          },
          "metadata": {},
          "execution_count": 3
        }
      ],
      "source": [
        "3 == 5 "
      ]
    },
    {
      "cell_type": "code",
      "execution_count": 4,
      "metadata": {
        "id": "Y1WDQD4jkMUx",
        "colab": {
          "base_uri": "https://localhost:8080/"
        },
        "outputId": "c2144a73-6cf6-427a-a0b1-348ee9a8c3af"
      },
      "outputs": [
        {
          "output_type": "execute_result",
          "data": {
            "text/plain": [
              "True"
            ]
          },
          "metadata": {},
          "execution_count": 4
        }
      ],
      "source": [
        "5 == 5.0"
      ]
    },
    {
      "cell_type": "code",
      "execution_count": 5,
      "metadata": {
        "id": "5Gmte7YgkMUx",
        "colab": {
          "base_uri": "https://localhost:8080/"
        },
        "outputId": "fffa3831-8a2b-4f79-8bb4-296063bbf3af"
      },
      "outputs": [
        {
          "output_type": "execute_result",
          "data": {
            "text/plain": [
              "True"
            ]
          },
          "metadata": {},
          "execution_count": 5
        }
      ],
      "source": [
        "'eric' == 'eric'"
      ]
    },
    {
      "cell_type": "code",
      "execution_count": 6,
      "metadata": {
        "id": "7pAhECffkMUy",
        "colab": {
          "base_uri": "https://localhost:8080/"
        },
        "outputId": "cab59601-ecd7-441b-e5e0-5b8ff7b7071f"
      },
      "outputs": [
        {
          "output_type": "execute_result",
          "data": {
            "text/plain": [
              "False"
            ]
          },
          "metadata": {},
          "execution_count": 6
        }
      ],
      "source": [
        "'Eric' == 'eric'"
      ]
    },
    {
      "cell_type": "code",
      "execution_count": 7,
      "metadata": {
        "id": "70g33O0-kMUy",
        "colab": {
          "base_uri": "https://localhost:8080/"
        },
        "outputId": "1262d787-6cb8-473f-9b2b-48d6385319e1"
      },
      "outputs": [
        {
          "output_type": "execute_result",
          "data": {
            "text/plain": [
              "True"
            ]
          },
          "metadata": {},
          "execution_count": 7
        }
      ],
      "source": [
        "'Eric'.lower() == 'eric'.lower()"
      ]
    },
    {
      "cell_type": "code",
      "execution_count": 8,
      "metadata": {
        "id": "j3akAVijkMUy",
        "colab": {
          "base_uri": "https://localhost:8080/"
        },
        "outputId": "b067b72d-1d23-4b9a-cf9c-b97dd04ea0f7"
      },
      "outputs": [
        {
          "output_type": "execute_result",
          "data": {
            "text/plain": [
              "False"
            ]
          },
          "metadata": {},
          "execution_count": 8
        }
      ],
      "source": [
        "'5' == 5"
      ]
    },
    {
      "cell_type": "code",
      "execution_count": 9,
      "metadata": {
        "id": "RmNQwVGYkMUy",
        "colab": {
          "base_uri": "https://localhost:8080/"
        },
        "outputId": "30a500e3-a716-41d5-b480-cd06875ece35"
      },
      "outputs": [
        {
          "output_type": "execute_result",
          "data": {
            "text/plain": [
              "True"
            ]
          },
          "metadata": {},
          "execution_count": 9
        }
      ],
      "source": [
        "'5' == str(5)"
      ]
    },
    {
      "cell_type": "markdown",
      "metadata": {
        "id": "oIsfVVUMkMUz"
      },
      "source": [
        "Inequality\n",
        "---\n",
        "Two items are *inequal* if they do not have the same value. In Python, we test for inequality using the exclamation point and one equals sign.\n",
        "\n",
        "Sometimes you want to test for equality and if that fails, assume inequality. Sometimes it makes more sense to test for inequality directly."
      ]
    },
    {
      "cell_type": "code",
      "execution_count": 10,
      "metadata": {
        "id": "xW6b1OiVkMUz",
        "colab": {
          "base_uri": "https://localhost:8080/"
        },
        "outputId": "33688980-5a2c-465a-c425-fb4b69b66cea"
      },
      "outputs": [
        {
          "output_type": "execute_result",
          "data": {
            "text/plain": [
              "True"
            ]
          },
          "metadata": {},
          "execution_count": 10
        }
      ],
      "source": [
        "3 != 5"
      ]
    },
    {
      "cell_type": "code",
      "execution_count": 11,
      "metadata": {
        "id": "KB4Ph-sTkMUz",
        "colab": {
          "base_uri": "https://localhost:8080/"
        },
        "outputId": "08b5fc6a-1eb2-42d3-8a5c-26e9b42b34e1"
      },
      "outputs": [
        {
          "output_type": "execute_result",
          "data": {
            "text/plain": [
              "False"
            ]
          },
          "metadata": {},
          "execution_count": 11
        }
      ],
      "source": [
        "5 != 5"
      ]
    },
    {
      "cell_type": "code",
      "execution_count": 12,
      "metadata": {
        "id": "fZYFUFVakMUz",
        "colab": {
          "base_uri": "https://localhost:8080/"
        },
        "outputId": "feacd65f-8a32-4ceb-a927-b2616826429c"
      },
      "outputs": [
        {
          "output_type": "execute_result",
          "data": {
            "text/plain": [
              "True"
            ]
          },
          "metadata": {},
          "execution_count": 12
        }
      ],
      "source": [
        "'Eric' != 'eric'"
      ]
    },
    {
      "cell_type": "markdown",
      "metadata": {
        "id": "DpoG8Hp4kMU0"
      },
      "source": [
        "Other Inequalities\n",
        "---\n",
        "### greater than"
      ]
    },
    {
      "cell_type": "code",
      "execution_count": 13,
      "metadata": {
        "id": "vZOQVDlckMU0",
        "colab": {
          "base_uri": "https://localhost:8080/"
        },
        "outputId": "5886cfda-9e12-46d5-9e84-04fd4f168b61"
      },
      "outputs": [
        {
          "output_type": "execute_result",
          "data": {
            "text/plain": [
              "True"
            ]
          },
          "metadata": {},
          "execution_count": 13
        }
      ],
      "source": [
        "5 > 3"
      ]
    },
    {
      "cell_type": "markdown",
      "metadata": {
        "id": "HY7A7d6zkMU0"
      },
      "source": [
        "### greater than or equal to"
      ]
    },
    {
      "cell_type": "code",
      "execution_count": 14,
      "metadata": {
        "id": "GZnXAaJykMU0",
        "colab": {
          "base_uri": "https://localhost:8080/"
        },
        "outputId": "cd7509e3-ac6b-4220-cf96-7e6765cf6fdb"
      },
      "outputs": [
        {
          "output_type": "execute_result",
          "data": {
            "text/plain": [
              "True"
            ]
          },
          "metadata": {},
          "execution_count": 14
        }
      ],
      "source": [
        "5 >= 3"
      ]
    },
    {
      "cell_type": "code",
      "execution_count": 15,
      "metadata": {
        "id": "edlpJUUHkMU0",
        "colab": {
          "base_uri": "https://localhost:8080/"
        },
        "outputId": "5e10b7a7-8840-4258-dc85-1f04687ff6d4"
      },
      "outputs": [
        {
          "output_type": "execute_result",
          "data": {
            "text/plain": [
              "True"
            ]
          },
          "metadata": {},
          "execution_count": 15
        }
      ],
      "source": [
        "3 >= 3"
      ]
    },
    {
      "cell_type": "markdown",
      "metadata": {
        "id": "niNJhu4gkMU1"
      },
      "source": [
        "### less than"
      ]
    },
    {
      "cell_type": "code",
      "execution_count": 16,
      "metadata": {
        "id": "MOcgfR51kMU1",
        "colab": {
          "base_uri": "https://localhost:8080/"
        },
        "outputId": "c636e6dd-0432-42d6-a93b-056ab84b1113"
      },
      "outputs": [
        {
          "output_type": "execute_result",
          "data": {
            "text/plain": [
              "True"
            ]
          },
          "metadata": {},
          "execution_count": 16
        }
      ],
      "source": [
        "3 < 5"
      ]
    },
    {
      "cell_type": "markdown",
      "metadata": {
        "id": "q3GN8NYikMU1"
      },
      "source": [
        "### less than or equal to"
      ]
    },
    {
      "cell_type": "code",
      "execution_count": 17,
      "metadata": {
        "id": "fg7JN575kMU1",
        "colab": {
          "base_uri": "https://localhost:8080/"
        },
        "outputId": "edcfdf7e-1ef9-47dd-bae1-05af78508db8"
      },
      "outputs": [
        {
          "output_type": "execute_result",
          "data": {
            "text/plain": [
              "True"
            ]
          },
          "metadata": {},
          "execution_count": 17
        }
      ],
      "source": [
        "3 <= 5"
      ]
    },
    {
      "cell_type": "code",
      "execution_count": 18,
      "metadata": {
        "id": "BKW5MhJmkMU1",
        "colab": {
          "base_uri": "https://localhost:8080/"
        },
        "outputId": "14748056-2a71-4735-b50f-9436864dfa56"
      },
      "outputs": [
        {
          "output_type": "execute_result",
          "data": {
            "text/plain": [
              "True"
            ]
          },
          "metadata": {},
          "execution_count": 18
        }
      ],
      "source": [
        "3 <= 3"
      ]
    },
    {
      "cell_type": "markdown",
      "metadata": {
        "id": "JUznhy_UkMU1"
      },
      "source": [
        "Checking if an item is **in** a list\n",
        "---\n",
        "You can check if an item is in a list using the **in** keyword."
      ]
    },
    {
      "cell_type": "code",
      "execution_count": 19,
      "metadata": {
        "id": "-phKfjfekMU1",
        "colab": {
          "base_uri": "https://localhost:8080/"
        },
        "outputId": "e6277ad0-efc3-4fc1-9ab6-484c8f1c4ca9"
      },
      "outputs": [
        {
          "output_type": "execute_result",
          "data": {
            "text/plain": [
              "True"
            ]
          },
          "metadata": {},
          "execution_count": 19
        }
      ],
      "source": [
        "vowels = ['a', 'e', 'i', 'o', 'u']\n",
        "'a' in vowels"
      ]
    },
    {
      "cell_type": "code",
      "execution_count": 20,
      "metadata": {
        "id": "jUj-ow2NkMU2",
        "colab": {
          "base_uri": "https://localhost:8080/"
        },
        "outputId": "4981434a-0cf5-4603-9399-5d0d1403903e"
      },
      "outputs": [
        {
          "output_type": "execute_result",
          "data": {
            "text/plain": [
              "False"
            ]
          },
          "metadata": {},
          "execution_count": 20
        }
      ],
      "source": [
        "vowels = ['a', 'e', 'i', 'o', 'u']\n",
        "'b' in vowels"
      ]
    },
    {
      "cell_type": "markdown",
      "source": [
        "**Boolean Expressions** \n",
        "\n",
        "As you learn more about programming, you’ll hear the term Boolean\n",
        "expression at some point. A Boolean expression is just another name for a\n",
        "conditional test. A Boolean value is either True or False, just like the value\n",
        "of a conditional expression after it has been evaluated."
      ],
      "metadata": {
        "id": "DNTR4eKeorze"
      }
    },
    {
      "cell_type": "markdown",
      "source": [
        "## DIY 2: Conditional Tests\n",
        "\n",
        "Write a series of conditional tests. Print a statement\n",
        "describing each test and your prediction for the results of each test.\n",
        "\n",
        "- write 2 tests that evaluate to `True`\n",
        "- write 2 tests that evaluate to `False`\n",
        "\n",
        "Your code\n",
        "should look something like this:"
      ],
      "metadata": {
        "id": "w6OcBfXko4ds"
      }
    },
    {
      "cell_type": "code",
      "source": [
        "car = 'subaru'\n",
        "print(\"Is car == 'subaru'? I predict True.\")\n",
        "print(car == 'subaru')\n",
        "\n",
        "\n",
        "print(\"\\nIs car == 'audi'? I predict False.\")\n",
        "print(car == 'audi')"
      ],
      "metadata": {
        "colab": {
          "base_uri": "https://localhost:8080/"
        },
        "id": "YnBcQiMzo_GH",
        "outputId": "e6c29abe-7703-4f7b-aa84-7809f904aef5"
      },
      "execution_count": 22,
      "outputs": [
        {
          "output_type": "stream",
          "name": "stdout",
          "text": [
            "Is car == 'subaru'? I predict True.\n",
            "True\n",
            "\n",
            "Is car == 'audi'? I predict False.\n",
            "False\n"
          ]
        }
      ]
    },
    {
      "cell_type": "code",
      "source": [
        "# your code here"
      ],
      "metadata": {
        "id": "DJWF4w-Do3_e"
      },
      "execution_count": null,
      "outputs": []
    },
    {
      "cell_type": "markdown",
      "metadata": {
        "id": "KgkHcFerkMU2"
      },
      "source": [
        "The if-elif...else chain\n",
        "===\n",
        "You can test whatever series of conditions you want to, and you can test your conditions in any combination you want."
      ]
    },
    {
      "cell_type": "markdown",
      "metadata": {
        "id": "o8nvY_fDkMU2"
      },
      "source": [
        "Simple if statements\n",
        "---\n",
        "The simplest test has a single **if** statement, and a single statement to execute if the condition is **True**."
      ]
    },
    {
      "cell_type": "code",
      "execution_count": 23,
      "metadata": {
        "id": "pC5vxy4OkMU2",
        "colab": {
          "base_uri": "https://localhost:8080/"
        },
        "outputId": "d4185d13-691f-40da-eda1-12c4ad7a90b3"
      },
      "outputs": [
        {
          "output_type": "stream",
          "name": "stdout",
          "text": [
            "Wow, we have a lot of dogs here!\n"
          ]
        }
      ],
      "source": [
        "dogs = ['willie', 'hootz', 'peso', 'juno']\n",
        "\n",
        "if len(dogs) > 3:\n",
        "    print(\"Wow, we have a lot of dogs here!\")"
      ]
    },
    {
      "cell_type": "markdown",
      "metadata": {
        "id": "1OsYuASekMU3"
      },
      "source": [
        "In this situation, nothing happens if the test does not pass."
      ]
    },
    {
      "cell_type": "code",
      "execution_count": 44,
      "metadata": {
        "id": "lavtsSOckMU3"
      },
      "outputs": [],
      "source": [
        "dogs = ['willie', 'hootz']\n",
        "\n",
        "if len(dogs) > 3:\n",
        "    print(\"Wow, we have a lot of dogs here!\")"
      ]
    },
    {
      "cell_type": "markdown",
      "metadata": {
        "id": "aLpPvp_nkMU3"
      },
      "source": [
        "Notice that there are no errors. The condition `len(dogs) > 3` evaluates to False, and the program moves on to any lines after the **if** block."
      ]
    },
    {
      "cell_type": "markdown",
      "metadata": {
        "id": "oFxkyj1PkMU3"
      },
      "source": [
        "if-else statements\n",
        "---\n",
        "Many times you will want to respond in two possible ways to a test. If the test evaluates to **True**, you will want to do one thing. If the test evaluates to **False**, you will want to do something else. The **if-else** structure lets you do that easily. Here's what it looks like:"
      ]
    },
    {
      "cell_type": "code",
      "execution_count": 45,
      "metadata": {
        "id": "XV2y0BlgkMU4",
        "colab": {
          "base_uri": "https://localhost:8080/"
        },
        "outputId": "277e4b07-4f4a-4b97-e053-3685e52b90f7"
      },
      "outputs": [
        {
          "output_type": "stream",
          "name": "stdout",
          "text": [
            "Wow, we have a lot of dogs here!\n"
          ]
        }
      ],
      "source": [
        "dogs = ['willie', 'hootz', 'peso', 'juno']\n",
        "\n",
        "if len(dogs) > 3:\n",
        "    print(\"Wow, we have a lot of dogs here!\")\n",
        "else:\n",
        "    print(\"Okay, this is a reasonable number of dogs.\")"
      ]
    },
    {
      "cell_type": "markdown",
      "metadata": {
        "id": "ZXFzcwjtkMU4"
      },
      "source": [
        "Our results have not changed in this case, because if the test evaluates to **True** only the statements under the **if** statement are executed. The statements under **else** area only executed if the test fails:"
      ]
    },
    {
      "cell_type": "code",
      "execution_count": 46,
      "metadata": {
        "id": "SuREF1RrkMU4",
        "colab": {
          "base_uri": "https://localhost:8080/"
        },
        "outputId": "217ad2d9-05a5-425f-f171-68a3e487d2ff"
      },
      "outputs": [
        {
          "output_type": "stream",
          "name": "stdout",
          "text": [
            "Okay, this is a reasonable number of dogs.\n"
          ]
        }
      ],
      "source": [
        "dogs = ['willie', 'hootz']\n",
        "\n",
        "if len(dogs) > 3:\n",
        "    print(\"Wow, we have a lot of dogs here!\")\n",
        "else:\n",
        "    print(\"Okay, this is a reasonable number of dogs.\")"
      ]
    },
    {
      "cell_type": "markdown",
      "metadata": {
        "id": "V8MFcU1SkMU5"
      },
      "source": [
        "The test evaluated to **False**, so only the statement under `else` is run."
      ]
    },
    {
      "cell_type": "markdown",
      "metadata": {
        "id": "_aubz2jMkMU5"
      },
      "source": [
        "if-elif...else chains\n",
        "---\n",
        "Many times, you will want to test a series of conditions, rather than just an either-or situation. You can do this with a series of if-elif-else statements\n",
        "\n",
        "There is no limit to how many conditions you can test. You always need one if statement to start the chain, and you can never have more than one else statement. But you can have as many elif statements as you want."
      ]
    },
    {
      "cell_type": "code",
      "execution_count": 47,
      "metadata": {
        "id": "1kgC0owikMU5",
        "colab": {
          "base_uri": "https://localhost:8080/"
        },
        "outputId": "1dd8ad5f-5d05-4f14-e1a3-8dca924e83c1"
      },
      "outputs": [
        {
          "output_type": "stream",
          "name": "stdout",
          "text": [
            "Holy mackerel, we might as well start a dog hostel!\n"
          ]
        }
      ],
      "source": [
        "dogs = ['willie', 'hootz', 'peso', 'monty', 'juno', 'turkey']\n",
        "\n",
        "if len(dogs) >= 5:\n",
        "    print(\"Holy mackerel, we might as well start a dog hostel!\")\n",
        "elif len(dogs) >= 3:\n",
        "    print(\"Wow, we have a lot of dogs here!\")\n",
        "else:\n",
        "    print(\"Okay, this is a reasonable number of dogs.\")"
      ]
    },
    {
      "cell_type": "markdown",
      "metadata": {
        "id": "FgcRK-0rkMU5"
      },
      "source": [
        "It is important to note that in situations like this, only the first test is evaluated. In an if-elif-else chain, once a test passes the rest of the conditions are ignored."
      ]
    },
    {
      "cell_type": "code",
      "execution_count": 48,
      "metadata": {
        "id": "wNko-AcjkMU5",
        "colab": {
          "base_uri": "https://localhost:8080/"
        },
        "outputId": "ecf52340-ffe9-417d-d0f4-6ca581010487"
      },
      "outputs": [
        {
          "output_type": "stream",
          "name": "stdout",
          "text": [
            "Wow, we have a lot of dogs here!\n"
          ]
        }
      ],
      "source": [
        "dogs = ['willie', 'hootz', 'peso', 'monty']\n",
        "\n",
        "if len(dogs) >= 5:\n",
        "    print(\"Holy mackerel, we might as well start a dog hostel!\")\n",
        "elif len(dogs) >= 3:\n",
        "    print(\"Wow, we have a lot of dogs here!\")\n",
        "else:\n",
        "    print(\"Okay, this is a reasonable number of dogs.\")"
      ]
    },
    {
      "cell_type": "markdown",
      "metadata": {
        "id": "hO0ZlhXgkMU5"
      },
      "source": [
        "The first test failed, so Python evaluated the second test. That test passed, so the statement corresponding to `len(dogs) >= 3` is executed."
      ]
    },
    {
      "cell_type": "code",
      "execution_count": 49,
      "metadata": {
        "id": "-U5emYcCkMU6",
        "colab": {
          "base_uri": "https://localhost:8080/"
        },
        "outputId": "7e0617d9-0326-4fb2-f24e-dbdb466c1db7"
      },
      "outputs": [
        {
          "output_type": "stream",
          "name": "stdout",
          "text": [
            "Okay, this is a reasonable number of dogs.\n"
          ]
        }
      ],
      "source": [
        "\n",
        "dogs = ['willie', 'hootz']\n",
        "\n",
        "if len(dogs) >= 5:\n",
        "    print(\"Holy mackerel, we might as well start a dog hostel!\")\n",
        "elif len(dogs) >= 3:\n",
        "    print(\"Wow, we have a lot of dogs here!\")\n",
        "else:\n",
        "    print(\"Okay, this is a reasonable number of dogs.\")"
      ]
    },
    {
      "cell_type": "markdown",
      "metadata": {
        "id": "IGi_7SWEkMU6"
      },
      "source": [
        "In this situation, the first two tests fail, so the statement in the else clause is executed. Note that this statement would be executed even if there are no dogs at all:"
      ]
    },
    {
      "cell_type": "code",
      "execution_count": 50,
      "metadata": {
        "id": "dpopqO0_kMU6",
        "colab": {
          "base_uri": "https://localhost:8080/"
        },
        "outputId": "11344b18-01f9-4ea0-e0e7-29fc108c66c7"
      },
      "outputs": [
        {
          "output_type": "stream",
          "name": "stdout",
          "text": [
            "Okay, this is a reasonable number of dogs.\n"
          ]
        }
      ],
      "source": [
        "\n",
        "dogs = []\n",
        "\n",
        "if len(dogs) >= 5:\n",
        "    print(\"Holy mackerel, we might as well start a dog hostel!\")\n",
        "elif len(dogs) >= 3:\n",
        "    print(\"Wow, we have a lot of dogs here!\")\n",
        "else:\n",
        "    print(\"Okay, this is a reasonable number of dogs.\")"
      ]
    },
    {
      "cell_type": "markdown",
      "metadata": {
        "id": "j9O7RRxkkMU6"
      },
      "source": [
        "Note that you don't have to take any action at all when you start a series of if statements. You could simply do nothing in the situation that there are no dogs by replacing the `else` clause with another `elif` clause:"
      ]
    },
    {
      "cell_type": "code",
      "execution_count": 51,
      "metadata": {
        "id": "fi52KdDqkMU6"
      },
      "outputs": [],
      "source": [
        "\n",
        "dogs = []\n",
        "\n",
        "if len(dogs) >= 5:\n",
        "    print(\"Holy mackerel, we might as well start a dog hostel!\")\n",
        "elif len(dogs) >= 3:\n",
        "    print(\"Wow, we have a lot of dogs here!\")\n",
        "elif len(dogs) >= 1:\n",
        "    print(\"Okay, this is a reasonable number of dogs.\")"
      ]
    },
    {
      "cell_type": "markdown",
      "metadata": {
        "id": "bjVE7DNDkMU6"
      },
      "source": [
        "In this case, we only print a message if there is at least one dog present. Of course, you could add a new `else` clause to respond to the situation in which there are no dogs at all:"
      ]
    },
    {
      "cell_type": "code",
      "execution_count": 52,
      "metadata": {
        "id": "_ZAEdZ1OkMU6",
        "colab": {
          "base_uri": "https://localhost:8080/"
        },
        "outputId": "7f0e0a48-bd1f-4b25-be02-cc90e9d8bb12"
      },
      "outputs": [
        {
          "output_type": "stream",
          "name": "stdout",
          "text": [
            "I wish we had a dog here.\n"
          ]
        }
      ],
      "source": [
        "\n",
        "dogs = []\n",
        "\n",
        "if len(dogs) >= 5:\n",
        "    print(\"Holy mackerel, we might as well start a dog hostel!\")\n",
        "elif len(dogs) >= 3:\n",
        "    print(\"Wow, we have a lot of dogs here!\")\n",
        "elif len(dogs) >= 1:\n",
        "    print(\"Okay, this is a reasonable number of dogs.\")\n",
        "else:\n",
        "    print(\"I wish we had a dog here.\")"
      ]
    },
    {
      "cell_type": "markdown",
      "metadata": {
        "id": "MVw_c_yekMU7"
      },
      "source": [
        "As you can see, the if-elif-else chain lets you respond in very specific ways to any given situation."
      ]
    },
    {
      "cell_type": "markdown",
      "metadata": {
        "id": "xg6WmKRckMU7"
      },
      "source": [
        "More than one passing test\n",
        "===\n",
        "In all of the examples we have seen so far, only one test can pass. As soon as the first test passes, the rest of the tests are ignored. This is really good, because it allows our code to run more efficiently. Many times only one condition can be true, so testing every condition after one passes would be meaningless.\n",
        "\n",
        "There are situations in which you want to run a series of tests, where every single test runs. These are situations where any or all of the tests could pass, and you want to respond to each passing test. Consider the following example, where we want to greet each dog that is present:"
      ]
    },
    {
      "cell_type": "code",
      "execution_count": 33,
      "metadata": {
        "id": "2OQuhWkxkMU7",
        "colab": {
          "base_uri": "https://localhost:8080/"
        },
        "outputId": "5fc2d535-a468-4747-91f9-e7d02919fffd"
      },
      "outputs": [
        {
          "output_type": "stream",
          "name": "stdout",
          "text": [
            "Hello, Willie!\n",
            "Hello, Hootz!\n"
          ]
        }
      ],
      "source": [
        "dogs = ['willie', 'hootz']\n",
        "\n",
        "if 'willie' in dogs:\n",
        "    print(\"Hello, Willie!\")\n",
        "if 'hootz' in dogs:\n",
        "    print(\"Hello, Hootz!\")\n",
        "if 'peso' in dogs:\n",
        "    print(\"Hello, Peso!\")\n",
        "if 'monty' in dogs:\n",
        "    print(\"Hello, Monty!\")"
      ]
    },
    {
      "cell_type": "markdown",
      "metadata": {
        "id": "0LIrFMZekMU7"
      },
      "source": [
        "If we had done this using an if-elif-else chain, only the first dog that is present would be greeted:"
      ]
    },
    {
      "cell_type": "code",
      "execution_count": 53,
      "metadata": {
        "id": "UIB8iFnrkMU7",
        "colab": {
          "base_uri": "https://localhost:8080/"
        },
        "outputId": "35441d77-ec71-4537-bd93-1a6425a7207d"
      },
      "outputs": [
        {
          "output_type": "stream",
          "name": "stdout",
          "text": [
            "Hello, Willie!\n"
          ]
        }
      ],
      "source": [
        "\n",
        "dogs = ['willie', 'hootz']\n",
        "\n",
        "if 'willie' in dogs:\n",
        "    print(\"Hello, Willie!\")\n",
        "elif 'hootz' in dogs:\n",
        "    print(\"Hello, Hootz!\")\n",
        "elif 'peso' in dogs:\n",
        "    print(\"Hello, Peso!\")\n",
        "elif 'monty' in dogs:\n",
        "    print(\"Hello, Monty!\")"
      ]
    },
    {
      "cell_type": "markdown",
      "metadata": {
        "id": "B-tdtwtwkMU7"
      },
      "source": [
        "Of course, this could be written much more cleanly using lists and for loops. See if you can follow this code."
      ]
    },
    {
      "cell_type": "code",
      "execution_count": 54,
      "metadata": {
        "id": "KEKTzd9ykMU8",
        "colab": {
          "base_uri": "https://localhost:8080/"
        },
        "outputId": "54a32ffe-f8ef-479c-86f7-13af1547cf37"
      },
      "outputs": [
        {
          "output_type": "stream",
          "name": "stdout",
          "text": [
            "Hello, Willie!\n",
            "Hello, Hootz!\n"
          ]
        }
      ],
      "source": [
        "dogs_we_know = ['willie', 'hootz', 'peso', 'monty', 'juno', 'turkey']\n",
        "dogs_present = ['willie', 'hootz']\n",
        "\n",
        "# Go through all the dogs that are present, and greet the dogs we know.\n",
        "for dog in dogs_present:\n",
        "    if dog in dogs_we_know:\n",
        "        print(\"Hello, %s!\" % dog.title())"
      ]
    },
    {
      "cell_type": "code",
      "source": [
        "dogs_we_know = ['willie', 'hootz', 'peso', 'monty', 'juno', 'turkey']\n",
        "dogs_present = ['willie', 'turkey', 'mocha']\n",
        "\n",
        "# Go through all the dogs that are present, and greet the dogs we know.\n",
        "for dog in dogs_present:\n",
        "    if dog in dogs_we_know:\n",
        "        print(\"Hello, %s!\" % dog.title())"
      ],
      "metadata": {
        "colab": {
          "base_uri": "https://localhost:8080/"
        },
        "id": "2-mzI3mDqzb3",
        "outputId": "7eac5b20-ab56-44c1-d3df-7503dbd9c35e"
      },
      "execution_count": 57,
      "outputs": [
        {
          "output_type": "stream",
          "name": "stdout",
          "text": [
            "Hello, Willie!\n",
            "Hello, Turkey!\n"
          ]
        }
      ]
    },
    {
      "cell_type": "markdown",
      "metadata": {
        "id": "VAVMZMdbkMU8"
      },
      "source": [
        "This is the kind of code you should be aiming to write. It is fine to come up with code that is less efficient at first. When you notice yourself writing the same kind of code repeatedly in one program, look to see if you can use a loop or a function to make your code more efficient."
      ]
    },
    {
      "cell_type": "markdown",
      "metadata": {
        "id": "3QyuyeWakMU8"
      },
      "source": [
        "True and False values\n",
        "===\n",
        "Every value can be evaluated as True or False. The general rule is that any non-zero or non-empty value will evaluate to True. If you are ever unsure, you can open a Python terminal and write two lines to find out if the value you are considering is True or False. Take a look at the following examples, keep them in mind, and test any value you are curious about. I am using a slightly longer test just to make sure something gets printed each time."
      ]
    },
    {
      "cell_type": "code",
      "execution_count": 58,
      "metadata": {
        "id": "mqRivjQMkMU8",
        "colab": {
          "base_uri": "https://localhost:8080/"
        },
        "outputId": "580c22b2-b137-444c-de38-b4065c2f3401"
      },
      "outputs": [
        {
          "output_type": "stream",
          "name": "stdout",
          "text": [
            "This evaluates to False.\n"
          ]
        }
      ],
      "source": [
        "\n",
        "if 0:\n",
        "    print(\"This evaluates to True.\")\n",
        "else:\n",
        "    print(\"This evaluates to False.\")"
      ]
    },
    {
      "cell_type": "code",
      "execution_count": 59,
      "metadata": {
        "id": "khfzLBBSkMU8",
        "colab": {
          "base_uri": "https://localhost:8080/"
        },
        "outputId": "adc9097c-5ad3-4c46-ea8b-ce400c52a31b"
      },
      "outputs": [
        {
          "output_type": "stream",
          "name": "stdout",
          "text": [
            "This evaluates to True.\n"
          ]
        }
      ],
      "source": [
        "\n",
        "if 1:\n",
        "    print(\"This evaluates to True.\")\n",
        "else:\n",
        "    print(\"This evaluates to False.\")"
      ]
    },
    {
      "cell_type": "code",
      "execution_count": 60,
      "metadata": {
        "id": "LDrAnD-1kMU8",
        "colab": {
          "base_uri": "https://localhost:8080/"
        },
        "outputId": "ab909fde-920e-4add-9955-220b3aacacc5"
      },
      "outputs": [
        {
          "output_type": "stream",
          "name": "stdout",
          "text": [
            "This evaluates to True.\n"
          ]
        }
      ],
      "source": [
        "\n",
        "# Arbitrary non-zero numbers evaluate to True.\n",
        "if 1253756:\n",
        "    print(\"This evaluates to True.\")\n",
        "else:\n",
        "    print(\"This evaluates to False.\")"
      ]
    },
    {
      "cell_type": "code",
      "execution_count": 61,
      "metadata": {
        "id": "00LfH-iRkMU9",
        "colab": {
          "base_uri": "https://localhost:8080/"
        },
        "outputId": "b2945deb-e480-4149-c2fe-45174b71ef20"
      },
      "outputs": [
        {
          "output_type": "stream",
          "name": "stdout",
          "text": [
            "This evaluates to True.\n"
          ]
        }
      ],
      "source": [
        "\n",
        "# Negative numbers are not zero, so they evaluate to True.\n",
        "if -1:\n",
        "    print(\"This evaluates to True.\")\n",
        "else:\n",
        "    print(\"This evaluates to False.\")"
      ]
    },
    {
      "cell_type": "code",
      "execution_count": 62,
      "metadata": {
        "id": "Lw9MKwfukMU9",
        "colab": {
          "base_uri": "https://localhost:8080/"
        },
        "outputId": "15d3fe1b-4cec-4d40-e579-059ee33c1f05"
      },
      "outputs": [
        {
          "output_type": "stream",
          "name": "stdout",
          "text": [
            "This evaluates to False.\n"
          ]
        }
      ],
      "source": [
        "\n",
        "# An empty string evaluates to False.\n",
        "if '':\n",
        "    print(\"This evaluates to True.\")\n",
        "else:\n",
        "    print(\"This evaluates to False.\")"
      ]
    },
    {
      "cell_type": "code",
      "execution_count": 63,
      "metadata": {
        "id": "m2LlHiSGkMU9",
        "colab": {
          "base_uri": "https://localhost:8080/"
        },
        "outputId": "97c8f40a-1535-4455-ada5-e3c449ce5ed4"
      },
      "outputs": [
        {
          "output_type": "stream",
          "name": "stdout",
          "text": [
            "This evaluates to True.\n"
          ]
        }
      ],
      "source": [
        "\n",
        "# Any other string, including a space, evaluates to True.\n",
        "if ' ':\n",
        "    print(\"This evaluates to True.\")\n",
        "else:\n",
        "    print(\"This evaluates to False.\")"
      ]
    },
    {
      "cell_type": "code",
      "execution_count": 64,
      "metadata": {
        "id": "tOkwJ1NLkMU9",
        "colab": {
          "base_uri": "https://localhost:8080/"
        },
        "outputId": "103d87db-b785-4cd3-fa9b-0641d5a33fc1"
      },
      "outputs": [
        {
          "output_type": "stream",
          "name": "stdout",
          "text": [
            "This evaluates to True.\n"
          ]
        }
      ],
      "source": [
        "\n",
        "# Any other string, including a space, evaluates to True.\n",
        "if 'hello':\n",
        "    print(\"This evaluates to True.\")\n",
        "else:\n",
        "    print(\"This evaluates to False.\")"
      ]
    },
    {
      "cell_type": "code",
      "execution_count": 65,
      "metadata": {
        "id": "P_Zt0Du7kMU9",
        "colab": {
          "base_uri": "https://localhost:8080/"
        },
        "outputId": "8d48b525-8e40-40bb-b0cc-b418e40f9693"
      },
      "outputs": [
        {
          "output_type": "stream",
          "name": "stdout",
          "text": [
            "This evaluates to False.\n"
          ]
        }
      ],
      "source": [
        "\n",
        "# None is a special object in Python. It evaluates to False.\n",
        "if None:\n",
        "    print(\"This evaluates to True.\")\n",
        "else:\n",
        "    print(\"This evaluates to False.\")"
      ]
    },
    {
      "cell_type": "markdown",
      "source": [
        "## DIY 3: Favorite Fruit\n",
        "\n",
        "Make a list of your favorite fruits, and then write a series of\n",
        "independent if statements that check for certain fruits in your list.\n",
        "\n",
        "1. Make a list of your three favorite fruits and call it favorite_fruits.\n",
        "2. Write 2 if statements. Each should check whether a certain kind of fruit\n",
        "is in your list. If the fruit is in your list, the if block should print a statement,\n",
        "such as `You really like bananas!`"
      ],
      "metadata": {
        "id": "Zl5XUBaJrdpd"
      }
    },
    {
      "cell_type": "code",
      "execution_count": 43,
      "metadata": {
        "id": "cVs7yJFlkMU9"
      },
      "outputs": [],
      "source": [
        ""
      ]
    }
  ],
  "metadata": {
    "kernelspec": {
      "display_name": "Python 3",
      "language": "python",
      "name": "python3"
    },
    "language_info": {
      "codemirror_mode": {
        "name": "ipython",
        "version": 3
      },
      "file_extension": ".py",
      "mimetype": "text/x-python",
      "name": "python",
      "nbconvert_exporter": "python",
      "pygments_lexer": "ipython3",
      "version": "3.8.3"
    },
    "colab": {
      "name": "python_3.ipynb",
      "provenance": [],
      "collapsed_sections": [],
      "toc_visible": true,
      "include_colab_link": true
    }
  },
  "nbformat": 4,
  "nbformat_minor": 0
}