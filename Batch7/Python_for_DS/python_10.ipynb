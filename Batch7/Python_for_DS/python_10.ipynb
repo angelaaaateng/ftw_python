{
  "cells": [
    {
      "cell_type": "markdown",
      "metadata": {
        "id": "view-in-github",
        "colab_type": "text"
      },
      "source": [
        "<a href=\"https://colab.research.google.com/github/angelaaaateng/ftw_python/blob/main/python_10.ipynb\" target=\"_parent\"><img src=\"https://colab.research.google.com/assets/colab-badge.svg\" alt=\"Open In Colab\"/></a>"
      ]
    },
    {
      "cell_type": "markdown",
      "metadata": {
        "id": "ZVbVbGYBAFRh"
      },
      "source": [
        "Basic Terminal Apps\n",
        "===\n",
        "By this point, you have learned enough Python to start building interactive apps. \n",
        "\n",
        "Terminal apps are a great way to build the core functionality of a program you are interested in, which can then be extended into a more accessible format."
      ]
    },
    {
      "cell_type": "markdown",
      "metadata": {
        "id": "NUU8zHZPAFRi"
      },
      "source": [
        "Contents\n",
        "===\n",
        "- [What are terminal apps?](#What-are-terminal-apps?)\n",
        "    - [Why write terminal apps?](#Why-write-terminal-apps?)\n",
        "- [Greeter - A simple terminal app](#Greeter-A-simple-terminal-app)\n",
        "- [Clearing the screen](#Clearing-the-screen)\n",
        "- [A Persistent Title Bar](#A-Persistent-Title-Bar)\n",
        "    - [The `sleep()` function](#The-sleep%28%29-function)\n",
        "    - [A slowly disappearing title bar](#A-slowly-disappearing-title-bar)\n",
        "    - [Reducing repeated code](#Reducing-repeated-code)\n",
        "- [Building Greeter](#Building-greeter)\n",
        "    - [Basic Pickling](#Basic-Pickling)\n",
        "    - [Pickling in Greeter](#Pickling-in-Greeter)"
      ]
    },
    {
      "cell_type": "markdown",
      "metadata": {
        "id": "hGkfNwbKAFRj"
      },
      "source": [
        "What are terminal apps?\n",
        "===\n",
        "A terminal application is simply an application that runs inside the terminal. By now, you have seen that most of the output from your programs is printed to the terminal. By learning a few more techniques such as clearing the terminal screen and \"pickling\" data, you can create full-fledged standalone applications that run in the terminal.\n",
        "\n",
        "A terminal app starts just like any other program, but it finishes when the user selects an action that causes the program to quit. In terminal applications, this often means something like entering 'q' or 'quit'.\n",
        "\n",
        "If you are on a linux system, you can run some terminal apps right now. Many of these are not written in Python, but that doesn't matter. They are applications that run in the terminal, and you can write your own apps in Python.  "
      ]
    },
    {
      "cell_type": "markdown",
      "metadata": {
        "id": "QIrSgSIFAFRj"
      },
      "source": [
        "Why write terminal apps?\n",
        "---\n",
        "Unless you see people working in technical fields on a regular basis, it's quite possible you have not seen many people using terminal applications. Even so, there are a number of reasons to consider writing a few terminal apps of your own.\n",
        "\n",
        "- **They can be much more fun and satisfying to write than simpler programs.**\n",
        "    - Applications, by their nature, solve interesting problems. When you write an application, you are creating an environment in which people work and play. That's pretty satisfying.\n",
        "- **Terminal apps let you play with complex code, without layers of abstraction between you and the user.**\n",
        "    - When you write more complex graphical applications, there are layers of abstraction between you and the user. To get input in a terminal, you issue the command `input(\"Please tell me some information: \")`. When you want some information in a graphical program, you have to build text boxes and buttons for submitting information. That has gotten pretty simple these days, but it is still more complicated than what you will do when writing terminal applications. Terminal applications let you focus on getting the logic right, rather than building a graphical interface.\n",
        "- **You will learn about user interaction issues.**\n",
        "    - Terminal apps do have users, even if that is just you, and maybe your friends or family. If you see people using your applications at an early stage, you will write better code. There is nothing like watching people use your programs to make you code more defensively. You know to enter a string in some places, but what keeps your users from entering numbers? Influencing your users to give you the right information the first time, and being prepared to deal with the wrong kind of data are good skills as a programmer. Having real users at an early stage in your programming career is a good thing."
      ]
    },
    {
      "cell_type": "markdown",
      "metadata": {
        "id": "7IT6X8RAAFRk"
      },
      "source": [
        "Greeter - A simple terminal app\n",
        "===\n",
        "Let's define a simple terminal app that we can make in this notebook. Greeter will:\n",
        "\n",
        "- Always display a title bar at the top of the screen, showing the name of the app that is running.\n",
        "- Offer you three choices:\n",
        "    - Enter a name.\n",
        "        - If the program knows that name, it will print a message saying something like \"Hello, old friend.\"\n",
        "        - If the program does not know that name, it will print a message saying something like, \"It's nice to meet you. I will remember you.\"\n",
        "            - The next time the program hears this name, it will greet the person as an old friend.\n",
        "    - See a list of everyone that is known.\n",
        "    - Quit.\n",
        "- The program will remember people, even after it closes.\n",
        "- The program may list the number of known people in the title bar.\n",
        "\n",
        "Now we will go over a few things we need to know in order to build this app, and then we will build it."
      ]
    },
    {
      "cell_type": "markdown",
      "metadata": {
        "id": "-xHdoiOvAFRl"
      },
      "source": [
        "Clearing the screen\n",
        "===\n",
        "You may have noticed that your programs which produce a lot of output scroll down the terminal. This keeps your program from looking like a running application. It's fairly easy to clear the terminal screen any time you want to, though.\n",
        "\n",
        "Let's make a really simple program to show this:"
      ]
    },
    {
      "cell_type": "code",
      "execution_count": 1,
      "metadata": {
        "id": "vTytRi8gAFRl",
        "colab": {
          "base_uri": "https://localhost:8080/"
        },
        "outputId": "a21a526e-e6b3-4b39-c4c2-01852b9d008f"
      },
      "outputs": [
        {
          "output_type": "stream",
          "name": "stdout",
          "text": [
            "I like climbing mountains.\n"
          ]
        }
      ],
      "source": [
        "# Show a simple message.\n",
        "print(\"I like climbing mountains.\")"
      ]
    },
    {
      "cell_type": "markdown",
      "metadata": {
        "id": "zhEV6u3DAFRm"
      },
      "source": [
        "Now we will modify the program so that the screen is cleared right after the message is displayed:"
      ]
    },
    {
      "cell_type": "code",
      "execution_count": 2,
      "metadata": {
        "id": "B0bkmUenAFRn",
        "colab": {
          "base_uri": "https://localhost:8080/"
        },
        "outputId": "278e24b6-cd04-4c25-e37d-2f2f3c353a76"
      },
      "outputs": [
        {
          "output_type": "stream",
          "name": "stdout",
          "text": [
            "I like climbing mountains.\n"
          ]
        },
        {
          "output_type": "execute_result",
          "data": {
            "text/plain": [
              "0"
            ]
          },
          "metadata": {},
          "execution_count": 2
        }
      ],
      "source": [
        "\n",
        "import os\n",
        "\n",
        "# Show a simple message.\n",
        "print(\"I like climbing mountains.\")\n",
        "\n",
        "# Clear the screen.\n",
        "os.system('clear') "
      ]
    },
    {
      "cell_type": "markdown",
      "metadata": {
        "id": "CSK0MkLJAFRn"
      },
      "source": [
        "There is no output to show here, because as soon as the message is displayed the screen is cleared. Run the program on your computer to see this.\n",
        "\n",
        "The first line *imports* the **module** \"os\". This is a set of functions that let you interact with your operating system's commands. The line `os.system('clear')` tells Python to talk to the operating system, and ask the system to run the `clear` command. You can see this same thing by typing `clear` in any open terminal window.\n",
        "\n",
        "On a technical note, the screen is not actually erased when you enter the `clear` command. Instead, the terminal is scrolled down one vertical window length. If you scroll the terminal window up, you can see the old output. This is fine, and it can actually be good to be able to scroll back up and look at some output you might have missed.\n",
        "\n",
        "**On Windows:** The command to clear the terminal screen is different on Windows. The command `os.system('cls')` should work."
      ]
    },
    {
      "cell_type": "markdown",
      "metadata": {
        "id": "0WLiiGpqAFRo"
      },
      "source": [
        "A Persistent Title Bar\n",
        "===\n",
        "Let's consider how to make a title bar that stays at the top of the screen. We can't make this yet, because as our program creates more and more output, any title bar we print will disappear up the top of the screen.\n",
        "\n",
        "Now that we know how to clear the screen, we can rebuild the screen that our user sees any time we want. Let's start out by printing a title bar for Greeter. If you want to follow along, type out the following code and save it as `greeter.py`:"
      ]
    },
    {
      "cell_type": "code",
      "execution_count": 3,
      "metadata": {
        "id": "WAlTi7CiAFRo",
        "colab": {
          "base_uri": "https://localhost:8080/"
        },
        "outputId": "97375f20-f294-4688-83a8-3f9bfb9563b9"
      },
      "outputs": [
        {
          "output_type": "stream",
          "name": "stdout",
          "text": [
            "\t**********************************************\n",
            "\t***  Greeter - Hello old and new friends!  ***\n",
            "\t**********************************************\n"
          ]
        }
      ],
      "source": [
        "# Greeter is a terminal application that greets old friends warmly,\n",
        "#   and remembers new friends.\n",
        "\n",
        "# Display a title bar.\n",
        "print(\"\\t**********************************************\")\n",
        "print(\"\\t***  Greeter - Hello old and new friends!  ***\")\n",
        "print(\"\\t**********************************************\")"
      ]
    },
    {
      "cell_type": "markdown",
      "metadata": {
        "id": "_xWj5Um7AFRo"
      },
      "source": [
        "Everything is fine so far. Let's look at what happens when we have a bunch of output below the title bar. Copy the following code onto your machine and run it."
      ]
    },
    {
      "cell_type": "code",
      "execution_count": 4,
      "metadata": {
        "id": "3RwNOazhAFRp",
        "colab": {
          "base_uri": "https://localhost:8080/"
        },
        "outputId": "13dc0478-0ff3-4155-b46e-488be543f322"
      },
      "outputs": [
        {
          "output_type": "stream",
          "name": "stdout",
          "text": [
            "\t**********************************************\n",
            "\t***  Greeter - Hello old and new friends!  ***\n",
            "\t**********************************************\n",
            "\n",
            "We have done 0 fun and interesting things together!\n",
            "\n",
            "We have done 1 fun and interesting things together!\n",
            "\n",
            "We have done 2 fun and interesting things together!\n",
            "\n",
            "We have done 3 fun and interesting things together!\n",
            "\n",
            "We have done 4 fun and interesting things together!\n",
            "\n",
            "We have done 5 fun and interesting things together!\n",
            "\n",
            "We have done 6 fun and interesting things together!\n",
            "\n",
            "We have done 7 fun and interesting things together!\n",
            "\n",
            "We have done 8 fun and interesting things together!\n",
            "\n",
            "We have done 9 fun and interesting things together!\n",
            "\n",
            "We have done 10 fun and interesting things together!\n",
            "\n",
            "We have done 11 fun and interesting things together!\n",
            "\n",
            "We have done 12 fun and interesting things together!\n",
            "\n",
            "We have done 13 fun and interesting things together!\n",
            "\n",
            "We have done 14 fun and interesting things together!\n",
            "\n",
            "We have done 15 fun and interesting things together!\n",
            "\n",
            "We have done 16 fun and interesting things together!\n",
            "\n",
            "We have done 17 fun and interesting things together!\n",
            "\n",
            "We have done 18 fun and interesting things together!\n",
            "\n",
            "We have done 19 fun and interesting things together!\n",
            "\n",
            "We have done 20 fun and interesting things together!\n",
            "\n",
            "We have done 21 fun and interesting things together!\n",
            "\n",
            "We have done 22 fun and interesting things together!\n",
            "\n",
            "We have done 23 fun and interesting things together!\n",
            "\n",
            "We have done 24 fun and interesting things together!\n",
            "\n",
            "We have done 25 fun and interesting things together!\n",
            "\n",
            "We have done 26 fun and interesting things together!\n",
            "\n",
            "We have done 27 fun and interesting things together!\n",
            "\n",
            "We have done 28 fun and interesting things together!\n",
            "\n",
            "We have done 29 fun and interesting things together!\n",
            "\n",
            "We have done 30 fun and interesting things together!\n",
            "\n",
            "We have done 31 fun and interesting things together!\n",
            "\n",
            "We have done 32 fun and interesting things together!\n",
            "\n",
            "We have done 33 fun and interesting things together!\n",
            "\n",
            "We have done 34 fun and interesting things together!\n",
            "\n",
            "We have done 35 fun and interesting things together!\n",
            "\n",
            "We have done 36 fun and interesting things together!\n",
            "\n",
            "We have done 37 fun and interesting things together!\n",
            "\n",
            "We have done 38 fun and interesting things together!\n",
            "\n",
            "We have done 39 fun and interesting things together!\n",
            "\n",
            "We have done 40 fun and interesting things together!\n",
            "\n",
            "We have done 41 fun and interesting things together!\n",
            "\n",
            "We have done 42 fun and interesting things together!\n",
            "\n",
            "We have done 43 fun and interesting things together!\n",
            "\n",
            "We have done 44 fun and interesting things together!\n",
            "\n",
            "We have done 45 fun and interesting things together!\n",
            "\n",
            "We have done 46 fun and interesting things together!\n",
            "\n",
            "We have done 47 fun and interesting things together!\n",
            "\n",
            "We have done 48 fun and interesting things together!\n",
            "\n",
            "We have done 49 fun and interesting things together!\n",
            "\n",
            "We have done 50 fun and interesting things together!\n"
          ]
        }
      ],
      "source": [
        "\n",
        "# Greeter is a terminal application that greets old friends warmly,\n",
        "#   and remembers new friends.\n",
        "\n",
        "# Display a title bar.\n",
        "print(\"\\t**********************************************\")\n",
        "print(\"\\t***  Greeter - Hello old and new friends!  ***\")\n",
        "print(\"\\t**********************************************\")\n",
        "\n",
        "# Display a bunch of output, representing a long-running program.\n",
        "for x in range(0,51):\n",
        "    print(\"\\nWe have done %d fun and interesting things together!\" % x)"
      ]
    },
    {
      "cell_type": "markdown",
      "metadata": {
        "id": "uNvMQFbtAFRp"
      },
      "source": [
        "I won't include the output here. All you should see are a number of lines about doing fun and interesting things together, with the title bar far up your terminal window, well above the visible portion. "
      ]
    },
    {
      "cell_type": "markdown",
      "metadata": {
        "id": "IOph1SGeAFRp"
      },
      "source": [
        "The `sleep()` function\n",
        "---\n",
        "Sometimes it is helpful to be able to pause a program for a moment. This can slow things down, and it can let us show output in intervals. Run this code on your own machine, and see if you can understand how it works:"
      ]
    },
    {
      "cell_type": "code",
      "execution_count": 5,
      "metadata": {
        "id": "4IuZjYORAFRp",
        "colab": {
          "base_uri": "https://localhost:8080/"
        },
        "outputId": "55de71a7-b3e7-4166-8517-97728dfc2f64"
      },
      "outputs": [
        {
          "output_type": "stream",
          "name": "stdout",
          "text": [
            "I'm going to sleep now.\n",
            "I woke up!\n"
          ]
        }
      ],
      "source": [
        "# Import the sleep function.\n",
        "from time import sleep\n",
        "\n",
        "print(\"I'm going to sleep now.\")\n",
        "\n",
        "# Sleep for 3 seconds.\n",
        "sleep(3)\n",
        "\n",
        "print(\"I woke up!\")"
      ]
    },
    {
      "cell_type": "markdown",
      "metadata": {
        "id": "2OInQa34AFRq"
      },
      "source": [
        "If you ran this code, you should have seen the message \"I'm going to sleep now.\" Then you should have seen nothing happen for 3 seconds, and then you should have seen the message \"I woke up.\"\n",
        "\n",
        "The first line imports the *sleep()* function from the **module** *time*. You will be seeing more and more *import* statements. Basically, we are importing a function from Python's standard library of functions.\n",
        "\n",
        "The sleep function can accept decimal inputs as well, so you can pause for as short or as long in your programs as you want."
      ]
    },
    {
      "cell_type": "markdown",
      "metadata": {
        "id": "2fWH9czWAFRq"
      },
      "source": [
        "A slowly disappearing title bar\n",
        "---\n",
        "This time we are going to print out the title bar, but then we are going to print enough output that we start to lose the title bar. Run this code on your own machine to see the full effect:"
      ]
    },
    {
      "cell_type": "code",
      "execution_count": 7,
      "metadata": {
        "id": "aOCnZw7QAFRq",
        "colab": {
          "base_uri": "https://localhost:8080/"
        },
        "outputId": "ccb94d89-d1b3-4ffa-e625-49885de7aeb9"
      },
      "outputs": [
        {
          "output_type": "stream",
          "name": "stdout",
          "text": [
            "\t**********************************************\n",
            "\t***  Greeter - Hello old and new friends!  ***\n",
            "\t**********************************************\n",
            "\n",
            "\n",
            "\n",
            "Aaron\n",
            "Aaron\n",
            "Aaron\n",
            "Aaron\n",
            "Aaron\n",
            "\n",
            "\n",
            "\n",
            "Brenda\n",
            "Brenda\n",
            "Brenda\n",
            "Brenda\n",
            "Brenda\n",
            "\n",
            "\n",
            "\n",
            "Cyrene\n",
            "Cyrene\n",
            "Cyrene\n",
            "Cyrene\n",
            "Cyrene\n",
            "\n",
            "\n",
            "\n",
            "David\n",
            "David\n",
            "David\n",
            "David\n",
            "David\n",
            "\n",
            "\n",
            "\n",
            "Eric\n",
            "Eric\n",
            "Eric\n",
            "Eric\n",
            "Eric\n"
          ]
        }
      ],
      "source": [
        "\n",
        "from time import sleep\n",
        "\n",
        "# Greeter is a terminal application that greets old friends warmly,\n",
        "#   and remembers new friends.\n",
        "\n",
        "# Display a title bar.\n",
        "print(\"\\t**********************************************\")\n",
        "print(\"\\t***  Greeter - Hello old and new friends!  ***\")\n",
        "print(\"\\t**********************************************\")\n",
        "\n",
        "# Print a bunch of information, in short intervals\n",
        "names = ['aaron', 'brenda', 'cyrene', 'david', 'eric']\n",
        "\n",
        "# Print each name 5 times.\n",
        "for name in names:\n",
        "    # Pause for 1 second between batches, and then skip two lines.\n",
        "    sleep(1)\n",
        "    print(\"\\n\\n\")\n",
        "    \n",
        "    for x in range(0,5):\n",
        "        print(name.title())"
      ]
    },
    {
      "cell_type": "markdown",
      "metadata": {
        "id": "ucZZngZYAFRq"
      },
      "source": [
        "You should have seen the title bar appear, and then groups of names appear every second for a while. At some point, the title bar probably disappeared. Now we are going to modify the code so that the screen is cleared each time through the loop."
      ]
    },
    {
      "cell_type": "code",
      "execution_count": 8,
      "metadata": {
        "id": "wb9ZecuGAFRq",
        "colab": {
          "base_uri": "https://localhost:8080/"
        },
        "outputId": "006b3d83-e5db-41d0-da89-ec75a0eccbbe"
      },
      "outputs": [
        {
          "output_type": "stream",
          "name": "stdout",
          "text": [
            "\t**********************************************\n",
            "\t***  Greeter - Hello old and new friends!  ***\n",
            "\t**********************************************\n",
            "\t**********************************************\n",
            "\t***  Greeter - Hello old and new friends!  ***\n",
            "\t**********************************************\n",
            "\n",
            "\n",
            "\n",
            "Aaron\n",
            "Aaron\n",
            "Aaron\n",
            "Aaron\n",
            "Aaron\n",
            "\t**********************************************\n",
            "\t***  Greeter - Hello old and new friends!  ***\n",
            "\t**********************************************\n",
            "\n",
            "\n",
            "\n",
            "Brenda\n",
            "Brenda\n",
            "Brenda\n",
            "Brenda\n",
            "Brenda\n",
            "\t**********************************************\n",
            "\t***  Greeter - Hello old and new friends!  ***\n",
            "\t**********************************************\n",
            "\n",
            "\n",
            "\n",
            "Cyrene\n",
            "Cyrene\n",
            "Cyrene\n",
            "Cyrene\n",
            "Cyrene\n",
            "\t**********************************************\n",
            "\t***  Greeter - Hello old and new friends!  ***\n",
            "\t**********************************************\n",
            "\n",
            "\n",
            "\n",
            "David\n",
            "David\n",
            "David\n",
            "David\n",
            "David\n",
            "\t**********************************************\n",
            "\t***  Greeter - Hello old and new friends!  ***\n",
            "\t**********************************************\n",
            "\n",
            "\n",
            "\n",
            "Eric\n",
            "Eric\n",
            "Eric\n",
            "Eric\n",
            "Eric\n"
          ]
        }
      ],
      "source": [
        "\n",
        "from time import sleep\n",
        "import os\n",
        "\n",
        "# Greeter is a terminal application that greets old friends warmly,\n",
        "#   and remembers new friends.\n",
        "\n",
        "# Display a title bar.\n",
        "print(\"\\t**********************************************\")\n",
        "print(\"\\t***  Greeter - Hello old and new friends!  ***\")\n",
        "print(\"\\t**********************************************\")\n",
        "\n",
        "# Print a bunch of information, in short intervals\n",
        "names = ['aaron', 'brenda', 'cyrene', 'david', 'eric']\n",
        "\n",
        "# Print each name 5 times.\n",
        "for name in names:\n",
        "    # Clear the screen before listing names.\n",
        "    os.system('clear')\n",
        "    \n",
        "    # Display the title bar.\n",
        "    print(\"\\t**********************************************\")\n",
        "    print(\"\\t***  Greeter - Hello old and new friends!  ***\")\n",
        "    print(\"\\t**********************************************\")\n",
        "\n",
        "    print(\"\\n\\n\")\n",
        "    for x in range(0,5):\n",
        "        print(name.title())\n",
        "    \n",
        "    # Pause for 1 second between batches.\n",
        "    sleep(1)"
      ]
    },
    {
      "cell_type": "markdown",
      "metadata": {
        "id": "qJOL5hTZAFRr"
      },
      "source": [
        "This time you should see the same output, but you should see a steady title bar, and the new information takes the place of the old information instead of being listed below the old output. We have a \"running\" application!"
      ]
    },
    {
      "cell_type": "markdown",
      "metadata": {
        "id": "bvHLOGhSAFRr"
      },
      "source": [
        "Reducing repeated code\n",
        "---\n",
        "If you understood the section [Introducing Functions](04_introducing_functions.ipynb), you may have noticed that we have some repeated code in the last program listing. Any time you see a significant amount of repetition, you can probably introduce a function.\n",
        "\n",
        "The repeated code in this example involves displaying the title bar. Let's write a function to show the title bar."
      ]
    },
    {
      "cell_type": "code",
      "execution_count": 9,
      "metadata": {
        "id": "3QNHd-gaAFRr",
        "colab": {
          "base_uri": "https://localhost:8080/"
        },
        "outputId": "70a7f9d2-32a7-45c3-df14-82d28e5da69c"
      },
      "outputs": [
        {
          "output_type": "stream",
          "name": "stdout",
          "text": [
            "\t**********************************************\n",
            "\t***  Greeter - Hello old and new friends!  ***\n",
            "\t**********************************************\n",
            "\n",
            "\n",
            "\n",
            "Aaron\n",
            "Aaron\n",
            "Aaron\n",
            "Aaron\n",
            "Aaron\n",
            "\t**********************************************\n",
            "\t***  Greeter - Hello old and new friends!  ***\n",
            "\t**********************************************\n",
            "\n",
            "\n",
            "\n",
            "Brenda\n",
            "Brenda\n",
            "Brenda\n",
            "Brenda\n",
            "Brenda\n",
            "\t**********************************************\n",
            "\t***  Greeter - Hello old and new friends!  ***\n",
            "\t**********************************************\n",
            "\n",
            "\n",
            "\n",
            "Cyrene\n",
            "Cyrene\n",
            "Cyrene\n",
            "Cyrene\n",
            "Cyrene\n",
            "\t**********************************************\n",
            "\t***  Greeter - Hello old and new friends!  ***\n",
            "\t**********************************************\n",
            "\n",
            "\n",
            "\n",
            "David\n",
            "David\n",
            "David\n",
            "David\n",
            "David\n",
            "\t**********************************************\n",
            "\t***  Greeter - Hello old and new friends!  ***\n",
            "\t**********************************************\n",
            "\n",
            "\n",
            "\n",
            "Eric\n",
            "Eric\n",
            "Eric\n",
            "Eric\n",
            "Eric\n"
          ]
        }
      ],
      "source": [
        "\n",
        "from time import sleep\n",
        "import os\n",
        "\n",
        "# Greeter is a terminal application that greets old friends warmly,\n",
        "#   and remembers new friends.\n",
        "\n",
        "def display_title_bar():\n",
        "    # Clears the terminal screen, and displays a title bar.\n",
        "    os.system('clear')\n",
        "              \n",
        "    print(\"\\t**********************************************\")\n",
        "    print(\"\\t***  Greeter - Hello old and new friends!  ***\")\n",
        "    print(\"\\t**********************************************\")\n",
        "    \n",
        "\n",
        "# Print a bunch of information, in short intervals\n",
        "names = ['aaron', 'brenda', 'cyrene', 'david', 'eric']\n",
        "\n",
        "# Print each name 5 times.\n",
        "for name in names:\n",
        "    display_title_bar()\n",
        "\n",
        "    print(\"\\n\\n\")\n",
        "    for x in range(0,5):\n",
        "        print(name.title())\n",
        "    \n",
        "    # Pause for 1 second between batches.\n",
        "    sleep(1)"
      ]
    },
    {
      "cell_type": "markdown",
      "metadata": {
        "id": "HmgKjMeAAFRr"
      },
      "source": [
        "Again, you really need to copy this code onto your own machine and run it locally to see this in action. You should see the same behavior as before.\n",
        "\n",
        "It's interesting to note that having good comments makes writing functions easier. The comment just before the code for displaying the title bar was \"Display the title bar.\" This practically gives us a name for the function that will take over this job: `display_title_bar`. If we use short, descriptive function names that tell us exactly what the function does, it becomes much easier to follow what is happening in the program. We can see that we don't even need a comment when the function is called, because the function name itself is so informative. The name `display_title_bar` is much better than something like `title`, although you don't want to go overboard with a name such as `clear_screen_and_display_title_bar`.\n",
        "\n",
        "This code gets a bit hard to read overall though, because we have several sections of code. You can use comments to visually break up your programs. Here's what that can look like in our current program:"
      ]
    },
    {
      "cell_type": "code",
      "execution_count": 10,
      "metadata": {
        "id": "8C2eptt1AFRr",
        "colab": {
          "base_uri": "https://localhost:8080/"
        },
        "outputId": "63546120-92b5-498b-a565-4ed74a801df3"
      },
      "outputs": [
        {
          "output_type": "stream",
          "name": "stdout",
          "text": [
            "\t**********************************************\n",
            "\t***  Greeter - Hello old and new friends!  ***\n",
            "\t**********************************************\n",
            "\n",
            "\n",
            "\n",
            "Aaron\n",
            "Aaron\n",
            "Aaron\n",
            "Aaron\n",
            "Aaron\n",
            "\t**********************************************\n",
            "\t***  Greeter - Hello old and new friends!  ***\n",
            "\t**********************************************\n",
            "\n",
            "\n",
            "\n",
            "Brenda\n",
            "Brenda\n",
            "Brenda\n",
            "Brenda\n",
            "Brenda\n",
            "\t**********************************************\n",
            "\t***  Greeter - Hello old and new friends!  ***\n",
            "\t**********************************************\n",
            "\n",
            "\n",
            "\n",
            "Cyrene\n",
            "Cyrene\n",
            "Cyrene\n",
            "Cyrene\n",
            "Cyrene\n",
            "\t**********************************************\n",
            "\t***  Greeter - Hello old and new friends!  ***\n",
            "\t**********************************************\n",
            "\n",
            "\n",
            "\n",
            "David\n",
            "David\n",
            "David\n",
            "David\n",
            "David\n",
            "\t**********************************************\n",
            "\t***  Greeter - Hello old and new friends!  ***\n",
            "\t**********************************************\n",
            "\n",
            "\n",
            "\n",
            "Eric\n",
            "Eric\n",
            "Eric\n",
            "Eric\n",
            "Eric\n"
          ]
        }
      ],
      "source": [
        "\n",
        "from time import sleep\n",
        "import os\n",
        "\n",
        "# Greeter is a terminal application that greets old friends warmly,\n",
        "#   and remembers new friends.\n",
        "\n",
        "\n",
        "### FUNCTIONS ###\n",
        "\n",
        "def display_title_bar():\n",
        "    # Clears the terminal screen, and displays a title bar.\n",
        "    os.system('clear')\n",
        "              \n",
        "    print(\"\\t**********************************************\")\n",
        "    print(\"\\t***  Greeter - Hello old and new friends!  ***\")\n",
        "    print(\"\\t**********************************************\")\n",
        "    \n",
        "\n",
        "### MAIN PROGRAM ###    \n",
        "\n",
        "# Print a bunch of information, in short intervals\n",
        "names = ['aaron', 'brenda', 'cyrene', 'david', 'eric']\n",
        "\n",
        "# Print each name 5 times.\n",
        "for name in names:\n",
        "    display_title_bar()\n",
        "\n",
        "    print(\"\\n\\n\")\n",
        "    for x in range(0,5):\n",
        "        print(name.title())\n",
        "    \n",
        "    # Pause for 1 second between batches.\n",
        "    sleep(1)"
      ]
    },
    {
      "cell_type": "markdown",
      "metadata": {
        "id": "XlyeNQmwAFRs"
      },
      "source": [
        "If this is more appealing visually to you, feel free to use these kind of \"section header\" comments in your longer programs."
      ]
    },
    {
      "cell_type": "markdown",
      "metadata": {
        "id": "l6kx6mkzAFRs"
      },
      "source": [
        "Building Greeter\n",
        "===\n",
        "Let's continue building Greeter. There are a couple more things we will introduce, but you should be able to follow everything we do.\n",
        "\n",
        "We will start with the previous part where we have a persistent title bar, but we will remove the sleep functions. We will begin by offering users the choice to see a list of names, or enter a new name."
      ]
    },
    {
      "cell_type": "code",
      "execution_count": 11,
      "metadata": {
        "id": "EIBK1YllAFRs",
        "colab": {
          "base_uri": "https://localhost:8080/"
        },
        "outputId": "eb678190-e86b-44fd-f6e0-0ae7b3704344"
      },
      "outputs": [
        {
          "output_type": "stream",
          "name": "stdout",
          "text": [
            "\t**********************************************\n",
            "\t***  Greeter - Hello old and new friends!  ***\n",
            "\t**********************************************\n",
            "\n",
            "[1] See a list of friends.\n",
            "[2] Tell me about someone new.\n",
            "[q] Quit.\n",
            "What would you like to do? 1\n",
            "\n",
            "Here are the people I know.\n",
            "\n",
            "\t**********************************************\n",
            "\t***  Greeter - Hello old and new friends!  ***\n",
            "\t**********************************************\n",
            "\n",
            "[1] See a list of friends.\n",
            "[2] Tell me about someone new.\n",
            "[q] Quit.\n",
            "What would you like to do? 2\n",
            "\n",
            "I can't wait to meet this person!\n",
            "\n",
            "\t**********************************************\n",
            "\t***  Greeter - Hello old and new friends!  ***\n",
            "\t**********************************************\n",
            "\n",
            "[1] See a list of friends.\n",
            "[2] Tell me about someone new.\n",
            "[q] Quit.\n",
            "What would you like to do? 1\n",
            "\n",
            "Here are the people I know.\n",
            "\n",
            "\t**********************************************\n",
            "\t***  Greeter - Hello old and new friends!  ***\n",
            "\t**********************************************\n",
            "\n",
            "[1] See a list of friends.\n",
            "[2] Tell me about someone new.\n",
            "[q] Quit.\n",
            "What would you like to do? 2\n",
            "\n",
            "I can't wait to meet this person!\n",
            "\n",
            "\t**********************************************\n",
            "\t***  Greeter - Hello old and new friends!  ***\n",
            "\t**********************************************\n",
            "\n",
            "[1] See a list of friends.\n",
            "[2] Tell me about someone new.\n",
            "[q] Quit.\n",
            "What would you like to do? q\n",
            "\n",
            "Thanks for playing. Bye.\n"
          ]
        }
      ],
      "source": [
        "\n",
        "import os\n",
        "\n",
        "# Greeter is a terminal application that greets old friends warmly,\n",
        "#   and remembers new friends.\n",
        "\n",
        "\n",
        "### FUNCTIONS ###\n",
        "\n",
        "def display_title_bar():\n",
        "    # Clears the terminal screen, and displays a title bar.\n",
        "    os.system('clear')\n",
        "              \n",
        "    print(\"\\t**********************************************\")\n",
        "    print(\"\\t***  Greeter - Hello old and new friends!  ***\")\n",
        "    print(\"\\t**********************************************\")\n",
        "    \n",
        "\n",
        "### MAIN PROGRAM ###\n",
        "\n",
        "# Set up a loop where users can choose what they'd like to do.\n",
        "choice = ''\n",
        "while choice != 'q':    \n",
        "    display_title_bar()\n",
        "    \n",
        "    # Let users know what they can do.\n",
        "    print(\"\\n[1] See a list of friends.\")\n",
        "    print(\"[2] Tell me about someone new.\")\n",
        "    print(\"[q] Quit.\")\n",
        "    \n",
        "    choice = input(\"What would you like to do? \")\n",
        "    \n",
        "    # Respond to the user's choice.\n",
        "    if choice == '1':\n",
        "        print(\"\\nHere are the people I know.\\n\")\n",
        "    elif choice == '2':\n",
        "        print(\"\\nI can't wait to meet this person!\\n\")\n",
        "    elif choice == 'q':\n",
        "        print(\"\\nThanks for playing. Bye.\")\n",
        "    else:\n",
        "        print(\"\\nI didn't understand that choice.\\n\")"
      ]
    },
    {
      "cell_type": "markdown",
      "metadata": {
        "id": "Zpv3g9M2AFRs"
      },
      "source": [
        "If you run this code, you will see that it doesn't quite work. There are no Python errors, but the logic is a little off. We can enter choices, but the call to `display_title_bar()` at the beginning of the loop clears the screen as soon as the output is printed.\n",
        "\n",
        "We can fix this by moving the call to `display_title_bar()`, and putting it in two places. We call `display_title_bar()` once just before we enter the loop, when the program starts running. But we also call it right after the user makes a choice, and before we respond to that choice:"
      ]
    },
    {
      "cell_type": "code",
      "execution_count": null,
      "metadata": {
        "id": "7B6ZZUaJAFRt",
        "colab": {
          "base_uri": "https://localhost:8080/"
        },
        "outputId": "73cb7760-61d3-46a1-cd13-170b8ab5f731"
      },
      "outputs": [
        {
          "output_type": "stream",
          "name": "stdout",
          "text": [
            "\t**********************************************\n",
            "\t***  Greeter - Hello old and new friends!  ***\n",
            "\t**********************************************\n",
            "\n",
            "[1] See a list of friends.\n",
            "[2] Tell me about someone new.\n",
            "[q] Quit.\n",
            "What would you like to do? 1\n",
            "\t**********************************************\n",
            "\t***  Greeter - Hello old and new friends!  ***\n",
            "\t**********************************************\n",
            "\n",
            "Here are the people I know.\n",
            "\n",
            "\n",
            "[1] See a list of friends.\n",
            "[2] Tell me about someone new.\n",
            "[q] Quit.\n",
            "What would you like to do? 2\n",
            "\t**********************************************\n",
            "\t***  Greeter - Hello old and new friends!  ***\n",
            "\t**********************************************\n",
            "\n",
            "I can't wait to meet this person!\n",
            "\n",
            "\n",
            "[1] See a list of friends.\n",
            "[2] Tell me about someone new.\n",
            "[q] Quit.\n",
            "What would you like to do? q\n",
            "\t**********************************************\n",
            "\t***  Greeter - Hello old and new friends!  ***\n",
            "\t**********************************************\n",
            "\n",
            "Thanks for playing. Bye.\n"
          ]
        }
      ],
      "source": [
        "\n",
        "import os\n",
        "\n",
        "# Greeter is a terminal application that greets old friends warmly,\n",
        "#   and remembers new friends.\n",
        "\n",
        "\n",
        "### FUNCTIONS ###\n",
        "\n",
        "def display_title_bar():\n",
        "    # Clears the terminal screen, and displays a title bar.\n",
        "    os.system('clear')\n",
        "              \n",
        "    print(\"\\t**********************************************\")\n",
        "    print(\"\\t***  Greeter - Hello old and new friends!  ***\")\n",
        "    print(\"\\t**********************************************\")\n",
        "    \n",
        "\n",
        "### MAIN PROGRAM ###\n",
        "\n",
        "# Set up a loop where users can choose what they'd like to do.\n",
        "choice = ''\n",
        "display_title_bar()\n",
        "while choice != 'q':    \n",
        "    \n",
        "    # Let users know what they can do.\n",
        "    print(\"\\n[1] See a list of friends.\")\n",
        "    print(\"[2] Tell me about someone new.\")\n",
        "    print(\"[q] Quit.\")\n",
        "    \n",
        "    choice = input(\"What would you like to do? \")\n",
        "    \n",
        "    # Respond to the user's choice.\n",
        "    display_title_bar()\n",
        "    if choice == '1':\n",
        "        print(\"\\nHere are the people I know.\\n\")\n",
        "    elif choice == '2':\n",
        "        print(\"\\nI can't wait to meet this person!\\n\")\n",
        "    elif choice == 'q':\n",
        "        print(\"\\nThanks for playing. Bye.\")\n",
        "    else:\n",
        "        print(\"\\nI didn't understand that choice.\\n\")"
      ]
    },
    {
      "cell_type": "markdown",
      "metadata": {
        "id": "S1qwVhdXAFRt"
      },
      "source": [
        "This works, so let's put the menu into a function:"
      ]
    },
    {
      "cell_type": "code",
      "execution_count": null,
      "metadata": {
        "id": "IPBrDiGjAFRt",
        "colab": {
          "base_uri": "https://localhost:8080/"
        },
        "outputId": "7074752b-670f-4810-eea9-472e4bdacdb8"
      },
      "outputs": [
        {
          "output_type": "stream",
          "name": "stdout",
          "text": [
            "\t**********************************************\n",
            "\t***  Greeter - Hello old and new friends!  ***\n",
            "\t**********************************************\n",
            "\n",
            "[1] See a list of friends.\n",
            "[2] Tell me about someone new.\n",
            "[q] Quit.\n",
            "What would you like to do? 1\n",
            "\t**********************************************\n",
            "\t***  Greeter - Hello old and new friends!  ***\n",
            "\t**********************************************\n",
            "\n",
            "Here are the people I know.\n",
            "\n",
            "\n",
            "[1] See a list of friends.\n",
            "[2] Tell me about someone new.\n",
            "[q] Quit.\n",
            "What would you like to do? 2\n",
            "\t**********************************************\n",
            "\t***  Greeter - Hello old and new friends!  ***\n",
            "\t**********************************************\n",
            "\n",
            "I can't wait to meet this person!\n",
            "\n",
            "\n",
            "[1] See a list of friends.\n",
            "[2] Tell me about someone new.\n",
            "[q] Quit.\n",
            "What would you like to do? q\n",
            "\t**********************************************\n",
            "\t***  Greeter - Hello old and new friends!  ***\n",
            "\t**********************************************\n",
            "\n",
            "Thanks for playing. Bye.\n"
          ]
        }
      ],
      "source": [
        "\n",
        "import os\n",
        "\n",
        "# Greeter is a terminal application that greets old friends warmly,\n",
        "#   and remembers new friends.\n",
        "\n",
        "\n",
        "### FUNCTIONS ###\n",
        "\n",
        "def display_title_bar():\n",
        "    # Clears the terminal screen, and displays a title bar.\n",
        "    os.system('clear')\n",
        "              \n",
        "    print(\"\\t**********************************************\")\n",
        "    print(\"\\t***  Greeter - Hello old and new friends!  ***\")\n",
        "    print(\"\\t**********************************************\")\n",
        "    \n",
        "def get_user_choice():\n",
        "    # Let users know what they can do.\n",
        "    print(\"\\n[1] See a list of friends.\")\n",
        "    print(\"[2] Tell me about someone new.\")\n",
        "    print(\"[q] Quit.\")\n",
        "    \n",
        "    return input(\"What would you like to do? \")\n",
        "    \n",
        "\n",
        "### MAIN PROGRAM ###\n",
        "\n",
        "# Set up a loop where users can choose what they'd like to do.\n",
        "choice = ''\n",
        "display_title_bar()\n",
        "while choice != 'q':    \n",
        "    \n",
        "    choice = get_user_choice()\n",
        "    \n",
        "    # Respond to the user's choice.\n",
        "    display_title_bar()\n",
        "    if choice == '1':\n",
        "        print(\"\\nHere are the people I know.\\n\")\n",
        "    elif choice == '2':\n",
        "        print(\"\\nI can't wait to meet this person!\\n\")\n",
        "    elif choice == 'q':\n",
        "        print(\"\\nThanks for playing. Bye.\")\n",
        "    else:\n",
        "        print(\"\\nI didn't understand that choice.\\n\")\n"
      ]
    },
    {
      "cell_type": "markdown",
      "metadata": {
        "id": "E55mfm8SAFRt"
      },
      "source": [
        "Now, let's make it so that the program actually does something.\n",
        "\n",
        "- We will make an empty list to store names.\n",
        "- We will print names from this list in choice 1.\n",
        "- We will get a new name in choice 2.\n",
        "    - We will store that new name in the list of names."
      ]
    },
    {
      "cell_type": "code",
      "execution_count": null,
      "metadata": {
        "id": "_JnNMiOZAFRt",
        "colab": {
          "base_uri": "https://localhost:8080/"
        },
        "outputId": "d2165ed5-628d-4b9f-f925-a4c93d0b08dc"
      },
      "outputs": [
        {
          "output_type": "stream",
          "name": "stdout",
          "text": [
            "\t**********************************************\n",
            "\t***  Greeter - Hello old and new friends!  ***\n",
            "\t**********************************************\n",
            "\n",
            "[1] See a list of friends.\n",
            "[2] Tell me about someone new.\n",
            "[q] Quit.\n",
            "What would you like to do? 1\n",
            "\t**********************************************\n",
            "\t***  Greeter - Hello old and new friends!  ***\n",
            "\t**********************************************\n",
            "\n",
            "Here are the people I know.\n",
            "\n",
            "\n",
            "[1] See a list of friends.\n",
            "[2] Tell me about someone new.\n",
            "[q] Quit.\n",
            "What would you like to do? 2\n",
            "\t**********************************************\n",
            "\t***  Greeter - Hello old and new friends!  ***\n",
            "\t**********************************************\n",
            "\n",
            "Please tell me this person's name: Vincw\n",
            "\n",
            "I'm so happy to know Vincw!\n",
            "\n",
            "\n",
            "[1] See a list of friends.\n",
            "[2] Tell me about someone new.\n",
            "[q] Quit.\n",
            "What would you like to do? 2\n",
            "\t**********************************************\n",
            "\t***  Greeter - Hello old and new friends!  ***\n",
            "\t**********************************************\n",
            "\n",
            "Please tell me this person's name: Vince\n",
            "\n",
            "I'm so happy to know Vince!\n",
            "\n",
            "\n",
            "[1] See a list of friends.\n",
            "[2] Tell me about someone new.\n",
            "[q] Quit.\n",
            "What would you like to do? 1\n",
            "\t**********************************************\n",
            "\t***  Greeter - Hello old and new friends!  ***\n",
            "\t**********************************************\n",
            "\n",
            "Here are the people I know.\n",
            "\n",
            "Vincw\n",
            "Vince\n",
            "\n",
            "[1] See a list of friends.\n",
            "[2] Tell me about someone new.\n",
            "[q] Quit.\n",
            "What would you like to do? q\n",
            "\t**********************************************\n",
            "\t***  Greeter - Hello old and new friends!  ***\n",
            "\t**********************************************\n",
            "\n",
            "Thanks for playing. Bye.\n"
          ]
        }
      ],
      "source": [
        "\n",
        "import os\n",
        "\n",
        "# Greeter is a terminal application that greets old friends warmly,\n",
        "#   and remembers new friends.\n",
        "\n",
        "\n",
        "### FUNCTIONS ###\n",
        "\n",
        "def display_title_bar():\n",
        "    # Clears the terminal screen, and displays a title bar.\n",
        "    os.system('clear')\n",
        "              \n",
        "    print(\"\\t**********************************************\")\n",
        "    print(\"\\t***  Greeter - Hello old and new friends!  ***\")\n",
        "    print(\"\\t**********************************************\")\n",
        "    \n",
        "def get_user_choice():\n",
        "    # Let users know what they can do.\n",
        "    print(\"\\n[1] See a list of friends.\")\n",
        "    print(\"[2] Tell me about someone new.\")\n",
        "    print(\"[q] Quit.\")\n",
        "    \n",
        "    return input(\"What would you like to do? \")\n",
        "    \n",
        "\n",
        "### MAIN PROGRAM ###\n",
        "\n",
        "# Set up a loop where users can choose what they'd like to do.\n",
        "names = []\n",
        "\n",
        "choice = ''\n",
        "display_title_bar()\n",
        "while choice != 'q':    \n",
        "    \n",
        "    choice = get_user_choice()\n",
        "    \n",
        "    # Respond to the user's choice.\n",
        "    display_title_bar()\n",
        "    if choice == '1':\n",
        "        print(\"\\nHere are the people I know.\\n\")\n",
        "        for name in names:\n",
        "            print(name.title())\n",
        "    elif choice == '2':\n",
        "        new_name = input(\"\\nPlease tell me this person's name: \")\n",
        "        names.append(new_name)\n",
        "        print(\"\\nI'm so happy to know %s!\\n\" % new_name.title())\n",
        "    elif choice == 'q':\n",
        "        print(\"\\nThanks for playing. Bye.\")\n",
        "    else:\n",
        "        print(\"\\nI didn't understand that choice.\\n\")"
      ]
    },
    {
      "cell_type": "markdown",
      "metadata": {
        "id": "OAOu8VpZAFRu"
      },
      "source": [
        "If you run this program, you will see that it works mostly as its supposed to. But the code in lines 37-50, where we are responding to the user's choice, is starting to get crowded. Let's move the code for choice 1 and choice 2 into separate functions:"
      ]
    },
    {
      "cell_type": "code",
      "execution_count": null,
      "metadata": {
        "id": "B95LJnsaAFRu",
        "colab": {
          "base_uri": "https://localhost:8080/"
        },
        "outputId": "2bcc4bdb-84db-4727-ce5e-0a7c5c018166"
      },
      "outputs": [
        {
          "output_type": "stream",
          "name": "stdout",
          "text": [
            "\t**********************************************\n",
            "\t***  Greeter - Hello old and new friends!  ***\n",
            "\t**********************************************\n",
            "\n",
            "[1] See a list of friends.\n",
            "[2] Tell me about someone new.\n",
            "[q] Quit.\n",
            "What would you like to do? q\n",
            "\t**********************************************\n",
            "\t***  Greeter - Hello old and new friends!  ***\n",
            "\t**********************************************\n",
            "\n",
            "Thanks for playing. Bye.\n"
          ]
        }
      ],
      "source": [
        "\n",
        "import os\n",
        "\n",
        "# Greeter is a terminal application that greets old friends warmly,\n",
        "#   and remembers new friends.\n",
        "\n",
        "\n",
        "### FUNCTIONS ###\n",
        "\n",
        "def display_title_bar():\n",
        "    # Clears the terminal screen, and displays a title bar.\n",
        "    os.system('clear')\n",
        "              \n",
        "    print(\"\\t**********************************************\")\n",
        "    print(\"\\t***  Greeter - Hello old and new friends!  ***\")\n",
        "    print(\"\\t**********************************************\")\n",
        "    \n",
        "def get_user_choice():\n",
        "    # Let users know what they can do.\n",
        "    print(\"\\n[1] See a list of friends.\")\n",
        "    print(\"[2] Tell me about someone new.\")\n",
        "    print(\"[q] Quit.\")\n",
        "    \n",
        "    return input(\"What would you like to do? \")\n",
        "    \n",
        "def show_names():\n",
        "    # Shows the names of everyone who is already in the list.\n",
        "    print(\"\\nHere are the people I know.\\n\")\n",
        "    for name in names:\n",
        "        print(name.title())\n",
        "        \n",
        "def get_new_name():\n",
        "    # Asks the user for a new name, and stores the name.\n",
        "    new_name = input(\"\\nPlease tell me this person's name: \")\n",
        "    names.append(new_name)\n",
        "    print(\"\\nI'm so happy to know %s!\\n\" % new_name.title())\n",
        "\n",
        "### MAIN PROGRAM ###\n",
        "\n",
        "# Set up a loop where users can choose what they'd like to do.\n",
        "names = []\n",
        "\n",
        "choice = ''\n",
        "display_title_bar()\n",
        "while choice != 'q':    \n",
        "    \n",
        "    choice = get_user_choice()\n",
        "    \n",
        "    # Respond to the user's choice.\n",
        "    display_title_bar()\n",
        "    if choice == '1':\n",
        "        show_names()\n",
        "    elif choice == '2':\n",
        "        get_new_name()\n",
        "    elif choice == 'q':\n",
        "        print(\"\\nThanks for playing. Bye.\")\n",
        "    else:\n",
        "        print(\"\\nI didn't understand that choice.\\n\")"
      ]
    },
    {
      "cell_type": "markdown",
      "metadata": {
        "id": "F2WttDatAFRu"
      },
      "source": [
        "This code doesn't behave any differently, but the main program itself is much easier to read. Lines 48-57 are a clean series of if-elif-else statements, each of which has a clear action.\n",
        "\n",
        "Putting each action into its own function also lets us focus on improving that action. If you look at the function `get_new_name()`, you might notice that we are storing the name without checking anything about it. Let's put in a simple check to make sure we don't already know about this person."
      ]
    },
    {
      "cell_type": "code",
      "execution_count": 12,
      "metadata": {
        "id": "vwoCCNenAFRu",
        "colab": {
          "base_uri": "https://localhost:8080/"
        },
        "outputId": "2c44eb6a-220c-412d-e742-13edfc091758"
      },
      "outputs": [
        {
          "output_type": "stream",
          "name": "stdout",
          "text": [
            "\t**********************************************\n",
            "\t***  Greeter - Hello old and new friends!  ***\n",
            "\t**********************************************\n",
            "\n",
            "[1] See a list of friends.\n",
            "[2] Tell me about someone new.\n",
            "[q] Quit.\n",
            "What would you like to do? 1\n",
            "\t**********************************************\n",
            "\t***  Greeter - Hello old and new friends!  ***\n",
            "\t**********************************************\n",
            "\n",
            "Here are the people I know.\n",
            "\n",
            "\n",
            "[1] See a list of friends.\n",
            "[2] Tell me about someone new.\n",
            "[q] Quit.\n",
            "What would you like to do? 2\n",
            "\t**********************************************\n",
            "\t***  Greeter - Hello old and new friends!  ***\n",
            "\t**********************************************\n",
            "\n",
            "Please tell me this person's name: Myk\n",
            "\n",
            "I'm so happy to know Myk!\n",
            "\n",
            "\n",
            "[1] See a list of friends.\n",
            "[2] Tell me about someone new.\n",
            "[q] Quit.\n",
            "What would you like to do? 1\n",
            "\t**********************************************\n",
            "\t***  Greeter - Hello old and new friends!  ***\n",
            "\t**********************************************\n",
            "\n",
            "Here are the people I know.\n",
            "\n",
            "Myk\n",
            "\n",
            "[1] See a list of friends.\n",
            "[2] Tell me about someone new.\n",
            "[q] Quit.\n",
            "What would you like to do? 2\n",
            "\t**********************************************\n",
            "\t***  Greeter - Hello old and new friends!  ***\n",
            "\t**********************************************\n",
            "\n",
            "Please tell me this person's name: Jeny\n",
            "\n",
            "I'm so happy to know Jeny!\n",
            "\n",
            "\n",
            "[1] See a list of friends.\n",
            "[2] Tell me about someone new.\n",
            "[q] Quit.\n",
            "What would you like to do? 1\n",
            "\t**********************************************\n",
            "\t***  Greeter - Hello old and new friends!  ***\n",
            "\t**********************************************\n",
            "\n",
            "Here are the people I know.\n",
            "\n",
            "Myk\n",
            "Jeny\n",
            "\n",
            "[1] See a list of friends.\n",
            "[2] Tell me about someone new.\n",
            "[q] Quit.\n",
            "What would you like to do? q\n",
            "\t**********************************************\n",
            "\t***  Greeter - Hello old and new friends!  ***\n",
            "\t**********************************************\n",
            "\n",
            "Thanks for playing. Bye.\n"
          ]
        }
      ],
      "source": [
        "\n",
        "import os\n",
        "\n",
        "# Greeter is a terminal application that greets old friends warmly,\n",
        "#   and remembers new friends.\n",
        "\n",
        "\n",
        "### FUNCTIONS ###\n",
        "\n",
        "def display_title_bar():\n",
        "    # Clears the terminal screen, and displays a title bar.\n",
        "    os.system('clear')\n",
        "              \n",
        "    print(\"\\t**********************************************\")\n",
        "    print(\"\\t***  Greeter - Hello old and new friends!  ***\")\n",
        "    print(\"\\t**********************************************\")\n",
        "    \n",
        "def get_user_choice():\n",
        "    # Let users know what they can do.\n",
        "    print(\"\\n[1] See a list of friends.\")\n",
        "    print(\"[2] Tell me about someone new.\")\n",
        "    print(\"[q] Quit.\")\n",
        "    \n",
        "    return input(\"What would you like to do? \")\n",
        "    \n",
        "def show_names():\n",
        "    # Shows the names of everyone who is already in the list.\n",
        "    print(\"\\nHere are the people I know.\\n\")\n",
        "    for name in names:\n",
        "        print(name.title())\n",
        "        \n",
        "def get_new_name():\n",
        "    # Asks the user for a new name, and stores the name if we don't already\n",
        "    #  know about this person.\n",
        "    new_name = input(\"\\nPlease tell me this person's name: \")\n",
        "    if new_name in names:\n",
        "        print(\"\\n%s is an old friend! Thank you, though.\" % new_name.title())\n",
        "    else:\n",
        "        names.append(new_name)\n",
        "        print(\"\\nI'm so happy to know %s!\\n\" % new_name.title())\n",
        "\n",
        "### MAIN PROGRAM ###\n",
        "\n",
        "# Set up a loop where users can choose what they'd like to do.\n",
        "names = []\n",
        "\n",
        "choice = ''\n",
        "display_title_bar()\n",
        "while choice != 'q':    \n",
        "    \n",
        "    choice = get_user_choice()\n",
        "    \n",
        "    # Respond to the user's choice.\n",
        "    display_title_bar()\n",
        "    if choice == '1':\n",
        "        show_names()\n",
        "    elif choice == '2':\n",
        "        get_new_name()\n",
        "    elif choice == 'q':\n",
        "        print(\"\\nThanks for playing. Bye.\")\n",
        "    else:\n",
        "        print(\"\\nI didn't understand that choice.\\n\")"
      ]
    },
    {
      "cell_type": "markdown",
      "metadata": {
        "id": "Kbl0UTbeAFRu"
      },
      "source": [
        "This works well. Now the program only stores new names, and names that are already in the list are greeted as old friends.\n",
        "\n",
        "It's interesting to note that you can run this program through [python tutor](http://pythontutor.com/visualize.html#mode=edit), and step through each line of the code. It's pretty enlightening to see exactly how the Python interpreter steps through a program like this. You can see all of the jumps from the main program to each of the functions, and the change in flow when the user makes a particular choice. It's informative to see which lines are skipped when certain if tests pass or fail.\n",
        "\n",
        "There is one last thing we'd like Greeter to do, to consider it a basic terminal app. Let's make it remember the list of names after the program closes. To do this, let's learn about *pickling* using a simpler example."
      ]
    },
    {
      "cell_type": "markdown",
      "metadata": {
        "id": "j5sLbflbAFRu"
      },
      "source": [
        "Basic Pickling\n",
        "---\n",
        "\"Pickling\" an object in Python packages it up and stores it on disk in a way that we can get it back in its original form later. You don't want to use `pickle` for imporant data, but it's a good way to get started with storing data after your program closes.\n",
        "\n",
        "Here is a simple program that asks the user for some input, and then stores the input in a list. The program dumps the list to a file using `pickle`, and the next time the program runs it loads that data back in. Run this program on your computer, and see if it works for you."
      ]
    },
    {
      "cell_type": "code",
      "execution_count": 13,
      "metadata": {
        "id": "hCQCCNihAFRv",
        "colab": {
          "base_uri": "https://localhost:8080/"
        },
        "outputId": "06bbb9f2-0b95-4aa6-ce91-fbc9b2d42699"
      },
      "outputs": [
        {
          "output_type": "stream",
          "name": "stdout",
          "text": [
            "\n",
            "Please tell me a new animal to remember.\n",
            "Enter 'quit' to quit: dog\n",
            "\n",
            "Please tell me a new animal to remember.\n",
            "Enter 'quit' to quit: cat\n",
            "\n",
            "Please tell me a new animal to remember.\n",
            "Enter 'quit' to quit: quit\n",
            "\n",
            "I will remember the following animals: \n",
            "dog\n",
            "cat\n"
          ]
        }
      ],
      "source": [
        "import pickle\n",
        "\n",
        "# This program asks the user for some animals, and stores them.\n",
        "\n",
        "# Make an empty list to store new animals in.\n",
        "animals = []\n",
        "\n",
        "# Create a loop that lets users store new animals.\n",
        "new_animal = ''\n",
        "while new_animal != 'quit':\n",
        "    print(\"\\nPlease tell me a new animal to remember.\")\n",
        "    new_animal = input(\"Enter 'quit' to quit: \")\n",
        "    if new_animal != 'quit':\n",
        "        animals.append(new_animal)\n",
        "\n",
        "# Try to save the animals to the file 'animals.pkl'.\n",
        "try:\n",
        "    file_object = open('animals.pkl', 'wb')\n",
        "    pickle.dump(animals, file_object)\n",
        "    file_object.close()\n",
        "    \n",
        "    print(\"\\nI will remember the following animals: \")\n",
        "    for animal in animals:\n",
        "        print(animal)\n",
        "except Exception as e:\n",
        "    print(e)\n",
        "    print(\"\\nI couldn't figure out how to store the animals. Sorry.\")"
      ]
    },
    {
      "cell_type": "markdown",
      "metadata": {
        "id": "gCSGiQiTAFRv"
      },
      "source": [
        "This program uses three new things:\n",
        "\n",
        "- **A `try-except` block.**\n",
        "    - A try-except block is used when you think a section of code might create an error. If an error occurs in a try block, the program does not end. Instead, program execution drops into the except block.\n",
        "    - In this case, we try to open a file to write out a list of animals.\n",
        "    - If the file can not be opened for some reason, for example because the program doesn't have permission to create a new file, then the program drops to the `except` block.\n",
        "        - In this case, we print the actual error message and a friendlier message of our own.\n",
        "- **Opening and closing files.**\n",
        "    - Line 33 tries to open the file 'animals.pkl'.\n",
        "        - Line 33 tells Python to open the file for writing. The 'b' argument tells Python to write the file in bytes.\n",
        "        - If successful, the open file can be used through the *file_object* variable.\n",
        "        - If the file does not yet exist, this line creates the file, in the same directory as the program.\n",
        "    - Line 35 closes the file once we are finished working with it.\n",
        "- **A call to `pickle.dump()`.**\n",
        "    - Line 34 'dumps' the list animals into the file that was opened. (It is not dumped in a format that we can read.)\n",
        "    \n",
        "\n",
        "When you run this program on your computer, look for the file *animals.pkl* in the same directory as the program file. If that worked, we need to modify the program so that the next time it runs it loads the data from *animals.pkl* back in.\n",
        "\n",
        "We do that with a try-except block at the beginning of the program, which tries to open the file and read the data back into the `animals` list. If that doesn't work, which will happen when the program is run for the first time or if you delete *animals.pkl*, we make the same empty list we had before."
      ]
    },
    {
      "cell_type": "code",
      "execution_count": 14,
      "metadata": {
        "id": "zRsvVDCxAFRv",
        "colab": {
          "base_uri": "https://localhost:8080/"
        },
        "outputId": "abfa8e84-5526-437c-cbaa-5d92a39eab2c"
      },
      "outputs": [
        {
          "output_type": "stream",
          "name": "stdout",
          "text": [
            "I know the following animals: \n",
            "dog\n",
            "cat\n",
            "\n",
            "Please tell me a new animal to remember.\n",
            "Enter 'quit' to quit: quit\n",
            "\n",
            "I will remember the following animals: \n",
            "dog\n",
            "cat\n"
          ]
        }
      ],
      "source": [
        "\n",
        "import pickle\n",
        "\n",
        "# This program asks the user for some animals, and stores them.\n",
        "#  It loads animals if they exist.\n",
        "\n",
        "# Try to load animals. If they don't exist, make an empty list\n",
        "#  to store new animals in.\n",
        "try:\n",
        "    file_object = open('animals.pkl', 'rb')\n",
        "    animals = pickle.load(file_object)\n",
        "    file_object.close()\n",
        "except:\n",
        "    animals = []\n",
        "\n",
        "# Show the animals that are stored so far.\n",
        "if len(animals) > 0:\n",
        "    print(\"I know the following animals: \")\n",
        "    for animal in animals:\n",
        "        print(animal)\n",
        "else:\n",
        "    print(\"I don't know any animals yet.\")\n",
        "\n",
        "# Create a loop that lets users store new animals.\n",
        "new_animal = ''\n",
        "while new_animal != 'quit':\n",
        "    print(\"\\nPlease tell me a new animal to remember.\")\n",
        "    new_animal = input(\"Enter 'quit' to quit: \")\n",
        "    if new_animal != 'quit':\n",
        "        animals.append(new_animal)\n",
        "\n",
        "# Try to save the animals to the file 'animals.pkl'.\n",
        "try:\n",
        "    file_object = open('animals.pkl', 'wb')\n",
        "    pickle.dump(animals, file_object)\n",
        "    file_object.close()\n",
        "    \n",
        "    print(\"\\nI will remember the following animals: \")\n",
        "    for animal in animals:\n",
        "        print(animal)\n",
        "except Exception as e:\n",
        "    print(e)\n",
        "    print(\"\\nI couldn't figure out how to store the animals. Sorry.\")"
      ]
    },
    {
      "cell_type": "markdown",
      "metadata": {
        "id": "_RBB3n7yAFRv"
      },
      "source": [
        "The new try-except block at the beginning of the file works like this:\n",
        "    - It tries to open a file to read in a list of animals.\n",
        "    - If the file exists, animals will contain the previously stored list.\n",
        "    - If the file does not exist, line 9 will create an error, which would normally end the program.\n",
        "    - Instead, the program drops to the except block, where an empty list is created.\n",
        "    \n",
        "Now the program should just build a cumulative list of animals every time it is run. This is our first example of **persistent** data, data that lasts even after our program stops running.\n",
        "\n",
        "Now let's use these concepts to finish Greeter."
      ]
    },
    {
      "cell_type": "markdown",
      "metadata": {
        "id": "Bxey9Ed9AFRv"
      },
      "source": [
        "Pickling in Greeter\n",
        "---\n",
        "We really just have a little left to do in order to finish Greeter. We need to dump the list of names before the program ends, and we need to load that list of names when the program starts. Let's do this by creating two new functions:\n",
        "\n",
        "- The function `load_names()` will load the names from a file when the program first starts. This function will be called before the main loop begins.\n",
        "- The function `quit()` will dump the names into a file just before the program ends."
      ]
    },
    {
      "cell_type": "code",
      "execution_count": null,
      "metadata": {
        "id": "a-m3EAYEAFRv",
        "colab": {
          "base_uri": "https://localhost:8080/"
        },
        "outputId": "56059b42-db75-4f45-da61-1011d444b2f1"
      },
      "outputs": [
        {
          "output_type": "stream",
          "name": "stdout",
          "text": [
            "[Errno 2] No such file or directory: 'names.pkl'\n",
            "\t**********************************************\n",
            "\t***  Greeter - Hello old and new friends!  ***\n",
            "\t**********************************************\n",
            "\n",
            "[1] See a list of friends.\n",
            "[2] Tell me about someone new.\n",
            "[q] Quit.\n",
            "What would you like to do? quit\n",
            "\t**********************************************\n",
            "\t***  Greeter - Hello old and new friends!  ***\n",
            "\t**********************************************\n",
            "\n",
            "I didn't understand that choice.\n",
            "\n",
            "\n",
            "[1] See a list of friends.\n",
            "[2] Tell me about someone new.\n",
            "[q] Quit.\n",
            "What would you like to do? 1\n",
            "\t**********************************************\n",
            "\t***  Greeter - Hello old and new friends!  ***\n",
            "\t**********************************************\n",
            "\n",
            "Here are the people I know.\n",
            "\n",
            "\n",
            "[1] See a list of friends.\n",
            "[2] Tell me about someone new.\n",
            "[q] Quit.\n",
            "What would you like to do? q\n",
            "\t**********************************************\n",
            "\t***  Greeter - Hello old and new friends!  ***\n",
            "\t**********************************************\n",
            "\n",
            "Thanks for playing. I will remember these good friends.\n",
            "\n",
            "Thanks for playing. Bye.\n"
          ]
        }
      ],
      "source": [
        "\n",
        "import os\n",
        "import pickle\n",
        "\n",
        "# Greeter is a terminal application that greets old friends warmly,\n",
        "#   and remembers new friends.\n",
        "\n",
        "\n",
        "### FUNCTIONS ###\n",
        "\n",
        "def display_title_bar():\n",
        "    # Clears the terminal screen, and displays a title bar.\n",
        "    os.system('clear')\n",
        "              \n",
        "    print(\"\\t**********************************************\")\n",
        "    print(\"\\t***  Greeter - Hello old and new friends!  ***\")\n",
        "    print(\"\\t**********************************************\")\n",
        "    \n",
        "def get_user_choice():\n",
        "    # Let users know what they can do.\n",
        "    print(\"\\n[1] See a list of friends.\")\n",
        "    print(\"[2] Tell me about someone new.\")\n",
        "    print(\"[q] Quit.\")\n",
        "    \n",
        "    return input(\"What would you like to do? \")\n",
        "    \n",
        "def show_names():\n",
        "    # Shows the names of everyone who is already in the list.\n",
        "    print(\"\\nHere are the people I know.\\n\")\n",
        "    for name in names:\n",
        "        print(name.title())\n",
        "        \n",
        "def get_new_name():\n",
        "    # Asks the user for a new name, and stores the name if we don't already\n",
        "    #  know about this person.\n",
        "    new_name = input(\"\\nPlease tell me this person's name: \")\n",
        "    if new_name in names:\n",
        "        print(\"\\n%s is an old friend! Thank you, though.\" % new_name.title())\n",
        "    else:\n",
        "        names.append(new_name)\n",
        "        print(\"\\nI'm so happy to know %s!\\n\" % new_name.title())\n",
        "        \n",
        "def load_names():\n",
        "    # This function loads names from a file, and puts them in the list 'names'.\n",
        "    #  If the file doesn't exist, it creates an empty list.\n",
        "    try:\n",
        "        file_object = open('names.pkl', 'rb')\n",
        "        names = pickle.load(file_object)\n",
        "        file_object.close()\n",
        "        return names\n",
        "    except Exception as e:\n",
        "        print(e)\n",
        "        return []\n",
        "        \n",
        "def quit():\n",
        "    # This function dumps the names into a file, and prints a quit message.\n",
        "    try:\n",
        "        file_object = open('names.pkl', 'wb')\n",
        "        pickle.dump(names, file_object)\n",
        "        file_object.close()\n",
        "        print(\"\\nThanks for playing. I will remember these good friends.\")\n",
        "    except Exception as e:\n",
        "        print(\"\\nThanks for playing. I won't be able to remember these names.\")\n",
        "        print(e)\n",
        "        \n",
        "### MAIN PROGRAM ###\n",
        "\n",
        "# Set up a loop where users can choose what they'd like to do.\n",
        "names = load_names()\n",
        "\n",
        "choice = ''\n",
        "display_title_bar()\n",
        "while choice != 'q':    \n",
        "    \n",
        "    choice = get_user_choice()\n",
        "    \n",
        "    # Respond to the user's choice.\n",
        "    display_title_bar()\n",
        "    if choice == '1':\n",
        "        show_names()\n",
        "    elif choice == '2':\n",
        "        get_new_name()\n",
        "    elif choice == 'q':\n",
        "        quit()\n",
        "        print(\"\\nThanks for playing. Bye.\")\n",
        "    else:\n",
        "        print(\"\\nI didn't understand that choice.\\n\")"
      ]
    },
    {
      "cell_type": "markdown",
      "metadata": {
        "id": "jDq5WBWWAFRw"
      },
      "source": [
        "We now have a long-running, standalone terminal application. It doesn't do a whole lot, but it shows the basic structure for creating terminal apps of your own. If you expand the list of choices and keep your code organized into clean, simple functions, you now know enough to make some pretty interesting programs."
      ]
    },
    {
      "cell_type": "code",
      "execution_count": null,
      "metadata": {
        "id": "rdP6qNu9AFRw"
      },
      "outputs": [],
      "source": [
        ""
      ]
    }
  ],
  "metadata": {
    "kernelspec": {
      "display_name": "Python 3",
      "language": "python",
      "name": "python3"
    },
    "language_info": {
      "codemirror_mode": {
        "name": "ipython",
        "version": 3
      },
      "file_extension": ".py",
      "mimetype": "text/x-python",
      "name": "python",
      "nbconvert_exporter": "python",
      "pygments_lexer": "ipython3",
      "version": "3.8.3"
    },
    "colab": {
      "name": "python_10.ipynb",
      "provenance": [],
      "collapsed_sections": [],
      "toc_visible": true,
      "include_colab_link": true
    }
  },
  "nbformat": 4,
  "nbformat_minor": 0
}