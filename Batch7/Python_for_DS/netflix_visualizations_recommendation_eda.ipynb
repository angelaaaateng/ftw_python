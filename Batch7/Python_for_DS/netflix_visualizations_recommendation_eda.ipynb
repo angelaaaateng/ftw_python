{
  "cells": [
    {
      "cell_type": "markdown",
      "metadata": {
        "id": "view-in-github",
        "colab_type": "text"
      },
      "source": [
        "<a href=\"https://colab.research.google.com/github/angelaaaateng/ftw_python/blob/main/netflix_visualizations_recommendation_eda.ipynb\" target=\"_parent\"><img src=\"https://colab.research.google.com/assets/colab-badge.svg\" alt=\"Open In Colab\"/></a>"
      ]
    },
    {
      "cell_type": "markdown",
      "metadata": {
        "papermill": {
          "duration": 0.06944,
          "end_time": "2021-02-25T06:29:53.537331",
          "exception": false,
          "start_time": "2021-02-25T06:29:53.467891",
          "status": "completed"
        },
        "tags": [],
        "id": "Menn7aEARjmu"
      },
      "source": [
        "# **Netflix is an application that keeps growing bigger and faster with its popularity, shows and content. This is an EDA or a story telling through its data along with a content-based recommendation system and a wide range of different graphs and visuals.**"
      ]
    },
    {
      "cell_type": "markdown",
      "metadata": {
        "papermill": {
          "duration": 0.065279,
          "end_time": "2021-02-25T06:29:53.668546",
          "exception": false,
          "start_time": "2021-02-25T06:29:53.603267",
          "status": "completed"
        },
        "tags": [],
        "id": "0MBzTkd7Rjmy"
      },
      "source": [
        "Please Upvote if you like the notebook 😀and share possible improvements in the comments.\n",
        "\n",
        "*original source: https://www.kaggle.com/code/niharika41298/netflix-visualizations-recommendation-eda"
      ]
    },
    {
      "cell_type": "markdown",
      "metadata": {
        "papermill": {
          "duration": 0.067302,
          "end_time": "2021-02-25T06:29:53.803231",
          "exception": false,
          "start_time": "2021-02-25T06:29:53.735929",
          "status": "completed"
        },
        "tags": [],
        "id": "lmETtXybRjmy"
      },
      "source": [
        "![](https://media.giphy.com/media/oenruB2DKC7p6/giphy.gif)"
      ]
    },
    {
      "cell_type": "code",
      "execution_count": null,
      "metadata": {
        "_cell_guid": "b1076dfc-b9ad-4769-8c92-a6c4dae69d19",
        "_kg_hide-input": true,
        "_kg_hide-output": true,
        "_uuid": "8f2839f25d086af736a60e9eeb907d3b93b6e0e5",
        "papermill": {
          "duration": 0.074621,
          "end_time": "2021-02-25T06:29:53.943174",
          "exception": false,
          "start_time": "2021-02-25T06:29:53.868553",
          "status": "completed"
        },
        "tags": [],
        "id": "8LpclWhkRjmz"
      },
      "outputs": [],
      "source": [
        "# This Python 3 environment comes with many helpful analytics libraries installed\n",
        "# It is defined by the kaggle/python docker image: https://github.com/kaggle/docker-python\n",
        "# For example, here's several helpful packages to load in \n",
        "\n",
        "\n",
        "\n",
        "# Input data files are available in the \"../input/\" directory.\n",
        "# For example, running this (by clicking run or pressing Shift+Enter) will list all files under the input directory\n",
        "\n",
        "#import os\n",
        "#for dirname, _, filenames in os.walk('/kaggle/input'):\n",
        "  #  for filename in filenames:\n",
        "   #     print(os.path.join(dirname, filename))\n",
        "\n",
        "# Any results you write to the current directory are saved as output."
      ]
    },
    {
      "cell_type": "code",
      "execution_count": null,
      "metadata": {
        "_kg_hide-input": true,
        "papermill": {
          "duration": 1.130196,
          "end_time": "2021-02-25T06:29:55.138918",
          "exception": false,
          "start_time": "2021-02-25T06:29:54.008722",
          "status": "completed"
        },
        "tags": [],
        "id": "CnipsicdRjm1"
      },
      "outputs": [],
      "source": [
        "import numpy as np # linear algebra\n",
        "import pandas as pd # data processing, CSV file I/O (e.g. pd.read_csv)import seaborn as sns\n",
        "import matplotlib.pyplot as plt\n",
        "import seaborn as sns\n",
        "import matplotlib.pyplot as plt\n"
      ]
    },
    {
      "cell_type": "markdown",
      "metadata": {
        "papermill": {
          "duration": 0.066059,
          "end_time": "2021-02-25T06:29:55.272130",
          "exception": false,
          "start_time": "2021-02-25T06:29:55.206071",
          "status": "completed"
        },
        "tags": [],
        "id": "4GjtLOCCRjm1"
      },
      "source": [
        "# Loading the dataset"
      ]
    },
    {
      "cell_type": "code",
      "execution_count": null,
      "metadata": {
        "_cell_guid": "79c7e3d0-c299-4dcb-8224-4455121ee9b0",
        "_kg_hide-input": false,
        "_kg_hide-output": false,
        "_uuid": "d629ff2d2480ee46fbb7e2d37f6b5fab8052498a",
        "papermill": {
          "duration": 0.246427,
          "end_time": "2021-02-25T06:29:55.585364",
          "exception": false,
          "start_time": "2021-02-25T06:29:55.338937",
          "status": "completed"
        },
        "tags": [],
        "id": "gX5kDhEARjm1",
        "outputId": "584225f8-2e0a-407c-9c47-2db1520e5a9d"
      },
      "outputs": [
        {
          "data": {
            "text/html": [
              "<div>\n",
              "<style scoped>\n",
              "    .dataframe tbody tr th:only-of-type {\n",
              "        vertical-align: middle;\n",
              "    }\n",
              "\n",
              "    .dataframe tbody tr th {\n",
              "        vertical-align: top;\n",
              "    }\n",
              "\n",
              "    .dataframe thead th {\n",
              "        text-align: right;\n",
              "    }\n",
              "</style>\n",
              "<table border=\"1\" class=\"dataframe\">\n",
              "  <thead>\n",
              "    <tr style=\"text-align: right;\">\n",
              "      <th></th>\n",
              "      <th>show_id</th>\n",
              "      <th>type</th>\n",
              "      <th>title</th>\n",
              "      <th>director</th>\n",
              "      <th>cast</th>\n",
              "      <th>country</th>\n",
              "      <th>date_added</th>\n",
              "      <th>release_year</th>\n",
              "      <th>rating</th>\n",
              "      <th>duration</th>\n",
              "      <th>listed_in</th>\n",
              "      <th>description</th>\n",
              "    </tr>\n",
              "  </thead>\n",
              "  <tbody>\n",
              "    <tr>\n",
              "      <th>0</th>\n",
              "      <td>s1</td>\n",
              "      <td>TV Show</td>\n",
              "      <td>3%</td>\n",
              "      <td>NaN</td>\n",
              "      <td>João Miguel, Bianca Comparato, Michel Gomes, R...</td>\n",
              "      <td>Brazil</td>\n",
              "      <td>August 14, 2020</td>\n",
              "      <td>2020</td>\n",
              "      <td>TV-MA</td>\n",
              "      <td>4 Seasons</td>\n",
              "      <td>International TV Shows, TV Dramas, TV Sci-Fi &amp;...</td>\n",
              "      <td>In a future where the elite inhabit an island ...</td>\n",
              "    </tr>\n",
              "    <tr>\n",
              "      <th>1</th>\n",
              "      <td>s2</td>\n",
              "      <td>Movie</td>\n",
              "      <td>7:19</td>\n",
              "      <td>Jorge Michel Grau</td>\n",
              "      <td>Demián Bichir, Héctor Bonilla, Oscar Serrano, ...</td>\n",
              "      <td>Mexico</td>\n",
              "      <td>December 23, 2016</td>\n",
              "      <td>2016</td>\n",
              "      <td>TV-MA</td>\n",
              "      <td>93 min</td>\n",
              "      <td>Dramas, International Movies</td>\n",
              "      <td>After a devastating earthquake hits Mexico Cit...</td>\n",
              "    </tr>\n",
              "    <tr>\n",
              "      <th>2</th>\n",
              "      <td>s3</td>\n",
              "      <td>Movie</td>\n",
              "      <td>23:59</td>\n",
              "      <td>Gilbert Chan</td>\n",
              "      <td>Tedd Chan, Stella Chung, Henley Hii, Lawrence ...</td>\n",
              "      <td>Singapore</td>\n",
              "      <td>December 20, 2018</td>\n",
              "      <td>2011</td>\n",
              "      <td>R</td>\n",
              "      <td>78 min</td>\n",
              "      <td>Horror Movies, International Movies</td>\n",
              "      <td>When an army recruit is found dead, his fellow...</td>\n",
              "    </tr>\n",
              "    <tr>\n",
              "      <th>3</th>\n",
              "      <td>s4</td>\n",
              "      <td>Movie</td>\n",
              "      <td>9</td>\n",
              "      <td>Shane Acker</td>\n",
              "      <td>Elijah Wood, John C. Reilly, Jennifer Connelly...</td>\n",
              "      <td>United States</td>\n",
              "      <td>November 16, 2017</td>\n",
              "      <td>2009</td>\n",
              "      <td>PG-13</td>\n",
              "      <td>80 min</td>\n",
              "      <td>Action &amp; Adventure, Independent Movies, Sci-Fi...</td>\n",
              "      <td>In a postapocalyptic world, rag-doll robots hi...</td>\n",
              "    </tr>\n",
              "    <tr>\n",
              "      <th>4</th>\n",
              "      <td>s5</td>\n",
              "      <td>Movie</td>\n",
              "      <td>21</td>\n",
              "      <td>Robert Luketic</td>\n",
              "      <td>Jim Sturgess, Kevin Spacey, Kate Bosworth, Aar...</td>\n",
              "      <td>United States</td>\n",
              "      <td>January 1, 2020</td>\n",
              "      <td>2008</td>\n",
              "      <td>PG-13</td>\n",
              "      <td>123 min</td>\n",
              "      <td>Dramas</td>\n",
              "      <td>A brilliant group of students become card-coun...</td>\n",
              "    </tr>\n",
              "  </tbody>\n",
              "</table>\n",
              "</div>"
            ],
            "text/plain": [
              "  show_id     type  title           director  \\\n",
              "0      s1  TV Show     3%                NaN   \n",
              "1      s2    Movie   7:19  Jorge Michel Grau   \n",
              "2      s3    Movie  23:59       Gilbert Chan   \n",
              "3      s4    Movie      9        Shane Acker   \n",
              "4      s5    Movie     21     Robert Luketic   \n",
              "\n",
              "                                                cast        country  \\\n",
              "0  João Miguel, Bianca Comparato, Michel Gomes, R...         Brazil   \n",
              "1  Demián Bichir, Héctor Bonilla, Oscar Serrano, ...         Mexico   \n",
              "2  Tedd Chan, Stella Chung, Henley Hii, Lawrence ...      Singapore   \n",
              "3  Elijah Wood, John C. Reilly, Jennifer Connelly...  United States   \n",
              "4  Jim Sturgess, Kevin Spacey, Kate Bosworth, Aar...  United States   \n",
              "\n",
              "          date_added  release_year rating   duration  \\\n",
              "0    August 14, 2020          2020  TV-MA  4 Seasons   \n",
              "1  December 23, 2016          2016  TV-MA     93 min   \n",
              "2  December 20, 2018          2011      R     78 min   \n",
              "3  November 16, 2017          2009  PG-13     80 min   \n",
              "4    January 1, 2020          2008  PG-13    123 min   \n",
              "\n",
              "                                           listed_in  \\\n",
              "0  International TV Shows, TV Dramas, TV Sci-Fi &...   \n",
              "1                       Dramas, International Movies   \n",
              "2                Horror Movies, International Movies   \n",
              "3  Action & Adventure, Independent Movies, Sci-Fi...   \n",
              "4                                             Dramas   \n",
              "\n",
              "                                         description  \n",
              "0  In a future where the elite inhabit an island ...  \n",
              "1  After a devastating earthquake hits Mexico Cit...  \n",
              "2  When an army recruit is found dead, his fellow...  \n",
              "3  In a postapocalyptic world, rag-doll robots hi...  \n",
              "4  A brilliant group of students become card-coun...  "
            ]
          },
          "execution_count": 3,
          "metadata": {},
          "output_type": "execute_result"
        }
      ],
      "source": [
        "netflix_overall=pd.read_csv(\"/kaggle/input/netflix-shows/netflix_titles.csv\")\n",
        "netflix_overall.head()"
      ]
    },
    {
      "cell_type": "markdown",
      "metadata": {
        "papermill": {
          "duration": 0.066136,
          "end_time": "2021-02-25T06:29:55.718357",
          "exception": false,
          "start_time": "2021-02-25T06:29:55.652221",
          "status": "completed"
        },
        "tags": [],
        "id": "70_6weAqRjm2"
      },
      "source": [
        "Therefore, it is clear that the dataset contains 12 columns for exploratory analysis."
      ]
    },
    {
      "cell_type": "code",
      "execution_count": null,
      "metadata": {
        "_kg_hide-input": true,
        "_kg_hide-output": true,
        "papermill": {
          "duration": 0.091772,
          "end_time": "2021-02-25T06:29:55.876733",
          "exception": false,
          "start_time": "2021-02-25T06:29:55.784961",
          "status": "completed"
        },
        "tags": [],
        "id": "yll0in0NRjm3",
        "outputId": "75c7f57b-5540-48aa-cf60-45c06003ff5f"
      },
      "outputs": [
        {
          "data": {
            "text/plain": [
              "show_id         7787\n",
              "type            7787\n",
              "title           7787\n",
              "director        5398\n",
              "cast            7069\n",
              "country         7280\n",
              "date_added      7777\n",
              "release_year    7787\n",
              "rating          7780\n",
              "duration        7787\n",
              "listed_in       7787\n",
              "description     7787\n",
              "dtype: int64"
            ]
          },
          "execution_count": 4,
          "metadata": {},
          "output_type": "execute_result"
        }
      ],
      "source": [
        "netflix_overall.count()"
      ]
    },
    {
      "cell_type": "code",
      "execution_count": null,
      "metadata": {
        "_kg_hide-input": true,
        "papermill": {
          "duration": 0.084895,
          "end_time": "2021-02-25T06:29:56.029279",
          "exception": false,
          "start_time": "2021-02-25T06:29:55.944384",
          "status": "completed"
        },
        "tags": [],
        "id": "Aw4B6tHRRjm4"
      },
      "outputs": [],
      "source": [
        "netflix_shows=netflix_overall[netflix_overall['type']=='TV Show']\n"
      ]
    },
    {
      "cell_type": "code",
      "execution_count": null,
      "metadata": {
        "_kg_hide-input": true,
        "papermill": {
          "duration": 0.085461,
          "end_time": "2021-02-25T06:29:56.181705",
          "exception": false,
          "start_time": "2021-02-25T06:29:56.096244",
          "status": "completed"
        },
        "tags": [],
        "id": "pWcUHHf4Rjm4"
      },
      "outputs": [],
      "source": [
        "netflix_movies=netflix_overall[netflix_overall['type']=='Movie']"
      ]
    },
    {
      "cell_type": "markdown",
      "metadata": {
        "papermill": {
          "duration": 0.067428,
          "end_time": "2021-02-25T06:29:56.317279",
          "exception": false,
          "start_time": "2021-02-25T06:29:56.249851",
          "status": "completed"
        },
        "tags": [],
        "id": "VxmrRbKfRjm4"
      },
      "source": [
        "![image.png](attachment:image.png)"
      ]
    },
    {
      "cell_type": "markdown",
      "metadata": {
        "papermill": {
          "duration": 0.068831,
          "end_time": "2021-02-25T06:29:56.455553",
          "exception": false,
          "start_time": "2021-02-25T06:29:56.386722",
          "status": "completed"
        },
        "tags": [],
        "id": "Xl2RUNSJRjm5"
      },
      "source": [
        "# Analysis of Movies vs TV Shows."
      ]
    },
    {
      "cell_type": "code",
      "execution_count": null,
      "metadata": {
        "papermill": {
          "duration": 0.244335,
          "end_time": "2021-02-25T06:29:56.768521",
          "exception": false,
          "start_time": "2021-02-25T06:29:56.524186",
          "status": "completed"
        },
        "tags": [],
        "id": "FDf14sRoRjm5",
        "outputId": "9bc808b5-c35a-44c6-e2fa-cac1390be774"
      },
      "outputs": [
        {
          "data": {
            "image/png": "[encoded data removed]",
            "text/plain": [
              "<Figure size 432x288 with 1 Axes>"
            ]
          },
          "metadata": {},
          "output_type": "display_data"
        }
      ],
      "source": [
        "sns.set(style=\"darkgrid\")\n",
        "ax = sns.countplot(x=\"type\", data=netflix_overall, palette=\"Set2\")"
      ]
    },
    {
      "cell_type": "markdown",
      "metadata": {
        "papermill": {
          "duration": 0.06878,
          "end_time": "2021-02-25T06:29:56.905657",
          "exception": false,
          "start_time": "2021-02-25T06:29:56.836877",
          "status": "completed"
        },
        "tags": [],
        "id": "pD2jCA-MRjm5"
      },
      "source": [
        "It is evident that there are more Movies on Netflix than TV shows."
      ]
    },
    {
      "cell_type": "markdown",
      "metadata": {
        "papermill": {
          "duration": 0.068075,
          "end_time": "2021-02-25T06:29:57.042614",
          "exception": false,
          "start_time": "2021-02-25T06:29:56.974539",
          "status": "completed"
        },
        "tags": [],
        "id": "qREmSEkMRjm6"
      },
      "source": [
        "# If a producer wants to release some content, which month must he do so?( Month when least amount of content is added)"
      ]
    },
    {
      "cell_type": "code",
      "execution_count": null,
      "metadata": {
        "_kg_hide-input": true,
        "papermill": {
          "duration": 0.759949,
          "end_time": "2021-02-25T06:29:57.870491",
          "exception": false,
          "start_time": "2021-02-25T06:29:57.110542",
          "status": "completed"
        },
        "tags": [],
        "id": "PSOTaM6aRjm6",
        "outputId": "2ee39d60-afa0-4152-b7e1-86ae8f5bab15"
      },
      "outputs": [
        {
          "data": {
            "image/png": "[encoded data removed]",
            "text/plain": [
              "<Figure size 2000x1400 with 2 Axes>"
            ]
          },
          "metadata": {},
          "output_type": "display_data"
        }
      ],
      "source": [
        "netflix_date = netflix_shows[['date_added']].dropna()\n",
        "netflix_date['year'] = netflix_date['date_added'].apply(lambda x : x.split(', ')[-1])\n",
        "netflix_date['month'] = netflix_date['date_added'].apply(lambda x : x.lstrip().split(' ')[0])\n",
        "\n",
        "month_order = ['January', 'February', 'March', 'April', 'May', 'June', 'July', 'August', 'September', 'October', 'November', 'December'][::-1]\n",
        "df = netflix_date.groupby('year')['month'].value_counts().unstack().fillna(0)[month_order].T\n",
        "plt.figure(figsize=(10, 7), dpi=200)\n",
        "plt.pcolor(df, cmap='afmhot_r', edgecolors='white', linewidths=2) # heatmap\n",
        "plt.xticks(np.arange(0.5, len(df.columns), 1), df.columns, fontsize=7, fontfamily='serif')\n",
        "plt.yticks(np.arange(0.5, len(df.index), 1), df.index, fontsize=7, fontfamily='serif')\n",
        "\n",
        "plt.title('Netflix Contents Update', fontsize=12, fontfamily='calibri', fontweight='bold', position=(0.20, 1.0+0.02))\n",
        "cbar = plt.colorbar()\n",
        "\n",
        "cbar.ax.tick_params(labelsize=8) \n",
        "cbar.ax.minorticks_on()\n",
        "plt.show()"
      ]
    },
    {
      "cell_type": "markdown",
      "metadata": {
        "papermill": {
          "duration": 0.070251,
          "end_time": "2021-02-25T06:29:58.013600",
          "exception": false,
          "start_time": "2021-02-25T06:29:57.943349",
          "status": "completed"
        },
        "tags": [],
        "id": "A9HdksjeRjm6"
      },
      "source": [
        "If the latest year 2019 is considered, January and December were the months when comparatively much less content was released.Therefore, these months may be a good choice for the success of a new release!"
      ]
    },
    {
      "cell_type": "markdown",
      "metadata": {
        "papermill": {
          "duration": 0.077134,
          "end_time": "2021-02-25T06:29:58.162775",
          "exception": false,
          "start_time": "2021-02-25T06:29:58.085641",
          "status": "completed"
        },
        "tags": [],
        "id": "QsRdNK22Rjm7"
      },
      "source": [
        "# Movie ratings analysis"
      ]
    },
    {
      "cell_type": "code",
      "execution_count": null,
      "metadata": {
        "papermill": {
          "duration": 0.426774,
          "end_time": "2021-02-25T06:29:58.674941",
          "exception": false,
          "start_time": "2021-02-25T06:29:58.248167",
          "status": "completed"
        },
        "tags": [],
        "id": "O34quJwQRjm7",
        "outputId": "fd96b08a-8b90-4f4f-812b-a1acc9fadd82"
      },
      "outputs": [
        {
          "data": {
            "image/png": "[encoded data removed]",
            "text/plain": [
              "<Figure size 864x720 with 1 Axes>"
            ]
          },
          "metadata": {},
          "output_type": "display_data"
        }
      ],
      "source": [
        "plt.figure(figsize=(12,10))\n",
        "sns.set(style=\"darkgrid\")\n",
        "ax = sns.countplot(x=\"rating\", data=netflix_movies, palette=\"Set2\", order=netflix_movies['rating'].value_counts().index[0:15])"
      ]
    },
    {
      "cell_type": "markdown",
      "metadata": {
        "papermill": {
          "duration": 0.071015,
          "end_time": "2021-02-25T06:29:58.819355",
          "exception": false,
          "start_time": "2021-02-25T06:29:58.748340",
          "status": "completed"
        },
        "tags": [],
        "id": "ijvDI6aHRjm7"
      },
      "source": [
        "The largest count of movies are made with the 'TV-MA' rating.\"TV-MA\" is a rating assigned by the TV Parental Guidelines to a television program that was designed for mature audiences only. \n",
        "\n",
        "Second largest is the 'TV-14' stands for content that may be inappropriate for children younger than 14 years of age.\n",
        "\n",
        "Third largest is the  very popular 'R' rating.An R-rated film is a film that has been assessed as having material which may be unsuitable for children under the age of 17 by the Motion Picture Association of America; the MPAA writes \"Under 17 requires accompanying parent or adult guardian\"."
      ]
    },
    {
      "cell_type": "markdown",
      "metadata": {
        "papermill": {
          "duration": 0.072682,
          "end_time": "2021-02-25T06:29:58.965844",
          "exception": false,
          "start_time": "2021-02-25T06:29:58.893162",
          "status": "completed"
        },
        "tags": [],
        "id": "aRFsqQ5cRjm7"
      },
      "source": [
        "# Analysing IMDB ratings to get top rated movies on Netflix"
      ]
    },
    {
      "cell_type": "code",
      "execution_count": null,
      "metadata": {
        "papermill": {
          "duration": 1.778568,
          "end_time": "2021-02-25T06:30:00.817264",
          "exception": false,
          "start_time": "2021-02-25T06:29:59.038696",
          "status": "completed"
        },
        "tags": [],
        "id": "8S9qBfSRRjm8",
        "outputId": "a5b4d5f6-c11a-4b24-e3fe-a165f62dcc21"
      },
      "outputs": [
        {
          "name": "stderr",
          "output_type": "stream",
          "text": [
            "/opt/conda/lib/python3.7/site-packages/IPython/core/interactiveshell.py:3063: DtypeWarning: Columns (3) have mixed types.Specify dtype option on import or set low_memory=False.\n",
            "  interactivity=interactivity, compiler=compiler, result=result)\n"
          ]
        },
        {
          "data": {
            "text/plain": [
              "(85852, 4)"
            ]
          },
          "execution_count": 10,
          "metadata": {},
          "output_type": "execute_result"
        }
      ],
      "source": [
        "imdb_ratings=pd.read_csv('/kaggle/input/imdb-extensive-dataset/IMDb ratings.csv',usecols=['weighted_average_vote'])\n",
        "imdb_titles=pd.read_csv('/kaggle/input/imdb-extensive-dataset/IMDb movies.csv', usecols=['title','year','genre'])\n",
        "ratings = pd.DataFrame({'Title':imdb_titles.title,\n",
        "                    'Release Year':imdb_titles.year,\n",
        "                    'Rating': imdb_ratings.weighted_average_vote,\n",
        "                    'Genre':imdb_titles.genre})\n",
        "ratings.drop_duplicates(subset=['Title','Release Year','Rating'], inplace=True)\n",
        "ratings.shape"
      ]
    },
    {
      "cell_type": "markdown",
      "metadata": {
        "papermill": {
          "duration": 0.074846,
          "end_time": "2021-02-25T06:30:00.968361",
          "exception": false,
          "start_time": "2021-02-25T06:30:00.893515",
          "status": "completed"
        },
        "tags": [],
        "id": "0cQ3uF88Rjm8"
      },
      "source": [
        "Performing inner join on the ratings dataset and netflix dataset to get the content that has both ratings on IMDB and are available on Netflix."
      ]
    },
    {
      "cell_type": "code",
      "execution_count": null,
      "metadata": {
        "papermill": {
          "duration": 0.172954,
          "end_time": "2021-02-25T06:30:01.214999",
          "exception": false,
          "start_time": "2021-02-25T06:30:01.042045",
          "status": "completed"
        },
        "tags": [],
        "id": "whSdux7vRjm8"
      },
      "outputs": [],
      "source": [
        "ratings.dropna()\n",
        "joint_data=ratings.merge(netflix_overall,left_on='Title',right_on='title',how='inner')\n",
        "joint_data=joint_data.sort_values(by='Rating', ascending=False)"
      ]
    },
    {
      "cell_type": "markdown",
      "metadata": {
        "papermill": {
          "duration": 0.073369,
          "end_time": "2021-02-25T06:30:01.359535",
          "exception": false,
          "start_time": "2021-02-25T06:30:01.286166",
          "status": "completed"
        },
        "tags": [],
        "id": "ODLgB39gRjm8"
      },
      "source": [
        "Top rated 10 movies on Netflix are:"
      ]
    },
    {
      "cell_type": "code",
      "execution_count": null,
      "metadata": {
        "papermill": {
          "duration": 3.446911,
          "end_time": "2021-02-25T06:30:04.880986",
          "exception": false,
          "start_time": "2021-02-25T06:30:01.434075",
          "status": "completed"
        },
        "tags": [],
        "id": "GrHI8K7KRjm8",
        "outputId": "f09b6893-1b33-4191-c80c-0bfbfc84d817"
      },
      "outputs": [
        {
          "data": {
            "text/html": [
              "        <script type=\"text/javascript\">\n",
              "        window.PlotlyConfig = {MathJaxConfig: 'local'};\n",
              "        if (window.MathJax) {MathJax.Hub.Config({SVG: {font: \"STIX-Web\"}});}\n",
              "        if (typeof require !== 'undefined') {\n",
              "        require.undef(\"plotly\");\n",
              "        requirejs.config({\n",
              "            paths: {\n",
              "                'plotly': ['https://cdn.plot.ly/plotly-latest.min']\n",
              "            }\n",
              "        });\n",
              "        require(['plotly'], function(Plotly) {\n",
              "            window._Plotly = Plotly;\n",
              "        });\n",
              "        }\n",
              "        </script>\n",
              "        "
            ]
          },
          "metadata": {},
          "output_type": "display_data"
        },
        {
          "data": {
            "text/html": [
              "<div>\n",
              "        \n",
              "        \n",
              "            <div id=\"334c6eea-ad71-4261-98e1-337f6dd84fd0\" class=\"plotly-graph-div\" style=\"height:525px; width:100%;\"></div>\n",
              "            <script type=\"text/javascript\">\n",
              "                require([\"plotly\"], function(Plotly) {\n",
              "                    window.PLOTLYENV=window.PLOTLYENV || {};\n",
              "                    \n",
              "                if (document.getElementById(\"334c6eea-ad71-4261-98e1-337f6dd84fd0\")) {\n",
              "                    Plotly.newPlot(\n",
              "                        '334c6eea-ad71-4261-98e1-337f6dd84fd0',\n",
              "                        [{\"branchvalues\": \"total\", \"customdata\": [[8.6], [8.6], [8.6], [8.6], [8.6], [9.0], [8.9], [8.9], [8.8], [8.6], [9.0], [8.6], [8.6], [8.8], [9.0], [8.6], [8.6], [8.9], [8.9]], \"domain\": {\"x\": [0.0, 1.0], \"y\": [0.0, 1.0]}, \"hoverlabel\": {\"namelength\": 0}, \"hovertemplate\": \"Rating=%{color}<br>labels=%{label}<br>parent=%{parent}<br>id=%{id}\", \"ids\": [\"City of God/Brazil, France, Germany\", \"Much Ado About Nothing/Chile, United States, France\", \"Ani... Dr. Kashinath Ghanekar/India\", \"Gol Maal/India\", \"Koshish/India\", \"Innocent/Turkey\", \"Pulp Fiction/United States\", \"Schindler's List/United States\", \"Inception/United States, United Kingdom\", \"Ani... Dr. Kashinath Ghanekar\", \"Breakout\", \"City of God\", \"Gol Maal\", \"Inception\", \"Innocent\", \"Koshish\", \"Much Ado About Nothing\", \"Pulp Fiction\", \"Schindler's List\"], \"labels\": [\"Brazil, France, Germany\", \"Chile, United States, France\", \"India\", \"India\", \"India\", \"Turkey\", \"United States\", \"United States\", \"United States, United Kingdom\", \"Ani... Dr. Kashinath Ghanekar\", \"Breakout\", \"City of God\", \"Gol Maal\", \"Inception\", \"Innocent\", \"Koshish\", \"Much Ado About Nothing\", \"Pulp Fiction\", \"Schindler's List\"], \"marker\": {\"coloraxis\": \"coloraxis\", \"colors\": [8.6, 8.6, 8.6, 8.6, 8.6, 9.0, 8.9, 8.9, 8.8, 8.6, 9.0, 8.6, 8.6, 8.8, 9.0, 8.6, 8.6, 8.9, 8.9]}, \"name\": \"\", \"parents\": [\"City of God\", \"Much Ado About Nothing\", \"Ani... Dr. Kashinath Ghanekar\", \"Gol Maal\", \"Koshish\", \"Innocent\", \"Pulp Fiction\", \"Schindler's List\", \"Inception\", \"\", \"\", \"\", \"\", \"\", \"\", \"\", \"\", \"\", \"\"], \"type\": \"sunburst\", \"values\": [8.6, 8.6, 8.6, 8.6, 8.6, 9.0, 8.9, 8.9, 8.8, 8.6, 9.0, 8.6, 8.6, 8.8, 9.0, 8.6, 8.6, 8.9, 8.9]}],\n",
              "                        {\"coloraxis\": {\"colorbar\": {\"title\": {\"text\": \"Rating\"}}, \"colorscale\": [[0.0, \"#0d0887\"], [0.1111111111111111, \"#46039f\"], [0.2222222222222222, \"#7201a8\"], [0.3333333333333333, \"#9c179e\"], [0.4444444444444444, \"#bd3786\"], [0.5555555555555556, \"#d8576b\"], [0.6666666666666666, \"#ed7953\"], [0.7777777777777778, \"#fb9f3a\"], [0.8888888888888888, \"#fdca26\"], [1.0, \"#f0f921\"]]}, \"legend\": {\"tracegroupgap\": 0}, \"margin\": {\"t\": 60}, \"template\": {\"data\": {\"bar\": [{\"error_x\": {\"color\": \"#2a3f5f\"}, \"error_y\": {\"color\": \"#2a3f5f\"}, \"marker\": {\"line\": {\"color\": \"#E5ECF6\", \"width\": 0.5}}, \"type\": \"bar\"}], \"barpolar\": [{\"marker\": {\"line\": {\"color\": \"#E5ECF6\", \"width\": 0.5}}, \"type\": \"barpolar\"}], \"carpet\": [{\"aaxis\": {\"endlinecolor\": \"#2a3f5f\", \"gridcolor\": \"white\", \"linecolor\": \"white\", \"minorgridcolor\": \"white\", \"startlinecolor\": \"#2a3f5f\"}, \"baxis\": {\"endlinecolor\": \"#2a3f5f\", \"gridcolor\": \"white\", \"linecolor\": \"white\", \"minorgridcolor\": \"white\", \"startlinecolor\": \"#2a3f5f\"}, \"type\": \"carpet\"}], \"choropleth\": [{\"colorbar\": {\"outlinewidth\": 0, \"ticks\": \"\"}, \"type\": \"choropleth\"}], \"contour\": [{\"colorbar\": {\"outlinewidth\": 0, \"ticks\": \"\"}, \"colorscale\": [[0.0, \"#0d0887\"], [0.1111111111111111, \"#46039f\"], [0.2222222222222222, \"#7201a8\"], [0.3333333333333333, \"#9c179e\"], [0.4444444444444444, \"#bd3786\"], [0.5555555555555556, \"#d8576b\"], [0.6666666666666666, \"#ed7953\"], [0.7777777777777778, \"#fb9f3a\"], [0.8888888888888888, \"#fdca26\"], [1.0, \"#f0f921\"]], \"type\": \"contour\"}], \"contourcarpet\": [{\"colorbar\": {\"outlinewidth\": 0, \"ticks\": \"\"}, \"type\": \"contourcarpet\"}], \"heatmap\": [{\"colorbar\": {\"outlinewidth\": 0, \"ticks\": \"\"}, \"colorscale\": [[0.0, \"#0d0887\"], [0.1111111111111111, \"#46039f\"], [0.2222222222222222, \"#7201a8\"], [0.3333333333333333, \"#9c179e\"], [0.4444444444444444, \"#bd3786\"], [0.5555555555555556, \"#d8576b\"], [0.6666666666666666, \"#ed7953\"], [0.7777777777777778, \"#fb9f3a\"], [0.8888888888888888, \"#fdca26\"], [1.0, \"#f0f921\"]], \"type\": \"heatmap\"}], \"heatmapgl\": [{\"colorbar\": {\"outlinewidth\": 0, \"ticks\": \"\"}, \"colorscale\": [[0.0, \"#0d0887\"], [0.1111111111111111, \"#46039f\"], [0.2222222222222222, \"#7201a8\"], [0.3333333333333333, \"#9c179e\"], [0.4444444444444444, \"#bd3786\"], [0.5555555555555556, \"#d8576b\"], [0.6666666666666666, \"#ed7953\"], [0.7777777777777778, \"#fb9f3a\"], [0.8888888888888888, \"#fdca26\"], [1.0, \"#f0f921\"]], \"type\": \"heatmapgl\"}], \"histogram\": [{\"marker\": {\"colorbar\": {\"outlinewidth\": 0, \"ticks\": \"\"}}, \"type\": \"histogram\"}], \"histogram2d\": [{\"colorbar\": {\"outlinewidth\": 0, \"ticks\": \"\"}, \"colorscale\": [[0.0, \"#0d0887\"], [0.1111111111111111, \"#46039f\"], [0.2222222222222222, \"#7201a8\"], [0.3333333333333333, \"#9c179e\"], [0.4444444444444444, \"#bd3786\"], [0.5555555555555556, \"#d8576b\"], [0.6666666666666666, \"#ed7953\"], [0.7777777777777778, \"#fb9f3a\"], [0.8888888888888888, \"#fdca26\"], [1.0, \"#f0f921\"]], \"type\": \"histogram2d\"}], \"histogram2dcontour\": [{\"colorbar\": {\"outlinewidth\": 0, \"ticks\": \"\"}, \"colorscale\": [[0.0, \"#0d0887\"], [0.1111111111111111, \"#46039f\"], [0.2222222222222222, \"#7201a8\"], [0.3333333333333333, \"#9c179e\"], [0.4444444444444444, \"#bd3786\"], [0.5555555555555556, \"#d8576b\"], [0.6666666666666666, \"#ed7953\"], [0.7777777777777778, \"#fb9f3a\"], [0.8888888888888888, \"#fdca26\"], [1.0, \"#f0f921\"]], \"type\": \"histogram2dcontour\"}], \"mesh3d\": [{\"colorbar\": {\"outlinewidth\": 0, \"ticks\": \"\"}, \"type\": \"mesh3d\"}], \"parcoords\": [{\"line\": {\"colorbar\": {\"outlinewidth\": 0, \"ticks\": \"\"}}, \"type\": \"parcoords\"}], \"pie\": [{\"automargin\": true, \"type\": \"pie\"}], \"scatter\": [{\"marker\": {\"colorbar\": {\"outlinewidth\": 0, \"ticks\": \"\"}}, \"type\": \"scatter\"}], \"scatter3d\": [{\"line\": {\"colorbar\": {\"outlinewidth\": 0, \"ticks\": \"\"}}, \"marker\": {\"colorbar\": {\"outlinewidth\": 0, \"ticks\": \"\"}}, \"type\": \"scatter3d\"}], \"scattercarpet\": [{\"marker\": {\"colorbar\": {\"outlinewidth\": 0, \"ticks\": \"\"}}, \"type\": \"scattercarpet\"}], \"scattergeo\": [{\"marker\": {\"colorbar\": {\"outlinewidth\": 0, \"ticks\": \"\"}}, \"type\": \"scattergeo\"}], \"scattergl\": [{\"marker\": {\"colorbar\": {\"outlinewidth\": 0, \"ticks\": \"\"}}, \"type\": \"scattergl\"}], \"scattermapbox\": [{\"marker\": {\"colorbar\": {\"outlinewidth\": 0, \"ticks\": \"\"}}, \"type\": \"scattermapbox\"}], \"scatterpolar\": [{\"marker\": {\"colorbar\": {\"outlinewidth\": 0, \"ticks\": \"\"}}, \"type\": \"scatterpolar\"}], \"scatterpolargl\": [{\"marker\": {\"colorbar\": {\"outlinewidth\": 0, \"ticks\": \"\"}}, \"type\": \"scatterpolargl\"}], \"scatterternary\": [{\"marker\": {\"colorbar\": {\"outlinewidth\": 0, \"ticks\": \"\"}}, \"type\": \"scatterternary\"}], \"surface\": [{\"colorbar\": {\"outlinewidth\": 0, \"ticks\": \"\"}, \"colorscale\": [[0.0, \"#0d0887\"], [0.1111111111111111, \"#46039f\"], [0.2222222222222222, \"#7201a8\"], [0.3333333333333333, \"#9c179e\"], [0.4444444444444444, \"#bd3786\"], [0.5555555555555556, \"#d8576b\"], [0.6666666666666666, \"#ed7953\"], [0.7777777777777778, \"#fb9f3a\"], [0.8888888888888888, \"#fdca26\"], [1.0, \"#f0f921\"]], \"type\": \"surface\"}], \"table\": [{\"cells\": {\"fill\": {\"color\": \"#EBF0F8\"}, \"line\": {\"color\": \"white\"}}, \"header\": {\"fill\": {\"color\": \"#C8D4E3\"}, \"line\": {\"color\": \"white\"}}, \"type\": \"table\"}]}, \"layout\": {\"annotationdefaults\": {\"arrowcolor\": \"#2a3f5f\", \"arrowhead\": 0, \"arrowwidth\": 1}, \"coloraxis\": {\"colorbar\": {\"outlinewidth\": 0, \"ticks\": \"\"}}, \"colorscale\": {\"diverging\": [[0, \"#8e0152\"], [0.1, \"#c51b7d\"], [0.2, \"#de77ae\"], [0.3, \"#f1b6da\"], [0.4, \"#fde0ef\"], [0.5, \"#f7f7f7\"], [0.6, \"#e6f5d0\"], [0.7, \"#b8e186\"], [0.8, \"#7fbc41\"], [0.9, \"#4d9221\"], [1, \"#276419\"]], \"sequential\": [[0.0, \"#0d0887\"], [0.1111111111111111, \"#46039f\"], [0.2222222222222222, \"#7201a8\"], [0.3333333333333333, \"#9c179e\"], [0.4444444444444444, \"#bd3786\"], [0.5555555555555556, \"#d8576b\"], [0.6666666666666666, \"#ed7953\"], [0.7777777777777778, \"#fb9f3a\"], [0.8888888888888888, \"#fdca26\"], [1.0, \"#f0f921\"]], \"sequentialminus\": [[0.0, \"#0d0887\"], [0.1111111111111111, \"#46039f\"], [0.2222222222222222, \"#7201a8\"], [0.3333333333333333, \"#9c179e\"], [0.4444444444444444, \"#bd3786\"], [0.5555555555555556, \"#d8576b\"], [0.6666666666666666, \"#ed7953\"], [0.7777777777777778, \"#fb9f3a\"], [0.8888888888888888, \"#fdca26\"], [1.0, \"#f0f921\"]]}, \"colorway\": [\"#636efa\", \"#EF553B\", \"#00cc96\", \"#ab63fa\", \"#FFA15A\", \"#19d3f3\", \"#FF6692\", \"#B6E880\", \"#FF97FF\", \"#FECB52\"], \"font\": {\"color\": \"#2a3f5f\"}, \"geo\": {\"bgcolor\": \"white\", \"lakecolor\": \"white\", \"landcolor\": \"#E5ECF6\", \"showlakes\": true, \"showland\": true, \"subunitcolor\": \"white\"}, \"hoverlabel\": {\"align\": \"left\"}, \"hovermode\": \"closest\", \"mapbox\": {\"style\": \"light\"}, \"paper_bgcolor\": \"white\", \"plot_bgcolor\": \"#E5ECF6\", \"polar\": {\"angularaxis\": {\"gridcolor\": \"white\", \"linecolor\": \"white\", \"ticks\": \"\"}, \"bgcolor\": \"#E5ECF6\", \"radialaxis\": {\"gridcolor\": \"white\", \"linecolor\": \"white\", \"ticks\": \"\"}}, \"scene\": {\"xaxis\": {\"backgroundcolor\": \"#E5ECF6\", \"gridcolor\": \"white\", \"gridwidth\": 2, \"linecolor\": \"white\", \"showbackground\": true, \"ticks\": \"\", \"zerolinecolor\": \"white\"}, \"yaxis\": {\"backgroundcolor\": \"#E5ECF6\", \"gridcolor\": \"white\", \"gridwidth\": 2, \"linecolor\": \"white\", \"showbackground\": true, \"ticks\": \"\", \"zerolinecolor\": \"white\"}, \"zaxis\": {\"backgroundcolor\": \"#E5ECF6\", \"gridcolor\": \"white\", \"gridwidth\": 2, \"linecolor\": \"white\", \"showbackground\": true, \"ticks\": \"\", \"zerolinecolor\": \"white\"}}, \"shapedefaults\": {\"line\": {\"color\": \"#2a3f5f\"}}, \"ternary\": {\"aaxis\": {\"gridcolor\": \"white\", \"linecolor\": \"white\", \"ticks\": \"\"}, \"baxis\": {\"gridcolor\": \"white\", \"linecolor\": \"white\", \"ticks\": \"\"}, \"bgcolor\": \"#E5ECF6\", \"caxis\": {\"gridcolor\": \"white\", \"linecolor\": \"white\", \"ticks\": \"\"}}, \"title\": {\"x\": 0.05}, \"xaxis\": {\"automargin\": true, \"gridcolor\": \"white\", \"linecolor\": \"white\", \"ticks\": \"\", \"title\": {\"standoff\": 15}, \"zerolinecolor\": \"white\", \"zerolinewidth\": 2}, \"yaxis\": {\"automargin\": true, \"gridcolor\": \"white\", \"linecolor\": \"white\", \"ticks\": \"\", \"title\": {\"standoff\": 15}, \"zerolinecolor\": \"white\", \"zerolinewidth\": 2}}}},\n",
              "                        {\"responsive\": true}\n",
              "                    ).then(function(){\n",
              "                            \n",
              "var gd = document.getElementById('334c6eea-ad71-4261-98e1-337f6dd84fd0');\n",
              "var x = new MutationObserver(function (mutations, observer) {{\n",
              "        var display = window.getComputedStyle(gd).display;\n",
              "        if (!display || display === 'none') {{\n",
              "            console.log([gd, 'removed!']);\n",
              "            Plotly.purge(gd);\n",
              "            observer.disconnect();\n",
              "        }}\n",
              "}});\n",
              "\n",
              "// Listen for the removal of the full notebook cells\n",
              "var notebookContainer = gd.closest('#notebook-container');\n",
              "if (notebookContainer) {{\n",
              "    x.observe(notebookContainer, {childList: true});\n",
              "}}\n",
              "\n",
              "// Listen for the clearing of the current output cell\n",
              "var outputEl = gd.closest('.output');\n",
              "if (outputEl) {{\n",
              "    x.observe(outputEl, {childList: true});\n",
              "}}\n",
              "\n",
              "                        })\n",
              "                };\n",
              "                });\n",
              "            </script>\n",
              "        </div>"
            ]
          },
          "metadata": {},
          "output_type": "display_data"
        }
      ],
      "source": [
        "import plotly.express as px\n",
        "top_rated=joint_data[0:10]\n",
        "fig =px.sunburst(\n",
        "    top_rated,\n",
        "    path=['title','country'],\n",
        "    values='Rating',\n",
        "    color='Rating')\n",
        "fig.show()"
      ]
    },
    {
      "cell_type": "markdown",
      "metadata": {
        "papermill": {
          "duration": 0.073704,
          "end_time": "2021-02-25T06:30:05.029057",
          "exception": false,
          "start_time": "2021-02-25T06:30:04.955353",
          "status": "completed"
        },
        "tags": [],
        "id": "pzt476tgRjm9"
      },
      "source": [
        "Countries with highest rated content."
      ]
    },
    {
      "cell_type": "code",
      "execution_count": null,
      "metadata": {
        "papermill": {
          "duration": 0.092443,
          "end_time": "2021-02-25T06:30:05.193649",
          "exception": false,
          "start_time": "2021-02-25T06:30:05.101206",
          "status": "completed"
        },
        "tags": [],
        "id": "bTsBdcqXRjm9",
        "outputId": "ac828f74-b2f5-42bf-a3a8-c182b58544f6"
      },
      "outputs": [
        {
          "data": {
            "text/html": [
              "<div>\n",
              "<style scoped>\n",
              "    .dataframe tbody tr th:only-of-type {\n",
              "        vertical-align: middle;\n",
              "    }\n",
              "\n",
              "    .dataframe tbody tr th {\n",
              "        vertical-align: top;\n",
              "    }\n",
              "\n",
              "    .dataframe thead th {\n",
              "        text-align: right;\n",
              "    }\n",
              "</style>\n",
              "<table border=\"1\" class=\"dataframe\">\n",
              "  <thead>\n",
              "    <tr style=\"text-align: right;\">\n",
              "      <th></th>\n",
              "      <th>country</th>\n",
              "    </tr>\n",
              "  </thead>\n",
              "  <tbody>\n",
              "    <tr>\n",
              "      <th>United States</th>\n",
              "      <td>799</td>\n",
              "    </tr>\n",
              "    <tr>\n",
              "      <th>India</th>\n",
              "      <td>701</td>\n",
              "    </tr>\n",
              "    <tr>\n",
              "      <th>United Kingdom</th>\n",
              "      <td>107</td>\n",
              "    </tr>\n",
              "    <tr>\n",
              "      <th>Canada</th>\n",
              "      <td>56</td>\n",
              "    </tr>\n",
              "    <tr>\n",
              "      <th>Philippines</th>\n",
              "      <td>50</td>\n",
              "    </tr>\n",
              "    <tr>\n",
              "      <th>Spain</th>\n",
              "      <td>40</td>\n",
              "    </tr>\n",
              "    <tr>\n",
              "      <th>South Korea</th>\n",
              "      <td>36</td>\n",
              "    </tr>\n",
              "    <tr>\n",
              "      <th>Indonesia</th>\n",
              "      <td>35</td>\n",
              "    </tr>\n",
              "    <tr>\n",
              "      <th>France</th>\n",
              "      <td>33</td>\n",
              "    </tr>\n",
              "    <tr>\n",
              "      <th>United Kingdom, United States</th>\n",
              "      <td>31</td>\n",
              "    </tr>\n",
              "    <tr>\n",
              "      <th>Australia</th>\n",
              "      <td>30</td>\n",
              "    </tr>\n",
              "  </tbody>\n",
              "</table>\n",
              "</div>"
            ],
            "text/plain": [
              "                               country\n",
              "United States                      799\n",
              "India                              701\n",
              "United Kingdom                     107\n",
              "Canada                              56\n",
              "Philippines                         50\n",
              "Spain                               40\n",
              "South Korea                         36\n",
              "Indonesia                           35\n",
              "France                              33\n",
              "United Kingdom, United States       31\n",
              "Australia                           30"
            ]
          },
          "execution_count": 13,
          "metadata": {},
          "output_type": "execute_result"
        }
      ],
      "source": [
        "country_count=joint_data['country'].value_counts().sort_values(ascending=False)\n",
        "country_count=pd.DataFrame(country_count)\n",
        "topcountries=country_count[0:11]\n",
        "topcountries"
      ]
    },
    {
      "cell_type": "code",
      "execution_count": null,
      "metadata": {
        "papermill": {
          "duration": 0.465981,
          "end_time": "2021-02-25T06:30:05.733038",
          "exception": false,
          "start_time": "2021-02-25T06:30:05.267057",
          "status": "completed"
        },
        "tags": [],
        "id": "IH2UHX0YRjm9",
        "outputId": "c0154570-5cf3-461a-9ae9-90d0a245375e"
      },
      "outputs": [
        {
          "data": {
            "text/html": [
              "<div>\n",
              "        \n",
              "        \n",
              "            <div id=\"c7c0802b-dadf-4ae1-85b8-1afa28453073\" class=\"plotly-graph-div\" style=\"height:525px; width:100%;\"></div>\n",
              "            <script type=\"text/javascript\">\n",
              "                require([\"plotly\"], function(Plotly) {\n",
              "                    window.PLOTLYENV=window.PLOTLYENV || {};\n",
              "                    \n",
              "                if (document.getElementById(\"c7c0802b-dadf-4ae1-85b8-1afa28453073\")) {\n",
              "                    Plotly.newPlot(\n",
              "                        'c7c0802b-dadf-4ae1-85b8-1afa28453073',\n",
              "                        [{\"hoverlabel\": {\"namelength\": 0}, \"hovertemplate\": \"number=%{x}<br>country=%{y}\", \"legendgroup\": \"\", \"marker\": {\"color\": \"#636efa\"}, \"name\": \"\", \"orientation\": \"h\", \"showlegend\": false, \"type\": \"funnel\", \"x\": [1063, 619, 135, 60, 44, 41, 40, 40, 38, 35], \"xaxis\": \"x\", \"y\": [\"United States\", \"India\", \"United Kingdom\", \"Canada\", \"Spain\", \"Turkey\", \"Philippines\", \"France\", \"South Korea\", \"Australia\"], \"yaxis\": \"y\"}],\n",
              "                        {\"legend\": {\"tracegroupgap\": 0}, \"margin\": {\"t\": 60}, \"template\": {\"data\": {\"bar\": [{\"error_x\": {\"color\": \"#2a3f5f\"}, \"error_y\": {\"color\": \"#2a3f5f\"}, \"marker\": {\"line\": {\"color\": \"#E5ECF6\", \"width\": 0.5}}, \"type\": \"bar\"}], \"barpolar\": [{\"marker\": {\"line\": {\"color\": \"#E5ECF6\", \"width\": 0.5}}, \"type\": \"barpolar\"}], \"carpet\": [{\"aaxis\": {\"endlinecolor\": \"#2a3f5f\", \"gridcolor\": \"white\", \"linecolor\": \"white\", \"minorgridcolor\": \"white\", \"startlinecolor\": \"#2a3f5f\"}, \"baxis\": {\"endlinecolor\": \"#2a3f5f\", \"gridcolor\": \"white\", \"linecolor\": \"white\", \"minorgridcolor\": \"white\", \"startlinecolor\": \"#2a3f5f\"}, \"type\": \"carpet\"}], \"choropleth\": [{\"colorbar\": {\"outlinewidth\": 0, \"ticks\": \"\"}, \"type\": \"choropleth\"}], \"contour\": [{\"colorbar\": {\"outlinewidth\": 0, \"ticks\": \"\"}, \"colorscale\": [[0.0, \"#0d0887\"], [0.1111111111111111, \"#46039f\"], [0.2222222222222222, \"#7201a8\"], [0.3333333333333333, \"#9c179e\"], [0.4444444444444444, \"#bd3786\"], [0.5555555555555556, \"#d8576b\"], [0.6666666666666666, \"#ed7953\"], [0.7777777777777778, \"#fb9f3a\"], [0.8888888888888888, \"#fdca26\"], [1.0, \"#f0f921\"]], \"type\": \"contour\"}], \"contourcarpet\": [{\"colorbar\": {\"outlinewidth\": 0, \"ticks\": \"\"}, \"type\": \"contourcarpet\"}], \"heatmap\": [{\"colorbar\": {\"outlinewidth\": 0, \"ticks\": \"\"}, \"colorscale\": [[0.0, \"#0d0887\"], [0.1111111111111111, \"#46039f\"], [0.2222222222222222, \"#7201a8\"], [0.3333333333333333, \"#9c179e\"], [0.4444444444444444, \"#bd3786\"], [0.5555555555555556, \"#d8576b\"], [0.6666666666666666, \"#ed7953\"], [0.7777777777777778, \"#fb9f3a\"], [0.8888888888888888, \"#fdca26\"], [1.0, \"#f0f921\"]], \"type\": \"heatmap\"}], \"heatmapgl\": [{\"colorbar\": {\"outlinewidth\": 0, \"ticks\": \"\"}, \"colorscale\": [[0.0, \"#0d0887\"], [0.1111111111111111, \"#46039f\"], [0.2222222222222222, \"#7201a8\"], [0.3333333333333333, \"#9c179e\"], [0.4444444444444444, \"#bd3786\"], [0.5555555555555556, \"#d8576b\"], [0.6666666666666666, \"#ed7953\"], [0.7777777777777778, \"#fb9f3a\"], [0.8888888888888888, \"#fdca26\"], [1.0, \"#f0f921\"]], \"type\": \"heatmapgl\"}], \"histogram\": [{\"marker\": {\"colorbar\": {\"outlinewidth\": 0, \"ticks\": \"\"}}, \"type\": \"histogram\"}], \"histogram2d\": [{\"colorbar\": {\"outlinewidth\": 0, \"ticks\": \"\"}, \"colorscale\": [[0.0, \"#0d0887\"], [0.1111111111111111, \"#46039f\"], [0.2222222222222222, \"#7201a8\"], [0.3333333333333333, \"#9c179e\"], [0.4444444444444444, \"#bd3786\"], [0.5555555555555556, \"#d8576b\"], [0.6666666666666666, \"#ed7953\"], [0.7777777777777778, \"#fb9f3a\"], [0.8888888888888888, \"#fdca26\"], [1.0, \"#f0f921\"]], \"type\": \"histogram2d\"}], \"histogram2dcontour\": [{\"colorbar\": {\"outlinewidth\": 0, \"ticks\": \"\"}, \"colorscale\": [[0.0, \"#0d0887\"], [0.1111111111111111, \"#46039f\"], [0.2222222222222222, \"#7201a8\"], [0.3333333333333333, \"#9c179e\"], [0.4444444444444444, \"#bd3786\"], [0.5555555555555556, \"#d8576b\"], [0.6666666666666666, \"#ed7953\"], [0.7777777777777778, \"#fb9f3a\"], [0.8888888888888888, \"#fdca26\"], [1.0, \"#f0f921\"]], \"type\": \"histogram2dcontour\"}], \"mesh3d\": [{\"colorbar\": {\"outlinewidth\": 0, \"ticks\": \"\"}, \"type\": \"mesh3d\"}], \"parcoords\": [{\"line\": {\"colorbar\": {\"outlinewidth\": 0, \"ticks\": \"\"}}, \"type\": \"parcoords\"}], \"pie\": [{\"automargin\": true, \"type\": \"pie\"}], \"scatter\": [{\"marker\": {\"colorbar\": {\"outlinewidth\": 0, \"ticks\": \"\"}}, \"type\": \"scatter\"}], \"scatter3d\": [{\"line\": {\"colorbar\": {\"outlinewidth\": 0, \"ticks\": \"\"}}, \"marker\": {\"colorbar\": {\"outlinewidth\": 0, \"ticks\": \"\"}}, \"type\": \"scatter3d\"}], \"scattercarpet\": [{\"marker\": {\"colorbar\": {\"outlinewidth\": 0, \"ticks\": \"\"}}, \"type\": \"scattercarpet\"}], \"scattergeo\": [{\"marker\": {\"colorbar\": {\"outlinewidth\": 0, \"ticks\": \"\"}}, \"type\": \"scattergeo\"}], \"scattergl\": [{\"marker\": {\"colorbar\": {\"outlinewidth\": 0, \"ticks\": \"\"}}, \"type\": \"scattergl\"}], \"scattermapbox\": [{\"marker\": {\"colorbar\": {\"outlinewidth\": 0, \"ticks\": \"\"}}, \"type\": \"scattermapbox\"}], \"scatterpolar\": [{\"marker\": {\"colorbar\": {\"outlinewidth\": 0, \"ticks\": \"\"}}, \"type\": \"scatterpolar\"}], \"scatterpolargl\": [{\"marker\": {\"colorbar\": {\"outlinewidth\": 0, \"ticks\": \"\"}}, \"type\": \"scatterpolargl\"}], \"scatterternary\": [{\"marker\": {\"colorbar\": {\"outlinewidth\": 0, \"ticks\": \"\"}}, \"type\": \"scatterternary\"}], \"surface\": [{\"colorbar\": {\"outlinewidth\": 0, \"ticks\": \"\"}, \"colorscale\": [[0.0, \"#0d0887\"], [0.1111111111111111, \"#46039f\"], [0.2222222222222222, \"#7201a8\"], [0.3333333333333333, \"#9c179e\"], [0.4444444444444444, \"#bd3786\"], [0.5555555555555556, \"#d8576b\"], [0.6666666666666666, \"#ed7953\"], [0.7777777777777778, \"#fb9f3a\"], [0.8888888888888888, \"#fdca26\"], [1.0, \"#f0f921\"]], \"type\": \"surface\"}], \"table\": [{\"cells\": {\"fill\": {\"color\": \"#EBF0F8\"}, \"line\": {\"color\": \"white\"}}, \"header\": {\"fill\": {\"color\": \"#C8D4E3\"}, \"line\": {\"color\": \"white\"}}, \"type\": \"table\"}]}, \"layout\": {\"annotationdefaults\": {\"arrowcolor\": \"#2a3f5f\", \"arrowhead\": 0, \"arrowwidth\": 1}, \"coloraxis\": {\"colorbar\": {\"outlinewidth\": 0, \"ticks\": \"\"}}, \"colorscale\": {\"diverging\": [[0, \"#8e0152\"], [0.1, \"#c51b7d\"], [0.2, \"#de77ae\"], [0.3, \"#f1b6da\"], [0.4, \"#fde0ef\"], [0.5, \"#f7f7f7\"], [0.6, \"#e6f5d0\"], [0.7, \"#b8e186\"], [0.8, \"#7fbc41\"], [0.9, \"#4d9221\"], [1, \"#276419\"]], \"sequential\": [[0.0, \"#0d0887\"], [0.1111111111111111, \"#46039f\"], [0.2222222222222222, \"#7201a8\"], [0.3333333333333333, \"#9c179e\"], [0.4444444444444444, \"#bd3786\"], [0.5555555555555556, \"#d8576b\"], [0.6666666666666666, \"#ed7953\"], [0.7777777777777778, \"#fb9f3a\"], [0.8888888888888888, \"#fdca26\"], [1.0, \"#f0f921\"]], \"sequentialminus\": [[0.0, \"#0d0887\"], [0.1111111111111111, \"#46039f\"], [0.2222222222222222, \"#7201a8\"], [0.3333333333333333, \"#9c179e\"], [0.4444444444444444, \"#bd3786\"], [0.5555555555555556, \"#d8576b\"], [0.6666666666666666, \"#ed7953\"], [0.7777777777777778, \"#fb9f3a\"], [0.8888888888888888, \"#fdca26\"], [1.0, \"#f0f921\"]]}, \"colorway\": [\"#636efa\", \"#EF553B\", \"#00cc96\", \"#ab63fa\", \"#FFA15A\", \"#19d3f3\", \"#FF6692\", \"#B6E880\", \"#FF97FF\", \"#FECB52\"], \"font\": {\"color\": \"#2a3f5f\"}, \"geo\": {\"bgcolor\": \"white\", \"lakecolor\": \"white\", \"landcolor\": \"#E5ECF6\", \"showlakes\": true, \"showland\": true, \"subunitcolor\": \"white\"}, \"hoverlabel\": {\"align\": \"left\"}, \"hovermode\": \"closest\", \"mapbox\": {\"style\": \"light\"}, \"paper_bgcolor\": \"white\", \"plot_bgcolor\": \"#E5ECF6\", \"polar\": {\"angularaxis\": {\"gridcolor\": \"white\", \"linecolor\": \"white\", \"ticks\": \"\"}, \"bgcolor\": \"#E5ECF6\", \"radialaxis\": {\"gridcolor\": \"white\", \"linecolor\": \"white\", \"ticks\": \"\"}}, \"scene\": {\"xaxis\": {\"backgroundcolor\": \"#E5ECF6\", \"gridcolor\": \"white\", \"gridwidth\": 2, \"linecolor\": \"white\", \"showbackground\": true, \"ticks\": \"\", \"zerolinecolor\": \"white\"}, \"yaxis\": {\"backgroundcolor\": \"#E5ECF6\", \"gridcolor\": \"white\", \"gridwidth\": 2, \"linecolor\": \"white\", \"showbackground\": true, \"ticks\": \"\", \"zerolinecolor\": \"white\"}, \"zaxis\": {\"backgroundcolor\": \"#E5ECF6\", \"gridcolor\": \"white\", \"gridwidth\": 2, \"linecolor\": \"white\", \"showbackground\": true, \"ticks\": \"\", \"zerolinecolor\": \"white\"}}, \"shapedefaults\": {\"line\": {\"color\": \"#2a3f5f\"}}, \"ternary\": {\"aaxis\": {\"gridcolor\": \"white\", \"linecolor\": \"white\", \"ticks\": \"\"}, \"baxis\": {\"gridcolor\": \"white\", \"linecolor\": \"white\", \"ticks\": \"\"}, \"bgcolor\": \"#E5ECF6\", \"caxis\": {\"gridcolor\": \"white\", \"linecolor\": \"white\", \"ticks\": \"\"}}, \"title\": {\"x\": 0.05}, \"xaxis\": {\"automargin\": true, \"gridcolor\": \"white\", \"linecolor\": \"white\", \"ticks\": \"\", \"title\": {\"standoff\": 15}, \"zerolinecolor\": \"white\", \"zerolinewidth\": 2}, \"yaxis\": {\"automargin\": true, \"gridcolor\": \"white\", \"linecolor\": \"white\", \"ticks\": \"\", \"title\": {\"standoff\": 15}, \"zerolinecolor\": \"white\", \"zerolinewidth\": 2}}}, \"xaxis\": {\"anchor\": \"y\", \"domain\": [0.0, 1.0]}, \"yaxis\": {\"anchor\": \"x\", \"domain\": [0.0, 1.0]}},\n",
              "                        {\"responsive\": true}\n",
              "                    ).then(function(){\n",
              "                            \n",
              "var gd = document.getElementById('c7c0802b-dadf-4ae1-85b8-1afa28453073');\n",
              "var x = new MutationObserver(function (mutations, observer) {{\n",
              "        var display = window.getComputedStyle(gd).display;\n",
              "        if (!display || display === 'none') {{\n",
              "            console.log([gd, 'removed!']);\n",
              "            Plotly.purge(gd);\n",
              "            observer.disconnect();\n",
              "        }}\n",
              "}});\n",
              "\n",
              "// Listen for the removal of the full notebook cells\n",
              "var notebookContainer = gd.closest('#notebook-container');\n",
              "if (notebookContainer) {{\n",
              "    x.observe(notebookContainer, {childList: true});\n",
              "}}\n",
              "\n",
              "// Listen for the clearing of the current output cell\n",
              "var outputEl = gd.closest('.output');\n",
              "if (outputEl) {{\n",
              "    x.observe(outputEl, {childList: true});\n",
              "}}\n",
              "\n",
              "                        })\n",
              "                };\n",
              "                });\n",
              "            </script>\n",
              "        </div>"
            ]
          },
          "metadata": {},
          "output_type": "display_data"
        }
      ],
      "source": [
        "import plotly.express as px\n",
        "data = dict(\n",
        "    number=[1063,619,135,60,44,41,40,40,38,35],\n",
        "    country=[\"United States\", \"India\", \"United Kingdom\", \"Canada\", \"Spain\",'Turkey','Philippines','France','South Korea','Australia'])\n",
        "fig = px.funnel(data, x='number', y='country')\n",
        "fig.show()"
      ]
    },
    {
      "cell_type": "markdown",
      "metadata": {
        "papermill": {
          "duration": 0.073791,
          "end_time": "2021-02-25T06:30:05.880968",
          "exception": false,
          "start_time": "2021-02-25T06:30:05.807177",
          "status": "completed"
        },
        "tags": [],
        "id": "YY8c278fRjm9"
      },
      "source": [
        "# Year wise analysis"
      ]
    },
    {
      "cell_type": "code",
      "execution_count": null,
      "metadata": {
        "papermill": {
          "duration": 0.481843,
          "end_time": "2021-02-25T06:30:06.437250",
          "exception": false,
          "start_time": "2021-02-25T06:30:05.955407",
          "status": "completed"
        },
        "tags": [],
        "id": "ZTBfQPvHRjm9",
        "outputId": "eda8605f-c548-4a0c-9c5f-cd49690f4753"
      },
      "outputs": [
        {
          "data": {
            "image/png": "[encoded data removed]",
            "text/plain": [
              "<Figure size 864x720 with 1 Axes>"
            ]
          },
          "metadata": {},
          "output_type": "display_data"
        }
      ],
      "source": [
        "plt.figure(figsize=(12,10))\n",
        "sns.set(style=\"darkgrid\")\n",
        "ax = sns.countplot(y=\"release_year\", data=netflix_movies, palette=\"Set2\", order=netflix_movies['release_year'].value_counts().index[0:15])"
      ]
    },
    {
      "cell_type": "markdown",
      "metadata": {
        "papermill": {
          "duration": 0.076723,
          "end_time": "2021-02-25T06:30:06.588236",
          "exception": false,
          "start_time": "2021-02-25T06:30:06.511513",
          "status": "completed"
        },
        "tags": [],
        "id": "5J23Bu3eRjm-"
      },
      "source": [
        "So, 2017 was the year when most of the movies were released."
      ]
    },
    {
      "cell_type": "code",
      "execution_count": null,
      "metadata": {
        "_kg_hide-input": true,
        "_kg_hide-output": true,
        "papermill": {
          "duration": 0.122379,
          "end_time": "2021-02-25T06:30:06.786166",
          "exception": false,
          "start_time": "2021-02-25T06:30:06.663787",
          "status": "completed"
        },
        "tags": [],
        "id": "U-D0jLujRjm-",
        "outputId": "2096b0c5-3e79-4c95-f38c-bae38209a25a"
      },
      "outputs": [
        {
          "name": "stderr",
          "output_type": "stream",
          "text": [
            "/opt/conda/lib/python3.7/site-packages/ipykernel_launcher.py:2: SettingWithCopyWarning:\n",
            "\n",
            "\n",
            "A value is trying to be set on a copy of a slice from a DataFrame.\n",
            "Try using .loc[row_indexer,col_indexer] = value instead\n",
            "\n",
            "See the caveats in the documentation: https://pandas.pydata.org/pandas-docs/stable/user_guide/indexing.html#returning-a-view-versus-a-copy\n",
            "\n"
          ]
        }
      ],
      "source": [
        "countries={}\n",
        "netflix_movies['country']=netflix_movies['country'].fillna('Unknown')\n",
        "cou=list(netflix_movies['country'])\n",
        "for i in cou:\n",
        "    #print(i)\n",
        "    i=list(i.split(','))\n",
        "    if len(i)==1:\n",
        "        if i in list(countries.keys()):\n",
        "            countries[i]+=1\n",
        "        else:\n",
        "            countries[i[0]]=1\n",
        "    else:\n",
        "        for j in i:\n",
        "            if j in list(countries.keys()):\n",
        "                countries[j]+=1\n",
        "            else:\n",
        "                countries[j]=1"
      ]
    },
    {
      "cell_type": "code",
      "execution_count": null,
      "metadata": {
        "_kg_hide-input": true,
        "_kg_hide-output": true,
        "papermill": {
          "duration": 0.088951,
          "end_time": "2021-02-25T06:30:06.950351",
          "exception": false,
          "start_time": "2021-02-25T06:30:06.861400",
          "status": "completed"
        },
        "tags": [],
        "id": "8UAiQE31Rjm-"
      },
      "outputs": [],
      "source": [
        "countries_fin={}\n",
        "for country,no in countries.items():\n",
        "    country=country.replace(' ','')\n",
        "    if country in list(countries_fin.keys()):\n",
        "        countries_fin[country]+=no\n",
        "    else:\n",
        "        countries_fin[country]=no\n",
        "        \n",
        "countries_fin={k: v for k, v in sorted(countries_fin.items(), key=lambda item: item[1], reverse= True)}\n"
      ]
    },
    {
      "cell_type": "markdown",
      "metadata": {
        "papermill": {
          "duration": 0.076366,
          "end_time": "2021-02-25T06:30:07.102328",
          "exception": false,
          "start_time": "2021-02-25T06:30:07.025962",
          "status": "completed"
        },
        "tags": [],
        "id": "dM_UiJA3Rjm-"
      },
      "source": [
        "# TOP 10 MOVIE CONTENT CREATING COUNTRIES"
      ]
    },
    {
      "cell_type": "code",
      "execution_count": null,
      "metadata": {
        "_kg_hide-input": true,
        "_kg_hide-output": true,
        "papermill": {
          "duration": 0.357813,
          "end_time": "2021-02-25T06:30:07.538356",
          "exception": false,
          "start_time": "2021-02-25T06:30:07.180543",
          "status": "completed"
        },
        "tags": [],
        "id": "CdJA7b-ERjm_",
        "outputId": "79e84b42-5dba-469e-93f2-08aa5688ee8d"
      },
      "outputs": [
        {
          "data": {
            "text/plain": [
              "[Text(0, 0, 'UnitedStates'),\n",
              " Text(0, 0, 'France'),\n",
              " Text(0, 0, 'UnitedKingdom'),\n",
              " Text(0, 0, 'Canada'),\n",
              " Text(0, 0, 'Germany'),\n",
              " Text(0, 0, 'Belgium'),\n",
              " Text(0, 0, 'China'),\n",
              " Text(0, 0, 'Spain'),\n",
              " Text(0, 0, 'India'),\n",
              " Text(0, 0, 'Japan')]"
            ]
          },
          "execution_count": 18,
          "metadata": {},
          "output_type": "execute_result"
        },
        {
          "data": {
            "image/png": "[encoded data removed]",
            "text/plain": [
              "<Figure size 576x576 with 1 Axes>"
            ]
          },
          "metadata": {},
          "output_type": "display_data"
        }
      ],
      "source": [
        "plt.figure(figsize=(8,8))\n",
        "ax = sns.barplot(x=list(countries_fin.keys())[0:10],y=list(countries_fin.values())[0:10])\n",
        "ax.set_xticklabels(list(countries_fin.keys())[0:10],rotation = 90)\n"
      ]
    },
    {
      "cell_type": "markdown",
      "metadata": {
        "papermill": {
          "duration": 0.077104,
          "end_time": "2021-02-25T06:30:07.691900",
          "exception": false,
          "start_time": "2021-02-25T06:30:07.614796",
          "status": "completed"
        },
        "tags": [],
        "id": "8ysG4EU5Rjm_"
      },
      "source": [
        "# Analysis of duration of movies"
      ]
    },
    {
      "cell_type": "code",
      "execution_count": null,
      "metadata": {
        "_kg_hide-input": true,
        "_kg_hide-output": true,
        "papermill": {
          "duration": 0.104963,
          "end_time": "2021-02-25T06:30:07.874601",
          "exception": false,
          "start_time": "2021-02-25T06:30:07.769638",
          "status": "completed"
        },
        "tags": [],
        "id": "FcW6fggBRjm_",
        "outputId": "841e1e1f-0b1b-4bb7-ae2b-f397f55693bf"
      },
      "outputs": [
        {
          "name": "stderr",
          "output_type": "stream",
          "text": [
            "/opt/conda/lib/python3.7/site-packages/ipykernel_launcher.py:1: SettingWithCopyWarning:\n",
            "\n",
            "\n",
            "A value is trying to be set on a copy of a slice from a DataFrame.\n",
            "Try using .loc[row_indexer,col_indexer] = value instead\n",
            "\n",
            "See the caveats in the documentation: https://pandas.pydata.org/pandas-docs/stable/user_guide/indexing.html#returning-a-view-versus-a-copy\n",
            "\n",
            "/opt/conda/lib/python3.7/site-packages/ipykernel_launcher.py:2: SettingWithCopyWarning:\n",
            "\n",
            "\n",
            "A value is trying to be set on a copy of a slice from a DataFrame.\n",
            "Try using .loc[row_indexer,col_indexer] = value instead\n",
            "\n",
            "See the caveats in the documentation: https://pandas.pydata.org/pandas-docs/stable/user_guide/indexing.html#returning-a-view-versus-a-copy\n",
            "\n"
          ]
        },
        {
          "data": {
            "text/plain": [
              "1        93\n",
              "2        78\n",
              "3        80\n",
              "4       123\n",
              "6        95\n",
              "       ... \n",
              "7781     88\n",
              "7782     99\n",
              "7783    111\n",
              "7784     44\n",
              "7786     90\n",
              "Name: duration, Length: 5377, dtype: int64"
            ]
          },
          "execution_count": 19,
          "metadata": {},
          "output_type": "execute_result"
        }
      ],
      "source": [
        "netflix_movies['duration']=netflix_movies['duration'].str.replace(' min','')\n",
        "netflix_movies['duration']=netflix_movies['duration'].astype(str).astype(int)\n",
        "netflix_movies['duration']"
      ]
    },
    {
      "cell_type": "code",
      "execution_count": null,
      "metadata": {
        "papermill": {
          "duration": 0.391059,
          "end_time": "2021-02-25T06:30:08.344543",
          "exception": false,
          "start_time": "2021-02-25T06:30:07.953484",
          "status": "completed"
        },
        "tags": [],
        "id": "CFvDZHs9Rjm_",
        "outputId": "d46a9757-f965-4ac2-928e-e470a561b59e"
      },
      "outputs": [
        {
          "data": {
            "text/plain": [
              "<matplotlib.axes._subplots.AxesSubplot at 0x7f94996b4290>"
            ]
          },
          "execution_count": 20,
          "metadata": {},
          "output_type": "execute_result"
        },
        {
          "data": {
            "image/png": "[encoded data removed]",
            "text/plain": [
              "<Figure size 432x288 with 1 Axes>"
            ]
          },
          "metadata": {},
          "output_type": "display_data"
        }
      ],
      "source": [
        "sns.set(style=\"darkgrid\")\n",
        "sns.kdeplot(data=netflix_movies['duration'], shade=True)"
      ]
    },
    {
      "cell_type": "markdown",
      "metadata": {
        "papermill": {
          "duration": 0.079518,
          "end_time": "2021-02-25T06:30:08.504644",
          "exception": false,
          "start_time": "2021-02-25T06:30:08.425126",
          "status": "completed"
        },
        "tags": [],
        "id": "yjf_zYY-Rjm_"
      },
      "source": [
        "So, a good amount of movies on Netflix are among the duration of 75-120 mins. It is acceptable considering the fact that a fair amount of the audience cannot watch a 3 hour movie in one sitting. Can you? :p"
      ]
    },
    {
      "cell_type": "code",
      "execution_count": null,
      "metadata": {
        "_kg_hide-input": true,
        "papermill": {
          "duration": 0.103304,
          "end_time": "2021-02-25T06:30:08.688301",
          "exception": false,
          "start_time": "2021-02-25T06:30:08.584997",
          "status": "completed"
        },
        "tags": [],
        "id": "Z12ktvS3RjnA"
      },
      "outputs": [],
      "source": [
        "from collections import Counter\n",
        "\n",
        "genres=list(netflix_movies['listed_in'])\n",
        "gen=[]\n",
        "\n",
        "for i in genres:\n",
        "    i=list(i.split(','))\n",
        "    for j in i:\n",
        "        gen.append(j.replace(' ',\"\"))\n",
        "g=Counter(gen)"
      ]
    },
    {
      "cell_type": "markdown",
      "metadata": {
        "papermill": {
          "duration": 0.080166,
          "end_time": "2021-02-25T06:30:08.850066",
          "exception": false,
          "start_time": "2021-02-25T06:30:08.769900",
          "status": "completed"
        },
        "tags": [],
        "id": "7dDul1zFRjnA"
      },
      "source": [
        "# WordCloud for Genres."
      ]
    },
    {
      "cell_type": "code",
      "execution_count": null,
      "metadata": {
        "papermill": {
          "duration": 1.35201,
          "end_time": "2021-02-25T06:30:10.284395",
          "exception": false,
          "start_time": "2021-02-25T06:30:08.932385",
          "status": "completed"
        },
        "tags": [],
        "id": "Ot4qOuSORjnA",
        "outputId": "d9cf18eb-876f-4364-b65d-bd17557be4d6"
      },
      "outputs": [
        {
          "data": {
            "image/png": "[encoded data removed]",
            "text/plain": [
              "<Figure size 936x936 with 1 Axes>"
            ]
          },
          "metadata": {},
          "output_type": "display_data"
        }
      ],
      "source": [
        "from wordcloud import WordCloud, STOPWORDS, ImageColorGenerator\n",
        "from PIL import Image\n",
        "\n",
        "text = list(set(gen))\n",
        "plt.rcParams['figure.figsize'] = (13, 13)\n",
        "\n",
        "#assigning shape to the word cloud\n",
        "mask = np.array(Image.open('../input/masks/star.png'))\n",
        "wordcloud = WordCloud(max_words=1000000,background_color=\"white\",mask=mask).generate(str(text))\n",
        "\n",
        "plt.imshow(wordcloud,interpolation=\"bilinear\")\n",
        "plt.axis(\"off\")\n",
        "plt.show()"
      ]
    },
    {
      "cell_type": "markdown",
      "metadata": {
        "papermill": {
          "duration": 0.082708,
          "end_time": "2021-02-25T06:30:10.451358",
          "exception": false,
          "start_time": "2021-02-25T06:30:10.368650",
          "status": "completed"
        },
        "tags": [],
        "id": "5rAaFSsoRjnA"
      },
      "source": [
        "# Lollipop plot of Genres vs their count on Netflix"
      ]
    },
    {
      "cell_type": "code",
      "execution_count": null,
      "metadata": {
        "papermill": {
          "duration": 0.656359,
          "end_time": "2021-02-25T06:30:11.191421",
          "exception": false,
          "start_time": "2021-02-25T06:30:10.535062",
          "status": "completed"
        },
        "tags": [],
        "id": "8pZiOS1vRjnA",
        "outputId": "8a5bd0fc-0b01-4506-dbbf-4dc80cefe337"
      },
      "outputs": [
        {
          "data": {
            "image/png": "[encoded data removed]",
            "text/plain": [
              "<Figure size 936x936 with 1 Axes>"
            ]
          },
          "metadata": {},
          "output_type": "display_data"
        },
        {
          "data": {
            "text/plain": [
              "<Figure size 720x720 with 0 Axes>"
            ]
          },
          "metadata": {},
          "output_type": "display_data"
        }
      ],
      "source": [
        "g={k: v for k, v in sorted(g.items(), key=lambda item: item[1], reverse= True)}\n",
        "\n",
        "\n",
        "fig, ax = plt.subplots()\n",
        "\n",
        "fig = plt.figure(figsize = (10, 10))\n",
        "x=list(g.keys())\n",
        "y=list(g.values())\n",
        "ax.vlines(x, ymin=0, ymax=y, color='green')\n",
        "ax.plot(x,y, \"o\", color='maroon')\n",
        "ax.set_xticklabels(x, rotation = 90)\n",
        "ax.set_ylabel(\"Count of movies\")\n",
        "# set a title\n",
        "ax.set_title(\"Genres\");"
      ]
    },
    {
      "cell_type": "markdown",
      "metadata": {
        "papermill": {
          "duration": 0.084998,
          "end_time": "2021-02-25T06:30:11.361515",
          "exception": false,
          "start_time": "2021-02-25T06:30:11.276517",
          "status": "completed"
        },
        "tags": [],
        "id": "jDBFQZ1sRjnA"
      },
      "source": [
        "Therefore, it is clear that international movies, dramas and comedies are the top three genres that have the highest amount of content on Netflix."
      ]
    },
    {
      "cell_type": "markdown",
      "metadata": {
        "papermill": {
          "duration": 0.084417,
          "end_time": "2021-02-25T06:30:11.530870",
          "exception": false,
          "start_time": "2021-02-25T06:30:11.446453",
          "status": "completed"
        },
        "tags": [],
        "id": "3wx3P2ioRjnA"
      },
      "source": [
        "# Analysis of TV SERIES on Netflix"
      ]
    },
    {
      "cell_type": "code",
      "execution_count": null,
      "metadata": {
        "_kg_hide-input": true,
        "_kg_hide-output": true,
        "papermill": {
          "duration": 0.112221,
          "end_time": "2021-02-25T06:30:11.728190",
          "exception": false,
          "start_time": "2021-02-25T06:30:11.615969",
          "status": "completed"
        },
        "tags": [],
        "id": "V5slNKCKRjnA",
        "outputId": "0df69e1f-555d-4d15-f5d9-5d8f304be470"
      },
      "outputs": [
        {
          "name": "stderr",
          "output_type": "stream",
          "text": [
            "/opt/conda/lib/python3.7/site-packages/ipykernel_launcher.py:2: SettingWithCopyWarning:\n",
            "\n",
            "\n",
            "A value is trying to be set on a copy of a slice from a DataFrame.\n",
            "Try using .loc[row_indexer,col_indexer] = value instead\n",
            "\n",
            "See the caveats in the documentation: https://pandas.pydata.org/pandas-docs/stable/user_guide/indexing.html#returning-a-view-versus-a-copy\n",
            "\n"
          ]
        }
      ],
      "source": [
        "countries1={}\n",
        "netflix_shows['country']=netflix_shows['country'].fillna('Unknown')\n",
        "cou1=list(netflix_shows['country'])\n",
        "for i in cou1:\n",
        "    #print(i)\n",
        "    i=list(i.split(','))\n",
        "    if len(i)==1:\n",
        "        if i in list(countries1.keys()):\n",
        "            countries1[i]+=1\n",
        "        else:\n",
        "            countries1[i[0]]=1\n",
        "    else:\n",
        "        for j in i:\n",
        "            if j in list(countries1.keys()):\n",
        "                countries1[j]+=1\n",
        "            else:\n",
        "                countries1[j]=1"
      ]
    },
    {
      "cell_type": "code",
      "execution_count": null,
      "metadata": {
        "_kg_hide-input": true,
        "_kg_hide-output": true,
        "papermill": {
          "duration": 0.097673,
          "end_time": "2021-02-25T06:30:11.912218",
          "exception": false,
          "start_time": "2021-02-25T06:30:11.814545",
          "status": "completed"
        },
        "tags": [],
        "id": "nTjLtlekRjnB"
      },
      "outputs": [],
      "source": [
        "countries_fin1={}\n",
        "for country,no in countries1.items():\n",
        "    country=country.replace(' ','')\n",
        "    if country in list(countries_fin1.keys()):\n",
        "        countries_fin1[country]+=no\n",
        "    else:\n",
        "        countries_fin1[country]=no\n",
        "        \n",
        "countries_fin1={k: v for k, v in sorted(countries_fin1.items(), key=lambda item: item[1], reverse= True)}\n"
      ]
    },
    {
      "cell_type": "markdown",
      "metadata": {
        "papermill": {
          "duration": 0.086108,
          "end_time": "2021-02-25T06:30:12.088851",
          "exception": false,
          "start_time": "2021-02-25T06:30:12.002743",
          "status": "completed"
        },
        "tags": [],
        "id": "wyOA5reSRjnB"
      },
      "source": [
        "# Most content creating countries"
      ]
    },
    {
      "cell_type": "code",
      "execution_count": null,
      "metadata": {
        "papermill": {
          "duration": 1.305106,
          "end_time": "2021-02-25T06:30:13.485526",
          "exception": false,
          "start_time": "2021-02-25T06:30:12.180420",
          "status": "completed"
        },
        "tags": [],
        "id": "DPa0f0oNRjnC",
        "outputId": "f75a5439-a012-4722-f40f-a823d5652d1a"
      },
      "outputs": [
        {
          "data": {
            "text/plain": [
              "Text(0, 0.5, 'Arrival delay (in minutes)')"
            ]
          },
          "execution_count": 26,
          "metadata": {},
          "output_type": "execute_result"
        },
        {
          "data": {
            "image/png": "[encoded data removed]",
            "text/plain": [
              "<Figure size 1080x1080 with 1 Axes>"
            ]
          },
          "metadata": {},
          "output_type": "display_data"
        }
      ],
      "source": [
        "# Set the width and height of the figure\n",
        "plt.figure(figsize=(15,15))\n",
        "\n",
        "# Add title\n",
        "plt.title(\"Content creating countries\")\n",
        "\n",
        "# Bar chart showing average arrival delay for Spirit Airlines flights by month\n",
        "sns.barplot(y=list(countries_fin1.keys()), x=list(countries_fin1.values()))\n",
        "\n",
        "# Add label for vertical axis\n",
        "plt.ylabel(\"Arrival delay (in minutes)\")"
      ]
    },
    {
      "cell_type": "markdown",
      "metadata": {
        "papermill": {
          "duration": 0.08838,
          "end_time": "2021-02-25T06:30:13.672995",
          "exception": false,
          "start_time": "2021-02-25T06:30:13.584615",
          "status": "completed"
        },
        "tags": [],
        "id": "c3SBlxvpRjnC"
      },
      "source": [
        "Naturally, United States has the most content that is created on netflix in the tv series category."
      ]
    },
    {
      "cell_type": "code",
      "execution_count": null,
      "metadata": {
        "_kg_hide-input": true,
        "_kg_hide-output": true,
        "papermill": {
          "duration": 0.110229,
          "end_time": "2021-02-25T06:30:13.875038",
          "exception": false,
          "start_time": "2021-02-25T06:30:13.764809",
          "status": "completed"
        },
        "tags": [],
        "id": "MOrvCsLYRjnC",
        "outputId": "7437251e-ac30-4f7d-96af-f6a10e9e1b1b"
      },
      "outputs": [
        {
          "name": "stderr",
          "output_type": "stream",
          "text": [
            "/opt/conda/lib/python3.7/site-packages/ipykernel_launcher.py:4: SettingWithCopyWarning:\n",
            "\n",
            "\n",
            "A value is trying to be set on a copy of a slice from a DataFrame.\n",
            "Try using .loc[row_indexer,col_indexer] = value instead\n",
            "\n",
            "See the caveats in the documentation: https://pandas.pydata.org/pandas-docs/stable/user_guide/indexing.html#returning-a-view-versus-a-copy\n",
            "\n",
            "/opt/conda/lib/python3.7/site-packages/ipykernel_launcher.py:7: SettingWithCopyWarning:\n",
            "\n",
            "\n",
            "A value is trying to be set on a copy of a slice from a DataFrame.\n",
            "Try using .loc[row_indexer,col_indexer] = value instead\n",
            "\n",
            "See the caveats in the documentation: https://pandas.pydata.org/pandas-docs/stable/user_guide/indexing.html#returning-a-view-versus-a-copy\n",
            "\n"
          ]
        }
      ],
      "source": [
        "features=['title','duration']\n",
        "durations= netflix_shows[features]\n",
        "\n",
        "durations['no_of_seasons']=durations['duration'].str.replace(' Season','')\n",
        "\n",
        "#durations['no_of_seasons']=durations['no_of_seasons'].astype(str).astype(int)\n",
        "durations['no_of_seasons']=durations['no_of_seasons'].str.replace('s','')"
      ]
    },
    {
      "cell_type": "code",
      "execution_count": null,
      "metadata": {
        "_kg_hide-input": true,
        "_kg_hide-output": true,
        "papermill": {
          "duration": 0.10696,
          "end_time": "2021-02-25T06:30:14.073856",
          "exception": false,
          "start_time": "2021-02-25T06:30:13.966896",
          "status": "completed"
        },
        "tags": [],
        "id": "86i-prDCRjnC",
        "outputId": "c0de5a9b-c22f-49e9-b58a-b15065401f79"
      },
      "outputs": [
        {
          "name": "stderr",
          "output_type": "stream",
          "text": [
            "/opt/conda/lib/python3.7/site-packages/ipykernel_launcher.py:1: SettingWithCopyWarning:\n",
            "\n",
            "\n",
            "A value is trying to be set on a copy of a slice from a DataFrame.\n",
            "Try using .loc[row_indexer,col_indexer] = value instead\n",
            "\n",
            "See the caveats in the documentation: https://pandas.pydata.org/pandas-docs/stable/user_guide/indexing.html#returning-a-view-versus-a-copy\n",
            "\n"
          ]
        }
      ],
      "source": [
        "durations['no_of_seasons']=durations['no_of_seasons'].astype(str).astype(int)\n"
      ]
    },
    {
      "cell_type": "markdown",
      "metadata": {
        "papermill": {
          "duration": 0.088687,
          "end_time": "2021-02-25T06:30:14.253507",
          "exception": false,
          "start_time": "2021-02-25T06:30:14.164820",
          "status": "completed"
        },
        "tags": [],
        "id": "TtVP6PweRjnD"
      },
      "source": [
        "# TV shows with largest number of seasons"
      ]
    },
    {
      "cell_type": "code",
      "execution_count": null,
      "metadata": {
        "_kg_hide-input": true,
        "_kg_hide-output": true,
        "papermill": {
          "duration": 0.10144,
          "end_time": "2021-02-25T06:30:14.444293",
          "exception": false,
          "start_time": "2021-02-25T06:30:14.342853",
          "status": "completed"
        },
        "tags": [],
        "id": "dwptx8xaRjnD"
      },
      "outputs": [],
      "source": [
        "t=['title','no_of_seasons']\n",
        "top=durations[t]\n",
        "\n",
        "top=top.sort_values(by='no_of_seasons', ascending=False)"
      ]
    },
    {
      "cell_type": "code",
      "execution_count": null,
      "metadata": {
        "papermill": {
          "duration": 0.589975,
          "end_time": "2021-02-25T06:30:15.124975",
          "exception": false,
          "start_time": "2021-02-25T06:30:14.535000",
          "status": "completed"
        },
        "tags": [],
        "id": "Db7fIH6HRjnD",
        "outputId": "cb31f89f-9e05-4e1e-9dcf-15b07ccb9b74"
      },
      "outputs": [
        {
          "data": {
            "text/plain": [
              "<matplotlib.axes._subplots.AxesSubplot at 0x7f9498ae8e90>"
            ]
          },
          "execution_count": 30,
          "metadata": {},
          "output_type": "execute_result"
        },
        {
          "data": {
            "image/png": "[encoded data removed]",
            "text/plain": [
              "<Figure size 936x936 with 1 Axes>"
            ]
          },
          "metadata": {},
          "output_type": "display_data"
        }
      ],
      "source": [
        "top20=top[0:20]\n",
        "top20.plot(kind='bar',x='title',y='no_of_seasons', color='red')"
      ]
    },
    {
      "cell_type": "markdown",
      "metadata": {
        "papermill": {
          "duration": 0.091447,
          "end_time": "2021-02-25T06:30:15.307721",
          "exception": false,
          "start_time": "2021-02-25T06:30:15.216274",
          "status": "completed"
        },
        "tags": [],
        "id": "GCEe9vmuRjnD"
      },
      "source": [
        "Thus, NCIS, Grey's Anatomy and Supernatural are amongst the tv series that have highest number of seasons."
      ]
    },
    {
      "cell_type": "markdown",
      "metadata": {
        "papermill": {
          "duration": 0.093978,
          "end_time": "2021-02-25T06:30:15.493707",
          "exception": false,
          "start_time": "2021-02-25T06:30:15.399729",
          "status": "completed"
        },
        "tags": [],
        "id": "AXG031dPRjnD"
      },
      "source": [
        "# Lowest number of seasons."
      ]
    },
    {
      "cell_type": "code",
      "execution_count": null,
      "metadata": {
        "papermill": {
          "duration": 0.257679,
          "end_time": "2021-02-25T06:30:15.843434",
          "exception": false,
          "start_time": "2021-02-25T06:30:15.585755",
          "status": "completed"
        },
        "tags": [],
        "id": "PBr_9dclRjnE",
        "outputId": "80f1bde2-60db-4c5c-d8af-43b0f0ed87b0"
      },
      "outputs": [
        {
          "data": {
            "text/html": [
              "<div>\n",
              "        \n",
              "        \n",
              "            <div id=\"a0280462-b76b-4068-bbff-d450ac1eceab\" class=\"plotly-graph-div\" style=\"height:525px; width:100%;\"></div>\n",
              "            <script type=\"text/javascript\">\n",
              "                require([\"plotly\"], function(Plotly) {\n",
              "                    window.PLOTLYENV=window.PLOTLYENV || {};\n",
              "                    \n",
              "                if (document.getElementById(\"a0280462-b76b-4068-bbff-d450ac1eceab\")) {\n",
              "                    Plotly.newPlot(\n",
              "                        'a0280462-b76b-4068-bbff-d450ac1eceab',\n",
              "                        [{\"cells\": {\"fill\": {\"color\": \"lavender\"}, \"values\": [[\"Rapture\", \"Revolting Rhymes\", \"Kevin Hart: Don\\u2019t F**k This Up\", \"Killer Inside: The Mind of Aaron Hernandez\", \"Kill la Kill\", \"Drug Squad: Costa del Sol\", \"Kid-E-Cats\", \"Kicko & Super Speedo\", \"Drugs, Inc.\", \"Khotey Sikkey\", \"Khelti Hai Zindagi Aankh Micholi\", \"Khan: No. 1 Crime Hunter\", \"Khaani\", \"Due\\u00f1os del para\\u00edso\", \"Kuroko's Basketball\", \"Kulipari: Dream Walker\", \"Kulipari: An Army of Frogs\", \"Krishna Balram\", \"Japanese Style Originator\", \"Japan Sinks: 2020\", \"El Cartel 2\", \"Jamtara - Sabka Number Ayega\", \"James Acaster: Repertoire\", \"Jailbirds\", \"El Chavo\", \"Jack Taylor\", \"J-Style Trip\", \"Izzy's Koala World\", \"Itaewon Class\", \"Jenni Rivera: Mariposa de Barrio\"], [1, 1, 1, 1, 1, 1, 1, 1, 1, 1, 1, 1, 1, 1, 1, 1, 1, 1, 1, 1, 1, 1, 1, 1, 1, 1, 1, 1, 1, 1]]}, \"header\": {\"values\": [\"Title\", \"No of seasons\"]}, \"type\": \"table\"}],\n",
              "                        {\"template\": {\"data\": {\"bar\": [{\"error_x\": {\"color\": \"#2a3f5f\"}, \"error_y\": {\"color\": \"#2a3f5f\"}, \"marker\": {\"line\": {\"color\": \"#E5ECF6\", \"width\": 0.5}}, \"type\": \"bar\"}], \"barpolar\": [{\"marker\": {\"line\": {\"color\": \"#E5ECF6\", \"width\": 0.5}}, \"type\": \"barpolar\"}], \"carpet\": [{\"aaxis\": {\"endlinecolor\": \"#2a3f5f\", \"gridcolor\": \"white\", \"linecolor\": \"white\", \"minorgridcolor\": \"white\", \"startlinecolor\": \"#2a3f5f\"}, \"baxis\": {\"endlinecolor\": \"#2a3f5f\", \"gridcolor\": \"white\", \"linecolor\": \"white\", \"minorgridcolor\": \"white\", \"startlinecolor\": \"#2a3f5f\"}, \"type\": \"carpet\"}], \"choropleth\": [{\"colorbar\": {\"outlinewidth\": 0, \"ticks\": \"\"}, \"type\": \"choropleth\"}], \"contour\": [{\"colorbar\": {\"outlinewidth\": 0, \"ticks\": \"\"}, \"colorscale\": [[0.0, \"#0d0887\"], [0.1111111111111111, \"#46039f\"], [0.2222222222222222, \"#7201a8\"], [0.3333333333333333, \"#9c179e\"], [0.4444444444444444, \"#bd3786\"], [0.5555555555555556, \"#d8576b\"], [0.6666666666666666, \"#ed7953\"], [0.7777777777777778, \"#fb9f3a\"], [0.8888888888888888, \"#fdca26\"], [1.0, \"#f0f921\"]], \"type\": \"contour\"}], \"contourcarpet\": [{\"colorbar\": {\"outlinewidth\": 0, \"ticks\": \"\"}, \"type\": \"contourcarpet\"}], \"heatmap\": [{\"colorbar\": {\"outlinewidth\": 0, \"ticks\": \"\"}, \"colorscale\": [[0.0, \"#0d0887\"], [0.1111111111111111, \"#46039f\"], [0.2222222222222222, \"#7201a8\"], [0.3333333333333333, \"#9c179e\"], [0.4444444444444444, \"#bd3786\"], [0.5555555555555556, \"#d8576b\"], [0.6666666666666666, \"#ed7953\"], [0.7777777777777778, \"#fb9f3a\"], [0.8888888888888888, \"#fdca26\"], [1.0, \"#f0f921\"]], \"type\": \"heatmap\"}], \"heatmapgl\": [{\"colorbar\": {\"outlinewidth\": 0, \"ticks\": \"\"}, \"colorscale\": [[0.0, \"#0d0887\"], [0.1111111111111111, \"#46039f\"], [0.2222222222222222, \"#7201a8\"], [0.3333333333333333, \"#9c179e\"], [0.4444444444444444, \"#bd3786\"], [0.5555555555555556, \"#d8576b\"], [0.6666666666666666, \"#ed7953\"], [0.7777777777777778, \"#fb9f3a\"], [0.8888888888888888, \"#fdca26\"], [1.0, \"#f0f921\"]], \"type\": \"heatmapgl\"}], \"histogram\": [{\"marker\": {\"colorbar\": {\"outlinewidth\": 0, \"ticks\": \"\"}}, \"type\": \"histogram\"}], \"histogram2d\": [{\"colorbar\": {\"outlinewidth\": 0, \"ticks\": \"\"}, \"colorscale\": [[0.0, \"#0d0887\"], [0.1111111111111111, \"#46039f\"], [0.2222222222222222, \"#7201a8\"], [0.3333333333333333, \"#9c179e\"], [0.4444444444444444, \"#bd3786\"], [0.5555555555555556, \"#d8576b\"], [0.6666666666666666, \"#ed7953\"], [0.7777777777777778, \"#fb9f3a\"], [0.8888888888888888, \"#fdca26\"], [1.0, \"#f0f921\"]], \"type\": \"histogram2d\"}], \"histogram2dcontour\": [{\"colorbar\": {\"outlinewidth\": 0, \"ticks\": \"\"}, \"colorscale\": [[0.0, \"#0d0887\"], [0.1111111111111111, \"#46039f\"], [0.2222222222222222, \"#7201a8\"], [0.3333333333333333, \"#9c179e\"], [0.4444444444444444, \"#bd3786\"], [0.5555555555555556, \"#d8576b\"], [0.6666666666666666, \"#ed7953\"], [0.7777777777777778, \"#fb9f3a\"], [0.8888888888888888, \"#fdca26\"], [1.0, \"#f0f921\"]], \"type\": \"histogram2dcontour\"}], \"mesh3d\": [{\"colorbar\": {\"outlinewidth\": 0, \"ticks\": \"\"}, \"type\": \"mesh3d\"}], \"parcoords\": [{\"line\": {\"colorbar\": {\"outlinewidth\": 0, \"ticks\": \"\"}}, \"type\": \"parcoords\"}], \"pie\": [{\"automargin\": true, \"type\": \"pie\"}], \"scatter\": [{\"marker\": {\"colorbar\": {\"outlinewidth\": 0, \"ticks\": \"\"}}, \"type\": \"scatter\"}], \"scatter3d\": [{\"line\": {\"colorbar\": {\"outlinewidth\": 0, \"ticks\": \"\"}}, \"marker\": {\"colorbar\": {\"outlinewidth\": 0, \"ticks\": \"\"}}, \"type\": \"scatter3d\"}], \"scattercarpet\": [{\"marker\": {\"colorbar\": {\"outlinewidth\": 0, \"ticks\": \"\"}}, \"type\": \"scattercarpet\"}], \"scattergeo\": [{\"marker\": {\"colorbar\": {\"outlinewidth\": 0, \"ticks\": \"\"}}, \"type\": \"scattergeo\"}], \"scattergl\": [{\"marker\": {\"colorbar\": {\"outlinewidth\": 0, \"ticks\": \"\"}}, \"type\": \"scattergl\"}], \"scattermapbox\": [{\"marker\": {\"colorbar\": {\"outlinewidth\": 0, \"ticks\": \"\"}}, \"type\": \"scattermapbox\"}], \"scatterpolar\": [{\"marker\": {\"colorbar\": {\"outlinewidth\": 0, \"ticks\": \"\"}}, \"type\": \"scatterpolar\"}], \"scatterpolargl\": [{\"marker\": {\"colorbar\": {\"outlinewidth\": 0, \"ticks\": \"\"}}, \"type\": \"scatterpolargl\"}], \"scatterternary\": [{\"marker\": {\"colorbar\": {\"outlinewidth\": 0, \"ticks\": \"\"}}, \"type\": \"scatterternary\"}], \"surface\": [{\"colorbar\": {\"outlinewidth\": 0, \"ticks\": \"\"}, \"colorscale\": [[0.0, \"#0d0887\"], [0.1111111111111111, \"#46039f\"], [0.2222222222222222, \"#7201a8\"], [0.3333333333333333, \"#9c179e\"], [0.4444444444444444, \"#bd3786\"], [0.5555555555555556, \"#d8576b\"], [0.6666666666666666, \"#ed7953\"], [0.7777777777777778, \"#fb9f3a\"], [0.8888888888888888, \"#fdca26\"], [1.0, \"#f0f921\"]], \"type\": \"surface\"}], \"table\": [{\"cells\": {\"fill\": {\"color\": \"#EBF0F8\"}, \"line\": {\"color\": \"white\"}}, \"header\": {\"fill\": {\"color\": \"#C8D4E3\"}, \"line\": {\"color\": \"white\"}}, \"type\": \"table\"}]}, \"layout\": {\"annotationdefaults\": {\"arrowcolor\": \"#2a3f5f\", \"arrowhead\": 0, \"arrowwidth\": 1}, \"coloraxis\": {\"colorbar\": {\"outlinewidth\": 0, \"ticks\": \"\"}}, \"colorscale\": {\"diverging\": [[0, \"#8e0152\"], [0.1, \"#c51b7d\"], [0.2, \"#de77ae\"], [0.3, \"#f1b6da\"], [0.4, \"#fde0ef\"], [0.5, \"#f7f7f7\"], [0.6, \"#e6f5d0\"], [0.7, \"#b8e186\"], [0.8, \"#7fbc41\"], [0.9, \"#4d9221\"], [1, \"#276419\"]], \"sequential\": [[0.0, \"#0d0887\"], [0.1111111111111111, \"#46039f\"], [0.2222222222222222, \"#7201a8\"], [0.3333333333333333, \"#9c179e\"], [0.4444444444444444, \"#bd3786\"], [0.5555555555555556, \"#d8576b\"], [0.6666666666666666, \"#ed7953\"], [0.7777777777777778, \"#fb9f3a\"], [0.8888888888888888, \"#fdca26\"], [1.0, \"#f0f921\"]], \"sequentialminus\": [[0.0, \"#0d0887\"], [0.1111111111111111, \"#46039f\"], [0.2222222222222222, \"#7201a8\"], [0.3333333333333333, \"#9c179e\"], [0.4444444444444444, \"#bd3786\"], [0.5555555555555556, \"#d8576b\"], [0.6666666666666666, \"#ed7953\"], [0.7777777777777778, \"#fb9f3a\"], [0.8888888888888888, \"#fdca26\"], [1.0, \"#f0f921\"]]}, \"colorway\": [\"#636efa\", \"#EF553B\", \"#00cc96\", \"#ab63fa\", \"#FFA15A\", \"#19d3f3\", \"#FF6692\", \"#B6E880\", \"#FF97FF\", \"#FECB52\"], \"font\": {\"color\": \"#2a3f5f\"}, \"geo\": {\"bgcolor\": \"white\", \"lakecolor\": \"white\", \"landcolor\": \"#E5ECF6\", \"showlakes\": true, \"showland\": true, \"subunitcolor\": \"white\"}, \"hoverlabel\": {\"align\": \"left\"}, \"hovermode\": \"closest\", \"mapbox\": {\"style\": \"light\"}, \"paper_bgcolor\": \"white\", \"plot_bgcolor\": \"#E5ECF6\", \"polar\": {\"angularaxis\": {\"gridcolor\": \"white\", \"linecolor\": \"white\", \"ticks\": \"\"}, \"bgcolor\": \"#E5ECF6\", \"radialaxis\": {\"gridcolor\": \"white\", \"linecolor\": \"white\", \"ticks\": \"\"}}, \"scene\": {\"xaxis\": {\"backgroundcolor\": \"#E5ECF6\", \"gridcolor\": \"white\", \"gridwidth\": 2, \"linecolor\": \"white\", \"showbackground\": true, \"ticks\": \"\", \"zerolinecolor\": \"white\"}, \"yaxis\": {\"backgroundcolor\": \"#E5ECF6\", \"gridcolor\": \"white\", \"gridwidth\": 2, \"linecolor\": \"white\", \"showbackground\": true, \"ticks\": \"\", \"zerolinecolor\": \"white\"}, \"zaxis\": {\"backgroundcolor\": \"#E5ECF6\", \"gridcolor\": \"white\", \"gridwidth\": 2, \"linecolor\": \"white\", \"showbackground\": true, \"ticks\": \"\", \"zerolinecolor\": \"white\"}}, \"shapedefaults\": {\"line\": {\"color\": \"#2a3f5f\"}}, \"ternary\": {\"aaxis\": {\"gridcolor\": \"white\", \"linecolor\": \"white\", \"ticks\": \"\"}, \"baxis\": {\"gridcolor\": \"white\", \"linecolor\": \"white\", \"ticks\": \"\"}, \"bgcolor\": \"#E5ECF6\", \"caxis\": {\"gridcolor\": \"white\", \"linecolor\": \"white\", \"ticks\": \"\"}}, \"title\": {\"x\": 0.05}, \"xaxis\": {\"automargin\": true, \"gridcolor\": \"white\", \"linecolor\": \"white\", \"ticks\": \"\", \"title\": {\"standoff\": 15}, \"zerolinecolor\": \"white\", \"zerolinewidth\": 2}, \"yaxis\": {\"automargin\": true, \"gridcolor\": \"white\", \"linecolor\": \"white\", \"ticks\": \"\", \"title\": {\"standoff\": 15}, \"zerolinecolor\": \"white\", \"zerolinewidth\": 2}}}},\n",
              "                        {\"responsive\": true}\n",
              "                    ).then(function(){\n",
              "                            \n",
              "var gd = document.getElementById('a0280462-b76b-4068-bbff-d450ac1eceab');\n",
              "var x = new MutationObserver(function (mutations, observer) {{\n",
              "        var display = window.getComputedStyle(gd).display;\n",
              "        if (!display || display === 'none') {{\n",
              "            console.log([gd, 'removed!']);\n",
              "            Plotly.purge(gd);\n",
              "            observer.disconnect();\n",
              "        }}\n",
              "}});\n",
              "\n",
              "// Listen for the removal of the full notebook cells\n",
              "var notebookContainer = gd.closest('#notebook-container');\n",
              "if (notebookContainer) {{\n",
              "    x.observe(notebookContainer, {childList: true});\n",
              "}}\n",
              "\n",
              "// Listen for the clearing of the current output cell\n",
              "var outputEl = gd.closest('.output');\n",
              "if (outputEl) {{\n",
              "    x.observe(outputEl, {childList: true});\n",
              "}}\n",
              "\n",
              "                        })\n",
              "                };\n",
              "                });\n",
              "            </script>\n",
              "        </div>"
            ]
          },
          "metadata": {},
          "output_type": "display_data"
        }
      ],
      "source": [
        "bottom=top.sort_values(by='no_of_seasons')\n",
        "bottom=bottom[20:50]\n",
        "\n",
        "import plotly.graph_objects as go\n",
        "\n",
        "fig = go.Figure(data=[go.Table(header=dict(values=['Title', 'No of seasons']),\n",
        "                 cells=dict(values=[bottom['title'],bottom['no_of_seasons']],fill_color='lavender'))\n",
        "                     ])\n",
        "fig.show()"
      ]
    },
    {
      "cell_type": "markdown",
      "metadata": {
        "papermill": {
          "duration": 0.093526,
          "end_time": "2021-02-25T06:30:16.030288",
          "exception": false,
          "start_time": "2021-02-25T06:30:15.936762",
          "status": "completed"
        },
        "tags": [],
        "id": "3i1FpZPTRjnE"
      },
      "source": [
        "These are some binge-worthy shows that are short and have only one season."
      ]
    },
    {
      "cell_type": "code",
      "execution_count": null,
      "metadata": {
        "_kg_hide-input": true,
        "papermill": {
          "duration": 0.112881,
          "end_time": "2021-02-25T06:30:16.237593",
          "exception": false,
          "start_time": "2021-02-25T06:30:16.124712",
          "status": "completed"
        },
        "tags": [],
        "id": "juED7z7iRjnE"
      },
      "outputs": [],
      "source": [
        "genres=list(netflix_shows['listed_in'])\n",
        "gen=[]\n",
        "\n",
        "for i in genres:\n",
        "    i=list(i.split(','))\n",
        "    for j in i:\n",
        "        gen.append(j.replace(' ',\"\"))\n",
        "g=Counter(gen)"
      ]
    },
    {
      "cell_type": "markdown",
      "metadata": {
        "papermill": {
          "duration": 0.091452,
          "end_time": "2021-02-25T06:30:16.420835",
          "exception": false,
          "start_time": "2021-02-25T06:30:16.329383",
          "status": "completed"
        },
        "tags": [],
        "id": "nRM2iomTRjnE"
      },
      "source": [
        "# Word Cloud for Genres"
      ]
    },
    {
      "cell_type": "markdown",
      "metadata": {
        "papermill": {
          "duration": 0.091504,
          "end_time": "2021-02-25T06:30:16.605349",
          "exception": false,
          "start_time": "2021-02-25T06:30:16.513845",
          "status": "completed"
        },
        "tags": [],
        "id": "dlZ91CtBRjnE"
      },
      "source": [
        "A word cloud is an image made of words that together resemble a cloudy shape."
      ]
    },
    {
      "cell_type": "code",
      "execution_count": null,
      "metadata": {
        "papermill": {
          "duration": 8.387621,
          "end_time": "2021-02-25T06:30:25.084999",
          "exception": false,
          "start_time": "2021-02-25T06:30:16.697378",
          "status": "completed"
        },
        "tags": [],
        "id": "PsMn_Ud2RjnE",
        "outputId": "ac5eb3b0-efd4-4bfd-cf72-df6017986e98"
      },
      "outputs": [
        {
          "data": {
            "image/png": "[encoded data removed]",
            "text/plain": [
              "<Figure size 936x936 with 1 Axes>"
            ]
          },
          "metadata": {},
          "output_type": "display_data"
        }
      ],
      "source": [
        "from wordcloud import WordCloud, STOPWORDS, ImageColorGenerator\n",
        "\n",
        "text = list(set(gen))\n",
        "\n",
        "mask=np.array(Image.open('../input/masks/upvote.png'))\n",
        "wordcloud = WordCloud(max_words=1000000,background_color=\"black\",mask=mask).generate(str(text))\n",
        "plt.rcParams['figure.figsize'] = (13, 13)\n",
        "plt.imshow(wordcloud,interpolation=\"bilinear\")\n",
        "plt.axis(\"off\")\n",
        "plt.show()"
      ]
    },
    {
      "cell_type": "code",
      "execution_count": null,
      "metadata": {
        "papermill": {
          "duration": 0.108001,
          "end_time": "2021-02-25T06:30:25.290066",
          "exception": false,
          "start_time": "2021-02-25T06:30:25.182065",
          "status": "completed"
        },
        "tags": [],
        "id": "HtEmuwhzRjnF"
      },
      "outputs": [],
      "source": [
        "us_series_data=netflix_shows[netflix_shows['country']=='United States']"
      ]
    },
    {
      "cell_type": "code",
      "execution_count": null,
      "metadata": {
        "papermill": {
          "duration": 0.105145,
          "end_time": "2021-02-25T06:30:25.491446",
          "exception": false,
          "start_time": "2021-02-25T06:30:25.386301",
          "status": "completed"
        },
        "tags": [],
        "id": "YyfWG73ORjnF"
      },
      "outputs": [],
      "source": [
        "oldest_us_series=us_series_data.sort_values(by='release_year')[0:20]"
      ]
    },
    {
      "cell_type": "code",
      "execution_count": null,
      "metadata": {
        "papermill": {
          "duration": 0.258929,
          "end_time": "2021-02-25T06:30:25.846168",
          "exception": false,
          "start_time": "2021-02-25T06:30:25.587239",
          "status": "completed"
        },
        "tags": [],
        "id": "ja9GrU-PRjnF",
        "outputId": "8dd2e389-81a4-4397-e905-0313817cbcd0"
      },
      "outputs": [
        {
          "data": {
            "text/html": [
              "<div>\n",
              "        \n",
              "        \n",
              "            <div id=\"eaaca069-9b05-420b-8912-a36740c0c449\" class=\"plotly-graph-div\" style=\"height:525px; width:100%;\"></div>\n",
              "            <script type=\"text/javascript\">\n",
              "                require([\"plotly\"], function(Plotly) {\n",
              "                    window.PLOTLYENV=window.PLOTLYENV || {};\n",
              "                    \n",
              "                if (document.getElementById(\"eaaca069-9b05-420b-8912-a36740c0c449\")) {\n",
              "                    Plotly.newPlot(\n",
              "                        'eaaca069-9b05-420b-8912-a36740c0c449',\n",
              "                        [{\"cells\": {\"fill\": {\"color\": \"pink\"}, \"values\": [[\"Pioneers of African-American Cinema\", \"The Twilight Zone (Original Series)\", \"The Andy Griffith Show\", \"Star Trek\", \"Highway to Heaven\", \"High Risk\", \"Pee-wee's Playhouse\", \"Twin Peaks\", \"Ken Burns: The Civil War\", \"Cheers\", \"Star Trek: The Next Generation\", \"Supermarket Sweep\", \"V.R. Troopers\", \"Ken Burns: The West\", \"Sister, Sister\", \"Mystery Science Theater 3000\", \"Star Trek: Deep Space Nine\", \"Cold Case Files Classic\", \"Star Trek: Voyager\", \"Moesha\"], [1946, 1963, 1967, 1968, 1988, 1988, 1990, 1990, 1990, 1992, 1993, 1993, 1995, 1996, 1998, 1999, 1999, 1999, 2000, 2000]]}, \"header\": {\"fill\": {\"color\": \"paleturquoise\"}, \"values\": [\"Title\", \"Release Year\"]}, \"type\": \"table\"}],\n",
              "                        {\"template\": {\"data\": {\"bar\": [{\"error_x\": {\"color\": \"#2a3f5f\"}, \"error_y\": {\"color\": \"#2a3f5f\"}, \"marker\": {\"line\": {\"color\": \"#E5ECF6\", \"width\": 0.5}}, \"type\": \"bar\"}], \"barpolar\": [{\"marker\": {\"line\": {\"color\": \"#E5ECF6\", \"width\": 0.5}}, \"type\": \"barpolar\"}], \"carpet\": [{\"aaxis\": {\"endlinecolor\": \"#2a3f5f\", \"gridcolor\": \"white\", \"linecolor\": \"white\", \"minorgridcolor\": \"white\", \"startlinecolor\": \"#2a3f5f\"}, \"baxis\": {\"endlinecolor\": \"#2a3f5f\", \"gridcolor\": \"white\", \"linecolor\": \"white\", \"minorgridcolor\": \"white\", \"startlinecolor\": \"#2a3f5f\"}, \"type\": \"carpet\"}], \"choropleth\": [{\"colorbar\": {\"outlinewidth\": 0, \"ticks\": \"\"}, \"type\": \"choropleth\"}], \"contour\": [{\"colorbar\": {\"outlinewidth\": 0, \"ticks\": \"\"}, \"colorscale\": [[0.0, \"#0d0887\"], [0.1111111111111111, \"#46039f\"], [0.2222222222222222, \"#7201a8\"], [0.3333333333333333, \"#9c179e\"], [0.4444444444444444, \"#bd3786\"], [0.5555555555555556, \"#d8576b\"], [0.6666666666666666, \"#ed7953\"], [0.7777777777777778, \"#fb9f3a\"], [0.8888888888888888, \"#fdca26\"], [1.0, \"#f0f921\"]], \"type\": \"contour\"}], \"contourcarpet\": [{\"colorbar\": {\"outlinewidth\": 0, \"ticks\": \"\"}, \"type\": \"contourcarpet\"}], \"heatmap\": [{\"colorbar\": {\"outlinewidth\": 0, \"ticks\": \"\"}, \"colorscale\": [[0.0, \"#0d0887\"], [0.1111111111111111, \"#46039f\"], [0.2222222222222222, \"#7201a8\"], [0.3333333333333333, \"#9c179e\"], [0.4444444444444444, \"#bd3786\"], [0.5555555555555556, \"#d8576b\"], [0.6666666666666666, \"#ed7953\"], [0.7777777777777778, \"#fb9f3a\"], [0.8888888888888888, \"#fdca26\"], [1.0, \"#f0f921\"]], \"type\": \"heatmap\"}], \"heatmapgl\": [{\"colorbar\": {\"outlinewidth\": 0, \"ticks\": \"\"}, \"colorscale\": [[0.0, \"#0d0887\"], [0.1111111111111111, \"#46039f\"], [0.2222222222222222, \"#7201a8\"], [0.3333333333333333, \"#9c179e\"], [0.4444444444444444, \"#bd3786\"], [0.5555555555555556, \"#d8576b\"], [0.6666666666666666, \"#ed7953\"], [0.7777777777777778, \"#fb9f3a\"], [0.8888888888888888, \"#fdca26\"], [1.0, \"#f0f921\"]], \"type\": \"heatmapgl\"}], \"histogram\": [{\"marker\": {\"colorbar\": {\"outlinewidth\": 0, \"ticks\": \"\"}}, \"type\": \"histogram\"}], \"histogram2d\": [{\"colorbar\": {\"outlinewidth\": 0, \"ticks\": \"\"}, \"colorscale\": [[0.0, \"#0d0887\"], [0.1111111111111111, \"#46039f\"], [0.2222222222222222, \"#7201a8\"], [0.3333333333333333, \"#9c179e\"], [0.4444444444444444, \"#bd3786\"], [0.5555555555555556, \"#d8576b\"], [0.6666666666666666, \"#ed7953\"], [0.7777777777777778, \"#fb9f3a\"], [0.8888888888888888, \"#fdca26\"], [1.0, \"#f0f921\"]], \"type\": \"histogram2d\"}], \"histogram2dcontour\": [{\"colorbar\": {\"outlinewidth\": 0, \"ticks\": \"\"}, \"colorscale\": [[0.0, \"#0d0887\"], [0.1111111111111111, \"#46039f\"], [0.2222222222222222, \"#7201a8\"], [0.3333333333333333, \"#9c179e\"], [0.4444444444444444, \"#bd3786\"], [0.5555555555555556, \"#d8576b\"], [0.6666666666666666, \"#ed7953\"], [0.7777777777777778, \"#fb9f3a\"], [0.8888888888888888, \"#fdca26\"], [1.0, \"#f0f921\"]], \"type\": \"histogram2dcontour\"}], \"mesh3d\": [{\"colorbar\": {\"outlinewidth\": 0, \"ticks\": \"\"}, \"type\": \"mesh3d\"}], \"parcoords\": [{\"line\": {\"colorbar\": {\"outlinewidth\": 0, \"ticks\": \"\"}}, \"type\": \"parcoords\"}], \"pie\": [{\"automargin\": true, \"type\": \"pie\"}], \"scatter\": [{\"marker\": {\"colorbar\": {\"outlinewidth\": 0, \"ticks\": \"\"}}, \"type\": \"scatter\"}], \"scatter3d\": [{\"line\": {\"colorbar\": {\"outlinewidth\": 0, \"ticks\": \"\"}}, \"marker\": {\"colorbar\": {\"outlinewidth\": 0, \"ticks\": \"\"}}, \"type\": \"scatter3d\"}], \"scattercarpet\": [{\"marker\": {\"colorbar\": {\"outlinewidth\": 0, \"ticks\": \"\"}}, \"type\": \"scattercarpet\"}], \"scattergeo\": [{\"marker\": {\"colorbar\": {\"outlinewidth\": 0, \"ticks\": \"\"}}, \"type\": \"scattergeo\"}], \"scattergl\": [{\"marker\": {\"colorbar\": {\"outlinewidth\": 0, \"ticks\": \"\"}}, \"type\": \"scattergl\"}], \"scattermapbox\": [{\"marker\": {\"colorbar\": {\"outlinewidth\": 0, \"ticks\": \"\"}}, \"type\": \"scattermapbox\"}], \"scatterpolar\": [{\"marker\": {\"colorbar\": {\"outlinewidth\": 0, \"ticks\": \"\"}}, \"type\": \"scatterpolar\"}], \"scatterpolargl\": [{\"marker\": {\"colorbar\": {\"outlinewidth\": 0, \"ticks\": \"\"}}, \"type\": \"scatterpolargl\"}], \"scatterternary\": [{\"marker\": {\"colorbar\": {\"outlinewidth\": 0, \"ticks\": \"\"}}, \"type\": \"scatterternary\"}], \"surface\": [{\"colorbar\": {\"outlinewidth\": 0, \"ticks\": \"\"}, \"colorscale\": [[0.0, \"#0d0887\"], [0.1111111111111111, \"#46039f\"], [0.2222222222222222, \"#7201a8\"], [0.3333333333333333, \"#9c179e\"], [0.4444444444444444, \"#bd3786\"], [0.5555555555555556, \"#d8576b\"], [0.6666666666666666, \"#ed7953\"], [0.7777777777777778, \"#fb9f3a\"], [0.8888888888888888, \"#fdca26\"], [1.0, \"#f0f921\"]], \"type\": \"surface\"}], \"table\": [{\"cells\": {\"fill\": {\"color\": \"#EBF0F8\"}, \"line\": {\"color\": \"white\"}}, \"header\": {\"fill\": {\"color\": \"#C8D4E3\"}, \"line\": {\"color\": \"white\"}}, \"type\": \"table\"}]}, \"layout\": {\"annotationdefaults\": {\"arrowcolor\": \"#2a3f5f\", \"arrowhead\": 0, \"arrowwidth\": 1}, \"coloraxis\": {\"colorbar\": {\"outlinewidth\": 0, \"ticks\": \"\"}}, \"colorscale\": {\"diverging\": [[0, \"#8e0152\"], [0.1, \"#c51b7d\"], [0.2, \"#de77ae\"], [0.3, \"#f1b6da\"], [0.4, \"#fde0ef\"], [0.5, \"#f7f7f7\"], [0.6, \"#e6f5d0\"], [0.7, \"#b8e186\"], [0.8, \"#7fbc41\"], [0.9, \"#4d9221\"], [1, \"#276419\"]], \"sequential\": [[0.0, \"#0d0887\"], [0.1111111111111111, \"#46039f\"], [0.2222222222222222, \"#7201a8\"], [0.3333333333333333, \"#9c179e\"], [0.4444444444444444, \"#bd3786\"], [0.5555555555555556, \"#d8576b\"], [0.6666666666666666, \"#ed7953\"], [0.7777777777777778, \"#fb9f3a\"], [0.8888888888888888, \"#fdca26\"], [1.0, \"#f0f921\"]], \"sequentialminus\": [[0.0, \"#0d0887\"], [0.1111111111111111, \"#46039f\"], [0.2222222222222222, \"#7201a8\"], [0.3333333333333333, \"#9c179e\"], [0.4444444444444444, \"#bd3786\"], [0.5555555555555556, \"#d8576b\"], [0.6666666666666666, \"#ed7953\"], [0.7777777777777778, \"#fb9f3a\"], [0.8888888888888888, \"#fdca26\"], [1.0, \"#f0f921\"]]}, \"colorway\": [\"#636efa\", \"#EF553B\", \"#00cc96\", \"#ab63fa\", \"#FFA15A\", \"#19d3f3\", \"#FF6692\", \"#B6E880\", \"#FF97FF\", \"#FECB52\"], \"font\": {\"color\": \"#2a3f5f\"}, \"geo\": {\"bgcolor\": \"white\", \"lakecolor\": \"white\", \"landcolor\": \"#E5ECF6\", \"showlakes\": true, \"showland\": true, \"subunitcolor\": \"white\"}, \"hoverlabel\": {\"align\": \"left\"}, \"hovermode\": \"closest\", \"mapbox\": {\"style\": \"light\"}, \"paper_bgcolor\": \"white\", \"plot_bgcolor\": \"#E5ECF6\", \"polar\": {\"angularaxis\": {\"gridcolor\": \"white\", \"linecolor\": \"white\", \"ticks\": \"\"}, \"bgcolor\": \"#E5ECF6\", \"radialaxis\": {\"gridcolor\": \"white\", \"linecolor\": \"white\", \"ticks\": \"\"}}, \"scene\": {\"xaxis\": {\"backgroundcolor\": \"#E5ECF6\", \"gridcolor\": \"white\", \"gridwidth\": 2, \"linecolor\": \"white\", \"showbackground\": true, \"ticks\": \"\", \"zerolinecolor\": \"white\"}, \"yaxis\": {\"backgroundcolor\": \"#E5ECF6\", \"gridcolor\": \"white\", \"gridwidth\": 2, \"linecolor\": \"white\", \"showbackground\": true, \"ticks\": \"\", \"zerolinecolor\": \"white\"}, \"zaxis\": {\"backgroundcolor\": \"#E5ECF6\", \"gridcolor\": \"white\", \"gridwidth\": 2, \"linecolor\": \"white\", \"showbackground\": true, \"ticks\": \"\", \"zerolinecolor\": \"white\"}}, \"shapedefaults\": {\"line\": {\"color\": \"#2a3f5f\"}}, \"ternary\": {\"aaxis\": {\"gridcolor\": \"white\", \"linecolor\": \"white\", \"ticks\": \"\"}, \"baxis\": {\"gridcolor\": \"white\", \"linecolor\": \"white\", \"ticks\": \"\"}, \"bgcolor\": \"#E5ECF6\", \"caxis\": {\"gridcolor\": \"white\", \"linecolor\": \"white\", \"ticks\": \"\"}}, \"title\": {\"x\": 0.05}, \"xaxis\": {\"automargin\": true, \"gridcolor\": \"white\", \"linecolor\": \"white\", \"ticks\": \"\", \"title\": {\"standoff\": 15}, \"zerolinecolor\": \"white\", \"zerolinewidth\": 2}, \"yaxis\": {\"automargin\": true, \"gridcolor\": \"white\", \"linecolor\": \"white\", \"ticks\": \"\", \"title\": {\"standoff\": 15}, \"zerolinecolor\": \"white\", \"zerolinewidth\": 2}}}},\n",
              "                        {\"responsive\": true}\n",
              "                    ).then(function(){\n",
              "                            \n",
              "var gd = document.getElementById('eaaca069-9b05-420b-8912-a36740c0c449');\n",
              "var x = new MutationObserver(function (mutations, observer) {{\n",
              "        var display = window.getComputedStyle(gd).display;\n",
              "        if (!display || display === 'none') {{\n",
              "            console.log([gd, 'removed!']);\n",
              "            Plotly.purge(gd);\n",
              "            observer.disconnect();\n",
              "        }}\n",
              "}});\n",
              "\n",
              "// Listen for the removal of the full notebook cells\n",
              "var notebookContainer = gd.closest('#notebook-container');\n",
              "if (notebookContainer) {{\n",
              "    x.observe(notebookContainer, {childList: true});\n",
              "}}\n",
              "\n",
              "// Listen for the clearing of the current output cell\n",
              "var outputEl = gd.closest('.output');\n",
              "if (outputEl) {{\n",
              "    x.observe(outputEl, {childList: true});\n",
              "}}\n",
              "\n",
              "                        })\n",
              "                };\n",
              "                });\n",
              "            </script>\n",
              "        </div>"
            ]
          },
          "metadata": {},
          "output_type": "display_data"
        }
      ],
      "source": [
        "fig = go.Figure(data=[go.Table(header=dict(values=['Title', 'Release Year'],fill_color='paleturquoise'),\n",
        "                 cells=dict(values=[oldest_us_series['title'],oldest_us_series['release_year']],fill_color='pink'))\n",
        "                     ])\n",
        "fig.show()"
      ]
    },
    {
      "cell_type": "markdown",
      "metadata": {
        "papermill": {
          "duration": 0.09977,
          "end_time": "2021-02-25T06:30:26.045281",
          "exception": false,
          "start_time": "2021-02-25T06:30:25.945511",
          "status": "completed"
        },
        "tags": [],
        "id": "jnmhtYMeRjnF"
      },
      "source": [
        "Above table shows the oldest US tv shows on Netflix."
      ]
    },
    {
      "cell_type": "code",
      "execution_count": null,
      "metadata": {
        "papermill": {
          "duration": 0.110156,
          "end_time": "2021-02-25T06:30:26.254810",
          "exception": false,
          "start_time": "2021-02-25T06:30:26.144654",
          "status": "completed"
        },
        "tags": [],
        "id": "mZdFjhpSRjnF"
      },
      "outputs": [],
      "source": [
        "newest_us_series=us_series_data.sort_values(by='release_year', ascending=False)[0:50]"
      ]
    },
    {
      "cell_type": "code",
      "execution_count": null,
      "metadata": {
        "papermill": {
          "duration": 0.261166,
          "end_time": "2021-02-25T06:30:26.613012",
          "exception": false,
          "start_time": "2021-02-25T06:30:26.351846",
          "status": "completed"
        },
        "tags": [],
        "id": "x-xaPQ3HRjnF",
        "outputId": "36b4075c-55e4-4f08-f775-bccb14e9f363"
      },
      "outputs": [
        {
          "data": {
            "text/html": [
              "<div>\n",
              "        \n",
              "        \n",
              "            <div id=\"c32f49a9-3893-4075-af91-c2c333c83e9b\" class=\"plotly-graph-div\" style=\"height:525px; width:100%;\"></div>\n",
              "            <script type=\"text/javascript\">\n",
              "                require([\"plotly\"], function(Plotly) {\n",
              "                    window.PLOTLYENV=window.PLOTLYENV || {};\n",
              "                    \n",
              "                if (document.getElementById(\"c32f49a9-3893-4075-af91-c2c333c83e9b\")) {\n",
              "                    Plotly.newPlot(\n",
              "                        'c32f49a9-3893-4075-af91-c2c333c83e9b',\n",
              "                        [{\"cells\": {\"fill\": {\"color\": \"lavender\"}, \"values\": [[\"Carmen Sandiego\", \"Headspace Guide to Meditation\", \"Lupin\", \"Disenchantment\", \"Cobra Kai\", \"Surviving Death\", \"The Netflix Afterparty\", \"Dream Home Makeover\", \"Pretend It\\u2019s a City\", \"History of Swear Words\", \"Dragons: Rescue Riders\", \"Schulz Saves America\", \"Self Made: Inspired by the Life of Madam C.J. Walker\", \"Down to Earth with Zac Efron\", \"Roswell, New Mexico\", \"Sex, Explained\", \"She-Ra and the Princesses of Power\", \"Sing On!\", \"Say I Do\", \"(Un)Well\", \"Rhyme Time Town Singalongs\", \"Ratched\", \"Pup Academy\", \"Emily in Paris\", \"Emily's Wonder Lab\", \"Power Rangers Beast Morphers\", \"Family Reunion\", \"Fast & Furious Spy Racers\", \"Patton Oswalt: I Love Everything\", \"Fear City: New York vs The Mafia\", \"Queer Eye\", \"Skin Decision: Before and After\", \"Dirty Money\", \"Patriot Act with Hasan Minhaj\", \"Taco Chronicles\", \"Sweet Magnolias\", \"Surviving R. Kelly Part II: The Reckoning\", \"Cooked with Cannabis\", \"Coronavirus, Explained\", \"Country Ever After\", \"Sugar Rush Christmas\", \"Sugar Rush\", \"DASH & LILY\", \"StarBeam\", \"Spirit Riding Free: Riding Academy\", \"Spinning Out\", \"DC's Legends of Tomorrow\", \"Dead to Me\", \"Space Force\", \"Southern Survival\"], [2021, 2021, 2021, 2021, 2021, 2021, 2021, 2021, 2021, 2021, 2020, 2020, 2020, 2020, 2020, 2020, 2020, 2020, 2020, 2020, 2020, 2020, 2020, 2020, 2020, 2020, 2020, 2020, 2020, 2020, 2020, 2020, 2020, 2020, 2020, 2020, 2020, 2020, 2020, 2020, 2020, 2020, 2020, 2020, 2020, 2020, 2020, 2020, 2020, 2020]]}, \"header\": {\"fill\": {\"color\": \"yellow\"}, \"values\": [\"Title\", \"Release Year\"]}, \"type\": \"table\"}],\n",
              "                        {\"template\": {\"data\": {\"bar\": [{\"error_x\": {\"color\": \"#2a3f5f\"}, \"error_y\": {\"color\": \"#2a3f5f\"}, \"marker\": {\"line\": {\"color\": \"#E5ECF6\", \"width\": 0.5}}, \"type\": \"bar\"}], \"barpolar\": [{\"marker\": {\"line\": {\"color\": \"#E5ECF6\", \"width\": 0.5}}, \"type\": \"barpolar\"}], \"carpet\": [{\"aaxis\": {\"endlinecolor\": \"#2a3f5f\", \"gridcolor\": \"white\", \"linecolor\": \"white\", \"minorgridcolor\": \"white\", \"startlinecolor\": \"#2a3f5f\"}, \"baxis\": {\"endlinecolor\": \"#2a3f5f\", \"gridcolor\": \"white\", \"linecolor\": \"white\", \"minorgridcolor\": \"white\", \"startlinecolor\": \"#2a3f5f\"}, \"type\": \"carpet\"}], \"choropleth\": [{\"colorbar\": {\"outlinewidth\": 0, \"ticks\": \"\"}, \"type\": \"choropleth\"}], \"contour\": [{\"colorbar\": {\"outlinewidth\": 0, \"ticks\": \"\"}, \"colorscale\": [[0.0, \"#0d0887\"], [0.1111111111111111, \"#46039f\"], [0.2222222222222222, \"#7201a8\"], [0.3333333333333333, \"#9c179e\"], [0.4444444444444444, \"#bd3786\"], [0.5555555555555556, \"#d8576b\"], [0.6666666666666666, \"#ed7953\"], [0.7777777777777778, \"#fb9f3a\"], [0.8888888888888888, \"#fdca26\"], [1.0, \"#f0f921\"]], \"type\": \"contour\"}], \"contourcarpet\": [{\"colorbar\": {\"outlinewidth\": 0, \"ticks\": \"\"}, \"type\": \"contourcarpet\"}], \"heatmap\": [{\"colorbar\": {\"outlinewidth\": 0, \"ticks\": \"\"}, \"colorscale\": [[0.0, \"#0d0887\"], [0.1111111111111111, \"#46039f\"], [0.2222222222222222, \"#7201a8\"], [0.3333333333333333, \"#9c179e\"], [0.4444444444444444, \"#bd3786\"], [0.5555555555555556, \"#d8576b\"], [0.6666666666666666, \"#ed7953\"], [0.7777777777777778, \"#fb9f3a\"], [0.8888888888888888, \"#fdca26\"], [1.0, \"#f0f921\"]], \"type\": \"heatmap\"}], \"heatmapgl\": [{\"colorbar\": {\"outlinewidth\": 0, \"ticks\": \"\"}, \"colorscale\": [[0.0, \"#0d0887\"], [0.1111111111111111, \"#46039f\"], [0.2222222222222222, \"#7201a8\"], [0.3333333333333333, \"#9c179e\"], [0.4444444444444444, \"#bd3786\"], [0.5555555555555556, \"#d8576b\"], [0.6666666666666666, \"#ed7953\"], [0.7777777777777778, \"#fb9f3a\"], [0.8888888888888888, \"#fdca26\"], [1.0, \"#f0f921\"]], \"type\": \"heatmapgl\"}], \"histogram\": [{\"marker\": {\"colorbar\": {\"outlinewidth\": 0, \"ticks\": \"\"}}, \"type\": \"histogram\"}], \"histogram2d\": [{\"colorbar\": {\"outlinewidth\": 0, \"ticks\": \"\"}, \"colorscale\": [[0.0, \"#0d0887\"], [0.1111111111111111, \"#46039f\"], [0.2222222222222222, \"#7201a8\"], [0.3333333333333333, \"#9c179e\"], [0.4444444444444444, \"#bd3786\"], [0.5555555555555556, \"#d8576b\"], [0.6666666666666666, \"#ed7953\"], [0.7777777777777778, \"#fb9f3a\"], [0.8888888888888888, \"#fdca26\"], [1.0, \"#f0f921\"]], \"type\": \"histogram2d\"}], \"histogram2dcontour\": [{\"colorbar\": {\"outlinewidth\": 0, \"ticks\": \"\"}, \"colorscale\": [[0.0, \"#0d0887\"], [0.1111111111111111, \"#46039f\"], [0.2222222222222222, \"#7201a8\"], [0.3333333333333333, \"#9c179e\"], [0.4444444444444444, \"#bd3786\"], [0.5555555555555556, \"#d8576b\"], [0.6666666666666666, \"#ed7953\"], [0.7777777777777778, \"#fb9f3a\"], [0.8888888888888888, \"#fdca26\"], [1.0, \"#f0f921\"]], \"type\": \"histogram2dcontour\"}], \"mesh3d\": [{\"colorbar\": {\"outlinewidth\": 0, \"ticks\": \"\"}, \"type\": \"mesh3d\"}], \"parcoords\": [{\"line\": {\"colorbar\": {\"outlinewidth\": 0, \"ticks\": \"\"}}, \"type\": \"parcoords\"}], \"pie\": [{\"automargin\": true, \"type\": \"pie\"}], \"scatter\": [{\"marker\": {\"colorbar\": {\"outlinewidth\": 0, \"ticks\": \"\"}}, \"type\": \"scatter\"}], \"scatter3d\": [{\"line\": {\"colorbar\": {\"outlinewidth\": 0, \"ticks\": \"\"}}, \"marker\": {\"colorbar\": {\"outlinewidth\": 0, \"ticks\": \"\"}}, \"type\": \"scatter3d\"}], \"scattercarpet\": [{\"marker\": {\"colorbar\": {\"outlinewidth\": 0, \"ticks\": \"\"}}, \"type\": \"scattercarpet\"}], \"scattergeo\": [{\"marker\": {\"colorbar\": {\"outlinewidth\": 0, \"ticks\": \"\"}}, \"type\": \"scattergeo\"}], \"scattergl\": [{\"marker\": {\"colorbar\": {\"outlinewidth\": 0, \"ticks\": \"\"}}, \"type\": \"scattergl\"}], \"scattermapbox\": [{\"marker\": {\"colorbar\": {\"outlinewidth\": 0, \"ticks\": \"\"}}, \"type\": \"scattermapbox\"}], \"scatterpolar\": [{\"marker\": {\"colorbar\": {\"outlinewidth\": 0, \"ticks\": \"\"}}, \"type\": \"scatterpolar\"}], \"scatterpolargl\": [{\"marker\": {\"colorbar\": {\"outlinewidth\": 0, \"ticks\": \"\"}}, \"type\": \"scatterpolargl\"}], \"scatterternary\": [{\"marker\": {\"colorbar\": {\"outlinewidth\": 0, \"ticks\": \"\"}}, \"type\": \"scatterternary\"}], \"surface\": [{\"colorbar\": {\"outlinewidth\": 0, \"ticks\": \"\"}, \"colorscale\": [[0.0, \"#0d0887\"], [0.1111111111111111, \"#46039f\"], [0.2222222222222222, \"#7201a8\"], [0.3333333333333333, \"#9c179e\"], [0.4444444444444444, \"#bd3786\"], [0.5555555555555556, \"#d8576b\"], [0.6666666666666666, \"#ed7953\"], [0.7777777777777778, \"#fb9f3a\"], [0.8888888888888888, \"#fdca26\"], [1.0, \"#f0f921\"]], \"type\": \"surface\"}], \"table\": [{\"cells\": {\"fill\": {\"color\": \"#EBF0F8\"}, \"line\": {\"color\": \"white\"}}, \"header\": {\"fill\": {\"color\": \"#C8D4E3\"}, \"line\": {\"color\": \"white\"}}, \"type\": \"table\"}]}, \"layout\": {\"annotationdefaults\": {\"arrowcolor\": \"#2a3f5f\", \"arrowhead\": 0, \"arrowwidth\": 1}, \"coloraxis\": {\"colorbar\": {\"outlinewidth\": 0, \"ticks\": \"\"}}, \"colorscale\": {\"diverging\": [[0, \"#8e0152\"], [0.1, \"#c51b7d\"], [0.2, \"#de77ae\"], [0.3, \"#f1b6da\"], [0.4, \"#fde0ef\"], [0.5, \"#f7f7f7\"], [0.6, \"#e6f5d0\"], [0.7, \"#b8e186\"], [0.8, \"#7fbc41\"], [0.9, \"#4d9221\"], [1, \"#276419\"]], \"sequential\": [[0.0, \"#0d0887\"], [0.1111111111111111, \"#46039f\"], [0.2222222222222222, \"#7201a8\"], [0.3333333333333333, \"#9c179e\"], [0.4444444444444444, \"#bd3786\"], [0.5555555555555556, \"#d8576b\"], [0.6666666666666666, \"#ed7953\"], [0.7777777777777778, \"#fb9f3a\"], [0.8888888888888888, \"#fdca26\"], [1.0, \"#f0f921\"]], \"sequentialminus\": [[0.0, \"#0d0887\"], [0.1111111111111111, \"#46039f\"], [0.2222222222222222, \"#7201a8\"], [0.3333333333333333, \"#9c179e\"], [0.4444444444444444, \"#bd3786\"], [0.5555555555555556, \"#d8576b\"], [0.6666666666666666, \"#ed7953\"], [0.7777777777777778, \"#fb9f3a\"], [0.8888888888888888, \"#fdca26\"], [1.0, \"#f0f921\"]]}, \"colorway\": [\"#636efa\", \"#EF553B\", \"#00cc96\", \"#ab63fa\", \"#FFA15A\", \"#19d3f3\", \"#FF6692\", \"#B6E880\", \"#FF97FF\", \"#FECB52\"], \"font\": {\"color\": \"#2a3f5f\"}, \"geo\": {\"bgcolor\": \"white\", \"lakecolor\": \"white\", \"landcolor\": \"#E5ECF6\", \"showlakes\": true, \"showland\": true, \"subunitcolor\": \"white\"}, \"hoverlabel\": {\"align\": \"left\"}, \"hovermode\": \"closest\", \"mapbox\": {\"style\": \"light\"}, \"paper_bgcolor\": \"white\", \"plot_bgcolor\": \"#E5ECF6\", \"polar\": {\"angularaxis\": {\"gridcolor\": \"white\", \"linecolor\": \"white\", \"ticks\": \"\"}, \"bgcolor\": \"#E5ECF6\", \"radialaxis\": {\"gridcolor\": \"white\", \"linecolor\": \"white\", \"ticks\": \"\"}}, \"scene\": {\"xaxis\": {\"backgroundcolor\": \"#E5ECF6\", \"gridcolor\": \"white\", \"gridwidth\": 2, \"linecolor\": \"white\", \"showbackground\": true, \"ticks\": \"\", \"zerolinecolor\": \"white\"}, \"yaxis\": {\"backgroundcolor\": \"#E5ECF6\", \"gridcolor\": \"white\", \"gridwidth\": 2, \"linecolor\": \"white\", \"showbackground\": true, \"ticks\": \"\", \"zerolinecolor\": \"white\"}, \"zaxis\": {\"backgroundcolor\": \"#E5ECF6\", \"gridcolor\": \"white\", \"gridwidth\": 2, \"linecolor\": \"white\", \"showbackground\": true, \"ticks\": \"\", \"zerolinecolor\": \"white\"}}, \"shapedefaults\": {\"line\": {\"color\": \"#2a3f5f\"}}, \"ternary\": {\"aaxis\": {\"gridcolor\": \"white\", \"linecolor\": \"white\", \"ticks\": \"\"}, \"baxis\": {\"gridcolor\": \"white\", \"linecolor\": \"white\", \"ticks\": \"\"}, \"bgcolor\": \"#E5ECF6\", \"caxis\": {\"gridcolor\": \"white\", \"linecolor\": \"white\", \"ticks\": \"\"}}, \"title\": {\"x\": 0.05}, \"xaxis\": {\"automargin\": true, \"gridcolor\": \"white\", \"linecolor\": \"white\", \"ticks\": \"\", \"title\": {\"standoff\": 15}, \"zerolinecolor\": \"white\", \"zerolinewidth\": 2}, \"yaxis\": {\"automargin\": true, \"gridcolor\": \"white\", \"linecolor\": \"white\", \"ticks\": \"\", \"title\": {\"standoff\": 15}, \"zerolinecolor\": \"white\", \"zerolinewidth\": 2}}}},\n",
              "                        {\"responsive\": true}\n",
              "                    ).then(function(){\n",
              "                            \n",
              "var gd = document.getElementById('c32f49a9-3893-4075-af91-c2c333c83e9b');\n",
              "var x = new MutationObserver(function (mutations, observer) {{\n",
              "        var display = window.getComputedStyle(gd).display;\n",
              "        if (!display || display === 'none') {{\n",
              "            console.log([gd, 'removed!']);\n",
              "            Plotly.purge(gd);\n",
              "            observer.disconnect();\n",
              "        }}\n",
              "}});\n",
              "\n",
              "// Listen for the removal of the full notebook cells\n",
              "var notebookContainer = gd.closest('#notebook-container');\n",
              "if (notebookContainer) {{\n",
              "    x.observe(notebookContainer, {childList: true});\n",
              "}}\n",
              "\n",
              "// Listen for the clearing of the current output cell\n",
              "var outputEl = gd.closest('.output');\n",
              "if (outputEl) {{\n",
              "    x.observe(outputEl, {childList: true});\n",
              "}}\n",
              "\n",
              "                        })\n",
              "                };\n",
              "                });\n",
              "            </script>\n",
              "        </div>"
            ]
          },
          "metadata": {},
          "output_type": "display_data"
        }
      ],
      "source": [
        "fig = go.Figure(data=[go.Table(header=dict(values=['Title', 'Release Year'],fill_color='yellow'),\n",
        "                 cells=dict(values=[newest_us_series['title'],newest_us_series['release_year']],fill_color='lavender'))\n",
        "                     ])\n",
        "fig.show()"
      ]
    },
    {
      "cell_type": "markdown",
      "metadata": {
        "papermill": {
          "duration": 0.098988,
          "end_time": "2021-02-25T06:30:26.810978",
          "exception": false,
          "start_time": "2021-02-25T06:30:26.711990",
          "status": "completed"
        },
        "tags": [],
        "id": "Nod3guyjRjnG"
      },
      "source": [
        "The above are latest released US television shows!"
      ]
    },
    {
      "cell_type": "markdown",
      "metadata": {
        "papermill": {
          "duration": 0.098046,
          "end_time": "2021-02-25T06:30:27.008604",
          "exception": false,
          "start_time": "2021-02-25T06:30:26.910558",
          "status": "completed"
        },
        "tags": [],
        "id": "EhCT6IpNRjnG"
      },
      "source": [
        "# Content in France"
      ]
    },
    {
      "cell_type": "code",
      "execution_count": null,
      "metadata": {
        "papermill": {
          "duration": 0.723711,
          "end_time": "2021-02-25T06:30:27.832011",
          "exception": false,
          "start_time": "2021-02-25T06:30:27.108300",
          "status": "completed"
        },
        "tags": [],
        "id": "BII-ZKGjRjnG",
        "outputId": "90b6331f-b87e-4482-e326-86b9caa0d7d2"
      },
      "outputs": [
        {
          "data": {
            "text/html": [
              "<div>\n",
              "        \n",
              "        \n",
              "            <div id=\"ca4f4adc-bd79-4acb-a8ae-ea3a0fe0acae\" class=\"plotly-graph-div\" style=\"height:525px; width:100%;\"></div>\n",
              "            <script type=\"text/javascript\">\n",
              "                require([\"plotly\"], function(Plotly) {\n",
              "                    window.PLOTLYENV=window.PLOTLYENV || {};\n",
              "                    \n",
              "                if (document.getElementById(\"ca4f4adc-bd79-4acb-a8ae-ea3a0fe0acae\")) {\n",
              "                    Plotly.newPlot(\n",
              "                        'ca4f4adc-bd79-4acb-a8ae-ea3a0fe0acae',\n",
              "                        [{\"branchvalues\": \"total\", \"customdata\": [[\"(?)\", \"(?)\", \"(?)\"], [\"Adrien Lagier, Ousmane Ly\", \"Fary : Hexagone\", \"Adrien Lagier, Ousmane Ly\"], [\"Alexandre Heboyan, Beno\\u00eet Philippon\", \"Mune: Guardian of the Moon\", \"Alexandre Heboyan, Beno\\u00eet Philippon\"], [\"Antonin Baudry\", \"The Wolf's Call\", \"Antonin Baudry\"], [\"Benjamin Weill\", \"West Coast\", \"Benjamin Weill\"], [\"Bigflo & Oli, J\\u00e9r\\u00e9mie Levypon\", \"Bigflo & Oli: Hip Hop Frenzy\", \"Bigflo & Oli, J\\u00e9r\\u00e9mie Levypon\"], [\"Christophe Charrier\", \"I am Jonas\", \"Christophe Charrier\"], [\"Christophe Honor\\u00e9\", \"Plaire, aimer et courir vite\", \"Christophe Honor\\u00e9\"], [\"Claude Lelouch\", \"Un plus une\", \"Claude Lelouch\"], [\"Clovis Cornillac\", \"Blind Date\", \"Clovis Cornillac\"], [\"Damien Piscarel, Florent Bodin\", \"Le K Benzema\", \"Damien Piscarel, Florent Bodin\"], [\"Eleonore Pourriat\", \"I Am not an Easy Man\", \"Eleonore Pourriat\"], [\"Elisabeth Vogler\", \"Paris Is Us\", \"Elisabeth Vogler\"], [\"Emmanuel Mouret\", \"Lady J\", \"Emmanuel Mouret\"], [\"Fabien Beziat, Hugues Nancy\", \"Elles \\u00e9taient en guerre (1914-1918)\", \"Fabien Beziat, Hugues Nancy\"], [\"Florent Bodin\", \"(?)\", \"Florent Bodin\"], [\"Franck Nataf\", \"Anelka: Misunderstood\", \"Franck Nataf\"], [\"Fr\\u00e9d\\u00e9ric Tonolli\", \"Kill Hitler! The Luck of the Devil\", \"Fr\\u00e9d\\u00e9ric Tonolli\"], [\"Gautier & Leduc\", \"Fadily Camara : La plus dr\\u00f4le de tes copines\", \"Gautier & Leduc\"], [\"Gilles Paquet-Brenner\", \"Sarah's Key\", \"Gilles Paquet-Brenner\"], [\"Grand Corps Malade, Mehdi Idir\", \"School Life\", \"Grand Corps Malade, Mehdi Idir\"], [\"Guillaume Pierret\", \"Lost Bullet\", \"Guillaume Pierret\"], [\"Isabelle Nanty\", \"Dany Boon: Des Hauts De France\", \"Isabelle Nanty\"], [\"Jean-Bernard Marlin\", \"Sh\\u00e9h\\u00e9razade\", \"Jean-Bernard Marlin\"], [\"Jean-Claude Flamand-Barny\", \"Gang of the Caribbean\", \"Jean-Claude Flamand-Barny\"], [\"Jean-Fran\\u00e7ois Richet\", \"Blood Father\", \"Jean-Fran\\u00e7ois Richet\"], [\"Jean-Patrick Benes\", \"Ar\\u00e8s\", \"Jean-Patrick Benes\"], [\"Julien Abraham\", \"Brother\", \"Julien Abraham\"], [\"Julien Leclercq\", \"The Crew\", \"Julien Leclercq\"], [\"Julien Rambaldi\", \"The African Doctor\", \"Julien Rambaldi\"], [\"Julien Seri\", \"Tarif de nuit\", \"Julien Seri\"], [\"July Hygreck\", \"Blockbuster\", \"July Hygreck\"], [\"J\\u00e9r\\u00e9my Clapin\", \"I Lost My Body\", \"J\\u00e9r\\u00e9my Clapin\"], [\"Kader Aoun\", \"Fary Is the New Black\", \"Kader Aoun\"], [\"Laurent Cantet\", \"The Workshop\", \"Laurent Cantet\"], [\"Le\\u00efla Sy, Kery James\", \"Street Flow\", \"Le\\u00efla Sy, Kery James\"], [\"Ludovic Bernard\", \"The Climb\", \"Ludovic Bernard\"], [\"Mario Rouleau\", \"Gad Gone Wild\", \"Mario Rouleau\"], [\"Ma\\u00efmouna Doucour\\u00e9\", \"Cuties\", \"Ma\\u00efmouna Doucour\\u00e9\"], [\"Myriam Aziza\", \"To Each, Her Own\", \"Myriam Aziza\"], [\"Nicolas Brossette\", \"10 jours en or\", \"Nicolas Brossette\"], [\"Olivier Jean-Marie\", \"Oggy and the Cockroaches\", \"Olivier Jean-Marie\"], [\"Olivier Loustau\", \"The Boss's Daughter\", \"Olivier Loustau\"], [\"Olivier Marchal\", \"Rogue City\", \"Olivier Marchal\"], [\"Olivier Nakache, \\u00c9ric Toledano\", \"The Intouchables\", \"Olivier Nakache, \\u00c9ric Toledano\"], [\"Ramzy Bedia, \\u00c9ric Judor\", \"2 Alone in Paris\", \"Ramzy Bedia, \\u00c9ric Judor\"], [\"Rebecca Zlotowski\", \"An Easy Girl\", \"Rebecca Zlotowski\"], [\"Reem Kherici\", \"Wedding Unplanned\", \"Reem Kherici\"], [\"Romain Gavras\", \"The World Is Yours\", \"Romain Gavras\"], [\"Sacha Wolff\", \"Mercenary\", \"Sacha Wolff\"], [\"Samuel Jouy\", \"Sparring\", \"Samuel Jouy\"], [\"Syrine Boulanouar, Nekfeu\", \"Wandering Stars\", \"Syrine Boulanouar, Nekfeu\"], [\"S\\u00e9bastien Betbeder\", \"Journey to Greenland\", \"S\\u00e9bastien Betbeder\"], [\"Teddy Lussi-Modeste\", \"The Price of Success\", \"Teddy Lussi-Modeste\"], [\"Thierry Demaizi\\u00e8re, Alban Teurlai\", \"Rocco\", \"Thierry Demaizi\\u00e8re, Alban Teurlai\"], [\"Thierry Donard\", \"(?)\", \"Thierry Donard\"], [\"Thomas Sorriaux\", \"A Mighty Team\", \"Thomas Sorriaux\"], [\"Walerian Borowczyk\", \"Immoral Tales\", \"Walerian Borowczyk\"], [\"Xavier Durringer\", \"Paradise Beach\", \"Xavier Durringer\"], [\"Yacine Belhousse\", \"Voulez-vous rire avec moi ce soir?\", \"Yacine Belhousse\"], [\"Yann Arthus-Bertrand, Michael Pitiot\", \"Terra\", \"Yann Arthus-Bertrand, Michael Pitiot\"], [\"Ziad Doueiri\", \"Inhuman Resources\", \"Ziad Doueiri\"]], \"domain\": {\"x\": [0.0, 1.0], \"y\": [0.0, 1.0]}, \"hoverlabel\": {\"namelength\": 0}, \"hovertemplate\": \"director=%{customdata[0]}<br>title=%{customdata[1]}<br>directoradditional_col_for_hover=%{customdata[2]}<br>labels=%{label}<br>count=%{value}<br>parent=%{parent}<br>id=%{id}\", \"ids\": [\"France\", \"France/Adrien Lagier, Ousmane Ly\", \"France/Alexandre Heboyan, Beno\\u00eet Philippon\", \"France/Antonin Baudry\", \"France/Benjamin Weill\", \"France/Bigflo & Oli, J\\u00e9r\\u00e9mie Levypon\", \"France/Christophe Charrier\", \"France/Christophe Honor\\u00e9\", \"France/Claude Lelouch\", \"France/Clovis Cornillac\", \"France/Damien Piscarel, Florent Bodin\", \"France/Eleonore Pourriat\", \"France/Elisabeth Vogler\", \"France/Emmanuel Mouret\", \"France/Fabien Beziat, Hugues Nancy\", \"France/Florent Bodin\", \"France/Franck Nataf\", \"France/Fr\\u00e9d\\u00e9ric Tonolli\", \"France/Gautier & Leduc\", \"France/Gilles Paquet-Brenner\", \"France/Grand Corps Malade, Mehdi Idir\", \"France/Guillaume Pierret\", \"France/Isabelle Nanty\", \"France/Jean-Bernard Marlin\", \"France/Jean-Claude Flamand-Barny\", \"France/Jean-Fran\\u00e7ois Richet\", \"France/Jean-Patrick Benes\", \"France/Julien Abraham\", \"France/Julien Leclercq\", \"France/Julien Rambaldi\", \"France/Julien Seri\", \"France/July Hygreck\", \"France/J\\u00e9r\\u00e9my Clapin\", \"France/Kader Aoun\", \"France/Laurent Cantet\", \"France/Le\\u00efla Sy, Kery James\", \"France/Ludovic Bernard\", \"France/Mario Rouleau\", \"France/Ma\\u00efmouna Doucour\\u00e9\", \"France/Myriam Aziza\", \"France/Nicolas Brossette\", \"France/Olivier Jean-Marie\", \"France/Olivier Loustau\", \"France/Olivier Marchal\", \"France/Olivier Nakache, \\u00c9ric Toledano\", \"France/Ramzy Bedia, \\u00c9ric Judor\", \"France/Rebecca Zlotowski\", \"France/Reem Kherici\", \"France/Romain Gavras\", \"France/Sacha Wolff\", \"France/Samuel Jouy\", \"France/Syrine Boulanouar, Nekfeu\", \"France/S\\u00e9bastien Betbeder\", \"France/Teddy Lussi-Modeste\", \"France/Thierry Demaizi\\u00e8re, Alban Teurlai\", \"France/Thierry Donard\", \"France/Thomas Sorriaux\", \"France/Walerian Borowczyk\", \"France/Xavier Durringer\", \"France/Yacine Belhousse\", \"France/Yann Arthus-Bertrand, Michael Pitiot\", \"France/Ziad Doueiri\"], \"labels\": [\"France\", \"Adrien Lagier, Ousmane Ly\", \"Alexandre Heboyan, Beno\\u00eet Philippon\", \"Antonin Baudry\", \"Benjamin Weill\", \"Bigflo & Oli, J\\u00e9r\\u00e9mie Levypon\", \"Christophe Charrier\", \"Christophe Honor\\u00e9\", \"Claude Lelouch\", \"Clovis Cornillac\", \"Damien Piscarel, Florent Bodin\", \"Eleonore Pourriat\", \"Elisabeth Vogler\", \"Emmanuel Mouret\", \"Fabien Beziat, Hugues Nancy\", \"Florent Bodin\", \"Franck Nataf\", \"Fr\\u00e9d\\u00e9ric Tonolli\", \"Gautier & Leduc\", \"Gilles Paquet-Brenner\", \"Grand Corps Malade, Mehdi Idir\", \"Guillaume Pierret\", \"Isabelle Nanty\", \"Jean-Bernard Marlin\", \"Jean-Claude Flamand-Barny\", \"Jean-Fran\\u00e7ois Richet\", \"Jean-Patrick Benes\", \"Julien Abraham\", \"Julien Leclercq\", \"Julien Rambaldi\", \"Julien Seri\", \"July Hygreck\", \"J\\u00e9r\\u00e9my Clapin\", \"Kader Aoun\", \"Laurent Cantet\", \"Le\\u00efla Sy, Kery James\", \"Ludovic Bernard\", \"Mario Rouleau\", \"Ma\\u00efmouna Doucour\\u00e9\", \"Myriam Aziza\", \"Nicolas Brossette\", \"Olivier Jean-Marie\", \"Olivier Loustau\", \"Olivier Marchal\", \"Olivier Nakache, \\u00c9ric Toledano\", \"Ramzy Bedia, \\u00c9ric Judor\", \"Rebecca Zlotowski\", \"Reem Kherici\", \"Romain Gavras\", \"Sacha Wolff\", \"Samuel Jouy\", \"Syrine Boulanouar, Nekfeu\", \"S\\u00e9bastien Betbeder\", \"Teddy Lussi-Modeste\", \"Thierry Demaizi\\u00e8re, Alban Teurlai\", \"Thierry Donard\", \"Thomas Sorriaux\", \"Walerian Borowczyk\", \"Xavier Durringer\", \"Yacine Belhousse\", \"Yann Arthus-Bertrand, Michael Pitiot\", \"Ziad Doueiri\"], \"marker\": {\"colors\": [\"#636efa\", \"#EF553B\", \"#00cc96\", \"#ab63fa\", \"#FFA15A\", \"#19d3f3\", \"#FF6692\", \"#B6E880\", \"#FF97FF\", \"#FECB52\", \"#636efa\", \"#EF553B\", \"#00cc96\", \"#ab63fa\", \"#FFA15A\", \"#19d3f3\", \"#FF6692\", \"#B6E880\", \"#FF97FF\", \"#FECB52\", \"#636efa\", \"#EF553B\", \"#00cc96\", \"#ab63fa\", \"#FFA15A\", \"#19d3f3\", \"#FF6692\", \"#B6E880\", \"#FF97FF\", \"#FECB52\", \"#636efa\", \"#EF553B\", \"#00cc96\", \"#ab63fa\", \"#FFA15A\", \"#19d3f3\", \"#FF6692\", \"#B6E880\", \"#FF97FF\", \"#FECB52\", \"#636efa\", \"#EF553B\", \"#00cc96\", \"#ab63fa\", \"#FFA15A\", \"#19d3f3\", \"#FF6692\", \"#B6E880\", \"#FF97FF\", \"#FECB52\", \"#636efa\", \"#EF553B\", \"#00cc96\", \"#ab63fa\", \"#FFA15A\", \"#19d3f3\", \"#FF6692\", \"#B6E880\", \"#FF97FF\", \"#FECB52\", \"#636efa\", \"#EF553B\"]}, \"name\": \"\", \"parents\": [\"\", \"France\", \"France\", \"France\", \"France\", \"France\", \"France\", \"France\", \"France\", \"France\", \"France\", \"France\", \"France\", \"France\", \"France\", \"France\", \"France\", \"France\", \"France\", \"France\", \"France\", \"France\", \"France\", \"France\", \"France\", \"France\", \"France\", \"France\", \"France\", \"France\", \"France\", \"France\", \"France\", \"France\", \"France\", \"France\", \"France\", \"France\", \"France\", \"France\", \"France\", \"France\", \"France\", \"France\", \"France\", \"France\", \"France\", \"France\", \"France\", \"France\", \"France\", \"France\", \"France\", \"France\", \"France\", \"France\", \"France\", \"France\", \"France\", \"France\", \"France\", \"France\"], \"type\": \"treemap\", \"values\": [66, 1, 1, 1, 1, 1, 1, 1, 1, 1, 1, 1, 1, 1, 1, 2, 1, 1, 1, 1, 1, 1, 1, 1, 1, 1, 1, 1, 1, 1, 1, 1, 1, 1, 1, 1, 1, 1, 1, 1, 1, 1, 1, 1, 1, 1, 1, 1, 1, 1, 1, 1, 1, 1, 1, 5, 1, 1, 1, 1, 1, 1]}],\n",
              "                        {\"legend\": {\"tracegroupgap\": 0}, \"margin\": {\"t\": 60}, \"template\": {\"data\": {\"bar\": [{\"error_x\": {\"color\": \"#2a3f5f\"}, \"error_y\": {\"color\": \"#2a3f5f\"}, \"marker\": {\"line\": {\"color\": \"#E5ECF6\", \"width\": 0.5}}, \"type\": \"bar\"}], \"barpolar\": [{\"marker\": {\"line\": {\"color\": \"#E5ECF6\", \"width\": 0.5}}, \"type\": \"barpolar\"}], \"carpet\": [{\"aaxis\": {\"endlinecolor\": \"#2a3f5f\", \"gridcolor\": \"white\", \"linecolor\": \"white\", \"minorgridcolor\": \"white\", \"startlinecolor\": \"#2a3f5f\"}, \"baxis\": {\"endlinecolor\": \"#2a3f5f\", \"gridcolor\": \"white\", \"linecolor\": \"white\", \"minorgridcolor\": \"white\", \"startlinecolor\": \"#2a3f5f\"}, \"type\": \"carpet\"}], \"choropleth\": [{\"colorbar\": {\"outlinewidth\": 0, \"ticks\": \"\"}, \"type\": \"choropleth\"}], \"contour\": [{\"colorbar\": {\"outlinewidth\": 0, \"ticks\": \"\"}, \"colorscale\": [[0.0, \"#0d0887\"], [0.1111111111111111, \"#46039f\"], [0.2222222222222222, \"#7201a8\"], [0.3333333333333333, \"#9c179e\"], [0.4444444444444444, \"#bd3786\"], [0.5555555555555556, \"#d8576b\"], [0.6666666666666666, \"#ed7953\"], [0.7777777777777778, \"#fb9f3a\"], [0.8888888888888888, \"#fdca26\"], [1.0, \"#f0f921\"]], \"type\": \"contour\"}], \"contourcarpet\": [{\"colorbar\": {\"outlinewidth\": 0, \"ticks\": \"\"}, \"type\": \"contourcarpet\"}], \"heatmap\": [{\"colorbar\": {\"outlinewidth\": 0, \"ticks\": \"\"}, \"colorscale\": [[0.0, \"#0d0887\"], [0.1111111111111111, \"#46039f\"], [0.2222222222222222, \"#7201a8\"], [0.3333333333333333, \"#9c179e\"], [0.4444444444444444, \"#bd3786\"], [0.5555555555555556, \"#d8576b\"], [0.6666666666666666, \"#ed7953\"], [0.7777777777777778, \"#fb9f3a\"], [0.8888888888888888, \"#fdca26\"], [1.0, \"#f0f921\"]], \"type\": \"heatmap\"}], \"heatmapgl\": [{\"colorbar\": {\"outlinewidth\": 0, \"ticks\": \"\"}, \"colorscale\": [[0.0, \"#0d0887\"], [0.1111111111111111, \"#46039f\"], [0.2222222222222222, \"#7201a8\"], [0.3333333333333333, \"#9c179e\"], [0.4444444444444444, \"#bd3786\"], [0.5555555555555556, \"#d8576b\"], [0.6666666666666666, \"#ed7953\"], [0.7777777777777778, \"#fb9f3a\"], [0.8888888888888888, \"#fdca26\"], [1.0, \"#f0f921\"]], \"type\": \"heatmapgl\"}], \"histogram\": [{\"marker\": {\"colorbar\": {\"outlinewidth\": 0, \"ticks\": \"\"}}, \"type\": \"histogram\"}], \"histogram2d\": [{\"colorbar\": {\"outlinewidth\": 0, \"ticks\": \"\"}, \"colorscale\": [[0.0, \"#0d0887\"], [0.1111111111111111, \"#46039f\"], [0.2222222222222222, \"#7201a8\"], [0.3333333333333333, \"#9c179e\"], [0.4444444444444444, \"#bd3786\"], [0.5555555555555556, \"#d8576b\"], [0.6666666666666666, \"#ed7953\"], [0.7777777777777778, \"#fb9f3a\"], [0.8888888888888888, \"#fdca26\"], [1.0, \"#f0f921\"]], \"type\": \"histogram2d\"}], \"histogram2dcontour\": [{\"colorbar\": {\"outlinewidth\": 0, \"ticks\": \"\"}, \"colorscale\": [[0.0, \"#0d0887\"], [0.1111111111111111, \"#46039f\"], [0.2222222222222222, \"#7201a8\"], [0.3333333333333333, \"#9c179e\"], [0.4444444444444444, \"#bd3786\"], [0.5555555555555556, \"#d8576b\"], [0.6666666666666666, \"#ed7953\"], [0.7777777777777778, \"#fb9f3a\"], [0.8888888888888888, \"#fdca26\"], [1.0, \"#f0f921\"]], \"type\": \"histogram2dcontour\"}], \"mesh3d\": [{\"colorbar\": {\"outlinewidth\": 0, \"ticks\": \"\"}, \"type\": \"mesh3d\"}], \"parcoords\": [{\"line\": {\"colorbar\": {\"outlinewidth\": 0, \"ticks\": \"\"}}, \"type\": \"parcoords\"}], \"pie\": [{\"automargin\": true, \"type\": \"pie\"}], \"scatter\": [{\"marker\": {\"colorbar\": {\"outlinewidth\": 0, \"ticks\": \"\"}}, \"type\": \"scatter\"}], \"scatter3d\": [{\"line\": {\"colorbar\": {\"outlinewidth\": 0, \"ticks\": \"\"}}, \"marker\": {\"colorbar\": {\"outlinewidth\": 0, \"ticks\": \"\"}}, \"type\": \"scatter3d\"}], \"scattercarpet\": [{\"marker\": {\"colorbar\": {\"outlinewidth\": 0, \"ticks\": \"\"}}, \"type\": \"scattercarpet\"}], \"scattergeo\": [{\"marker\": {\"colorbar\": {\"outlinewidth\": 0, \"ticks\": \"\"}}, \"type\": \"scattergeo\"}], \"scattergl\": [{\"marker\": {\"colorbar\": {\"outlinewidth\": 0, \"ticks\": \"\"}}, \"type\": \"scattergl\"}], \"scattermapbox\": [{\"marker\": {\"colorbar\": {\"outlinewidth\": 0, \"ticks\": \"\"}}, \"type\": \"scattermapbox\"}], \"scatterpolar\": [{\"marker\": {\"colorbar\": {\"outlinewidth\": 0, \"ticks\": \"\"}}, \"type\": \"scatterpolar\"}], \"scatterpolargl\": [{\"marker\": {\"colorbar\": {\"outlinewidth\": 0, \"ticks\": \"\"}}, \"type\": \"scatterpolargl\"}], \"scatterternary\": [{\"marker\": {\"colorbar\": {\"outlinewidth\": 0, \"ticks\": \"\"}}, \"type\": \"scatterternary\"}], \"surface\": [{\"colorbar\": {\"outlinewidth\": 0, \"ticks\": \"\"}, \"colorscale\": [[0.0, \"#0d0887\"], [0.1111111111111111, \"#46039f\"], [0.2222222222222222, \"#7201a8\"], [0.3333333333333333, \"#9c179e\"], [0.4444444444444444, \"#bd3786\"], [0.5555555555555556, \"#d8576b\"], [0.6666666666666666, \"#ed7953\"], [0.7777777777777778, \"#fb9f3a\"], [0.8888888888888888, \"#fdca26\"], [1.0, \"#f0f921\"]], \"type\": \"surface\"}], \"table\": [{\"cells\": {\"fill\": {\"color\": \"#EBF0F8\"}, \"line\": {\"color\": \"white\"}}, \"header\": {\"fill\": {\"color\": \"#C8D4E3\"}, \"line\": {\"color\": \"white\"}}, \"type\": \"table\"}]}, \"layout\": {\"annotationdefaults\": {\"arrowcolor\": \"#2a3f5f\", \"arrowhead\": 0, \"arrowwidth\": 1}, \"coloraxis\": {\"colorbar\": {\"outlinewidth\": 0, \"ticks\": \"\"}}, \"colorscale\": {\"diverging\": [[0, \"#8e0152\"], [0.1, \"#c51b7d\"], [0.2, \"#de77ae\"], [0.3, \"#f1b6da\"], [0.4, \"#fde0ef\"], [0.5, \"#f7f7f7\"], [0.6, \"#e6f5d0\"], [0.7, \"#b8e186\"], [0.8, \"#7fbc41\"], [0.9, \"#4d9221\"], [1, \"#276419\"]], \"sequential\": [[0.0, \"#0d0887\"], [0.1111111111111111, \"#46039f\"], [0.2222222222222222, \"#7201a8\"], [0.3333333333333333, \"#9c179e\"], [0.4444444444444444, \"#bd3786\"], [0.5555555555555556, \"#d8576b\"], [0.6666666666666666, \"#ed7953\"], [0.7777777777777778, \"#fb9f3a\"], [0.8888888888888888, \"#fdca26\"], [1.0, \"#f0f921\"]], \"sequentialminus\": [[0.0, \"#0d0887\"], [0.1111111111111111, \"#46039f\"], [0.2222222222222222, \"#7201a8\"], [0.3333333333333333, \"#9c179e\"], [0.4444444444444444, \"#bd3786\"], [0.5555555555555556, \"#d8576b\"], [0.6666666666666666, \"#ed7953\"], [0.7777777777777778, \"#fb9f3a\"], [0.8888888888888888, \"#fdca26\"], [1.0, \"#f0f921\"]]}, \"colorway\": [\"#636efa\", \"#EF553B\", \"#00cc96\", \"#ab63fa\", \"#FFA15A\", \"#19d3f3\", \"#FF6692\", \"#B6E880\", \"#FF97FF\", \"#FECB52\"], \"font\": {\"color\": \"#2a3f5f\"}, \"geo\": {\"bgcolor\": \"white\", \"lakecolor\": \"white\", \"landcolor\": \"#E5ECF6\", \"showlakes\": true, \"showland\": true, \"subunitcolor\": \"white\"}, \"hoverlabel\": {\"align\": \"left\"}, \"hovermode\": \"closest\", \"mapbox\": {\"style\": \"light\"}, \"paper_bgcolor\": \"white\", \"plot_bgcolor\": \"#E5ECF6\", \"polar\": {\"angularaxis\": {\"gridcolor\": \"white\", \"linecolor\": \"white\", \"ticks\": \"\"}, \"bgcolor\": \"#E5ECF6\", \"radialaxis\": {\"gridcolor\": \"white\", \"linecolor\": \"white\", \"ticks\": \"\"}}, \"scene\": {\"xaxis\": {\"backgroundcolor\": \"#E5ECF6\", \"gridcolor\": \"white\", \"gridwidth\": 2, \"linecolor\": \"white\", \"showbackground\": true, \"ticks\": \"\", \"zerolinecolor\": \"white\"}, \"yaxis\": {\"backgroundcolor\": \"#E5ECF6\", \"gridcolor\": \"white\", \"gridwidth\": 2, \"linecolor\": \"white\", \"showbackground\": true, \"ticks\": \"\", \"zerolinecolor\": \"white\"}, \"zaxis\": {\"backgroundcolor\": \"#E5ECF6\", \"gridcolor\": \"white\", \"gridwidth\": 2, \"linecolor\": \"white\", \"showbackground\": true, \"ticks\": \"\", \"zerolinecolor\": \"white\"}}, \"shapedefaults\": {\"line\": {\"color\": \"#2a3f5f\"}}, \"ternary\": {\"aaxis\": {\"gridcolor\": \"white\", \"linecolor\": \"white\", \"ticks\": \"\"}, \"baxis\": {\"gridcolor\": \"white\", \"linecolor\": \"white\", \"ticks\": \"\"}, \"bgcolor\": \"#E5ECF6\", \"caxis\": {\"gridcolor\": \"white\", \"linecolor\": \"white\", \"ticks\": \"\"}}, \"title\": {\"x\": 0.05}, \"xaxis\": {\"automargin\": true, \"gridcolor\": \"white\", \"linecolor\": \"white\", \"ticks\": \"\", \"title\": {\"standoff\": 15}, \"zerolinecolor\": \"white\", \"zerolinewidth\": 2}, \"yaxis\": {\"automargin\": true, \"gridcolor\": \"white\", \"linecolor\": \"white\", \"ticks\": \"\", \"title\": {\"standoff\": 15}, \"zerolinecolor\": \"white\", \"zerolinewidth\": 2}}}},\n",
              "                        {\"responsive\": true}\n",
              "                    ).then(function(){\n",
              "                            \n",
              "var gd = document.getElementById('ca4f4adc-bd79-4acb-a8ae-ea3a0fe0acae');\n",
              "var x = new MutationObserver(function (mutations, observer) {{\n",
              "        var display = window.getComputedStyle(gd).display;\n",
              "        if (!display || display === 'none') {{\n",
              "            console.log([gd, 'removed!']);\n",
              "            Plotly.purge(gd);\n",
              "            observer.disconnect();\n",
              "        }}\n",
              "}});\n",
              "\n",
              "// Listen for the removal of the full notebook cells\n",
              "var notebookContainer = gd.closest('#notebook-container');\n",
              "if (notebookContainer) {{\n",
              "    x.observe(notebookContainer, {childList: true});\n",
              "}}\n",
              "\n",
              "// Listen for the clearing of the current output cell\n",
              "var outputEl = gd.closest('.output');\n",
              "if (outputEl) {{\n",
              "    x.observe(outputEl, {childList: true});\n",
              "}}\n",
              "\n",
              "                        })\n",
              "                };\n",
              "                });\n",
              "            </script>\n",
              "        </div>"
            ]
          },
          "metadata": {},
          "output_type": "display_data"
        }
      ],
      "source": [
        "netflix_fr=netflix_overall[netflix_overall['country']=='France']\n",
        "nannef=netflix_fr.dropna()\n",
        "import plotly.express as px\n",
        "fig = px.treemap(nannef, path=['country','director'],\n",
        "                  color='director', hover_data=['director','title'],color_continuous_scale='Purples')\n",
        "fig.show()\n"
      ]
    },
    {
      "cell_type": "markdown",
      "metadata": {
        "papermill": {
          "duration": 0.098142,
          "end_time": "2021-02-25T06:30:28.030384",
          "exception": false,
          "start_time": "2021-02-25T06:30:27.932242",
          "status": "completed"
        },
        "tags": [],
        "id": "2YJKDvNURjnG"
      },
      "source": [
        "It is very interesting to note that the content in France is very rational. There is no director in the data who has a large number of movies. In my opinion, it shows how different directors are given a chance to showcase their talents. What do you think?"
      ]
    },
    {
      "cell_type": "code",
      "execution_count": null,
      "metadata": {
        "papermill": {
          "duration": 0.111361,
          "end_time": "2021-02-25T06:30:28.242878",
          "exception": false,
          "start_time": "2021-02-25T06:30:28.131517",
          "status": "completed"
        },
        "tags": [],
        "id": "c--WpO2ARjnG"
      },
      "outputs": [],
      "source": [
        "newest_fr_series=netflix_fr.sort_values(by='release_year', ascending=False)[0:20]"
      ]
    },
    {
      "cell_type": "code",
      "execution_count": null,
      "metadata": {
        "_kg_hide-output": true,
        "papermill": {
          "duration": 0.13427,
          "end_time": "2021-02-25T06:30:28.475419",
          "exception": false,
          "start_time": "2021-02-25T06:30:28.341149",
          "status": "completed"
        },
        "tags": [],
        "id": "6eESqeiXRjnG",
        "outputId": "1e4b9ffe-02cf-441b-c96e-49fa8902a78c"
      },
      "outputs": [
        {
          "data": {
            "text/html": [
              "<div>\n",
              "<style scoped>\n",
              "    .dataframe tbody tr th:only-of-type {\n",
              "        vertical-align: middle;\n",
              "    }\n",
              "\n",
              "    .dataframe tbody tr th {\n",
              "        vertical-align: top;\n",
              "    }\n",
              "\n",
              "    .dataframe thead th {\n",
              "        text-align: right;\n",
              "    }\n",
              "</style>\n",
              "<table border=\"1\" class=\"dataframe\">\n",
              "  <thead>\n",
              "    <tr style=\"text-align: right;\">\n",
              "      <th></th>\n",
              "      <th>show_id</th>\n",
              "      <th>type</th>\n",
              "      <th>title</th>\n",
              "      <th>director</th>\n",
              "      <th>cast</th>\n",
              "      <th>country</th>\n",
              "      <th>date_added</th>\n",
              "      <th>release_year</th>\n",
              "      <th>rating</th>\n",
              "      <th>duration</th>\n",
              "      <th>listed_in</th>\n",
              "      <th>description</th>\n",
              "    </tr>\n",
              "  </thead>\n",
              "  <tbody>\n",
              "    <tr>\n",
              "      <th>6462</th>\n",
              "      <td>s6463</td>\n",
              "      <td>TV Show</td>\n",
              "      <td>The Hook Up Plan</td>\n",
              "      <td>NaN</td>\n",
              "      <td>Marc Ruchmann, Zita Hanrot, Sabrina Ouazani, J...</td>\n",
              "      <td>France</td>\n",
              "      <td>October 11, 2019</td>\n",
              "      <td>2020</td>\n",
              "      <td>TV-MA</td>\n",
              "      <td>2 Seasons</td>\n",
              "      <td>International TV Shows, Romantic TV Shows, TV ...</td>\n",
              "      <td>When Parisian Elsa gets hung up on her ex, her...</td>\n",
              "    </tr>\n",
              "    <tr>\n",
              "      <th>7388</th>\n",
              "      <td>s7389</td>\n",
              "      <td>TV Show</td>\n",
              "      <td>Vampires</td>\n",
              "      <td>NaN</td>\n",
              "      <td>Oulaya Amamra, Suzanne Clément, Kate Moran, Mo...</td>\n",
              "      <td>France</td>\n",
              "      <td>March 20, 2020</td>\n",
              "      <td>2020</td>\n",
              "      <td>TV-MA</td>\n",
              "      <td>1 Season</td>\n",
              "      <td>International TV Shows, TV Dramas, TV Horror</td>\n",
              "      <td>A Paris teen who's half human, half vampire gr...</td>\n",
              "    </tr>\n",
              "    <tr>\n",
              "      <th>3729</th>\n",
              "      <td>s3730</td>\n",
              "      <td>Movie</td>\n",
              "      <td>Lost Bullet</td>\n",
              "      <td>Guillaume Pierret</td>\n",
              "      <td>Alban Lenoir, Nicolas Duvauchelle, Ramzy Bedia...</td>\n",
              "      <td>France</td>\n",
              "      <td>June 19, 2020</td>\n",
              "      <td>2020</td>\n",
              "      <td>TV-MA</td>\n",
              "      <td>93 min</td>\n",
              "      <td>Action &amp; Adventure, Dramas, International Movies</td>\n",
              "      <td>Facing a murder charge, a genius mechanic with...</td>\n",
              "    </tr>\n",
              "    <tr>\n",
              "      <th>7365</th>\n",
              "      <td>s7366</td>\n",
              "      <td>TV Show</td>\n",
              "      <td>Until Dawn</td>\n",
              "      <td>NaN</td>\n",
              "      <td>Ahmed Sylla, Alban Ivanov, Ornella Fleury, Nat...</td>\n",
              "      <td>France</td>\n",
              "      <td>January 10, 2020</td>\n",
              "      <td>2020</td>\n",
              "      <td>TV-MA</td>\n",
              "      <td>1 Season</td>\n",
              "      <td>International TV Shows, Reality TV, TV Comedies</td>\n",
              "      <td>France’s funniest comics carry out ghastly tas...</td>\n",
              "    </tr>\n",
              "    <tr>\n",
              "      <th>2414</th>\n",
              "      <td>s2415</td>\n",
              "      <td>Movie</td>\n",
              "      <td>GIMS: On the Record</td>\n",
              "      <td>Florent Bodin</td>\n",
              "      <td>Maître Gims</td>\n",
              "      <td>France</td>\n",
              "      <td>September 17, 2020</td>\n",
              "      <td>2020</td>\n",
              "      <td>TV-MA</td>\n",
              "      <td>96 min</td>\n",
              "      <td>Documentaries, International Movies, Music &amp; M...</td>\n",
              "      <td>Go backstage with beloved rap superstar Gims i...</td>\n",
              "    </tr>\n",
              "    <tr>\n",
              "      <th>3502</th>\n",
              "      <td>s3503</td>\n",
              "      <td>TV Show</td>\n",
              "      <td>La Révolution</td>\n",
              "      <td>NaN</td>\n",
              "      <td>Amir El Kacem, Marilou Aussilloux, Lionel Erdo...</td>\n",
              "      <td>France</td>\n",
              "      <td>October 16, 2020</td>\n",
              "      <td>2020</td>\n",
              "      <td>TV-MA</td>\n",
              "      <td>1 Season</td>\n",
              "      <td>International TV Shows, TV Action &amp; Adventure,...</td>\n",
              "      <td>In a reimagined history, a mysterious disease ...</td>\n",
              "    </tr>\n",
              "    <tr>\n",
              "      <th>7145</th>\n",
              "      <td>s7146</td>\n",
              "      <td>Movie</td>\n",
              "      <td>Tony Parker: The Final Shot</td>\n",
              "      <td>Florent Bodin</td>\n",
              "      <td>Tony Parker</td>\n",
              "      <td>France</td>\n",
              "      <td>January 6, 2021</td>\n",
              "      <td>2020</td>\n",
              "      <td>TV-14</td>\n",
              "      <td>99 min</td>\n",
              "      <td>Documentaries, International Movies, Sports Mo...</td>\n",
              "      <td>This film examines the background and career o...</td>\n",
              "    </tr>\n",
              "    <tr>\n",
              "      <th>7498</th>\n",
              "      <td>s7499</td>\n",
              "      <td>Movie</td>\n",
              "      <td>We Are One</td>\n",
              "      <td>Stéphane de Freitas</td>\n",
              "      <td>NaN</td>\n",
              "      <td>France</td>\n",
              "      <td>July 14, 2020</td>\n",
              "      <td>2020</td>\n",
              "      <td>TV-MA</td>\n",
              "      <td>86 min</td>\n",
              "      <td>Documentaries, International Movies, Music &amp; M...</td>\n",
              "      <td>Activists around the world fight injustice and...</td>\n",
              "    </tr>\n",
              "    <tr>\n",
              "      <th>910</th>\n",
              "      <td>s911</td>\n",
              "      <td>Movie</td>\n",
              "      <td>Bigflo &amp; Oli: Hip Hop Frenzy</td>\n",
              "      <td>Bigflo &amp; Oli, Jérémie Levypon</td>\n",
              "      <td>Bigflo &amp; Oli</td>\n",
              "      <td>France</td>\n",
              "      <td>October 8, 2020</td>\n",
              "      <td>2020</td>\n",
              "      <td>TV-MA</td>\n",
              "      <td>100 min</td>\n",
              "      <td>Documentaries, International Movies, Music &amp; M...</td>\n",
              "      <td>Go backstage with French rap duo Bigflo &amp; Oli ...</td>\n",
              "    </tr>\n",
              "    <tr>\n",
              "      <th>2105</th>\n",
              "      <td>s2106</td>\n",
              "      <td>TV Show</td>\n",
              "      <td>Family Business</td>\n",
              "      <td>NaN</td>\n",
              "      <td>Jonathan Cohen, Gérard Darmon, Julia Piaton, L...</td>\n",
              "      <td>France</td>\n",
              "      <td>September 11, 2020</td>\n",
              "      <td>2020</td>\n",
              "      <td>TV-MA</td>\n",
              "      <td>2 Seasons</td>\n",
              "      <td>International TV Shows, TV Comedies, TV Dramas</td>\n",
              "      <td>After learning France is about to legalize pot...</td>\n",
              "    </tr>\n",
              "    <tr>\n",
              "      <th>512</th>\n",
              "      <td>s513</td>\n",
              "      <td>Movie</td>\n",
              "      <td>Anelka: Misunderstood</td>\n",
              "      <td>Franck Nataf</td>\n",
              "      <td>Nicolas Anelka</td>\n",
              "      <td>France</td>\n",
              "      <td>August 5, 2020</td>\n",
              "      <td>2020</td>\n",
              "      <td>TV-14</td>\n",
              "      <td>95 min</td>\n",
              "      <td>Documentaries, International Movies, Sports Mo...</td>\n",
              "      <td>Inscrutable, incomparable or both? Famed Frenc...</td>\n",
              "    </tr>\n",
              "    <tr>\n",
              "      <th>2117</th>\n",
              "      <td>s2118</td>\n",
              "      <td>TV Show</td>\n",
              "      <td>Fary : Hexagone</td>\n",
              "      <td>Adrien Lagier, Ousmane Ly</td>\n",
              "      <td>Fary</td>\n",
              "      <td>France</td>\n",
              "      <td>April 16, 2020</td>\n",
              "      <td>2020</td>\n",
              "      <td>TV-MA</td>\n",
              "      <td>2 Seasons</td>\n",
              "      <td>International TV Shows, Stand-Up Comedy &amp; Talk...</td>\n",
              "      <td>French comedy phenom Fary puts a playful spin ...</td>\n",
              "    </tr>\n",
              "    <tr>\n",
              "      <th>5253</th>\n",
              "      <td>s5254</td>\n",
              "      <td>Movie</td>\n",
              "      <td>Rogue City</td>\n",
              "      <td>Olivier Marchal</td>\n",
              "      <td>Lannick Gautry, Stanislas Merhar, Kaaris, Davi...</td>\n",
              "      <td>France</td>\n",
              "      <td>October 30, 2020</td>\n",
              "      <td>2020</td>\n",
              "      <td>TV-MA</td>\n",
              "      <td>116 min</td>\n",
              "      <td>Dramas, International Movies, Thrillers</td>\n",
              "      <td>Caught in the crosshairs of police corruption ...</td>\n",
              "    </tr>\n",
              "    <tr>\n",
              "      <th>5275</th>\n",
              "      <td>s5276</td>\n",
              "      <td>TV Show</td>\n",
              "      <td>Room 2806: The Accusation</td>\n",
              "      <td>Jalil Lespert</td>\n",
              "      <td>NaN</td>\n",
              "      <td>France</td>\n",
              "      <td>December 7, 2020</td>\n",
              "      <td>2020</td>\n",
              "      <td>TV-MA</td>\n",
              "      <td>1 Season</td>\n",
              "      <td>Crime TV Shows, Docuseries, International TV S...</td>\n",
              "      <td>This docuseries follows the 2011 sexual assaul...</td>\n",
              "    </tr>\n",
              "    <tr>\n",
              "      <th>3002</th>\n",
              "      <td>s3003</td>\n",
              "      <td>TV Show</td>\n",
              "      <td>Inhuman Resources</td>\n",
              "      <td>Ziad Doueiri</td>\n",
              "      <td>Eric Cantona, Suzanne Clément, Alex Lutz, Gust...</td>\n",
              "      <td>France</td>\n",
              "      <td>May 15, 2020</td>\n",
              "      <td>2020</td>\n",
              "      <td>TV-MA</td>\n",
              "      <td>1 Season</td>\n",
              "      <td>Crime TV Shows, International TV Shows, TV Dramas</td>\n",
              "      <td>Alain Delambre, unemployed and 57, is lured by...</td>\n",
              "    </tr>\n",
              "    <tr>\n",
              "      <th>1559</th>\n",
              "      <td>s1560</td>\n",
              "      <td>Movie</td>\n",
              "      <td>Cuties</td>\n",
              "      <td>Maïmouna Doucouré</td>\n",
              "      <td>Fathia Youssouf, Médina El Aidi-Azouni, Esther...</td>\n",
              "      <td>France</td>\n",
              "      <td>September 9, 2020</td>\n",
              "      <td>2020</td>\n",
              "      <td>TV-MA</td>\n",
              "      <td>96 min</td>\n",
              "      <td>Dramas, International Movies</td>\n",
              "      <td>Eleven-year-old Amy starts to rebel against he...</td>\n",
              "    </tr>\n",
              "    <tr>\n",
              "      <th>7009</th>\n",
              "      <td>s7010</td>\n",
              "      <td>Movie</td>\n",
              "      <td>The Wolf's Call</td>\n",
              "      <td>Antonin Baudry</td>\n",
              "      <td>François Civil, Omar Sy, Mathieu Kassovitz, Re...</td>\n",
              "      <td>France</td>\n",
              "      <td>June 20, 2019</td>\n",
              "      <td>2019</td>\n",
              "      <td>TV-14</td>\n",
              "      <td>116 min</td>\n",
              "      <td>Dramas, International Movies, Thrillers</td>\n",
              "      <td>With nuclear war looming, a military expert in...</td>\n",
              "    </tr>\n",
              "    <tr>\n",
              "      <th>3517</th>\n",
              "      <td>s3518</td>\n",
              "      <td>Movie</td>\n",
              "      <td>Lady J</td>\n",
              "      <td>Emmanuel Mouret</td>\n",
              "      <td>Cécile De France, Edouard Baer, Alice Isaaz, N...</td>\n",
              "      <td>France</td>\n",
              "      <td>March 8, 2019</td>\n",
              "      <td>2019</td>\n",
              "      <td>TV-MA</td>\n",
              "      <td>111 min</td>\n",
              "      <td>Dramas, Independent Movies, International Movies</td>\n",
              "      <td>When her romance with a lustful marquis takes ...</td>\n",
              "    </tr>\n",
              "    <tr>\n",
              "      <th>2915</th>\n",
              "      <td>s2916</td>\n",
              "      <td>Movie</td>\n",
              "      <td>I Lost My Body</td>\n",
              "      <td>Jérémy Clapin</td>\n",
              "      <td>Hakim Faris, Victoire Du Bois, Patrick d'Assum...</td>\n",
              "      <td>France</td>\n",
              "      <td>November 29, 2019</td>\n",
              "      <td>2019</td>\n",
              "      <td>TV-MA</td>\n",
              "      <td>81 min</td>\n",
              "      <td>Dramas, Independent Movies, International Movies</td>\n",
              "      <td>Romance, mystery and adventure intertwine as a...</td>\n",
              "    </tr>\n",
              "    <tr>\n",
              "      <th>4377</th>\n",
              "      <td>s4378</td>\n",
              "      <td>TV Show</td>\n",
              "      <td>Mythomaniac</td>\n",
              "      <td>NaN</td>\n",
              "      <td>Marina Hands, Mathieu Demy, Marie Drion, Jérém...</td>\n",
              "      <td>France</td>\n",
              "      <td>November 28, 2019</td>\n",
              "      <td>2019</td>\n",
              "      <td>TV-MA</td>\n",
              "      <td>1 Season</td>\n",
              "      <td>International TV Shows, TV Comedies, TV Dramas</td>\n",
              "      <td>Burned out and taken for granted, a working mo...</td>\n",
              "    </tr>\n",
              "  </tbody>\n",
              "</table>\n",
              "</div>"
            ],
            "text/plain": [
              "     show_id     type                         title  \\\n",
              "6462   s6463  TV Show              The Hook Up Plan   \n",
              "7388   s7389  TV Show                      Vampires   \n",
              "3729   s3730    Movie                   Lost Bullet   \n",
              "7365   s7366  TV Show                    Until Dawn   \n",
              "2414   s2415    Movie           GIMS: On the Record   \n",
              "3502   s3503  TV Show                 La Révolution   \n",
              "7145   s7146    Movie   Tony Parker: The Final Shot   \n",
              "7498   s7499    Movie                    We Are One   \n",
              "910     s911    Movie  Bigflo & Oli: Hip Hop Frenzy   \n",
              "2105   s2106  TV Show               Family Business   \n",
              "512     s513    Movie         Anelka: Misunderstood   \n",
              "2117   s2118  TV Show               Fary : Hexagone   \n",
              "5253   s5254    Movie                    Rogue City   \n",
              "5275   s5276  TV Show     Room 2806: The Accusation   \n",
              "3002   s3003  TV Show             Inhuman Resources   \n",
              "1559   s1560    Movie                        Cuties   \n",
              "7009   s7010    Movie               The Wolf's Call   \n",
              "3517   s3518    Movie                        Lady J   \n",
              "2915   s2916    Movie                I Lost My Body   \n",
              "4377   s4378  TV Show                   Mythomaniac   \n",
              "\n",
              "                           director  \\\n",
              "6462                            NaN   \n",
              "7388                            NaN   \n",
              "3729              Guillaume Pierret   \n",
              "7365                            NaN   \n",
              "2414                  Florent Bodin   \n",
              "3502                            NaN   \n",
              "7145                  Florent Bodin   \n",
              "7498            Stéphane de Freitas   \n",
              "910   Bigflo & Oli, Jérémie Levypon   \n",
              "2105                            NaN   \n",
              "512                    Franck Nataf   \n",
              "2117      Adrien Lagier, Ousmane Ly   \n",
              "5253                Olivier Marchal   \n",
              "5275                  Jalil Lespert   \n",
              "3002                   Ziad Doueiri   \n",
              "1559              Maïmouna Doucouré   \n",
              "7009                 Antonin Baudry   \n",
              "3517                Emmanuel Mouret   \n",
              "2915                  Jérémy Clapin   \n",
              "4377                            NaN   \n",
              "\n",
              "                                                   cast country  \\\n",
              "6462  Marc Ruchmann, Zita Hanrot, Sabrina Ouazani, J...  France   \n",
              "7388  Oulaya Amamra, Suzanne Clément, Kate Moran, Mo...  France   \n",
              "3729  Alban Lenoir, Nicolas Duvauchelle, Ramzy Bedia...  France   \n",
              "7365  Ahmed Sylla, Alban Ivanov, Ornella Fleury, Nat...  France   \n",
              "2414                                        Maître Gims  France   \n",
              "3502  Amir El Kacem, Marilou Aussilloux, Lionel Erdo...  France   \n",
              "7145                                        Tony Parker  France   \n",
              "7498                                                NaN  France   \n",
              "910                                        Bigflo & Oli  France   \n",
              "2105  Jonathan Cohen, Gérard Darmon, Julia Piaton, L...  France   \n",
              "512                                      Nicolas Anelka  France   \n",
              "2117                                               Fary  France   \n",
              "5253  Lannick Gautry, Stanislas Merhar, Kaaris, Davi...  France   \n",
              "5275                                                NaN  France   \n",
              "3002  Eric Cantona, Suzanne Clément, Alex Lutz, Gust...  France   \n",
              "1559  Fathia Youssouf, Médina El Aidi-Azouni, Esther...  France   \n",
              "7009  François Civil, Omar Sy, Mathieu Kassovitz, Re...  France   \n",
              "3517  Cécile De France, Edouard Baer, Alice Isaaz, N...  France   \n",
              "2915  Hakim Faris, Victoire Du Bois, Patrick d'Assum...  France   \n",
              "4377  Marina Hands, Mathieu Demy, Marie Drion, Jérém...  France   \n",
              "\n",
              "              date_added  release_year rating   duration  \\\n",
              "6462    October 11, 2019          2020  TV-MA  2 Seasons   \n",
              "7388      March 20, 2020          2020  TV-MA   1 Season   \n",
              "3729       June 19, 2020          2020  TV-MA     93 min   \n",
              "7365    January 10, 2020          2020  TV-MA   1 Season   \n",
              "2414  September 17, 2020          2020  TV-MA     96 min   \n",
              "3502    October 16, 2020          2020  TV-MA   1 Season   \n",
              "7145     January 6, 2021          2020  TV-14     99 min   \n",
              "7498       July 14, 2020          2020  TV-MA     86 min   \n",
              "910      October 8, 2020          2020  TV-MA    100 min   \n",
              "2105  September 11, 2020          2020  TV-MA  2 Seasons   \n",
              "512       August 5, 2020          2020  TV-14     95 min   \n",
              "2117      April 16, 2020          2020  TV-MA  2 Seasons   \n",
              "5253    October 30, 2020          2020  TV-MA    116 min   \n",
              "5275    December 7, 2020          2020  TV-MA   1 Season   \n",
              "3002        May 15, 2020          2020  TV-MA   1 Season   \n",
              "1559   September 9, 2020          2020  TV-MA     96 min   \n",
              "7009       June 20, 2019          2019  TV-14    116 min   \n",
              "3517       March 8, 2019          2019  TV-MA    111 min   \n",
              "2915   November 29, 2019          2019  TV-MA     81 min   \n",
              "4377   November 28, 2019          2019  TV-MA   1 Season   \n",
              "\n",
              "                                              listed_in  \\\n",
              "6462  International TV Shows, Romantic TV Shows, TV ...   \n",
              "7388       International TV Shows, TV Dramas, TV Horror   \n",
              "3729   Action & Adventure, Dramas, International Movies   \n",
              "7365    International TV Shows, Reality TV, TV Comedies   \n",
              "2414  Documentaries, International Movies, Music & M...   \n",
              "3502  International TV Shows, TV Action & Adventure,...   \n",
              "7145  Documentaries, International Movies, Sports Mo...   \n",
              "7498  Documentaries, International Movies, Music & M...   \n",
              "910   Documentaries, International Movies, Music & M...   \n",
              "2105     International TV Shows, TV Comedies, TV Dramas   \n",
              "512   Documentaries, International Movies, Sports Mo...   \n",
              "2117  International TV Shows, Stand-Up Comedy & Talk...   \n",
              "5253            Dramas, International Movies, Thrillers   \n",
              "5275  Crime TV Shows, Docuseries, International TV S...   \n",
              "3002  Crime TV Shows, International TV Shows, TV Dramas   \n",
              "1559                       Dramas, International Movies   \n",
              "7009            Dramas, International Movies, Thrillers   \n",
              "3517   Dramas, Independent Movies, International Movies   \n",
              "2915   Dramas, Independent Movies, International Movies   \n",
              "4377     International TV Shows, TV Comedies, TV Dramas   \n",
              "\n",
              "                                            description  \n",
              "6462  When Parisian Elsa gets hung up on her ex, her...  \n",
              "7388  A Paris teen who's half human, half vampire gr...  \n",
              "3729  Facing a murder charge, a genius mechanic with...  \n",
              "7365  France’s funniest comics carry out ghastly tas...  \n",
              "2414  Go backstage with beloved rap superstar Gims i...  \n",
              "3502  In a reimagined history, a mysterious disease ...  \n",
              "7145  This film examines the background and career o...  \n",
              "7498  Activists around the world fight injustice and...  \n",
              "910   Go backstage with French rap duo Bigflo & Oli ...  \n",
              "2105  After learning France is about to legalize pot...  \n",
              "512   Inscrutable, incomparable or both? Famed Frenc...  \n",
              "2117  French comedy phenom Fary puts a playful spin ...  \n",
              "5253  Caught in the crosshairs of police corruption ...  \n",
              "5275  This docuseries follows the 2011 sexual assaul...  \n",
              "3002  Alain Delambre, unemployed and 57, is lured by...  \n",
              "1559  Eleven-year-old Amy starts to rebel against he...  \n",
              "7009  With nuclear war looming, a military expert in...  \n",
              "3517  When her romance with a lustful marquis takes ...  \n",
              "2915  Romance, mystery and adventure intertwine as a...  \n",
              "4377  Burned out and taken for granted, a working mo...  "
            ]
          },
          "execution_count": 41,
          "metadata": {},
          "output_type": "execute_result"
        }
      ],
      "source": [
        "newest_fr_series"
      ]
    },
    {
      "cell_type": "code",
      "execution_count": null,
      "metadata": {
        "papermill": {
          "duration": 0.262994,
          "end_time": "2021-02-25T06:30:28.840044",
          "exception": false,
          "start_time": "2021-02-25T06:30:28.577050",
          "status": "completed"
        },
        "tags": [],
        "id": "4eRif26ARjnG",
        "outputId": "9a62d998-ad11-4d9c-fcc8-88736952787e"
      },
      "outputs": [
        {
          "data": {
            "text/html": [
              "<div>\n",
              "        \n",
              "        \n",
              "            <div id=\"424e84ec-34e5-4f48-b6a5-83b4f176822a\" class=\"plotly-graph-div\" style=\"height:525px; width:100%;\"></div>\n",
              "            <script type=\"text/javascript\">\n",
              "                require([\"plotly\"], function(Plotly) {\n",
              "                    window.PLOTLYENV=window.PLOTLYENV || {};\n",
              "                    \n",
              "                if (document.getElementById(\"424e84ec-34e5-4f48-b6a5-83b4f176822a\")) {\n",
              "                    Plotly.newPlot(\n",
              "                        '424e84ec-34e5-4f48-b6a5-83b4f176822a',\n",
              "                        [{\"cells\": {\"values\": [[\"The Hook Up Plan\", \"Vampires\", \"Lost Bullet\", \"Until Dawn\", \"GIMS: On the Record\", \"La R\\u00e9volution\", \"Tony Parker: The Final Shot\", \"We Are One\", \"Bigflo & Oli: Hip Hop Frenzy\", \"Family Business\", \"Anelka: Misunderstood\", \"Fary : Hexagone\", \"Rogue City\", \"Room 2806: The Accusation\", \"Inhuman Resources\", \"Cuties\", \"The Wolf's Call\", \"Lady J\", \"I Lost My Body\", \"Mythomaniac\"], [2020, 2020, 2020, 2020, 2020, 2020, 2020, 2020, 2020, 2020, 2020, 2020, 2020, 2020, 2020, 2020, 2019, 2019, 2019, 2019]]}, \"header\": {\"values\": [\"Title\", \"Release Year\"]}, \"type\": \"table\"}],\n",
              "                        {\"template\": {\"data\": {\"bar\": [{\"error_x\": {\"color\": \"#2a3f5f\"}, \"error_y\": {\"color\": \"#2a3f5f\"}, \"marker\": {\"line\": {\"color\": \"#E5ECF6\", \"width\": 0.5}}, \"type\": \"bar\"}], \"barpolar\": [{\"marker\": {\"line\": {\"color\": \"#E5ECF6\", \"width\": 0.5}}, \"type\": \"barpolar\"}], \"carpet\": [{\"aaxis\": {\"endlinecolor\": \"#2a3f5f\", \"gridcolor\": \"white\", \"linecolor\": \"white\", \"minorgridcolor\": \"white\", \"startlinecolor\": \"#2a3f5f\"}, \"baxis\": {\"endlinecolor\": \"#2a3f5f\", \"gridcolor\": \"white\", \"linecolor\": \"white\", \"minorgridcolor\": \"white\", \"startlinecolor\": \"#2a3f5f\"}, \"type\": \"carpet\"}], \"choropleth\": [{\"colorbar\": {\"outlinewidth\": 0, \"ticks\": \"\"}, \"type\": \"choropleth\"}], \"contour\": [{\"colorbar\": {\"outlinewidth\": 0, \"ticks\": \"\"}, \"colorscale\": [[0.0, \"#0d0887\"], [0.1111111111111111, \"#46039f\"], [0.2222222222222222, \"#7201a8\"], [0.3333333333333333, \"#9c179e\"], [0.4444444444444444, \"#bd3786\"], [0.5555555555555556, \"#d8576b\"], [0.6666666666666666, \"#ed7953\"], [0.7777777777777778, \"#fb9f3a\"], [0.8888888888888888, \"#fdca26\"], [1.0, \"#f0f921\"]], \"type\": \"contour\"}], \"contourcarpet\": [{\"colorbar\": {\"outlinewidth\": 0, \"ticks\": \"\"}, \"type\": \"contourcarpet\"}], \"heatmap\": [{\"colorbar\": {\"outlinewidth\": 0, \"ticks\": \"\"}, \"colorscale\": [[0.0, \"#0d0887\"], [0.1111111111111111, \"#46039f\"], [0.2222222222222222, \"#7201a8\"], [0.3333333333333333, \"#9c179e\"], [0.4444444444444444, \"#bd3786\"], [0.5555555555555556, \"#d8576b\"], [0.6666666666666666, \"#ed7953\"], [0.7777777777777778, \"#fb9f3a\"], [0.8888888888888888, \"#fdca26\"], [1.0, \"#f0f921\"]], \"type\": \"heatmap\"}], \"heatmapgl\": [{\"colorbar\": {\"outlinewidth\": 0, \"ticks\": \"\"}, \"colorscale\": [[0.0, \"#0d0887\"], [0.1111111111111111, \"#46039f\"], [0.2222222222222222, \"#7201a8\"], [0.3333333333333333, \"#9c179e\"], [0.4444444444444444, \"#bd3786\"], [0.5555555555555556, \"#d8576b\"], [0.6666666666666666, \"#ed7953\"], [0.7777777777777778, \"#fb9f3a\"], [0.8888888888888888, \"#fdca26\"], [1.0, \"#f0f921\"]], \"type\": \"heatmapgl\"}], \"histogram\": [{\"marker\": {\"colorbar\": {\"outlinewidth\": 0, \"ticks\": \"\"}}, \"type\": \"histogram\"}], \"histogram2d\": [{\"colorbar\": {\"outlinewidth\": 0, \"ticks\": \"\"}, \"colorscale\": [[0.0, \"#0d0887\"], [0.1111111111111111, \"#46039f\"], [0.2222222222222222, \"#7201a8\"], [0.3333333333333333, \"#9c179e\"], [0.4444444444444444, \"#bd3786\"], [0.5555555555555556, \"#d8576b\"], [0.6666666666666666, \"#ed7953\"], [0.7777777777777778, \"#fb9f3a\"], [0.8888888888888888, \"#fdca26\"], [1.0, \"#f0f921\"]], \"type\": \"histogram2d\"}], \"histogram2dcontour\": [{\"colorbar\": {\"outlinewidth\": 0, \"ticks\": \"\"}, \"colorscale\": [[0.0, \"#0d0887\"], [0.1111111111111111, \"#46039f\"], [0.2222222222222222, \"#7201a8\"], [0.3333333333333333, \"#9c179e\"], [0.4444444444444444, \"#bd3786\"], [0.5555555555555556, \"#d8576b\"], [0.6666666666666666, \"#ed7953\"], [0.7777777777777778, \"#fb9f3a\"], [0.8888888888888888, \"#fdca26\"], [1.0, \"#f0f921\"]], \"type\": \"histogram2dcontour\"}], \"mesh3d\": [{\"colorbar\": {\"outlinewidth\": 0, \"ticks\": \"\"}, \"type\": \"mesh3d\"}], \"parcoords\": [{\"line\": {\"colorbar\": {\"outlinewidth\": 0, \"ticks\": \"\"}}, \"type\": \"parcoords\"}], \"pie\": [{\"automargin\": true, \"type\": \"pie\"}], \"scatter\": [{\"marker\": {\"colorbar\": {\"outlinewidth\": 0, \"ticks\": \"\"}}, \"type\": \"scatter\"}], \"scatter3d\": [{\"line\": {\"colorbar\": {\"outlinewidth\": 0, \"ticks\": \"\"}}, \"marker\": {\"colorbar\": {\"outlinewidth\": 0, \"ticks\": \"\"}}, \"type\": \"scatter3d\"}], \"scattercarpet\": [{\"marker\": {\"colorbar\": {\"outlinewidth\": 0, \"ticks\": \"\"}}, \"type\": \"scattercarpet\"}], \"scattergeo\": [{\"marker\": {\"colorbar\": {\"outlinewidth\": 0, \"ticks\": \"\"}}, \"type\": \"scattergeo\"}], \"scattergl\": [{\"marker\": {\"colorbar\": {\"outlinewidth\": 0, \"ticks\": \"\"}}, \"type\": \"scattergl\"}], \"scattermapbox\": [{\"marker\": {\"colorbar\": {\"outlinewidth\": 0, \"ticks\": \"\"}}, \"type\": \"scattermapbox\"}], \"scatterpolar\": [{\"marker\": {\"colorbar\": {\"outlinewidth\": 0, \"ticks\": \"\"}}, \"type\": \"scatterpolar\"}], \"scatterpolargl\": [{\"marker\": {\"colorbar\": {\"outlinewidth\": 0, \"ticks\": \"\"}}, \"type\": \"scatterpolargl\"}], \"scatterternary\": [{\"marker\": {\"colorbar\": {\"outlinewidth\": 0, \"ticks\": \"\"}}, \"type\": \"scatterternary\"}], \"surface\": [{\"colorbar\": {\"outlinewidth\": 0, \"ticks\": \"\"}, \"colorscale\": [[0.0, \"#0d0887\"], [0.1111111111111111, \"#46039f\"], [0.2222222222222222, \"#7201a8\"], [0.3333333333333333, \"#9c179e\"], [0.4444444444444444, \"#bd3786\"], [0.5555555555555556, \"#d8576b\"], [0.6666666666666666, \"#ed7953\"], [0.7777777777777778, \"#fb9f3a\"], [0.8888888888888888, \"#fdca26\"], [1.0, \"#f0f921\"]], \"type\": \"surface\"}], \"table\": [{\"cells\": {\"fill\": {\"color\": \"#EBF0F8\"}, \"line\": {\"color\": \"white\"}}, \"header\": {\"fill\": {\"color\": \"#C8D4E3\"}, \"line\": {\"color\": \"white\"}}, \"type\": \"table\"}]}, \"layout\": {\"annotationdefaults\": {\"arrowcolor\": \"#2a3f5f\", \"arrowhead\": 0, \"arrowwidth\": 1}, \"coloraxis\": {\"colorbar\": {\"outlinewidth\": 0, \"ticks\": \"\"}}, \"colorscale\": {\"diverging\": [[0, \"#8e0152\"], [0.1, \"#c51b7d\"], [0.2, \"#de77ae\"], [0.3, \"#f1b6da\"], [0.4, \"#fde0ef\"], [0.5, \"#f7f7f7\"], [0.6, \"#e6f5d0\"], [0.7, \"#b8e186\"], [0.8, \"#7fbc41\"], [0.9, \"#4d9221\"], [1, \"#276419\"]], \"sequential\": [[0.0, \"#0d0887\"], [0.1111111111111111, \"#46039f\"], [0.2222222222222222, \"#7201a8\"], [0.3333333333333333, \"#9c179e\"], [0.4444444444444444, \"#bd3786\"], [0.5555555555555556, \"#d8576b\"], [0.6666666666666666, \"#ed7953\"], [0.7777777777777778, \"#fb9f3a\"], [0.8888888888888888, \"#fdca26\"], [1.0, \"#f0f921\"]], \"sequentialminus\": [[0.0, \"#0d0887\"], [0.1111111111111111, \"#46039f\"], [0.2222222222222222, \"#7201a8\"], [0.3333333333333333, \"#9c179e\"], [0.4444444444444444, \"#bd3786\"], [0.5555555555555556, \"#d8576b\"], [0.6666666666666666, \"#ed7953\"], [0.7777777777777778, \"#fb9f3a\"], [0.8888888888888888, \"#fdca26\"], [1.0, \"#f0f921\"]]}, \"colorway\": [\"#636efa\", \"#EF553B\", \"#00cc96\", \"#ab63fa\", \"#FFA15A\", \"#19d3f3\", \"#FF6692\", \"#B6E880\", \"#FF97FF\", \"#FECB52\"], \"font\": {\"color\": \"#2a3f5f\"}, \"geo\": {\"bgcolor\": \"white\", \"lakecolor\": \"white\", \"landcolor\": \"#E5ECF6\", \"showlakes\": true, \"showland\": true, \"subunitcolor\": \"white\"}, \"hoverlabel\": {\"align\": \"left\"}, \"hovermode\": \"closest\", \"mapbox\": {\"style\": \"light\"}, \"paper_bgcolor\": \"white\", \"plot_bgcolor\": \"#E5ECF6\", \"polar\": {\"angularaxis\": {\"gridcolor\": \"white\", \"linecolor\": \"white\", \"ticks\": \"\"}, \"bgcolor\": \"#E5ECF6\", \"radialaxis\": {\"gridcolor\": \"white\", \"linecolor\": \"white\", \"ticks\": \"\"}}, \"scene\": {\"xaxis\": {\"backgroundcolor\": \"#E5ECF6\", \"gridcolor\": \"white\", \"gridwidth\": 2, \"linecolor\": \"white\", \"showbackground\": true, \"ticks\": \"\", \"zerolinecolor\": \"white\"}, \"yaxis\": {\"backgroundcolor\": \"#E5ECF6\", \"gridcolor\": \"white\", \"gridwidth\": 2, \"linecolor\": \"white\", \"showbackground\": true, \"ticks\": \"\", \"zerolinecolor\": \"white\"}, \"zaxis\": {\"backgroundcolor\": \"#E5ECF6\", \"gridcolor\": \"white\", \"gridwidth\": 2, \"linecolor\": \"white\", \"showbackground\": true, \"ticks\": \"\", \"zerolinecolor\": \"white\"}}, \"shapedefaults\": {\"line\": {\"color\": \"#2a3f5f\"}}, \"ternary\": {\"aaxis\": {\"gridcolor\": \"white\", \"linecolor\": \"white\", \"ticks\": \"\"}, \"baxis\": {\"gridcolor\": \"white\", \"linecolor\": \"white\", \"ticks\": \"\"}, \"bgcolor\": \"#E5ECF6\", \"caxis\": {\"gridcolor\": \"white\", \"linecolor\": \"white\", \"ticks\": \"\"}}, \"title\": {\"x\": 0.05}, \"xaxis\": {\"automargin\": true, \"gridcolor\": \"white\", \"linecolor\": \"white\", \"ticks\": \"\", \"title\": {\"standoff\": 15}, \"zerolinecolor\": \"white\", \"zerolinewidth\": 2}, \"yaxis\": {\"automargin\": true, \"gridcolor\": \"white\", \"linecolor\": \"white\", \"ticks\": \"\", \"title\": {\"standoff\": 15}, \"zerolinecolor\": \"white\", \"zerolinewidth\": 2}}}},\n",
              "                        {\"responsive\": true}\n",
              "                    ).then(function(){\n",
              "                            \n",
              "var gd = document.getElementById('424e84ec-34e5-4f48-b6a5-83b4f176822a');\n",
              "var x = new MutationObserver(function (mutations, observer) {{\n",
              "        var display = window.getComputedStyle(gd).display;\n",
              "        if (!display || display === 'none') {{\n",
              "            console.log([gd, 'removed!']);\n",
              "            Plotly.purge(gd);\n",
              "            observer.disconnect();\n",
              "        }}\n",
              "}});\n",
              "\n",
              "// Listen for the removal of the full notebook cells\n",
              "var notebookContainer = gd.closest('#notebook-container');\n",
              "if (notebookContainer) {{\n",
              "    x.observe(notebookContainer, {childList: true});\n",
              "}}\n",
              "\n",
              "// Listen for the clearing of the current output cell\n",
              "var outputEl = gd.closest('.output');\n",
              "if (outputEl) {{\n",
              "    x.observe(outputEl, {childList: true});\n",
              "}}\n",
              "\n",
              "                        })\n",
              "                };\n",
              "                });\n",
              "            </script>\n",
              "        </div>"
            ]
          },
          "metadata": {},
          "output_type": "display_data"
        }
      ],
      "source": [
        "fig = go.Figure(data=[go.Table(header=dict(values=['Title', 'Release Year']),\n",
        "                 cells=dict(values=[newest_fr_series['title'],newest_fr_series['release_year']]))\n",
        "                     ])\n",
        "fig.show()"
      ]
    },
    {
      "cell_type": "markdown",
      "metadata": {
        "papermill": {
          "duration": 0.101767,
          "end_time": "2021-02-25T06:30:29.042482",
          "exception": false,
          "start_time": "2021-02-25T06:30:28.940715",
          "status": "completed"
        },
        "tags": [],
        "id": "9eCcBBqZRjnH"
      },
      "source": [
        "# Top Duration"
      ]
    },
    {
      "cell_type": "code",
      "execution_count": null,
      "metadata": {
        "papermill": {
          "duration": 0.280179,
          "end_time": "2021-02-25T06:30:29.424384",
          "exception": false,
          "start_time": "2021-02-25T06:30:29.144205",
          "status": "completed"
        },
        "tags": [],
        "id": "klEuSi4cRjnH",
        "outputId": "b0d75772-52e7-4a40-d3e2-2da8236a3b65"
      },
      "outputs": [
        {
          "data": {
            "text/html": [
              "<div>\n",
              "        \n",
              "        \n",
              "            <div id=\"68faaaf0-5451-4480-bb77-a04095764f78\" class=\"plotly-graph-div\" style=\"height:525px; width:100%;\"></div>\n",
              "            <script type=\"text/javascript\">\n",
              "                require([\"plotly\"], function(Plotly) {\n",
              "                    window.PLOTLYENV=window.PLOTLYENV || {};\n",
              "                    \n",
              "                if (document.getElementById(\"68faaaf0-5451-4480-bb77-a04095764f78\")) {\n",
              "                    Plotly.newPlot(\n",
              "                        '68faaaf0-5451-4480-bb77-a04095764f78',\n",
              "                        [{\"marker\": {\"color\": \"indianred\"}, \"text\": [1608.0, 382.0, 184.0, 136.0, 131.0, 125.0, 125.0, 119.0, 118.0, 117.0, 115.0, 106.0, 101.0, 101.0, 101.0, 98.0, 97.0, 97.0, 96.0, 93.0, 91.0, 89.0, 88.0, 87.0, 87.0, 86.0, 85.0, 74.0, 65.0, 65.0, 63.0, 61.0, 61.0, 61.0, 60.0, 58.0, 58.0, 56.0, 54.0, 54.0, 51.0, 48.0, 47.0, 47.0, 46.0, 45.0, 44.0, 40.0, 40.0, 40.0, 39.0, 38.0, 38.0, 38.0, 37.0, 37.0, 36.0, 35.0, 34.0, 33.0, 33.0, 32.0, 32.0, 30.0, 30.0, 29.0, 29.0, 29.0, 28.0, 28.0, 28.0, 28.0, 27.0, 26.0, 26.0, 24.0, 24.0, 24.0, 23.0, 23.0, 23.0, 22.0, 22.0, 22.0, 22.0, 21.0, 21.0, 20.0, 19.0, 19.0, 19.0, 19.0, 18.0, 18.0, 18.0, 18.0, 18.0, 17.0, 17.0, 17.0, 16.0, 15.0, 15.0, 14.0, 14.0, 13.0, 13.0, 13.0, 13.0, 12.0, 12.0, 12.0, 12.0, 11.0, 11.0, 11.0, 11.0, 10.0, 10.0, 10.0, 10.0, 10.0, 10.0, 10.0, 10.0, 9.0, 9.0, 9.0, 8.0, 8.0, 8.0, 8.0, 8.0, 7.0, 7.0, 7.0, 7.0, 7.0, 6.0, 6.0, 6.0, 6.0, 6.0, 6.0, 5.0, 5.0, 5.0, 5.0, 5.0, 5.0, 4.0, 4.0, 4.0, 4.0, 3.0, 3.0, 3.0, 3.0, 3.0, 3.0, 2.0, 2.0, 2.0, 2.0, 2.0, 2.0, 2.0, 2.0, 2.0, 2.0, 2.0, 2.0, 2.0, 2.0, 2.0, 2.0, 2.0, 2.0, 2.0, 2.0, 2.0, 2.0, 1.0, 1.0, 1.0, 1.0, 1.0, 1.0, 1.0, 1.0, 1.0, 1.0, 1.0, 1.0, 1.0, 1.0, 1.0, 1.0, 1.0, 1.0, 1.0, 1.0, 1.0, 1.0, 1.0, 1.0, 1.0, 1.0, 1.0, 1.0, 1.0, 1.0, 1.0, 1.0, 1.0, 1.0], \"textposition\": \"outside\", \"texttemplate\": \"%{text:.2s}\", \"type\": \"bar\", \"x\": [\"1 Season\", \"2 Seasons\", \"3 Seasons\", \"90 min\", \"93 min\", \"91 min\", \"94 min\", \"95 min\", \"92 min\", \"97 min\", \"96 min\", \"98 min\", \"88 min\", \"103 min\", \"99 min\", \"102 min\", \"100 min\", \"106 min\", \"101 min\", \"86 min\", \"105 min\", \"104 min\", \"89 min\", \"4 Seasons\", \"87 min\", \"110 min\", \"107 min\", \"108 min\", \"116 min\", \"112 min\", \"85 min\", \"109 min\", \"111 min\", \"83 min\", \"84 min\", \"5 Seasons\", \"81 min\", \"117 min\", \"113 min\", \"119 min\", \"118 min\", \"82 min\", \"120 min\", \"115 min\", \"124 min\", \"114 min\", \"121 min\", \"78 min\", \"126 min\", \"127 min\", \"80 min\", \"130 min\", \"122 min\", \"128 min\", \"135 min\", \"137 min\", \"133 min\", \"123 min\", \"79 min\", \"75 min\", \"132 min\", \"72 min\", \"125 min\", \"129 min\", \"6 Seasons\", \"66 min\", \"74 min\", \"63 min\", \"131 min\", \"77 min\", \"73 min\", \"61 min\", \"69 min\", \"71 min\", \"60 min\", \"59 min\", \"53 min\", \"76 min\", \"54 min\", \"46 min\", \"62 min\", \"70 min\", \"140 min\", \"65 min\", \"24 min\", \"134 min\", \"58 min\", \"68 min\", \"52 min\", \"44 min\", \"7 Seasons\", \"67 min\", \"141 min\", \"8 Seasons\", \"143 min\", \"136 min\", \"148 min\", \"139 min\", \"150 min\", \"138 min\", \"64 min\", \"22 min\", \"55 min\", \"57 min\", \"151 min\", \"149 min\", \"146 min\", \"40 min\", \"162 min\", \"23 min\", \"56 min\", \"145 min\", \"154 min\", \"153 min\", \"158 min\", \"142 min\", \"163 min\", \"29 min\", \"50 min\", \"25 min\", \"147 min\", \"51 min\", \"47 min\", \"28 min\", \"45 min\", \"161 min\", \"155 min\", \"156 min\", \"9 Seasons\", \"165 min\", \"49 min\", \"144 min\", \"42 min\", \"168 min\", \"48 min\", \"32 min\", \"166 min\", \"171 min\", \"160 min\", \"26 min\", \"30 min\", \"157 min\", \"159 min\", \"10 Seasons\", \"176 min\", \"170 min\", \"33 min\", \"173 min\", \"152 min\", \"185 min\", \"177 min\", \"164 min\", \"38 min\", \"172 min\", \"17 min\", \"11 Seasons\", \"41 min\", \"35 min\", \"27 min\", \"14 min\", \"37 min\", \"13 Seasons\", \"190 min\", \"12 Seasons\", \"15 Seasons\", \"174 min\", \"15 min\", \"180 min\", \"21 min\", \"192 min\", \"12 min\", \"169 min\", \"181 min\", \"209 min\", \"179 min\", \"11 min\", \"195 min\", \"34 min\", \"20 min\", \"31 min\", \"187 min\", \"19 min\", \"186 min\", \"178 min\", \"230 min\", \"9 min\", \"43 min\", \"18 min\", \"253 min\", \"204 min\", \"205 min\", \"196 min\", \"312 min\", \"237 min\", \"3 min\", \"189 min\", \"8 min\", \"203 min\", \"16 Seasons\", \"13 min\", \"193 min\", \"233 min\", \"214 min\", \"228 min\", \"200 min\", \"5 min\", \"191 min\", \"182 min\", \"201 min\", \"167 min\", \"194 min\", \"224 min\", \"10 min\", \"16 min\", \"36 min\", \"208 min\"], \"y\": [1608, 382, 184, 136, 131, 125, 125, 119, 118, 117, 115, 106, 101, 101, 101, 98, 97, 97, 96, 93, 91, 89, 88, 87, 87, 86, 85, 74, 65, 65, 63, 61, 61, 61, 60, 58, 58, 56, 54, 54, 51, 48, 47, 47, 46, 45, 44, 40, 40, 40, 39, 38, 38, 38, 37, 37, 36, 35, 34, 33, 33, 32, 32, 30, 30, 29, 29, 29, 28, 28, 28, 28, 27, 26, 26, 24, 24, 24, 23, 23, 23, 22, 22, 22, 22, 21, 21, 20, 19, 19, 19, 19, 18, 18, 18, 18, 18, 17, 17, 17, 16, 15, 15, 14, 14, 13, 13, 13, 13, 12, 12, 12, 12, 11, 11, 11, 11, 10, 10, 10, 10, 10, 10, 10, 10, 9, 9, 9, 8, 8, 8, 8, 8, 7, 7, 7, 7, 7, 6, 6, 6, 6, 6, 6, 5, 5, 5, 5, 5, 5, 4, 4, 4, 4, 3, 3, 3, 3, 3, 3, 2, 2, 2, 2, 2, 2, 2, 2, 2, 2, 2, 2, 2, 2, 2, 2, 2, 2, 2, 2, 2, 2, 1, 1, 1, 1, 1, 1, 1, 1, 1, 1, 1, 1, 1, 1, 1, 1, 1, 1, 1, 1, 1, 1, 1, 1, 1, 1, 1, 1, 1, 1, 1, 1, 1, 1]}],\n",
              "                        {\"template\": {\"data\": {\"bar\": [{\"error_x\": {\"color\": \"#2a3f5f\"}, \"error_y\": {\"color\": \"#2a3f5f\"}, \"marker\": {\"line\": {\"color\": \"#E5ECF6\", \"width\": 0.5}}, \"type\": \"bar\"}], \"barpolar\": [{\"marker\": {\"line\": {\"color\": \"#E5ECF6\", \"width\": 0.5}}, \"type\": \"barpolar\"}], \"carpet\": [{\"aaxis\": {\"endlinecolor\": \"#2a3f5f\", \"gridcolor\": \"white\", \"linecolor\": \"white\", \"minorgridcolor\": \"white\", \"startlinecolor\": \"#2a3f5f\"}, \"baxis\": {\"endlinecolor\": \"#2a3f5f\", \"gridcolor\": \"white\", \"linecolor\": \"white\", \"minorgridcolor\": \"white\", \"startlinecolor\": \"#2a3f5f\"}, \"type\": \"carpet\"}], \"choropleth\": [{\"colorbar\": {\"outlinewidth\": 0, \"ticks\": \"\"}, \"type\": \"choropleth\"}], \"contour\": [{\"colorbar\": {\"outlinewidth\": 0, \"ticks\": \"\"}, \"colorscale\": [[0.0, \"#0d0887\"], [0.1111111111111111, \"#46039f\"], [0.2222222222222222, \"#7201a8\"], [0.3333333333333333, \"#9c179e\"], [0.4444444444444444, \"#bd3786\"], [0.5555555555555556, \"#d8576b\"], [0.6666666666666666, \"#ed7953\"], [0.7777777777777778, \"#fb9f3a\"], [0.8888888888888888, \"#fdca26\"], [1.0, \"#f0f921\"]], \"type\": \"contour\"}], \"contourcarpet\": [{\"colorbar\": {\"outlinewidth\": 0, \"ticks\": \"\"}, \"type\": \"contourcarpet\"}], \"heatmap\": [{\"colorbar\": {\"outlinewidth\": 0, \"ticks\": \"\"}, \"colorscale\": [[0.0, \"#0d0887\"], [0.1111111111111111, \"#46039f\"], [0.2222222222222222, \"#7201a8\"], [0.3333333333333333, \"#9c179e\"], [0.4444444444444444, \"#bd3786\"], [0.5555555555555556, \"#d8576b\"], [0.6666666666666666, \"#ed7953\"], [0.7777777777777778, \"#fb9f3a\"], [0.8888888888888888, \"#fdca26\"], [1.0, \"#f0f921\"]], \"type\": \"heatmap\"}], \"heatmapgl\": [{\"colorbar\": {\"outlinewidth\": 0, \"ticks\": \"\"}, \"colorscale\": [[0.0, \"#0d0887\"], [0.1111111111111111, \"#46039f\"], [0.2222222222222222, \"#7201a8\"], [0.3333333333333333, \"#9c179e\"], [0.4444444444444444, \"#bd3786\"], [0.5555555555555556, \"#d8576b\"], [0.6666666666666666, \"#ed7953\"], [0.7777777777777778, \"#fb9f3a\"], [0.8888888888888888, \"#fdca26\"], [1.0, \"#f0f921\"]], \"type\": \"heatmapgl\"}], \"histogram\": [{\"marker\": {\"colorbar\": {\"outlinewidth\": 0, \"ticks\": \"\"}}, \"type\": \"histogram\"}], \"histogram2d\": [{\"colorbar\": {\"outlinewidth\": 0, \"ticks\": \"\"}, \"colorscale\": [[0.0, \"#0d0887\"], [0.1111111111111111, \"#46039f\"], [0.2222222222222222, \"#7201a8\"], [0.3333333333333333, \"#9c179e\"], [0.4444444444444444, \"#bd3786\"], [0.5555555555555556, \"#d8576b\"], [0.6666666666666666, \"#ed7953\"], [0.7777777777777778, \"#fb9f3a\"], [0.8888888888888888, \"#fdca26\"], [1.0, \"#f0f921\"]], \"type\": \"histogram2d\"}], \"histogram2dcontour\": [{\"colorbar\": {\"outlinewidth\": 0, \"ticks\": \"\"}, \"colorscale\": [[0.0, \"#0d0887\"], [0.1111111111111111, \"#46039f\"], [0.2222222222222222, \"#7201a8\"], [0.3333333333333333, \"#9c179e\"], [0.4444444444444444, \"#bd3786\"], [0.5555555555555556, \"#d8576b\"], [0.6666666666666666, \"#ed7953\"], [0.7777777777777778, \"#fb9f3a\"], [0.8888888888888888, \"#fdca26\"], [1.0, \"#f0f921\"]], \"type\": \"histogram2dcontour\"}], \"mesh3d\": [{\"colorbar\": {\"outlinewidth\": 0, \"ticks\": \"\"}, \"type\": \"mesh3d\"}], \"parcoords\": [{\"line\": {\"colorbar\": {\"outlinewidth\": 0, \"ticks\": \"\"}}, \"type\": \"parcoords\"}], \"pie\": [{\"automargin\": true, \"type\": \"pie\"}], \"scatter\": [{\"marker\": {\"colorbar\": {\"outlinewidth\": 0, \"ticks\": \"\"}}, \"type\": \"scatter\"}], \"scatter3d\": [{\"line\": {\"colorbar\": {\"outlinewidth\": 0, \"ticks\": \"\"}}, \"marker\": {\"colorbar\": {\"outlinewidth\": 0, \"ticks\": \"\"}}, \"type\": \"scatter3d\"}], \"scattercarpet\": [{\"marker\": {\"colorbar\": {\"outlinewidth\": 0, \"ticks\": \"\"}}, \"type\": \"scattercarpet\"}], \"scattergeo\": [{\"marker\": {\"colorbar\": {\"outlinewidth\": 0, \"ticks\": \"\"}}, \"type\": \"scattergeo\"}], \"scattergl\": [{\"marker\": {\"colorbar\": {\"outlinewidth\": 0, \"ticks\": \"\"}}, \"type\": \"scattergl\"}], \"scattermapbox\": [{\"marker\": {\"colorbar\": {\"outlinewidth\": 0, \"ticks\": \"\"}}, \"type\": \"scattermapbox\"}], \"scatterpolar\": [{\"marker\": {\"colorbar\": {\"outlinewidth\": 0, \"ticks\": \"\"}}, \"type\": \"scatterpolar\"}], \"scatterpolargl\": [{\"marker\": {\"colorbar\": {\"outlinewidth\": 0, \"ticks\": \"\"}}, \"type\": \"scatterpolargl\"}], \"scatterternary\": [{\"marker\": {\"colorbar\": {\"outlinewidth\": 0, \"ticks\": \"\"}}, \"type\": \"scatterternary\"}], \"surface\": [{\"colorbar\": {\"outlinewidth\": 0, \"ticks\": \"\"}, \"colorscale\": [[0.0, \"#0d0887\"], [0.1111111111111111, \"#46039f\"], [0.2222222222222222, \"#7201a8\"], [0.3333333333333333, \"#9c179e\"], [0.4444444444444444, \"#bd3786\"], [0.5555555555555556, \"#d8576b\"], [0.6666666666666666, \"#ed7953\"], [0.7777777777777778, \"#fb9f3a\"], [0.8888888888888888, \"#fdca26\"], [1.0, \"#f0f921\"]], \"type\": \"surface\"}], \"table\": [{\"cells\": {\"fill\": {\"color\": \"#EBF0F8\"}, \"line\": {\"color\": \"white\"}}, \"header\": {\"fill\": {\"color\": \"#C8D4E3\"}, \"line\": {\"color\": \"white\"}}, \"type\": \"table\"}]}, \"layout\": {\"annotationdefaults\": {\"arrowcolor\": \"#2a3f5f\", \"arrowhead\": 0, \"arrowwidth\": 1}, \"coloraxis\": {\"colorbar\": {\"outlinewidth\": 0, \"ticks\": \"\"}}, \"colorscale\": {\"diverging\": [[0, \"#8e0152\"], [0.1, \"#c51b7d\"], [0.2, \"#de77ae\"], [0.3, \"#f1b6da\"], [0.4, \"#fde0ef\"], [0.5, \"#f7f7f7\"], [0.6, \"#e6f5d0\"], [0.7, \"#b8e186\"], [0.8, \"#7fbc41\"], [0.9, \"#4d9221\"], [1, \"#276419\"]], \"sequential\": [[0.0, \"#0d0887\"], [0.1111111111111111, \"#46039f\"], [0.2222222222222222, \"#7201a8\"], [0.3333333333333333, \"#9c179e\"], [0.4444444444444444, \"#bd3786\"], [0.5555555555555556, \"#d8576b\"], [0.6666666666666666, \"#ed7953\"], [0.7777777777777778, \"#fb9f3a\"], [0.8888888888888888, \"#fdca26\"], [1.0, \"#f0f921\"]], \"sequentialminus\": [[0.0, \"#0d0887\"], [0.1111111111111111, \"#46039f\"], [0.2222222222222222, \"#7201a8\"], [0.3333333333333333, \"#9c179e\"], [0.4444444444444444, \"#bd3786\"], [0.5555555555555556, \"#d8576b\"], [0.6666666666666666, \"#ed7953\"], [0.7777777777777778, \"#fb9f3a\"], [0.8888888888888888, \"#fdca26\"], [1.0, \"#f0f921\"]]}, \"colorway\": [\"#636efa\", \"#EF553B\", \"#00cc96\", \"#ab63fa\", \"#FFA15A\", \"#19d3f3\", \"#FF6692\", \"#B6E880\", \"#FF97FF\", \"#FECB52\"], \"font\": {\"color\": \"#2a3f5f\"}, \"geo\": {\"bgcolor\": \"white\", \"lakecolor\": \"white\", \"landcolor\": \"#E5ECF6\", \"showlakes\": true, \"showland\": true, \"subunitcolor\": \"white\"}, \"hoverlabel\": {\"align\": \"left\"}, \"hovermode\": \"closest\", \"mapbox\": {\"style\": \"light\"}, \"paper_bgcolor\": \"white\", \"plot_bgcolor\": \"#E5ECF6\", \"polar\": {\"angularaxis\": {\"gridcolor\": \"white\", \"linecolor\": \"white\", \"ticks\": \"\"}, \"bgcolor\": \"#E5ECF6\", \"radialaxis\": {\"gridcolor\": \"white\", \"linecolor\": \"white\", \"ticks\": \"\"}}, \"scene\": {\"xaxis\": {\"backgroundcolor\": \"#E5ECF6\", \"gridcolor\": \"white\", \"gridwidth\": 2, \"linecolor\": \"white\", \"showbackground\": true, \"ticks\": \"\", \"zerolinecolor\": \"white\"}, \"yaxis\": {\"backgroundcolor\": \"#E5ECF6\", \"gridcolor\": \"white\", \"gridwidth\": 2, \"linecolor\": \"white\", \"showbackground\": true, \"ticks\": \"\", \"zerolinecolor\": \"white\"}, \"zaxis\": {\"backgroundcolor\": \"#E5ECF6\", \"gridcolor\": \"white\", \"gridwidth\": 2, \"linecolor\": \"white\", \"showbackground\": true, \"ticks\": \"\", \"zerolinecolor\": \"white\"}}, \"shapedefaults\": {\"line\": {\"color\": \"#2a3f5f\"}}, \"ternary\": {\"aaxis\": {\"gridcolor\": \"white\", \"linecolor\": \"white\", \"ticks\": \"\"}, \"baxis\": {\"gridcolor\": \"white\", \"linecolor\": \"white\", \"ticks\": \"\"}, \"bgcolor\": \"#E5ECF6\", \"caxis\": {\"gridcolor\": \"white\", \"linecolor\": \"white\", \"ticks\": \"\"}}, \"title\": {\"x\": 0.05}, \"xaxis\": {\"automargin\": true, \"gridcolor\": \"white\", \"linecolor\": \"white\", \"ticks\": \"\", \"title\": {\"standoff\": 15}, \"zerolinecolor\": \"white\", \"zerolinewidth\": 2}, \"yaxis\": {\"automargin\": true, \"gridcolor\": \"white\", \"linecolor\": \"white\", \"ticks\": \"\", \"title\": {\"standoff\": 15}, \"zerolinecolor\": \"white\", \"zerolinewidth\": 2}}}},\n",
              "                        {\"responsive\": true}\n",
              "                    ).then(function(){\n",
              "                            \n",
              "var gd = document.getElementById('68faaaf0-5451-4480-bb77-a04095764f78');\n",
              "var x = new MutationObserver(function (mutations, observer) {{\n",
              "        var display = window.getComputedStyle(gd).display;\n",
              "        if (!display || display === 'none') {{\n",
              "            console.log([gd, 'removed!']);\n",
              "            Plotly.purge(gd);\n",
              "            observer.disconnect();\n",
              "        }}\n",
              "}});\n",
              "\n",
              "// Listen for the removal of the full notebook cells\n",
              "var notebookContainer = gd.closest('#notebook-container');\n",
              "if (notebookContainer) {{\n",
              "    x.observe(notebookContainer, {childList: true});\n",
              "}}\n",
              "\n",
              "// Listen for the clearing of the current output cell\n",
              "var outputEl = gd.closest('.output');\n",
              "if (outputEl) {{\n",
              "    x.observe(outputEl, {childList: true});\n",
              "}}\n",
              "\n",
              "                        })\n",
              "                };\n",
              "                });\n",
              "            </script>\n",
              "        </div>"
            ]
          },
          "metadata": {},
          "output_type": "display_data"
        }
      ],
      "source": [
        "topdirs=pd.value_counts(netflix_overall['duration'])\n",
        "fig = go.Figure([go.Bar(x=topdirs.index, y=topdirs.values , text=topdirs.values,marker_color='indianred')])\n",
        "fig.update_traces(texttemplate='%{text:.2s}', textposition='outside')\n",
        "fig.show()"
      ]
    },
    {
      "cell_type": "markdown",
      "metadata": {
        "papermill": {
          "duration": 0.101437,
          "end_time": "2021-02-25T06:30:29.628877",
          "exception": false,
          "start_time": "2021-02-25T06:30:29.527440",
          "status": "completed"
        },
        "tags": [],
        "id": "-Id6W3NYRjnH"
      },
      "source": [
        "It can be inferred that having one season is the most preferred duration."
      ]
    },
    {
      "cell_type": "markdown",
      "metadata": {
        "papermill": {
          "duration": 0.102699,
          "end_time": "2021-02-25T06:30:29.832649",
          "exception": false,
          "start_time": "2021-02-25T06:30:29.729950",
          "status": "completed"
        },
        "tags": [],
        "id": "O0JyP0zfRjnH"
      },
      "source": [
        "## A little interesting history\n",
        "\n",
        "Even though it may look like Netflix is fairly new, it has been around since 1997! \n",
        "\n",
        "Here's a picture of the older Netflix website when rentals costed only 50 cents each and the website had only about 900 titles.\n",
        "\n",
        "![](https://producthabits.com/wp-content/uploads/2018/04/Screenshot-2018-03-26-16.08.07.png)"
      ]
    },
    {
      "cell_type": "markdown",
      "metadata": {
        "papermill": {
          "duration": 0.1012,
          "end_time": "2021-02-25T06:30:30.036397",
          "exception": false,
          "start_time": "2021-02-25T06:30:29.935197",
          "status": "completed"
        },
        "tags": [],
        "id": "-0AbfDz0RjnH"
      },
      "source": [
        "# Recommendation System (Content Based)"
      ]
    },
    {
      "cell_type": "markdown",
      "metadata": {
        "papermill": {
          "duration": 0.104707,
          "end_time": "2021-02-25T06:30:30.244474",
          "exception": false,
          "start_time": "2021-02-25T06:30:30.139767",
          "status": "completed"
        },
        "tags": [],
        "id": "yZjVrospRjnH"
      },
      "source": [
        "<img src='data:image/png;base64,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' >"
      ]
    },
    {
      "cell_type": "markdown",
      "metadata": {
        "papermill": {
          "duration": 0.101048,
          "end_time": "2021-02-25T06:30:30.447649",
          "exception": false,
          "start_time": "2021-02-25T06:30:30.346601",
          "status": "completed"
        },
        "tags": [],
        "id": "v39ySdlHRjnI"
      },
      "source": [
        "The TF-IDF(Term Frequency-Inverse Document Frequency (TF-IDF) ) score is the frequency of a word occurring in a document, down-weighted by the number of documents in which it occurs. This is done to reduce the importance of words that occur frequently in plot overviews and therefore, their significance in computing the final similarity score."
      ]
    },
    {
      "cell_type": "code",
      "execution_count": null,
      "metadata": {
        "papermill": {
          "duration": 0.191776,
          "end_time": "2021-02-25T06:30:30.742003",
          "exception": false,
          "start_time": "2021-02-25T06:30:30.550227",
          "status": "completed"
        },
        "tags": [],
        "id": "w5PtklQ1RjnI"
      },
      "outputs": [],
      "source": [
        "from sklearn.feature_extraction.text import TfidfVectorizer"
      ]
    },
    {
      "cell_type": "code",
      "execution_count": null,
      "metadata": {
        "papermill": {
          "duration": 0.463718,
          "end_time": "2021-02-25T06:30:31.308644",
          "exception": false,
          "start_time": "2021-02-25T06:30:30.844926",
          "status": "completed"
        },
        "tags": [],
        "id": "TQopC0JvRjnI",
        "outputId": "c426501f-7f67-4c1c-828c-fa4605b9b4aa"
      },
      "outputs": [
        {
          "data": {
            "text/plain": [
              "(7787, 17905)"
            ]
          },
          "execution_count": 45,
          "metadata": {},
          "output_type": "execute_result"
        }
      ],
      "source": [
        "#removing stopwords\n",
        "tfidf = TfidfVectorizer(stop_words='english')\n",
        "\n",
        "#Replace NaN with an empty string\n",
        "netflix_overall['description'] = netflix_overall['description'].fillna('')\n",
        "\n",
        "#Construct the required TF-IDF matrix by fitting and transforming the data\n",
        "tfidf_matrix = tfidf.fit_transform(netflix_overall['description'])\n",
        "\n",
        "#Output the shape of tfidf_matrix\n",
        "tfidf_matrix.shape\n"
      ]
    },
    {
      "cell_type": "markdown",
      "metadata": {
        "papermill": {
          "duration": 0.101494,
          "end_time": "2021-02-25T06:30:31.512331",
          "exception": false,
          "start_time": "2021-02-25T06:30:31.410837",
          "status": "completed"
        },
        "tags": [],
        "id": "1A7Tu9OHRjnI"
      },
      "source": [
        "There are about 16151 words described for the 6234 movies in this dataset."
      ]
    },
    {
      "cell_type": "markdown",
      "metadata": {
        "papermill": {
          "duration": 0.102594,
          "end_time": "2021-02-25T06:30:31.717186",
          "exception": false,
          "start_time": "2021-02-25T06:30:31.614592",
          "status": "completed"
        },
        "tags": [],
        "id": "R-ZcI44MRjnI"
      },
      "source": [
        "Here, The Cosine similarity score is used since it is independent of magnitude and is relatively easy and fast to calculate.\n",
        "\n",
        "<img src='https://i.stack.imgur.com/36r1U.png'>"
      ]
    },
    {
      "cell_type": "code",
      "execution_count": null,
      "metadata": {
        "papermill": {
          "duration": 0.867555,
          "end_time": "2021-02-25T06:30:32.688388",
          "exception": false,
          "start_time": "2021-02-25T06:30:31.820833",
          "status": "completed"
        },
        "tags": [],
        "id": "PJ6Wvp0ORjnI"
      },
      "outputs": [],
      "source": [
        "# Import linear_kernel\n",
        "from sklearn.metrics.pairwise import linear_kernel\n",
        "\n",
        "# Compute the cosine similarity matrix\n",
        "cosine_sim = linear_kernel(tfidf_matrix, tfidf_matrix)"
      ]
    },
    {
      "cell_type": "code",
      "execution_count": null,
      "metadata": {
        "papermill": {
          "duration": 0.116667,
          "end_time": "2021-02-25T06:30:32.906876",
          "exception": false,
          "start_time": "2021-02-25T06:30:32.790209",
          "status": "completed"
        },
        "tags": [],
        "id": "ktetfjrNRjnI"
      },
      "outputs": [],
      "source": [
        "indices = pd.Series(netflix_overall.index, index=netflix_overall['title']).drop_duplicates()"
      ]
    },
    {
      "cell_type": "code",
      "execution_count": null,
      "metadata": {
        "papermill": {
          "duration": 0.114792,
          "end_time": "2021-02-25T06:30:33.125146",
          "exception": false,
          "start_time": "2021-02-25T06:30:33.010354",
          "status": "completed"
        },
        "tags": [],
        "id": "5E7b7Vy2RjnI"
      },
      "outputs": [],
      "source": [
        "def get_recommendations(title, cosine_sim=cosine_sim):\n",
        "    idx = indices[title]\n",
        "\n",
        "    # Get the pairwsie similarity scores of all movies with that movie\n",
        "    sim_scores = list(enumerate(cosine_sim[idx]))\n",
        "\n",
        "    # Sort the movies based on the similarity scores\n",
        "    sim_scores = sorted(sim_scores, key=lambda x: x[1], reverse=True)\n",
        "\n",
        "    # Get the scores of the 10 most similar movies\n",
        "    sim_scores = sim_scores[1:11]\n",
        "\n",
        "    # Get the movie indices\n",
        "    movie_indices = [i[0] for i in sim_scores]\n",
        "\n",
        "    # Return the top 10 most similar movies\n",
        "    return netflix_overall['title'].iloc[movie_indices]"
      ]
    },
    {
      "cell_type": "markdown",
      "metadata": {
        "papermill": {
          "duration": 0.101017,
          "end_time": "2021-02-25T06:30:33.327763",
          "exception": false,
          "start_time": "2021-02-25T06:30:33.226746",
          "status": "completed"
        },
        "tags": [],
        "id": "DzQW0OXNRjnJ"
      },
      "source": [
        "This recommendation is just based on the Plot."
      ]
    },
    {
      "cell_type": "code",
      "execution_count": null,
      "metadata": {
        "papermill": {
          "duration": 0.122499,
          "end_time": "2021-02-25T06:30:33.552162",
          "exception": false,
          "start_time": "2021-02-25T06:30:33.429663",
          "status": "completed"
        },
        "tags": [],
        "id": "M1-UabnyRjnJ",
        "outputId": "60833189-34ca-460e-cf93-dc9f70f981d9"
      },
      "outputs": [
        {
          "data": {
            "text/plain": [
              "4692                    Our Godfather\n",
              "4358                   My Stupid Boss\n",
              "1807                              Don\n",
              "6344                         The Fear\n",
              "3219    Jonathan Strange & Mr Norrell\n",
              "4953                Power Rangers Zeo\n",
              "6783                       The Prison\n",
              "6950                       The Tudors\n",
              "6236                    The Con Is On\n",
              "6585     The Legend of Michael Mishra\n",
              "Name: title, dtype: object"
            ]
          },
          "execution_count": 49,
          "metadata": {},
          "output_type": "execute_result"
        }
      ],
      "source": [
        "get_recommendations('Peaky Blinders')"
      ]
    },
    {
      "cell_type": "code",
      "execution_count": null,
      "metadata": {
        "papermill": {
          "duration": 0.12361,
          "end_time": "2021-02-25T06:30:33.776932",
          "exception": false,
          "start_time": "2021-02-25T06:30:33.653322",
          "status": "completed"
        },
        "tags": [],
        "id": "ETetbuEXRjnJ",
        "outputId": "2e783d97-bb63-4112-90f2-1ec8e33eb0f6"
      },
      "outputs": [
        {
          "data": {
            "text/plain": [
              "4858                  PILI Fantasy: War of Dragons\n",
              "1920         Edgar Rice Burroughs' Tarzan and Jane\n",
              "2159                             Figures of Speech\n",
              "4314    My Entire High School Sinking Into the Sea\n",
              "2188                                     FirstBorn\n",
              "4994                                 Psychokinesis\n",
              "608                                 At First Light\n",
              "6958                          The Umbrella Academy\n",
              "1267                                     Chamatkar\n",
              "3864                              Maharakshak Devi\n",
              "Name: title, dtype: object"
            ]
          },
          "execution_count": 50,
          "metadata": {},
          "output_type": "execute_result"
        }
      ],
      "source": [
        "get_recommendations('Mortel')"
      ]
    },
    {
      "cell_type": "markdown",
      "metadata": {
        "papermill": {
          "duration": 0.103428,
          "end_time": "2021-02-25T06:30:33.983628",
          "exception": false,
          "start_time": "2021-02-25T06:30:33.880200",
          "status": "completed"
        },
        "tags": [],
        "id": "3Wf_gz9RRjnJ"
      },
      "source": [
        "It is seen that the model performs well, but is not very accurate.Therefore, more metrics are added to the model to improve performance."
      ]
    },
    {
      "cell_type": "markdown",
      "metadata": {
        "papermill": {
          "duration": 0.102312,
          "end_time": "2021-02-25T06:30:34.189060",
          "exception": false,
          "start_time": "2021-02-25T06:30:34.086748",
          "status": "completed"
        },
        "tags": [],
        "id": "u796VlY8RjnJ"
      },
      "source": [
        "# Content based filtering on multiple metrics"
      ]
    },
    {
      "cell_type": "markdown",
      "metadata": {
        "papermill": {
          "duration": 0.102078,
          "end_time": "2021-02-25T06:30:34.393637",
          "exception": false,
          "start_time": "2021-02-25T06:30:34.291559",
          "status": "completed"
        },
        "tags": [],
        "id": "HFPZgl-URjnJ"
      },
      "source": [
        "Content based filtering on the following factors:\n",
        "* Title\n",
        "* Cast\n",
        "* Director\n",
        "* Listed in\n",
        "* Plot"
      ]
    },
    {
      "cell_type": "markdown",
      "metadata": {
        "papermill": {
          "duration": 0.102616,
          "end_time": "2021-02-25T06:30:34.598511",
          "exception": false,
          "start_time": "2021-02-25T06:30:34.495895",
          "status": "completed"
        },
        "tags": [],
        "id": "5ThxifdVRjnJ"
      },
      "source": [
        "Filling null values with empty string."
      ]
    },
    {
      "cell_type": "code",
      "execution_count": null,
      "metadata": {
        "papermill": {
          "duration": 0.137797,
          "end_time": "2021-02-25T06:30:34.839012",
          "exception": false,
          "start_time": "2021-02-25T06:30:34.701215",
          "status": "completed"
        },
        "tags": [],
        "id": "MX606YWVRjnK",
        "outputId": "86e7bda3-2c3a-4572-b905-160ecbb4d6ab"
      },
      "outputs": [
        {
          "data": {
            "text/html": [
              "<div>\n",
              "<style scoped>\n",
              "    .dataframe tbody tr th:only-of-type {\n",
              "        vertical-align: middle;\n",
              "    }\n",
              "\n",
              "    .dataframe tbody tr th {\n",
              "        vertical-align: top;\n",
              "    }\n",
              "\n",
              "    .dataframe thead th {\n",
              "        text-align: right;\n",
              "    }\n",
              "</style>\n",
              "<table border=\"1\" class=\"dataframe\">\n",
              "  <thead>\n",
              "    <tr style=\"text-align: right;\">\n",
              "      <th></th>\n",
              "      <th>show_id</th>\n",
              "      <th>type</th>\n",
              "      <th>title</th>\n",
              "      <th>director</th>\n",
              "      <th>cast</th>\n",
              "      <th>country</th>\n",
              "      <th>date_added</th>\n",
              "      <th>release_year</th>\n",
              "      <th>rating</th>\n",
              "      <th>duration</th>\n",
              "      <th>listed_in</th>\n",
              "      <th>description</th>\n",
              "    </tr>\n",
              "  </thead>\n",
              "  <tbody>\n",
              "    <tr>\n",
              "      <th>0</th>\n",
              "      <td>s1</td>\n",
              "      <td>TV Show</td>\n",
              "      <td>3%</td>\n",
              "      <td></td>\n",
              "      <td>João Miguel, Bianca Comparato, Michel Gomes, R...</td>\n",
              "      <td>Brazil</td>\n",
              "      <td>August 14, 2020</td>\n",
              "      <td>2020</td>\n",
              "      <td>TV-MA</td>\n",
              "      <td>4 Seasons</td>\n",
              "      <td>International TV Shows, TV Dramas, TV Sci-Fi &amp;...</td>\n",
              "      <td>In a future where the elite inhabit an island ...</td>\n",
              "    </tr>\n",
              "    <tr>\n",
              "      <th>1</th>\n",
              "      <td>s2</td>\n",
              "      <td>Movie</td>\n",
              "      <td>7:19</td>\n",
              "      <td>Jorge Michel Grau</td>\n",
              "      <td>Demián Bichir, Héctor Bonilla, Oscar Serrano, ...</td>\n",
              "      <td>Mexico</td>\n",
              "      <td>December 23, 2016</td>\n",
              "      <td>2016</td>\n",
              "      <td>TV-MA</td>\n",
              "      <td>93 min</td>\n",
              "      <td>Dramas, International Movies</td>\n",
              "      <td>After a devastating earthquake hits Mexico Cit...</td>\n",
              "    </tr>\n",
              "  </tbody>\n",
              "</table>\n",
              "</div>"
            ],
            "text/plain": [
              "  show_id     type title           director  \\\n",
              "0      s1  TV Show    3%                      \n",
              "1      s2    Movie  7:19  Jorge Michel Grau   \n",
              "\n",
              "                                                cast country  \\\n",
              "0  João Miguel, Bianca Comparato, Michel Gomes, R...  Brazil   \n",
              "1  Demián Bichir, Héctor Bonilla, Oscar Serrano, ...  Mexico   \n",
              "\n",
              "          date_added  release_year rating   duration  \\\n",
              "0    August 14, 2020          2020  TV-MA  4 Seasons   \n",
              "1  December 23, 2016          2016  TV-MA     93 min   \n",
              "\n",
              "                                           listed_in  \\\n",
              "0  International TV Shows, TV Dramas, TV Sci-Fi &...   \n",
              "1                       Dramas, International Movies   \n",
              "\n",
              "                                         description  \n",
              "0  In a future where the elite inhabit an island ...  \n",
              "1  After a devastating earthquake hits Mexico Cit...  "
            ]
          },
          "execution_count": 51,
          "metadata": {},
          "output_type": "execute_result"
        }
      ],
      "source": [
        "filledna=netflix_overall.fillna('')\n",
        "filledna.head(2)"
      ]
    },
    {
      "cell_type": "markdown",
      "metadata": {
        "papermill": {
          "duration": 0.103823,
          "end_time": "2021-02-25T06:30:35.046242",
          "exception": false,
          "start_time": "2021-02-25T06:30:34.942419",
          "status": "completed"
        },
        "tags": [],
        "id": "glxbpzQsRjnK"
      },
      "source": [
        "Cleaning the data - making all the words lower case"
      ]
    },
    {
      "cell_type": "code",
      "execution_count": null,
      "metadata": {
        "papermill": {
          "duration": 0.113259,
          "end_time": "2021-02-25T06:30:35.263917",
          "exception": false,
          "start_time": "2021-02-25T06:30:35.150658",
          "status": "completed"
        },
        "tags": [],
        "id": "5c0ZQKhiRjnK"
      },
      "outputs": [],
      "source": [
        "def clean_data(x):\n",
        "        return str.lower(x.replace(\" \", \"\"))"
      ]
    },
    {
      "cell_type": "markdown",
      "metadata": {
        "papermill": {
          "duration": 0.102853,
          "end_time": "2021-02-25T06:30:35.470442",
          "exception": false,
          "start_time": "2021-02-25T06:30:35.367589",
          "status": "completed"
        },
        "tags": [],
        "id": "gzmtreQdRjnK"
      },
      "source": [
        "Identifying features on which the model is to be filtered."
      ]
    },
    {
      "cell_type": "code",
      "execution_count": null,
      "metadata": {
        "papermill": {
          "duration": 0.117674,
          "end_time": "2021-02-25T06:30:35.690847",
          "exception": false,
          "start_time": "2021-02-25T06:30:35.573173",
          "status": "completed"
        },
        "tags": [],
        "id": "Y2ofP3DzRjnK"
      },
      "outputs": [],
      "source": [
        "features=['title','director','cast','listed_in','description']\n",
        "filledna=filledna[features]"
      ]
    },
    {
      "cell_type": "code",
      "execution_count": null,
      "metadata": {
        "papermill": {
          "duration": 0.174653,
          "end_time": "2021-02-25T06:30:35.970162",
          "exception": false,
          "start_time": "2021-02-25T06:30:35.795509",
          "status": "completed"
        },
        "tags": [],
        "id": "VN0J6yBeRjnK",
        "outputId": "43f016f4-6c6b-4945-b74c-e54c8cfd98e0"
      },
      "outputs": [
        {
          "data": {
            "text/html": [
              "<div>\n",
              "<style scoped>\n",
              "    .dataframe tbody tr th:only-of-type {\n",
              "        vertical-align: middle;\n",
              "    }\n",
              "\n",
              "    .dataframe tbody tr th {\n",
              "        vertical-align: top;\n",
              "    }\n",
              "\n",
              "    .dataframe thead th {\n",
              "        text-align: right;\n",
              "    }\n",
              "</style>\n",
              "<table border=\"1\" class=\"dataframe\">\n",
              "  <thead>\n",
              "    <tr style=\"text-align: right;\">\n",
              "      <th></th>\n",
              "      <th>title</th>\n",
              "      <th>director</th>\n",
              "      <th>cast</th>\n",
              "      <th>listed_in</th>\n",
              "      <th>description</th>\n",
              "    </tr>\n",
              "  </thead>\n",
              "  <tbody>\n",
              "    <tr>\n",
              "      <th>0</th>\n",
              "      <td>3%</td>\n",
              "      <td></td>\n",
              "      <td>joãomiguel,biancacomparato,michelgomes,rodolfo...</td>\n",
              "      <td>internationaltvshows,tvdramas,tvsci-fi&amp;fantasy</td>\n",
              "      <td>inafuturewheretheeliteinhabitanislandparadisef...</td>\n",
              "    </tr>\n",
              "    <tr>\n",
              "      <th>1</th>\n",
              "      <td>7:19</td>\n",
              "      <td>jorgemichelgrau</td>\n",
              "      <td>demiánbichir,héctorbonilla,oscarserrano,azalia...</td>\n",
              "      <td>dramas,internationalmovies</td>\n",
              "      <td>afteradevastatingearthquakehitsmexicocity,trap...</td>\n",
              "    </tr>\n",
              "  </tbody>\n",
              "</table>\n",
              "</div>"
            ],
            "text/plain": [
              "  title         director                                               cast  \\\n",
              "0    3%                   joãomiguel,biancacomparato,michelgomes,rodolfo...   \n",
              "1  7:19  jorgemichelgrau  demiánbichir,héctorbonilla,oscarserrano,azalia...   \n",
              "\n",
              "                                        listed_in  \\\n",
              "0  internationaltvshows,tvdramas,tvsci-fi&fantasy   \n",
              "1                      dramas,internationalmovies   \n",
              "\n",
              "                                         description  \n",
              "0  inafuturewheretheeliteinhabitanislandparadisef...  \n",
              "1  afteradevastatingearthquakehitsmexicocity,trap...  "
            ]
          },
          "execution_count": 54,
          "metadata": {},
          "output_type": "execute_result"
        }
      ],
      "source": [
        "for feature in features:\n",
        "    filledna[feature] = filledna[feature].apply(clean_data)\n",
        "    \n",
        "filledna.head(2)"
      ]
    },
    {
      "cell_type": "markdown",
      "metadata": {
        "papermill": {
          "duration": 0.107427,
          "end_time": "2021-02-25T06:30:36.180409",
          "exception": false,
          "start_time": "2021-02-25T06:30:36.072982",
          "status": "completed"
        },
        "tags": [],
        "id": "VIdiOCS-RjnL"
      },
      "source": [
        "Creating a \"soup\" or a \"bag of words\" for all rows."
      ]
    },
    {
      "cell_type": "code",
      "execution_count": null,
      "metadata": {
        "papermill": {
          "duration": 0.112271,
          "end_time": "2021-02-25T06:30:36.396659",
          "exception": false,
          "start_time": "2021-02-25T06:30:36.284388",
          "status": "completed"
        },
        "tags": [],
        "id": "ckEc_xqCRjnL"
      },
      "outputs": [],
      "source": [
        "def create_soup(x):\n",
        "    return x['title']+ ' ' + x['director'] + ' ' + x['cast'] + ' ' +x['listed_in']+' '+ x['description']"
      ]
    },
    {
      "cell_type": "code",
      "execution_count": null,
      "metadata": {
        "papermill": {
          "duration": 0.78437,
          "end_time": "2021-02-25T06:30:37.291600",
          "exception": false,
          "start_time": "2021-02-25T06:30:36.507230",
          "status": "completed"
        },
        "tags": [],
        "id": "tAKLEEKPRjnL"
      },
      "outputs": [],
      "source": [
        "filledna['soup'] = filledna.apply(create_soup, axis=1)\n"
      ]
    },
    {
      "cell_type": "markdown",
      "metadata": {
        "papermill": {
          "duration": 0.102319,
          "end_time": "2021-02-25T06:30:37.497003",
          "exception": false,
          "start_time": "2021-02-25T06:30:37.394684",
          "status": "completed"
        },
        "tags": [],
        "id": "ZQBGmj8_RjnL"
      },
      "source": [
        "From here on, the code is basically similar to the upper model except the fact that count vectorizer is used instead of tfidf."
      ]
    },
    {
      "cell_type": "code",
      "execution_count": null,
      "metadata": {
        "papermill": {
          "duration": 1.52557,
          "end_time": "2021-02-25T06:30:39.125530",
          "exception": false,
          "start_time": "2021-02-25T06:30:37.599960",
          "status": "completed"
        },
        "tags": [],
        "id": "jO0zz4R-RjnL"
      },
      "outputs": [],
      "source": [
        "from sklearn.feature_extraction.text import CountVectorizer\n",
        "from sklearn.metrics.pairwise import cosine_similarity\n",
        "\n",
        "count = CountVectorizer(stop_words='english')\n",
        "count_matrix = count.fit_transform(filledna['soup'])\n",
        "\n",
        "cosine_sim2 = cosine_similarity(count_matrix, count_matrix)"
      ]
    },
    {
      "cell_type": "code",
      "execution_count": null,
      "metadata": {
        "papermill": {
          "duration": 0.117233,
          "end_time": "2021-02-25T06:30:39.346622",
          "exception": false,
          "start_time": "2021-02-25T06:30:39.229389",
          "status": "completed"
        },
        "tags": [],
        "id": "40dPhk0VRjnL"
      },
      "outputs": [],
      "source": [
        "filledna=filledna.reset_index()\n",
        "indices = pd.Series(filledna.index, index=filledna['title'])"
      ]
    },
    {
      "cell_type": "code",
      "execution_count": null,
      "metadata": {
        "papermill": {
          "duration": 0.115068,
          "end_time": "2021-02-25T06:30:39.565301",
          "exception": false,
          "start_time": "2021-02-25T06:30:39.450233",
          "status": "completed"
        },
        "tags": [],
        "id": "oRP4olssRjnL"
      },
      "outputs": [],
      "source": [
        "def get_recommendations_new(title, cosine_sim=cosine_sim):\n",
        "    title=title.replace(' ','').lower()\n",
        "    idx = indices[title]\n",
        "\n",
        "    # Get the pairwsie similarity scores of all movies with that movie\n",
        "    sim_scores = list(enumerate(cosine_sim[idx]))\n",
        "\n",
        "    # Sort the movies based on the similarity scores\n",
        "    sim_scores = sorted(sim_scores, key=lambda x: x[1], reverse=True)\n",
        "\n",
        "    # Get the scores of the 10 most similar movies\n",
        "    sim_scores = sim_scores[1:11]\n",
        "\n",
        "    # Get the movie indices\n",
        "    movie_indices = [i[0] for i in sim_scores]\n",
        "\n",
        "    # Return the top 10 most similar movies\n",
        "    return netflix_overall['title'].iloc[movie_indices]"
      ]
    },
    {
      "cell_type": "code",
      "execution_count": null,
      "metadata": {
        "papermill": {
          "duration": 0.127648,
          "end_time": "2021-02-25T06:30:39.798213",
          "exception": false,
          "start_time": "2021-02-25T06:30:39.670565",
          "status": "completed"
        },
        "tags": [],
        "id": "SVhkXRrnRjnL",
        "outputId": "81b485d3-4b7d-4eca-85f7-e015f33db669"
      },
      "outputs": [
        {
          "data": {
            "text/plain": [
              "100                            3 Idiots\n",
              "6585       The Legend of Michael Mishra\n",
              "552                   Anthony Kaun Hai?\n",
              "2571                             Haapus\n",
              "5377                              Sanju\n",
              "5954                   Taare Zameen Par\n",
              "1261                    Chal Dhar Pakad\n",
              "1271                    Chance Pe Dance\n",
              "1831                            Dostana\n",
              "1988    EMI: Liya Hai To Chukana Padega\n",
              "Name: title, dtype: object"
            ]
          },
          "execution_count": 60,
          "metadata": {},
          "output_type": "execute_result"
        }
      ],
      "source": [
        "get_recommendations_new('PK', cosine_sim2)"
      ]
    },
    {
      "cell_type": "code",
      "execution_count": null,
      "metadata": {
        "papermill": {
          "duration": 0.127012,
          "end_time": "2021-02-25T06:30:40.033115",
          "exception": false,
          "start_time": "2021-02-25T06:30:39.906103",
          "status": "completed"
        },
        "tags": [],
        "id": "NrerDNh5RjnM",
        "outputId": "9acc8a6a-7dd1-4c18-92b1-16862ad06317"
      },
      "outputs": [
        {
          "data": {
            "text/plain": [
              "2419                                   Giri / Haji\n",
              "6374                   The Frankenstein Chronicles\n",
              "6693                         The Murder Detectives\n",
              "3692                                        Loaded\n",
              "3412                                 Kiss Me First\n",
              "2616                                  Happy Valley\n",
              "2381                                      Get Even\n",
              "2846    How to Live Mortgage Free with Sarah Beeny\n",
              "2886                                 I AM A KILLER\n",
              "3013                      Inside the Criminal Mind\n",
              "Name: title, dtype: object"
            ]
          },
          "execution_count": 61,
          "metadata": {},
          "output_type": "execute_result"
        }
      ],
      "source": [
        "get_recommendations_new('Peaky Blinders', cosine_sim2)"
      ]
    },
    {
      "cell_type": "code",
      "execution_count": null,
      "metadata": {
        "papermill": {
          "duration": 0.127212,
          "end_time": "2021-02-25T06:30:40.268490",
          "exception": false,
          "start_time": "2021-02-25T06:30:40.141278",
          "status": "completed"
        },
        "tags": [],
        "id": "89jP-rWtRjnM",
        "outputId": "1d056832-e453-48bd-f42d-6872266707e0"
      },
      "outputs": [
        {
          "data": {
            "text/plain": [
              "2168                                        Find Yourself\n",
              "1590                                       Dancing Angels\n",
              "4024                     Melodies of Life - Born This Way\n",
              "3676                                        Little Things\n",
              "1435    Club Friday To Be Continued - My Beautiful Tomboy\n",
              "5219                                           Rishta.com\n",
              "38                                    แผนร้ายนายเจ้าเล่ห์\n",
              "294                                  Accidentally in Love\n",
              "720                                     Bangkok Bachelors\n",
              "1463                                      College Romance\n",
              "Name: title, dtype: object"
            ]
          },
          "execution_count": 62,
          "metadata": {},
          "output_type": "execute_result"
        }
      ],
      "source": [
        "get_recommendations_new('The Hook Up Plan', cosine_sim2)"
      ]
    },
    {
      "cell_type": "markdown",
      "metadata": {
        "papermill": {
          "duration": 0.103838,
          "end_time": "2021-02-25T06:30:40.478887",
          "exception": false,
          "start_time": "2021-02-25T06:30:40.375049",
          "status": "completed"
        },
        "tags": [],
        "id": "lo7_UMllRjnM"
      },
      "source": [
        "# How many Netflix Shows/ Movies are made from books as their storylines?"
      ]
    },
    {
      "cell_type": "markdown",
      "metadata": {
        "papermill": {
          "duration": 0.104597,
          "end_time": "2021-02-25T06:30:40.688148",
          "exception": false,
          "start_time": "2021-02-25T06:30:40.583551",
          "status": "completed"
        },
        "tags": [],
        "id": "Q9qVENWdRjnM"
      },
      "source": [
        "For a detailed book recommendation system with both content and collaborative filtering click :\n",
        "    [Book Recommendation, EDA](https://www.kaggle.com/niharika41298/netflix-or-books-recommender-analysis-eda)"
      ]
    },
    {
      "cell_type": "code",
      "execution_count": null,
      "metadata": {
        "papermill": {
          "duration": 0.309882,
          "end_time": "2021-02-25T06:30:41.106581",
          "exception": false,
          "start_time": "2021-02-25T06:30:40.796699",
          "status": "completed"
        },
        "tags": [],
        "id": "xYTqSNX7RjnM"
      },
      "outputs": [],
      "source": [
        "books=pd.read_csv('/kaggle/input/goodbooks-10k/books.csv')\n",
        "books['original_title']=books['original_title'].str.lower()\n",
        "x=netflix_overall\n",
        "x['title']=x['title'].str.lower()\n",
        "t=x.merge(books, left_on='title', right_on='original_title', how=\"inner\")"
      ]
    },
    {
      "cell_type": "code",
      "execution_count": null,
      "metadata": {
        "papermill": {
          "duration": 0.117777,
          "end_time": "2021-02-25T06:30:41.333518",
          "exception": false,
          "start_time": "2021-02-25T06:30:41.215741",
          "status": "completed"
        },
        "tags": [],
        "id": "MI4AKdjVRjnM",
        "outputId": "235a54f4-8b1f-4b09-eca8-f6ad4dff136e"
      },
      "outputs": [
        {
          "data": {
            "text/plain": [
              "(289, 35)"
            ]
          },
          "execution_count": 64,
          "metadata": {},
          "output_type": "execute_result"
        }
      ],
      "source": [
        "t.shape"
      ]
    },
    {
      "cell_type": "code",
      "execution_count": null,
      "metadata": {
        "papermill": {
          "duration": 0.275719,
          "end_time": "2021-02-25T06:30:41.714052",
          "exception": false,
          "start_time": "2021-02-25T06:30:41.438333",
          "status": "completed"
        },
        "tags": [],
        "id": "kEKTQFtcRjnM",
        "outputId": "1345ef14-ef5e-442d-af15-b05dc14338df"
      },
      "outputs": [
        {
          "data": {
            "text/html": [
              "<div>\n",
              "        \n",
              "        \n",
              "            <div id=\"61bd3d00-25b5-43ec-8293-0cb20098eac7\" class=\"plotly-graph-div\" style=\"height:525px; width:100%;\"></div>\n",
              "            <script type=\"text/javascript\">\n",
              "                require([\"plotly\"], function(Plotly) {\n",
              "                    window.PLOTLYENV=window.PLOTLYENV || {};\n",
              "                    \n",
              "                if (document.getElementById(\"61bd3d00-25b5-43ec-8293-0cb20098eac7\")) {\n",
              "                    Plotly.newPlot(\n",
              "                        '61bd3d00-25b5-43ec-8293-0cb20098eac7',\n",
              "                        [{\"labels\": [\"Shows from books\", \"Shows not from books\"], \"type\": \"pie\", \"values\": [248, 6234]}],\n",
              "                        {\"template\": {\"data\": {\"bar\": [{\"error_x\": {\"color\": \"#2a3f5f\"}, \"error_y\": {\"color\": \"#2a3f5f\"}, \"marker\": {\"line\": {\"color\": \"#E5ECF6\", \"width\": 0.5}}, \"type\": \"bar\"}], \"barpolar\": [{\"marker\": {\"line\": {\"color\": \"#E5ECF6\", \"width\": 0.5}}, \"type\": \"barpolar\"}], \"carpet\": [{\"aaxis\": {\"endlinecolor\": \"#2a3f5f\", \"gridcolor\": \"white\", \"linecolor\": \"white\", \"minorgridcolor\": \"white\", \"startlinecolor\": \"#2a3f5f\"}, \"baxis\": {\"endlinecolor\": \"#2a3f5f\", \"gridcolor\": \"white\", \"linecolor\": \"white\", \"minorgridcolor\": \"white\", \"startlinecolor\": \"#2a3f5f\"}, \"type\": \"carpet\"}], \"choropleth\": [{\"colorbar\": {\"outlinewidth\": 0, \"ticks\": \"\"}, \"type\": \"choropleth\"}], \"contour\": [{\"colorbar\": {\"outlinewidth\": 0, \"ticks\": \"\"}, \"colorscale\": [[0.0, \"#0d0887\"], [0.1111111111111111, \"#46039f\"], [0.2222222222222222, \"#7201a8\"], [0.3333333333333333, \"#9c179e\"], [0.4444444444444444, \"#bd3786\"], [0.5555555555555556, \"#d8576b\"], [0.6666666666666666, \"#ed7953\"], [0.7777777777777778, \"#fb9f3a\"], [0.8888888888888888, \"#fdca26\"], [1.0, \"#f0f921\"]], \"type\": \"contour\"}], \"contourcarpet\": [{\"colorbar\": {\"outlinewidth\": 0, \"ticks\": \"\"}, \"type\": \"contourcarpet\"}], \"heatmap\": [{\"colorbar\": {\"outlinewidth\": 0, \"ticks\": \"\"}, \"colorscale\": [[0.0, \"#0d0887\"], [0.1111111111111111, \"#46039f\"], [0.2222222222222222, \"#7201a8\"], [0.3333333333333333, \"#9c179e\"], [0.4444444444444444, \"#bd3786\"], [0.5555555555555556, \"#d8576b\"], [0.6666666666666666, \"#ed7953\"], [0.7777777777777778, \"#fb9f3a\"], [0.8888888888888888, \"#fdca26\"], [1.0, \"#f0f921\"]], \"type\": \"heatmap\"}], \"heatmapgl\": [{\"colorbar\": {\"outlinewidth\": 0, \"ticks\": \"\"}, \"colorscale\": [[0.0, \"#0d0887\"], [0.1111111111111111, \"#46039f\"], [0.2222222222222222, \"#7201a8\"], [0.3333333333333333, \"#9c179e\"], [0.4444444444444444, \"#bd3786\"], [0.5555555555555556, \"#d8576b\"], [0.6666666666666666, \"#ed7953\"], [0.7777777777777778, \"#fb9f3a\"], [0.8888888888888888, \"#fdca26\"], [1.0, \"#f0f921\"]], \"type\": \"heatmapgl\"}], \"histogram\": [{\"marker\": {\"colorbar\": {\"outlinewidth\": 0, \"ticks\": \"\"}}, \"type\": \"histogram\"}], \"histogram2d\": [{\"colorbar\": {\"outlinewidth\": 0, \"ticks\": \"\"}, \"colorscale\": [[0.0, \"#0d0887\"], [0.1111111111111111, \"#46039f\"], [0.2222222222222222, \"#7201a8\"], [0.3333333333333333, \"#9c179e\"], [0.4444444444444444, \"#bd3786\"], [0.5555555555555556, \"#d8576b\"], [0.6666666666666666, \"#ed7953\"], [0.7777777777777778, \"#fb9f3a\"], [0.8888888888888888, \"#fdca26\"], [1.0, \"#f0f921\"]], \"type\": \"histogram2d\"}], \"histogram2dcontour\": [{\"colorbar\": {\"outlinewidth\": 0, \"ticks\": \"\"}, \"colorscale\": [[0.0, \"#0d0887\"], [0.1111111111111111, \"#46039f\"], [0.2222222222222222, \"#7201a8\"], [0.3333333333333333, \"#9c179e\"], [0.4444444444444444, \"#bd3786\"], [0.5555555555555556, \"#d8576b\"], [0.6666666666666666, \"#ed7953\"], [0.7777777777777778, \"#fb9f3a\"], [0.8888888888888888, \"#fdca26\"], [1.0, \"#f0f921\"]], \"type\": \"histogram2dcontour\"}], \"mesh3d\": [{\"colorbar\": {\"outlinewidth\": 0, \"ticks\": \"\"}, \"type\": \"mesh3d\"}], \"parcoords\": [{\"line\": {\"colorbar\": {\"outlinewidth\": 0, \"ticks\": \"\"}}, \"type\": \"parcoords\"}], \"pie\": [{\"automargin\": true, \"type\": \"pie\"}], \"scatter\": [{\"marker\": {\"colorbar\": {\"outlinewidth\": 0, \"ticks\": \"\"}}, \"type\": \"scatter\"}], \"scatter3d\": [{\"line\": {\"colorbar\": {\"outlinewidth\": 0, \"ticks\": \"\"}}, \"marker\": {\"colorbar\": {\"outlinewidth\": 0, \"ticks\": \"\"}}, \"type\": \"scatter3d\"}], \"scattercarpet\": [{\"marker\": {\"colorbar\": {\"outlinewidth\": 0, \"ticks\": \"\"}}, \"type\": \"scattercarpet\"}], \"scattergeo\": [{\"marker\": {\"colorbar\": {\"outlinewidth\": 0, \"ticks\": \"\"}}, \"type\": \"scattergeo\"}], \"scattergl\": [{\"marker\": {\"colorbar\": {\"outlinewidth\": 0, \"ticks\": \"\"}}, \"type\": \"scattergl\"}], \"scattermapbox\": [{\"marker\": {\"colorbar\": {\"outlinewidth\": 0, \"ticks\": \"\"}}, \"type\": \"scattermapbox\"}], \"scatterpolar\": [{\"marker\": {\"colorbar\": {\"outlinewidth\": 0, \"ticks\": \"\"}}, \"type\": \"scatterpolar\"}], \"scatterpolargl\": [{\"marker\": {\"colorbar\": {\"outlinewidth\": 0, \"ticks\": \"\"}}, \"type\": \"scatterpolargl\"}], \"scatterternary\": [{\"marker\": {\"colorbar\": {\"outlinewidth\": 0, \"ticks\": \"\"}}, \"type\": \"scatterternary\"}], \"surface\": [{\"colorbar\": {\"outlinewidth\": 0, \"ticks\": \"\"}, \"colorscale\": [[0.0, \"#0d0887\"], [0.1111111111111111, \"#46039f\"], [0.2222222222222222, \"#7201a8\"], [0.3333333333333333, \"#9c179e\"], [0.4444444444444444, \"#bd3786\"], [0.5555555555555556, \"#d8576b\"], [0.6666666666666666, \"#ed7953\"], [0.7777777777777778, \"#fb9f3a\"], [0.8888888888888888, \"#fdca26\"], [1.0, \"#f0f921\"]], \"type\": \"surface\"}], \"table\": [{\"cells\": {\"fill\": {\"color\": \"#EBF0F8\"}, \"line\": {\"color\": \"white\"}}, \"header\": {\"fill\": {\"color\": \"#C8D4E3\"}, \"line\": {\"color\": \"white\"}}, \"type\": \"table\"}]}, \"layout\": {\"annotationdefaults\": {\"arrowcolor\": \"#2a3f5f\", \"arrowhead\": 0, \"arrowwidth\": 1}, \"coloraxis\": {\"colorbar\": {\"outlinewidth\": 0, \"ticks\": \"\"}}, \"colorscale\": {\"diverging\": [[0, \"#8e0152\"], [0.1, \"#c51b7d\"], [0.2, \"#de77ae\"], [0.3, \"#f1b6da\"], [0.4, \"#fde0ef\"], [0.5, \"#f7f7f7\"], [0.6, \"#e6f5d0\"], [0.7, \"#b8e186\"], [0.8, \"#7fbc41\"], [0.9, \"#4d9221\"], [1, \"#276419\"]], \"sequential\": [[0.0, \"#0d0887\"], [0.1111111111111111, \"#46039f\"], [0.2222222222222222, \"#7201a8\"], [0.3333333333333333, \"#9c179e\"], [0.4444444444444444, \"#bd3786\"], [0.5555555555555556, \"#d8576b\"], [0.6666666666666666, \"#ed7953\"], [0.7777777777777778, \"#fb9f3a\"], [0.8888888888888888, \"#fdca26\"], [1.0, \"#f0f921\"]], \"sequentialminus\": [[0.0, \"#0d0887\"], [0.1111111111111111, \"#46039f\"], [0.2222222222222222, \"#7201a8\"], [0.3333333333333333, \"#9c179e\"], [0.4444444444444444, \"#bd3786\"], [0.5555555555555556, \"#d8576b\"], [0.6666666666666666, \"#ed7953\"], [0.7777777777777778, \"#fb9f3a\"], [0.8888888888888888, \"#fdca26\"], [1.0, \"#f0f921\"]]}, \"colorway\": [\"#636efa\", \"#EF553B\", \"#00cc96\", \"#ab63fa\", \"#FFA15A\", \"#19d3f3\", \"#FF6692\", \"#B6E880\", \"#FF97FF\", \"#FECB52\"], \"font\": {\"color\": \"#2a3f5f\"}, \"geo\": {\"bgcolor\": \"white\", \"lakecolor\": \"white\", \"landcolor\": \"#E5ECF6\", \"showlakes\": true, \"showland\": true, \"subunitcolor\": \"white\"}, \"hoverlabel\": {\"align\": \"left\"}, \"hovermode\": \"closest\", \"mapbox\": {\"style\": \"light\"}, \"paper_bgcolor\": \"white\", \"plot_bgcolor\": \"#E5ECF6\", \"polar\": {\"angularaxis\": {\"gridcolor\": \"white\", \"linecolor\": \"white\", \"ticks\": \"\"}, \"bgcolor\": \"#E5ECF6\", \"radialaxis\": {\"gridcolor\": \"white\", \"linecolor\": \"white\", \"ticks\": \"\"}}, \"scene\": {\"xaxis\": {\"backgroundcolor\": \"#E5ECF6\", \"gridcolor\": \"white\", \"gridwidth\": 2, \"linecolor\": \"white\", \"showbackground\": true, \"ticks\": \"\", \"zerolinecolor\": \"white\"}, \"yaxis\": {\"backgroundcolor\": \"#E5ECF6\", \"gridcolor\": \"white\", \"gridwidth\": 2, \"linecolor\": \"white\", \"showbackground\": true, \"ticks\": \"\", \"zerolinecolor\": \"white\"}, \"zaxis\": {\"backgroundcolor\": \"#E5ECF6\", \"gridcolor\": \"white\", \"gridwidth\": 2, \"linecolor\": \"white\", \"showbackground\": true, \"ticks\": \"\", \"zerolinecolor\": \"white\"}}, \"shapedefaults\": {\"line\": {\"color\": \"#2a3f5f\"}}, \"ternary\": {\"aaxis\": {\"gridcolor\": \"white\", \"linecolor\": \"white\", \"ticks\": \"\"}, \"baxis\": {\"gridcolor\": \"white\", \"linecolor\": \"white\", \"ticks\": \"\"}, \"bgcolor\": \"#E5ECF6\", \"caxis\": {\"gridcolor\": \"white\", \"linecolor\": \"white\", \"ticks\": \"\"}}, \"title\": {\"x\": 0.05}, \"xaxis\": {\"automargin\": true, \"gridcolor\": \"white\", \"linecolor\": \"white\", \"ticks\": \"\", \"title\": {\"standoff\": 15}, \"zerolinecolor\": \"white\", \"zerolinewidth\": 2}, \"yaxis\": {\"automargin\": true, \"gridcolor\": \"white\", \"linecolor\": \"white\", \"ticks\": \"\", \"title\": {\"standoff\": 15}, \"zerolinecolor\": \"white\", \"zerolinewidth\": 2}}}},\n",
              "                        {\"responsive\": true}\n",
              "                    ).then(function(){\n",
              "                            \n",
              "var gd = document.getElementById('61bd3d00-25b5-43ec-8293-0cb20098eac7');\n",
              "var x = new MutationObserver(function (mutations, observer) {{\n",
              "        var display = window.getComputedStyle(gd).display;\n",
              "        if (!display || display === 'none') {{\n",
              "            console.log([gd, 'removed!']);\n",
              "            Plotly.purge(gd);\n",
              "            observer.disconnect();\n",
              "        }}\n",
              "}});\n",
              "\n",
              "// Listen for the removal of the full notebook cells\n",
              "var notebookContainer = gd.closest('#notebook-container');\n",
              "if (notebookContainer) {{\n",
              "    x.observe(notebookContainer, {childList: true});\n",
              "}}\n",
              "\n",
              "// Listen for the clearing of the current output cell\n",
              "var outputEl = gd.closest('.output');\n",
              "if (outputEl) {{\n",
              "    x.observe(outputEl, {childList: true});\n",
              "}}\n",
              "\n",
              "                        })\n",
              "                };\n",
              "                });\n",
              "            </script>\n",
              "        </div>"
            ]
          },
          "metadata": {},
          "output_type": "display_data"
        }
      ],
      "source": [
        "import plotly.graph_objects as go\n",
        "\n",
        "labels = ['Shows from books','Shows not from books']\n",
        "values = [248,6234]\n",
        "\n",
        "fig = go.Figure(data=[go.Pie(labels=labels, values=values)])\n",
        "fig.show()"
      ]
    },
    {
      "cell_type": "markdown",
      "metadata": {
        "papermill": {
          "duration": 0.109431,
          "end_time": "2021-02-25T06:30:41.932169",
          "exception": false,
          "start_time": "2021-02-25T06:30:41.822738",
          "status": "completed"
        },
        "tags": [],
        "id": "9aBbbuqxRjnN"
      },
      "source": [
        "Hence, more accurate predictions are obtained."
      ]
    },
    {
      "cell_type": "markdown",
      "metadata": {
        "papermill": {
          "duration": 0.106327,
          "end_time": "2021-02-25T06:30:42.144934",
          "exception": false,
          "start_time": "2021-02-25T06:30:42.038607",
          "status": "completed"
        },
        "tags": [],
        "id": "e9xLKC9PRjnN"
      },
      "source": [
        "![Made with ♥](https://forthebadge.com/images/badges/built-with-love.svg)\n",
        "Please upvote if you liked the kernel! 😀"
      ]
    }
  ],
  "metadata": {
    "kernelspec": {
      "display_name": "Python 3",
      "language": "python",
      "name": "python3"
    },
    "language_info": {
      "codemirror_mode": {
        "name": "ipython",
        "version": 3
      },
      "file_extension": ".py",
      "mimetype": "text/x-python",
      "name": "python",
      "nbconvert_exporter": "python",
      "pygments_lexer": "ipython3",
      "version": "3.7.6"
    },
    "papermill": {
      "duration": 54.537311,
      "end_time": "2021-02-25T06:30:43.290253",
      "environment_variables": {},
      "exception": null,
      "input_path": "__notebook__.ipynb",
      "output_path": "__notebook__.ipynb",
      "parameters": {},
      "start_time": "2021-02-25T06:29:48.752942",
      "version": "1.2.1"
    },
    "colab": {
      "name": "netflix-visualizations-recommendation-eda.ipynb",
      "provenance": [],
      "include_colab_link": true
    }
  },
  "nbformat": 4,
  "nbformat_minor": 0
}