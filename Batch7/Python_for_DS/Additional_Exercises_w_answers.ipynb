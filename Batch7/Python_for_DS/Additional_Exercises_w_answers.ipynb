{
  "nbformat": 4,
  "nbformat_minor": 0,
  "metadata": {
    "colab": {
      "name": "Additional_Exercises_w_answers.ipynb",
      "provenance": [],
      "authorship_tag": "ABX9TyN0rKJVKkY9Gi0KuzBgqzi0",
      "include_colab_link": true
    },
    "kernelspec": {
      "name": "python3",
      "display_name": "Python 3"
    },
    "language_info": {
      "name": "python"
    }
  },
  "cells": [
    {
      "cell_type": "markdown",
      "metadata": {
        "id": "view-in-github",
        "colab_type": "text"
      },
      "source": [
        "<a href=\"https://colab.research.google.com/github/angelaaaateng/ftw_python/blob/main/Additional_Exercises_w_answers.ipynb\" target=\"_parent\"><img src=\"https://colab.research.google.com/assets/colab-badge.svg\" alt=\"Open In Colab\"/></a>"
      ]
    },
    {
      "cell_type": "markdown",
      "source": [
        "# User Input and While Loops\n"
      ],
      "metadata": {
        "id": "wDyeWEF1kysK"
      }
    },
    {
      "cell_type": "markdown",
      "source": [
        "## Rental Car\n",
        "Write a program that asks the user what kind of rental car they would like. Print a message about that car, such as “Let me see if I can find you a Subaru”."
      ],
      "metadata": {
        "id": "BMg3NP8Gk3lT"
      }
    },
    {
      "cell_type": "code",
      "execution_count": 1,
      "metadata": {
        "colab": {
          "base_uri": "https://localhost:8080/"
        },
        "id": "T6zTceA0knPz",
        "outputId": "228295ea-8889-41f4-dc58-ea7aaeec4714"
      },
      "outputs": [
        {
          "output_type": "stream",
          "name": "stdout",
          "text": [
            "What kind of car would you like? subari\n",
            "Let me see if I can find you a Subari.\n"
          ]
        }
      ],
      "source": [
        "car = input(\"What kind of car would you like? \")\n",
        "\n",
        "print(\"Let me see if I can find you a \" + car.title() + \".\")"
      ]
    },
    {
      "cell_type": "markdown",
      "source": [
        "## Restaurant Seating\n",
        "\n",
        "Write a program that asks the user how many people are in their dinner group. If the answer is more than eight, print a message saying they’ll have to wait for a table. Otherwise, report that their table is ready."
      ],
      "metadata": {
        "id": "6PhUOJazlDGG"
      }
    },
    {
      "cell_type": "code",
      "source": [
        "party_size = input(\"How many people are in your dinner party tonight? \")\n",
        "party_size = int(party_size)\n",
        "\n",
        "if party_size > 8:\n",
        "    print(\"I'm sorry, you'll have to wait for a table.\")\n",
        "else:\n",
        "    print(\"Your table is ready.\")"
      ],
      "metadata": {
        "colab": {
          "base_uri": "https://localhost:8080/"
        },
        "id": "Q0-34vwZk_Ci",
        "outputId": "5a9394ed-a77b-46bc-b93f-8eb92015966a"
      },
      "execution_count": 2,
      "outputs": [
        {
          "output_type": "stream",
          "name": "stdout",
          "text": [
            "How many people are in your dinner party tonight? 10\n",
            "I'm sorry, you'll have to wait for a table.\n"
          ]
        }
      ]
    },
    {
      "cell_type": "markdown",
      "source": [
        "## Multiples of Ten\n",
        "\n",
        "Ask the user for a number, and then report whether the number is a multiple of 10 or not."
      ],
      "metadata": {
        "id": "R1ioUDfilJhP"
      }
    },
    {
      "cell_type": "code",
      "source": [
        "number = input(\"Give me a number, please: \")\n",
        "number = int(number)\n",
        "\n",
        "if number % 10 == 0:\n",
        "    print(str(number) + \" is a multiple of 10.\")\n",
        "else:\n",
        "    print(str(number) + \" is not a multiple of 10.\")"
      ],
      "metadata": {
        "colab": {
          "base_uri": "https://localhost:8080/"
        },
        "id": "8pM2gfmqlHeT",
        "outputId": "c3afc0d5-fd88-4c5e-b1a9-c83af1100fb5"
      },
      "execution_count": 3,
      "outputs": [
        {
          "output_type": "stream",
          "name": "stdout",
          "text": [
            "Give me a number, please: 1\n",
            "1 is not a multiple of 10.\n"
          ]
        }
      ]
    },
    {
      "cell_type": "markdown",
      "source": [
        "## Movie Tickets\n",
        "\n",
        "A movie theater charges different ticket prices depending on a person’s age. If a person is under the age of 3, the ticket is free; if they are between 3 and 12, the ticket is `$10`; and if they are over age 12, the ticket is `$15`. Write a loop in which you ask users their age, and then tel them the cost of their movie ticket.\n",
        "\n"
      ],
      "metadata": {
        "id": "7o3JUMChlQzt"
      }
    },
    {
      "cell_type": "code",
      "source": [
        "prompt = \"How old are you?\"\n",
        "prompt += \"\\nEnter 'quit' when you are finished. \"\n",
        "\n",
        "while True:\n",
        "    age = input(prompt)\n",
        "    if age == 'quit':\n",
        "        break\n",
        "    age = int(age)\n",
        "\n",
        "    if age < 3:\n",
        "        print(\"  You get in free!\")\n",
        "    elif age < 13:\n",
        "        print(\"  Your ticket is $10.\")\n",
        "    else:\n",
        "        print(\"  Your ticket is $15.\")"
      ],
      "metadata": {
        "colab": {
          "base_uri": "https://localhost:8080/"
        },
        "id": "iBtw9GVJlMr-",
        "outputId": "a42cccf2-5a18-41d0-d2d0-7e9865c0dbfa"
      },
      "execution_count": 5,
      "outputs": [
        {
          "name": "stdout",
          "output_type": "stream",
          "text": [
            "How old are you?\n",
            "Enter 'quit' when you are finished. quit\n"
          ]
        }
      ]
    },
    {
      "cell_type": "markdown",
      "source": [
        "## Deli \n",
        "Make a list called sandwich_orders and fill it with the names of various sandwiches. Then make an empty list called finished_sandwiches. Loop through the list of sandwich orders and print a message for each order, such as I made your tuna sandwich. As each sandwich is made, move it to the list of finished sandwiches. After all the sandwiches have been made, print a message listing each sandwich that was made."
      ],
      "metadata": {
        "id": "R8EEiaM8ld60"
      }
    },
    {
      "cell_type": "code",
      "source": [
        "sandwich_orders = ['veggie', 'grilled cheese', 'turkey', 'roast beef']\n",
        "finished_sandwiches = []\n",
        "\n",
        "while sandwich_orders:\n",
        "    current_sandwich = sandwich_orders.pop()\n",
        "    print(\"I'm working on your \" + current_sandwich + \" sandwich.\")\n",
        "    finished_sandwiches.append(current_sandwich)\n",
        "\n",
        "print(\"\\n\")\n",
        "for sandwich in finished_sandwiches:\n",
        "    print(\"I made a \" + sandwich + \" sandwich.\")"
      ],
      "metadata": {
        "colab": {
          "base_uri": "https://localhost:8080/"
        },
        "id": "fAyvtoMalUGJ",
        "outputId": "07a24339-a368-4040-b7e2-b7ad6310995f"
      },
      "execution_count": 6,
      "outputs": [
        {
          "output_type": "stream",
          "name": "stdout",
          "text": [
            "I'm working on your roast beef sandwich.\n",
            "I'm working on your turkey sandwich.\n",
            "I'm working on your grilled cheese sandwich.\n",
            "I'm working on your veggie sandwich.\n",
            "\n",
            "\n",
            "I made a roast beef sandwich.\n",
            "I made a turkey sandwich.\n",
            "I made a grilled cheese sandwich.\n",
            "I made a veggie sandwich.\n"
          ]
        }
      ]
    },
    {
      "cell_type": "markdown",
      "source": [
        "## No Pastrami \n",
        "Using the list sandwich_orders from the earlier exercise, make sure the sandwich 'pastrami' appears in the list at least three times. Add code near the beginning of your program to print a message saying the deli has run out of pastrami, and then use a while loop to remove all occurences of 'pastrami' from sandwich_orders. Make sure no pastrami sandwiches end up in finished_sandiches."
      ],
      "metadata": {
        "id": "yi4PjEvjljs_"
      }
    },
    {
      "cell_type": "code",
      "source": [
        "sandwich_orders = [\n",
        "    'pastrami', 'veggie', 'grilled cheese', 'pastrami',\n",
        "    'turkey', 'roast beef', 'pastrami']\n",
        "finished_sandwiches = []\n",
        "\n",
        "print(\"I'm sorry, we're all out of pastrami today.\")\n",
        "while 'pastrami' in sandwich_orders:\n",
        "    sandwich_orders.remove('pastrami')\n",
        "\n",
        "print(\"\\n\")\n",
        "while sandwich_orders:\n",
        "    current_sandwich = sandwich_orders.pop()\n",
        "    print(\"I'm working on your \" + current_sandwich + \" sandwich.\")\n",
        "    finished_sandwiches.append(current_sandwich)\n",
        "\n",
        "print(\"\\n\")\n",
        "for sandwich in finished_sandwiches:\n",
        "    print(\"I made a \" + sandwich + \" sandwich.\")"
      ],
      "metadata": {
        "colab": {
          "base_uri": "https://localhost:8080/"
        },
        "id": "ZA62zcVflhAr",
        "outputId": "4f291ea0-706c-462e-b3b2-89c1766b3f54"
      },
      "execution_count": 7,
      "outputs": [
        {
          "output_type": "stream",
          "name": "stdout",
          "text": [
            "I'm sorry, we're all out of pastrami today.\n",
            "\n",
            "\n",
            "I'm working on your roast beef sandwich.\n",
            "I'm working on your turkey sandwich.\n",
            "I'm working on your grilled cheese sandwich.\n",
            "I'm working on your veggie sandwich.\n",
            "\n",
            "\n",
            "I made a roast beef sandwich.\n",
            "I made a turkey sandwich.\n",
            "I made a grilled cheese sandwich.\n",
            "I made a veggie sandwich.\n"
          ]
        }
      ]
    },
    {
      "cell_type": "markdown",
      "source": [
        "## Dream Vacation\n",
        "\n",
        "Write a program that polls users about their dream vacation. Write a prompt similar to If you could visit one place in the world, where would you go? Include a block of code that prints the results of the poll."
      ],
      "metadata": {
        "id": "CVfkrr_0lsVI"
      }
    },
    {
      "cell_type": "code",
      "source": [
        "name_prompt = \"\\nWhat's your name? \"\n",
        "place_prompt = \"If you could visit one place in the world, where would it be? \"\n",
        "continue_prompt = \"\\nWould you like to let someone else respond? (yes/no) \"\n",
        "\n",
        "# Responses will be stored in the form {name: place}.\n",
        "responses = {}\n",
        "\n",
        "while True:\n",
        "    # Ask the user where they'd like to go.\n",
        "    name = input(name_prompt)\n",
        "    place = input(place_prompt)\n",
        "\n",
        "    # Store the response.\n",
        "    responses[name] = place\n",
        "\n",
        "    # Ask if there's anyone else responding.\n",
        "    repeat = input(continue_prompt)\n",
        "    if repeat != 'yes':\n",
        "        break\n",
        "\n",
        "# Show results of the survey.\n",
        "print(\"\\n--- Results ---\")\n",
        "for name, place in responses.items():\n",
        "    print(name.title() + \" would like to visit \" + place.title() + \".\")"
      ],
      "metadata": {
        "colab": {
          "base_uri": "https://localhost:8080/"
        },
        "id": "z3w3tu05lpz3",
        "outputId": "3cf5855e-c89a-4cd4-c635-7995653b45e2"
      },
      "execution_count": 9,
      "outputs": [
        {
          "output_type": "stream",
          "name": "stdout",
          "text": [
            "\n",
            "What's your name? amber\n",
            "If you could visit one place in the world, where would it be? manila\n",
            "\n",
            "Would you like to let someone else respond? (yes/no) no\n",
            "\n",
            "--- Results ---\n",
            "Amber would like to visit Manila.\n"
          ]
        }
      ]
    },
    {
      "cell_type": "markdown",
      "source": [
        "# Dictionaries\n"
      ],
      "metadata": {
        "id": "MvlEgRqAl8V3"
      }
    },
    {
      "cell_type": "markdown",
      "source": [
        "## Favorite Numbers\n",
        "\n",
        "Use a dictionary to store people’s favorite numbers. Think of five names, and use them as keys in your dictionary. Think of a favorite number for each person, and store each as a value in your dictionary. Print each person’s name and their favorite number. For even more fun, poll a few friends and get some actual data for your program."
      ],
      "metadata": {
        "id": "A4I9do2Hl-vs"
      }
    },
    {
      "cell_type": "code",
      "source": [
        "favorite_numbers = {\n",
        "    'mandy': 42,\n",
        "    'micah': 23,\n",
        "    'gus': 7,\n",
        "    'hank': 1000000,\n",
        "    'maggie': 0,\n",
        "    }\n",
        "\n",
        "num = favorite_numbers['mandy']\n",
        "print(\"Mandy's favorite number is \" + str(num) + \".\")\n",
        "\n",
        "num = favorite_numbers['micah']\n",
        "print(\"Micah's favorite number is \" + str(num) + \".\")\n",
        "\n",
        "num = favorite_numbers['gus']\n",
        "print(\"Gus's favorite number is \" + str(num) + \".\")\n",
        "\n",
        "num = favorite_numbers['hank']\n",
        "print(\"Hank's favorite number is \" + str(num) + \".\")\n",
        "\n",
        "num = favorite_numbers['maggie']\n",
        "print(\"Maggie's favorite number is \" + str(num) + \".\")"
      ],
      "metadata": {
        "colab": {
          "base_uri": "https://localhost:8080/"
        },
        "id": "s9OF4W4tlvvd",
        "outputId": "49f422c0-8624-4883-963d-82c04f15a57c"
      },
      "execution_count": 10,
      "outputs": [
        {
          "output_type": "stream",
          "name": "stdout",
          "text": [
            "Mandy's favorite number is 42.\n",
            "Micah's favorite number is 23.\n",
            "Gus's favorite number is 7.\n",
            "Hank's favorite number is 1000000.\n",
            "Maggie's favorite number is 0.\n"
          ]
        }
      ]
    },
    {
      "cell_type": "markdown",
      "source": [
        "## Glossary\n",
        "\n",
        "A Python dictionary can be used to model an actual dictionary. However, to avoid confusion, let’s call it a glossary.\n",
        "\n",
        "- Think of five programming words you’ve learned about in the previous chapters. Use these words as the keys in your glossary, and store their meanings as values.\n",
        "- Print each word and its meaning as neatly formatted output. You might print the word followed by a colon and then its meaning, or print the word on one line and then print its meaning indented on a second line. Use the newline character ('\\n') to insert a blank line between each word-meaning pair in your output."
      ],
      "metadata": {
        "id": "45qD9FaamI83"
      }
    },
    {
      "cell_type": "code",
      "source": [
        "glossary = {\n",
        "    'string': 'A series of characters.',\n",
        "    'comment': 'A note in a program that the Python interpreter ignores.',\n",
        "    'list': 'A collection of items in a particular order.',\n",
        "    'loop': 'Work through a collection of items, one at a time.',\n",
        "    'dictionary': \"A collection of key-value pairs.\",\n",
        "    }\n",
        "\n",
        "word = 'string'\n",
        "print(\"\\n\" + word.title() + \": \" + glossary[word])\n",
        "\n",
        "word = 'comment'\n",
        "print(\"\\n\" + word.title() + \": \" + glossary[word])\n",
        "\n",
        "word = 'list'\n",
        "print(\"\\n\" + word.title() + \": \" + glossary[word])\n",
        "\n",
        "word = 'loop'\n",
        "print(\"\\n\" + word.title() + \": \" + glossary[word])\n",
        "\n",
        "word = 'dictionary'\n",
        "print(\"\\n\" + word.title() + \": \" + glossary[word])"
      ],
      "metadata": {
        "colab": {
          "base_uri": "https://localhost:8080/"
        },
        "id": "Rz8yTFnamDsI",
        "outputId": "dcd8d3c6-cce2-4f27-e021-7dcf4e40118e"
      },
      "execution_count": 11,
      "outputs": [
        {
          "output_type": "stream",
          "name": "stdout",
          "text": [
            "\n",
            "String: A series of characters.\n",
            "\n",
            "Comment: A note in a program that the Python interpreter ignores.\n",
            "\n",
            "List: A collection of items in a particular order.\n",
            "\n",
            "Loop: Work through a collection of items, one at a time.\n",
            "\n",
            "Dictionary: A collection of key-value pairs.\n"
          ]
        }
      ]
    },
    {
      "cell_type": "markdown",
      "source": [
        "## Cities\n",
        "Make a dictionary called cities. Use the names of three cities as keys in your dictionary. Create a dictionary of information about each city and include the country that the city is in, its approximate population, and one fact about that city. The keys for each city’s dictionary should be something like country, population, and fact. Print the name of each city and all of the information you have stored about it."
      ],
      "metadata": {
        "id": "i1HMAzQMmeBd"
      }
    },
    {
      "cell_type": "code",
      "source": [
        "cities = {\n",
        "    'santiago': {\n",
        "        'country': 'chile',\n",
        "        'population': 6158080,\n",
        "        'nearby mountains': 'andes',\n",
        "        },\n",
        "    'talkeetna': {\n",
        "        'country': 'alaska',\n",
        "        'population': 876,\n",
        "        'nearby mountains': 'alaska range',\n",
        "        },\n",
        "    'kathmandu': {\n",
        "        'country': 'nepal',\n",
        "        'population': 1003285,\n",
        "        'nearby mountains': 'himilaya',\n",
        "        }\n",
        "    }\n",
        "\n",
        "for city, city_info in cities.items():\n",
        "    country = city_info['country'].title()\n",
        "    population = city_info['population']\n",
        "    mountains = city_info['nearby mountains'].title()\n",
        "\n",
        "    print(\"\\n\" + city.title() + \" is in \" + country + \".\")\n",
        "    print(\"  It has a population of about \" + str(population) + \".\")\n",
        "    print(\"  The \" + mountains + \" mountains are nearby.\")"
      ],
      "metadata": {
        "colab": {
          "base_uri": "https://localhost:8080/"
        },
        "id": "h_7fVKKImRma",
        "outputId": "4b800dc7-5cb6-4fb2-fdcb-851b74bf0a99"
      },
      "execution_count": 12,
      "outputs": [
        {
          "output_type": "stream",
          "name": "stdout",
          "text": [
            "\n",
            "Santiago is in Chile.\n",
            "  It has a population of about 6158080.\n",
            "  The Andes mountains are nearby.\n",
            "\n",
            "Talkeetna is in Alaska.\n",
            "  It has a population of about 876.\n",
            "  The Alaska Range mountains are nearby.\n",
            "\n",
            "Kathmandu is in Nepal.\n",
            "  It has a population of about 1003285.\n",
            "  The Himilaya mountains are nearby.\n"
          ]
        }
      ]
    },
    {
      "cell_type": "code",
      "source": [
        ""
      ],
      "metadata": {
        "id": "E1mGa9mcmNa6"
      },
      "execution_count": null,
      "outputs": []
    }
  ]
}