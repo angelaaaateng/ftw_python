{
  "cells": [
    {
      "cell_type": "markdown",
      "metadata": {
        "id": "view-in-github",
        "colab_type": "text"
      },
      "source": [
        "<a href=\"https://colab.research.google.com/github/angelaaaateng/ftw_python/blob/main/python_1.ipynb\" target=\"_parent\"><img src=\"https://colab.research.google.com/assets/colab-badge.svg\" alt=\"Open In Colab\"/></a>"
      ]
    },
    {
      "cell_type": "markdown",
      "metadata": {
        "id": "gmvAqsqPWZg6"
      },
      "source": [
        "# Introduction to Python \n",
        "## FTW Foundation\n",
        "June 25, 2022 - Day 1\n",
        "\n",
        "## Outine: \n",
        "---\n",
        "1. Hello, World\n",
        "2. Python Basics\n",
        "3. Variables\n",
        "  - 3.1 Strings \n",
        "  - 3.2 Integers \n",
        "  - 3.3 Floats \n",
        "- < break > \n",
        "4. Data Types **< we are here >**\n",
        " - 4.1 Lists \n",
        "    - Changing, Adding, and Removing Elements \n",
        "    - Organizing a List \n",
        "    - Avoiding Index Errors when Working with Lists\n",
        "    - Looping through an entire list\n",
        "    - Avoiding indentation errors\n",
        "    - Making numerical lists\n",
        "    - working with part of a list\n",
        " - 4.2 Tuples \n",
        " - 4.3 Dictionaries \n",
        "5. Functions \n",
        "6. If statements \n",
        "7. While loops\n",
        "A. Appendix\n",
        " - A.1 Variable Naming Conventions\n",
        " - A.2 The Zen of Python\n",
        "\n",
        "\n",
        "\n",
        "## References: \n",
        "---\n",
        "- <a href='https://ehmatthes.github.io/pcc/index.html'>Python Crash Course</a>"
      ]
    },
    {
      "cell_type": "markdown",
      "metadata": {
        "id": "ub7gHzmLWZhp"
      },
      "source": [
        "Lists\n",
        "===\n",
        "\n",
        "- A list is a collection of items in a particular order. \n",
        "- You can make a list that\n",
        "includes the letters of the alphabet, the digits from 0–9, or the names of\n",
        "all the people in your family.\n",
        "- You can put anything you want into a list, and the items in your list don’t have to be related in any particular way. \n",
        "- Because\n",
        "a list usually contains more than one element, it’s a good idea to make the\n",
        "name of your list plural, such as letters, digits, or names."
      ]
    },
    {
      "cell_type": "markdown",
      "metadata": {
        "id": "wgHgv9_LWZhr"
      },
      "source": [
        "Introducing Lists\n",
        "===\n",
        "Example\n",
        "---\n",
        "A list is a collection of items, that is stored in a variable. There are no restrictions on what can be stored in a list. Here is a simple example of a list, and how we can quickly access each item in the list.\n",
        "\n",
        "- In Python, square brackets ([]) indicate a list, and individual elements\n",
        "in the list are separated by commas."
      ]
    },
    {
      "cell_type": "code",
      "source": [
        "bicycles = ['trek', 'cannondale', 'redline', 'specialized']\n",
        "print(bicycles)"
      ],
      "metadata": {
        "colab": {
          "base_uri": "https://localhost:8080/"
        },
        "id": "BmSw5rkyYX17",
        "outputId": "9e10abbc-d8b9-4f8e-d845-f896dc7fbf08"
      },
      "execution_count": null,
      "outputs": [
        {
          "output_type": "stream",
          "name": "stdout",
          "text": [
            "['trek', 'cannondale', 'redline', 'specialized']\n"
          ]
        }
      ]
    },
    {
      "cell_type": "markdown",
      "source": [
        "- If you ask Python to print a list, Python returns its representation of the\n",
        "list, including the square brackets\n",
        "- Because this isn’t the output you want your users to see, let’s learn how\n",
        "to access the individual items in a list."
      ],
      "metadata": {
        "id": "dSFz_lTcYhOl"
      }
    },
    {
      "cell_type": "code",
      "execution_count": null,
      "metadata": {
        "id": "2cZ3XsMcWZht",
        "colab": {
          "base_uri": "https://localhost:8080/"
        },
        "outputId": "8bdfe2a0-4edc-4d93-d5a6-6e8f0f3ea46c"
      },
      "outputs": [
        {
          "output_type": "stream",
          "name": "stdout",
          "text": [
            "Hello, Harry!\n",
            "Hello, Ron!\n",
            "Hello, Hermione!\n"
          ]
        }
      ],
      "source": [
        "students = ['harry', 'ron', 'hermione']\n",
        "\n",
        "for student in students:\n",
        "    print(\"Hello, \" + student.title() + \"!\")"
      ]
    },
    {
      "cell_type": "markdown",
      "metadata": {
        "id": "1rNd51aiWZh0"
      },
      "source": [
        "Naming and defining a list\n",
        "---\n",
        "Since lists are collection of objects, it is good practice to give them a plural name. If each item in your list is a car, call the list 'cars'. If each item is a dog, call your list 'dogs'. This gives you a straightforward way to refer to the entire list ('dogs'), and to a single item in the list ('dog').\n",
        "\n",
        "In Python, square brackets designate a list. To define a list, you give the name of the list, the equals sign, and the values you want to include in your list within square brackets."
      ]
    },
    {
      "cell_type": "code",
      "execution_count": null,
      "metadata": {
        "id": "1NPmpLMKWZh1"
      },
      "outputs": [],
      "source": [
        "dogs = ['border collie', 'australian cattle dog', 'labrador retriever']"
      ]
    },
    {
      "cell_type": "code",
      "source": [
        "dogs"
      ],
      "metadata": {
        "colab": {
          "base_uri": "https://localhost:8080/"
        },
        "id": "-5UDbehEZGmi",
        "outputId": "a78057fd-cc65-4986-8806-3580d892cbf3"
      },
      "execution_count": null,
      "outputs": [
        {
          "output_type": "execute_result",
          "data": {
            "text/plain": [
              "['border collie', 'australian cattle dog', 'labrador retriever']"
            ]
          },
          "metadata": {},
          "execution_count": 4
        }
      ]
    },
    {
      "cell_type": "code",
      "source": [
        "wizards = ['ron', 'harry', 'hermione']\n",
        "wizards"
      ],
      "metadata": {
        "colab": {
          "base_uri": "https://localhost:8080/"
        },
        "id": "twNwF_rLggTZ",
        "outputId": "84ae31d4-a223-4560-e987-2d40f6129611"
      },
      "execution_count": null,
      "outputs": [
        {
          "output_type": "execute_result",
          "data": {
            "text/plain": [
              "['ron', 'harry', 'hermione']"
            ]
          },
          "metadata": {},
          "execution_count": 6
        }
      ]
    },
    {
      "cell_type": "markdown",
      "metadata": {
        "id": "8bhYwK1jWZh3"
      },
      "source": [
        "Accessing one item in a list\n",
        "---\n",
        "- Items in a list are identified by their position in the list, starting with zero. \n",
        "- their position in the list is also called the **index**\n",
        "\n",
        "- This will almost certainly trip you up at some point. Programmers even joke about how often we all make \"off-by-one\" errors, so don't feel bad when you make this kind of error.\n",
        "\n",
        "To access the first element in a list, you give the name of the list, followed by a zero in parentheses."
      ]
    },
    {
      "cell_type": "code",
      "execution_count": null,
      "metadata": {
        "id": "voNfv0xrWZh5",
        "colab": {
          "base_uri": "https://localhost:8080/"
        },
        "outputId": "f300e4e7-2b1d-4524-f3be-8dccb298ee96"
      },
      "outputs": [
        {
          "output_type": "stream",
          "name": "stdout",
          "text": [
            "border collie\n",
            "Border Collie\n"
          ]
        }
      ],
      "source": [
        "dogs = ['border collie', 'australian cattle dog', 'labrador retriever']\n",
        "\n",
        "dog = dogs[0]\n",
        "print(dog)\n",
        "print(dog.title())"
      ]
    },
    {
      "cell_type": "markdown",
      "metadata": {
        "id": "olWtLSEJWZh9"
      },
      "source": [
        "The number in parentheses is called the **index** of the item. Because lists start at zero, the index of an item is always one less than its position in the list. So to get the second item in the list, we need to use an index of 1."
      ]
    },
    {
      "cell_type": "markdown",
      "source": [
        "***Index Positions start at 0, not at 1***\n",
        "\n",
        "- Python considers the first item in a list to be at position 0, not position 1.\n",
        "This is true of most programming languages, and the reason has to do with\n",
        "how the list operations are implemented at a lower level. If you’re receiving\n",
        "unexpected results, determine whether you are making a simple off-by-one\n",
        "error\n",
        "- The second item in a list has an index of 1. Using this simple counting\n",
        "system, you can get any element you want from a list by subtracting one\n",
        "from its position in the list. For instance, to access the fourth item in a list,\n",
        "you request the item at index 3.\n",
        "- Do you know any languages where the index starts at 1, and not at 0? (Trivia question!)"
      ],
      "metadata": {
        "id": "BgRrBU48hKBO"
      }
    },
    {
      "cell_type": "code",
      "execution_count": null,
      "metadata": {
        "id": "A8qMP0TXWZiA",
        "colab": {
          "base_uri": "https://localhost:8080/"
        },
        "outputId": "a6150b6e-da40-4546-e4d0-3c9df335ef98"
      },
      "outputs": [
        {
          "output_type": "stream",
          "name": "stdout",
          "text": [
            "Australian Cattle Dog\n"
          ]
        }
      ],
      "source": [
        "\n",
        "dogs = ['border collie', 'australian cattle dog', 'labrador retriever']\n",
        "\n",
        "dog = dogs[1]\n",
        "print(dog.title())"
      ]
    },
    {
      "cell_type": "code",
      "source": [
        "dogs[0]"
      ],
      "metadata": {
        "colab": {
          "base_uri": "https://localhost:8080/",
          "height": 36
        },
        "id": "vs6FAgtwgwqG",
        "outputId": "e1b0f325-6dd4-4702-de38-af3c1d564cb9"
      },
      "execution_count": null,
      "outputs": [
        {
          "output_type": "execute_result",
          "data": {
            "text/plain": [
              "'border collie'"
            ],
            "application/vnd.google.colaboratory.intrinsic+json": {
              "type": "string"
            }
          },
          "metadata": {},
          "execution_count": 8
        }
      ]
    },
    {
      "cell_type": "markdown",
      "source": [
        "- When we ask for a single item from a\n",
        "list, Python returns just that element without square brackets or quotation\n",
        "marks"
      ],
      "metadata": {
        "id": "syWXEbgCg51z"
      }
    },
    {
      "cell_type": "code",
      "source": [
        "print(dogs[2])"
      ],
      "metadata": {
        "colab": {
          "base_uri": "https://localhost:8080/"
        },
        "id": "Hynz-wGNg6dW",
        "outputId": "5ccf2c6d-f996-4de3-ea96-7e04a0064487"
      },
      "execution_count": null,
      "outputs": [
        {
          "output_type": "stream",
          "name": "stdout",
          "text": [
            "labrador retriever\n"
          ]
        }
      ]
    },
    {
      "cell_type": "code",
      "source": [
        "bicycles = ['trek', 'cannondale', 'redline', 'specialized']\n",
        "print(bicycles[1])\n",
        "print(bicycles[3])"
      ],
      "metadata": {
        "colab": {
          "base_uri": "https://localhost:8080/"
        },
        "id": "8_DgenP8iiOl",
        "outputId": "9c98ef81-5320-4507-8162-285a21490abd"
      },
      "execution_count": null,
      "outputs": [
        {
          "output_type": "stream",
          "name": "stdout",
          "text": [
            "cannondale\n",
            "specialized\n"
          ]
        }
      ]
    },
    {
      "cell_type": "markdown",
      "metadata": {
        "id": "d3uKVIRRWZiB"
      },
      "source": [
        "### Accessing the last items in a list\n",
        "You can probably see that to get the last item in this list, we would use an index of 2. This works, but it would only work because our list has exactly three items. To get the last item in a list, no matter how long the list is, you can use an index of -1."
      ]
    },
    {
      "cell_type": "code",
      "execution_count": null,
      "metadata": {
        "id": "MT01K5B0WZiC",
        "colab": {
          "base_uri": "https://localhost:8080/"
        },
        "outputId": "2a32d5bc-a8b5-47ef-bfa2-a2af3599e697"
      },
      "outputs": [
        {
          "output_type": "stream",
          "name": "stdout",
          "text": [
            "Labrador Retriever\n"
          ]
        }
      ],
      "source": [
        "dogs = ['border collie', 'australian cattle dog', 'labrador retriever']\n",
        "\n",
        "dog = dogs[-1]\n",
        "print(dog.title())"
      ]
    },
    {
      "cell_type": "code",
      "source": [
        "bicycles = ['trek', 'cannondale', 'redline', 'specialized']\n",
        "print(bicycles[-1])"
      ],
      "metadata": {
        "colab": {
          "base_uri": "https://localhost:8080/"
        },
        "id": "vDxJ7L_NinNp",
        "outputId": "40f1388c-4b30-4cab-977a-eac512c75c72"
      },
      "execution_count": null,
      "outputs": [
        {
          "output_type": "stream",
          "name": "stdout",
          "text": [
            "specialized\n"
          ]
        }
      ]
    },
    {
      "cell_type": "markdown",
      "metadata": {
        "id": "2B5Ucv2uWZiD"
      },
      "source": [
        "This syntax also works for the second to last item, the third to last, and so forth."
      ]
    },
    {
      "cell_type": "code",
      "execution_count": null,
      "metadata": {
        "id": "jWVbUUw6WZiH",
        "colab": {
          "base_uri": "https://localhost:8080/"
        },
        "outputId": "6c4a6eb4-aaca-40fc-dde1-01d775200c7b"
      },
      "outputs": [
        {
          "output_type": "stream",
          "name": "stdout",
          "text": [
            "Australian Cattle Dog\n"
          ]
        }
      ],
      "source": [
        "dogs = ['border collie', 'australian cattle dog', 'labrador retriever']\n",
        "\n",
        "dog = dogs[-2]\n",
        "print(dog.title())"
      ]
    },
    {
      "cell_type": "markdown",
      "source": [
        "- This syntax is quite useful,\n",
        "because you’ll often want to access the last items in a list without knowing\n",
        "exactly how long the list is."
      ],
      "metadata": {
        "id": "5bcpqpFKiztj"
      }
    },
    {
      "cell_type": "markdown",
      "metadata": {
        "id": "OQO2qogWWZiI"
      },
      "source": [
        "You can't use a negative number larger than the length of the list, however."
      ]
    },
    {
      "cell_type": "code",
      "source": [
        "len(dogs)"
      ],
      "metadata": {
        "colab": {
          "base_uri": "https://localhost:8080/"
        },
        "id": "lL1l1fLFi3JP",
        "outputId": "daa2502e-fb37-424b-e069-27281a925162"
      },
      "execution_count": null,
      "outputs": [
        {
          "output_type": "execute_result",
          "data": {
            "text/plain": [
              "3"
            ]
          },
          "metadata": {},
          "execution_count": 18
        }
      ]
    },
    {
      "cell_type": "code",
      "execution_count": null,
      "metadata": {
        "id": "aSYXGx2XWZiJ",
        "colab": {
          "base_uri": "https://localhost:8080/",
          "height": 242
        },
        "outputId": "8d82c797-2d66-4ba9-fac5-b890f9cf9303"
      },
      "outputs": [
        {
          "output_type": "error",
          "ename": "IndexError",
          "evalue": "ignored",
          "traceback": [
            "\u001b[0;31m---------------------------------------------------------------------------\u001b[0m",
            "\u001b[0;31mIndexError\u001b[0m                                Traceback (most recent call last)",
            "\u001b[0;32m<ipython-input-17-c82c43a51a10>\u001b[0m in \u001b[0;36m<module>\u001b[0;34m()\u001b[0m\n\u001b[1;32m      2\u001b[0m \u001b[0mdogs\u001b[0m \u001b[0;34m=\u001b[0m \u001b[0;34m[\u001b[0m\u001b[0;34m'border collie'\u001b[0m\u001b[0;34m,\u001b[0m \u001b[0;34m'australian cattle dog'\u001b[0m\u001b[0;34m,\u001b[0m \u001b[0;34m'labrador retriever'\u001b[0m\u001b[0;34m]\u001b[0m\u001b[0;34m\u001b[0m\u001b[0;34m\u001b[0m\u001b[0m\n\u001b[1;32m      3\u001b[0m \u001b[0;34m\u001b[0m\u001b[0m\n\u001b[0;32m----> 4\u001b[0;31m \u001b[0mdog\u001b[0m \u001b[0;34m=\u001b[0m \u001b[0mdogs\u001b[0m\u001b[0;34m[\u001b[0m\u001b[0;34m-\u001b[0m\u001b[0;36m4\u001b[0m\u001b[0;34m]\u001b[0m\u001b[0;34m\u001b[0m\u001b[0;34m\u001b[0m\u001b[0m\n\u001b[0m\u001b[1;32m      5\u001b[0m \u001b[0mprint\u001b[0m\u001b[0;34m(\u001b[0m\u001b[0mdog\u001b[0m\u001b[0;34m.\u001b[0m\u001b[0mtitle\u001b[0m\u001b[0;34m(\u001b[0m\u001b[0;34m)\u001b[0m\u001b[0;34m)\u001b[0m\u001b[0;34m\u001b[0m\u001b[0;34m\u001b[0m\u001b[0m\n",
            "\u001b[0;31mIndexError\u001b[0m: list index out of range"
          ]
        }
      ],
      "source": [
        "\n",
        "dogs = ['border collie', 'australian cattle dog', 'labrador retriever']\n",
        "\n",
        "dog = dogs[-4]\n",
        "print(dog.title())"
      ]
    },
    {
      "cell_type": "markdown",
      "source": [
        "## Using individual Values from a List\n",
        "\n",
        "You can use individual values from a list just as you would any other variable.\n",
        "For example, you can use concatenation to create a message based on\n",
        "a value from a list.\n",
        "Let’s try pulling the first bicycle from the list and composing a message\n",
        "using that value."
      ],
      "metadata": {
        "id": "ff4hk0TBjIlI"
      }
    },
    {
      "cell_type": "code",
      "source": [
        "bicycles = ['trek', 'cannondale', 'redline', 'specialized']\n",
        "message = \"My first bicycle was a \" + bicycles[0].title() + \".\"\n",
        "print(message)"
      ],
      "metadata": {
        "colab": {
          "base_uri": "https://localhost:8080/"
        },
        "id": "FDUqH4U4jM2c",
        "outputId": "70489391-01ba-4d11-e5bd-ad4ed3fb7014"
      },
      "execution_count": null,
      "outputs": [
        {
          "output_type": "stream",
          "name": "stdout",
          "text": [
            "My first bicycle was a Trek.\n"
          ]
        }
      ]
    },
    {
      "cell_type": "markdown",
      "source": [
        "## DIY 1: Making friends at FTW \n",
        "\n",
        "1. Store the names of a 3 of your new FTW friends in a list called names. Print\n",
        "each person’s name by accessing each element in the list, one at a time.\n",
        "2. Now, print a message to them. The text of each message\n",
        "should be the same, but each message should be personalized with the person’s name."
      ],
      "metadata": {
        "id": "eRrEpgYMjRYT"
      }
    },
    {
      "cell_type": "code",
      "source": [
        "# write your code here"
      ],
      "metadata": {
        "id": "iyA858Wo4ipr"
      },
      "execution_count": null,
      "outputs": []
    },
    {
      "cell_type": "code",
      "source": [
        "# write your code here"
      ],
      "metadata": {
        "id": "JrYcrsqD4iya"
      },
      "execution_count": null,
      "outputs": []
    },
    {
      "cell_type": "markdown",
      "metadata": {
        "id": "4IJn1hXKWZiM"
      },
      "source": [
        "Lists and Looping\n",
        "==="
      ]
    },
    {
      "cell_type": "markdown",
      "metadata": {
        "id": "69r-RV9zWZiM"
      },
      "source": [
        "Accessing all elements in a list\n",
        "---\n",
        "This is one of the most important concepts related to lists. You can have a list with a million items in it, and in three lines of code you can write a sentence for each of those million items. If you want to understand lists, and become a competent programmer, make sure you take the time to understand this section.\n",
        "\n",
        "We use a loop to access all the elements in a list. \n",
        "\n",
        "- A loop is a block of code that repeats itself until it runs out of items to work with, or until a certain condition is met. \n",
        "\n",
        "- In this case, our loop will run once for every item in our list. With a list that is three items long, our loop will run three times.\n",
        "\n",
        "Let's take a look at how we access all the items in a list, and then try to understand how it works."
      ]
    },
    {
      "cell_type": "code",
      "execution_count": null,
      "metadata": {
        "id": "VwxnzqJnWZiN",
        "colab": {
          "base_uri": "https://localhost:8080/"
        },
        "outputId": "55ed4724-f2d2-4712-c44d-cb5411035b2b"
      },
      "outputs": [
        {
          "output_type": "stream",
          "name": "stdout",
          "text": [
            "border collie\n",
            "australian cattle dog\n",
            "labrador retriever\n"
          ]
        }
      ],
      "source": [
        "dogs = ['border collie', 'australian cattle dog', 'labrador retriever']\n",
        "\n",
        "for dog in dogs:\n",
        "    print(dog)"
      ]
    },
    {
      "cell_type": "markdown",
      "metadata": {
        "id": "c37a1pNdWZiP"
      },
      "source": [
        "We have already seen how to create a list, so we are really just trying to understand how the last two lines work. These last two lines make up a loop, and the language here can help us see what is happening:\n",
        "\n",
        "    for dog in dogs:\n",
        "\n",
        "- The keyword `for` tells Python to get ready to use a loop.\n",
        "- The variable `dog`, with no \"s\" on it, is a *temporary placeholder variable*. This is the variable that Python will place each item in the list into, one at a time.\n",
        "- The first time through the loop, the value of \"dog\" will be 'border collie'.\n",
        "- The second time through the loop, the value of \"dog\" will be 'australian cattle dog'.\n",
        "- The third time through, \"dog\" will be 'labrador retriever'.\n",
        "- After this, there are no more items in the list, and the loop will end.\n",
        "- Note: we can visualize this on a whiteboard to better understand looping\n",
        "\n",
        "The site <a href=\"http://pythontutor.com/visualize.html#code=dogs+%3D+%5B'border+collie',+'australian+cattle+dog',+'labrador+retriever'%5D%0A%0Afor+dog+in+dogs%3A%0A++++print(dog)&mode=display&cumulative=false&heapPrimitives=false&drawParentPointers=false&textReferences=false&showOnlyOutputs=false&py=3&curInstr=0\">pythontutor.com</a> allows you to run Python code one line at a time. As you run the code, there is also a visualization on the screen that shows you how the variable \"dog\" holds different values as the loop progresses. There is also an arrow that moves around your code, showing you how some lines are run just once, while other lines are run multiple tiimes. If you would like to see this in action, click the Forward button and watch the visualization, and the output as it is printed to the screen. Tools like this are incredibly valuable for seeing what Python is doing with your code.\n",
        "\n",
        "### Doing more with each item\n",
        "\n",
        "We can do whatever we want with the value of \"dog\" inside the loop. In this case, we just print the name of the dog.\n",
        "\n",
        "    print(dog)\n",
        "\n",
        "We are not limited to just printing the word dog. We can do whatever we want with this value, and this action will be carried out for every item in the list. Let's say something about each dog in our list."
      ]
    },
    {
      "cell_type": "code",
      "execution_count": null,
      "metadata": {
        "id": "OzvgWP5MWZiU",
        "colab": {
          "base_uri": "https://localhost:8080/"
        },
        "outputId": "054c66d3-b786-42d5-e3e9-ad891df1e40a"
      },
      "outputs": [
        {
          "output_type": "stream",
          "name": "stdout",
          "text": [
            "I like border collies.\n",
            "I like australian cattle dogs.\n",
            "I like labrador retrievers.\n"
          ]
        }
      ],
      "source": [
        "\n",
        "dogs = ['border collie', 'australian cattle dog', 'labrador retriever']\n",
        "\n",
        "for dog in dogs:\n",
        "    print('I like ' + dog + 's.')"
      ]
    },
    {
      "cell_type": "markdown",
      "metadata": {
        "id": "dfIKFTdDWZiW"
      },
      "source": [
        "Visualize this on <a href=\"http://pythontutor.com/visualize.html#code=dogs+%3D+%5B'border+collie',+'australian+cattle+dog',+'labrador+retriever'%5D%0A%0Afor+dog+in+dogs%3A%0A++++print('I+like+'+%2B+dog+%2B+'s.')&mode=display&cumulative=false&heapPrimitives=false&drawParentPointers=false&textReferences=false&showOnlyOutputs=false&py=3&curInstr=0\">pythontutor</a>.\n",
        "\n",
        "### Inside and outside the loop\n",
        "\n",
        "Python uses indentation to decide what is inside the loop and what is outside the loop. Code that is inside the loop will be run for every item in the list. Code that is not indented, which comes after the loop, will be run once just like regular code."
      ]
    },
    {
      "cell_type": "code",
      "execution_count": null,
      "metadata": {
        "id": "53lw5DH8WZiY",
        "colab": {
          "base_uri": "https://localhost:8080/"
        },
        "outputId": "7884b10b-27bc-49b3-c8e2-85dcbe12524e"
      },
      "outputs": [
        {
          "output_type": "stream",
          "name": "stdout",
          "text": [
            "I like border collies.\n",
            "No, I really really like border collies!\n",
            "\n",
            "I like australian cattle dogs.\n",
            "No, I really really like australian cattle dogs!\n",
            "\n",
            "I like labrador retrievers.\n",
            "No, I really really like labrador retrievers!\n",
            "\n",
            "\n",
            "That's just how I feel about dogs.\n"
          ]
        }
      ],
      "source": [
        "\n",
        "dogs = ['border collie', 'australian cattle dog', 'labrador retriever']\n",
        "\n",
        "for dog in dogs:\n",
        "    print('I like ' + dog + 's.')\n",
        "    print('No, I really really like ' + dog +'s!\\n')\n",
        "    \n",
        "print(\"\\nThat's just how I feel about dogs.\")"
      ]
    },
    {
      "cell_type": "markdown",
      "metadata": {
        "id": "GDY6rpO3WZiZ"
      },
      "source": [
        "Notice that the last line only runs once, after the loop is completed. Also notice the use of newlines (\"\\n\") to make the output easier to read. Run this code on <a href=\"http://pythontutor.com/visualize.html#code=dogs+%3D+%5B'border+collie',+'australian+cattle+dog',+'labrador+retriever'%5D%0A%0Afor+dog+in+dogs%3A%0A++++print('I+like+'+%2B+dog+%2B+'s.')%0A++++print('No,+I+really+really+like+'+%2B+dog+%2B's!%5Cn')%0A++++%0Aprint(%22%5CnThat's+just+how+I+feel+about+dogs.%22)&mode=display&cumulative=false&heapPrimitives=false&drawParentPointers=false&textReferences=false&showOnlyOutputs=false&py=3&curInstr=0\">pythontutor</a>."
      ]
    },
    {
      "cell_type": "markdown",
      "metadata": {
        "id": "Wqs_v3Z6WZiZ"
      },
      "source": [
        "Enumerating a list\n",
        "---\n",
        "When you are looping through a list, you may want to know the index of the current item. You could always use the `list.index(value)` syntax, but there is a simpler way. The `enumerate()` function tracks the index of each item for you, as it loops through the list:"
      ]
    },
    {
      "cell_type": "code",
      "execution_count": null,
      "metadata": {
        "id": "_S_n4ravWZib",
        "colab": {
          "base_uri": "https://localhost:8080/"
        },
        "outputId": "1ad20214-8811-47e5-87ea-2526e5166db3"
      },
      "outputs": [
        {
          "output_type": "stream",
          "name": "stdout",
          "text": [
            "Results for the dog show are as follows:\n",
            "\n",
            "Place: 0 Dog: Border Collie\n",
            "Place: 1 Dog: Australian Cattle Dog\n",
            "Place: 2 Dog: Labrador Retriever\n"
          ]
        }
      ],
      "source": [
        "dogs = ['border collie', 'australian cattle dog', 'labrador retriever']\n",
        "\n",
        "print(\"Results for the dog show are as follows:\\n\")\n",
        "for index, dog in enumerate(dogs):\n",
        "    place = str(index)\n",
        "    print(\"Place: \" + place + \" Dog: \" + dog.title())"
      ]
    },
    {
      "cell_type": "markdown",
      "metadata": {
        "id": "Db60f7yLWZig"
      },
      "source": [
        "To enumerate a list, you need to add an *index* variable to hold the current index. So instead of\n",
        "\n",
        "    for dog in dogs:\n",
        "    \n",
        "You have\n",
        "\n",
        "    for index, dog in enumerate(dogs)\n",
        "    \n",
        "The value in the variable *index* is always an integer. If you want to print it in a string, you have to turn the integer into a string:\n",
        "\n",
        "    str(index)\n",
        "    \n",
        "The index always starts at 0, so in this example the value of *place* should actually be the current index, plus one:"
      ]
    },
    {
      "cell_type": "code",
      "execution_count": null,
      "metadata": {
        "id": "Wk5xy6yXWZij",
        "colab": {
          "base_uri": "https://localhost:8080/"
        },
        "outputId": "869dfe85-24f8-4915-f58d-6270a129fb85"
      },
      "outputs": [
        {
          "output_type": "stream",
          "name": "stdout",
          "text": [
            "Results for the dog show are as follows:\n",
            "\n",
            "Place: 1 Dog: Border Collie\n",
            "Place: 2 Dog: Australian Cattle Dog\n",
            "Place: 3 Dog: Labrador Retriever\n"
          ]
        }
      ],
      "source": [
        "dogs = ['border collie', 'australian cattle dog', 'labrador retriever']\n",
        "\n",
        "print(\"Results for the dog show are as follows:\\n\")\n",
        "for index, dog in enumerate(dogs):\n",
        "    place = str(index + 1)\n",
        "    print(\"Place: \" + place + \" Dog: \" + dog.title())"
      ]
    },
    {
      "cell_type": "markdown",
      "metadata": {
        "id": "4ZBC038jWZip"
      },
      "source": [
        "### A common looping error\n",
        "One common looping error occurs when instead of using the single variable *dog* inside the loop, we accidentally use the variable that holds the entire list:"
      ]
    },
    {
      "cell_type": "code",
      "execution_count": null,
      "metadata": {
        "id": "unIzxYYsWZir",
        "colab": {
          "base_uri": "https://localhost:8080/"
        },
        "outputId": "d465ff86-e53e-454b-804b-8c95dcd697bc"
      },
      "outputs": [
        {
          "output_type": "stream",
          "name": "stdout",
          "text": [
            "['border collie', 'australian cattle dog', 'labrador retriever']\n",
            "['border collie', 'australian cattle dog', 'labrador retriever']\n",
            "['border collie', 'australian cattle dog', 'labrador retriever']\n"
          ]
        }
      ],
      "source": [
        "\n",
        "dogs = ['border collie', 'australian cattle dog', 'labrador retriever']\n",
        "\n",
        "for dog in dogs:\n",
        "    print(dogs)"
      ]
    },
    {
      "cell_type": "markdown",
      "metadata": {
        "id": "UhG_qvvZWZix"
      },
      "source": [
        "In this example, instead of printing each dog in the list, we print the entire list every time we go through the loop. Python puts each individual item in the list into the variable *dog*, but we never use that variable. Sometimes you will just get an error if you try to do this:"
      ]
    },
    {
      "cell_type": "code",
      "execution_count": null,
      "metadata": {
        "id": "7qGaOL-XWZiy",
        "colab": {
          "base_uri": "https://localhost:8080/",
          "height": 206
        },
        "outputId": "e3b4ad48-f845-42a1-db0a-ae7d6d4bbccb"
      },
      "outputs": [
        {
          "output_type": "error",
          "ename": "TypeError",
          "evalue": "ignored",
          "traceback": [
            "\u001b[0;31m---------------------------------------------------------------------------\u001b[0m",
            "\u001b[0;31mTypeError\u001b[0m                                 Traceback (most recent call last)",
            "\u001b[0;32m<ipython-input-35-7c68e2954c6d>\u001b[0m in \u001b[0;36m<module>\u001b[0;34m()\u001b[0m\n\u001b[1;32m      3\u001b[0m \u001b[0;34m\u001b[0m\u001b[0m\n\u001b[1;32m      4\u001b[0m \u001b[0;32mfor\u001b[0m \u001b[0mdog\u001b[0m \u001b[0;32min\u001b[0m \u001b[0mdogs\u001b[0m\u001b[0;34m:\u001b[0m\u001b[0;34m\u001b[0m\u001b[0;34m\u001b[0m\u001b[0m\n\u001b[0;32m----> 5\u001b[0;31m     \u001b[0mprint\u001b[0m\u001b[0;34m(\u001b[0m\u001b[0;34m'I like '\u001b[0m \u001b[0;34m+\u001b[0m \u001b[0mdogs\u001b[0m \u001b[0;34m+\u001b[0m \u001b[0;34m's.'\u001b[0m\u001b[0;34m)\u001b[0m\u001b[0;34m\u001b[0m\u001b[0;34m\u001b[0m\u001b[0m\n\u001b[0m",
            "\u001b[0;31mTypeError\u001b[0m: can only concatenate str (not \"list\") to str"
          ]
        }
      ],
      "source": [
        "\n",
        "dogs = ['border collie', 'australian cattle dog', 'labrador retriever']\n",
        "\n",
        "for dog in dogs:\n",
        "    print('I like ' + dogs + 's.')"
      ]
    },
    {
      "cell_type": "markdown",
      "source": [
        "## DIY 2: Fix the code above to remove the error\n"
      ],
      "metadata": {
        "id": "Gvwe5TTX-bEk"
      }
    },
    {
      "cell_type": "code",
      "source": [
        "# write your code here"
      ],
      "metadata": {
        "id": "n2hIZLX--epl"
      },
      "execution_count": null,
      "outputs": []
    },
    {
      "cell_type": "markdown",
      "metadata": {
        "id": "sT2nH4zbWZiy"
      },
      "source": [
        "Common List Operations\n",
        "==="
      ]
    },
    {
      "cell_type": "markdown",
      "metadata": {
        "id": "ZI9GD61WWZi0"
      },
      "source": [
        "Modifying elements in a list\n",
        "---\n",
        "You can change the value of any element in a list if you know the position of that item."
      ]
    },
    {
      "cell_type": "code",
      "execution_count": null,
      "metadata": {
        "id": "do2amZRvWZi0",
        "colab": {
          "base_uri": "https://localhost:8080/"
        },
        "outputId": "da3b6b4c-a2fc-41c6-d80d-7e440796e333"
      },
      "outputs": [
        {
          "output_type": "stream",
          "name": "stdout",
          "text": [
            "Original List:  ['border collie', 'australian cattle dog', 'labrador retriever']\n",
            "Modified List:  ['australian shepherd', 'australian cattle dog', 'labrador retriever']\n"
          ]
        }
      ],
      "source": [
        "dogs = ['border collie', 'australian cattle dog', 'labrador retriever']\n",
        "print(\"Original List: \", dogs)\n",
        "\n",
        "dogs[0] = 'australian shepherd'\n",
        "print(\"Modified List: \", dogs)"
      ]
    },
    {
      "cell_type": "markdown",
      "metadata": {
        "id": "1GOv7p1YWZi2"
      },
      "source": [
        "Finding an element in a list\n",
        "---\n",
        "If you want to find out the position of an element in a list, you can use the index() function."
      ]
    },
    {
      "cell_type": "code",
      "execution_count": null,
      "metadata": {
        "id": "P3qCZ-UEWZi5",
        "colab": {
          "base_uri": "https://localhost:8080/"
        },
        "outputId": "4ac48496-a165-4ddd-9764-9d4239819549"
      },
      "outputs": [
        {
          "output_type": "stream",
          "name": "stdout",
          "text": [
            "1\n"
          ]
        }
      ],
      "source": [
        "dogs = ['border collie', 'australian cattle dog', 'labrador retriever']\n",
        "\n",
        "print(dogs.index('australian cattle dog'))"
      ]
    },
    {
      "cell_type": "markdown",
      "metadata": {
        "id": "c1zt-XpoWZi6"
      },
      "source": [
        "This method returns a ValueError if the requested item is not in the list."
      ]
    },
    {
      "cell_type": "code",
      "execution_count": null,
      "metadata": {
        "id": "cibzOifZWZi6",
        "colab": {
          "base_uri": "https://localhost:8080/",
          "height": 224
        },
        "outputId": "c1538d3c-7725-42ac-845b-cfbd2359bf87"
      },
      "outputs": [
        {
          "output_type": "error",
          "ename": "ValueError",
          "evalue": "ignored",
          "traceback": [
            "\u001b[0;31m---------------------------------------------------------------------------\u001b[0m",
            "\u001b[0;31mValueError\u001b[0m                                Traceback (most recent call last)",
            "\u001b[0;32m<ipython-input-41-84555eebea4f>\u001b[0m in \u001b[0;36m<module>\u001b[0;34m()\u001b[0m\n\u001b[1;32m      2\u001b[0m \u001b[0mdogs\u001b[0m \u001b[0;34m=\u001b[0m \u001b[0;34m[\u001b[0m\u001b[0;34m'border collie'\u001b[0m\u001b[0;34m,\u001b[0m \u001b[0;34m'australian cattle dog'\u001b[0m\u001b[0;34m,\u001b[0m \u001b[0;34m'labrador retriever'\u001b[0m\u001b[0;34m]\u001b[0m\u001b[0;34m\u001b[0m\u001b[0;34m\u001b[0m\u001b[0m\n\u001b[1;32m      3\u001b[0m \u001b[0;34m\u001b[0m\u001b[0m\n\u001b[0;32m----> 4\u001b[0;31m \u001b[0mprint\u001b[0m\u001b[0;34m(\u001b[0m\u001b[0mdogs\u001b[0m\u001b[0;34m.\u001b[0m\u001b[0mindex\u001b[0m\u001b[0;34m(\u001b[0m\u001b[0;34m'poodle'\u001b[0m\u001b[0;34m)\u001b[0m\u001b[0;34m)\u001b[0m\u001b[0;34m\u001b[0m\u001b[0;34m\u001b[0m\u001b[0m\n\u001b[0m",
            "\u001b[0;31mValueError\u001b[0m: 'poodle' is not in list"
          ]
        }
      ],
      "source": [
        "\n",
        "dogs = ['border collie', 'australian cattle dog', 'labrador retriever']\n",
        "\n",
        "print(dogs.index('poodle'))"
      ]
    },
    {
      "cell_type": "markdown",
      "metadata": {
        "id": "tsZu0C5nWZi7"
      },
      "source": [
        "Testing whether an item is in a list\n",
        "---\n",
        "You can test whether an item is in a list using the \"in\" keyword. This will become more useful after learning how to use if-else statements."
      ]
    },
    {
      "cell_type": "code",
      "execution_count": null,
      "metadata": {
        "id": "gzAGFd9PWZi8",
        "colab": {
          "base_uri": "https://localhost:8080/"
        },
        "outputId": "40ce4b92-d964-476b-f9be-5111c730d95d"
      },
      "outputs": [
        {
          "output_type": "stream",
          "name": "stdout",
          "text": [
            "True\n",
            "False\n"
          ]
        }
      ],
      "source": [
        "dogs = ['border collie', 'australian cattle dog', 'labrador retriever']\n",
        "\n",
        "print('australian cattle dog' in dogs)\n",
        "print('poodle' in dogs)"
      ]
    },
    {
      "cell_type": "markdown",
      "metadata": {
        "id": "M36bSB4JWZi8"
      },
      "source": [
        "Adding items to a list\n",
        "---\n",
        "### Appending items to the end of a list\n",
        "We can add an item to a list using the append() method. This method adds the new item to the end of the list."
      ]
    },
    {
      "cell_type": "code",
      "execution_count": null,
      "metadata": {
        "id": "NZbVkYHyWZi9",
        "colab": {
          "base_uri": "https://localhost:8080/"
        },
        "outputId": "ae6d57e7-a3ed-4b08-fdb8-75a7fe91113a"
      },
      "outputs": [
        {
          "output_type": "stream",
          "name": "stdout",
          "text": [
            "Original Dog List:  ['border collie', 'australian cattle dog', 'labrador retriever']\n",
            "Full updated dog list:  ['border collie', 'australian cattle dog', 'labrador retriever', 'poodle']\n",
            "Border Collies are cool.\n",
            "Australian Cattle Dogs are cool.\n",
            "Labrador Retrievers are cool.\n",
            "Poodles are cool.\n"
          ]
        }
      ],
      "source": [
        "dogs = ['border collie', 'australian cattle dog', 'labrador retriever']\n",
        "print(\"Original Dog List: \", dogs)\n",
        "dogs.append('poodle')\n",
        "\n",
        "print(\"Full updated dog list: \", dogs)\n",
        "\n",
        "for dog in dogs:\n",
        "    print(dog.title() + \"s are cool.\")"
      ]
    },
    {
      "cell_type": "markdown",
      "metadata": {
        "id": "GYqfk3d-WZi-"
      },
      "source": [
        "### Inserting items into a list\n",
        "We can also insert items anywhere we want in a list, using the **insert()** function. We specify the position we want the item to have, and everything from that point on is shifted one position to the right. In other words, the index of every item after the new item is increased by one."
      ]
    },
    {
      "cell_type": "code",
      "execution_count": null,
      "metadata": {
        "id": "6d7OxbpdWZjA",
        "colab": {
          "base_uri": "https://localhost:8080/"
        },
        "outputId": "6cbbe6b7-42d8-4fca-c727-47a815a64323"
      },
      "outputs": [
        {
          "output_type": "stream",
          "name": "stdout",
          "text": [
            "['border collie', 'poodle', 'australian cattle dog', 'labrador retriever']\n"
          ]
        }
      ],
      "source": [
        "dogs = ['border collie', 'australian cattle dog', 'labrador retriever']\n",
        "dogs.insert(1, 'poodle')\n",
        "\n",
        "print(dogs)"
      ]
    },
    {
      "cell_type": "code",
      "source": [
        "# Finding help on Python functions using Google Colab tools\n",
        "?list.insert"
      ],
      "metadata": {
        "id": "7Dy57Njr_ICq"
      },
      "execution_count": null,
      "outputs": []
    },
    {
      "cell_type": "markdown",
      "metadata": {
        "id": "6Swj-lAGWZjA"
      },
      "source": [
        "Note that you have to give the position of the new item first, and then the value of the new item. If you do it in the reverse order, you will get an error."
      ]
    },
    {
      "cell_type": "markdown",
      "metadata": {
        "id": "3OGKu7EuWZjB"
      },
      "source": [
        "Creating an empty list\n",
        "---\n",
        "- Now that we know how to add items to a list after it is created, we can use lists more dynamically. We are no longer stuck defining our entire list at once.\n",
        "\n",
        "- A common approach with lists is to define an empty list, and then let your program add items to the list as necessary. \n",
        "\n",
        "\n",
        "- This approach works, for example, when starting to build an interactive web site. Your list of users might start out empty, and then as people register for the site it will grow. This is a simplified approach to how web sites actually work, but the idea is realistic.\n",
        "\n",
        "- Here is a brief example of how to start with an empty list, start to fill it up, and work with the items in the list. The only new thing here is the way we define an empty list, which is just an empty set of square brackets.\n",
        "\n",
        "- \"Dynamic Lists\" "
      ]
    },
    {
      "cell_type": "code",
      "execution_count": null,
      "metadata": {
        "id": "8faY7-iqWZjB",
        "colab": {
          "base_uri": "https://localhost:8080/"
        },
        "outputId": "d4d15a5f-81c5-4d11-ed51-cbe91d9f69c2"
      },
      "outputs": [
        {
          "output_type": "stream",
          "name": "stdout",
          "text": [
            "Usernames:  []\n",
            "Usernames:  ['eugene']\n",
            "Usernames:  ['eugene', 'jeremiah']\n",
            "Usernames:  ['eugene', 'jeremiah', 'toguro']\n",
            "Welcome, Eugene!\n",
            "Welcome, Jeremiah!\n",
            "Welcome, Toguro!\n"
          ]
        }
      ],
      "source": [
        "# Create an empty list to hold our users.\n",
        "usernames = []\n",
        "\n",
        "print(\"Usernames: \", usernames)\n",
        "\n",
        "# Add some users.\n",
        "usernames.append('eugene')\n",
        "print(\"Usernames: \", usernames)\n",
        "usernames.append('jeremiah')\n",
        "print(\"Usernames: \", usernames)\n",
        "usernames.append('toguro')\n",
        "print(\"Usernames: \", usernames)\n",
        "\n",
        "# Greet all of our users.\n",
        "for username in usernames:\n",
        "    print(\"Welcome, \" + username.title() + '!')"
      ]
    },
    {
      "cell_type": "markdown",
      "metadata": {
        "id": "UyvUC5HPWZjC"
      },
      "source": [
        "If we don't change the order in our list, we can use the list to figure out who our oldest and newest users are."
      ]
    },
    {
      "cell_type": "code",
      "execution_count": null,
      "metadata": {
        "id": "jkUqE53DWZjC",
        "colab": {
          "base_uri": "https://localhost:8080/"
        },
        "outputId": "d28b7c7f-4b8c-407b-8e2b-6376e1873553"
      },
      "outputs": [
        {
          "output_type": "stream",
          "name": "stdout",
          "text": [
            "Welcome, Eugene!\n",
            "Welcome, Jeremiah!\n",
            "Welcome, Toguro!\n",
            "\n",
            "Thank you for being our very first user, Eugene!\n",
            "And a warm welcome to our newest user, Toguro!\n"
          ]
        }
      ],
      "source": [
        "\n",
        "# Create an empty list to hold our users.\n",
        "usernames = []\n",
        "\n",
        "# Add some users.\n",
        "usernames.append('eugene')\n",
        "usernames.append('jeremiah')\n",
        "usernames.append('toguro')\n",
        "\n",
        "# Greet all of our users.\n",
        "for username in usernames:\n",
        "    print(\"Welcome, \" + username.title() + '!')\n",
        "\n",
        "# Recognize our first user, and welcome our newest user.\n",
        "print(\"\\nThank you for being our very first user, \" + usernames[0].title() + '!')\n",
        "print(\"And a warm welcome to our newest user, \" + usernames[-1].title() + '!')"
      ]
    },
    {
      "cell_type": "markdown",
      "metadata": {
        "id": "Lb1pS8HOWZjD"
      },
      "source": [
        "Note that the code welcoming our newest user will always work, because we have used the index -1. If we had used the index 2 we would always get the third user, even as our list of users grows and grows."
      ]
    },
    {
      "cell_type": "markdown",
      "metadata": {
        "id": "m3kHzu3rWZjD"
      },
      "source": [
        "Sorting a List\n",
        "---\n",
        "We can sort a list alphabetically, in either order.\n",
        "\n",
        "- Often, your lists will be created in an unpredictable order, because you can’t\n",
        "always control the order in which your users provide their data.\n",
        "- Although\n",
        "this is unavoidable in most circumstances, you’ll frequently want to present\n",
        "your information in a particular order. \n",
        "- Sometimes you’ll want to preserve the\n",
        "original order of your list, and other times you’ll want to change the original\n",
        "order. \n",
        "- Python provides a number of different ways to organize your lists,\n",
        "depending on the situation."
      ]
    },
    {
      "cell_type": "code",
      "execution_count": null,
      "metadata": {
        "id": "Hdr2IVIfWZjE",
        "colab": {
          "base_uri": "https://localhost:8080/"
        },
        "outputId": "1a819ff0-e98d-4d4e-ae5c-31c6788ba059"
      },
      "outputs": [
        {
          "output_type": "stream",
          "name": "stdout",
          "text": [
            "Our students are currently in alphabetical order.\n",
            "Harry\n",
            "Hermnione\n",
            "Ron\n",
            "\n",
            "Our students are now in reverse alphabetical order.\n",
            "Ron\n",
            "Hermnione\n",
            "Harry\n"
          ]
        }
      ],
      "source": [
        "students = ['hermnione', 'harry', 'ron']\n",
        "\n",
        "# Put students in alphabetical order.\n",
        "students.sort()\n",
        "\n",
        "# Display the list in its current order.\n",
        "print(\"Our students are currently in alphabetical order.\")\n",
        "for student in students:\n",
        "    print(student.title())\n",
        "\n",
        "#Put students in reverse alphabetical order.\n",
        "students.sort(reverse=True)\n",
        "\n",
        "# Display the list in its current order.\n",
        "print(\"\\nOur students are now in reverse alphabetical order.\")\n",
        "for student in students:\n",
        "    print(student.title())"
      ]
    },
    {
      "cell_type": "code",
      "source": [
        "?list.sort()"
      ],
      "metadata": {
        "id": "UHm8PWyRAXwx"
      },
      "execution_count": null,
      "outputs": []
    },
    {
      "cell_type": "markdown",
      "source": [
        "\n",
        "\n",
        "```\n",
        "Signature: list.sort(*, key=None, reverse=False)\n",
        "Docstring: Stable sort *IN PLACE*.\n",
        "Type:      method_descriptor\n",
        "```\n",
        "\n"
      ],
      "metadata": {
        "id": "lJgTyKFoAa8w"
      }
    },
    {
      "cell_type": "markdown",
      "source": [
        "- The `sort()` method, shown above, changes the order of the list permanently.\n",
        "- The Hogwarts students are now in alphabetical order, and we can never revert to\n",
        "the original order"
      ],
      "metadata": {
        "id": "6qlaCaXhAnDN"
      }
    },
    {
      "cell_type": "markdown",
      "metadata": {
        "id": "VNDAq7ZEWZjH"
      },
      "source": [
        "### *sorted()* vs. *sort()*\n",
        "Whenever you consider sorting a list, keep in mind that you can not recover the original order. If you want to display a list in sorted order, but preserve the original order, you can use the *sorted()* function. The *sorted()* function also accepts the optional *reverse=True* argument."
      ]
    },
    {
      "cell_type": "code",
      "execution_count": null,
      "metadata": {
        "id": "I3VRbZFkWZjI",
        "colab": {
          "base_uri": "https://localhost:8080/"
        },
        "outputId": "e10b52e7-fe68-4149-ada8-b646298b3ebb"
      },
      "outputs": [
        {
          "output_type": "stream",
          "name": "stdout",
          "text": [
            "Here is the list in alphabetical order:\n",
            "Harry\n",
            "Hermnione\n",
            "Ron\n",
            "\n",
            "Here is the list in reverse alphabetical order:\n",
            "Ron\n",
            "Hermnione\n",
            "Harry\n",
            "\n",
            "Here is the list in its original order:\n",
            "Hermnione\n",
            "Harry\n",
            "Ron\n"
          ]
        }
      ],
      "source": [
        "students = ['hermnione', 'harry', 'ron']\n",
        "\n",
        "# Display students in alphabetical order, but keep the original order.\n",
        "print(\"Here is the list in alphabetical order:\")\n",
        "for student in sorted(students):\n",
        "    print(student.title())\n",
        "\n",
        "# Display students in reverse alphabetical order, but keep the original order.\n",
        "print(\"\\nHere is the list in reverse alphabetical order:\")\n",
        "for student in sorted(students, reverse=True):\n",
        "    print(student.title())\n",
        "\n",
        "print(\"\\nHere is the list in its original order:\")\n",
        "# Show that the list is still in its original order.\n",
        "for student in students:\n",
        "    print(student.title())"
      ]
    },
    {
      "cell_type": "markdown",
      "source": [
        "To maintain the original order of a list but present it in a sorted order, you\n",
        "can use the sorted() function. The sorted() function lets you display your list\n",
        "in a particular order but doesn’t affect the actual order of the list."
      ],
      "metadata": {
        "id": "7k4IN-9QA_TH"
      }
    },
    {
      "cell_type": "markdown",
      "source": [
        "- Note: Sorting a list alphabetically is a bit more complicated when all the values are not in\n",
        "lowercase. There are several ways to interpret capital letters when you’re deciding on\n",
        "a sort order, and specifying the exact order can be more complex than we want to deal\n",
        "with at this time."
      ],
      "metadata": {
        "id": "K7kiaLY-BIDB"
      }
    },
    {
      "cell_type": "markdown",
      "metadata": {
        "id": "AqTwlwHiWZjL"
      },
      "source": [
        "### Reversing a list\n",
        "We have seen three possible orders for a list:\n",
        "- The original order in which the list was created\n",
        "- Alphabetical order\n",
        "- Reverse alphabetical order\n",
        "\n",
        "There is one more order we can use, and that is the reverse of the original order of the list. The *reverse()* function gives us this order."
      ]
    },
    {
      "cell_type": "code",
      "execution_count": null,
      "metadata": {
        "id": "vLSL3N_ZWZjL",
        "colab": {
          "base_uri": "https://localhost:8080/"
        },
        "outputId": "3e46dfd6-ef0d-4f01-dd52-db92121d94cc"
      },
      "outputs": [
        {
          "output_type": "stream",
          "name": "stdout",
          "text": [
            "['ron', 'harry', 'hermnione']\n"
          ]
        }
      ],
      "source": [
        "students = ['hermnione', 'harry', 'ron']\n",
        "students.reverse()\n",
        "\n",
        "print(students)"
      ]
    },
    {
      "cell_type": "markdown",
      "metadata": {
        "id": "0NPaVdl2WZjM"
      },
      "source": [
        "Note that reverse is permanent, although you could follow up with another call to *reverse()* and get back the original order of the list."
      ]
    },
    {
      "cell_type": "code",
      "source": [
        "students.reverse()\n",
        "print(students)"
      ],
      "metadata": {
        "colab": {
          "base_uri": "https://localhost:8080/"
        },
        "id": "F3D_Dp03BS8h",
        "outputId": "6872c934-e0c5-4510-9d5c-907f44823b5e"
      },
      "execution_count": null,
      "outputs": [
        {
          "output_type": "stream",
          "name": "stdout",
          "text": [
            "['hermnione', 'harry', 'ron']\n"
          ]
        }
      ]
    },
    {
      "cell_type": "markdown",
      "metadata": {
        "id": "4XI4efnCWZjM"
      },
      "source": [
        "### Sorting a numerical list\n",
        "All of the sorting functions work for numerical lists as well."
      ]
    },
    {
      "cell_type": "code",
      "execution_count": null,
      "metadata": {
        "id": "UKi-GPoxWZjM",
        "colab": {
          "base_uri": "https://localhost:8080/"
        },
        "outputId": "d1da57f8-bbc3-44a6-ede9-92785f51951c"
      },
      "outputs": [
        {
          "output_type": "stream",
          "name": "stdout",
          "text": [
            "[1, 2, 3, 4]\n",
            "[4, 3, 2, 1]\n"
          ]
        }
      ],
      "source": [
        "numbers = [1, 3, 4, 2]\n",
        "\n",
        "# sort() puts numbers in increasing order.\n",
        "numbers.sort()\n",
        "print(numbers)\n",
        "\n",
        "# sort(reverse=True) puts numbers in decreasing order.\n",
        "numbers.sort(reverse=True)\n",
        "print(numbers)\n"
      ]
    },
    {
      "cell_type": "code",
      "execution_count": null,
      "metadata": {
        "id": "rOwCgmN1WZjN",
        "colab": {
          "base_uri": "https://localhost:8080/"
        },
        "outputId": "a0c9803a-810e-49fd-96a3-c5ed58794344"
      },
      "outputs": [
        {
          "output_type": "stream",
          "name": "stdout",
          "text": [
            "Sorted numbers:  [1, 2, 3, 4]\n",
            "Unsorted numbers:  [1, 3, 4, 2]\n"
          ]
        }
      ],
      "source": [
        "numbers = [1, 3, 4, 2]\n",
        "\n",
        "# sorted() preserves the original order of the list:\n",
        "print(\"Sorted numbers: \", sorted(numbers))\n",
        "print(\"Unsorted numbers: \", numbers)"
      ]
    },
    {
      "cell_type": "code",
      "execution_count": null,
      "metadata": {
        "id": "ktj7zWSxWZjN",
        "colab": {
          "base_uri": "https://localhost:8080/"
        },
        "outputId": "29b0eab8-6789-4081-e36d-4d88ef302a54"
      },
      "outputs": [
        {
          "output_type": "stream",
          "name": "stdout",
          "text": [
            "[2, 4, 3, 1]\n"
          ]
        }
      ],
      "source": [
        "numbers = [1, 3, 4, 2]\n",
        "\n",
        "# The reverse() function also works for numerical lists.\n",
        "numbers.reverse()\n",
        "print(numbers)"
      ]
    },
    {
      "cell_type": "markdown",
      "metadata": {
        "id": "IHinlh23WZjO"
      },
      "source": [
        "Finding the length of a list\n",
        "---\n",
        "You can find the length of a list using the *len()* function."
      ]
    },
    {
      "cell_type": "code",
      "execution_count": null,
      "metadata": {
        "id": "iLILO96QWZjR",
        "colab": {
          "base_uri": "https://localhost:8080/"
        },
        "outputId": "ec2191e2-eb23-4f53-9ce9-b4ee7b23da09"
      },
      "outputs": [
        {
          "output_type": "stream",
          "name": "stdout",
          "text": [
            "3\n"
          ]
        }
      ],
      "source": [
        "usernames = ['blossom', 'bubbles', 'buttercup']\n",
        "user_count = len(usernames)\n",
        "\n",
        "print(user_count)"
      ]
    },
    {
      "cell_type": "markdown",
      "metadata": {
        "id": "u05cFxr6WZjR"
      },
      "source": [
        "There are many situations where you might want to know how many items in a list. If you have a list that stores your users, you can find the length of your list at any time, and know how many users you have."
      ]
    },
    {
      "cell_type": "code",
      "execution_count": null,
      "metadata": {
        "id": "oJz480UaWZjS",
        "colab": {
          "base_uri": "https://localhost:8080/"
        },
        "outputId": "8df95742-305d-4a21-f28e-b041f51f29c8"
      },
      "outputs": [
        {
          "output_type": "stream",
          "name": "stdout",
          "text": [
            "We have 1 user!\n",
            "We have 3 users!\n"
          ]
        }
      ],
      "source": [
        "# Create an empty list to hold our users.\n",
        "usernames = []\n",
        "\n",
        "# Add some users, and report on how many users we have.\n",
        "usernames.append('blossom')\n",
        "user_count = len(usernames)\n",
        "\n",
        "print(\"We have \" + str(user_count) + \" user!\")\n",
        "\n",
        "usernames.append('bubbles')\n",
        "usernames.append('buttercup')\n",
        "user_count = len(usernames)\n",
        "\n",
        "print(\"We have \" + str(user_count) + \" users!\")"
      ]
    },
    {
      "cell_type": "markdown",
      "metadata": {
        "id": "lOgnyGyaWZjS"
      },
      "source": [
        "On a technical note, the *len()* function returns an integer, which can't be printed directly with strings. We use the *str()* function to turn the integer into a string so that it prints nicely:"
      ]
    },
    {
      "cell_type": "code",
      "execution_count": null,
      "metadata": {
        "id": "qRP6DBTcWZjT",
        "colab": {
          "base_uri": "https://localhost:8080/",
          "height": 206
        },
        "outputId": "e898c1c0-df35-4e00-e38b-5357667b0a1a"
      },
      "outputs": [
        {
          "output_type": "error",
          "ename": "TypeError",
          "evalue": "ignored",
          "traceback": [
            "\u001b[0;31m---------------------------------------------------------------------------\u001b[0m",
            "\u001b[0;31mTypeError\u001b[0m                                 Traceback (most recent call last)",
            "\u001b[0;32m<ipython-input-66-6cb0c10ca17c>\u001b[0m in \u001b[0;36m<module>\u001b[0;34m()\u001b[0m\n\u001b[1;32m      2\u001b[0m \u001b[0muser_count\u001b[0m \u001b[0;34m=\u001b[0m \u001b[0mlen\u001b[0m\u001b[0;34m(\u001b[0m\u001b[0musernames\u001b[0m\u001b[0;34m)\u001b[0m\u001b[0;34m\u001b[0m\u001b[0;34m\u001b[0m\u001b[0m\n\u001b[1;32m      3\u001b[0m \u001b[0;34m\u001b[0m\u001b[0m\n\u001b[0;32m----> 4\u001b[0;31m \u001b[0mprint\u001b[0m\u001b[0;34m(\u001b[0m\u001b[0;34m\"This will cause an error: \"\u001b[0m \u001b[0;34m+\u001b[0m \u001b[0muser_count\u001b[0m\u001b[0;34m)\u001b[0m\u001b[0;34m\u001b[0m\u001b[0;34m\u001b[0m\u001b[0m\n\u001b[0m",
            "\u001b[0;31mTypeError\u001b[0m: can only concatenate str (not \"int\") to str"
          ]
        }
      ],
      "source": [
        "usernames = ['blossom', 'bubbles', 'buttercup']\n",
        "user_count = len(usernames)\n",
        "\n",
        "print(\"This will cause an error: \" + user_count)\n",
        "\n",
        "# we see that we are trying to concatenate different data types"
      ]
    },
    {
      "cell_type": "code",
      "execution_count": null,
      "metadata": {
        "id": "jRNXHVVPWZjU",
        "colab": {
          "base_uri": "https://localhost:8080/"
        },
        "outputId": "355cec2f-ade1-4175-8ccd-8fa764d2a181"
      },
      "outputs": [
        {
          "output_type": "stream",
          "name": "stdout",
          "text": [
            "This will work: 3\n"
          ]
        }
      ],
      "source": [
        "usernames = ['blossom', 'bubbles', 'buttercup']\n",
        "user_count = len(usernames)\n",
        "\n",
        "print(\"This will work: \" + str(user_count))"
      ]
    },
    {
      "cell_type": "markdown",
      "source": [
        "- Python counts the items in a list starting with one, so you shouldn’t run into any offby-\n",
        "one errors when determining the length of a list."
      ],
      "metadata": {
        "id": "JJ27sxEDCGaD"
      }
    },
    {
      "cell_type": "markdown",
      "metadata": {
        "id": "iehIPOjxWZjU"
      },
      "source": [
        "Removing Items from a List\n",
        "===\n",
        "Hopefully you can see by now that lists are a dynamic structure. We can define an empty list and then fill it up as information comes into our program. To become really dynamic, we need some ways to remove items from a list when we no longer need them. You can remove items from a list through their position, or through their value."
      ]
    },
    {
      "cell_type": "markdown",
      "source": [
        "- For example, when a user decides to cancel their account on a web application you created, you’ll\n",
        "want to remove that user from the list of active users. You can remove an\n",
        "item according to its position in the list or according to its value."
      ],
      "metadata": {
        "id": "hMwKVaLVCYFh"
      }
    },
    {
      "cell_type": "markdown",
      "metadata": {
        "id": "coYCkLJuWZjU"
      },
      "source": [
        "Removing items by position\n",
        "---\n",
        "If you know the position of an item in a list, you can remove that item using the *del* command. To use this approach, give the command *del* and the name of your list, with the index of the item you want to move in square brackets:"
      ]
    },
    {
      "cell_type": "code",
      "execution_count": null,
      "metadata": {
        "id": "ooGHWr3fWZjV",
        "colab": {
          "base_uri": "https://localhost:8080/"
        },
        "outputId": "b49eff79-8d24-4974-84b8-d26138d50d2d"
      },
      "outputs": [
        {
          "output_type": "stream",
          "name": "stdout",
          "text": [
            "['border collie', 'australian cattle dog', 'labrador retriever']\n",
            "['australian cattle dog', 'labrador retriever']\n"
          ]
        }
      ],
      "source": [
        "dogs = ['border collie', 'australian cattle dog', 'labrador retriever']\n",
        "print(dogs)\n",
        "# Remove the first dog from the list.\n",
        "del dogs[0]\n",
        "\n",
        "print(dogs)"
      ]
    },
    {
      "cell_type": "code",
      "source": [
        "rainbow = ['red', 'orange', 'yellow', 'green', 'blue', 'indigo', 'violet']\n",
        "print(rainbow)\n",
        "# Remove the first color from the rainbow\n",
        "del rainbow[0]\n",
        "print(rainbow)\n",
        "\n",
        "del rainbow[1]\n",
        "print(rainbow)\n",
        "\n",
        "del rainbow[3]\n",
        "print(rainbow)\n",
        "\n",
        "del rainbow[1]\n",
        "print(rainbow)\n",
        "\n",
        "del rainbow[2]\n",
        "print(rainbow)"
      ],
      "metadata": {
        "colab": {
          "base_uri": "https://localhost:8080/"
        },
        "id": "tc2S7Za0Cjgq",
        "outputId": "213408a4-fa7f-49e9-b22a-e265a3c5cb12"
      },
      "execution_count": null,
      "outputs": [
        {
          "output_type": "stream",
          "name": "stdout",
          "text": [
            "['red', 'orange', 'yellow', 'green', 'blue', 'indigo', 'violet']\n",
            "['orange', 'yellow', 'green', 'blue', 'indigo', 'violet']\n",
            "['orange', 'green', 'blue', 'indigo', 'violet']\n",
            "['orange', 'green', 'blue', 'violet']\n",
            "['orange', 'blue', 'violet']\n",
            "['orange', 'blue']\n"
          ]
        }
      ]
    },
    {
      "cell_type": "markdown",
      "metadata": {
        "id": "HVIQVCsNWZjV"
      },
      "source": [
        "Removing items by value\n",
        "---\n",
        "You can also remove an item from a list if you know its value. To do this, we use the *remove()* function. Give the name of the list, followed by the word remove with the value of the item you want to remove in parentheses. Python looks through your list, finds the first item with this value, and removes it."
      ]
    },
    {
      "cell_type": "markdown",
      "source": [
        "- Sometimes you won’t know the position of the value you want to remove\n",
        "from a list. If you only know the value of the item you want to remove, you\n",
        "can use the remove() method."
      ],
      "metadata": {
        "id": "wV5HB_kcECgk"
      }
    },
    {
      "cell_type": "code",
      "execution_count": null,
      "metadata": {
        "id": "weIf-hrYWZjX",
        "colab": {
          "base_uri": "https://localhost:8080/"
        },
        "outputId": "3cff5d26-0e0b-41b7-89a5-03ce1157df31"
      },
      "outputs": [
        {
          "output_type": "stream",
          "name": "stdout",
          "text": [
            "['border collie', 'labrador retriever']\n"
          ]
        }
      ],
      "source": [
        "dogs = ['border collie', 'australian cattle dog', 'labrador retriever']\n",
        "# Remove australian cattle dog from the list.\n",
        "dogs.remove('australian cattle dog')\n",
        "\n",
        "print(dogs)"
      ]
    },
    {
      "cell_type": "markdown",
      "metadata": {
        "id": "laL1SZi1WZjY"
      },
      "source": [
        "Be careful to note, however, that *only* the first item with this value is removed. If you have multiple items with the same value, you will have some items with this value left in your list."
      ]
    },
    {
      "cell_type": "code",
      "execution_count": null,
      "metadata": {
        "id": "iudn9uE9WZjY",
        "colab": {
          "base_uri": "https://localhost:8080/"
        },
        "outputId": "cb09c545-f6dc-4b27-dc1a-eb7c5660fbea"
      },
      "outputs": [
        {
          "output_type": "stream",
          "name": "stdout",
          "text": [
            "['b', 'c', 'a', 'b', 'c']\n"
          ]
        }
      ],
      "source": [
        "letters = ['a', 'b', 'c', 'a', 'b', 'c']\n",
        "# Remove the letter a from the list.\n",
        "letters.remove('a')\n",
        "\n",
        "print(letters)"
      ]
    },
    {
      "cell_type": "markdown",
      "source": [
        "- The remove() method deletes only the first occurrence of the value you specify. If there’s\n",
        "a possibility the value appears more than once in the list, you’ll need to use a loop to\n",
        "determine if all occurrences of the value have been removed."
      ],
      "metadata": {
        "id": "4X-7syZkETj7"
      }
    },
    {
      "cell_type": "markdown",
      "metadata": {
        "id": "fxmGJQEyWZjY"
      },
      "source": [
        "Popping items from a list\n",
        "---\n",
        "- Sometimes you’ll want to use the value of an item after you remove it from a\n",
        "list.\n",
        "\n",
        "- In a web\n",
        "application, you might want to remove a user from a list of active members\n",
        "and then add that user to a list of inactive members.\n",
        "\n",
        "- The pop() method removes the last item in a list, but it lets you work\n",
        "with that item after removing it. The term pop comes from thinking of a\n",
        "list as a stack of items and popping one item off the top of the stack. In\n",
        "this analogy, the top of a stack corresponds to the end of a list.\n",
        "\n",
        "- Think of a stack similar to the concept of stacking plates one on top of the other\n",
        "\n",
        "- There is a cool concept in programming called \"popping\" items from a collection. Every programming language has some sort of data structure similar to Python's lists. All of these structures can be used as queues, and there are various ways of processing the items in a queue.\n",
        "\n",
        "- One simple approach is to start with an empty list, and then add items to that list. When you want to work with the items in the list, you always take the last item from the list, do something with it, and then remove that item. The *pop()* function makes this easy. It removes the last item from the list, and gives it to us so we can work with it. This is easier to show with an example:"
      ]
    },
    {
      "cell_type": "code",
      "execution_count": null,
      "metadata": {
        "id": "jvuWnzqrWZjZ",
        "colab": {
          "base_uri": "https://localhost:8080/"
        },
        "outputId": "765fb56c-a9f0-4e38-ad0c-6d7df21f486b"
      },
      "outputs": [
        {
          "output_type": "stream",
          "name": "stdout",
          "text": [
            "labrador retriever\n",
            "['border collie', 'australian cattle dog']\n"
          ]
        }
      ],
      "source": [
        "dogs = ['border collie', 'australian cattle dog', 'labrador retriever']\n",
        "last_dog = dogs.pop()\n",
        "\n",
        "print(last_dog)\n",
        "print(dogs)"
      ]
    },
    {
      "cell_type": "markdown",
      "metadata": {
        "id": "y84yydrIWZjZ"
      },
      "source": [
        "This is an example of a first-in, last-out approach. The first item in the list would be the last item processed if you kept using this approach. We will see a full implementation of this approach later on, when we learn about *while* loops.\n",
        "\n",
        "You can actually pop any item you want from a list, by giving the index of the item you want to pop. So we could do a first-in, first-out approach by popping the first iem in the list:"
      ]
    },
    {
      "cell_type": "code",
      "execution_count": null,
      "metadata": {
        "id": "MSspk2UbWZjZ",
        "colab": {
          "base_uri": "https://localhost:8080/"
        },
        "outputId": "bf09d8f0-76f8-40e0-bfe4-4eb721f953ea"
      },
      "outputs": [
        {
          "output_type": "stream",
          "name": "stdout",
          "text": [
            "border collie\n",
            "['australian cattle dog', 'labrador retriever']\n"
          ]
        }
      ],
      "source": [
        "\n",
        "dogs = ['border collie', 'australian cattle dog', 'labrador retriever']\n",
        "first_dog = dogs.pop(0)\n",
        "\n",
        "print(first_dog)\n",
        "print(dogs)"
      ]
    },
    {
      "cell_type": "markdown",
      "source": [
        "- Remember that each time you use pop(), the item you work with is no\n",
        "longer stored in the list.\n",
        "\n",
        "**Note**: If you’re unsure whether to use the del statement or the pop() method,\n",
        "here’s a simple way to decide: when you want to delete an item from a list\n",
        "and not use that item in any way, use the del statement; if you want to use an\n",
        "item as you remove it, use the pop() method."
      ],
      "metadata": {
        "id": "Im730X4mD3YD"
      }
    },
    {
      "cell_type": "markdown",
      "source": [
        "### Avoiding Index Errors When Working with Lists\n",
        "\n",
        "One type of error is common to see when you’re working with lists for the\n",
        "first time. Let’s say you have a list with three items, and you ask for the\n",
        "fourth item:"
      ],
      "metadata": {
        "id": "_Jv3-dgtFZ-j"
      }
    },
    {
      "cell_type": "code",
      "source": [
        "motorcycles = ['honda', 'yamaha', 'suzuki']\n",
        "print(motorcycles[3])"
      ],
      "metadata": {
        "colab": {
          "base_uri": "https://localhost:8080/",
          "height": 188
        },
        "id": "RwcyxH4vFfWQ",
        "outputId": "976b2ce0-2307-4c42-a9df-bc58826b525f"
      },
      "execution_count": null,
      "outputs": [
        {
          "output_type": "error",
          "ename": "IndexError",
          "evalue": "ignored",
          "traceback": [
            "\u001b[0;31m---------------------------------------------------------------------------\u001b[0m",
            "\u001b[0;31mIndexError\u001b[0m                                Traceback (most recent call last)",
            "\u001b[0;32m<ipython-input-81-9811709cfb18>\u001b[0m in \u001b[0;36m<module>\u001b[0;34m()\u001b[0m\n\u001b[1;32m      1\u001b[0m \u001b[0mmotorcycles\u001b[0m \u001b[0;34m=\u001b[0m \u001b[0;34m[\u001b[0m\u001b[0;34m'honda'\u001b[0m\u001b[0;34m,\u001b[0m \u001b[0;34m'yamaha'\u001b[0m\u001b[0;34m,\u001b[0m \u001b[0;34m'suzuki'\u001b[0m\u001b[0;34m]\u001b[0m\u001b[0;34m\u001b[0m\u001b[0;34m\u001b[0m\u001b[0m\n\u001b[0;32m----> 2\u001b[0;31m \u001b[0mprint\u001b[0m\u001b[0;34m(\u001b[0m\u001b[0mmotorcycles\u001b[0m\u001b[0;34m[\u001b[0m\u001b[0;36m3\u001b[0m\u001b[0;34m]\u001b[0m\u001b[0;34m)\u001b[0m\u001b[0;34m\u001b[0m\u001b[0;34m\u001b[0m\u001b[0m\n\u001b[0m",
            "\u001b[0;31mIndexError\u001b[0m: list index out of range"
          ]
        }
      ]
    },
    {
      "cell_type": "markdown",
      "source": [
        "Python attempts to give you the item at index 3. But when it searches\n",
        "the list, no item in motorcycles has an index of 3. \n",
        "\n",
        "- Because of the off-by-one\n",
        "nature of indexing in lists, this error is typical. People think the third item\n",
        "is item number 3, because they start counting at 1. But in Python the third\n",
        "item is number 2, because it starts indexing at 0."
      ],
      "metadata": {
        "id": "QQBIHBh1FjJ-"
      }
    },
    {
      "cell_type": "markdown",
      "source": [
        "- An index error means Python can’t figure out the index you requested.\n",
        "- If\n",
        "an index error occurs in your program, try adjusting the index you’re asking\n",
        "for by one. Then run the program again to see if the results are correct.\n",
        "- Keep in mind that whenever you want to access the last item in a list\n",
        "you use the index -1. This will always work, even if your list has changed\n",
        "size since the last time you accessed it:"
      ],
      "metadata": {
        "id": "h_3tD-BuFtfE"
      }
    },
    {
      "cell_type": "code",
      "source": [
        "motorcycles = ['honda', 'yamaha', 'suzuki']\n",
        "print(motorcycles[-1])"
      ],
      "metadata": {
        "colab": {
          "base_uri": "https://localhost:8080/"
        },
        "id": "3mvcY9siF0PQ",
        "outputId": "3c6b62c7-90b2-4142-95c0-b025beb756ba"
      },
      "execution_count": null,
      "outputs": [
        {
          "output_type": "stream",
          "name": "stdout",
          "text": [
            "suzuki\n"
          ]
        }
      ]
    },
    {
      "cell_type": "markdown",
      "source": [
        "The only time this approach will cause an error is when you request the\n",
        "last item from an empty list:"
      ],
      "metadata": {
        "id": "iP5tY5VEF4FF"
      }
    },
    {
      "cell_type": "code",
      "source": [
        "motorcycles = []\n",
        "print(motorcycles[-1])"
      ],
      "metadata": {
        "colab": {
          "base_uri": "https://localhost:8080/",
          "height": 188
        },
        "id": "gIkjTgwBF5g0",
        "outputId": "cf7616a3-aa2d-4e57-d55d-86c15c8b7e7a"
      },
      "execution_count": null,
      "outputs": [
        {
          "output_type": "error",
          "ename": "IndexError",
          "evalue": "ignored",
          "traceback": [
            "\u001b[0;31m---------------------------------------------------------------------------\u001b[0m",
            "\u001b[0;31mIndexError\u001b[0m                                Traceback (most recent call last)",
            "\u001b[0;32m<ipython-input-83-08e14d7d6f1a>\u001b[0m in \u001b[0;36m<module>\u001b[0;34m()\u001b[0m\n\u001b[1;32m      1\u001b[0m \u001b[0mmotorcycles\u001b[0m \u001b[0;34m=\u001b[0m \u001b[0;34m[\u001b[0m\u001b[0;34m]\u001b[0m\u001b[0;34m\u001b[0m\u001b[0;34m\u001b[0m\u001b[0m\n\u001b[0;32m----> 2\u001b[0;31m \u001b[0mprint\u001b[0m\u001b[0;34m(\u001b[0m\u001b[0mmotorcycles\u001b[0m\u001b[0;34m[\u001b[0m\u001b[0;34m-\u001b[0m\u001b[0;36m1\u001b[0m\u001b[0;34m]\u001b[0m\u001b[0;34m)\u001b[0m\u001b[0;34m\u001b[0m\u001b[0;34m\u001b[0m\u001b[0m\n\u001b[0m",
            "\u001b[0;31mIndexError\u001b[0m: list index out of range"
          ]
        }
      ]
    },
    {
      "cell_type": "markdown",
      "source": [
        "No items are in motorcycles, so Python returns another index error."
      ],
      "metadata": {
        "id": "HYfW-i9KF703"
      }
    },
    {
      "cell_type": "markdown",
      "source": [
        "**Debugging Tip:**\n",
        "If an index error occurs and you can’t figure out how to resolve it, try printing your\n",
        "list or just printing the length of your list. Your list might look much different than\n",
        "you thought it did, especially if it has been managed dynamically by your program.\n",
        "Seeing the actual list, or the exact number of items in your list, can help you sort out\n",
        "such logical errors."
      ],
      "metadata": {
        "id": "99A03mJjF_DQ"
      }
    },
    {
      "cell_type": "markdown",
      "source": [
        "## DIY 3: Guest List \n",
        "\n",
        "1. If you could invite anyone to dinner, who\n",
        "would you invite? Make a list that includes at least three people you’d like to\n",
        "invite to dinner. \n",
        "2. You just heard that one of your guests can’t make the\n",
        "dinner, so you need to send out a new set of invitations. You’ll have to think of\n",
        "someone else to invite. Add a print statement at the\n",
        "end of your program stating the name of the guest who can’t make it.\n",
        "3. Modify your list, replacing the name of the guest who can’t make it with\n",
        "the name of the new person you are inviting.\n",
        "4. You just found a bigger dinner table, so now more space is\n",
        "available. Use insert() to add one new guest to the beginning of your list.\n",
        "5. Use append() to add one new guest to the end of your list. "
      ],
      "metadata": {
        "id": "yEDFsD9REa88"
      }
    },
    {
      "cell_type": "code",
      "source": [
        "# write your code here"
      ],
      "metadata": {
        "id": "Od0m4DyGE3IP"
      },
      "execution_count": null,
      "outputs": []
    },
    {
      "cell_type": "code",
      "source": [
        "# write your code here"
      ],
      "metadata": {
        "id": "EYm08nofE3RI"
      },
      "execution_count": null,
      "outputs": []
    },
    {
      "cell_type": "code",
      "source": [
        "# write your code here"
      ],
      "metadata": {
        "id": "pn3B5RQWE3Yk"
      },
      "execution_count": null,
      "outputs": []
    },
    {
      "cell_type": "code",
      "source": [
        "# write your code here"
      ],
      "metadata": {
        "id": "sJJR95O8FK8C"
      },
      "execution_count": null,
      "outputs": []
    },
    {
      "cell_type": "code",
      "source": [
        "# write your code here "
      ],
      "metadata": {
        "id": "Ci9sKhXiFLD0"
      },
      "execution_count": null,
      "outputs": []
    },
    {
      "cell_type": "markdown",
      "source": [
        "# Working with Lists\n",
        "\n",
        "- Earlier, you learned how to make a\n",
        "simple list, and you learned to work with\n",
        "the individual elements in a list. \n",
        "\n",
        "- Now, \n",
        "you’ll learn how to loop through an entire\n",
        "list, and work with all the elements of a list, using just a few lines of code regardless of how\n",
        "long the list is. \n",
        "\n",
        "- Looping allows you to take the same action, or set of actions,\n",
        "with every item in a list. As a result, you’ll be able to work efficiently with\n",
        "lists of any length, including those with thousands or even millions of items.\n",
        "\n",
        "- We saw a preview of loops earlier, and now we'll take a deeper dive into it\n",
        "\n",
        "- You’ll often want to run through all entries in a list, performing the same\n",
        "task with each item.\n",
        "\n",
        "- When you want to do the same action with every item in a list, you can\n",
        "use Python’s `for` loop."
      ],
      "metadata": {
        "id": "ycTY_wUCGJb1"
      }
    },
    {
      "cell_type": "markdown",
      "source": [
        "## For Loops"
      ],
      "metadata": {
        "id": "hLZRhEoCIEaH"
      }
    },
    {
      "cell_type": "markdown",
      "source": [
        "Let’s say we have a list of wizards' names, and we want to print out\n",
        "each name in the list. We could do this by retrieving each name from the\n",
        "list individually, but this approach could cause several problems. For one,\n",
        "it would be repetitive to do this with a long list of names. Also, we’d have to\n",
        "change our code each time the list’s length changed. A for loop avoids both\n",
        "of these issues by letting Python manage these issues internally."
      ],
      "metadata": {
        "id": "l0M2qzOHHLSC"
      }
    },
    {
      "cell_type": "code",
      "source": [
        "wizards = ['harry','ron', 'hermione']\n",
        "for wizard in wizards:\n",
        "  print(wizard)"
      ],
      "metadata": {
        "colab": {
          "base_uri": "https://localhost:8080/"
        },
        "id": "AF6Y5AqZHB83",
        "outputId": "33231fef-a185-4674-b4d6-f92c26deb85e"
      },
      "execution_count": null,
      "outputs": [
        {
          "output_type": "stream",
          "name": "stdout",
          "text": [
            "harry\n",
            "ron\n",
            "hermione\n"
          ]
        }
      ]
    },
    {
      "cell_type": "markdown",
      "source": [
        "- We begin by defining a list in line 1. \n",
        "- At line 2,\n",
        "we define a for loop. This line tells Python to pull a name from the list\n",
        "`wizards`, and store it in the variable `wizards`. \n",
        "- At line 3 we tell Python to print\n",
        "the name that was just stored in `wizards`. Python then repeats lines 2\n",
        "and 3, once for each name in the list. \n",
        "- It might help to read this code as\n",
        "“For every wizard in the list of wizards, print the wizard's name.”"
      ],
      "metadata": {
        "id": "6JP5mf55HgZw"
      }
    },
    {
      "cell_type": "markdown",
      "source": [
        "Keep in mind when writing your own for loops that you can choose\n",
        "any name you want for the temporary variable that holds each value in the\n",
        "list. However, it’s helpful to choose a meaningful name that represents a\n",
        "single item from the list"
      ],
      "metadata": {
        "id": "7seyfKtEH7u_"
      }
    },
    {
      "cell_type": "markdown",
      "source": [
        "## Doing More Work Within a for Loop\n",
        "\n",
        "You can do just about anything with each item in a for loop. Let’s build on\n",
        "the previous example by printing a message to each wizard, telling them\n",
        "that they performed a great spell:"
      ],
      "metadata": {
        "id": "NitbchFlIAgO"
      }
    },
    {
      "cell_type": "code",
      "source": [
        "wizards = ['harry','ron', 'hermione']\n",
        "for wizard in wizards:\n",
        "  print(wizard.title() + \", that was a great Wingardium Leviosa!\")"
      ],
      "metadata": {
        "colab": {
          "base_uri": "https://localhost:8080/"
        },
        "id": "BMibItylIGS-",
        "outputId": "219a82f3-2dc8-499e-fbbe-009e6864773b"
      },
      "execution_count": null,
      "outputs": [
        {
          "output_type": "stream",
          "name": "stdout",
          "text": [
            "Harry, that was a great Wingardium Leviosa!\n",
            "Ron, that was a great Wingardium Leviosa!\n",
            "Hermione, that was a great Wingardium Leviosa!\n"
          ]
        }
      ]
    },
    {
      "cell_type": "markdown",
      "source": [
        "- You can also write as many lines of code as you like in the for loop\n",
        "- Every indented line following the line for `wizard in wizards` is considered\n",
        "inside the loop, and each indented line is executed once for each value in the list. Therefore, you can do as much work as you like with\n",
        "each value in the list."
      ],
      "metadata": {
        "id": "V69NYgicIZ8f"
      }
    },
    {
      "cell_type": "code",
      "source": [
        "wizards = ['harry','ron', 'hermione']\n",
        "for wizard in wizards:\n",
        "  print(wizard.title() + \", that was a great Wingardium Leviosa!\")\n",
        "  print(\"I can't wait to see your next spell \" + wizard.title() + \".\\n\")"
      ],
      "metadata": {
        "colab": {
          "base_uri": "https://localhost:8080/"
        },
        "id": "Kgf1ppkGIii9",
        "outputId": "c7ae3190-c7b3-4818-aaf7-8f908005e6ea"
      },
      "execution_count": null,
      "outputs": [
        {
          "output_type": "stream",
          "name": "stdout",
          "text": [
            "Harry, that was a great Wingardium Leviosa!\n",
            "I can't wait to see your next spell Harry.\n",
            "\n",
            "Ron, that was a great Wingardium Leviosa!\n",
            "I can't wait to see your next spell Ron.\n",
            "\n",
            "Hermione, that was a great Wingardium Leviosa!\n",
            "I can't wait to see your next spell Hermione.\n",
            "\n"
          ]
        }
      ]
    },
    {
      "cell_type": "markdown",
      "source": [
        "## Doing Something After A Loop \n",
        "\n",
        "What happens once a for loop has finished executing? Usually, you’ll want\n",
        "to summarize a block of output or move on to other work that your program\n",
        "must accomplish.\n",
        "Any lines of code after the for loop that are not indented are executed\n",
        "once without repetition.\n",
        "\n",
        "We can place our message after the for loop without indentation:"
      ],
      "metadata": {
        "id": "HVhST63ZItBN"
      }
    },
    {
      "cell_type": "code",
      "source": [
        "wizards = ['harry','ron', 'hermione']\n",
        "for wizard in wizards:\n",
        "  print(wizard.title() + \", that was a great Wingardium Leviosa!\")\n",
        "  print(\"I can't wait to see your next spell \" + wizard.title() + \".\\n\")\n",
        "\n",
        "print(\"10 Points for Gryffindor!\")"
      ],
      "metadata": {
        "colab": {
          "base_uri": "https://localhost:8080/"
        },
        "id": "KCUqHZQlJC1R",
        "outputId": "2cd2ef18-a138-4ff2-fe85-2c760c60c3d7"
      },
      "execution_count": null,
      "outputs": [
        {
          "output_type": "stream",
          "name": "stdout",
          "text": [
            "Harry, that was a great Wingardium Leviosa!\n",
            "I can't wait to see your next spell Harry.\n",
            "\n",
            "Ron, that was a great Wingardium Leviosa!\n",
            "I can't wait to see your next spell Ron.\n",
            "\n",
            "Hermione, that was a great Wingardium Leviosa!\n",
            "I can't wait to see your next spell Hermione.\n",
            "\n",
            "10 Points for Gryffindor!\n"
          ]
        }
      ]
    },
    {
      "cell_type": "markdown",
      "source": [
        "### Avoiding indentation errors\n",
        "\n",
        "Python uses indentation to determine when one line of code is connected to\n",
        "the line above it. \n",
        "\n",
        "- In the previous examples, the lines that printed messages to\n",
        "individual wizards were part of the for loop because they were indented.\n",
        "Python’s use of indentation makes code very easy to read. \n",
        "- Basically, it uses\n",
        "whitespace to force you to write neatly formatted code with a clear visual\n",
        "structure. \n",
        "- In longer Python programs, you’ll notice blocks of code indented\n",
        "at a few different levels. These indentation levels help you gain a general\n",
        "sense of the overall program’s organization.\n",
        "- As you begin to write code that relies on proper indentation, you’ll\n",
        "need to watch for a few common indentation errors. For example, people\n",
        "sometimes indent blocks of code that don’t need to be indented or forget\n",
        "to indent blocks that need to be indented."
      ],
      "metadata": {
        "id": "mGr7_yhZLBPb"
      }
    },
    {
      "cell_type": "markdown",
      "source": [
        "## DIY 4: Error Spotting\n",
        "**Can you identify the indentation errors below?**"
      ],
      "metadata": {
        "id": "vOU19_PKLXLT"
      }
    },
    {
      "cell_type": "code",
      "source": [
        "magicians = ['alice', 'david', 'carolina']\n",
        "for magician in magicians:\n",
        "print(magician)"
      ],
      "metadata": {
        "colab": {
          "base_uri": "https://localhost:8080/",
          "height": 134
        },
        "id": "FNiZy0bGLZrd",
        "outputId": "1d8e50bf-6549-4296-fff9-67f9f2c061cd"
      },
      "execution_count": null,
      "outputs": [
        {
          "output_type": "error",
          "ename": "IndentationError",
          "evalue": "ignored",
          "traceback": [
            "\u001b[0;36m  File \u001b[0;32m\"<ipython-input-89-bc3e0c643e2b>\"\u001b[0;36m, line \u001b[0;32m3\u001b[0m\n\u001b[0;31m    print(magician)\u001b[0m\n\u001b[0m        ^\u001b[0m\n\u001b[0;31mIndentationError\u001b[0m\u001b[0;31m:\u001b[0m expected an indented block\n"
          ]
        }
      ]
    },
    {
      "cell_type": "code",
      "source": [
        "magicians = ['alice', 'david', 'carolina']\n",
        "for magician in magicians:\n",
        "  print(magician.title() + \", that was a great trick!\")\n",
        "print(\"I can't wait to see your next trick, \" + magician.title() + \".\\n\")"
      ],
      "metadata": {
        "colab": {
          "base_uri": "https://localhost:8080/"
        },
        "id": "ySfIr2H_Li29",
        "outputId": "b4d18c9e-69ad-40d0-e2ff-9939f1c40ac0"
      },
      "execution_count": null,
      "outputs": [
        {
          "output_type": "stream",
          "name": "stdout",
          "text": [
            "Alice, that was a great trick!\n",
            "David, that was a great trick!\n",
            "Carolina, that was a great trick!\n",
            "I can't wait to see your next trick, Carolina.\n",
            "\n"
          ]
        }
      ]
    },
    {
      "cell_type": "markdown",
      "source": [
        "The above error is a *logical error*\n",
        "\n",
        "The syntax is valid Python code, but the code does\n",
        "not produce the desired result because a problem occurs in its logic. If you\n",
        "expect to see a certain action repeated once for each item in a list and it’s\n",
        "executed only once, determine whether you need to simply indent a line or\n",
        "a group of lines."
      ],
      "metadata": {
        "id": "Mju0BEkrLpS2"
      }
    },
    {
      "cell_type": "code",
      "source": [
        "message = \"Hello Python world!\"\n",
        "  print(message)"
      ],
      "metadata": {
        "colab": {
          "base_uri": "https://localhost:8080/",
          "height": 134
        },
        "id": "mtb4plKILwiF",
        "outputId": "635abbec-fea2-4f33-e349-b262044a50dc"
      },
      "execution_count": null,
      "outputs": [
        {
          "output_type": "error",
          "ename": "IndentationError",
          "evalue": "ignored",
          "traceback": [
            "\u001b[0;36m  File \u001b[0;32m\"<ipython-input-91-f718f9c5ce5d>\"\u001b[0;36m, line \u001b[0;32m2\u001b[0m\n\u001b[0;31m    print(message)\u001b[0m\n\u001b[0m    ^\u001b[0m\n\u001b[0;31mIndentationError\u001b[0m\u001b[0;31m:\u001b[0m unexpected indent\n"
          ]
        }
      ]
    },
    {
      "cell_type": "code",
      "source": [
        "magicians = ['alice', 'david', 'carolina']\n",
        "for magician in magicians:\n",
        "  print(magician.title() + \", that was a great trick!\")\n",
        "  print(\"I can't wait to see your next trick, \" + magician.title() + \".\\n\")\n",
        "  print(\"Thank you everyone, that was a great magic show!\")"
      ],
      "metadata": {
        "colab": {
          "base_uri": "https://localhost:8080/"
        },
        "id": "irIdVO-LL2K_",
        "outputId": "14a19e44-c6ca-4975-9ea6-c187f1400026"
      },
      "execution_count": null,
      "outputs": [
        {
          "output_type": "stream",
          "name": "stdout",
          "text": [
            "Alice, that was a great trick!\n",
            "I can't wait to see your next trick, Alice.\n",
            "\n",
            "Thank you everyone, that was a great magic show!\n",
            "David, that was a great trick!\n",
            "I can't wait to see your next trick, David.\n",
            "\n",
            "Thank you everyone, that was a great magic show!\n",
            "Carolina, that was a great trick!\n",
            "I can't wait to see your next trick, Carolina.\n",
            "\n",
            "Thank you everyone, that was a great magic show!\n"
          ]
        }
      ]
    },
    {
      "cell_type": "code",
      "source": [
        "magicians = ['alice', 'david', 'carolina']\n",
        "for magician in magicians\n",
        "  print(magician)"
      ],
      "metadata": {
        "colab": {
          "base_uri": "https://localhost:8080/",
          "height": 134
        },
        "id": "2IU-G8kBL-GB",
        "outputId": "191d3352-bc22-4fab-d04c-630413081110"
      },
      "execution_count": null,
      "outputs": [
        {
          "output_type": "error",
          "ename": "SyntaxError",
          "evalue": "ignored",
          "traceback": [
            "\u001b[0;36m  File \u001b[0;32m\"<ipython-input-93-4d129921db46>\"\u001b[0;36m, line \u001b[0;32m2\u001b[0m\n\u001b[0;31m    for magician in magicians\u001b[0m\n\u001b[0m                             ^\u001b[0m\n\u001b[0;31mSyntaxError\u001b[0m\u001b[0;31m:\u001b[0m invalid syntax\n"
          ]
        }
      ]
    },
    {
      "cell_type": "markdown",
      "metadata": {
        "id": "YTcyf9rvWZja"
      },
      "source": [
        "Slicing a List (Working with part of a list) \n",
        "===\n",
        "\n",
        "- You can also work with a specific group of items in a list, which Python calls\n",
        "a slice.\n",
        "\n",
        "Since a list is a collection of items, we should be able to get any subset of those items. For example, if we want to get just the first three items from the list, we should be able to do so easily. The same should be true for any three items in the middle of the list, or the last three items, or any x items from anywhere in the list. These subsets of a list are called *slices*.\n",
        "\n",
        "To get a subset of a list, we give the position of the first item we want, and the position of the first item we do *not* want to include in the subset. So the slice *list[0:3]* will return a list containing items 0, 1, and 2, but not item 3. Here is how you get a batch containing the first three items.\n",
        "\n",
        "- Another way to think about this would be through [inclusive, exclusive)"
      ]
    },
    {
      "cell_type": "code",
      "execution_count": null,
      "metadata": {
        "id": "BmEiqAimWZjb",
        "colab": {
          "base_uri": "https://localhost:8080/"
        },
        "outputId": "3a52455b-13f0-4b89-9136-c632650b9fc7"
      },
      "outputs": [
        {
          "output_type": "stream",
          "name": "stdout",
          "text": [
            "Eugene\n",
            "Jeremiah\n",
            "Toguro\n"
          ]
        }
      ],
      "source": [
        "usernames = ['eugene', 'jeremiah', 'toguro', 'alfred', 'jenny']\n",
        "\n",
        "# Grab the first three users in the list.\n",
        "first_batch = usernames[0:3]\n",
        "\n",
        "# inclusive of eugene, exclusive of alfred \n",
        "\n",
        "for user in first_batch:\n",
        "    print(user.title())"
      ]
    },
    {
      "cell_type": "markdown",
      "source": [
        "Python stops one item\n",
        "before the second index you specify. To output the first three elements\n",
        "in a list, you would request indices 0 through 3, which would return elements\n",
        "0, 1, and 2."
      ],
      "metadata": {
        "id": "iTzVxVatM6Ks"
      }
    },
    {
      "cell_type": "markdown",
      "metadata": {
        "id": "Qpw3ow3VWZjb"
      },
      "source": [
        "If you want to grab everything up to a certain position in the list, you can also leave the first index blank:"
      ]
    },
    {
      "cell_type": "code",
      "execution_count": null,
      "metadata": {
        "id": "VJkD9JTOWZjc",
        "colab": {
          "base_uri": "https://localhost:8080/"
        },
        "outputId": "5994dd47-5003-4129-bb78-89317bc8582c"
      },
      "outputs": [
        {
          "output_type": "stream",
          "name": "stdout",
          "text": [
            "Eugene\n",
            "Jeremiah\n",
            "Toguro\n"
          ]
        }
      ],
      "source": [
        "\n",
        "usernames = ['eugene', 'jeremiah', 'toguro', 'alfred', 'jenny']\n",
        "\n",
        "# Grab the first three users in the list.\n",
        "first_batch = usernames[:3]\n",
        "\n",
        "for user in first_batch:\n",
        "    print(user.title())"
      ]
    },
    {
      "cell_type": "markdown",
      "metadata": {
        "id": "KFmTojIjWZjd"
      },
      "source": [
        "When we grab a slice from a list, the original list is not affected:"
      ]
    },
    {
      "cell_type": "code",
      "execution_count": null,
      "metadata": {
        "id": "ZmnNDXF3WZjd",
        "colab": {
          "base_uri": "https://localhost:8080/"
        },
        "outputId": "842ca7b4-db6e-4c1d-c9e6-b5aa8b4023f6"
      },
      "outputs": [
        {
          "output_type": "stream",
          "name": "stdout",
          "text": [
            "First batch:  ['eugene', 'jeremiah', 'toguro']\n",
            "Eugene\n",
            "Jeremiah\n",
            "Toguro\n",
            "Alfred\n",
            "Jenny\n"
          ]
        }
      ],
      "source": [
        "\n",
        "usernames = ['eugene', 'jeremiah', 'toguro', 'alfred', 'jenny']\n",
        "\n",
        "# Grab the first three users in the list.\n",
        "first_batch = usernames[0:3]\n",
        "print(\"First batch: \", first_batch)\n",
        "\n",
        "# The original list is unaffected.\n",
        "for user in usernames:\n",
        "    print(user.title())"
      ]
    },
    {
      "cell_type": "markdown",
      "metadata": {
        "id": "B1VZbp0BWZji"
      },
      "source": [
        "We can get any segment of a list we want, using the slice method:"
      ]
    },
    {
      "cell_type": "code",
      "execution_count": null,
      "metadata": {
        "id": "L-gtgahrWZjl",
        "colab": {
          "base_uri": "https://localhost:8080/"
        },
        "outputId": "cc3091e2-7d9b-45a5-f0f4-3158a745382c"
      },
      "outputs": [
        {
          "output_type": "stream",
          "name": "stdout",
          "text": [
            "Jeremiah\n",
            "Toguro\n",
            "Alfred\n"
          ]
        }
      ],
      "source": [
        "usernames = ['eugene', 'jeremiah', 'toguro', 'alfred', 'jenny']\n",
        "\n",
        "# Grab a batch from the middle of the list.\n",
        "middle_batch = usernames[1:4]\n",
        "\n",
        "for user in middle_batch:\n",
        "    print(user.title())"
      ]
    },
    {
      "cell_type": "markdown",
      "metadata": {
        "id": "cEynETAAWZjl"
      },
      "source": [
        "To get all items from one position in the list to the end of the list, we can leave off the second index:"
      ]
    },
    {
      "cell_type": "code",
      "execution_count": null,
      "metadata": {
        "id": "gyY9YlPIWZjp",
        "colab": {
          "base_uri": "https://localhost:8080/"
        },
        "outputId": "a17bf7c9-616f-40a3-b820-9b8044aab435"
      },
      "outputs": [
        {
          "output_type": "stream",
          "name": "stdout",
          "text": [
            "Toguro\n",
            "Alfred\n",
            "Jenny\n"
          ]
        }
      ],
      "source": [
        "usernames = ['eugene', 'jeremiah', 'toguro', 'alfred', 'jenny']\n",
        "\n",
        "# Grab all users from the third to the end.\n",
        "end_batch = usernames[2:]\n",
        "\n",
        "for user in end_batch:\n",
        "    print(user.title())"
      ]
    },
    {
      "cell_type": "markdown",
      "source": [
        "## Looping through a slice\n",
        "\n",
        "Putting the concepts of for loops and list slices together, we can do the following for a list of players on a sports roster:"
      ],
      "metadata": {
        "id": "HVhzKjnhNn7o"
      }
    },
    {
      "cell_type": "code",
      "source": [
        "players = ['charles', 'martina', 'michael', 'florence', 'eli']\n",
        "\n",
        "print(\"Here are the first three players on my team:\")\n",
        "for player in players[:3]:\n",
        "  print(player.title())"
      ],
      "metadata": {
        "colab": {
          "base_uri": "https://localhost:8080/"
        },
        "id": "TnwB0o9QNtah",
        "outputId": "6997d5d5-fc63-4d77-adb0-f95d65d78453"
      },
      "execution_count": null,
      "outputs": [
        {
          "output_type": "stream",
          "name": "stdout",
          "text": [
            "Here are the first three players on my team:\n",
            "Charles\n",
            "Martina\n",
            "Michael\n"
          ]
        }
      ]
    },
    {
      "cell_type": "markdown",
      "metadata": {
        "id": "FxKLuPixWZjr"
      },
      "source": [
        "### Copying a list\n",
        "- Often, you’ll want to start with an existing list and make an entirely new list\n",
        "based on the first one.\n",
        "\n",
        "- You can use the slice notation to make a copy of a list, by leaving out both the starting and the ending index. This causes the slice to consist of everything from the first item to the last, which is the entire list.\n",
        "\n",
        "- To copy a list, you can make a slice that includes the entire original list\n",
        "by omitting the first index and the second index ([:]). This tells Python to\n",
        "make a slice that starts at the first item and ends with the last item, producing\n",
        "a copy of the entire list.\n",
        "\n",
        "- For example, imagine we have a list of our favorite foods and want to\n",
        "make a separate list of foods that a friend likes. This friend likes everything\n",
        "in our list so far, so we can create their list by copying ours:"
      ]
    },
    {
      "cell_type": "code",
      "source": [
        "my_foods = ['pizza', 'falafel', 'carrot cake']\n",
        "friend_foods = my_foods[:]\n",
        "\n",
        "\n",
        "print(\"My favorite foods are:\")\n",
        "print(my_foods)\n",
        "print(\"\\nMy friend's favorite foods are:\")\n",
        "print(friend_foods)"
      ],
      "metadata": {
        "colab": {
          "base_uri": "https://localhost:8080/"
        },
        "id": "_wXolr6iONOQ",
        "outputId": "be94323a-f260-4678-9667-51c5cb7ad2f0"
      },
      "execution_count": null,
      "outputs": [
        {
          "output_type": "stream",
          "name": "stdout",
          "text": [
            "My favorite foods are:\n",
            "['pizza', 'falafel', 'carrot cake']\n",
            "\n",
            "My friend's favorite foods are:\n",
            "['pizza', 'falafel', 'carrot cake']\n"
          ]
        }
      ]
    },
    {
      "cell_type": "markdown",
      "source": [
        "To prove that we actually have two separate lists, we’ll add a new food\n",
        "to each list and show that each list keeps track of the appropriate person’s\n",
        "favorite foods:"
      ],
      "metadata": {
        "id": "202z6qSIOVHW"
      }
    },
    {
      "cell_type": "code",
      "source": [
        "my_foods = ['pizza', 'falafel', 'carrot cake']\n",
        "friend_foods = my_foods[:]\n",
        "\n",
        "my_foods.append('sisig')\n",
        "friend_foods.append('ice cream')\n",
        "\n",
        "print(\"My favorite foods are:\")\n",
        "print(my_foods)\n",
        "\n",
        "print(\"\\nMy friend's favorite foods are:\")\n",
        "print(friend_foods)"
      ],
      "metadata": {
        "colab": {
          "base_uri": "https://localhost:8080/"
        },
        "id": "MwJVEApLOWCt",
        "outputId": "dacc409a-a325-47a7-a7ca-b8ef253afed2"
      },
      "execution_count": null,
      "outputs": [
        {
          "output_type": "stream",
          "name": "stdout",
          "text": [
            "My favorite foods are:\n",
            "['pizza', 'falafel', 'carrot cake', 'sisig']\n",
            "\n",
            "My friend's favorite foods are:\n",
            "['pizza', 'falafel', 'carrot cake', 'ice cream']\n"
          ]
        }
      ]
    },
    {
      "cell_type": "markdown",
      "source": [
        "If we had simply set friend_foods\n",
        "equal to my_foods, we would not produce two separate lists. For example,\n",
        "here’s what happens when you try to copy a list without using a slice"
      ],
      "metadata": {
        "id": "J9Euf67iOmou"
      }
    },
    {
      "cell_type": "code",
      "source": [
        "my_foods = ['pizza', 'falafel', 'carrot cake']\n",
        "\n",
        "friend_foods = my_foods\n",
        "\n",
        "my_foods.append('sisig')\n",
        "friend_foods.append('ice cream')\n",
        "\n",
        "print(\"My favorite foods are:\")\n",
        "print(my_foods)\n",
        "\n",
        "print(\"\\nMy friend's favorite foods are:\")\n",
        "print(friend_foods)"
      ],
      "metadata": {
        "colab": {
          "base_uri": "https://localhost:8080/"
        },
        "id": "_sZgoNFcOnpz",
        "outputId": "8f492e63-0c4a-4b2d-84e3-90cdd2ce869e"
      },
      "execution_count": null,
      "outputs": [
        {
          "output_type": "stream",
          "name": "stdout",
          "text": [
            "My favorite foods are:\n",
            "['pizza', 'falafel', 'carrot cake', 'sisig', 'ice cream']\n",
            "\n",
            "My friend's favorite foods are:\n",
            "['pizza', 'falafel', 'carrot cake', 'sisig', 'ice cream']\n"
          ]
        }
      ]
    },
    {
      "cell_type": "markdown",
      "source": [
        "Instead of storing a copy of my_foods in friend_foods at u, we set\n",
        "friend_foods equal to my_foods. This syntax actually tells Python to connect\n",
        "the new variable friend_foods to the list that is already contained in\n",
        "my_foods, so now both variables point to the same list."
      ],
      "metadata": {
        "id": "XyCiAS_4OzVv"
      }
    },
    {
      "cell_type": "markdown",
      "source": [
        "**Note:** if you’re trying to\n",
        "work with a copy of a list and you see unexpected behavior, make sure you are copying\n",
        "the list using a slice, as we did in the first example."
      ],
      "metadata": {
        "id": "gK0tQTelO4G1"
      }
    },
    {
      "cell_type": "code",
      "execution_count": null,
      "metadata": {
        "id": "3ylyI_NhWZjs",
        "colab": {
          "base_uri": "https://localhost:8080/"
        },
        "outputId": "a0721e51-7ed1-4a68-c78c-314d1e40bec9"
      },
      "outputs": [
        {
          "output_type": "stream",
          "name": "stdout",
          "text": [
            "The full copied list:\n",
            "\t ['eugene', 'jeremiah', 'toguro', 'alfred', 'jenny']\n",
            "\n",
            "Two users removed from copied list:\n",
            "\t ['toguro', 'alfred', 'jenny']\n",
            "\n",
            "The original list:\n",
            "\t ['eugene', 'jeremiah', 'toguro', 'alfred', 'jenny']\n"
          ]
        }
      ],
      "source": [
        "usernames = ['eugene', 'jeremiah', 'toguro', 'alfred', 'jenny']\n",
        "\n",
        "# Make a copy of the list.\n",
        "copied_usernames = usernames[:]\n",
        "print(\"The full copied list:\\n\\t\", copied_usernames)\n",
        "\n",
        "# Remove the first two users from the copied list.\n",
        "del copied_usernames[0]\n",
        "del copied_usernames[0]\n",
        "print(\"\\nTwo users removed from copied list:\\n\\t\", copied_usernames)\n",
        "\n",
        "# The original list is unaffected.\n",
        "print(\"\\nThe original list:\\n\\t\", usernames)"
      ]
    },
    {
      "cell_type": "markdown",
      "metadata": {
        "id": "OKySQSZxWZjt"
      },
      "source": [
        "Numerical Lists\n",
        "===\n",
        "There is nothing special about lists of numbers, but there are some functions you can use to make working with numerical lists more efficient. Let's make a list of the first ten numbers, and start working with it to see how we can use numbers in a list."
      ]
    },
    {
      "cell_type": "code",
      "execution_count": null,
      "metadata": {
        "id": "DF-z9aeWWZju",
        "colab": {
          "base_uri": "https://localhost:8080/"
        },
        "outputId": "7e654d63-093a-4b0c-b037-d931091002b3"
      },
      "outputs": [
        {
          "output_type": "stream",
          "name": "stdout",
          "text": [
            "1\n",
            "2\n",
            "3\n",
            "4\n",
            "5\n",
            "6\n",
            "7\n",
            "8\n",
            "9\n",
            "10\n"
          ]
        }
      ],
      "source": [
        "# Print out the first ten numbers.\n",
        "numbers = [1, 2, 3, 4, 5, 6, 7, 8, 9, 10]\n",
        "\n",
        "for number in numbers:\n",
        "    print(number)"
      ]
    },
    {
      "cell_type": "markdown",
      "metadata": {
        "id": "2CbTBH0TWZjv"
      },
      "source": [
        "The *range()* function\n",
        "---\n",
        "This works, but it is not very efficient if we want to work with a large set of numbers. The *range()* function helps us generate long lists of numbers. Here are two ways to do the same thing, using the *range* function."
      ]
    },
    {
      "cell_type": "code",
      "execution_count": null,
      "metadata": {
        "id": "KmaDdvgZWZjw",
        "colab": {
          "base_uri": "https://localhost:8080/"
        },
        "outputId": "70596e55-84f2-4ac5-e4eb-d4b3f79bf572"
      },
      "outputs": [
        {
          "output_type": "stream",
          "name": "stdout",
          "text": [
            "1\n",
            "2\n",
            "3\n",
            "4\n",
            "5\n",
            "6\n",
            "7\n",
            "8\n",
            "9\n",
            "10\n"
          ]
        }
      ],
      "source": [
        "# Print the first ten numbers.\n",
        "for number in range(1,11):\n",
        "    print(number)"
      ]
    },
    {
      "cell_type": "markdown",
      "metadata": {
        "id": "xL0gBubiWZjw"
      },
      "source": [
        "The range function takes in a starting number, and an end number. You get all integers, up to but not including the end number. You can also add a *step* value, which tells the *range* function how big of a step to take between numbers:"
      ]
    },
    {
      "cell_type": "code",
      "execution_count": null,
      "metadata": {
        "id": "7AJ_HcaVWZjw",
        "colab": {
          "base_uri": "https://localhost:8080/"
        },
        "outputId": "adc97264-5fd6-45a6-9490-e9b86f6c0ea6"
      },
      "outputs": [
        {
          "output_type": "stream",
          "name": "stdout",
          "text": [
            "1\n",
            "3\n",
            "5\n",
            "7\n",
            "9\n",
            "11\n",
            "13\n",
            "15\n",
            "17\n",
            "19\n"
          ]
        }
      ],
      "source": [
        "# Print the first ten odd numbers.\n",
        "for number in range(1,21,2):\n",
        "    print(number)"
      ]
    },
    {
      "cell_type": "markdown",
      "metadata": {
        "id": "eIadR86eWZjx"
      },
      "source": [
        "If we want to store these numbers in a list, we can use the *list()* function. This function takes in a range, and turns it into a list:"
      ]
    },
    {
      "cell_type": "code",
      "execution_count": null,
      "metadata": {
        "id": "H8qRunIQWZjy",
        "colab": {
          "base_uri": "https://localhost:8080/"
        },
        "outputId": "4ce544c1-0739-43b9-f34e-6751e94beed5"
      },
      "outputs": [
        {
          "output_type": "stream",
          "name": "stdout",
          "text": [
            "[1, 2, 3, 4, 5, 6, 7, 8, 9, 10]\n"
          ]
        }
      ],
      "source": [
        "# Create a list of the first ten numbers.\n",
        "numbers = list(range(1,11))\n",
        "print(numbers)"
      ]
    },
    {
      "cell_type": "markdown",
      "metadata": {
        "id": "K2f0t61mWZjz"
      },
      "source": [
        "This is incredibly powerful; we can now create a list of the first million numbers, just as easily as we made a list of the first ten numbers. It doesn't really make sense to print the million numbers here, but we can show that the list really does have one million items in it, and we can print the last ten items to show that the list is correct."
      ]
    },
    {
      "cell_type": "code",
      "execution_count": null,
      "metadata": {
        "id": "eMPW1XOoWZj0",
        "colab": {
          "base_uri": "https://localhost:8080/"
        },
        "outputId": "3b9dc4c8-42aa-4e28-84cf-7088943c022d"
      },
      "outputs": [
        {
          "output_type": "stream",
          "name": "stdout",
          "text": [
            "The list 'numbers' has 1000000 numbers in it.\n",
            "\n",
            "The last ten numbers in the list are:\n",
            "999991\n",
            "999992\n",
            "999993\n",
            "999994\n",
            "999995\n",
            "999996\n",
            "999997\n",
            "999998\n",
            "999999\n",
            "1000000\n"
          ]
        }
      ],
      "source": [
        "# Store the first million numbers in a list.\n",
        "numbers = list(range(1,1000001))\n",
        "\n",
        "# Show the length of the list:\n",
        "print(\"The list 'numbers' has \" + str(len(numbers)) + \" numbers in it.\")\n",
        "\n",
        "# Show the last ten numbers:\n",
        "print(\"\\nThe last ten numbers in the list are:\")\n",
        "for number in numbers[-10:]:\n",
        "    print(number)"
      ]
    },
    {
      "cell_type": "markdown",
      "metadata": {
        "id": "UdU2Q3j1WZj1"
      },
      "source": [
        "There are two things here that might be a little unclear. The expression\n",
        "\n",
        "    str(len(numbers))\n",
        "\n",
        "takes the length of the *numbers* list, and turns it into a string that can be printed.\n",
        "\n",
        "The expression \n",
        "\n",
        "    numbers[-10:]\n",
        "\n",
        "gives us a *slice* of the list. The index `-1` is the last item in the list, and the index `-10` is the item ten places from the end of the list. So the slice `numbers[-10:]` gives us everything from that item to the end of the list."
      ]
    },
    {
      "cell_type": "markdown",
      "metadata": {
        "id": "D_wTh8q2WZj2"
      },
      "source": [
        "Simple statistics: The *min()*, *max()*, and *sum()* functions\n",
        "---\n",
        "There are three functions you can easily use with numerical lists. As you might expect, the *min()* function returns the smallest number in the list, the *max()* function returns the largest number in the list, and the *sum()* function returns the total of all numbers in the list."
      ]
    },
    {
      "cell_type": "code",
      "execution_count": null,
      "metadata": {
        "id": "qiUaOvP3WZj5",
        "colab": {
          "base_uri": "https://localhost:8080/"
        },
        "outputId": "32f5f807-9cec-4bd0-e165-a3731ad77075"
      },
      "outputs": [
        {
          "output_type": "stream",
          "name": "stdout",
          "text": [
            "Our youngest reader is 11 years old.\n",
            "Our oldest reader is 38 years old.\n",
            "Together, we have 149 years worth of life experience.\n"
          ]
        }
      ],
      "source": [
        "ages = [23, 16, 14, 28, 19, 11, 38]\n",
        "\n",
        "youngest = min(ages)\n",
        "oldest = max(ages)\n",
        "total_years = sum(ages)\n",
        "\n",
        "print(\"Our youngest reader is \" + str(youngest) + \" years old.\")\n",
        "print(\"Our oldest reader is \" + str(oldest) + \" years old.\")\n",
        "print(\"Together, we have \" + str(total_years) + \" years worth of life experience.\")"
      ]
    },
    {
      "cell_type": "markdown",
      "metadata": {
        "id": "x17ToSF0WZkN"
      },
      "source": [
        "Strings as Lists\n",
        "===\n",
        "Now that you have some familiarity with lists, we can take a second look at strings. A string is really a list of characters, so many of the concepts from working with lists behave the same with strings."
      ]
    },
    {
      "cell_type": "markdown",
      "metadata": {
        "id": "lEJxTl2eWZkP"
      },
      "source": [
        "Strings as a list of characters\n",
        "---\n",
        "We can loop through a string using a *for* loop, just like we loop through a list:"
      ]
    },
    {
      "cell_type": "code",
      "execution_count": null,
      "metadata": {
        "id": "1Ows-GQ3WZkP",
        "colab": {
          "base_uri": "https://localhost:8080/"
        },
        "outputId": "7bb12837-d467-42ec-958d-c0ffd11d80ef"
      },
      "outputs": [
        {
          "output_type": "stream",
          "name": "stdout",
          "text": [
            "H\n",
            "e\n",
            "l\n",
            "l\n",
            "o\n",
            "!\n"
          ]
        }
      ],
      "source": [
        "message = \"Hello!\"\n",
        "\n",
        "for letter in message:\n",
        "    print(letter)"
      ]
    },
    {
      "cell_type": "markdown",
      "metadata": {
        "id": "NDX24hYbWZkR"
      },
      "source": [
        "We can create a list from a string. The list will have one element for each character in the string:"
      ]
    },
    {
      "cell_type": "code",
      "execution_count": null,
      "metadata": {
        "id": "3dcRHKHEWZkS",
        "colab": {
          "base_uri": "https://localhost:8080/"
        },
        "outputId": "a5d33ac2-8377-48fd-d92b-97933f7effdd"
      },
      "outputs": [
        {
          "output_type": "stream",
          "name": "stdout",
          "text": [
            "['H', 'e', 'l', 'l', 'o', ' ', 'w', 'o', 'r', 'l', 'd', '!']\n"
          ]
        }
      ],
      "source": [
        "message = \"Hello world!\"\n",
        "\n",
        "message_list = list(message)\n",
        "print(message_list)"
      ]
    },
    {
      "cell_type": "markdown",
      "metadata": {
        "id": "5lUxh3eTWZkT"
      },
      "source": [
        "Slicing strings\n",
        "---\n",
        "We can access any character in a string by its position, just as we access individual items in a list:"
      ]
    },
    {
      "cell_type": "code",
      "execution_count": null,
      "metadata": {
        "id": "Kj3rSNAAWZkU",
        "colab": {
          "base_uri": "https://localhost:8080/"
        },
        "outputId": "fbff0857-47e2-4ad3-e4cd-8d190a75a867"
      },
      "outputs": [
        {
          "output_type": "stream",
          "name": "stdout",
          "text": [
            "H !\n"
          ]
        }
      ],
      "source": [
        "message = \"Hello World!\"\n",
        "first_char = message[0]\n",
        "last_char = message[-1]\n",
        "\n",
        "print(first_char, last_char)"
      ]
    },
    {
      "cell_type": "markdown",
      "metadata": {
        "id": "uz5BTCYCWZkV"
      },
      "source": [
        "We can extend this to take slices of a string:"
      ]
    },
    {
      "cell_type": "code",
      "execution_count": null,
      "metadata": {
        "id": "cxVkMlsnWZkV",
        "colab": {
          "base_uri": "https://localhost:8080/"
        },
        "outputId": "85615ce2-4c6e-46a3-bbf9-83bce7957fa4"
      },
      "outputs": [
        {
          "output_type": "stream",
          "name": "stdout",
          "text": [
            "Hel ld!\n"
          ]
        }
      ],
      "source": [
        "message = \"Hello World!\"\n",
        "first_three = message[:3]\n",
        "last_three = message[-3:]\n",
        "\n",
        "print(first_three, last_three)"
      ]
    },
    {
      "cell_type": "markdown",
      "metadata": {
        "id": "iBog9h2CWZkW"
      },
      "source": [
        "Finding substrings\n",
        "---\n",
        "Now that you have seen what indexes mean for strings, we can search for *substrings*. A substring is a series of characters that appears in a string.\n",
        "\n",
        "You can use the *in* keyword to find out whether a particular substring appears in a string:"
      ]
    },
    {
      "cell_type": "code",
      "execution_count": null,
      "metadata": {
        "id": "nFIfVUbAWZkY",
        "colab": {
          "base_uri": "https://localhost:8080/"
        },
        "outputId": "ccbbe15f-2b65-48c3-b38e-3992ec023452"
      },
      "outputs": [
        {
          "output_type": "stream",
          "name": "stdout",
          "text": [
            "True\n"
          ]
        }
      ],
      "source": [
        "message = \"I like cats and dogs.\"\n",
        "dog_present = 'dog' in message\n",
        "print(dog_present)"
      ]
    },
    {
      "cell_type": "markdown",
      "metadata": {
        "id": "uQHHsWWYWZkZ"
      },
      "source": [
        "If you want to know where a substring appears in a string, you can use the *find()* method. The *find()* method tells you the index at which the substring begins."
      ]
    },
    {
      "cell_type": "code",
      "execution_count": null,
      "metadata": {
        "id": "VrypNqhGWZka",
        "colab": {
          "base_uri": "https://localhost:8080/"
        },
        "outputId": "4e96f012-f076-4875-cef7-6d228b96a91e"
      },
      "outputs": [
        {
          "output_type": "stream",
          "name": "stdout",
          "text": [
            "16\n"
          ]
        }
      ],
      "source": [
        "message = \"I like cats and dogs.\"\n",
        "dog_index = message.find('dog')\n",
        "print(dog_index)"
      ]
    },
    {
      "cell_type": "code",
      "source": [
        "print(message[16])"
      ],
      "metadata": {
        "colab": {
          "base_uri": "https://localhost:8080/"
        },
        "id": "LhNJS5WIQVa8",
        "outputId": "7f552cd9-a881-49f2-f54d-d48c93859044"
      },
      "execution_count": null,
      "outputs": [
        {
          "output_type": "stream",
          "name": "stdout",
          "text": [
            "d\n"
          ]
        }
      ]
    },
    {
      "cell_type": "markdown",
      "metadata": {
        "id": "0yWLPpFAWZke"
      },
      "source": [
        "Note, however, that this function only returns the index of the first appearance of the substring you are looking for. If the substring appears more than once, you will miss the other substrings."
      ]
    },
    {
      "cell_type": "code",
      "execution_count": null,
      "metadata": {
        "id": "Q3AYervpWZkf",
        "colab": {
          "base_uri": "https://localhost:8080/"
        },
        "outputId": "072cbe34-abe0-4f2d-e188-2b14bf40218c"
      },
      "outputs": [
        {
          "output_type": "stream",
          "name": "stdout",
          "text": [
            "16\n"
          ]
        }
      ],
      "source": [
        "\n",
        "message = \"I like cats and dogs, but I'd much rather own a dog.\"\n",
        "dog_index = message.find('dog')\n",
        "print(dog_index)"
      ]
    },
    {
      "cell_type": "markdown",
      "metadata": {
        "id": "0a1Y7Ot-WZki"
      },
      "source": [
        "If you want to find the last appearance of a substring, you can use the *rfind()* function:"
      ]
    },
    {
      "cell_type": "code",
      "execution_count": null,
      "metadata": {
        "id": "55Us7BeDWZkj",
        "colab": {
          "base_uri": "https://localhost:8080/"
        },
        "outputId": "43cad993-c6fe-4901-a146-5088408080c1"
      },
      "outputs": [
        {
          "output_type": "stream",
          "name": "stdout",
          "text": [
            "48\n"
          ]
        }
      ],
      "source": [
        "\n",
        "message = \"I like cats and dogs, but I'd much rather own a dog.\"\n",
        "last_dog_index = message.rfind('dog')\n",
        "print(last_dog_index)"
      ]
    },
    {
      "cell_type": "markdown",
      "metadata": {
        "id": "oeBvB2rFWZkj"
      },
      "source": [
        "Replacing substrings\n",
        "---\n",
        "You can use the *replace()* function to replace any substring with another substring. To use the *replace()* function, give the substring you want to replace, and then the substring you want to replace it with. You also need to store the new string, either in the same string variable or in a new variable."
      ]
    },
    {
      "cell_type": "code",
      "execution_count": null,
      "metadata": {
        "id": "RAMV95klWZkk",
        "colab": {
          "base_uri": "https://localhost:8080/"
        },
        "outputId": "229d164d-1611-4361-c9af-2ca12b45eaf1"
      },
      "outputs": [
        {
          "output_type": "stream",
          "name": "stdout",
          "text": [
            "I like cats and snakes, but I'd much rather own a snake.\n"
          ]
        }
      ],
      "source": [
        "message = \"I like cats and dogs, but I'd much rather own a dog.\"\n",
        "message = message.replace('dog', 'snake')\n",
        "print(message)"
      ]
    },
    {
      "cell_type": "markdown",
      "metadata": {
        "id": "HOazq2ezWZkm"
      },
      "source": [
        "Counting substrings\n",
        "---\n",
        "If you want to know how many times a substring appears within a string, you can use the *count()* method."
      ]
    },
    {
      "cell_type": "code",
      "execution_count": null,
      "metadata": {
        "id": "9GzcLp2JWZkn",
        "colab": {
          "base_uri": "https://localhost:8080/"
        },
        "outputId": "ad12c1d0-522d-4d3c-f440-18b7205ab452"
      },
      "outputs": [
        {
          "output_type": "stream",
          "name": "stdout",
          "text": [
            "2\n"
          ]
        }
      ],
      "source": [
        "message = \"I like cats and dogs, but I'd much rather own a dog.\"\n",
        "number_dogs = message.count('dog')\n",
        "print(number_dogs)"
      ]
    },
    {
      "cell_type": "markdown",
      "metadata": {
        "id": "o5tLXeOlWZko"
      },
      "source": [
        "Splitting strings\n",
        "---\n",
        "Strings can be split into a set of substrings when they are separated by a repeated character. If a string consists of a simple sentence, the string can be split based on spaces. The *split()* function returns a list of substrings. The *split()* function takes one argument, the character that separates the parts of the string."
      ]
    },
    {
      "cell_type": "code",
      "execution_count": null,
      "metadata": {
        "id": "lh9PJ0-rWZkp",
        "colab": {
          "base_uri": "https://localhost:8080/"
        },
        "outputId": "afcc5c12-d764-4cbb-a3d9-3a2b49dce1f1"
      },
      "outputs": [
        {
          "output_type": "stream",
          "name": "stdout",
          "text": [
            "['I', 'like', 'cats', 'and', 'dogs,', 'but', \"I'd\", 'much', 'rather', 'own', 'a', 'dog.']\n"
          ]
        }
      ],
      "source": [
        "message = \"I like cats and dogs, but I'd much rather own a dog.\"\n",
        "words = message.split(' ')\n",
        "print(words)"
      ]
    },
    {
      "cell_type": "markdown",
      "metadata": {
        "id": "JwRSIspxWZkt"
      },
      "source": [
        "Notice that the punctuation is left in the substrings.\n",
        "\n",
        "It is more common to split strings that are really lists, separated by something like a comma. The *split()* function gives you an easy way to turn comma-separated strings, which you can't do much with in Python, into lists. Once you have your data in a list, you can work with it in much more powerful ways."
      ]
    },
    {
      "cell_type": "code",
      "execution_count": null,
      "metadata": {
        "id": "nkGH37NOWZku",
        "colab": {
          "base_uri": "https://localhost:8080/"
        },
        "outputId": "ef2cd9da-bb32-4b40-f2ad-3f03b534b8d1"
      },
      "outputs": [
        {
          "output_type": "stream",
          "name": "stdout",
          "text": [
            "['dog', ' cat', ' tiger', ' mouse', ' liger', ' bear']\n"
          ]
        }
      ],
      "source": [
        "animals = \"dog, cat, tiger, mouse, liger, bear\"\n",
        "\n",
        "# Rewrite the string as a list, and store it in the same variable\n",
        "animals = animals.split(',')\n",
        "print(animals)"
      ]
    },
    {
      "cell_type": "markdown",
      "metadata": {
        "id": "mFC0UoHlWZkx"
      },
      "source": [
        "Notice that in this case, the spaces are also ignored. It is a good idea to test the output of the *split()* function and make sure it is doing what you want with the data you are interested in.\n",
        "\n",
        "One use of this is to work with spreadsheet data in your Python programs. Most spreadsheet applications allow you to dump your data into a comma-separated text file. You can read this file into your Python program, or even copy and paste from the text file into your program file, and then turn the data into a list. You can then process your spreadsheet data using a *for* loop."
      ]
    },
    {
      "cell_type": "markdown",
      "metadata": {
        "id": "X2WRdO3bWZkx"
      },
      "source": [
        "Other string methods\n",
        "---\n",
        "There are a number of [other string methods](http://docs.python.org/3.3/library/stdtypes.html#string-methods) that we won't go into right here, but you might want to take a look at them. Most of these methods should make sense to you at this point. You might not have use for any of them right now, but it is good to know what you can do with strings. This way you will have a sense of how to solve certain problems, even if it means referring back to the list of methods to remind yourself how to write the correct syntax when you need it."
      ]
    },
    {
      "cell_type": "markdown",
      "metadata": {
        "id": "ASDBXyFTWZky"
      },
      "source": [
        "Tuples\n",
        "===\n",
        "Tuples are basically lists that can never be changed. Lists are quite dynamic; they can grow as you append and insert items, and they can shrink as you remove items. You can modify any element you want to in a list. Sometimes we like this behavior, but other times we may want to ensure that no user or no part of a program can change a list. That's what tuples are for.\n",
        "\n",
        "Technically, lists are *mutable* objects and tuples are *immutable* objects. Mutable objects can change (think of *mutations*), and immutable objects can not change.\n",
        "\n",
        "\n",
        "Defining tuples, and accessing elements\n",
        "---\n",
        "\n",
        "You define a tuple just like you define a list, except you use parentheses instead of square brackets. Once you have a tuple, you can access individual elements just like you can with a list, and you can loop through the tuple with a *for* loop:"
      ]
    },
    {
      "cell_type": "code",
      "execution_count": null,
      "metadata": {
        "id": "bAGGQ2EwWZkz",
        "colab": {
          "base_uri": "https://localhost:8080/"
        },
        "outputId": "e8629928-aa5b-4bed-c336-ca6d0e62b9df"
      },
      "outputs": [
        {
          "output_type": "stream",
          "name": "stdout",
          "text": [
            "The first color is: red\n",
            "\n",
            "The available colors are:\n",
            "- red\n",
            "- green\n",
            "- blue\n"
          ]
        }
      ],
      "source": [
        "colors = ('red', 'green', 'blue')\n",
        "print(\"The first color is: \" + colors[0])\n",
        "\n",
        "print(\"\\nThe available colors are:\")\n",
        "for color in colors:\n",
        "    print(\"- \" + color)"
      ]
    },
    {
      "cell_type": "markdown",
      "metadata": {
        "id": "ehXoprVMWZk1"
      },
      "source": [
        "If you try to add something to a tuple, you will get an error:"
      ]
    },
    {
      "cell_type": "code",
      "execution_count": null,
      "metadata": {
        "id": "HY-sSpmrWZk1",
        "colab": {
          "base_uri": "https://localhost:8080/",
          "height": 188
        },
        "outputId": "b66fd230-c7b4-4539-b9c9-ab8119e78968"
      },
      "outputs": [
        {
          "output_type": "error",
          "ename": "AttributeError",
          "evalue": "ignored",
          "traceback": [
            "\u001b[0;31m---------------------------------------------------------------------------\u001b[0m",
            "\u001b[0;31mAttributeError\u001b[0m                            Traceback (most recent call last)",
            "\u001b[0;32m<ipython-input-136-83aeaf8e9a14>\u001b[0m in \u001b[0;36m<module>\u001b[0;34m()\u001b[0m\n\u001b[1;32m      1\u001b[0m \u001b[0mcolors\u001b[0m \u001b[0;34m=\u001b[0m \u001b[0;34m(\u001b[0m\u001b[0;34m'red'\u001b[0m\u001b[0;34m,\u001b[0m \u001b[0;34m'green'\u001b[0m\u001b[0;34m,\u001b[0m \u001b[0;34m'blue'\u001b[0m\u001b[0;34m)\u001b[0m\u001b[0;34m\u001b[0m\u001b[0;34m\u001b[0m\u001b[0m\n\u001b[0;32m----> 2\u001b[0;31m \u001b[0mcolors\u001b[0m\u001b[0;34m.\u001b[0m\u001b[0mappend\u001b[0m\u001b[0;34m(\u001b[0m\u001b[0;34m'purple'\u001b[0m\u001b[0;34m)\u001b[0m\u001b[0;34m\u001b[0m\u001b[0;34m\u001b[0m\u001b[0m\n\u001b[0m",
            "\u001b[0;31mAttributeError\u001b[0m: 'tuple' object has no attribute 'append'"
          ]
        }
      ],
      "source": [
        "colors = ('red', 'green', 'blue')\n",
        "colors.append('purple')"
      ]
    },
    {
      "cell_type": "markdown",
      "metadata": {
        "id": "tHYdUqaMWZk2"
      },
      "source": [
        "The same kind of thing happens when you try to remove something from a tuple, or modify one of its elements. Once you define a tuple, you can be confident that its values will not change."
      ]
    },
    {
      "cell_type": "markdown",
      "source": [
        "**When would you want an immutable list?**\n",
        "\n",
        "For example, if we have a rectangle that should always be a certain size,\n",
        "we can ensure that its size doesn’t change by putting the dimensions into a\n",
        "tuple:"
      ],
      "metadata": {
        "id": "4EzHLoB7bu1Y"
      }
    },
    {
      "cell_type": "code",
      "source": [
        "dimensions = (200, 50)\n",
        "print(dimensions[0])\n",
        "print(dimensions[1])"
      ],
      "metadata": {
        "colab": {
          "base_uri": "https://localhost:8080/"
        },
        "id": "FTVocAOIbyrC",
        "outputId": "b92d1df6-8de2-41c7-8485-372c9906c08a"
      },
      "execution_count": null,
      "outputs": [
        {
          "output_type": "stream",
          "name": "stdout",
          "text": [
            "200\n",
            "50\n"
          ]
        }
      ]
    },
    {
      "cell_type": "markdown",
      "source": [
        "## Looping through values in a tuple\n"
      ],
      "metadata": {
        "id": "PCM6sEIycHZ2"
      }
    },
    {
      "cell_type": "code",
      "source": [
        "dimensions = (200, 50)\n",
        "for dimension in dimensions:\n",
        "  print(dimension)"
      ],
      "metadata": {
        "colab": {
          "base_uri": "https://localhost:8080/"
        },
        "id": "CXOvGGG2cLny",
        "outputId": "e2971bf8-66ba-4ba1-cf35-48c61c374884"
      },
      "execution_count": null,
      "outputs": [
        {
          "output_type": "stream",
          "name": "stdout",
          "text": [
            "200\n",
            "50\n"
          ]
        }
      ]
    },
    {
      "cell_type": "markdown",
      "source": [
        "## Writing over a Tuple\n",
        "\n",
        "Although you can’t modify a tuple, you can assign a new value to a variable\n",
        "that holds a tuple. So if we wanted to change our dimensions, we could\n",
        "redefine the entire tuple:"
      ],
      "metadata": {
        "id": "dFcZof60cRBL"
      }
    },
    {
      "cell_type": "code",
      "source": [
        "dimensions = (200, 50)\n",
        "print(\"Original dimensions:\")\n",
        "for dimension in dimensions:\n",
        "  print(dimension)\n",
        "\n",
        "dimensions = (400, 100)\n",
        "print(\"\\nModified dimensions:\")\n",
        "for dimension in dimensions:\n",
        "  print(dimension)"
      ],
      "metadata": {
        "colab": {
          "base_uri": "https://localhost:8080/"
        },
        "id": "O33qXqKIcaUB",
        "outputId": "26e37a4d-6c27-4ee3-9caa-5c08a572c46f"
      },
      "execution_count": null,
      "outputs": [
        {
          "output_type": "stream",
          "name": "stdout",
          "text": [
            "Original dimensions:\n",
            "200\n",
            "50\n",
            "\n",
            "Modified dimensions:\n",
            "400\n",
            "100\n"
          ]
        }
      ]
    },
    {
      "cell_type": "markdown",
      "source": [
        "## DIY 5: Picking Buffet Food\n",
        "\n",
        "1. A buffet-style restaurant offers only five basic foods. Think of five\n",
        "simple foods, and store them in a tuple.\n",
        "2. Use a for loop to print each food the restaurant offers.\n",
        "3. Try to modify one of the items, and make sure that Python rejects the\n",
        "change. \n",
        "4. The restaurant changes its menu, replacing two of the items with different\n",
        "foods. Add a block of code that rewrites the tuple, and then use a for\n",
        "loop to print each of the items on the revised menu."
      ],
      "metadata": {
        "id": "Eb2o4hPIckJ8"
      }
    },
    {
      "cell_type": "code",
      "source": [
        "# write your code here"
      ],
      "metadata": {
        "id": "cBNQHh-BcyKJ"
      },
      "execution_count": null,
      "outputs": []
    },
    {
      "cell_type": "code",
      "source": [
        "# write your code here"
      ],
      "metadata": {
        "id": "B4YbkCTkcyTE"
      },
      "execution_count": null,
      "outputs": []
    },
    {
      "cell_type": "code",
      "source": [
        "# write your code here"
      ],
      "metadata": {
        "id": "9RNfQ6CZcyaJ"
      },
      "execution_count": null,
      "outputs": []
    },
    {
      "cell_type": "code",
      "source": [
        "# write your code here"
      ],
      "metadata": {
        "id": "B6fzi7Ducyjj"
      },
      "execution_count": null,
      "outputs": []
    },
    {
      "cell_type": "markdown",
      "metadata": {
        "id": "4dJsxvetWZk2"
      },
      "source": [
        "Using tuples to make strings\n",
        "---\n",
        "We have seen that it is pretty useful to be able to mix raw English strings with values that are stored in variables, as in the following:"
      ]
    },
    {
      "cell_type": "code",
      "execution_count": null,
      "metadata": {
        "id": "J5g34783WZk2",
        "colab": {
          "base_uri": "https://localhost:8080/"
        },
        "outputId": "5015f85e-8b6d-41e5-fe5c-caf1bc8675c2"
      },
      "outputs": [
        {
          "output_type": "stream",
          "name": "stdout",
          "text": [
            "I have a dog.\n"
          ]
        }
      ],
      "source": [
        "animal = 'dog'\n",
        "print(\"I have a \" + animal + \".\")"
      ]
    },
    {
      "cell_type": "markdown",
      "metadata": {
        "id": "H0trTJUSWZk3"
      },
      "source": [
        "This was especially useful when we had a series of similar statements to make:"
      ]
    },
    {
      "cell_type": "code",
      "execution_count": null,
      "metadata": {
        "id": "1ltdYLlnWZk3",
        "outputId": "bdf7d12c-74db-4daa-efe7-c0873f5106a9",
        "colab": {
          "base_uri": "https://localhost:8080/"
        }
      },
      "outputs": [
        {
          "output_type": "stream",
          "name": "stdout",
          "text": [
            "I have a dog.\n",
            "I have a cat.\n",
            "I have a bear.\n"
          ]
        }
      ],
      "source": [
        "animals = ('dog', 'cat', 'bear')\n",
        "for animal in animals:\n",
        "    print(\"I have a \" + animal + \".\")"
      ]
    },
    {
      "cell_type": "markdown",
      "metadata": {
        "id": "5qMtS9MUWZk7"
      },
      "source": [
        "I like this approach of using the plus sign to build strings because it is fairly intuitive. We can see that we are adding several smaller strings together to make one longer string. This is intuitive, but it is a lot of typing. There is a shorter way to do this, using *placeholders*.\n",
        "\n",
        "Python ignores most of the characters we put inside of strings. There are a few characters that Python pays attention to, as we saw with strings such as \"\\t\" and \"\\n\". Python also pays attention to \"%s\" and \"%d\". These are placeholders. When Python sees the \"%s\" placeholder, it looks ahead and pulls in the first argument after the % sign:"
      ]
    },
    {
      "cell_type": "code",
      "execution_count": null,
      "metadata": {
        "id": "4aAupWjMWZk8",
        "colab": {
          "base_uri": "https://localhost:8080/"
        },
        "outputId": "7dcea3f9-3302-4000-89de-93b5b2ceafa4"
      },
      "outputs": [
        {
          "output_type": "stream",
          "name": "stdout",
          "text": [
            "I have a dog.\n"
          ]
        }
      ],
      "source": [
        "animal = 'dog'\n",
        "print(\"I have a %s.\" % animal)"
      ]
    },
    {
      "cell_type": "markdown",
      "metadata": {
        "id": "ly6WQ6QDWZk9"
      },
      "source": [
        "This is a much cleaner way of generating strings that include values. We compose our sentence all in one string, and then tell Python what values to pull into the string, in the appropriate places.\n",
        "\n",
        "This is called *string formatting*, and it looks the same when you use a list:"
      ]
    },
    {
      "cell_type": "code",
      "execution_count": null,
      "metadata": {
        "id": "Lcm2DuK-WZk-",
        "outputId": "6382dc90-ddee-4ff6-a188-9466a85d994d",
        "colab": {
          "base_uri": "https://localhost:8080/"
        }
      },
      "outputs": [
        {
          "output_type": "stream",
          "name": "stdout",
          "text": [
            "I have a dog.\n",
            "I have a cat.\n",
            "I have a bear.\n"
          ]
        }
      ],
      "source": [
        "animals = ('dog', 'cat', 'bear')\n",
        "for animal in animals:\n",
        "    print(\"I have a %s.\" % animal)"
      ]
    },
    {
      "cell_type": "markdown",
      "metadata": {
        "id": "n06y-J-fWZlA"
      },
      "source": [
        "If you have more than one value to put into the string you are composing, you have to pack the values into a tuple:"
      ]
    },
    {
      "cell_type": "code",
      "execution_count": null,
      "metadata": {
        "id": "N1NrgyYBWZlB",
        "outputId": "d951425a-4c1b-4cba-dca2-ff9a9af835cf",
        "colab": {
          "base_uri": "https://localhost:8080/"
        }
      },
      "outputs": [
        {
          "output_type": "stream",
          "name": "stdout",
          "text": [
            "I have a dog, a cat, and a bear.\n"
          ]
        }
      ],
      "source": [
        "animals = ('dog', 'cat', 'bear')\n",
        "print(\"I have a %s, a %s, and a %s.\" % (animals[0], animals[1], animals[2]))"
      ]
    },
    {
      "cell_type": "markdown",
      "metadata": {
        "id": "b2PIaSutWZlC"
      },
      "source": [
        "### String formatting with numbers\n",
        "\n",
        "If you recall, printing a number with a string can cause an error:"
      ]
    },
    {
      "cell_type": "code",
      "execution_count": null,
      "metadata": {
        "scrolled": true,
        "id": "zt8yEbQNWZlH",
        "colab": {
          "base_uri": "https://localhost:8080/",
          "height": 188
        },
        "outputId": "6c1e1045-39ea-4fe6-8e05-538c7bcbdcc9"
      },
      "outputs": [
        {
          "output_type": "error",
          "ename": "TypeError",
          "evalue": "ignored",
          "traceback": [
            "\u001b[0;31m---------------------------------------------------------------------------\u001b[0m",
            "\u001b[0;31mTypeError\u001b[0m                                 Traceback (most recent call last)",
            "\u001b[0;32m<ipython-input-149-4cee8c0deeea>\u001b[0m in \u001b[0;36m<module>\u001b[0;34m()\u001b[0m\n\u001b[1;32m      1\u001b[0m \u001b[0mnumber\u001b[0m \u001b[0;34m=\u001b[0m \u001b[0;36m23\u001b[0m\u001b[0;34m\u001b[0m\u001b[0;34m\u001b[0m\u001b[0m\n\u001b[0;32m----> 2\u001b[0;31m \u001b[0mprint\u001b[0m\u001b[0;34m(\u001b[0m\u001b[0;34m\"My favorite number is \"\u001b[0m \u001b[0;34m+\u001b[0m \u001b[0mnumber\u001b[0m \u001b[0;34m+\u001b[0m \u001b[0;34m\".\"\u001b[0m\u001b[0;34m)\u001b[0m\u001b[0;34m\u001b[0m\u001b[0;34m\u001b[0m\u001b[0m\n\u001b[0m",
            "\u001b[0;31mTypeError\u001b[0m: can only concatenate str (not \"int\") to str"
          ]
        }
      ],
      "source": [
        "number = 23\n",
        "print(\"My favorite number is \" + number + \".\")"
      ]
    },
    {
      "cell_type": "markdown",
      "metadata": {
        "id": "lgjsidS7WZlI"
      },
      "source": [
        "Python knows that you could be talking about the value 23, or the characters '23'. So it throws an error, forcing us to clarify that we want Python to treat the number as a string. We do this by *casting* the number into a string using the *str()* function:"
      ]
    },
    {
      "cell_type": "code",
      "execution_count": null,
      "metadata": {
        "id": "MTydyX2ZWZlJ",
        "colab": {
          "base_uri": "https://localhost:8080/"
        },
        "outputId": "5fe3ecba-bd29-40b9-f4a2-b9e5b03c0d9f"
      },
      "outputs": [
        {
          "output_type": "stream",
          "name": "stdout",
          "text": [
            "My favorite number is 23.\n"
          ]
        }
      ],
      "source": [
        "\n",
        "number = 23\n",
        "print(\"My favorite number is \" + str(number) + \".\")"
      ]
    },
    {
      "cell_type": "markdown",
      "metadata": {
        "id": "0ltjABkBWZlP"
      },
      "source": [
        "The format string \"%d\" takes care of this for us. Watch how clean this code is:"
      ]
    },
    {
      "cell_type": "code",
      "execution_count": null,
      "metadata": {
        "id": "422KIHaAWZlQ",
        "colab": {
          "base_uri": "https://localhost:8080/"
        },
        "outputId": "72f586f2-15d4-4027-b8fb-385d1a94a93b"
      },
      "outputs": [
        {
          "output_type": "stream",
          "name": "stdout",
          "text": [
            "My favorite number is 23.\n"
          ]
        }
      ],
      "source": [
        "\n",
        "number = 23\n",
        "print(\"My favorite number is %d.\" % number)"
      ]
    },
    {
      "cell_type": "code",
      "execution_count": null,
      "metadata": {
        "id": "pOGwDTyFWZlQ",
        "outputId": "c459dc8f-5ff9-49ce-9d69-11b647eeba73",
        "colab": {
          "base_uri": "https://localhost:8080/"
        }
      },
      "outputs": [
        {
          "output_type": "stream",
          "name": "stdout",
          "text": [
            "My favorite number is 23.010000.\n"
          ]
        }
      ],
      "source": [
        "\n",
        "float_number = 23.01\n",
        "print(\"My favorite number is %f.\" % float_number) #example of a float"
      ]
    },
    {
      "cell_type": "markdown",
      "metadata": {
        "id": "2fHOb14NWZlS"
      },
      "source": [
        "If you want to use a series of numbers, you pack them into a tuple just like we saw with strings:"
      ]
    },
    {
      "cell_type": "code",
      "execution_count": null,
      "metadata": {
        "id": "cZbqXN_3WZlU",
        "outputId": "da44a717-4134-4de4-be59-205593598fb4",
        "colab": {
          "base_uri": "https://localhost:8080/"
        }
      },
      "outputs": [
        {
          "output_type": "stream",
          "name": "stdout",
          "text": [
            "My favorite numbers are 7, 23, and 42.\n"
          ]
        }
      ],
      "source": [
        "numbers = (7, 23, 42)\n",
        "print(\"My favorite numbers are %d, %d, and %d.\" % (numbers[0], numbers[1], numbers[2]))"
      ]
    },
    {
      "cell_type": "markdown",
      "metadata": {
        "id": "lOpd7wWTWZlU"
      },
      "source": [
        "Just for clarification, look at how much longer the code is if you use concatenation instead of string formatting:"
      ]
    },
    {
      "cell_type": "code",
      "execution_count": null,
      "metadata": {
        "id": "DUkRwc8TWZlV",
        "outputId": "4bef5885-76d0-4e13-9926-8954dde69439",
        "colab": {
          "base_uri": "https://localhost:8080/"
        }
      },
      "outputs": [
        {
          "output_type": "stream",
          "name": "stdout",
          "text": [
            "My favorite numbers are 7, 23, and 42.\n"
          ]
        }
      ],
      "source": [
        "\n",
        "numbers = (7, 23, 42)\n",
        "print(\"My favorite numbers are \" + str(numbers[0]) + \", \" + str(numbers[1]) + \", and \" + str(numbers[2]) + \".\")"
      ]
    },
    {
      "cell_type": "markdown",
      "metadata": {
        "id": "bWud-OfXWZlW"
      },
      "source": [
        "You can mix string and numerical placeholders in any order you want."
      ]
    },
    {
      "cell_type": "code",
      "execution_count": null,
      "metadata": {
        "id": "I6kyTXrmWZlX",
        "outputId": "3d6618a1-503e-4fd6-ba4a-46dee665d041"
      },
      "outputs": [
        {
          "name": "stdout",
          "output_type": "stream",
          "text": [
            "Jericho's favorite number is 23, and Alfred's favorite number is 2.\n"
          ]
        }
      ],
      "source": [
        "names = ('jericho', 'alfred')\n",
        "numbers = (23, 2)\n",
        "print(\"%s's favorite number is %d, and %s's favorite number is %d.\" % (names[0].title(), numbers[0], names[1].title(), numbers[1]))"
      ]
    },
    {
      "cell_type": "markdown",
      "metadata": {
        "id": "lp3IX9UmWZlY"
      },
      "source": [
        "There are more sophisticated ways to do string formatting in Python 3, but we will save that for later because it's a bit less intuitive than this approach. For now, you can use whichever approach consistently gets you the output that you want to see."
      ]
    }
  ],
  "metadata": {
    "kernelspec": {
      "display_name": "Python 3",
      "language": "python",
      "name": "python3"
    },
    "language_info": {
      "codemirror_mode": {
        "name": "ipython",
        "version": 3
      },
      "file_extension": ".py",
      "mimetype": "text/x-python",
      "name": "python",
      "nbconvert_exporter": "python",
      "pygments_lexer": "ipython3",
      "version": "3.8.3"
    },
    "colab": {
      "name": "python_1.ipynb",
      "provenance": [],
      "collapsed_sections": [
        "X2WRdO3bWZkx"
      ],
      "include_colab_link": true
    }
  },
  "nbformat": 4,
  "nbformat_minor": 0
}