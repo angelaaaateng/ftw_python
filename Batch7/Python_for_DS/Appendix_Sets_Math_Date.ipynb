{
  "cells": [
    {
      "cell_type": "markdown",
      "metadata": {
        "id": "view-in-github",
        "colab_type": "text"
      },
      "source": [
        "<a href=\"https://colab.research.google.com/github/angelaaaateng/ftw_python/blob/main/Appendix_Sets_Math_Date.ipynb\" target=\"_parent\"><img src=\"https://colab.research.google.com/assets/colab-badge.svg\" alt=\"Open In Colab\"/></a>"
      ]
    },
    {
      "cell_type": "markdown",
      "metadata": {
        "id": "I_mKcLuwny8v"
      },
      "source": [
        "Here, we'll briefly talk about some modules that are not normally used but would be very useful on some unique situations"
      ]
    },
    {
      "cell_type": "markdown",
      "metadata": {
        "id": "_ultoa3pny8y"
      },
      "source": [
        "# Set\n",
        "\n",
        "A set is a collection which is unordered and unindexed. In Python, sets are written with curly brackets."
      ]
    },
    {
      "cell_type": "code",
      "execution_count": 1,
      "metadata": {
        "id": "Tub2YlpZny8z",
        "outputId": "25b7d98d-1850-4428-bb42-90d632dc5104",
        "colab": {
          "base_uri": "https://localhost:8080/"
        }
      },
      "outputs": [
        {
          "output_type": "stream",
          "name": "stdout",
          "text": [
            "{'banana', 'cherry', 'apple'}\n"
          ]
        }
      ],
      "source": [
        "# Create a Set:\n",
        "\n",
        "thisset = {\"apple\", \"banana\", \"cherry\"}\n",
        "print(thisset)"
      ]
    },
    {
      "cell_type": "markdown",
      "metadata": {
        "id": "bIkj7mosny80"
      },
      "source": [
        "# Access Items\n",
        "You cannot access items in a set by referring to an index or a key.\n",
        "\n",
        "But you can loop through the set items using a for loop, or ask if a specified value is present in a set, by using the in keyword."
      ]
    },
    {
      "cell_type": "code",
      "execution_count": 2,
      "metadata": {
        "id": "iTqyB70kny81",
        "outputId": "77912178-1cbb-4bcc-9007-eb2d0824a429",
        "colab": {
          "base_uri": "https://localhost:8080/"
        }
      },
      "outputs": [
        {
          "output_type": "stream",
          "name": "stdout",
          "text": [
            "banana\n",
            "cherry\n",
            "apple\n"
          ]
        }
      ],
      "source": [
        "# Loop through the set, and print the values:\n",
        "\n",
        "thisset = {\"apple\", \"banana\", \"cherry\"}\n",
        "\n",
        "for x in thisset:\n",
        "  print(x)"
      ]
    },
    {
      "cell_type": "code",
      "execution_count": 3,
      "metadata": {
        "id": "tSqbW0iIny81",
        "outputId": "fdccc5be-d444-429a-b0ef-83d820c67fbe",
        "colab": {
          "base_uri": "https://localhost:8080/"
        }
      },
      "outputs": [
        {
          "output_type": "stream",
          "name": "stdout",
          "text": [
            "True\n"
          ]
        }
      ],
      "source": [
        "# Check if \"banana\" is present in the set:\n",
        "\n",
        "thisset = {\"apple\", \"banana\", \"cherry\"}\n",
        "\n",
        "print(\"banana\" in thisset)"
      ]
    },
    {
      "cell_type": "markdown",
      "metadata": {
        "id": "n4cAzPJbny82"
      },
      "source": [
        "# Change Items\n",
        "\n",
        "Once a set is created, you cannot change its items, but you can add new items. Think of accessing the item/data via its index"
      ]
    },
    {
      "cell_type": "markdown",
      "metadata": {
        "id": "BXhznaWkny82"
      },
      "source": [
        "# Add Items\n",
        "To add one item to a set use the add() method.\n",
        "\n",
        "To add more than one item to a set use the update() method."
      ]
    },
    {
      "cell_type": "code",
      "execution_count": 5,
      "metadata": {
        "id": "PmZcNyETny83",
        "outputId": "49e7bac7-268d-4acd-b071-6aea25cea293",
        "colab": {
          "base_uri": "https://localhost:8080/"
        }
      },
      "outputs": [
        {
          "output_type": "stream",
          "name": "stdout",
          "text": [
            "{'banana', 'cherry', 'apple', 'orange'}\n"
          ]
        }
      ],
      "source": [
        "#Add an item to a set, using the add() method:\n",
        "\n",
        "thisset = {\"apple\", \"banana\", \"cherry\"}\n",
        "\n",
        "thisset.add(\"orange\")\n",
        "\n",
        "print(thisset)"
      ]
    },
    {
      "cell_type": "code",
      "execution_count": 6,
      "metadata": {
        "id": "M70it2Txny84",
        "outputId": "f2eabd82-19dd-4701-bdb5-f2f72b2675bd",
        "colab": {
          "base_uri": "https://localhost:8080/"
        }
      },
      "outputs": [
        {
          "output_type": "stream",
          "name": "stdout",
          "text": [
            "{'banana', 'orange', 'grapes', 'mango', 'cherry', 'apple'}\n"
          ]
        }
      ],
      "source": [
        "#Add multiple items to a set, using the update() method:\n",
        "\n",
        "thisset = {\"apple\", \"banana\", \"cherry\"}\n",
        "\n",
        "thisset.update([\"orange\", \"mango\", \"grapes\"])\n",
        "\n",
        "print(thisset)"
      ]
    },
    {
      "cell_type": "markdown",
      "metadata": {
        "id": "S-aBA9I3ny85"
      },
      "source": [
        "# Get the Length of a Set\n",
        "To determine how many items a set has, use the len() method."
      ]
    },
    {
      "cell_type": "code",
      "execution_count": 7,
      "metadata": {
        "id": "FBJti87Jny85",
        "outputId": "aad93cee-8577-4615-f3f7-a27e20fe731b",
        "colab": {
          "base_uri": "https://localhost:8080/"
        }
      },
      "outputs": [
        {
          "output_type": "stream",
          "name": "stdout",
          "text": [
            "3\n"
          ]
        }
      ],
      "source": [
        "#Get the number of items in a set:\n",
        "\n",
        "thisset = {\"apple\", \"banana\", \"cherry\"}\n",
        "\n",
        "print(len(thisset))"
      ]
    },
    {
      "cell_type": "markdown",
      "metadata": {
        "id": "E6scA0k2ny85"
      },
      "source": [
        "# Remove Item\n",
        "To remove an item in a set, use the remove(), or the discard() method."
      ]
    },
    {
      "cell_type": "code",
      "execution_count": 8,
      "metadata": {
        "id": "oIIhlg2Ony86",
        "outputId": "c4d91dd5-6dcc-477b-c8ce-f82c8eeeeed5",
        "colab": {
          "base_uri": "https://localhost:8080/"
        }
      },
      "outputs": [
        {
          "output_type": "stream",
          "name": "stdout",
          "text": [
            "{'cherry', 'apple'}\n"
          ]
        }
      ],
      "source": [
        "#Remove \"banana\" by using the remove() method:\n",
        "\n",
        "thisset = {\"apple\", \"banana\", \"cherry\"}\n",
        "\n",
        "thisset.remove(\"banana\")\n",
        "\n",
        "print(thisset)"
      ]
    },
    {
      "cell_type": "code",
      "execution_count": 9,
      "metadata": {
        "id": "CnNlSy_xny86",
        "outputId": "ef558e99-4f98-4e06-af5e-b5c7550c4e57",
        "colab": {
          "base_uri": "https://localhost:8080/"
        }
      },
      "outputs": [
        {
          "output_type": "stream",
          "name": "stdout",
          "text": [
            "{'cherry', 'apple'}\n"
          ]
        }
      ],
      "source": [
        "#Remove \"banana\" by using the discard() method:\n",
        "\n",
        "thisset = {\"apple\", \"banana\", \"cherry\"}\n",
        "\n",
        "thisset.discard(\"banana\")\n",
        "\n",
        "print(thisset)"
      ]
    },
    {
      "cell_type": "markdown",
      "metadata": {
        "id": "je7sodsyny87"
      },
      "source": [
        "* If the item to remove does not exist, remove() will raise an error.\n",
        "* If the item to remove does not exist, discard() will NOT raise an error."
      ]
    },
    {
      "cell_type": "markdown",
      "metadata": {
        "id": "X6JFrdu8ny87"
      },
      "source": [
        "You can also use the pop(), method to remove an item, but this method will remove the last item. **Remember that sets are unordered, so you will not know what item that gets removed.**\n",
        "\n",
        "The return value of the pop() method is the removed item."
      ]
    },
    {
      "cell_type": "code",
      "execution_count": 10,
      "metadata": {
        "id": "sE0XPAaHny88",
        "outputId": "a303ff0b-f7fb-443e-f021-121765446dbd",
        "colab": {
          "base_uri": "https://localhost:8080/"
        }
      },
      "outputs": [
        {
          "output_type": "stream",
          "name": "stdout",
          "text": [
            "banana\n",
            "{'cherry', 'apple'}\n"
          ]
        }
      ],
      "source": [
        "#Remove the last item by using the pop() method:\n",
        "\n",
        "thisset = {\"apple\", \"banana\", \"cherry\"}\n",
        "\n",
        "x = thisset.pop()\n",
        "\n",
        "print(x)\n",
        "\n",
        "print(thisset)"
      ]
    },
    {
      "cell_type": "code",
      "execution_count": 11,
      "metadata": {
        "id": "w6cUnqujny88",
        "outputId": "62dee56c-f657-4530-cec9-c395c994bc04",
        "colab": {
          "base_uri": "https://localhost:8080/",
          "height": 201
        }
      },
      "outputs": [
        {
          "output_type": "error",
          "ename": "NameError",
          "evalue": "ignored",
          "traceback": [
            "\u001b[0;31m---------------------------------------------------------------------------\u001b[0m",
            "\u001b[0;31mNameError\u001b[0m                                 Traceback (most recent call last)",
            "\u001b[0;32m<ipython-input-11-3bd3115f2ab0>\u001b[0m in \u001b[0;36m<module>\u001b[0;34m()\u001b[0m\n\u001b[1;32m      5\u001b[0m \u001b[0;32mdel\u001b[0m \u001b[0mthisset\u001b[0m\u001b[0;34m\u001b[0m\u001b[0;34m\u001b[0m\u001b[0m\n\u001b[1;32m      6\u001b[0m \u001b[0;34m\u001b[0m\u001b[0m\n\u001b[0;32m----> 7\u001b[0;31m \u001b[0mprint\u001b[0m\u001b[0;34m(\u001b[0m\u001b[0mthisset\u001b[0m\u001b[0;34m)\u001b[0m\u001b[0;34m\u001b[0m\u001b[0;34m\u001b[0m\u001b[0m\n\u001b[0m",
            "\u001b[0;31mNameError\u001b[0m: name 'thisset' is not defined"
          ]
        }
      ],
      "source": [
        "#The del keyword will delete the set completely:\n",
        "\n",
        "thisset = {\"apple\", \"banana\", \"cherry\"}\n",
        "\n",
        "del thisset\n",
        "\n",
        "print(thisset)"
      ]
    },
    {
      "cell_type": "markdown",
      "metadata": {
        "id": "xO-qXwPgny89"
      },
      "source": [
        "# Join Two Sets\n",
        "There are several ways to join two or more sets in Python.\n",
        "\n",
        "You can use the union() method that returns a new set containing all items from both sets, or the update() method that inserts all the items from one set into another:"
      ]
    },
    {
      "cell_type": "code",
      "execution_count": 13,
      "metadata": {
        "id": "B8dzmHTzny89",
        "colab": {
          "base_uri": "https://localhost:8080/"
        },
        "outputId": "4f6731f1-a0d1-4e5b-a5fe-3f2ac6f54a69"
      },
      "outputs": [
        {
          "output_type": "stream",
          "name": "stdout",
          "text": [
            "{'c', 1, 2, 3, 'b', 'a'}\n"
          ]
        }
      ],
      "source": [
        "#The union() method returns a new set with all items from both sets:\n",
        "\n",
        "set1 = {\"a\", \"b\" , \"c\"}\n",
        "set2 = {1, 2, 3}\n",
        "\n",
        "set3 = set1.union(set2)\n",
        "print(set3)"
      ]
    },
    {
      "cell_type": "code",
      "execution_count": 14,
      "metadata": {
        "id": "YVw66YR_ny89",
        "colab": {
          "base_uri": "https://localhost:8080/"
        },
        "outputId": "b5f9887b-b541-4ad2-c695-1c6997d48e83"
      },
      "outputs": [
        {
          "output_type": "stream",
          "name": "stdout",
          "text": [
            "{'c', 1, 2, 3, 'b', 'a'}\n"
          ]
        }
      ],
      "source": [
        "#The update() method inserts the items in set2 into set1:\n",
        "\n",
        "set1 = {\"a\", \"b\" , \"c\"}\n",
        "set2 = {1, 2, 3}\n",
        "\n",
        "set1.update(set2)\n",
        "print(set1)\n",
        "\n",
        "# Note: Both union() and update() will exclude any duplicate items."
      ]
    },
    {
      "cell_type": "markdown",
      "metadata": {
        "id": "qtc5xGf0ny8-"
      },
      "source": [
        "# The set() Constructor\n",
        "It is also possible to use the set() constructor to make a set."
      ]
    },
    {
      "cell_type": "code",
      "execution_count": 15,
      "metadata": {
        "id": "9O_wrAHEny8-",
        "colab": {
          "base_uri": "https://localhost:8080/"
        },
        "outputId": "0ce6b7cf-fdaf-4d3b-bfda-a9ad27e0bee3"
      },
      "outputs": [
        {
          "output_type": "stream",
          "name": "stdout",
          "text": [
            "{'banana', 'cherry', 'apple'}\n"
          ]
        }
      ],
      "source": [
        "#Using the set() constructor to make a set:\n",
        "\n",
        "thisset = set((\"apple\", \"banana\", \"cherry\")) # note the double round-brackets\n",
        "print(thisset)"
      ]
    },
    {
      "cell_type": "markdown",
      "metadata": {
        "id": "q4r3gc9rny8_"
      },
      "source": [
        "### What are other Set operations out there? ie. If you have union, you also have..."
      ]
    },
    {
      "cell_type": "markdown",
      "metadata": {
        "id": "9NRIx-xDny8_"
      },
      "source": [
        "# The Math Module\n",
        "Python has also a built-in module called math, which extends the list of mathematical functions.\n",
        "\n",
        "To use it, you must import the math module.\n",
        "\n",
        "When you have imported the math module, you can start using methods and constants of the module.\n",
        "\n",
        "The math.sqrt() method for example, returns the square root of a number:"
      ]
    },
    {
      "cell_type": "code",
      "execution_count": 17,
      "metadata": {
        "id": "yyf879Vbny9B",
        "colab": {
          "base_uri": "https://localhost:8080/"
        },
        "outputId": "53891821-6892-41c8-b241-4a0e219dc31f"
      },
      "outputs": [
        {
          "output_type": "stream",
          "name": "stdout",
          "text": [
            "8.0\n"
          ]
        }
      ],
      "source": [
        "import math\n",
        "\n",
        "x = math.sqrt(64)\n",
        "\n",
        "print(x)"
      ]
    },
    {
      "cell_type": "markdown",
      "metadata": {
        "id": "quEbleq-ny9B"
      },
      "source": [
        "The math.ceil() method rounds a number upwards to its nearest integer, and the math.floor() method rounds a number downwards to its nearest integer, and returns the result:"
      ]
    },
    {
      "cell_type": "code",
      "execution_count": 18,
      "metadata": {
        "id": "yGtbSODBny9B",
        "colab": {
          "base_uri": "https://localhost:8080/"
        },
        "outputId": "f301ceb5-bfeb-4f03-a875-2c437214752a"
      },
      "outputs": [
        {
          "output_type": "stream",
          "name": "stdout",
          "text": [
            "2\n",
            "1\n"
          ]
        }
      ],
      "source": [
        "import math\n",
        "\n",
        "x = math.ceil(1.4)\n",
        "y = math.floor(1.4)\n",
        "\n",
        "print(x) # returns 2\n",
        "print(y) # returns 1"
      ]
    },
    {
      "cell_type": "markdown",
      "metadata": {
        "id": "OT8bmkwany9C"
      },
      "source": [
        "The math.pi constant, returns the value of PI (3.14...):"
      ]
    },
    {
      "cell_type": "code",
      "execution_count": 19,
      "metadata": {
        "id": "8UQBIVnAny9C",
        "colab": {
          "base_uri": "https://localhost:8080/"
        },
        "outputId": "99c7c641-adae-4bc3-fbb2-0b421c98af83"
      },
      "outputs": [
        {
          "output_type": "stream",
          "name": "stdout",
          "text": [
            "3.141592653589793\n"
          ]
        }
      ],
      "source": [
        "import math\n",
        "\n",
        "x = math.pi\n",
        "\n",
        "print(x)"
      ]
    },
    {
      "cell_type": "markdown",
      "metadata": {
        "id": "gNM5Ekkkny9C"
      },
      "source": [
        "### What are other Math operations available in the Math module? who knows... \n",
        "CLUE: GOOGLE PYTHON MATH MODULE"
      ]
    },
    {
      "cell_type": "markdown",
      "metadata": {
        "id": "_A23wUjNny9D"
      },
      "source": [
        "# Dates\n",
        "A date in Python is not a data type of its own, but we can import a module named datetime to work with dates as date objects."
      ]
    },
    {
      "cell_type": "code",
      "execution_count": 25,
      "metadata": {
        "id": "-5fU4dkiny9D",
        "colab": {
          "base_uri": "https://localhost:8080/"
        },
        "outputId": "1808d878-d1f0-4a9a-8bca-b292021d81ff"
      },
      "outputs": [
        {
          "output_type": "stream",
          "name": "stdout",
          "text": [
            "2022-07-02 02:48:48.098354\n"
          ]
        }
      ],
      "source": [
        "#Import the datetime module and display the current date:\n",
        "\n",
        "import datetime\n",
        "\n",
        "x = datetime.datetime.now()\n",
        "print(x)"
      ]
    },
    {
      "cell_type": "code",
      "execution_count": 27,
      "metadata": {
        "id": "tEiMysmOny9D",
        "colab": {
          "base_uri": "https://localhost:8080/"
        },
        "outputId": "05025d06-0830-4535-d32e-23110e046ac5"
      },
      "outputs": [
        {
          "output_type": "execute_result",
          "data": {
            "text/plain": [
              "2022"
            ]
          },
          "metadata": {},
          "execution_count": 27
        }
      ],
      "source": [
        "x.year"
      ]
    },
    {
      "cell_type": "code",
      "execution_count": 28,
      "metadata": {
        "id": "x41dD_FIny9D",
        "colab": {
          "base_uri": "https://localhost:8080/"
        },
        "outputId": "fa825b55-cee7-472b-8e12-530c023f7551"
      },
      "outputs": [
        {
          "output_type": "execute_result",
          "data": {
            "text/plain": [
              "7"
            ]
          },
          "metadata": {},
          "execution_count": 28
        }
      ],
      "source": [
        "x.month"
      ]
    },
    {
      "cell_type": "code",
      "execution_count": 29,
      "metadata": {
        "id": "EayrdQERny9E",
        "colab": {
          "base_uri": "https://localhost:8080/"
        },
        "outputId": "ba50b9e9-1726-47e9-f2bd-7722fb5580d3"
      },
      "outputs": [
        {
          "output_type": "execute_result",
          "data": {
            "text/plain": [
              "2"
            ]
          },
          "metadata": {},
          "execution_count": 29
        }
      ],
      "source": [
        "x.day"
      ]
    },
    {
      "cell_type": "code",
      "execution_count": 31,
      "metadata": {
        "id": "twP5EJBdny9E",
        "colab": {
          "base_uri": "https://localhost:8080/"
        },
        "outputId": "a66131c7-34bc-4d39-87cc-420d19a30d8e"
      },
      "outputs": [
        {
          "output_type": "execute_result",
          "data": {
            "text/plain": [
              "2"
            ]
          },
          "metadata": {},
          "execution_count": 31
        }
      ],
      "source": [
        "x.hour"
      ]
    },
    {
      "cell_type": "code",
      "execution_count": 32,
      "metadata": {
        "id": "V4OlgIK_ny9E",
        "colab": {
          "base_uri": "https://localhost:8080/"
        },
        "outputId": "7b713712-0bbb-4b48-b870-cc7b6d26b257"
      },
      "outputs": [
        {
          "output_type": "execute_result",
          "data": {
            "text/plain": [
              "48"
            ]
          },
          "metadata": {},
          "execution_count": 32
        }
      ],
      "source": [
        "x.minute"
      ]
    },
    {
      "cell_type": "code",
      "execution_count": 33,
      "metadata": {
        "id": "Vz6uReZ0ny9E",
        "colab": {
          "base_uri": "https://localhost:8080/"
        },
        "outputId": "1171202a-f9cc-4340-a420-b34ba67808fb"
      },
      "outputs": [
        {
          "output_type": "execute_result",
          "data": {
            "text/plain": [
              "48"
            ]
          },
          "metadata": {},
          "execution_count": 33
        }
      ],
      "source": [
        "x.second"
      ]
    },
    {
      "cell_type": "markdown",
      "metadata": {
        "id": "jb855eSsny9F"
      },
      "source": [
        "# Date Output\n",
        "When we execute the code from the example above the result will be:\n",
        "\n",
        "2020-09-19 20:24:29.012087\n",
        "The date contains year, month, day, hour, minute, second, and microsecond.\n",
        "\n",
        "The datetime module has many methods to return information about the date object.\n",
        "\n",
        "Here are a few examples, you will learn more about them later in this chapter:"
      ]
    },
    {
      "cell_type": "code",
      "execution_count": 34,
      "metadata": {
        "id": "C0ho81VVny9F",
        "colab": {
          "base_uri": "https://localhost:8080/"
        },
        "outputId": "755d3846-0e53-45ba-d6bd-956916bbb965"
      },
      "outputs": [
        {
          "output_type": "stream",
          "name": "stdout",
          "text": [
            "2022\n",
            "Saturday\n"
          ]
        }
      ],
      "source": [
        "# Return the year and name of weekday:\n",
        "\n",
        "import datetime\n",
        "\n",
        "x = datetime.datetime.now()\n",
        "\n",
        "print(x.year)\n",
        "print(x.strftime(\"%A\"))"
      ]
    },
    {
      "cell_type": "markdown",
      "metadata": {
        "id": "OgW-hFDBny9F"
      },
      "source": [
        "# Creating Date Objects\n",
        "To create a date, we can use the datetime() class (constructor) of the datetime module.\n",
        "\n",
        "The datetime() class requires three parameters to create a date: year, month, day."
      ]
    },
    {
      "cell_type": "code",
      "execution_count": 36,
      "metadata": {
        "id": "lLVwiqScny9F",
        "colab": {
          "base_uri": "https://localhost:8080/"
        },
        "outputId": "18981ff1-a926-4457-976f-832c54806276"
      },
      "outputs": [
        {
          "output_type": "stream",
          "name": "stdout",
          "text": [
            "2020-05-17 00:00:00\n"
          ]
        }
      ],
      "source": [
        "#Create a date object:\n",
        "\n",
        "import datetime\n",
        "\n",
        "x = datetime.datetime(2020, 5, 17)\n",
        "\n",
        "print(x)"
      ]
    },
    {
      "cell_type": "markdown",
      "metadata": {
        "id": "iqBgq2liny9G"
      },
      "source": [
        "The datetime() class also takes parameters for time and timezone (hour, minute, second, microsecond, tzone), but they are optional, and has a default value of 0, (None for timezone)."
      ]
    },
    {
      "cell_type": "markdown",
      "metadata": {
        "id": "U-rR6t5dny9G"
      },
      "source": [
        "# The strftime() Method\n",
        "The datetime object has a method for formatting date objects into readable strings.\n",
        "\n",
        "The method is called strftime(), and takes one parameter, format, to specify the format of the returned string:"
      ]
    },
    {
      "cell_type": "code",
      "execution_count": 38,
      "metadata": {
        "id": "vSb7pjdany9G",
        "colab": {
          "base_uri": "https://localhost:8080/"
        },
        "outputId": "b12bb0e2-d745-45b5-be68-677d5d3c2c93"
      },
      "outputs": [
        {
          "output_type": "stream",
          "name": "stdout",
          "text": [
            "June\n"
          ]
        }
      ],
      "source": [
        "import datetime\n",
        "\n",
        "x = datetime.datetime(2018, 6, 1)\n",
        "\n",
        "print(x.strftime(\"%B\"))"
      ]
    },
    {
      "cell_type": "markdown",
      "metadata": {
        "id": "JQyFAyiwny9H"
      },
      "source": [
        "You can find out more formats you can try to generate for datetime in https://strftime.org/"
      ]
    },
    {
      "cell_type": "markdown",
      "metadata": {
        "id": "W5jg1akvny9H"
      },
      "source": [
        "# What if we want to extract date information from a string?"
      ]
    },
    {
      "cell_type": "code",
      "execution_count": 40,
      "metadata": {
        "id": "wwk1jSpdny9H",
        "colab": {
          "base_uri": "https://localhost:8080/"
        },
        "outputId": "411e04c0-6502-4743-c093-c82c37c270d3"
      },
      "outputs": [
        {
          "output_type": "stream",
          "name": "stdout",
          "text": [
            "Date: 2018-06-29\n",
            "Time: 08:15:27.243860\n",
            "Date-time: 2018-06-29 08:15:27.243860\n"
          ]
        }
      ],
      "source": [
        "# Using the same format syntax, you can setup a template to 'parse' the string to date object\n",
        "\n",
        "import datetime\n",
        "\n",
        "date_time_str = '2018-06-29 08:15:27.243860'\n",
        "date_time_obj = datetime.datetime.strptime(date_time_str, '%Y-%m-%d %H:%M:%S.%f')\n",
        "\n",
        "print('Date:', date_time_obj.date())\n",
        "print('Time:', date_time_obj.time())\n",
        "print('Date-time:', date_time_obj)"
      ]
    },
    {
      "cell_type": "code",
      "source": [
        "\n",
        "from datetime import datetime\n",
        "\n",
        "date_string = \"21 June, 2018\"\n",
        "\n",
        "print(\"date_string =\", date_string)\n",
        "print(\"type of date_string =\", type(date_string))\n",
        "\n",
        "date_object = datetime.strptime(date_string, \"%d %B, %Y\")\n",
        "\n",
        "print(\"date_object =\", date_object)\n",
        "print(\"type of date_object =\", type(date_object))"
      ],
      "metadata": {
        "colab": {
          "base_uri": "https://localhost:8080/"
        },
        "id": "lw6zU66S1Cni",
        "outputId": "6a42330b-28a9-48bd-82e6-55ff8d3a8fe0"
      },
      "execution_count": 41,
      "outputs": [
        {
          "output_type": "stream",
          "name": "stdout",
          "text": [
            "date_string = 21 June, 2018\n",
            "type of date_string = <class 'str'>\n",
            "date_object = 2018-06-21 00:00:00\n",
            "type of date_object = <class 'datetime.datetime'>\n"
          ]
        }
      ]
    },
    {
      "cell_type": "markdown",
      "metadata": {
        "id": "uxshqRslny9H"
      },
      "source": [
        "# Lambda Functions"
      ]
    },
    {
      "cell_type": "markdown",
      "metadata": {
        "id": "1H19V0Z0ny9I"
      },
      "source": [
        "A lambda function is a small anonymous function.\n",
        "\n",
        "A lambda function can take any number of arguments, but can only have one expression.\n",
        "\n",
        "## Syntax\n",
        "    lambda arguments : expression"
      ]
    },
    {
      "cell_type": "code",
      "execution_count": 42,
      "metadata": {
        "id": "JXjyS7AVny9J",
        "outputId": "439c4d0c-3eba-4148-ab1f-e6f96d20f607",
        "colab": {
          "base_uri": "https://localhost:8080/"
        }
      },
      "outputs": [
        {
          "output_type": "stream",
          "name": "stdout",
          "text": [
            "15\n"
          ]
        }
      ],
      "source": [
        "# Example\n",
        "# A lambda function that adds 10 to the number passed in as an argument, and print the result:\n",
        "\n",
        "x = lambda a : a + 10\n",
        "\n",
        "print(x(5))"
      ]
    },
    {
      "cell_type": "code",
      "execution_count": 43,
      "metadata": {
        "id": "kNehgkZ1ny9J",
        "outputId": "30dc5bd3-f0dd-4b64-e209-398579c35900",
        "colab": {
          "base_uri": "https://localhost:8080/"
        }
      },
      "outputs": [
        {
          "output_type": "stream",
          "name": "stdout",
          "text": [
            "30\n"
          ]
        }
      ],
      "source": [
        "# A lambda function that multiplies argument a with argument b and print the result:\n",
        "\n",
        "x = lambda a, b : a * b\n",
        "print(x(5, 6))"
      ]
    },
    {
      "cell_type": "code",
      "execution_count": 44,
      "metadata": {
        "id": "6pd9bgbJny9J",
        "outputId": "d74ae0db-687b-40dc-8f1f-c612cd907103",
        "colab": {
          "base_uri": "https://localhost:8080/"
        }
      },
      "outputs": [
        {
          "output_type": "stream",
          "name": "stdout",
          "text": [
            "13\n"
          ]
        }
      ],
      "source": [
        "# A lambda function that sums argument a, b, and c and print the result:\n",
        "\n",
        "x = lambda a, b, c : a + b + c\n",
        "print(x(5, 6, 2))"
      ]
    },
    {
      "cell_type": "markdown",
      "metadata": {
        "id": "gnQM8r2Dny9J"
      },
      "source": [
        "## Why Use Lambda Functions?\n",
        "The power of lambda is better shown when you use them as an anonymous function inside another function.\n",
        "\n",
        "Say you have a function definition that takes one argument, and that argument will be multiplied with an unknown number:"
      ]
    },
    {
      "cell_type": "code",
      "execution_count": 45,
      "metadata": {
        "id": "7pagIe8_ny9K"
      },
      "outputs": [],
      "source": [
        "def myfunc(n):\n",
        "  return lambda a : a * n"
      ]
    },
    {
      "cell_type": "code",
      "execution_count": 46,
      "metadata": {
        "id": "mrjIg5-ony9K",
        "outputId": "8c0977ec-fc25-4afa-a535-de00c9a868bd",
        "colab": {
          "base_uri": "https://localhost:8080/"
        }
      },
      "outputs": [
        {
          "output_type": "stream",
          "name": "stdout",
          "text": [
            "22\n"
          ]
        }
      ],
      "source": [
        "# Use that function definition to make a function that always doubles the number you send in:\n",
        "    \n",
        "def myfunc(n):\n",
        "  return lambda a : a * n\n",
        "\n",
        "mydoubler = myfunc(2)\n",
        "\n",
        "print(mydoubler(11))"
      ]
    },
    {
      "cell_type": "code",
      "execution_count": 47,
      "metadata": {
        "id": "Bml9kgysny9K",
        "outputId": "339889ca-d28b-44e7-85c3-a1af7bc61168",
        "colab": {
          "base_uri": "https://localhost:8080/"
        }
      },
      "outputs": [
        {
          "output_type": "stream",
          "name": "stdout",
          "text": [
            "33\n"
          ]
        }
      ],
      "source": [
        "# Or, use the same function definition to make a function that always triples the number you send in:\n",
        "\n",
        "def myfunc(n):\n",
        "  return lambda a : a * n\n",
        "\n",
        "mytripler = myfunc(3)\n",
        "\n",
        "print(mytripler(11))"
      ]
    },
    {
      "cell_type": "code",
      "execution_count": 48,
      "metadata": {
        "id": "KIe1uAyDny9K",
        "outputId": "694e0a82-3b4a-46b8-80a8-84963305818c",
        "colab": {
          "base_uri": "https://localhost:8080/"
        }
      },
      "outputs": [
        {
          "output_type": "stream",
          "name": "stdout",
          "text": [
            "22\n",
            "33\n"
          ]
        }
      ],
      "source": [
        "# Or, use the same function definition to make both functions, in the same program:\n",
        "    \n",
        "def myfunc(n):\n",
        "  return lambda a : a * n\n",
        "\n",
        "mydoubler = myfunc(2)\n",
        "mytripler = myfunc(3)\n",
        "\n",
        "print(mydoubler(11))\n",
        "print(mytripler(11))"
      ]
    },
    {
      "cell_type": "markdown",
      "metadata": {
        "id": "SNgjUL2Zny9L"
      },
      "source": [
        "## What are other special applications of lambda functions?\n",
        "* Distributed Computing - no need to worry about algorithm changes being read from a single storage as all servers have their own copies of it and can adjust accordingly\n",
        "* Privacy and security - anonymously send algorithms in any machine, run it, not worry about the need to store a copy locally\n",
        "\n",
        "All in all don't stress over lambda functions as they are an advanced topic but it is good to have a good understanding in case you encounter them in the wild"
      ]
    }
  ],
  "metadata": {
    "kernelspec": {
      "display_name": "Python 3",
      "language": "python",
      "name": "python3"
    },
    "language_info": {
      "codemirror_mode": {
        "name": "ipython",
        "version": 3
      },
      "file_extension": ".py",
      "mimetype": "text/x-python",
      "name": "python",
      "nbconvert_exporter": "python",
      "pygments_lexer": "ipython3",
      "version": "3.8.3"
    },
    "colab": {
      "name": "Appendix_Sets_Math_Date.ipynb",
      "provenance": [],
      "collapsed_sections": [
        "q4r3gc9rny8_",
        "gNM5Ekkkny9C"
      ],
      "include_colab_link": true
    }
  },
  "nbformat": 4,
  "nbformat_minor": 0
}