{
  "nbformat": 4,
  "nbformat_minor": 0,
  "metadata": {
    "colab": {
      "name": "python_0.ipynb",
      "provenance": [],
      "collapsed_sections": [],
      "include_colab_link": true
    },
    "kernelspec": {
      "name": "python3",
      "display_name": "Python 3"
    },
    "language_info": {
      "name": "python"
    }
  },
  "cells": [
    {
      "cell_type": "markdown",
      "metadata": {
        "id": "view-in-github",
        "colab_type": "text"
      },
      "source": [
        "<a href=\"https://colab.research.google.com/github/angelaaaateng/ftw_python/blob/main/python_0.ipynb\" target=\"_parent\"><img src=\"https://colab.research.google.com/assets/colab-badge.svg\" alt=\"Open In Colab\"/></a>"
      ]
    },
    {
      "cell_type": "markdown",
      "source": [
        "# Introduction to Python \n",
        "## FTW Foundation\n",
        "June 25, 2022 - Day 1\n",
        "\n",
        "## Outine: \n",
        "---\n",
        "1. Hello, World\n",
        "2. Python Basics\n",
        "3. Variables\n",
        "  - 3.1 Strings \n",
        "  - 3.2 Integers \n",
        "  - 3.3 Floats \n",
        "- < break > \n",
        "4. Data Types \n",
        " - 4.1 Lists \n",
        " - 4.2 Tuples \n",
        " - 4.3 Dictionaries \n",
        "5. Functions \n",
        "6. If statements \n",
        "7. While loops\n",
        "A. Appendix\n",
        " - A.1 Variable Naming Conventions\n",
        " - A.2 The Zen of Python\n",
        "\n",
        "\n",
        "\n",
        "## References: \n",
        "---\n",
        "- <a href='https://ehmatthes.github.io/pcc/index.html'>Python Crash Course</a>"
      ],
      "metadata": {
        "id": "hyrGDXL5Qdvf"
      }
    },
    {
      "cell_type": "markdown",
      "source": [
        "# House Rules \n",
        "\n",
        "- Collaborative Learning :) \n",
        "  - Please treat this as a safe space to learn, make mistakes, ask questions, and grow during your programming journey. \n",
        "- Growth Mindset \n",
        "\n",
        "\n"
      ],
      "metadata": {
        "id": "wNENAcqhaMku"
      }
    },
    {
      "cell_type": "markdown",
      "source": [
        "# What is Python? \n",
        "- Python is a high-level, interpreted, general-purpose programming language. Its design philosophy emphasizes code readability with the use of significant indentation.\n",
        "- Interpreted\n",
        "- object-oriented\n",
        "- high-level programming language\n",
        "- dynamic semantics\n",
        "- Rapid Application Development\n",
        "- scripting or glue language to connect existing components \n",
        "- Simple & easy to read syntax reduces cost of maintenance\n",
        "- supports modules and packages encourages code reuse\n",
        "- interpreter and the extensive standard library are available in source or binary form without charge on major platforms\n",
        "\n"
      ],
      "metadata": {
        "id": "UDQbKItt79Wz"
      }
    },
    {
      "cell_type": "markdown",
      "source": [
        "# Python for Data Science\n",
        "\n",
        "- All languages can be used for Data Science. Each has their own Pros and Cons.\n",
        "- Python is a utility / general purpose language\n",
        "- Easy to learn\n",
        "- Community Support / Corporate Sponsors\n",
        "- Libraries and Frameworks\n",
        "- Open Source\n",
        "- Academics\n"
      ],
      "metadata": {
        "id": "-j3UHr5O8W26"
      }
    },
    {
      "cell_type": "markdown",
      "source": [
        "    \n",
        "# Exploring the Python Community\n",
        "\n",
        "The Python community is incredibly rich and diverse. Here are a couple resources to look at, if you want to do some exploring.\n",
        "\n",
        "- [The Python website](http://python.org/)\n",
        "\n",
        "    The main Python website is probably not of too much interest to you at this point, but it is a great resource to know about as you start to learn more.\n",
        "    \n",
        "<!-- -->\n",
        "\n",
        "- [PyCon](https://us.pycon.org/)\n",
        "\n",
        "    The Python Conference (PyCon) is an incredible event, and the community is entirely welcoming to new programmers. They happen all over the world, throughout the year. If you can make your way to one of these conferences, you will learn a great deal and meet some really interesting people.\n",
        "\n",
        "<!-- -->\n",
        "    \n",
        "- [PyLadies](http://www.pyladies.com/)\n",
        "\n",
        "    Women and minorities are still under-represented in most technology fields, and the programming world is no different in this regard. That said, the Python community may well be the most welcoming and supportive programming community for women and minorities. There are a number of groups dedicated to bringing women and minorities together around programming in Python, and there are a number of explicit Codes of Conduct for Python-related events.\n",
        "\n",
        "    PyLadies is one of the most visible of these organizations. They are a great resource, so go see what they do and what they have to offer.\n",
        "\n",
        "<!-- -->\n",
        "    \n",
        "- [Python User Groups](https://wiki.python.org/moin/LocalUserGroups)\n",
        "\n",
        "    Wherever there are a number of Python programmers, they will find a way to get together. Python user groups are regular meetings of Python users from a local area. Go take a look at the list of user groups, and see if there is one near you.\n",
        "    \n",
        "<!-- -->\n",
        "    \n",
        "- [Python PH](https://www.facebook.com/groups/pythonph/)\n",
        "\n",
        "    We are PythonPH, a community in the Philippines for enthusiasts and users of the Python programming language. Our aim is to show that Python has something for everyone: from hobbyists, to educators, to professionals. More info: http://python.ph/\n",
        "\n",
        "<!-- -->\n",
        "    \n",
        "- [StackOverflow PH](https://stackoverflow.com/questions/tagged/python)\n",
        "\n",
        "    Stack Overflow is a question and answer site for professional and enthusiast programmers. It's built and run by you as part of the Stack Exchange network of Q&A sites. With your help, we're working together to build a library of detailed answers to every question about programming.\n",
        "\n",
        "<!-- -->\n",
        "    \n",
        "- [Github Python](https://github.com/topics/python)\n",
        "\n",
        "     Github provides hosting for software development and version control using Git. It offers the distributed version control and source code management functionality of Git, plus its own features."
      ],
      "metadata": {
        "id": "Jcj284QiPLWC"
      }
    },
    {
      "cell_type": "markdown",
      "source": [
        "#Hello, World"
      ],
      "metadata": {
        "id": "pa0qsHZ6aTBs"
      }
    },
    {
      "cell_type": "code",
      "execution_count": 2,
      "metadata": {
        "colab": {
          "base_uri": "https://localhost:8080/"
        },
        "id": "jAEQANnCZXYG",
        "outputId": "ced8bcaa-0d4c-43f4-d38f-317ecd727238"
      },
      "outputs": [
        {
          "output_type": "stream",
          "name": "stdout",
          "text": [
            "Hello, world!\n"
          ]
        }
      ],
      "source": [
        "print('Hello, world!')"
      ]
    },
    {
      "cell_type": "code",
      "source": [
        "print(\"Good morning, FTW!\")"
      ],
      "metadata": {
        "colab": {
          "base_uri": "https://localhost:8080/"
        },
        "id": "uCqNIN6Malva",
        "outputId": "b4b38e12-22b3-45bd-e6d6-8e88501e6f2f"
      },
      "execution_count": 3,
      "outputs": [
        {
          "output_type": "stream",
          "name": "stdout",
          "text": [
            "Good morning, FTW!\n"
          ]
        }
      ]
    },
    {
      "cell_type": "code",
      "source": [
        "name = input(\"What is your name? \") # input is one of the many things you will learn today (can you guess what it does?)"
      ],
      "metadata": {
        "colab": {
          "base_uri": "https://localhost:8080/"
        },
        "id": "iz5zWjxnagdv",
        "outputId": "4b10ab39-6db0-4945-8217-0b0fbf8bd2d4"
      },
      "execution_count": 4,
      "outputs": [
        {
          "name": "stdout",
          "output_type": "stream",
          "text": [
            "What is your name? Amber\n"
          ]
        }
      ]
    },
    {
      "cell_type": "code",
      "source": [
        "print(\"Hello, \",name+\"! - Python\") # here, we allow Python to say hi back"
      ],
      "metadata": {
        "colab": {
          "base_uri": "https://localhost:8080/"
        },
        "id": "KqsbJzwdaqNG",
        "outputId": "261e4bc1-eec2-4c81-f6ea-3adf1fe5f0e1"
      },
      "execution_count": 5,
      "outputs": [
        {
          "output_type": "stream",
          "name": "stdout",
          "text": [
            "Hello,  Amber! - Python\n"
          ]
        }
      ]
    },
    {
      "cell_type": "markdown",
      "source": [
        "#Python Basics"
      ],
      "metadata": {
        "id": "mWjNL7_WdZiz"
      }
    },
    {
      "cell_type": "markdown",
      "source": [
        "#Variables \n",
        "\n",
        "- A **variable** holds *value*. \n",
        "\n",
        "**What Really Happens When You Run `hello_world`?**\n",
        "- Your editor (in this case, Google Colab) runs the file through the\n",
        "Python interpreter, which reads through the program and determines what\n",
        "each word in the program means.\n",
        "- For example, when the interpreter sees the `print` statement, it prints to the screen whatever is *inside* the parentheses.\n",
        "- *syntax highlighting* - As you write your programs, your editor highlights different parts of your program in different ways. (`print` is highlighted in brown/green, as it is a function. `Hello, World!` is highlighted in orange."
      ],
      "metadata": {
        "id": "i9Ar8839enxZ"
      }
    },
    {
      "cell_type": "code",
      "source": [
        "message = \"Hello Python world!\"\n",
        "print(message)"
      ],
      "metadata": {
        "colab": {
          "base_uri": "https://localhost:8080/"
        },
        "id": "H0TSWPjxf-gQ",
        "outputId": "fe7c8f6a-47c8-4863-9ad5-d0cbf04b5c3a"
      },
      "execution_count": 6,
      "outputs": [
        {
          "output_type": "stream",
          "name": "stdout",
          "text": [
            "Hello Python world!\n"
          ]
        }
      ]
    },
    {
      "cell_type": "markdown",
      "source": [
        "- In our \"Hello, world!\" version 2, we see the same output, but we've now added a *variable* called `message`. \n",
        "- Every variable holds a value, which is the information associated with that variable. \n",
        "- In this case the value is the text “Hello Python world!”\n",
        "- We can expand on this program by modifying `hello_world` to print a second\n",
        "message."
      ],
      "metadata": {
        "id": "wN3T_46TgFzL"
      }
    },
    {
      "cell_type": "code",
      "source": [
        "message = \"Hello Python world!\"\n",
        "print(message)\n",
        "\n",
        "message = \"Hello FTWFoundation world!\"\n",
        "print(message)"
      ],
      "metadata": {
        "colab": {
          "base_uri": "https://localhost:8080/"
        },
        "id": "_CBxxhklgEW3",
        "outputId": "3be07817-5307-40ee-a21e-b03ff5f25321"
      },
      "execution_count": 7,
      "outputs": [
        {
          "output_type": "stream",
          "name": "stdout",
          "text": [
            "Hello Python world!\n",
            "Hello FTWFoundation world!\n"
          ]
        }
      ]
    },
    {
      "cell_type": "markdown",
      "source": [
        "- You can change the value of a variable in your program at any time, and Python will always keep track of its current value.\n",
        "\n",
        "**What should you do when you encounter an error in Python?**\n",
        "- What do you think is the error below?"
      ],
      "metadata": {
        "id": "kh1clJq8gnIP"
      }
    },
    {
      "cell_type": "code",
      "source": [
        "message = \"Hello FTWFoundation!\"\n",
        "print(mesage)"
      ],
      "metadata": {
        "colab": {
          "base_uri": "https://localhost:8080/",
          "height": 187
        },
        "id": "8Uv_itiChTKN",
        "outputId": "dd5a01f0-23c0-49f7-cc3a-b617c24b2faf"
      },
      "execution_count": 11,
      "outputs": [
        {
          "output_type": "error",
          "ename": "NameError",
          "evalue": "ignored",
          "traceback": [
            "\u001b[0;31m---------------------------------------------------------------------------\u001b[0m",
            "\u001b[0;31mNameError\u001b[0m                                 Traceback (most recent call last)",
            "\u001b[0;32m<ipython-input-11-2e2459e97976>\u001b[0m in \u001b[0;36m<module>\u001b[0;34m()\u001b[0m\n\u001b[1;32m      1\u001b[0m \u001b[0mmessage\u001b[0m \u001b[0;34m=\u001b[0m \u001b[0;34m\"Hello FTWFoundation!\"\u001b[0m\u001b[0;34m\u001b[0m\u001b[0;34m\u001b[0m\u001b[0m\n\u001b[0;32m----> 2\u001b[0;31m \u001b[0mprint\u001b[0m\u001b[0;34m(\u001b[0m\u001b[0mmesage\u001b[0m\u001b[0;34m)\u001b[0m\u001b[0;34m\u001b[0m\u001b[0;34m\u001b[0m\u001b[0m\n\u001b[0m",
            "\u001b[0;31mNameError\u001b[0m: name 'mesage' is not defined"
          ]
        }
      ]
    },
    {
      "cell_type": "markdown",
      "source": [
        "- When an error occurs in your program, the Python interpreter does its best to help you figure out where the problem is. \n",
        "- The interpreter provides a traceback when a program cannot run successfully.\n",
        "- *traceback* is a record of where the interpreter ran into trouble when trying to execute your code.\n",
        "\n",
        "**Digging deeper into the traceback above**:\n",
        "- The output in the *traceback* above reports that an error occurs in line 2. \n",
        "- The interpreter shows this line to help us spot the error\n",
        "quickly, and tells us what kind of error it found. \n",
        "- In this case it found a name error `NameError` and reports that the variable being printed, `mesage`, has not been defined. \n",
        "- Python can’t identify the variable name provided. A name error\n",
        "usually means we either forgot to set a variable’s value before using it, or\n",
        "we made a spelling mistake when entering the variable’s name."
      ],
      "metadata": {
        "id": "TgxwRqqKhZqB"
      }
    },
    {
      "cell_type": "code",
      "source": [
        "message = \"Hello FTWFoundation!\"\n",
        "print(message)"
      ],
      "metadata": {
        "colab": {
          "base_uri": "https://localhost:8080/"
        },
        "id": "gkuIdj3sizZF",
        "outputId": "adb75ed3-d66c-4baa-ce1c-36c6eec16dc8"
      },
      "execution_count": null,
      "outputs": [
        {
          "output_type": "stream",
          "name": "stdout",
          "text": [
            "Hello FTWFoundation!\n"
          ]
        }
      ]
    },
    {
      "cell_type": "markdown",
      "source": [
        "## DIY 1: Variables and Print Statements\n",
        "\n",
        "**Exercise 1:** Simple Message\n",
        "- Store a message in a variable, and then print that\n",
        "message.\n"
      ],
      "metadata": {
        "id": "ITjTnez9iNGf"
      }
    },
    {
      "cell_type": "code",
      "source": [
        "# write your code here!"
      ],
      "metadata": {
        "id": "bvB1UZ4iga86"
      },
      "execution_count": null,
      "outputs": []
    },
    {
      "cell_type": "markdown",
      "source": [
        "**Exercise 2**: Simple Messages \n",
        "\n",
        "Store a message in a variable, and print that message.\n",
        "Then change the value of your variable to a new message, and print the new message."
      ],
      "metadata": {
        "id": "fplQ5rRhjXBh"
      }
    },
    {
      "cell_type": "code",
      "source": [
        "# write your code here\n"
      ],
      "metadata": {
        "id": "Uk2pmnSAjdbG"
      },
      "execution_count": null,
      "outputs": []
    },
    {
      "cell_type": "markdown",
      "source": [
        "#Strings\n",
        "\n",
        "- Strings are sets of characters.\n",
        "- Strings are contained by either single or double quotes."
      ],
      "metadata": {
        "id": "i6GIoaXfjjPD"
      }
    },
    {
      "cell_type": "code",
      "source": [
        "my_string1 = \"This is a double-quoted string.\"\n",
        "my_string2 = 'This is a single-quoted string.'"
      ],
      "metadata": {
        "id": "zAB8VDXXkcuE"
      },
      "execution_count": 12,
      "outputs": []
    },
    {
      "cell_type": "code",
      "source": [
        "print(my_string1)\n",
        "print(my_string2)"
      ],
      "metadata": {
        "colab": {
          "base_uri": "https://localhost:8080/"
        },
        "id": "ZAl3qBSMorZl",
        "outputId": "6dec4ca7-e5f0-4c95-a368-a001128cf626"
      },
      "execution_count": 13,
      "outputs": [
        {
          "output_type": "stream",
          "name": "stdout",
          "text": [
            "This is a double-quoted string.\n",
            "This is a single-quoted string.\n"
          ]
        }
      ]
    },
    {
      "cell_type": "markdown",
      "source": [
        "This lets us make strings that contain quotations and apostrophies."
      ],
      "metadata": {
        "id": "q6PZJRv2o4oT"
      }
    },
    {
      "cell_type": "code",
      "source": [
        "quote = \"Winter is coming. - 'Someone'\""
      ],
      "metadata": {
        "id": "Il8Uh3k0o0Js"
      },
      "execution_count": 14,
      "outputs": []
    },
    {
      "cell_type": "code",
      "source": [
        "print(quote)"
      ],
      "metadata": {
        "colab": {
          "base_uri": "https://localhost:8080/"
        },
        "id": "lVE3z7Cao_Ld",
        "outputId": "6220f34c-c1bf-4d0b-f0b8-fc61e1d2202b"
      },
      "execution_count": 15,
      "outputs": [
        {
          "output_type": "stream",
          "name": "stdout",
          "text": [
            "Winter is coming. - 'Someone'\n"
          ]
        }
      ]
    },
    {
      "cell_type": "code",
      "source": [
        "quote = \"One of Python's strengths is its diverse and supportive community.\"\n",
        "print(quote)"
      ],
      "metadata": {
        "colab": {
          "base_uri": "https://localhost:8080/"
        },
        "id": "pswiHt7VpVFX",
        "outputId": "09f022a6-7bf4-47c6-a41e-93ccdfd3de05"
      },
      "execution_count": 16,
      "outputs": [
        {
          "output_type": "stream",
          "name": "stdout",
          "text": [
            "One of Python's strengths is its diverse and supportive community.\n"
          ]
        }
      ]
    },
    {
      "cell_type": "markdown",
      "source": [
        "- Strings are quite simple at first glance, but you can use them in many different ways. \n",
        "\n",
        "Let's explore what we can do with strings! "
      ],
      "metadata": {
        "id": "X9dQn8jPpgKP"
      }
    },
    {
      "cell_type": "markdown",
      "source": [
        "## Changing Case"
      ],
      "metadata": {
        "id": "nBn-xMhypq9n"
      }
    },
    {
      "cell_type": "code",
      "source": [
        "first_name = 'harry'\n",
        "\n",
        "print(first_name)\n",
        "print(first_name.title())"
      ],
      "metadata": {
        "colab": {
          "base_uri": "https://localhost:8080/"
        },
        "id": "6dgnAQWkpuur",
        "outputId": "aad9963c-1d78-4aeb-fdd2-18538226f1a9"
      },
      "execution_count": 17,
      "outputs": [
        {
          "output_type": "stream",
          "name": "stdout",
          "text": [
            "harry\n",
            "Harry\n"
          ]
        }
      ]
    },
    {
      "cell_type": "markdown",
      "source": [
        "- A method is an action that Python can perform on a piece of data. \n",
        "- The dot (.) after name in name.title() tells Python to make the title() method\n",
        "act on the variable name. \n",
        "- Every method is followed by a set of parentheses,\n",
        "because methods often need additional information to do their work.\n",
        "- That information is provided inside the parentheses. The title() function\n",
        "doesn’t need any additional information, so its parentheses are empty."
      ],
      "metadata": {
        "id": "ITx35b97q0Ya"
      }
    },
    {
      "cell_type": "code",
      "source": [
        "last_name = 'potter'\n",
        "\n",
        "print(last_name)\n",
        "print(last_name.title())\n",
        "print(last_name.upper())\n",
        "\n",
        "last_name = 'Potter'\n",
        "print(last_name.lower())"
      ],
      "metadata": {
        "colab": {
          "base_uri": "https://localhost:8080/"
        },
        "id": "7FmfvWbMpxW0",
        "outputId": "2d170069-6868-4b4a-e521-8cfd407691bb"
      },
      "execution_count": 18,
      "outputs": [
        {
          "output_type": "stream",
          "name": "stdout",
          "text": [
            "potter\n",
            "Potter\n",
            "POTTER\n",
            "potter\n"
          ]
        }
      ]
    },
    {
      "cell_type": "markdown",
      "source": [
        "- A **method** is something that *can be done to a variable*.\n",
        "- The methods `lower`, `title`, and `upper` are all functions that have been written into the Python language, which do something to strings. Later on, you will learn to write your own methods.\n",
        "- The `lower()` method is particularly useful for storing data. \n",
        "- Many times you won’t want to trust the capitalization that your users provide, so you’ll convert strings to lowercase before storing them. \n",
        "- Then when you want to\n",
        "display the information, you’ll use the case that makes the most sense for\n",
        "each string."
      ],
      "metadata": {
        "id": "8u58FWrdpt7p"
      }
    },
    {
      "cell_type": "markdown",
      "source": [
        "## DIY 2: Name Cases \n",
        "\n",
        "Store a person’s name in a variable, and then print that person’s\n",
        "name in lowercase, uppercase, and titlecase."
      ],
      "metadata": {
        "id": "8ZDvVsPRQR12"
      }
    },
    {
      "cell_type": "code",
      "source": [
        "# write your code here"
      ],
      "metadata": {
        "id": "cjJelKEUQWeu"
      },
      "execution_count": null,
      "outputs": []
    },
    {
      "cell_type": "code",
      "source": [
        "# write your code here "
      ],
      "metadata": {
        "id": "O4VilIn2QYHC"
      },
      "execution_count": null,
      "outputs": []
    },
    {
      "cell_type": "markdown",
      "source": [
        "## Concatenation\n",
        "\n",
        "- It is often very useful to be able to combine strings into a message or page element that we want to display. \n",
        "- For example, you might want to store\n",
        "a first name and a last name in separate variables, and then combine them when you want to display someone’s full name"
      ],
      "metadata": {
        "id": "kyVXLrx-6T4a"
      }
    },
    {
      "cell_type": "code",
      "source": [
        "first_name = \"ada\"\n",
        "last_name = \"lovelace\"\n",
        "full_name = first_name + \" \" + last_name\n",
        "# full_name = first_name + last_name\n",
        "print(full_name)"
      ],
      "metadata": {
        "colab": {
          "base_uri": "https://localhost:8080/"
        },
        "id": "S8z0lbvR6qVu",
        "outputId": "7c4aeb70-f481-48d0-95a3-380a653c2cde"
      },
      "execution_count": 21,
      "outputs": [
        {
          "output_type": "stream",
          "name": "stdout",
          "text": [
            "ada lovelace\n"
          ]
        }
      ]
    },
    {
      "cell_type": "markdown",
      "source": [
        "- Python uses the plus symbol (+) to combine strings\n",
        "- You can use\n",
        "concatenation to compose complete messages using the information you’ve\n",
        "stored in a variable."
      ],
      "metadata": {
        "id": "AGSf0b4268SP"
      }
    },
    {
      "cell_type": "code",
      "source": [
        "print(\"Hello, \" + full_name.title() + \"!\")"
      ],
      "metadata": {
        "colab": {
          "base_uri": "https://localhost:8080/"
        },
        "id": "wJdZ6Nyp7B5w",
        "outputId": "7138a2f4-15dc-4041-95cd-f49db405d2bd"
      },
      "execution_count": 22,
      "outputs": [
        {
          "output_type": "stream",
          "name": "stdout",
          "text": [
            "Hello, Ada Lovelace!\n"
          ]
        }
      ]
    },
    {
      "cell_type": "markdown",
      "source": [
        "- Here, the full name is used in a sentence that greets the user, and\n",
        "the title() method is used to format the name appropriately.\n",
        "\n",
        "- You can use concatenation to compose a message and then store the\n",
        "entire message in a variable:"
      ],
      "metadata": {
        "id": "tnZHze-h7Myn"
      }
    },
    {
      "cell_type": "code",
      "source": [
        "first_name = \"ada\"\n",
        "last_name = \"lovelace\"\n",
        "full_name = first_name + \" \" + last_name\n",
        "message = \"Hello, \" + full_name.title() + \"!\"\n",
        "print(message)"
      ],
      "metadata": {
        "colab": {
          "base_uri": "https://localhost:8080/"
        },
        "id": "pmgIlGuK7WBm",
        "outputId": "c6645282-aa24-41e3-b0d6-4777687b489c"
      },
      "execution_count": 23,
      "outputs": [
        {
          "output_type": "stream",
          "name": "stdout",
          "text": [
            "Hello, Ada Lovelace!\n"
          ]
        }
      ]
    },
    {
      "cell_type": "markdown",
      "source": [
        "## Whitespace \n",
        "- whitespace refers to any nonprinting character, such as\n",
        "spaces, tabs, and end-of-line symbols. You can use whitespace to organize\n",
        "your output so it’s easier for users to read.\n",
        "- The term \"whitespace\" refers to characters that the computer is aware of, but are invisible to readers. The most common whitespace characters are spaces, tabs, and newlines.\n",
        "- Spaces are easy to create, because you have been using them as long as you have been using computers. Tabs and newlines are represented by special character combinations.\n",
        "- The two-character combination `\\t` makes a tab appear in a string. Tabs can be used anywhere you like in a string."
      ],
      "metadata": {
        "id": "lYv7aUx07nth"
      }
    },
    {
      "cell_type": "markdown",
      "source": [
        "- add a tab to your text"
      ],
      "metadata": {
        "id": "nq_O4U8o8Eqc"
      }
    },
    {
      "cell_type": "code",
      "source": [
        "print(\"Python\")\n",
        "print(\"\\tPython\")\n"
      ],
      "metadata": {
        "colab": {
          "base_uri": "https://localhost:8080/"
        },
        "id": "KsDBV8Fi75qC",
        "outputId": "db7e6c37-2401-44db-ef05-ee416c321aa9"
      },
      "execution_count": 24,
      "outputs": [
        {
          "output_type": "stream",
          "name": "stdout",
          "text": [
            "Python\n",
            "\tPython\n"
          ]
        }
      ]
    },
    {
      "cell_type": "markdown",
      "source": [
        "- add new line to a string"
      ],
      "metadata": {
        "id": "gCB5fed58BLw"
      }
    },
    {
      "cell_type": "code",
      "source": [
        "print(\"Languages:\\nPython\\nC\\nJavaScript\")"
      ],
      "metadata": {
        "colab": {
          "base_uri": "https://localhost:8080/"
        },
        "id": "Fw0ylerO8AQW",
        "outputId": "0e89336f-b613-4f65-b536-c43248954f2b"
      },
      "execution_count": 25,
      "outputs": [
        {
          "output_type": "stream",
          "name": "stdout",
          "text": [
            "Languages:\n",
            "Python\n",
            "C\n",
            "JavaScript\n"
          ]
        }
      ]
    },
    {
      "cell_type": "markdown",
      "source": [
        "- combine tabs and newlines in a single string. The string\n",
        "\"\\n\\t\" tells Python to move to a new line, and start the next line with a tab."
      ],
      "metadata": {
        "id": "EQ6_y66X8Q8c"
      }
    },
    {
      "cell_type": "code",
      "source": [
        "print(\"Languages:\\n\\tPython\\n\\tC\\n\\tJavaScript\")"
      ],
      "metadata": {
        "colab": {
          "base_uri": "https://localhost:8080/"
        },
        "id": "6Tqc5Aib8Tpz",
        "outputId": "d0d3a43c-5e05-459a-b6c7-48b5357b559e"
      },
      "execution_count": 26,
      "outputs": [
        {
          "output_type": "stream",
          "name": "stdout",
          "text": [
            "Languages:\n",
            "\tPython\n",
            "\tC\n",
            "\tJavaScript\n"
          ]
        }
      ]
    },
    {
      "cell_type": "code",
      "source": [
        "print(\"\\n\\n\\nHello everyone!\")"
      ],
      "metadata": {
        "colab": {
          "base_uri": "https://localhost:8080/"
        },
        "id": "kHwZJIw38Wq_",
        "outputId": "6a5da5dd-eae7-4add-99cc-c1d374ce8b71"
      },
      "execution_count": 27,
      "outputs": [
        {
          "output_type": "stream",
          "name": "stdout",
          "text": [
            "\n",
            "\n",
            "\n",
            "Hello everyone!\n"
          ]
        }
      ]
    },
    {
      "cell_type": "markdown",
      "source": [
        "###Stripping whitespace\n",
        "- Extra whitespace can be confusing in your programs. To programmers\n",
        "`python` and 'python ' look pretty much the same. But to a program, they\n",
        "are two different strings. Python detects the extra space in 'python ' and\n",
        "considers it significant unless you tell it otherwise.\n",
        "- Many times you will allow users to enter text into a box, and then you will read that text and use it. It is really easy for people to include extra whitespace at the beginning or end of their text. Whitespace includes spaces, tabs, and newlines.\n",
        "- It is often a good idea to strip this whitespace from strings before you start working with them. For example, you might want to let people log in, and you probably want to treat 'eric ' as 'eric' when you are trying to see if I exist on your system.\n",
        "- You can strip whitespace from the left side, the right side, or both sides of a string."
      ],
      "metadata": {
        "id": "-QXpTvWj8zYt"
      }
    },
    {
      "cell_type": "code",
      "source": [
        "name = ' harry '\n",
        "\n",
        "print(name.lstrip())\n",
        "print(name.rstrip())\n",
        "print(name.strip())"
      ],
      "metadata": {
        "colab": {
          "base_uri": "https://localhost:8080/"
        },
        "id": "wV2B4vW39ceN",
        "outputId": "4c788832-0b37-4b78-c520-067f9b2c2123"
      },
      "execution_count": 28,
      "outputs": [
        {
          "output_type": "stream",
          "name": "stdout",
          "text": [
            "harry \n",
            " harry\n",
            "harry\n"
          ]
        }
      ]
    },
    {
      "cell_type": "code",
      "source": [
        "name = ' harry '\n",
        "\n",
        "print('-' + name.lstrip() + '-')\n",
        "print('-' + name.rstrip() + '-')\n",
        "print('-' + name.strip() + '-')"
      ],
      "metadata": {
        "colab": {
          "base_uri": "https://localhost:8080/"
        },
        "id": "KGd00qPI9erk",
        "outputId": "f5c6e99d-6bfc-41b3-bc85-707e5348d606"
      },
      "execution_count": 29,
      "outputs": [
        {
          "output_type": "stream",
          "name": "stdout",
          "text": [
            "-harry -\n",
            "- harry-\n",
            "-harry-\n"
          ]
        }
      ]
    },
    {
      "cell_type": "markdown",
      "source": [
        "###Avoiding Syntax Errors with Strings\n",
        "- One kind of error that you might see with some regularity is a syntax error.\n",
        "A syntax error occurs when Python doesn’t recognize a section of your program\n",
        "as valid Python code. For example, if you use an apostrophe within\n",
        "single quotes, you’ll produce an error. This happens because Python interprets\n",
        "everything between the first single quote and the apostrophe as a\n",
        "string."
      ],
      "metadata": {
        "id": "oCfY76L1PW5H"
      }
    },
    {
      "cell_type": "code",
      "source": [
        "message = 'One of Python's strengths is its diverse community.'\n",
        "print(message)"
      ],
      "metadata": {
        "colab": {
          "base_uri": "https://localhost:8080/",
          "height": 133
        },
        "id": "lnPFdyx2Pzt0",
        "outputId": "c65f7075-a01a-4c64-c4b3-8c1e4d61547e"
      },
      "execution_count": 30,
      "outputs": [
        {
          "output_type": "error",
          "ename": "SyntaxError",
          "evalue": "ignored",
          "traceback": [
            "\u001b[0;36m  File \u001b[0;32m\"<ipython-input-30-a9250de55b39>\"\u001b[0;36m, line \u001b[0;32m1\u001b[0m\n\u001b[0;31m    message = 'One of Python's strengths is its diverse community.'\u001b[0m\n\u001b[0m                             ^\u001b[0m\n\u001b[0;31mSyntaxError\u001b[0m\u001b[0;31m:\u001b[0m invalid syntax\n"
          ]
        }
      ]
    },
    {
      "cell_type": "markdown",
      "source": [
        "## DIY 3: Rewrite the code below to fix the syntax error"
      ],
      "metadata": {
        "id": "AHNt1ZA8P0vR"
      }
    },
    {
      "cell_type": "code",
      "source": [
        "message = \"One of Python's strengths is its diverse community.\"\n",
        "print(message)"
      ],
      "metadata": {
        "colab": {
          "base_uri": "https://localhost:8080/"
        },
        "id": "7C1IIsGmPib1",
        "outputId": "dabff57c-21c0-422f-9327-dd16836dcf57"
      },
      "execution_count": 32,
      "outputs": [
        {
          "output_type": "stream",
          "name": "stdout",
          "text": [
            "One of Python's strengths is its diverse community.\n"
          ]
        }
      ]
    },
    {
      "cell_type": "code",
      "source": [
        "# Solution: Uncomment out lines 2 and 3 then run this code block\n",
        "# message = \"One of Python's strengths is its diverse community.\"\n",
        "# print(message)"
      ],
      "metadata": {
        "id": "gKP-mWJlPhZb"
      },
      "execution_count": 33,
      "outputs": []
    },
    {
      "cell_type": "markdown",
      "source": [
        "## DIY 4: Famous Quote \n",
        "\n",
        "Find a quote from a famous person you admire. Print the\n",
        "quote and the name of its author. Your output should look something like the\n",
        "following, including the quotation marks:\n",
        "\n",
        "\n",
        "\n",
        "*Albert Einstein once said, “A person who never made a\n",
        "mistake never tried anything new.”*"
      ],
      "metadata": {
        "id": "DV8psXDRQf3Z"
      }
    },
    {
      "cell_type": "code",
      "source": [
        "# write your code here"
      ],
      "metadata": {
        "id": "d_Ty8wyHQonK"
      },
      "execution_count": null,
      "outputs": []
    },
    {
      "cell_type": "code",
      "source": [
        "# write your code here "
      ],
      "metadata": {
        "id": "h9iKFF17Qoyp"
      },
      "execution_count": null,
      "outputs": []
    },
    {
      "cell_type": "markdown",
      "source": [
        "# Numbers\n",
        "\n",
        "- Numbers are used quite often in programming to keep score in games, represent\n",
        "data in visualizations, store information in web applications, and so\n",
        "on. \n",
        "- Python treats numbers in several different ways, depending on how they\n",
        "are being used\n",
        "\n"
      ],
      "metadata": {
        "id": "LsBwC4WZPRnI"
      }
    },
    {
      "cell_type": "markdown",
      "source": [
        "## Integers\n",
        "- You can add (+), subtract (-), multiply (*), and divide (/) integers in Python\n",
        "-  Addition and subtraction use the standard plus and minus symbols. Multiplication uses the asterisk, and division uses a forward slash. Exponents use two asterisks."
      ],
      "metadata": {
        "id": "nMklYd6sRDGI"
      }
    },
    {
      "cell_type": "code",
      "source": [
        "2 + 3"
      ],
      "metadata": {
        "colab": {
          "base_uri": "https://localhost:8080/"
        },
        "id": "2zePfPCzRBZg",
        "outputId": "d2cddeb1-1e90-4d65-a83f-f6069caf842c"
      },
      "execution_count": 34,
      "outputs": [
        {
          "output_type": "execute_result",
          "data": {
            "text/plain": [
              "5"
            ]
          },
          "metadata": {},
          "execution_count": 34
        }
      ]
    },
    {
      "cell_type": "code",
      "source": [
        "print(3-2)"
      ],
      "metadata": {
        "colab": {
          "base_uri": "https://localhost:8080/"
        },
        "id": "WvzFa_yoRGxE",
        "outputId": "398662ae-ea7f-4aab-d5a7-147ca072cc76"
      },
      "execution_count": 35,
      "outputs": [
        {
          "output_type": "stream",
          "name": "stdout",
          "text": [
            "1\n"
          ]
        }
      ]
    },
    {
      "cell_type": "code",
      "source": [
        "print(3*2)"
      ],
      "metadata": {
        "colab": {
          "base_uri": "https://localhost:8080/"
        },
        "id": "31f5CdxiRRBV",
        "outputId": "8599f99b-3daf-4c16-b0f3-2ed129f6eb49"
      },
      "execution_count": 36,
      "outputs": [
        {
          "output_type": "stream",
          "name": "stdout",
          "text": [
            "6\n"
          ]
        }
      ]
    },
    {
      "cell_type": "code",
      "source": [
        "3/2"
      ],
      "metadata": {
        "colab": {
          "base_uri": "https://localhost:8080/"
        },
        "id": "9Jh8dePtRRGn",
        "outputId": "19f87c6f-6a78-4438-b6bc-605f660ad033"
      },
      "execution_count": 37,
      "outputs": [
        {
          "output_type": "execute_result",
          "data": {
            "text/plain": [
              "1.5"
            ]
          },
          "metadata": {},
          "execution_count": 37
        }
      ]
    },
    {
      "cell_type": "code",
      "source": [
        "3**2"
      ],
      "metadata": {
        "colab": {
          "base_uri": "https://localhost:8080/"
        },
        "id": "y4y2fA7fRRMo",
        "outputId": "d49f6ca7-8ed4-4fc3-99d5-b37d9b2f4bce"
      },
      "execution_count": 38,
      "outputs": [
        {
          "output_type": "execute_result",
          "data": {
            "text/plain": [
              "9"
            ]
          },
          "metadata": {},
          "execution_count": 38
        }
      ]
    },
    {
      "cell_type": "markdown",
      "source": [
        "You can use parenthesis to modify the standard order of operations. (High school PEMDAS ☺)\n",
        "\n",
        "- Python supports the order of operations too, so you can use multiple\n",
        "operations in one expression. \n",
        "- You can also use parentheses to modify the\n",
        "order of operations so Python can evaluate your expression in the order\n",
        "you specify."
      ],
      "metadata": {
        "id": "xX7TsEKERA37"
      }
    },
    {
      "cell_type": "code",
      "source": [
        "standard_order = 2+3*4\n",
        "print(standard_order)"
      ],
      "metadata": {
        "colab": {
          "base_uri": "https://localhost:8080/"
        },
        "id": "6eNuvEcGRXuR",
        "outputId": "8af65bdb-5ab0-4e01-d926-f9456604e459"
      },
      "execution_count": 39,
      "outputs": [
        {
          "output_type": "stream",
          "name": "stdout",
          "text": [
            "14\n"
          ]
        }
      ]
    },
    {
      "cell_type": "code",
      "source": [
        "my_order = (2+3)*4\n",
        "print(my_order)"
      ],
      "metadata": {
        "colab": {
          "base_uri": "https://localhost:8080/"
        },
        "id": "BzUlIAbNRX2h",
        "outputId": "09101a2c-e3ed-44e1-8477-abb224e430b0"
      },
      "execution_count": 40,
      "outputs": [
        {
          "output_type": "stream",
          "name": "stdout",
          "text": [
            "20\n"
          ]
        }
      ]
    },
    {
      "cell_type": "markdown",
      "source": [
        "## Floats\n",
        "- Python calls any number with a decimal point a float. \n",
        "- This term is used in\n",
        "most programming languages, and it refers to the fact that a decimal point\n",
        "can appear at any position in a number\n",
        "- Most of the time, you can think of floating point numbers as decimals, and they will behave as you expect them to."
      ],
      "metadata": {
        "id": "rbvKNkSbRqrx"
      }
    },
    {
      "cell_type": "code",
      "source": [
        "print(0.1+0.1)"
      ],
      "metadata": {
        "colab": {
          "base_uri": "https://localhost:8080/"
        },
        "id": "hIRMCoWsR4aE",
        "outputId": "7c0896eb-9b12-4921-8f7b-0724cd5a1845"
      },
      "execution_count": 41,
      "outputs": [
        {
          "output_type": "stream",
          "name": "stdout",
          "text": [
            "0.2\n"
          ]
        }
      ]
    },
    {
      "cell_type": "code",
      "source": [
        "0.2 +0.2"
      ],
      "metadata": {
        "colab": {
          "base_uri": "https://localhost:8080/"
        },
        "id": "27X08GU1R4kY",
        "outputId": "b5c2c09d-5475-4db3-a281-6191b211a7f8"
      },
      "execution_count": 42,
      "outputs": [
        {
          "output_type": "execute_result",
          "data": {
            "text/plain": [
              "0.4"
            ]
          },
          "metadata": {},
          "execution_count": 42
        }
      ]
    },
    {
      "cell_type": "markdown",
      "source": [
        "- But be aware that you can sometimes get an arbitrary number of decimal\n",
        "places in your answer"
      ],
      "metadata": {
        "id": "tF9D5bqQR_AB"
      }
    },
    {
      "cell_type": "code",
      "source": [
        "0.2 + 0.1"
      ],
      "metadata": {
        "colab": {
          "base_uri": "https://localhost:8080/"
        },
        "id": "zpBd8XlyR4uM",
        "outputId": "3b1a706c-36db-41d5-e74a-478d415b5901"
      },
      "execution_count": 43,
      "outputs": [
        {
          "output_type": "execute_result",
          "data": {
            "text/plain": [
              "0.30000000000000004"
            ]
          },
          "metadata": {},
          "execution_count": 43
        }
      ]
    },
    {
      "cell_type": "code",
      "source": [
        "3 * 0.1"
      ],
      "metadata": {
        "colab": {
          "base_uri": "https://localhost:8080/"
        },
        "id": "qyHEUSk5R41i",
        "outputId": "063dac6f-272c-4804-e63e-239e1ff724ad"
      },
      "execution_count": 44,
      "outputs": [
        {
          "output_type": "execute_result",
          "data": {
            "text/plain": [
              "0.30000000000000004"
            ]
          },
          "metadata": {},
          "execution_count": 44
        }
      ]
    },
    {
      "cell_type": "markdown",
      "source": [
        "- This happens in all languages and is of little concern. Python tries to\n",
        "find a way to represent the result as precisely as possible, which is sometimes\n",
        "difficult given how computers have to represent numbers internally. \n",
        "- If you are getting numerical results that you don't expect, or that don't make sense, check if the version of Python you are using is treating integers differently than you expect."
      ],
      "metadata": {
        "id": "pdeJ99ixSDEQ"
      }
    },
    {
      "cell_type": "code",
      "source": [
        "print(4/2)"
      ],
      "metadata": {
        "colab": {
          "base_uri": "https://localhost:8080/"
        },
        "id": "F9RZRb2DSWE1",
        "outputId": "7024187c-e2d5-4b97-b40c-249b184f36b4"
      },
      "execution_count": 45,
      "outputs": [
        {
          "output_type": "stream",
          "name": "stdout",
          "text": [
            "2.0\n"
          ]
        }
      ]
    },
    {
      "cell_type": "code",
      "source": [
        "print(3/2)"
      ],
      "metadata": {
        "colab": {
          "base_uri": "https://localhost:8080/"
        },
        "id": "FJCxrcPLSX_U",
        "outputId": "a6c8f771-6880-40fa-e980-c1d5f5a38e70"
      },
      "execution_count": 46,
      "outputs": [
        {
          "output_type": "stream",
          "name": "stdout",
          "text": [
            "1.5\n"
          ]
        }
      ]
    },
    {
      "cell_type": "markdown",
      "source": [
        "###Avoiding errors with the `str()` function\n",
        "\n",
        "- Often, you’ll want to use a variable’s value within a message. For example,\n",
        "say you want to wish someone a happy birthday.\n"
      ],
      "metadata": {
        "id": "Ua4ojOq6SMx_"
      }
    },
    {
      "cell_type": "code",
      "source": [
        "age = 23\n",
        "message = \"Happy \" + age + \"rd Birthday!\"\n",
        "print(message)"
      ],
      "metadata": {
        "colab": {
          "base_uri": "https://localhost:8080/",
          "height": 205
        },
        "id": "dh03jy2vTKA-",
        "outputId": "5ccd709e-d7a0-4694-eb19-598d3afb0fe3"
      },
      "execution_count": 47,
      "outputs": [
        {
          "output_type": "error",
          "ename": "TypeError",
          "evalue": "ignored",
          "traceback": [
            "\u001b[0;31m---------------------------------------------------------------------------\u001b[0m",
            "\u001b[0;31mTypeError\u001b[0m                                 Traceback (most recent call last)",
            "\u001b[0;32m<ipython-input-47-80a141e301d6>\u001b[0m in \u001b[0;36m<module>\u001b[0;34m()\u001b[0m\n\u001b[1;32m      1\u001b[0m \u001b[0mage\u001b[0m \u001b[0;34m=\u001b[0m \u001b[0;36m23\u001b[0m\u001b[0;34m\u001b[0m\u001b[0;34m\u001b[0m\u001b[0m\n\u001b[0;32m----> 2\u001b[0;31m \u001b[0mmessage\u001b[0m \u001b[0;34m=\u001b[0m \u001b[0;34m\"Happy \"\u001b[0m \u001b[0;34m+\u001b[0m \u001b[0mage\u001b[0m \u001b[0;34m+\u001b[0m \u001b[0;34m\"rd Birthday!\"\u001b[0m\u001b[0;34m\u001b[0m\u001b[0;34m\u001b[0m\u001b[0m\n\u001b[0m\u001b[1;32m      3\u001b[0m \u001b[0mprint\u001b[0m\u001b[0;34m(\u001b[0m\u001b[0mmessage\u001b[0m\u001b[0;34m)\u001b[0m\u001b[0;34m\u001b[0m\u001b[0;34m\u001b[0m\u001b[0m\n",
            "\u001b[0;31mTypeError\u001b[0m: can only concatenate str (not \"int\") to str"
          ]
        }
      ]
    },
    {
      "cell_type": "markdown",
      "source": [
        "- This is a type error. It means Python can’t recognize the kind of information\n",
        "you’re using\n",
        "- In this example Python sees at u that you’re using a variable\n",
        "that has an integer value (int), but it’s not sure how to interpret that value\n",
        "- Python knows that the variable could represent either the numerical\n",
        "value 23 or the characters 2 and 3.\n",
        "- When you use integers within strings\n",
        "like this, you need to specify explicitly that you want Python to use the integer\n",
        "as a string of characters."
      ],
      "metadata": {
        "id": "C6E3BH-MTT6a"
      }
    },
    {
      "cell_type": "code",
      "source": [
        "age = 23\n",
        "message = \"Happy \" + str(age) + \"rd Birthday!\"\n",
        "print(message)"
      ],
      "metadata": {
        "colab": {
          "base_uri": "https://localhost:8080/"
        },
        "id": "sjQKYk-cTglO",
        "outputId": "ca3dc1bc-6d0d-4918-caf0-98939913569a"
      },
      "execution_count": 48,
      "outputs": [
        {
          "output_type": "stream",
          "name": "stdout",
          "text": [
            "Happy 23rd Birthday!\n"
          ]
        }
      ]
    },
    {
      "cell_type": "code",
      "source": [
        "message"
      ],
      "metadata": {
        "colab": {
          "base_uri": "https://localhost:8080/",
          "height": 35
        },
        "id": "Lww7pKgkTjFj",
        "outputId": "1f622780-dc4f-487d-98ab-89a99b42bc6e"
      },
      "execution_count": 49,
      "outputs": [
        {
          "output_type": "execute_result",
          "data": {
            "text/plain": [
              "'Happy 23rd Birthday!'"
            ],
            "application/vnd.google.colaboratory.intrinsic+json": {
              "type": "string"
            }
          },
          "metadata": {},
          "execution_count": 49
        }
      ]
    },
    {
      "cell_type": "markdown",
      "source": [
        "## DIY 5: Lucky Eight \n",
        "\n",
        "Write addition, subtraction, multiplication, and division\n",
        "operations that each result in the number 8. Be sure to enclose your operations\n",
        "in print statements to see the results. You should create four lines that look\n",
        "like this:"
      ],
      "metadata": {
        "id": "aFBPV-zBTrIz"
      }
    },
    {
      "cell_type": "code",
      "source": [
        "print(5 + 3)\n"
      ],
      "metadata": {
        "colab": {
          "base_uri": "https://localhost:8080/"
        },
        "id": "1jpxGTxjT1Ou",
        "outputId": "ec5cb79e-e5c9-4ec1-c5cb-b324defcadf6"
      },
      "execution_count": 50,
      "outputs": [
        {
          "output_type": "stream",
          "name": "stdout",
          "text": [
            "8\n"
          ]
        }
      ]
    },
    {
      "cell_type": "code",
      "source": [
        "# write your code here"
      ],
      "metadata": {
        "id": "v1TnHW43T2XG"
      },
      "execution_count": null,
      "outputs": []
    },
    {
      "cell_type": "code",
      "source": [
        "# write your code here"
      ],
      "metadata": {
        "id": "cqQ_gSFgT4H-"
      },
      "execution_count": null,
      "outputs": []
    },
    {
      "cell_type": "code",
      "source": [
        "# write your code here"
      ],
      "metadata": {
        "id": "yqTcvY1HT4q4"
      },
      "execution_count": null,
      "outputs": []
    },
    {
      "cell_type": "code",
      "source": [
        "# write your code here"
      ],
      "metadata": {
        "id": "KY2C6TqAT5Fo"
      },
      "execution_count": null,
      "outputs": []
    },
    {
      "cell_type": "markdown",
      "source": [
        "# Comments \n",
        "\n",
        "- Comments are an extremely useful feature in most programming languages.\n",
        "Everything you’ve written in your programs so far is Python code. As your\n",
        "programs become longer and more complicated, you should add notes within\n",
        "your programs that describe your overall approach to the problem you’re\n",
        "solving. \n",
        "- As you begin to write more complicated code, you will have to spend more time thinking about how to code solutions to the problems you want to solve. Once you come up with an idea, you will spend a fair amount of time troubleshooting your code, and revising your overall approach.\n",
        "- A comment allows you to write notes in English within your programs.\n",
        "- In Python, any line that starts with a pound (#) symbol is ignored by the Python interpreter."
      ],
      "metadata": {
        "id": "982fVhcFT_-H"
      }
    },
    {
      "cell_type": "code",
      "source": [
        "# This line is a comment.\n",
        "print(\"This line is not a comment, it is code.\")"
      ],
      "metadata": {
        "colab": {
          "base_uri": "https://localhost:8080/"
        },
        "id": "emq8_8GyT_Wg",
        "outputId": "341a83a8-ee40-4017-9c96-8dc86035af83"
      },
      "execution_count": 51,
      "outputs": [
        {
          "output_type": "stream",
          "name": "stdout",
          "text": [
            "This line is not a comment, it is code.\n"
          ]
        }
      ]
    },
    {
      "cell_type": "markdown",
      "source": [
        "## What makes a good comment?\n",
        "\n",
        "- It is short and to the point, but a complete thought. Most comments should be written in complete sentences.\n",
        "- It explains your thinking, so that when you return to the code later you will understand how you were approaching the problem.\n",
        "- It explains your thinking, so that others who work with your code will understand your overall approach to a problem.\n",
        "- It explains particularly difficult sections of code in detail.\n",
        "\n",
        "## When should you write comments?\n",
        "\n",
        "- When you have to think about code before writing it.\n",
        "- When you are likely to forget later exactly how you were approaching a problem.\n",
        "- When there is more than one way to solve a problem.\n",
        "- When others are unlikely to anticipate your way of thinking about a problem.\n",
        "\n",
        "Writing good comments is one of the clear signs of a good programmer. If you have any real interest in taking programming seriously, start using comments now. You will see them throughout the examples in these notebooks."
      ],
      "metadata": {
        "id": "FAvfynunUY81"
      }
    },
    {
      "cell_type": "markdown",
      "source": [
        "# Appendix: Zen of Python"
      ],
      "metadata": {
        "id": "Bjtgi1S2U9Ok"
      }
    },
    {
      "cell_type": "code",
      "source": [
        "import this"
      ],
      "metadata": {
        "colab": {
          "base_uri": "https://localhost:8080/"
        },
        "id": "Gh4ymBj6UpeM",
        "outputId": "1a478844-550e-4de6-84fe-e7341467ce36"
      },
      "execution_count": null,
      "outputs": [
        {
          "output_type": "stream",
          "name": "stdout",
          "text": [
            "The Zen of Python, by Tim Peters\n",
            "\n",
            "Beautiful is better than ugly.\n",
            "Explicit is better than implicit.\n",
            "Simple is better than complex.\n",
            "Complex is better than complicated.\n",
            "Flat is better than nested.\n",
            "Sparse is better than dense.\n",
            "Readability counts.\n",
            "Special cases aren't special enough to break the rules.\n",
            "Although practicality beats purity.\n",
            "Errors should never pass silently.\n",
            "Unless explicitly silenced.\n",
            "In the face of ambiguity, refuse the temptation to guess.\n",
            "There should be one-- and preferably only one --obvious way to do it.\n",
            "Although that way may not be obvious at first unless you're Dutch.\n",
            "Now is better than never.\n",
            "Although never is often better than *right* now.\n",
            "If the implementation is hard to explain, it's a bad idea.\n",
            "If the implementation is easy to explain, it may be a good idea.\n",
            "Namespaces are one honking great idea -- let's do more of those!\n"
          ]
        }
      ]
    },
    {
      "cell_type": "markdown",
      "source": [
        "#Appendix: Variable Naming Conventions\n",
        "\n",
        "*Source: Python Crash Course*\n",
        "\n",
        "- Variable names can contain only letters, numbers, and underscores.\n",
        "They can start with a letter or an underscore, but not with a number.\n",
        "For instance, you can call a variable message_1 but not 1_message.\n",
        "- Spaces are not allowed in variable names, but underscores can be used\n",
        "to separate words in variable names. For example, greeting_message works,\n",
        "but greeting message will cause errors.\n",
        "- Avoid using Python keywords and function names as variable names;\n",
        "that is, do not use words that Python has reserved for a particular programmatic\n",
        "purpose, such as the word print. (See “Python Keywords\n",
        "and Built-in Functions” on page 489.)\n",
        "- Variable names should be short but descriptive. For example, name is\n",
        "better than n, student_name is better than s_n, and name_length is better\n",
        "than length_of_persons_name.\n",
        "- Be careful when using the lowercase letter l and the uppercase letter O because they could be confused with the numbers 1 and 0."
      ],
      "metadata": {
        "id": "IIMlLLuzg5Nl"
      }
    },
    {
      "cell_type": "markdown",
      "source": [
        ""
      ],
      "metadata": {
        "id": "jNfVnREGUXoT"
      }
    },
    {
      "cell_type": "code",
      "source": [
        ""
      ],
      "metadata": {
        "id": "6Ligs36VQ_KF"
      },
      "execution_count": null,
      "outputs": []
    }
  ]
}