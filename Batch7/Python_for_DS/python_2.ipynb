{
  "cells": [
    {
      "cell_type": "markdown",
      "metadata": {
        "id": "view-in-github",
        "colab_type": "text"
      },
      "source": [
        "<a href=\"https://colab.research.google.com/github/angelaaaateng/ftw_python/blob/main/python_2.ipynb\" target=\"_parent\"><img src=\"https://colab.research.google.com/assets/colab-badge.svg\" alt=\"Open In Colab\"/></a>"
      ]
    },
    {
      "cell_type": "markdown",
      "source": [
        "# Introduction to Python \n",
        "## FTW Foundation\n",
        "June 25, 2022 - Day 1\n",
        "\n",
        "## Outine: \n",
        "---\n",
        "1. Hello, World\n",
        "2. Python Basics\n",
        "3. Variables\n",
        "  - 3.1 Strings \n",
        "  - 3.2 Integers \n",
        "  - 3.3 Floats \n",
        "4. Data Types \n",
        " - 4.1 Lists \n",
        "    - Changing, Adding, and Removing Elements \n",
        "    - Organizing a List \n",
        "    - Avoiding Index Errors when Working with Lists\n",
        "    - Looping through an entire list\n",
        "    - Avoiding indentation errors\n",
        "    - Making numerical lists\n",
        "    - working with part of a list\n",
        " - 4.2 Tuples \n",
        " - 4.3 Dictionaries \n",
        "5. Functions **< we are here >**\n",
        "  - 5.1 Defining a Function\n",
        "  - 5.2 Passing Arguments \n",
        "  - 5.3 Return Values \n",
        "  - 5.4 Passing a List \n",
        "  - 5.5 Passing an Arbitrary Number of Arguments \n",
        "6. If statements \n",
        "7. While loops\n",
        "\n",
        "A. Appendix\n",
        " - A.1 Variable Naming Conventions\n",
        " - A.2 The Zen of Python\n",
        "\n",
        "\n",
        "\n",
        "## References: \n",
        "---\n",
        "- <a href='https://ehmatthes.github.io/pcc/index.html'>Python Crash Course</a>"
      ],
      "metadata": {
        "id": "xon7Of5beMxX"
      }
    },
    {
      "cell_type": "markdown",
      "metadata": {
        "id": "z6sGOquleE-7"
      },
      "source": [
        "Introducing Functions\n",
        "===\n",
        "One of the core principles of any programming language is, \"Don't Repeat Yourself\". If you have an action that should occur many times, you can define that action once and then call that code whenever you need to carry out that action."
      ]
    },
    {
      "cell_type": "markdown",
      "metadata": {
        "id": "Uu0-odWleE-_"
      },
      "source": [
        "What are functions?\n",
        "===\n",
        "Functions are a set of actions that we group together, and give a name to. You have already used a number of functions from the core Python language, such as *string.title()* and *list.sort()*. We can define our own functions, which allows us to \"teach\" Python new behavior.\n",
        "\n",
        "- Functions are named blocks of code\n",
        "that are designed to do one specific job.\n",
        "- When you want to perform a particular task\n",
        "that you’ve defined in a function, you call the name\n",
        "of the function responsible for it.\n",
        "- If you need to\n",
        "perform that task multiple times throughout your program, you don’t\n",
        "need to type all the code for the same task again and again; you just call\n",
        "the function dedicated to handling that task, and the call tells Python to\n",
        "run the code inside the function. \n",
        "- You’ll find that using functions makes\n",
        "your programs easier to write, read, test, and fix."
      ]
    },
    {
      "cell_type": "markdown",
      "metadata": {
        "id": "x5JIAMaZeE-_"
      },
      "source": [
        "General Syntax\n",
        "---\n",
        "A general function looks something like this:"
      ]
    },
    {
      "cell_type": "markdown",
      "source": [
        "Here’s a simple function named greet_user() that prints a greeting:"
      ],
      "metadata": {
        "id": "2OJhArEdfuUT"
      }
    },
    {
      "cell_type": "code",
      "source": [
        "def greet_user():\n",
        "  \"\"\"Display a simple greeting.\"\"\"\n",
        "  print(\"Hello!\")\n",
        "greet_user()"
      ],
      "metadata": {
        "colab": {
          "base_uri": "https://localhost:8080/"
        },
        "id": "QmAZuFrlfkYr",
        "outputId": "67cce8df-c58f-47ed-88d7-e6ffbc61dbd4"
      },
      "execution_count": null,
      "outputs": [
        {
          "output_type": "stream",
          "name": "stdout",
          "text": [
            "Hello!\n"
          ]
        }
      ]
    },
    {
      "cell_type": "markdown",
      "source": [
        "This example shows the simplest structure of a function. \n",
        "\n",
        "- Line 1 uses the keyword `def` to inform Python that you’re defining a function. This\n",
        "is the function definition, which tells Python the name of the function and, if\n",
        "applicable, what kind of information the function needs to do its job. The\n",
        "parentheses hold that information. In this case, the name of the function\n",
        "is `greet_user()`, and it needs no information to do its job, so its parentheses\n",
        "are empty. (Even so, the parentheses are required.) Finally, the definition\n",
        "ends in a colon."
      ],
      "metadata": {
        "id": "Yjgm2gl7fvF7"
      }
    },
    {
      "cell_type": "code",
      "execution_count": null,
      "metadata": {
        "id": "LKvSmi2neE-_",
        "colab": {
          "base_uri": "https://localhost:8080/",
          "height": 134
        },
        "outputId": "b6c7243a-761a-432e-a898-b46958152dec"
      },
      "outputs": [
        {
          "output_type": "error",
          "ename": "IndentationError",
          "evalue": "ignored",
          "traceback": [
            "\u001b[0;36m  File \u001b[0;32m\"<ipython-input-3-1e1797a1df33>\"\u001b[0;36m, line \u001b[0;32m8\u001b[0m\n\u001b[0;31m    function_name(value_1, value_2)\u001b[0m\n\u001b[0m                ^\u001b[0m\n\u001b[0;31mIndentationError\u001b[0m\u001b[0;31m:\u001b[0m expected an indented block\n"
          ]
        }
      ],
      "source": [
        "# Let's define a function.\n",
        "def function_name(argument_1, argument_2):\n",
        "\t# Do whatever we want this function to do,\n",
        "\t# using argument_1 and argument_2\n",
        "\t# need a return statement to run\n",
        "\n",
        "# Use function_name to call the function.\n",
        "function_name(value_1, value_2)"
      ]
    },
    {
      "cell_type": "markdown",
      "metadata": {
        "id": "LPXbsWnzeE_B"
      },
      "source": [
        "This code will not run, but it shows how functions are used in general.\n",
        "\n",
        "- **Defining a function**\n",
        "    - Give the keyword `def`, which tells Python that you are about to *define* a function.\n",
        "    - Give your function a name. A variable name tells you what kind of value the variable contains; a function name should tell you what the function does.\n",
        "    - Give names for each value the function needs in order to do its work.\n",
        "        - These are basically variable names, but they are only used in the function.\n",
        "        - They can be different names than what you use in the rest of your program.\n",
        "        - These are called the function's *arguments*.\n",
        "    - Make sure the function definition line ends with a colon.\n",
        "    - Inside the function, write whatever code you need to make the function do its work.\n",
        "- **Using your function**\n",
        "    - To *call* your function, write its name followed by parentheses.\n",
        "    - Inside the parentheses, give the values you want the function to work with.\n",
        "        - These can be variables such as `current_name` and `current_age`, or they can be actual values such as 'eric' and 5."
      ]
    },
    {
      "cell_type": "markdown",
      "metadata": {
        "id": "ejd-M9bzeE_B"
      },
      "source": [
        "Basic Examples\n",
        "===\n",
        "For a simple first example, we will look at a program that compliments people. Let's look at the example, and then try to understand the code. First we will look at a version of this program as we would have written it earlier, with no functions."
      ]
    },
    {
      "cell_type": "code",
      "execution_count": null,
      "metadata": {
        "id": "3ht_NAuEeE_C",
        "colab": {
          "base_uri": "https://localhost:8080/"
        },
        "outputId": "0aa47c5e-851d-47db-c3a7-072b4a357915"
      },
      "outputs": [
        {
          "output_type": "stream",
          "name": "stdout",
          "text": [
            "You are doing good work, Myk!\n",
            "Thank you very much for your efforts on this project.\n",
            "\n",
            "You are doing good work, Yves!\n",
            "Thank you very much for your efforts on this project.\n",
            "\n",
            "You are doing good work, LA!\n",
            "Thank you very much for your efforts on this project.\n"
          ]
        }
      ],
      "source": [
        "print(\"You are doing good work, Myk!\")\n",
        "print(\"Thank you very much for your efforts on this project.\")\n",
        "\n",
        "print(\"\\nYou are doing good work, Yves!\")\n",
        "print(\"Thank you very much for your efforts on this project.\")\n",
        "\n",
        "print(\"\\nYou are doing good work, LA!\")\n",
        "print(\"Thank you very much for your efforts on this project.\")"
      ]
    },
    {
      "cell_type": "markdown",
      "metadata": {
        "id": "cuV0bSZ7eE_C"
      },
      "source": [
        "Functions take repeated code, put it in one place, and then you call that code when you want to use it. Here's what the same program looks like with a function."
      ]
    },
    {
      "cell_type": "code",
      "execution_count": null,
      "metadata": {
        "id": "O6vDMN-ReE_D",
        "colab": {
          "base_uri": "https://localhost:8080/"
        },
        "outputId": "ea1ea6d2-360f-4b23-ebf4-18d13e721267"
      },
      "outputs": [
        {
          "output_type": "stream",
          "name": "stdout",
          "text": [
            "\n",
            "You are doing good work, Yves!\n",
            "Thank you very much for your efforts on this project.\n",
            "\n",
            "You are doing good work, Myk!\n",
            "Thank you very much for your efforts on this project.\n",
            "\n",
            "You are doing good work, LA!\n",
            "Thank you very much for your efforts on this project.\n"
          ]
        }
      ],
      "source": [
        "def thank_you(name):\n",
        "    # This function prints a two-line personalized thank you message.\n",
        "    print(\"\\nYou are doing good work, %s!\" % name)\n",
        "    print(\"Thank you very much for your efforts on this project.\")\n",
        "    \n",
        "thank_you('Yves')\n",
        "thank_you('Myk')\n",
        "thank_you('LA')"
      ]
    },
    {
      "cell_type": "markdown",
      "metadata": {
        "id": "xkrV4JpGeE_D"
      },
      "source": [
        "In our original code, each pair of print statements was run three times, and the only difference was the name of the person being thanked. When you see repetition like this, you can usually make your program more efficient by defining a function.\n",
        "\n",
        "The keyword *def* tells Python that we are about to define a function. We give our function a name, *thank\\_you()* in this case. A variable's name should tell us what kind of information it holds; a function's name should tell us what the variable does.  We then put parentheses. Inside these parenthese we create variable names for any variable the function will need to be given in order to do its job. In this case the function will need a name to include in the thank you message. The variable `name` will hold the value that is passed into the function *thank\\_you()*.\n",
        "\n",
        "To use a function we give the function's name, and then put any values the function needs in order to do its work. In this case we call the function three times, each time passing it a different name."
      ]
    },
    {
      "cell_type": "code",
      "source": [
        "def thank_you(name):\n",
        "    # This function prints a two-line personalized thank you message.\n",
        "    print(\"\\nYou are doing good work, \", name, \"!\")\n",
        "    print(\"Thank you very much for your efforts on this project.\")\n",
        "    \n",
        "thank_you('Yves')\n",
        "thank_you('Myk')\n",
        "thank_you('LA')"
      ],
      "metadata": {
        "colab": {
          "base_uri": "https://localhost:8080/"
        },
        "id": "gCdNQ5T5gWWM",
        "outputId": "70eb683b-2893-472b-bc55-6e46361d13b5"
      },
      "execution_count": null,
      "outputs": [
        {
          "output_type": "stream",
          "name": "stdout",
          "text": [
            "\n",
            "You are doing good work,  Yves !\n",
            "Thank you very much for your efforts on this project.\n",
            "\n",
            "You are doing good work,  Myk !\n",
            "Thank you very much for your efforts on this project.\n",
            "\n",
            "You are doing good work,  LA !\n",
            "Thank you very much for your efforts on this project.\n"
          ]
        }
      ]
    },
    {
      "cell_type": "markdown",
      "metadata": {
        "id": "U7OGz9JTeE_E"
      },
      "source": [
        "### A common error\n",
        "A function must be defined before you use it in your program. For example, putting the function at the end of the program would not work."
      ]
    },
    {
      "cell_type": "code",
      "execution_count": null,
      "metadata": {
        "id": "r61bhIOZeE_E",
        "colab": {
          "base_uri": "https://localhost:8080/",
          "height": 242
        },
        "outputId": "751c690f-4fda-434b-c715-6ffefef2798e"
      },
      "outputs": [
        {
          "output_type": "error",
          "ename": "NameError",
          "evalue": "ignored",
          "traceback": [
            "\u001b[0;31m---------------------------------------------------------------------------\u001b[0m",
            "\u001b[0;31mNameError\u001b[0m                                 Traceback (most recent call last)",
            "\u001b[0;32m<ipython-input-9-02f599e76800>\u001b[0m in \u001b[0;36m<module>\u001b[0;34m()\u001b[0m\n\u001b[0;32m----> 1\u001b[0;31m \u001b[0mthank_you_2\u001b[0m\u001b[0;34m(\u001b[0m\u001b[0;34m'Yves'\u001b[0m\u001b[0;34m)\u001b[0m\u001b[0;34m\u001b[0m\u001b[0;34m\u001b[0m\u001b[0m\n\u001b[0m\u001b[1;32m      2\u001b[0m \u001b[0mthank_you_2\u001b[0m\u001b[0;34m(\u001b[0m\u001b[0;34m'Myk'\u001b[0m\u001b[0;34m)\u001b[0m\u001b[0;34m\u001b[0m\u001b[0;34m\u001b[0m\u001b[0m\n\u001b[1;32m      3\u001b[0m \u001b[0mthank_you_2\u001b[0m\u001b[0;34m(\u001b[0m\u001b[0;34m'LA'\u001b[0m\u001b[0;34m)\u001b[0m\u001b[0;34m\u001b[0m\u001b[0;34m\u001b[0m\u001b[0m\n\u001b[1;32m      4\u001b[0m \u001b[0;34m\u001b[0m\u001b[0m\n\u001b[1;32m      5\u001b[0m \u001b[0;32mdef\u001b[0m \u001b[0mthank_you_2\u001b[0m\u001b[0;34m(\u001b[0m\u001b[0mname\u001b[0m\u001b[0;34m)\u001b[0m\u001b[0;34m:\u001b[0m\u001b[0;34m\u001b[0m\u001b[0;34m\u001b[0m\u001b[0m\n",
            "\u001b[0;31mNameError\u001b[0m: name 'thank_you_2' is not defined"
          ]
        }
      ],
      "source": [
        "thank_you_2('Yves')\n",
        "thank_you_2('Myk')\n",
        "thank_you_2('LA')\n",
        "\n",
        "def thank_you_2(name):\n",
        "    # This function prints a two-line personalized thank you message.\n",
        "    print(\"\\nYou are doing good work, %s!\" % name)\n",
        "    print(\"Thank you very much for your efforts on this project.\")"
      ]
    },
    {
      "cell_type": "markdown",
      "metadata": {
        "id": "ZOIjxZz4eE_E"
      },
      "source": [
        "On the first line we ask Python to run the function *thank\\_you()*, but Python does not yet know how to do this function. We define our functions at the beginning of our programs, and then we can use them when we need to."
      ]
    },
    {
      "cell_type": "markdown",
      "metadata": {
        "id": "v-mGaQGHeE_F"
      },
      "source": [
        "A second example\n",
        "---\n",
        "When we introduced the different methods for [sorting a list](http://nbviewer.ipython.org/urls/raw.github.com/ehmatthes/intro_programming/master/notebooks/lists_tuples.ipynb#sorting_list), our code got very repetitive. It takes two lines of code to print a list using a for loop, so these two lines are repeated whenever you want to print out the contents of a list. This is the perfect opportunity to use a function, so let's see how the code looks with a function.\n",
        "\n",
        "First, let's see the code we had without a function:"
      ]
    },
    {
      "cell_type": "code",
      "execution_count": null,
      "metadata": {
        "id": "ke9xbm0seE_F",
        "colab": {
          "base_uri": "https://localhost:8080/"
        },
        "outputId": "c177ef39-ad8b-496d-843b-ad4e87782b8d"
      },
      "outputs": [
        {
          "output_type": "stream",
          "name": "stdout",
          "text": [
            "Our students are currently in alphabetical order.\n",
            "Aaron\n",
            "Bernice\n",
            "Cody\n",
            "\n",
            "Our students are now in reverse alphabetical order.\n",
            "Cody\n",
            "Bernice\n",
            "Aaron\n"
          ]
        }
      ],
      "source": [
        "students = ['bernice', 'aaron', 'cody']\n",
        "\n",
        "# Put students in alphabetical order.\n",
        "students.sort()\n",
        "\n",
        "# Display the list in its current order.\n",
        "print(\"Our students are currently in alphabetical order.\")\n",
        "for student in students:\n",
        "    print(student.title())\n",
        "\n",
        "# Put students in reverse alphabetical order.\n",
        "students.sort(reverse=True)\n",
        "\n",
        "# Display the list in its current order.\n",
        "print(\"\\nOur students are now in reverse alphabetical order.\")\n",
        "for student in students:\n",
        "    print(student.title())"
      ]
    },
    {
      "cell_type": "markdown",
      "metadata": {
        "id": "kO5ChDfLeE_F"
      },
      "source": [
        "Here's what the same code looks like, using a function to print out the list:"
      ]
    },
    {
      "cell_type": "code",
      "execution_count": null,
      "metadata": {
        "id": "XnP70U8IeE_F",
        "colab": {
          "base_uri": "https://localhost:8080/"
        },
        "outputId": "b22dec07-1a02-4194-e5ac-a58a424ed022"
      },
      "outputs": [
        {
          "output_type": "stream",
          "name": "stdout",
          "text": [
            "Our students are currently in alphabetical order.\n",
            "Aaron\n",
            "Bernice\n",
            "Cody\n",
            "\n",
            "Our students are now in reverse alphabetical order.\n",
            "Cody\n",
            "Bernice\n",
            "Aaron\n"
          ]
        }
      ],
      "source": [
        "def show_students(students, message):\n",
        "    # Print out a message, and then the list of students\n",
        "    print(message)\n",
        "    for student in students:\n",
        "        print(student.title())\n",
        "\n",
        "students = ['bernice', 'aaron', 'cody']\n",
        "\n",
        "# Put students in alphabetical order.\n",
        "students.sort()\n",
        "show_students(students, \"Our students are currently in alphabetical order.\")\n",
        "\n",
        "#Put students in reverse alphabetical order.\n",
        "students.sort(reverse=True)\n",
        "show_students(students, \"\\nOur students are now in reverse alphabetical order.\")"
      ]
    },
    {
      "cell_type": "markdown",
      "metadata": {
        "id": "OgIcNfMReE_G"
      },
      "source": [
        "This is much cleaner code. We have an action we want to take, which is to show the students in our list along with a message. We give this action a name, *show\\_students()*. \n",
        "\n",
        "This function needs two pieces of information to do its work, the list of students and a message to display. Inside the function, the code for printing the message and looping through the list is exactly as it was in the non-function code.\n",
        "\n",
        "Now the rest of our program is cleaner, because it gets to focus on the things we are changing in the list, rather than having code for printing the list. We define the list, then we sort it and call our function to print the list. We sort it again, and then call the printing function a second time, with a different message. This is much more readable code.\n",
        "\n",
        "### Advantages of using functions\n",
        "You might be able to see some advantages of using functions, through this example:\n",
        "\n",
        "- We write a set of instructions once. We save some work in this simple example, and we save even more work in larger programs.\n",
        "- When our function works, we don't have to worry about that code anymore. Every time you repeat code in your program, you introduce an opportunity to make a mistake. Writing a function means there is one place to fix mistakes, and when those bugs are fixed, we can be confident that this function will continue to work correctly.\n",
        "- We can modify our function's behavior, and that change takes effect every time the function is called. This is much better than deciding we need some new behavior, and then having to change code in many different places in our program."
      ]
    },
    {
      "cell_type": "markdown",
      "metadata": {
        "id": "3xeVuc62eE_G"
      },
      "source": [
        "For a quick example, let's say we decide our printed output would look better with some form of a bulleted list. Without functions, we'd have to change each print statement. With a function, we change just the print statement in the function:"
      ]
    },
    {
      "cell_type": "code",
      "execution_count": null,
      "metadata": {
        "id": "KAjVR6KteE_G",
        "colab": {
          "base_uri": "https://localhost:8080/"
        },
        "outputId": "5f00e949-34b6-421c-8401-7dc6434545bd"
      },
      "outputs": [
        {
          "output_type": "stream",
          "name": "stdout",
          "text": [
            "Our students are currently in alphabetical order.\n",
            "- Aaron\n",
            "- Bernice\n",
            "- Cody\n",
            "\n",
            "Our students are now in reverse alphabetical order.\n",
            "- Cody\n",
            "- Bernice\n",
            "- Aaron\n"
          ]
        }
      ],
      "source": [
        "def show_students(students, message):\n",
        "    # Print out a message, and then the list of students\n",
        "    print(message)\n",
        "    for student in students:\n",
        "        print(\"- \" + student.title())\n",
        "\n",
        "students = ['bernice', 'aaron', 'cody']\n",
        "\n",
        "# Put students in alphabetical order.\n",
        "students.sort()\n",
        "show_students(students, \"Our students are currently in alphabetical order.\")\n",
        "\n",
        "#Put students in reverse alphabetical order.\n",
        "students.sort(reverse=True)\n",
        "show_students(students, \"\\nOur students are now in reverse alphabetical order.\")"
      ]
    },
    {
      "cell_type": "markdown",
      "metadata": {
        "id": "m_HCxMhPeE_G"
      },
      "source": [
        "You can think of functions as a way to \"teach\" Python some new behavior. In this case, we taught Python how to create a list of students using hyphens; now we can tell Python to do this with our students whenever we want to."
      ]
    },
    {
      "cell_type": "markdown",
      "metadata": {
        "id": "FjXceZPueE_G"
      },
      "source": [
        "Returning a Value\n",
        "---\n",
        "Each function you create can return a value. This can be in addition to the primary work the function does, or it can be the function's main job. The following function takes in a number, and returns the corresponding word for that number:"
      ]
    },
    {
      "cell_type": "code",
      "execution_count": null,
      "metadata": {
        "id": "LCLOYqFkeE_H",
        "colab": {
          "base_uri": "https://localhost:8080/"
        },
        "outputId": "728f175a-1d03-492b-9921-5f0e313b63c0"
      },
      "outputs": [
        {
          "output_type": "stream",
          "name": "stdout",
          "text": [
            "0 None\n",
            "1 one\n",
            "2 two\n",
            "3 three\n"
          ]
        }
      ],
      "source": [
        "def get_number_word(number):\n",
        "    # Takes in a numerical value, and returns\n",
        "    #  the word corresponding to that number.\n",
        "    if number == 1:\n",
        "        return 'one'\n",
        "    elif number == 2:\n",
        "        return 'two'\n",
        "    elif number == 3:\n",
        "        return 'three'\n",
        "    # ...\n",
        "    \n",
        "# Let's try out our function.\n",
        "for current_number in range(0,4):\n",
        "    number_word = get_number_word(current_number)\n",
        "    print(current_number, number_word)"
      ]
    },
    {
      "cell_type": "markdown",
      "metadata": {
        "id": "Ni3AgFJVeE_H"
      },
      "source": [
        "It's helpful sometimes to see programs that don't quite work as they are supposed to, and then see how those programs can be improved. In this case, there are no Python errors; all of the code has proper Python syntax. But there is a logical error, in the first line of the output.\n",
        "\n",
        "We want to either not include 0 in the range we send to the function, or have the function return something other than `None` when it receives a value that it doesn't know. Let's teach our function the word 'zero', but let's also add an `else` clause that returns a more informative message for numbers that are not in the if-chain."
      ]
    },
    {
      "cell_type": "code",
      "execution_count": null,
      "metadata": {
        "id": "l6hlIhfGeE_H",
        "colab": {
          "base_uri": "https://localhost:8080/"
        },
        "outputId": "57951f57-eb71-49c0-a7b5-36e783322502"
      },
      "outputs": [
        {
          "output_type": "stream",
          "name": "stdout",
          "text": [
            "0 zero\n",
            "1 one\n",
            "2 two\n",
            "3 three\n",
            "4 I'm sorry, I don't know that number.\n",
            "5 I'm sorry, I don't know that number.\n"
          ]
        }
      ],
      "source": [
        "###highlight=[13,14,17]\n",
        "def get_number_word(number):\n",
        "    # Takes in a numerical value, and returns\n",
        "    #  the word corresponding to that number.\n",
        "    if number == 0:\n",
        "        return 'zero'\n",
        "    elif number == 1:\n",
        "        return 'one'\n",
        "    elif number == 2:\n",
        "        return 'two'\n",
        "    elif number == 3:\n",
        "        return 'three'\n",
        "    else:\n",
        "        return \"I'm sorry, I don't know that number.\"\n",
        "    \n",
        "# Let's try out our function.\n",
        "for current_number in range(0,6):\n",
        "    number_word = get_number_word(current_number)\n",
        "    print(current_number, number_word)"
      ]
    },
    {
      "cell_type": "markdown",
      "metadata": {
        "id": "q7a2zJ2ZeE_H"
      },
      "source": [
        "If you use a return statement in one of your functions, keep in mind that the function stops executing as soon as it hits a return statement. For example, we can add a line to the *get\\_number\\_word()* function that will never execute, because it comes after the function has returned a value:"
      ]
    },
    {
      "cell_type": "code",
      "execution_count": null,
      "metadata": {
        "id": "UHF3wFJWeE_H",
        "colab": {
          "base_uri": "https://localhost:8080/"
        },
        "outputId": "734c74ec-7b69-4cbb-e634-27c1be5eca31"
      },
      "outputs": [
        {
          "output_type": "stream",
          "name": "stdout",
          "text": [
            "0 zero\n",
            "1 one\n",
            "2 two\n",
            "3 three\n",
            "4 I'm sorry, I don't know that number.\n",
            "5 I'm sorry, I don't know that number.\n"
          ]
        }
      ],
      "source": [
        "def get_number_word(number):\n",
        "    # Takes in a numerical value, and returns\n",
        "    #  the word corresponding to that number.\n",
        "    if number == 0:\n",
        "        return 'zero'\n",
        "    elif number == 1:\n",
        "        return 'one'\n",
        "    elif number == 2:\n",
        "        return 'two'\n",
        "    elif number == 3:\n",
        "        return 'three'\n",
        "    else:\n",
        "        return \"I'm sorry, I don't know that number.\"\n",
        "    \n",
        "    # This line will never execute, because the function has already\n",
        "    #  returned a value and stopped executing.\n",
        "    print(\"This message will never be printed.\")\n",
        "    \n",
        "# Let's try out our function.\n",
        "for current_number in range(0,6):\n",
        "    number_word = get_number_word(current_number)\n",
        "    print(current_number, number_word)"
      ]
    },
    {
      "cell_type": "markdown",
      "metadata": {
        "id": "-j7xCDObeE_I"
      },
      "source": [
        "More Later\n",
        "---\n",
        "There is much more to learn about functions, but we will get to those details later. For now, feel free to use functions whenever you find yourself writing the same code several times in a program. Some of the things you will learn when we focus on functions:\n",
        "\n",
        "- How to give the arguments in your function default values.\n",
        "- How to let your functions accept different numbers of arguments."
      ]
    },
    {
      "cell_type": "markdown",
      "source": [
        "## DIY 1: Favorite Book\n",
        "Write a function called favorite_book() that accepts one\n",
        "parameter, title. The function should print a message, such as One of my\n",
        "favorite books is Alice in Wonderland. Call the function, making sure to\n",
        "include a book title as an argument in the function call."
      ],
      "metadata": {
        "id": "-J4OmP65O1MC"
      }
    },
    {
      "cell_type": "code",
      "execution_count": null,
      "metadata": {
        "id": "Zjq32MEdeE_I"
      },
      "outputs": [],
      "source": [
        ""
      ]
    }
  ],
  "metadata": {
    "kernelspec": {
      "display_name": "Python 3",
      "language": "python",
      "name": "python3"
    },
    "language_info": {
      "codemirror_mode": {
        "name": "ipython",
        "version": 3
      },
      "file_extension": ".py",
      "mimetype": "text/x-python",
      "name": "python",
      "nbconvert_exporter": "python",
      "pygments_lexer": "ipython3",
      "version": "3.8.3"
    },
    "colab": {
      "name": "python_2.ipynb",
      "provenance": [],
      "collapsed_sections": [],
      "include_colab_link": true
    }
  },
  "nbformat": 4,
  "nbformat_minor": 0
}