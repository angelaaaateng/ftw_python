{
  "cells": [
    {
      "cell_type": "markdown",
      "metadata": {
        "id": "view-in-github",
        "colab_type": "text"
      },
      "source": [
        "<a href=\"https://colab.research.google.com/github/angelaaaateng/ftw_python/blob/main/python_14_more_science.ipynb\" target=\"_parent\"><img src=\"https://colab.research.google.com/assets/colab-badge.svg\" alt=\"Open In Colab\"/></a>"
      ]
    },
    {
      "cell_type": "markdown",
      "metadata": {
        "id": "fHUfWY3BszaN"
      },
      "source": [
        "04.1 SciPy  \n",
        "===\n",
        " \n",
        "SciPy, pronounced as Sigh Pi, is a scientific python open source, distributed under the BSD licensed library to perform Mathematical, Scientific and Engineering Computations. The SciPy library depends on NumPy, which provides convenient and fast N-dimensional array manipulation.\n",
        "\n",
        "https://docs.scipy.org/doc/scipy/reference/\n",
        "\n",
        "SciPy, pronounced as Sigh Pi, is a scientific python open source, distributed under the BSD licensed library to perform Mathematical, Scientific and Engineering Computations. The SciPy library depends on NumPy, which provides convenient and fast N-dimensional array manipulation.\n",
        "\n",
        "Scikit-learn (Sklearn) is the most useful and robust library for machine learning in Python. It provides a selection of efficient tools for machine learning and statistical modeling including classification, regression, clustering and dimensionality reduction via a consistence interface in Python. This library, which is largely written in Python, is built upon NumPy, SciPy and Matplotlib."
      ]
    },
    {
      "cell_type": "markdown",
      "metadata": {
        "id": "Rf7ri32_szaQ"
      },
      "source": [
        "|    Sub Package    | Description                            |\n",
        "|:-----------------:|----------------------------------------|\n",
        "|   scipy.cluster   | Vector quantization / Kmeans           |\n",
        "|  scipy.constants  | Physical and mathematical constants    |\n",
        "|   scipy.fftpack   | Fourier transform                      |\n",
        "|  scipy.integrate  | Integration routines                   |\n",
        "| scipy.interpolate | Interpolation                          |\n",
        "|      scipy.io     | Data input and output                  |\n",
        "|    scipy.linalg   | Linear algebra routines                |\n",
        "|   scipy.ndimage   | n-dimensional image package            |\n",
        "|     scipy.odr     | Orthogonal distance regression         |\n",
        "|   scipy.optimize  | Optimization                           |\n",
        "|    scipy.signal   | Signal processing                      |\n",
        "|    scipy.sparse   | Sparse matrices                        |\n",
        "|   scipy.spatial   | Spatial data structures and algorithms |\n",
        "|   scipy.special   | Any special mathematical functions     |\n",
        "|    scipy.stats    | Statistics                             |"
      ]
    },
    {
      "cell_type": "markdown",
      "metadata": {
        "id": "Hl8zj4elszaR"
      },
      "source": [
        "04.2 Scikit-Learn\n",
        "===\n",
        "\n",
        "\n",
        "Scikit-learn (Sklearn) is the most useful and robust library for machine learning in Python. It provides a selection of efficient tools for machine learning and statistical modeling including classification, regression, clustering and dimensionality reduction via a consistence interface in Python. This library, which is largely written in Python, is built upon NumPy, SciPy and Matplotlib."
      ]
    },
    {
      "cell_type": "markdown",
      "metadata": {
        "id": "5FD5RkwEszaS"
      },
      "source": [
        "![scikitlearn](https://github.com/ogbinar/python_ds/blob/master/img/Scikit-learn_machine_learning_decision_tree.png?raw=1)"
      ]
    },
    {
      "cell_type": "markdown",
      "metadata": {
        "id": "04G7eQB6szaS"
      },
      "source": [
        "Rather than focusing on loading, manipulating and summarising data, Scikit-learn library is focused on modeling the data. Some of the most popular groups of models provided by Sklearn are as follows −\n",
        "\n",
        "* Supervised Learning algorithms − Almost all the popular supervised learning algorithms, like Linear Regression, Support Vector Machine (SVM), Decision Tree etc., are the part of scikit-learn.\n",
        "\n",
        "* Unsupervised Learning algorithms − On the other hand, it also has all the popular unsupervised learning algorithms from clustering, factor analysis, PCA (Principal Component Analysis) to unsupervised neural networks.\n",
        "\n",
        "* Clustering − This model is used for grouping unlabeled data.\n",
        "\n",
        "* Cross Validation − It is used to check the accuracy of supervised models on unseen data.\n",
        "\n",
        "* Dimensionality Reduction − It is used for reducing the number of attributes in data which can be further used for summarisation, visualisation and feature selection.\n",
        "\n",
        "* Ensemble methods − As name suggest, it is used for combining the predictions of multiple supervised models.\n",
        "\n",
        "* Feature extraction − It is used to extract the features from data to define the attributes in image and text data.\n",
        "\n",
        "* Feature selection − It is used to identify useful attributes to create supervised models.\n",
        "\n",
        "* Open Source − It is open source library and also commercially usable under BSD license."
      ]
    },
    {
      "cell_type": "code",
      "execution_count": null,
      "metadata": {
        "id": "UQ4pB_5zszaT"
      },
      "outputs": [],
      "source": [
        ""
      ]
    }
  ],
  "metadata": {
    "kernelspec": {
      "display_name": "Python 3",
      "language": "python",
      "name": "python3"
    },
    "language_info": {
      "codemirror_mode": {
        "name": "ipython",
        "version": 3
      },
      "file_extension": ".py",
      "mimetype": "text/x-python",
      "name": "python",
      "nbconvert_exporter": "python",
      "pygments_lexer": "ipython3",
      "version": "3.8.3"
    },
    "colab": {
      "name": "python_14_more_science.ipynb",
      "provenance": [],
      "include_colab_link": true
    }
  },
  "nbformat": 4,
  "nbformat_minor": 0
}