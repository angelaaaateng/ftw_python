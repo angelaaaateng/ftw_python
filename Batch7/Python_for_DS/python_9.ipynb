{
  "cells": [
    {
      "cell_type": "markdown",
      "metadata": {
        "id": "view-in-github",
        "colab_type": "text"
      },
      "source": [
        "<a href=\"https://colab.research.google.com/github/angelaaaateng/ftw_python/blob/main/python_9.ipynb\" target=\"_parent\"><img src=\"https://colab.research.google.com/assets/colab-badge.svg\" alt=\"Open In Colab\"/></a>"
      ]
    },
    {
      "cell_type": "markdown",
      "source": [
        "# Introduction to Python \n",
        "## FTW Foundation\n",
        "June 25, 2022 - Day 1\n",
        "\n",
        "## Outine: \n",
        "---\n",
        "1. Hello, World\n",
        "2. Python Basics\n",
        "3. Variables\n",
        "  - 3.1 Strings \n",
        "  - 3.2 Integers \n",
        "  - 3.3 Floats \n",
        "4. Data Types \n",
        " - 4.1 Lists \n",
        " - 4.2 Tuples \n",
        " - 4.3 Dictionaries \n",
        "5. Functions \n",
        "6. If statements \n",
        "7. While loops\n",
        "8. More Functions \n",
        "9. File IO \n",
        "10. Error Handling\n",
        "11. Terminal Apps\n",
        "\n",
        "A. Appendix\n",
        " - A.1 Variable Naming Conventions\n",
        " - A.2 The Zen of Python\n",
        "\n",
        "\n",
        "\n",
        "## References: \n",
        "---\n",
        "- <a href='https://ehmatthes.github.io/pcc/index.html'>Python Crash Course</a>"
      ],
      "metadata": {
        "id": "sopjZ90YcTFW"
      }
    },
    {
      "cell_type": "markdown",
      "metadata": {
        "id": "KMoWPPnyb-9O"
      },
      "source": [
        "# Try Except"
      ]
    },
    {
      "cell_type": "markdown",
      "metadata": {
        "id": "T0VG0DJHb-9T"
      },
      "source": [
        "The **try** block lets you test a block of code for errors.\n",
        "\n",
        "The **except** block lets you handle the error.\n",
        "\n",
        "The **finally** block lets you execute code, regardless of the result of the try- and except blocks."
      ]
    },
    {
      "cell_type": "markdown",
      "metadata": {
        "id": "Mmu49Nzkb-9T"
      },
      "source": [
        "# Exception Handling\n",
        "When an error occurs, or exception as we call it, Python will normally stop and generate an error message.\n",
        "\n",
        "These exceptions can be handled using the try statement:"
      ]
    },
    {
      "cell_type": "code",
      "source": [
        "print(x)"
      ],
      "metadata": {
        "colab": {
          "base_uri": "https://localhost:8080/",
          "height": 166
        },
        "id": "Mihcoi5uF7dO",
        "outputId": "5f220746-8a61-425a-d5fa-eb37772526ad"
      },
      "execution_count": 1,
      "outputs": [
        {
          "output_type": "error",
          "ename": "NameError",
          "evalue": "ignored",
          "traceback": [
            "\u001b[0;31m---------------------------------------------------------------------------\u001b[0m",
            "\u001b[0;31mNameError\u001b[0m                                 Traceback (most recent call last)",
            "\u001b[0;32m<ipython-input-1-fc17d851ef81>\u001b[0m in \u001b[0;36m<module>\u001b[0;34m()\u001b[0m\n\u001b[0;32m----> 1\u001b[0;31m \u001b[0mprint\u001b[0m\u001b[0;34m(\u001b[0m\u001b[0mx\u001b[0m\u001b[0;34m)\u001b[0m\u001b[0;34m\u001b[0m\u001b[0;34m\u001b[0m\u001b[0m\n\u001b[0m",
            "\u001b[0;31mNameError\u001b[0m: name 'x' is not defined"
          ]
        }
      ]
    },
    {
      "cell_type": "markdown",
      "source": [
        "- \"compile time error\" \n",
        "- \"runtime error\" "
      ],
      "metadata": {
        "id": "9YdYp6Lyk_Cc"
      }
    },
    {
      "cell_type": "code",
      "execution_count": 2,
      "metadata": {
        "id": "LnTDkfRWb-9U",
        "outputId": "9ba79acc-d49a-4bb1-c5c8-14d1d67212e5",
        "colab": {
          "base_uri": "https://localhost:8080/"
        }
      },
      "outputs": [
        {
          "output_type": "stream",
          "name": "stdout",
          "text": [
            "An exception occurred\n"
          ]
        }
      ],
      "source": [
        "#The try block will generate an exception, because x is not defined:\n",
        "\n",
        "try:\n",
        "  print(x)\n",
        "except:\n",
        "  print(\"An exception occurred\")"
      ]
    },
    {
      "cell_type": "code",
      "source": [
        "#The try block will generate an exception, because x is not defined:\n",
        "\n",
        "try:\n",
        "  print(x)\n",
        "except:\n",
        "  print(\"X is not defined, fam. Define x so you don't get an exception uwu\")"
      ],
      "metadata": {
        "colab": {
          "base_uri": "https://localhost:8080/"
        },
        "id": "xE2I3NrqCK2g",
        "outputId": "f6714e72-bc8c-48d4-87db-e9b7ac3edf13"
      },
      "execution_count": 4,
      "outputs": [
        {
          "output_type": "stream",
          "name": "stdout",
          "text": [
            "X is not defined, fam. Define x so you don't get an exception uwu\n"
          ]
        }
      ]
    },
    {
      "cell_type": "code",
      "source": [
        "#The try block will generate an exception, because x is not defined:\n",
        "\n",
        "x = \"Hello :-) \"\n",
        "\n",
        "try:\n",
        "  print(x)\n",
        "except:\n",
        "  print(\"X is not defined, fam. Define x so you don't get an exception uwu\")"
      ],
      "metadata": {
        "colab": {
          "base_uri": "https://localhost:8080/"
        },
        "id": "yfnqH_X1CVQD",
        "outputId": "1e990e8d-c44f-4abe-e74f-b87ad732f0f9"
      },
      "execution_count": 6,
      "outputs": [
        {
          "output_type": "stream",
          "name": "stdout",
          "text": [
            "Hello :-) \n"
          ]
        }
      ]
    },
    {
      "cell_type": "markdown",
      "source": [
        "Python uses special objects called exceptions to manage errors that arise during\n",
        "a program’s execution. Whenever an error occurs that makes Python\n",
        "unsure what to do next, it creates an exception object. If you write code\n",
        "that handles the exception, the program will continue running. If you don’t\n",
        "handle the exception, the program will halt and show a traceback, which\n",
        "includes a report of the exception that was raised."
      ],
      "metadata": {
        "id": "Z0BEvT_LFyon"
      }
    },
    {
      "cell_type": "markdown",
      "source": [
        "Exceptions are handled with try-except blocks. \n",
        "\n",
        "A try-except block asks\n",
        "Python to do something, but it also tells Python what to do if an exception\n",
        "is raised. When you use try-except blocks, your programs will continue\n",
        "running even if things start to go wrong. \n",
        "\n",
        "Instead of tracebacks, which can\n",
        "be confusing for users to read, users will see friendly error messages that\n",
        "you write."
      ],
      "metadata": {
        "id": "yrE2VjA6F3Ws"
      }
    },
    {
      "cell_type": "markdown",
      "metadata": {
        "id": "IB0FoVY8b-9W"
      },
      "source": [
        "# Many Exceptions\n",
        "You can define as many exception blocks as you want, e.g. if you want to execute a special block of code for a special kind of error:"
      ]
    },
    {
      "cell_type": "code",
      "execution_count": 7,
      "metadata": {
        "id": "KAX3YCG8b-9W",
        "outputId": "213d5a7f-d280-41dd-f242-e78047839b54",
        "colab": {
          "base_uri": "https://localhost:8080/"
        }
      },
      "outputs": [
        {
          "output_type": "stream",
          "name": "stdout",
          "text": [
            "Variable y is not defined\n"
          ]
        }
      ],
      "source": [
        "try:\n",
        "  print(y)\n",
        "except NameError:\n",
        "  print(\"Variable y is not defined\")\n",
        "except:\n",
        "  print(\"Something else went wrong\")"
      ]
    },
    {
      "cell_type": "markdown",
      "metadata": {
        "id": "SqTc7PR9b-9W"
      },
      "source": [
        "# Else\n",
        "You can use the else keyword to define a block of code to be executed if no errors were raised:"
      ]
    },
    {
      "cell_type": "code",
      "execution_count": 8,
      "metadata": {
        "id": "HwLy2mpHb-9X",
        "outputId": "c5b29f83-5d6e-4b45-bc25-934db395b49c",
        "colab": {
          "base_uri": "https://localhost:8080/"
        }
      },
      "outputs": [
        {
          "output_type": "stream",
          "name": "stdout",
          "text": [
            "Hello\n",
            "Nothing went wrong\n"
          ]
        }
      ],
      "source": [
        "#In this example, the try block does not generate any error:\n",
        "\n",
        "try:\n",
        "  print(\"Hello\")\n",
        "except:\n",
        "  print(\"Something went wrong\")\n",
        "else:\n",
        "  print(\"Nothing went wrong\")"
      ]
    },
    {
      "cell_type": "markdown",
      "metadata": {
        "id": "LPHeiq9Vb-9X"
      },
      "source": [
        "# Finally\n",
        "The finally block, if specified, will be executed regardless if the try block raises an error or not."
      ]
    },
    {
      "cell_type": "code",
      "execution_count": 9,
      "metadata": {
        "id": "BVGsBcm8b-9Y",
        "outputId": "ae24c81f-ce1d-4a85-c71f-f3b386c16c3f",
        "colab": {
          "base_uri": "https://localhost:8080/"
        }
      },
      "outputs": [
        {
          "output_type": "stream",
          "name": "stdout",
          "text": [
            "Something went wrong\n",
            "The 'try except' is finished\n"
          ]
        }
      ],
      "source": [
        "try:\n",
        "  print(w)\n",
        "except:\n",
        "  print(\"Something went wrong\")\n",
        "finally:\n",
        "  print(\"The 'try except' is finished\")"
      ]
    },
    {
      "cell_type": "code",
      "execution_count": 11,
      "metadata": {
        "id": "FOGP1gB4b-9Y",
        "outputId": "3fcff479-dcde-4dc3-b143-b2f19efac6b4",
        "colab": {
          "base_uri": "https://localhost:8080/",
          "height": 253
        }
      },
      "outputs": [
        {
          "output_type": "stream",
          "name": "stdout",
          "text": [
            "Something went wrong when writing to the file\n"
          ]
        },
        {
          "output_type": "error",
          "ename": "NameError",
          "evalue": "ignored",
          "traceback": [
            "\u001b[0;31m---------------------------------------------------------------------------\u001b[0m",
            "\u001b[0;31mNameError\u001b[0m                                 Traceback (most recent call last)",
            "\u001b[0;32m<ipython-input-11-f2f496be479a>\u001b[0m in \u001b[0;36m<module>\u001b[0;34m()\u001b[0m\n\u001b[1;32m      9\u001b[0m   \u001b[0mprint\u001b[0m\u001b[0;34m(\u001b[0m\u001b[0;34m\"Something went wrong when writing to the file\"\u001b[0m\u001b[0;34m)\u001b[0m\u001b[0;34m\u001b[0m\u001b[0;34m\u001b[0m\u001b[0m\n\u001b[1;32m     10\u001b[0m \u001b[0;32mfinally\u001b[0m\u001b[0;34m:\u001b[0m\u001b[0;34m\u001b[0m\u001b[0;34m\u001b[0m\u001b[0m\n\u001b[0;32m---> 11\u001b[0;31m   \u001b[0mf\u001b[0m\u001b[0;34m.\u001b[0m\u001b[0mclose\u001b[0m\u001b[0;34m(\u001b[0m\u001b[0;34m)\u001b[0m\u001b[0;34m\u001b[0m\u001b[0;34m\u001b[0m\u001b[0m\n\u001b[0m\u001b[1;32m     12\u001b[0m \u001b[0;34m\u001b[0m\u001b[0m\n\u001b[1;32m     13\u001b[0m \u001b[0;31m#The program can continue, without leaving the file object open.\u001b[0m\u001b[0;34m\u001b[0m\u001b[0;34m\u001b[0m\u001b[0;34m\u001b[0m\u001b[0m\n",
            "\u001b[0;31mNameError\u001b[0m: name 'f' is not defined"
          ]
        }
      ],
      "source": [
        "#This can be useful to close objects and clean up resources:\n",
        "    \n",
        "#Try to open and write to a file that is not writable:\n",
        "\n",
        "try:\n",
        "  f = open(\"demofile.txt\")\n",
        "  f.write(\"Lorum Ipsum\")\n",
        "except:\n",
        "  print(\"Something went wrong when writing to the file\")\n",
        "finally:\n",
        "  f.close()\n",
        "\n",
        "#The program can continue, without leaving the file object open."
      ]
    },
    {
      "cell_type": "markdown",
      "metadata": {
        "id": "Vhp2xUA0b-9Z"
      },
      "source": [
        "# Raise an exception\n",
        "As a Python developer you can choose to throw an exception if a condition occurs.\n",
        "\n",
        "To throw (or raise) an exception, use the raise keyword."
      ]
    },
    {
      "cell_type": "code",
      "execution_count": 13,
      "metadata": {
        "id": "pHiLGwLkb-9b",
        "colab": {
          "base_uri": "https://localhost:8080/",
          "height": 201
        },
        "outputId": "7be76c9d-1b3d-4cc8-aff7-e59196740656"
      },
      "outputs": [
        {
          "output_type": "error",
          "ename": "Exception",
          "evalue": "ignored",
          "traceback": [
            "\u001b[0;31m---------------------------------------------------------------------------\u001b[0m",
            "\u001b[0;31mException\u001b[0m                                 Traceback (most recent call last)",
            "\u001b[0;32m<ipython-input-13-ab80e4044a59>\u001b[0m in \u001b[0;36m<module>\u001b[0;34m()\u001b[0m\n\u001b[1;32m      4\u001b[0m \u001b[0;34m\u001b[0m\u001b[0m\n\u001b[1;32m      5\u001b[0m \u001b[0;32mif\u001b[0m \u001b[0mx\u001b[0m \u001b[0;34m<\u001b[0m \u001b[0;36m0\u001b[0m\u001b[0;34m:\u001b[0m\u001b[0;34m\u001b[0m\u001b[0;34m\u001b[0m\u001b[0m\n\u001b[0;32m----> 6\u001b[0;31m   \u001b[0;32mraise\u001b[0m \u001b[0mException\u001b[0m\u001b[0;34m(\u001b[0m\u001b[0;34m\"Sorry, no numbers below zero\"\u001b[0m\u001b[0;34m)\u001b[0m\u001b[0;34m\u001b[0m\u001b[0;34m\u001b[0m\u001b[0m\n\u001b[0m",
            "\u001b[0;31mException\u001b[0m: Sorry, no numbers below zero"
          ]
        }
      ],
      "source": [
        "#Raise an error and stop the program if x is lower than 0:\n",
        "\n",
        "x = -1\n",
        "\n",
        "if x < 0:\n",
        "  raise Exception(\"Sorry, no numbers below zero\")"
      ]
    },
    {
      "cell_type": "markdown",
      "metadata": {
        "id": "ozq6_LrUb-9f"
      },
      "source": [
        "The raise keyword is used to raise an exception.\n",
        "\n",
        "You can define what kind of error to raise, and the text to print to the user."
      ]
    },
    {
      "cell_type": "code",
      "execution_count": 15,
      "metadata": {
        "id": "3RMeIzwKb-9i",
        "outputId": "d2873b33-d910-4835-ed1f-40101423469f",
        "colab": {
          "base_uri": "https://localhost:8080/",
          "height": 201
        }
      },
      "outputs": [
        {
          "output_type": "error",
          "ename": "TypeError",
          "evalue": "ignored",
          "traceback": [
            "\u001b[0;31m---------------------------------------------------------------------------\u001b[0m",
            "\u001b[0;31mTypeError\u001b[0m                                 Traceback (most recent call last)",
            "\u001b[0;32m<ipython-input-15-1f63ca4d9ffe>\u001b[0m in \u001b[0;36m<module>\u001b[0;34m()\u001b[0m\n\u001b[1;32m      4\u001b[0m \u001b[0;34m\u001b[0m\u001b[0m\n\u001b[1;32m      5\u001b[0m \u001b[0;32mif\u001b[0m \u001b[0;32mnot\u001b[0m \u001b[0mtype\u001b[0m\u001b[0;34m(\u001b[0m\u001b[0mx\u001b[0m\u001b[0;34m)\u001b[0m \u001b[0;32mis\u001b[0m \u001b[0mint\u001b[0m\u001b[0;34m:\u001b[0m\u001b[0;34m\u001b[0m\u001b[0;34m\u001b[0m\u001b[0m\n\u001b[0;32m----> 6\u001b[0;31m   \u001b[0;32mraise\u001b[0m \u001b[0mTypeError\u001b[0m\u001b[0;34m(\u001b[0m\u001b[0;34m\"Only integers are allowed\"\u001b[0m\u001b[0;34m)\u001b[0m\u001b[0;34m\u001b[0m\u001b[0;34m\u001b[0m\u001b[0m\n\u001b[0m",
            "\u001b[0;31mTypeError\u001b[0m: Only integers are allowed"
          ]
        }
      ],
      "source": [
        "#raise a TypeError if x is not an integer:\n",
        "\n",
        "x = \"hello\"\n",
        "\n",
        "if not type(x) is int:\n",
        "  raise TypeError(\"Only integers are allowed\")"
      ]
    },
    {
      "cell_type": "markdown",
      "source": [
        "# DIY 1: Addition: \n",
        "\n",
        "One common problem when prompting for numerical input\n",
        "occurs when people provide text instead of numbers. When you try to convert\n",
        "the input to an int, you’ll get a TypeError. Write a program that prompts for\n",
        "two numbers. Add them together and print the result. Catch the TypeError if\n",
        "either input value is not a number, and print a friendly error message. Test your\n",
        "program by entering two numbers and then by entering some text instead of a\n",
        "number."
      ],
      "metadata": {
        "id": "R8KwJTkBGllM"
      }
    },
    {
      "cell_type": "code",
      "execution_count": null,
      "metadata": {
        "id": "SQhjBQ9Jb-9j"
      },
      "outputs": [],
      "source": [
        ""
      ]
    }
  ],
  "metadata": {
    "kernelspec": {
      "display_name": "Python 3",
      "language": "python",
      "name": "python3"
    },
    "language_info": {
      "codemirror_mode": {
        "name": "ipython",
        "version": 3
      },
      "file_extension": ".py",
      "mimetype": "text/x-python",
      "name": "python",
      "nbconvert_exporter": "python",
      "pygments_lexer": "ipython3",
      "version": "3.8.3"
    },
    "colab": {
      "name": "python_9.ipynb",
      "provenance": [],
      "collapsed_sections": [],
      "include_colab_link": true
    }
  },
  "nbformat": 4,
  "nbformat_minor": 0
}