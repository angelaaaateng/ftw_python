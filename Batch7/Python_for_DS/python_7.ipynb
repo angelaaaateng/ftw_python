{
  "cells": [
    {
      "cell_type": "markdown",
      "metadata": {
        "id": "view-in-github",
        "colab_type": "text"
      },
      "source": [
        "<a href=\"https://colab.research.google.com/github/angelaaaateng/ftw_python/blob/main/python_7.ipynb\" target=\"_parent\"><img src=\"https://colab.research.google.com/assets/colab-badge.svg\" alt=\"Open In Colab\"/></a>"
      ]
    },
    {
      "cell_type": "markdown",
      "source": [
        "# Introduction to Python \n",
        "## FTW Foundation\n",
        "July 2, 2022 - Day 2\n",
        "\n",
        "## Outine: \n",
        "---\n",
        "1. Hello, World\n",
        "2. Python Basics\n",
        "3. Variables\n",
        "  - 3.1 Strings \n",
        "  - 3.2 Integers \n",
        "  - 3.3 Floats \n",
        "4. Data Types \n",
        " - 4.1 Lists \n",
        " - 4.2 Tuples \n",
        " - 4.3 Dictionaries \n",
        "5. Functions \n",
        "6. If statements \n",
        "7. While loops\n",
        "8. More Functions \n",
        "9. File IO **< we are here>**\n",
        "\n",
        "A. Appendix\n",
        " - A.1 Variable Naming Conventions\n",
        " - A.2 The Zen of Python\n",
        "\n",
        "\n",
        "\n",
        "## References: \n",
        "---\n",
        "- <a href='https://ehmatthes.github.io/pcc/index.html'>Python Crash Course</a>"
      ],
      "metadata": {
        "id": "7musFBPZT0PB"
      }
    },
    {
      "cell_type": "markdown",
      "metadata": {
        "id": "NvcUrSJVTxHd"
      },
      "source": [
        "# File Input and Output Operations\n",
        "\n",
        "A basic way to start working with data"
      ]
    },
    {
      "cell_type": "markdown",
      "source": [
        "Now that you’ve mastered the basic skills\n",
        "you need to write organized programs\n",
        "that are easy to use, it’s time to think about\n",
        "making your programs even more relevant and\n",
        "usable. In this notebook you’ll learn to work with files\n",
        "so your programs can quickly analyze lots of data. :) "
      ],
      "metadata": {
        "id": "wEbagCZ61pEj"
      }
    },
    {
      "cell_type": "markdown",
      "metadata": {
        "id": "YtmNYXB1TxHg"
      },
      "source": [
        "Python has several functions for creating, reading, updating, and deleting files.\n",
        "\n",
        "# File Handling\n",
        "The key function for working with files in Python is the `open()` function.\n",
        "\n",
        "The `open()` function takes two parameters; `filename`, and `mode`.\n",
        "\n",
        "There are four different methods (modes) for opening a file:\n",
        "\n",
        "1. \"r\" - Read - Default value. Opens a file for reading, error if the file does not exist\n",
        "\n",
        "2. \"a\" - Append - Opens a file for appending, creates the file if it does not exist\n",
        "\n",
        "3. \"w\" - Write - Opens a file for writing, creates the file if it does not exist\n",
        "\n",
        "4. \"x\" - Create - Creates the specified file, returns an error if the file exists\n",
        "\n",
        "In addition you can specify if the file should be handled as binary or text mode\n",
        "\n",
        "- \"t\" - Text - Default value. Text mode\n",
        "\n",
        "- \"b\" - Binary - Binary mode (e.g. images)"
      ]
    },
    {
      "cell_type": "markdown",
      "metadata": {
        "id": "QEeLXVliTxHh"
      },
      "source": [
        "Text\n",
        "==="
      ]
    },
    {
      "cell_type": "markdown",
      "source": [
        "### Jupyter Notebook"
      ],
      "metadata": {
        "id": "mPmeUBq93lbE"
      }
    },
    {
      "cell_type": "code",
      "execution_count": 2,
      "metadata": {
        "id": "lWYAc1HyTxHh"
      },
      "outputs": [],
      "source": [
        "# in Jupyter Notebook, we can do the following. But, this *may not work in Google Colab.\n",
        "file1 = open(\"example.txt\",\"w\") # use 'a' for appending to a file\n",
        "text = \"Hello \\n\"\n",
        "file1.write(text)\n",
        "#file1.writelines(text) to write a list of text\n",
        "file1.close()"
      ]
    },
    {
      "cell_type": "code",
      "execution_count": 3,
      "metadata": {
        "id": "XVsL_OROTxHi",
        "colab": {
          "base_uri": "https://localhost:8080/"
        },
        "outputId": "79b0c5c3-ae06-4be7-fdfe-9c0f59ee1a4c"
      },
      "outputs": [
        {
          "output_type": "stream",
          "name": "stdout",
          "text": [
            "Hello \n",
            "\n"
          ]
        }
      ],
      "source": [
        "file1 = open(\"example.txt\",\"r\")  \n",
        "  \n",
        "text = file1.read() \n",
        "#file1.readlines() to read a list of text\n",
        "\n",
        "print(text)\n",
        "  "
      ]
    },
    {
      "cell_type": "markdown",
      "source": [
        "### Google Colab \n",
        "\n",
        "`files.download` will invoke a browser download of the file to your local computer."
      ],
      "metadata": {
        "id": "_u74dKVp3n_e"
      }
    },
    {
      "cell_type": "code",
      "source": [
        "from google.colab import files\n",
        "\n",
        "with open('example.txt', 'w') as f:\n",
        "  f.write('some content')\n",
        "\n",
        "files.download('example.txt')"
      ],
      "metadata": {
        "colab": {
          "base_uri": "https://localhost:8080/",
          "height": 17
        },
        "id": "w-9iFDYF3q8H",
        "outputId": "7e67a48e-391b-44b3-da27-1a72723e8731"
      },
      "execution_count": 4,
      "outputs": [
        {
          "output_type": "display_data",
          "data": {
            "text/plain": [
              "<IPython.core.display.Javascript object>"
            ],
            "application/javascript": [
              "\n",
              "    async function download(id, filename, size) {\n",
              "      if (!google.colab.kernel.accessAllowed) {\n",
              "        return;\n",
              "      }\n",
              "      const div = document.createElement('div');\n",
              "      const label = document.createElement('label');\n",
              "      label.textContent = `Downloading \"${filename}\": `;\n",
              "      div.appendChild(label);\n",
              "      const progress = document.createElement('progress');\n",
              "      progress.max = size;\n",
              "      div.appendChild(progress);\n",
              "      document.body.appendChild(div);\n",
              "\n",
              "      const buffers = [];\n",
              "      let downloaded = 0;\n",
              "\n",
              "      const channel = await google.colab.kernel.comms.open(id);\n",
              "      // Send a message to notify the kernel that we're ready.\n",
              "      channel.send({})\n",
              "\n",
              "      for await (const message of channel.messages) {\n",
              "        // Send a message to notify the kernel that we're ready.\n",
              "        channel.send({})\n",
              "        if (message.buffers) {\n",
              "          for (const buffer of message.buffers) {\n",
              "            buffers.push(buffer);\n",
              "            downloaded += buffer.byteLength;\n",
              "            progress.value = downloaded;\n",
              "          }\n",
              "        }\n",
              "      }\n",
              "      const blob = new Blob(buffers, {type: 'application/binary'});\n",
              "      const a = document.createElement('a');\n",
              "      a.href = window.URL.createObjectURL(blob);\n",
              "      a.download = filename;\n",
              "      div.appendChild(a);\n",
              "      a.click();\n",
              "      div.remove();\n",
              "    }\n",
              "  "
            ]
          },
          "metadata": {}
        },
        {
          "output_type": "display_data",
          "data": {
            "text/plain": [
              "<IPython.core.display.Javascript object>"
            ],
            "application/javascript": [
              "download(\"download_d1e3f123-e545-498b-b12d-5ff53b9b9bf3\", \"example.txt\", 12)"
            ]
          },
          "metadata": {}
        }
      ]
    },
    {
      "cell_type": "code",
      "source": [
        "with open('example.txt', 'w') as f:\n",
        "  f.write('some content')\n",
        "\n",
        "!cat example.txt"
      ],
      "metadata": {
        "colab": {
          "base_uri": "https://localhost:8080/"
        },
        "id": "sj1suO2w4JOF",
        "outputId": "737f0ab1-3606-425e-b46e-f28a7a520fb0"
      },
      "execution_count": 5,
      "outputs": [
        {
          "output_type": "stream",
          "name": "stdout",
          "text": [
            "some content"
          ]
        }
      ]
    },
    {
      "cell_type": "markdown",
      "metadata": {
        "id": "KNbQ06f2TxHj"
      },
      "source": [
        "CSV\n",
        "===\n",
        "Comma Separated Values\n",
        "\n",
        "- note that you can upload files to Google Colab via drag and drop on the sidebar :)"
      ]
    },
    {
      "cell_type": "code",
      "execution_count": 6,
      "metadata": {
        "id": "6icHW9SmTxHj",
        "colab": {
          "base_uri": "https://localhost:8080/"
        },
        "outputId": "36461622-da07-4390-8025-067449e5464e"
      },
      "outputs": [
        {
          "output_type": "execute_result",
          "data": {
            "text/plain": [
              "['Mighty Morphin Red Ranger,Jason Lee Scott,Tyrannosaurus',\n",
              " 'Mighty Morphin Yellow Ranger,Trini Kwan,Saber-Toothed Tiger',\n",
              " 'Mighty Morphin Blue Ranger,Billy Cranston,Triceratops',\n",
              " 'Mighty Morphin Pink Ranger,Kimberly Ann Hart,Pterodactyl',\n",
              " 'Mighty Morphin Black Ranger,Zack Taylor,Mastodon',\n",
              " 'Mighty Morphin Green Ranger,Tommy Oliver,Dragonzord']"
            ]
          },
          "metadata": {},
          "execution_count": 6
        }
      ],
      "source": [
        "csv_text = \"\"\"Mighty Morphin Red Ranger,Jason Lee Scott,Tyrannosaurus\n",
        "Mighty Morphin Yellow Ranger,Trini Kwan,Saber-Toothed Tiger\n",
        "Mighty Morphin Blue Ranger,Billy Cranston,Triceratops\n",
        "Mighty Morphin Pink Ranger,Kimberly Ann Hart,Pterodactyl\n",
        "Mighty Morphin Black Ranger,Zack Taylor,Mastodon\n",
        "Mighty Morphin Green Ranger,Tommy Oliver,Dragonzord\"\"\"\n",
        "\n",
        "csv_text = csv_text.split('\\n')\n",
        "csv_text"
      ]
    },
    {
      "cell_type": "code",
      "execution_count": 7,
      "metadata": {
        "id": "fYQPJFPLTxHk",
        "colab": {
          "base_uri": "https://localhost:8080/"
        },
        "outputId": "6c4ea230-adb8-4262-fae9-851130f12832"
      },
      "outputs": [
        {
          "output_type": "execute_result",
          "data": {
            "text/plain": [
              "[['Mighty Morphin Red Ranger', 'Jason Lee Scott', 'Tyrannosaurus'],\n",
              " ['Mighty Morphin Yellow Ranger', 'Trini Kwan', 'Saber-Toothed Tiger'],\n",
              " ['Mighty Morphin Blue Ranger', 'Billy Cranston', 'Triceratops'],\n",
              " ['Mighty Morphin Pink Ranger', 'Kimberly Ann Hart', 'Pterodactyl'],\n",
              " ['Mighty Morphin Black Ranger', 'Zack Taylor', 'Mastodon'],\n",
              " ['Mighty Morphin Green Ranger', 'Tommy Oliver', 'Dragonzord']]"
            ]
          },
          "metadata": {},
          "execution_count": 7
        }
      ],
      "source": [
        "csv_text_list = []\n",
        "for row in csv_text:\n",
        "    csv_text_list.append(row.split(\",\"))\n",
        "    \n",
        "csv_text_list"
      ]
    },
    {
      "cell_type": "code",
      "execution_count": 8,
      "metadata": {
        "id": "iImUTVgMTxHk",
        "colab": {
          "base_uri": "https://localhost:8080/"
        },
        "outputId": "f44dfc79-31c1-4585-fcbc-cef911ebc6ed"
      },
      "outputs": [
        {
          "output_type": "stream",
          "name": "stdout",
          "text": [
            "Mighty Morphin Red Ranger,Jason Lee Scott,Tyrannosaurus\n",
            "Mighty Morphin Yellow Ranger,Trini Kwan,Saber-Toothed Tiger\n",
            "Mighty Morphin Blue Ranger,Billy Cranston,Triceratops\n",
            "Mighty Morphin Pink Ranger,Kimberly Ann Hart,Pterodactyl\n",
            "Mighty Morphin Black Ranger,Zack Taylor,Mastodon\n",
            "Mighty Morphin Green Ranger,Tommy Oliver,Dragonzord\n"
          ]
        }
      ],
      "source": [
        "for row in csv_text_list:\n",
        "    tmp_text = \",\".join(row)\n",
        "    print(tmp_text)"
      ]
    },
    {
      "cell_type": "code",
      "execution_count": 9,
      "metadata": {
        "id": "sPC8Z9SaTxHk"
      },
      "outputs": [],
      "source": [
        "file1 = open(\"example.csv\",\"w\") # use 'a' for appending to a file\n",
        "\n",
        "text_list = []\n",
        "for row in csv_text_list:\n",
        "    tmp_text = \",\".join(row)\n",
        "    text_list.append(tmp_text+\"\\n\")\n",
        "file1.writelines(text_list)\n",
        "file1.close()"
      ]
    },
    {
      "cell_type": "code",
      "execution_count": 10,
      "metadata": {
        "id": "Qa8dlp1DTxHl",
        "colab": {
          "base_uri": "https://localhost:8080/"
        },
        "outputId": "839ab3b2-1236-494e-8524-70f69d7bae62"
      },
      "outputs": [
        {
          "output_type": "stream",
          "name": "stdout",
          "text": [
            "['Mighty Morphin Red Ranger,Jason Lee Scott,Tyrannosaurus\\n', 'Mighty Morphin Yellow Ranger,Trini Kwan,Saber-Toothed Tiger\\n', 'Mighty Morphin Blue Ranger,Billy Cranston,Triceratops\\n', 'Mighty Morphin Pink Ranger,Kimberly Ann Hart,Pterodactyl\\n', 'Mighty Morphin Black Ranger,Zack Taylor,Mastodon\\n', 'Mighty Morphin Green Ranger,Tommy Oliver,Dragonzord\\n']\n"
          ]
        }
      ],
      "source": [
        "file1 = open(\"example.csv\",\"r\")  \n",
        "  \n",
        "text = file1.readlines() \n",
        "print(text)\n",
        "  "
      ]
    },
    {
      "cell_type": "code",
      "execution_count": 11,
      "metadata": {
        "id": "GJMnQ-NZTxHl",
        "colab": {
          "base_uri": "https://localhost:8080/"
        },
        "outputId": "106af333-468b-41f2-c7cc-8990f122aeae"
      },
      "outputs": [
        {
          "output_type": "stream",
          "name": "stdout",
          "text": [
            "Mighty Morphin Red Ranger Jason Lee Scott Tyrannosaurus \n",
            "Mighty Morphin Yellow Ranger Trini Kwan Saber-Toothed Tiger \n",
            "Mighty Morphin Blue Ranger Billy Cranston Triceratops \n",
            "Mighty Morphin Pink Ranger Kimberly Ann Hart Pterodactyl \n",
            "Mighty Morphin Black Ranger Zack Taylor Mastodon \n",
            "Mighty Morphin Green Ranger Tommy Oliver Dragonzord \n"
          ]
        }
      ],
      "source": [
        "for row in text:\n",
        "    for col in row.split(\",\"):\n",
        "        print(col.strip() , end = \" \")\n",
        "    print(\"\")"
      ]
    },
    {
      "cell_type": "markdown",
      "metadata": {
        "id": "334lEvjHTxHl"
      },
      "source": [
        "Binary\n",
        "==="
      ]
    },
    {
      "cell_type": "code",
      "execution_count": 12,
      "metadata": {
        "id": "M72XpQOSTxHm"
      },
      "outputs": [],
      "source": [
        "# How to write\n",
        "\n",
        "num=[1, 10, 15, 20, 25]\n",
        "arr = bytearray(num)\n",
        "\n",
        "f = open(\"binfile.bin\",\"wb\")\n",
        "f.write(arr)\n",
        "f.close()"
      ]
    },
    {
      "cell_type": "markdown",
      "source": [
        "The `bytearray()` method returns a bytearray object which is an array of the given bytes."
      ],
      "metadata": {
        "id": "dktq9yQU6CQW"
      }
    },
    {
      "cell_type": "code",
      "source": [
        "prime_numbers = [2, 3, 5, 7]\n",
        "\n",
        "# convert list to bytearray\n",
        "byte_array = bytearray(prime_numbers)\n",
        "print(byte_array)"
      ],
      "metadata": {
        "colab": {
          "base_uri": "https://localhost:8080/"
        },
        "id": "ftTpPbH-6EDD",
        "outputId": "89a5d574-97b2-45b2-f0e9-17a40004eded"
      },
      "execution_count": 13,
      "outputs": [
        {
          "output_type": "stream",
          "name": "stdout",
          "text": [
            "bytearray(b'\\x02\\x03\\x05\\x07')\n"
          ]
        }
      ]
    },
    {
      "cell_type": "code",
      "execution_count": 14,
      "metadata": {
        "id": "UK-Gq1rsTxHm",
        "colab": {
          "base_uri": "https://localhost:8080/"
        },
        "outputId": "ece0beca-f24a-4d8d-e86e-32621c4684d9"
      },
      "outputs": [
        {
          "output_type": "stream",
          "name": "stdout",
          "text": [
            "[1, 10, 15, 20, 25]\n"
          ]
        }
      ],
      "source": [
        "# How to read\n",
        "\n",
        "f=open(\"binfile.bin\",\"rb\")\n",
        "num=list(f.read())\n",
        "f.close()\n",
        "\n",
        "print (num)"
      ]
    },
    {
      "cell_type": "markdown",
      "metadata": {
        "id": "WzoewRpVTxHm"
      },
      "source": [
        "Pickle\n",
        "==="
      ]
    },
    {
      "cell_type": "code",
      "execution_count": 15,
      "metadata": {
        "id": "WmTpC-55TxHm",
        "colab": {
          "base_uri": "https://localhost:8080/"
        },
        "outputId": "39aecc52-0951-4331-8c86-442260076195"
      },
      "outputs": [
        {
          "output_type": "stream",
          "name": "stdout",
          "text": [
            "Timmy => {'key': 'Timmy', 'name': 'Timmy Nooklet', 'age': 21, 'pay': 20000}\n",
            "Tommy => {'key': 'Tommy', 'name': 'Tommy Nooklet', 'age': 23, 'pay': 24000}\n"
          ]
        }
      ],
      "source": [
        "Timmy = {'key' : 'Timmy', 'name' : 'Timmy Nooklet', \n",
        "'age' : 21, 'pay' : 20000} \n",
        "Tommy = {'key' : 'Tommy', 'name' : 'Tommy Nooklet', \n",
        "'age' : 23, 'pay' : 24000}\n",
        "\n",
        "# database \n",
        "db = {} \n",
        "db['Timmy'] = Timmy \n",
        "db['Tommy'] = Tommy \n",
        "\n",
        "for keys in db: \n",
        "    print(keys, '=>', db[keys]) "
      ]
    },
    {
      "cell_type": "code",
      "execution_count": 16,
      "metadata": {
        "id": "0gHCoJBjTxHn"
      },
      "outputs": [],
      "source": [
        "import pickle \n",
        "\n",
        "# Its important to use binary mode \n",
        "dbfile = open('example.pkl', 'wb') #\"ab\" if you want to append binary \n",
        "\n",
        "# source, destination \n",
        "pickle.dump(db, dbfile)                      \n",
        "dbfile.close() "
      ]
    },
    {
      "cell_type": "markdown",
      "source": [
        "The pickle module implements binary protocols for serializing and de-serializing a Python object structure. “Pickling” is the process whereby a Python object hierarchy is converted into a byte stream, and “unpickling” is the inverse operation, whereby a byte stream (from a binary file or bytes-like object) is converted back into an object hierarchy. Pickling (and unpickling) is alternatively known as “serialization”, “marshalling,” 1 or “flattening”; however, to avoid confusion, the terms used here are “pickling” and “unpickling”.\n",
        "\n",
        "For more information on Python pickles, check out their documentation <a href='https://docs.python.org/3/library/pickle.html'>here</a>\n",
        "\n",
        "\n"
      ],
      "metadata": {
        "id": "8HMWVIGB6Rtm"
      }
    },
    {
      "cell_type": "code",
      "execution_count": 17,
      "metadata": {
        "id": "xk1lqRZnTxHn",
        "colab": {
          "base_uri": "https://localhost:8080/"
        },
        "outputId": "d60848a1-b714-4996-8757-f92cb6d45fbc"
      },
      "outputs": [
        {
          "output_type": "stream",
          "name": "stdout",
          "text": [
            "Timmy => {'key': 'Timmy', 'name': 'Timmy Nooklet', 'age': 21, 'pay': 20000}\n",
            "Tommy => {'key': 'Tommy', 'name': 'Tommy Nooklet', 'age': 23, 'pay': 24000}\n"
          ]
        }
      ],
      "source": [
        "# for reading also binary mode is important \n",
        "dbfile = open('example.pkl', 'rb')      \n",
        "new_db = pickle.load(dbfile) \n",
        "dbfile.close()\n",
        "\n",
        "for keys in new_db: \n",
        "    print(keys, '=>', db[keys]) "
      ]
    },
    {
      "cell_type": "markdown",
      "metadata": {
        "id": "pgduqHt1TxHn"
      },
      "source": [
        "# JSON\n",
        "JavaScript Object Notation"
      ]
    },
    {
      "cell_type": "code",
      "execution_count": 18,
      "metadata": {
        "id": "A5NwFF7tTxHn"
      },
      "outputs": [],
      "source": [
        "import json\n",
        "\n",
        "db = [\n",
        "    \n",
        "    {\n",
        "    \"userId\": 1,\n",
        "    \"id\": 1,\n",
        "    \"title\": \"The Philosopher's Stone\",\n",
        "    \"completed\": False\n",
        "    },\n",
        "    \n",
        "     {\n",
        "    \"userId\": 2,\n",
        "    \"id\": 2,\n",
        "    \"title\": \"The Chamber of Secrets\",\n",
        "    \"completed\": True\n",
        "    }\n",
        "]\n",
        "\n",
        "jsonfile = open('example.json', 'w') \n",
        "json.dump(db, jsonfile)\n",
        "jsonfile.close()"
      ]
    },
    {
      "cell_type": "code",
      "execution_count": 19,
      "metadata": {
        "id": "uXG9l1mjTxHn",
        "colab": {
          "base_uri": "https://localhost:8080/"
        },
        "outputId": "0f1760bb-c55a-49a0-c8cc-33fee795546a"
      },
      "outputs": [
        {
          "output_type": "stream",
          "name": "stdout",
          "text": [
            "{'userId': 1, 'id': 1, 'title': \"The Philosopher's Stone\", 'completed': False}\n",
            "{'userId': 2, 'id': 2, 'title': 'The Chamber of Secrets', 'completed': True}\n"
          ]
        }
      ],
      "source": [
        " \n",
        "jsonfile = open('example.json', 'r') \n",
        "new_db = json.load(jsonfile)\n",
        "jsonfile.close()\n",
        "\n",
        "for keys in new_db: \n",
        "    print(keys) "
      ]
    },
    {
      "cell_type": "markdown",
      "metadata": {
        "id": "-vnvT_UUTxHo"
      },
      "source": [
        "# Delete a File\n",
        "To delete a file, you must import the OS module, and run its os.remove() function:"
      ]
    },
    {
      "cell_type": "code",
      "execution_count": 20,
      "metadata": {
        "id": "l-WBfPFqTxHo"
      },
      "outputs": [],
      "source": [
        "# Remove the file \"demofile.txt\":\n",
        "\n",
        "import os\n",
        "# os.remove(\"demofile.txt\")\n",
        "os.remove(\"example.txt\")"
      ]
    },
    {
      "cell_type": "markdown",
      "metadata": {
        "id": "BfbSWRP3TxHp"
      },
      "source": [
        "# Check if File exist:\n",
        "To avoid getting an error, you might want to check if the file exists before you try to delete it:"
      ]
    },
    {
      "cell_type": "code",
      "execution_count": 21,
      "metadata": {
        "id": "V1b5Ap5KTxHp",
        "outputId": "5902512d-9bef-424a-ab0c-47ff5577886c",
        "colab": {
          "base_uri": "https://localhost:8080/"
        }
      },
      "outputs": [
        {
          "output_type": "stream",
          "name": "stdout",
          "text": [
            "The file does not exist\n"
          ]
        }
      ],
      "source": [
        "# Check if file exists, then delete it:\n",
        "\n",
        "import os\n",
        "if os.path.exists(\"demofile.txt\"):\n",
        "  os.remove(\"demofile.txt\")\n",
        "else:\n",
        "  print(\"The file does not exist\")"
      ]
    },
    {
      "cell_type": "markdown",
      "source": [
        "# Reading and Writing Files from Google Drive"
      ],
      "metadata": {
        "id": "5doCrYshUsji"
      }
    },
    {
      "cell_type": "code",
      "execution_count": 22,
      "metadata": {
        "id": "bp49mfilTxHp",
        "colab": {
          "base_uri": "https://localhost:8080/"
        },
        "outputId": "65ae149a-3fa5-4648-eb12-4f0444bc0f3e"
      },
      "outputs": [
        {
          "output_type": "stream",
          "name": "stdout",
          "text": [
            "Drive already mounted at /content/drive; to attempt to forcibly remount, call drive.mount(\"/content/drive\", force_remount=True).\n"
          ]
        }
      ],
      "source": [
        "from google.colab import drive\n",
        "drive.mount('/content/drive')"
      ]
    },
    {
      "cell_type": "code",
      "source": [
        "with open(\"/content/drive/MyDrive/FTW_2022/01 Lecture Files - 20220625 Day 07 - Intro to Programming for DS (Python) /foo.txt\", 'w') as f:\n",
        "  f.write('Hello Google Drive!')\n",
        "!cat \"/content/drive/MyDrive/FTW_2022/01 Lecture Files - 20220625 Day 07 - Intro to Programming for DS (Python) /foo.txt\""
      ],
      "metadata": {
        "colab": {
          "base_uri": "https://localhost:8080/"
        },
        "id": "XUiEtEaQUu2T",
        "outputId": "ab79bead-a238-4786-c9c1-add7ba3de8d1"
      },
      "execution_count": 23,
      "outputs": [
        {
          "output_type": "stream",
          "name": "stdout",
          "text": [
            "Hello Google Drive!"
          ]
        }
      ]
    },
    {
      "cell_type": "code",
      "source": [
        "!ls \"/content/drive/MyDrive/FTW_2022/01 Lecture Files - 20220625 Day 07 - Intro to Programming for DS (Python) \""
      ],
      "metadata": {
        "colab": {
          "base_uri": "https://localhost:8080/"
        },
        "id": "cmeuSyVB8k5Q",
        "outputId": "c7510c49-eb05-4ec2-a69f-96d5a5937b82"
      },
      "execution_count": 24,
      "outputs": [
        {
          "output_type": "stream",
          "name": "stdout",
          "text": [
            "'00a - Common Files for Instructors'\n",
            "'00 - (To Be Updated) Learning Team Tasks.gdoc'\n",
            "'01 - Notes for Day 07 Preparation.docx'\n",
            "'03 - Intro for Amber & Myk & LA.gslides'\n",
            "'04 - Intro for Inspirational Speaker - LA Castillo.gslides'\n",
            " Additional_Exercises.ipynb\n",
            " Additional_Exercises_w_answers.ipynb\n",
            " Appendix_Sets_Math_Date.ipynb\n",
            " example.txt\n",
            " foo.txt\n",
            "'#MySPARTAStory.gslides'\n",
            "\"Past Batches' Slides and Materials\"\n",
            "\"Past Week's Slides\"\n",
            " python_0.ipynb\n",
            " python_10.ipynb\n",
            " python_1.ipynb\n",
            " python_2.ipynb\n",
            " python_3.ipynb\n",
            " python_4.ipynb\n",
            " python_5.ipynb\n",
            " python_6.ipynb\n",
            " python_7.ipynb\n",
            " python_9.ipynb\n",
            "'Python DC Completions asof 20220624.png'\n",
            "'Python Planning Session.gdoc'\n"
          ]
        }
      ]
    },
    {
      "cell_type": "markdown",
      "source": [
        "## Uploading Files from Your Local to Google Colab "
      ],
      "metadata": {
        "id": "1blY596v9bcS"
      }
    },
    {
      "cell_type": "code",
      "source": [
        "from google.colab import files\n",
        "\n",
        "uploaded = files.upload()\n",
        "\n",
        "for fn in uploaded.keys():\n",
        "  print('User uploaded file \"{name}\" with length {length} bytes'.format(\n",
        "      name=fn, length=len(uploaded[fn])))"
      ],
      "metadata": {
        "id": "Xol3qxYj9ePZ",
        "colab": {
          "resources": {
            "http://localhost:8080/nbextensions/google.colab/files.js": {
              "data": "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",
              "ok": true,
              "headers": [
                [
                  "content-type",
                  "application/javascript"
                ]
              ],
              "status": 200,
              "status_text": ""
            }
          },
          "base_uri": "https://localhost:8080/",
          "height": 91
        },
        "outputId": "33a11d60-2871-422f-aee6-08d91f5d6f38"
      },
      "execution_count": 25,
      "outputs": [
        {
          "output_type": "display_data",
          "data": {
            "text/plain": [
              "<IPython.core.display.HTML object>"
            ],
            "text/html": [
              "\n",
              "     <input type=\"file\" id=\"files-ba2fe7bd-c7fe-41fb-9379-d18960dfe671\" name=\"files[]\" multiple disabled\n",
              "        style=\"border:none\" />\n",
              "     <output id=\"result-ba2fe7bd-c7fe-41fb-9379-d18960dfe671\">\n",
              "      Upload widget is only available when the cell has been executed in the\n",
              "      current browser session. Please rerun this cell to enable.\n",
              "      </output>\n",
              "      <script src=\"/nbextensions/google.colab/files.js\"></script> "
            ]
          },
          "metadata": {}
        },
        {
          "output_type": "stream",
          "name": "stdout",
          "text": [
            "Saving Screen Shot 2022-06-24 at 12.17.41 PM.png to Screen Shot 2022-06-24 at 12.17.41 PM.png\n",
            "User uploaded file \"Screen Shot 2022-06-24 at 12.17.41 PM.png\" with length 70377 bytes\n"
          ]
        }
      ]
    },
    {
      "cell_type": "markdown",
      "source": [
        "# Basic Terminal Commands\n",
        "\n",
        "For additional terminal commands, check out <a href='https://www.techrepublic.com/article/16-terminal-commands-every-user-should-know/'>this</a> resource and <a href='https://devhints.io/bash'> this</a>! "
      ],
      "metadata": {
        "id": "oXvMo30p7HCE"
      }
    },
    {
      "cell_type": "code",
      "source": [
        "# list directory\n",
        "\n",
        "!ls "
      ],
      "metadata": {
        "id": "4wqXktOOVWeb",
        "colab": {
          "base_uri": "https://localhost:8080/"
        },
        "outputId": "2e45610c-f667-4b73-e581-41071d644ee8"
      },
      "execution_count": 26,
      "outputs": [
        {
          "output_type": "stream",
          "name": "stdout",
          "text": [
            " binfile.bin   example.json  'Screen Shot 2022-06-24 at 12.17.41 PM.png'\n",
            " drive\t       example.pkl\n",
            " example.csv   sample_data\n"
          ]
        }
      ]
    },
    {
      "cell_type": "code",
      "source": [
        "# \"concatenate\" but lets you view contents of a file\n",
        "\n",
        "!cat example.csv"
      ],
      "metadata": {
        "colab": {
          "base_uri": "https://localhost:8080/"
        },
        "id": "wgtBtqWb7Jmp",
        "outputId": "2d57f76a-aa0b-46b2-962e-b6547bc06842"
      },
      "execution_count": 27,
      "outputs": [
        {
          "output_type": "stream",
          "name": "stdout",
          "text": [
            "Mighty Morphin Red Ranger,Jason Lee Scott,Tyrannosaurus\n",
            "Mighty Morphin Yellow Ranger,Trini Kwan,Saber-Toothed Tiger\n",
            "Mighty Morphin Blue Ranger,Billy Cranston,Triceratops\n",
            "Mighty Morphin Pink Ranger,Kimberly Ann Hart,Pterodactyl\n",
            "Mighty Morphin Black Ranger,Zack Taylor,Mastodon\n",
            "Mighty Morphin Green Ranger,Tommy Oliver,Dragonzord\n"
          ]
        }
      ]
    },
    {
      "cell_type": "code",
      "source": [
        "# print working directory\n",
        "\n",
        "!pwd"
      ],
      "metadata": {
        "colab": {
          "base_uri": "https://localhost:8080/"
        },
        "id": "VEI0ant47L8K",
        "outputId": "d8e3c304-21a1-4ffc-e1f7-8b00c802faf2"
      },
      "execution_count": 28,
      "outputs": [
        {
          "output_type": "stream",
          "name": "stdout",
          "text": [
            "/content\n"
          ]
        }
      ]
    },
    {
      "cell_type": "code",
      "source": [
        "# make directory\n",
        "\n",
        "!mkdir test_dir"
      ],
      "metadata": {
        "id": "wd-oPuK97Mpu"
      },
      "execution_count": 29,
      "outputs": []
    },
    {
      "cell_type": "code",
      "source": [
        "# change directory\n",
        "\n",
        "!cd test_dir"
      ],
      "metadata": {
        "id": "dHU7K3c57Q3K"
      },
      "execution_count": 30,
      "outputs": []
    },
    {
      "cell_type": "code",
      "source": [
        "# remove nested directories\n",
        "\n",
        "!rm -R test_dir"
      ],
      "metadata": {
        "id": "6lbt2cZl7UDU"
      },
      "execution_count": 31,
      "outputs": []
    },
    {
      "cell_type": "markdown",
      "source": [
        "# DIY 1 Learning Python\n",
        "\n",
        "Open a blank file in your text editor and write a few\n",
        "lines summarizing what you’ve learned about Python so far. Save the file as `learning_python.txt` in the\n",
        "same directory as your exercises. Write a program that reads\n",
        "the file and prints what you wrote three times. Print the contents once by reading\n",
        "in the entire file, once by looping over the file object, and once by storing\n",
        "the lines in a list and then working with them outside the with block."
      ],
      "metadata": {
        "id": "i9gWdHAK-Jp9"
      }
    },
    {
      "cell_type": "code",
      "source": [
        ""
      ],
      "metadata": {
        "id": "eq68mrhh7VN7"
      },
      "execution_count": null,
      "outputs": []
    }
  ],
  "metadata": {
    "kernelspec": {
      "display_name": "Python 3",
      "language": "python",
      "name": "python3"
    },
    "language_info": {
      "codemirror_mode": {
        "name": "ipython",
        "version": 3
      },
      "file_extension": ".py",
      "mimetype": "text/x-python",
      "name": "python",
      "nbconvert_exporter": "python",
      "pygments_lexer": "ipython3",
      "version": "3.8.3"
    },
    "colab": {
      "name": "python_7.ipynb",
      "provenance": [],
      "collapsed_sections": [],
      "include_colab_link": true
    }
  },
  "nbformat": 4,
  "nbformat_minor": 0
}