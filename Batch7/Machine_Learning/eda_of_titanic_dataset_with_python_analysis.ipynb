{
  "cells": [
    {
      "cell_type": "markdown",
      "metadata": {
        "id": "view-in-github",
        "colab_type": "text"
      },
      "source": [
        "<a href=\"https://colab.research.google.com/github/angelaaaateng/ftw_python/blob/main/eda_of_titanic_dataset_with_python_analysis.ipynb\" target=\"_parent\"><img src=\"https://colab.research.google.com/assets/colab-badge.svg\" alt=\"Open In Colab\"/></a>"
      ]
    },
    {
      "metadata": {
        "_cell_guid": "bdfffc35-4784-4a80-b2b7-fa68f1f341c4",
        "_uuid": "5ec865618a600b6ec734f2f42360511ad9b97c9e",
        "id": "nbxWhOZlWVCU"
      },
      "cell_type": "markdown",
      "source": [
        "# Exploratory Data Analysis with Titanic dataset\n",
        "\n",
        "original from  https://www.kaggle.com/datasets/dragavan/testrag\n"
      ]
    },
    {
      "metadata": {
        "_cell_guid": "1ccc646e-3906-45b0-8fb6-813d9817878a",
        "_uuid": "7ef37314af94e5550608dab39e2ef8eaa02fa4e8",
        "collapsed": true,
        "trusted": true,
        "id": "taqVMenkWVCY"
      },
      "cell_type": "code",
      "source": [
        "import numpy as np\n",
        "import pandas as pd\n",
        "import matplotlib.pyplot as plt\n",
        "import seaborn as sb"
      ],
      "execution_count": 1,
      "outputs": []
    },
    {
      "metadata": {
        "_cell_guid": "1fadbae8-73fc-40c4-80fa-d62dc1360368",
        "_uuid": "86558aeb9c37dd924a33288186bc3bf468f15ed8",
        "collapsed": true,
        "trusted": true,
        "id": "jmAC07kwWVCa"
      },
      "cell_type": "code",
      "source": [
        "plt.style.use('fivethirtyeight')\n",
        "import warnings\n",
        "warnings.filterwarnings('ignore')\n",
        "%matplotlib inline"
      ],
      "execution_count": 2,
      "outputs": []
    },
    {
      "metadata": {
        "_cell_guid": "cc67b041-a52d-461d-9039-d28e182d94fa",
        "_uuid": "dd06df984ddcd00c3a2b4e97a844794407088489",
        "scrolled": true,
        "trusted": true,
        "collapsed": true,
        "id": "GdlJAcOkWVCb"
      },
      "cell_type": "code",
      "source": [
        "train_data=pd.read_csv('https://raw.githubusercontent.com/angelaaaateng/ftw_python/main/data/titanic_train.csv')\n",
        "test_data=pd.read_csv('https://raw.githubusercontent.com/angelaaaateng/ftw_python/main/data/titanic_test.csv')"
      ],
      "execution_count": 3,
      "outputs": []
    },
    {
      "metadata": {
        "_cell_guid": "3fdca55c-7dcb-4eb0-b7da-b140f943a646",
        "_uuid": "d195d7ce719c98f9fd27398fda67f09c48d4e035",
        "trusted": true,
        "colab": {
          "base_uri": "https://localhost:8080/"
        },
        "id": "scw5rOkFWVCb",
        "outputId": "8686285a-7f62-4369-8a7b-92706af167ce"
      },
      "cell_type": "code",
      "source": [
        "train_data.shape"
      ],
      "execution_count": 4,
      "outputs": [
        {
          "output_type": "execute_result",
          "data": {
            "text/plain": [
              "(891, 12)"
            ]
          },
          "metadata": {},
          "execution_count": 4
        }
      ]
    },
    {
      "metadata": {
        "_cell_guid": "9f87a7d4-11a6-47d7-a604-8fc6e4963a14",
        "_uuid": "92f7bbb6010c4f1d6b32b00750cd9ea7555cea38",
        "scrolled": true,
        "trusted": true,
        "colab": {
          "base_uri": "https://localhost:8080/",
          "height": 363
        },
        "id": "TlLO5N8JWVCc",
        "outputId": "e6449e3f-dae4-4e13-85b6-7804559fbeb0"
      },
      "cell_type": "code",
      "source": [
        "train_data.head(10)"
      ],
      "execution_count": 5,
      "outputs": [
        {
          "output_type": "execute_result",
          "data": {
            "text/plain": [
              "   PassengerId  Survived  Pclass  \\\n",
              "0            1         0       3   \n",
              "1            2         1       1   \n",
              "2            3         1       3   \n",
              "3            4         1       1   \n",
              "4            5         0       3   \n",
              "5            6         0       3   \n",
              "6            7         0       1   \n",
              "7            8         0       3   \n",
              "8            9         1       3   \n",
              "9           10         1       2   \n",
              "\n",
              "                                                Name     Sex   Age  SibSp  \\\n",
              "0                            Braund, Mr. Owen Harris    male  22.0      1   \n",
              "1  Cumings, Mrs. John Bradley (Florence Briggs Th...  female  38.0      1   \n",
              "2                             Heikkinen, Miss. Laina  female  26.0      0   \n",
              "3       Futrelle, Mrs. Jacques Heath (Lily May Peel)  female  35.0      1   \n",
              "4                           Allen, Mr. William Henry    male  35.0      0   \n",
              "5                                   Moran, Mr. James    male   NaN      0   \n",
              "6                            McCarthy, Mr. Timothy J    male  54.0      0   \n",
              "7                     Palsson, Master. Gosta Leonard    male   2.0      3   \n",
              "8  Johnson, Mrs. Oscar W (Elisabeth Vilhelmina Berg)  female  27.0      0   \n",
              "9                Nasser, Mrs. Nicholas (Adele Achem)  female  14.0      1   \n",
              "\n",
              "   Parch            Ticket     Fare Cabin Embarked  \n",
              "0      0         A/5 21171   7.2500   NaN        S  \n",
              "1      0          PC 17599  71.2833   C85        C  \n",
              "2      0  STON/O2. 3101282   7.9250   NaN        S  \n",
              "3      0            113803  53.1000  C123        S  \n",
              "4      0            373450   8.0500   NaN        S  \n",
              "5      0            330877   8.4583   NaN        Q  \n",
              "6      0             17463  51.8625   E46        S  \n",
              "7      1            349909  21.0750   NaN        S  \n",
              "8      2            347742  11.1333   NaN        S  \n",
              "9      0            237736  30.0708   NaN        C  "
            ],
            "text/html": [
              "\n",
              "  <div id=\"df-857c76cc-135d-408b-a5b2-2a49156afec7\">\n",
              "    <div class=\"colab-df-container\">\n",
              "      <div>\n",
              "<style scoped>\n",
              "    .dataframe tbody tr th:only-of-type {\n",
              "        vertical-align: middle;\n",
              "    }\n",
              "\n",
              "    .dataframe tbody tr th {\n",
              "        vertical-align: top;\n",
              "    }\n",
              "\n",
              "    .dataframe thead th {\n",
              "        text-align: right;\n",
              "    }\n",
              "</style>\n",
              "<table border=\"1\" class=\"dataframe\">\n",
              "  <thead>\n",
              "    <tr style=\"text-align: right;\">\n",
              "      <th></th>\n",
              "      <th>PassengerId</th>\n",
              "      <th>Survived</th>\n",
              "      <th>Pclass</th>\n",
              "      <th>Name</th>\n",
              "      <th>Sex</th>\n",
              "      <th>Age</th>\n",
              "      <th>SibSp</th>\n",
              "      <th>Parch</th>\n",
              "      <th>Ticket</th>\n",
              "      <th>Fare</th>\n",
              "      <th>Cabin</th>\n",
              "      <th>Embarked</th>\n",
              "    </tr>\n",
              "  </thead>\n",
              "  <tbody>\n",
              "    <tr>\n",
              "      <th>0</th>\n",
              "      <td>1</td>\n",
              "      <td>0</td>\n",
              "      <td>3</td>\n",
              "      <td>Braund, Mr. Owen Harris</td>\n",
              "      <td>male</td>\n",
              "      <td>22.0</td>\n",
              "      <td>1</td>\n",
              "      <td>0</td>\n",
              "      <td>A/5 21171</td>\n",
              "      <td>7.2500</td>\n",
              "      <td>NaN</td>\n",
              "      <td>S</td>\n",
              "    </tr>\n",
              "    <tr>\n",
              "      <th>1</th>\n",
              "      <td>2</td>\n",
              "      <td>1</td>\n",
              "      <td>1</td>\n",
              "      <td>Cumings, Mrs. John Bradley (Florence Briggs Th...</td>\n",
              "      <td>female</td>\n",
              "      <td>38.0</td>\n",
              "      <td>1</td>\n",
              "      <td>0</td>\n",
              "      <td>PC 17599</td>\n",
              "      <td>71.2833</td>\n",
              "      <td>C85</td>\n",
              "      <td>C</td>\n",
              "    </tr>\n",
              "    <tr>\n",
              "      <th>2</th>\n",
              "      <td>3</td>\n",
              "      <td>1</td>\n",
              "      <td>3</td>\n",
              "      <td>Heikkinen, Miss. Laina</td>\n",
              "      <td>female</td>\n",
              "      <td>26.0</td>\n",
              "      <td>0</td>\n",
              "      <td>0</td>\n",
              "      <td>STON/O2. 3101282</td>\n",
              "      <td>7.9250</td>\n",
              "      <td>NaN</td>\n",
              "      <td>S</td>\n",
              "    </tr>\n",
              "    <tr>\n",
              "      <th>3</th>\n",
              "      <td>4</td>\n",
              "      <td>1</td>\n",
              "      <td>1</td>\n",
              "      <td>Futrelle, Mrs. Jacques Heath (Lily May Peel)</td>\n",
              "      <td>female</td>\n",
              "      <td>35.0</td>\n",
              "      <td>1</td>\n",
              "      <td>0</td>\n",
              "      <td>113803</td>\n",
              "      <td>53.1000</td>\n",
              "      <td>C123</td>\n",
              "      <td>S</td>\n",
              "    </tr>\n",
              "    <tr>\n",
              "      <th>4</th>\n",
              "      <td>5</td>\n",
              "      <td>0</td>\n",
              "      <td>3</td>\n",
              "      <td>Allen, Mr. William Henry</td>\n",
              "      <td>male</td>\n",
              "      <td>35.0</td>\n",
              "      <td>0</td>\n",
              "      <td>0</td>\n",
              "      <td>373450</td>\n",
              "      <td>8.0500</td>\n",
              "      <td>NaN</td>\n",
              "      <td>S</td>\n",
              "    </tr>\n",
              "    <tr>\n",
              "      <th>5</th>\n",
              "      <td>6</td>\n",
              "      <td>0</td>\n",
              "      <td>3</td>\n",
              "      <td>Moran, Mr. James</td>\n",
              "      <td>male</td>\n",
              "      <td>NaN</td>\n",
              "      <td>0</td>\n",
              "      <td>0</td>\n",
              "      <td>330877</td>\n",
              "      <td>8.4583</td>\n",
              "      <td>NaN</td>\n",
              "      <td>Q</td>\n",
              "    </tr>\n",
              "    <tr>\n",
              "      <th>6</th>\n",
              "      <td>7</td>\n",
              "      <td>0</td>\n",
              "      <td>1</td>\n",
              "      <td>McCarthy, Mr. Timothy J</td>\n",
              "      <td>male</td>\n",
              "      <td>54.0</td>\n",
              "      <td>0</td>\n",
              "      <td>0</td>\n",
              "      <td>17463</td>\n",
              "      <td>51.8625</td>\n",
              "      <td>E46</td>\n",
              "      <td>S</td>\n",
              "    </tr>\n",
              "    <tr>\n",
              "      <th>7</th>\n",
              "      <td>8</td>\n",
              "      <td>0</td>\n",
              "      <td>3</td>\n",
              "      <td>Palsson, Master. Gosta Leonard</td>\n",
              "      <td>male</td>\n",
              "      <td>2.0</td>\n",
              "      <td>3</td>\n",
              "      <td>1</td>\n",
              "      <td>349909</td>\n",
              "      <td>21.0750</td>\n",
              "      <td>NaN</td>\n",
              "      <td>S</td>\n",
              "    </tr>\n",
              "    <tr>\n",
              "      <th>8</th>\n",
              "      <td>9</td>\n",
              "      <td>1</td>\n",
              "      <td>3</td>\n",
              "      <td>Johnson, Mrs. Oscar W (Elisabeth Vilhelmina Berg)</td>\n",
              "      <td>female</td>\n",
              "      <td>27.0</td>\n",
              "      <td>0</td>\n",
              "      <td>2</td>\n",
              "      <td>347742</td>\n",
              "      <td>11.1333</td>\n",
              "      <td>NaN</td>\n",
              "      <td>S</td>\n",
              "    </tr>\n",
              "    <tr>\n",
              "      <th>9</th>\n",
              "      <td>10</td>\n",
              "      <td>1</td>\n",
              "      <td>2</td>\n",
              "      <td>Nasser, Mrs. Nicholas (Adele Achem)</td>\n",
              "      <td>female</td>\n",
              "      <td>14.0</td>\n",
              "      <td>1</td>\n",
              "      <td>0</td>\n",
              "      <td>237736</td>\n",
              "      <td>30.0708</td>\n",
              "      <td>NaN</td>\n",
              "      <td>C</td>\n",
              "    </tr>\n",
              "  </tbody>\n",
              "</table>\n",
              "</div>\n",
              "      <button class=\"colab-df-convert\" onclick=\"convertToInteractive('df-857c76cc-135d-408b-a5b2-2a49156afec7')\"\n",
              "              title=\"Convert this dataframe to an interactive table.\"\n",
              "              style=\"display:none;\">\n",
              "        \n",
              "  <svg xmlns=\"http://www.w3.org/2000/svg\" height=\"24px\"viewBox=\"0 0 24 24\"\n",
              "       width=\"24px\">\n",
              "    <path d=\"M0 0h24v24H0V0z\" fill=\"none\"/>\n",
              "    <path d=\"M18.56 5.44l.94 2.06.94-2.06 2.06-.94-2.06-.94-.94-2.06-.94 2.06-2.06.94zm-11 1L8.5 8.5l.94-2.06 2.06-.94-2.06-.94L8.5 2.5l-.94 2.06-2.06.94zm10 10l.94 2.06.94-2.06 2.06-.94-2.06-.94-.94-2.06-.94 2.06-2.06.94z\"/><path d=\"M17.41 7.96l-1.37-1.37c-.4-.4-.92-.59-1.43-.59-.52 0-1.04.2-1.43.59L10.3 9.45l-7.72 7.72c-.78.78-.78 2.05 0 2.83L4 21.41c.39.39.9.59 1.41.59.51 0 1.02-.2 1.41-.59l7.78-7.78 2.81-2.81c.8-.78.8-2.07 0-2.86zM5.41 20L4 18.59l7.72-7.72 1.47 1.35L5.41 20z\"/>\n",
              "  </svg>\n",
              "      </button>\n",
              "      \n",
              "  <style>\n",
              "    .colab-df-container {\n",
              "      display:flex;\n",
              "      flex-wrap:wrap;\n",
              "      gap: 12px;\n",
              "    }\n",
              "\n",
              "    .colab-df-convert {\n",
              "      background-color: #E8F0FE;\n",
              "      border: none;\n",
              "      border-radius: 50%;\n",
              "      cursor: pointer;\n",
              "      display: none;\n",
              "      fill: #1967D2;\n",
              "      height: 32px;\n",
              "      padding: 0 0 0 0;\n",
              "      width: 32px;\n",
              "    }\n",
              "\n",
              "    .colab-df-convert:hover {\n",
              "      background-color: #E2EBFA;\n",
              "      box-shadow: 0px 1px 2px rgba(60, 64, 67, 0.3), 0px 1px 3px 1px rgba(60, 64, 67, 0.15);\n",
              "      fill: #174EA6;\n",
              "    }\n",
              "\n",
              "    [theme=dark] .colab-df-convert {\n",
              "      background-color: #3B4455;\n",
              "      fill: #D2E3FC;\n",
              "    }\n",
              "\n",
              "    [theme=dark] .colab-df-convert:hover {\n",
              "      background-color: #434B5C;\n",
              "      box-shadow: 0px 1px 3px 1px rgba(0, 0, 0, 0.15);\n",
              "      filter: drop-shadow(0px 1px 2px rgba(0, 0, 0, 0.3));\n",
              "      fill: #FFFFFF;\n",
              "    }\n",
              "  </style>\n",
              "\n",
              "      <script>\n",
              "        const buttonEl =\n",
              "          document.querySelector('#df-857c76cc-135d-408b-a5b2-2a49156afec7 button.colab-df-convert');\n",
              "        buttonEl.style.display =\n",
              "          google.colab.kernel.accessAllowed ? 'block' : 'none';\n",
              "\n",
              "        async function convertToInteractive(key) {\n",
              "          const element = document.querySelector('#df-857c76cc-135d-408b-a5b2-2a49156afec7');\n",
              "          const dataTable =\n",
              "            await google.colab.kernel.invokeFunction('convertToInteractive',\n",
              "                                                     [key], {});\n",
              "          if (!dataTable) return;\n",
              "\n",
              "          const docLinkHtml = 'Like what you see? Visit the ' +\n",
              "            '<a target=\"_blank\" href=https://colab.research.google.com/notebooks/data_table.ipynb>data table notebook</a>'\n",
              "            + ' to learn more about interactive tables.';\n",
              "          element.innerHTML = '';\n",
              "          dataTable['output_type'] = 'display_data';\n",
              "          await google.colab.output.renderOutput(dataTable, element);\n",
              "          const docLink = document.createElement('div');\n",
              "          docLink.innerHTML = docLinkHtml;\n",
              "          element.appendChild(docLink);\n",
              "        }\n",
              "      </script>\n",
              "    </div>\n",
              "  </div>\n",
              "  "
            ]
          },
          "metadata": {},
          "execution_count": 5
        }
      ]
    },
    {
      "metadata": {
        "_cell_guid": "73da3ccf-f82c-485c-ad2a-547c0f13ee6c",
        "_uuid": "b21f2a9d3e89f769a1bd0ce09da993c7bff10a7c",
        "trusted": true,
        "colab": {
          "base_uri": "https://localhost:8080/",
          "height": 206
        },
        "id": "6VWz38rlWVCc",
        "outputId": "15226fb2-a30c-4897-b136-ff7c05bb3001"
      },
      "cell_type": "code",
      "source": [
        "test_data.head()"
      ],
      "execution_count": 6,
      "outputs": [
        {
          "output_type": "execute_result",
          "data": {
            "text/plain": [
              "   PassengerId  Pclass                                          Name     Sex  \\\n",
              "0          892       3                              Kelly, Mr. James    male   \n",
              "1          893       3              Wilkes, Mrs. James (Ellen Needs)  female   \n",
              "2          894       2                     Myles, Mr. Thomas Francis    male   \n",
              "3          895       3                              Wirz, Mr. Albert    male   \n",
              "4          896       3  Hirvonen, Mrs. Alexander (Helga E Lindqvist)  female   \n",
              "\n",
              "    Age  SibSp  Parch   Ticket     Fare Cabin Embarked  \n",
              "0  34.5      0      0   330911   7.8292   NaN        Q  \n",
              "1  47.0      1      0   363272   7.0000   NaN        S  \n",
              "2  62.0      0      0   240276   9.6875   NaN        Q  \n",
              "3  27.0      0      0   315154   8.6625   NaN        S  \n",
              "4  22.0      1      1  3101298  12.2875   NaN        S  "
            ],
            "text/html": [
              "\n",
              "  <div id=\"df-5c9f956d-bd58-4a38-984f-0dddcae4ef37\">\n",
              "    <div class=\"colab-df-container\">\n",
              "      <div>\n",
              "<style scoped>\n",
              "    .dataframe tbody tr th:only-of-type {\n",
              "        vertical-align: middle;\n",
              "    }\n",
              "\n",
              "    .dataframe tbody tr th {\n",
              "        vertical-align: top;\n",
              "    }\n",
              "\n",
              "    .dataframe thead th {\n",
              "        text-align: right;\n",
              "    }\n",
              "</style>\n",
              "<table border=\"1\" class=\"dataframe\">\n",
              "  <thead>\n",
              "    <tr style=\"text-align: right;\">\n",
              "      <th></th>\n",
              "      <th>PassengerId</th>\n",
              "      <th>Pclass</th>\n",
              "      <th>Name</th>\n",
              "      <th>Sex</th>\n",
              "      <th>Age</th>\n",
              "      <th>SibSp</th>\n",
              "      <th>Parch</th>\n",
              "      <th>Ticket</th>\n",
              "      <th>Fare</th>\n",
              "      <th>Cabin</th>\n",
              "      <th>Embarked</th>\n",
              "    </tr>\n",
              "  </thead>\n",
              "  <tbody>\n",
              "    <tr>\n",
              "      <th>0</th>\n",
              "      <td>892</td>\n",
              "      <td>3</td>\n",
              "      <td>Kelly, Mr. James</td>\n",
              "      <td>male</td>\n",
              "      <td>34.5</td>\n",
              "      <td>0</td>\n",
              "      <td>0</td>\n",
              "      <td>330911</td>\n",
              "      <td>7.8292</td>\n",
              "      <td>NaN</td>\n",
              "      <td>Q</td>\n",
              "    </tr>\n",
              "    <tr>\n",
              "      <th>1</th>\n",
              "      <td>893</td>\n",
              "      <td>3</td>\n",
              "      <td>Wilkes, Mrs. James (Ellen Needs)</td>\n",
              "      <td>female</td>\n",
              "      <td>47.0</td>\n",
              "      <td>1</td>\n",
              "      <td>0</td>\n",
              "      <td>363272</td>\n",
              "      <td>7.0000</td>\n",
              "      <td>NaN</td>\n",
              "      <td>S</td>\n",
              "    </tr>\n",
              "    <tr>\n",
              "      <th>2</th>\n",
              "      <td>894</td>\n",
              "      <td>2</td>\n",
              "      <td>Myles, Mr. Thomas Francis</td>\n",
              "      <td>male</td>\n",
              "      <td>62.0</td>\n",
              "      <td>0</td>\n",
              "      <td>0</td>\n",
              "      <td>240276</td>\n",
              "      <td>9.6875</td>\n",
              "      <td>NaN</td>\n",
              "      <td>Q</td>\n",
              "    </tr>\n",
              "    <tr>\n",
              "      <th>3</th>\n",
              "      <td>895</td>\n",
              "      <td>3</td>\n",
              "      <td>Wirz, Mr. Albert</td>\n",
              "      <td>male</td>\n",
              "      <td>27.0</td>\n",
              "      <td>0</td>\n",
              "      <td>0</td>\n",
              "      <td>315154</td>\n",
              "      <td>8.6625</td>\n",
              "      <td>NaN</td>\n",
              "      <td>S</td>\n",
              "    </tr>\n",
              "    <tr>\n",
              "      <th>4</th>\n",
              "      <td>896</td>\n",
              "      <td>3</td>\n",
              "      <td>Hirvonen, Mrs. Alexander (Helga E Lindqvist)</td>\n",
              "      <td>female</td>\n",
              "      <td>22.0</td>\n",
              "      <td>1</td>\n",
              "      <td>1</td>\n",
              "      <td>3101298</td>\n",
              "      <td>12.2875</td>\n",
              "      <td>NaN</td>\n",
              "      <td>S</td>\n",
              "    </tr>\n",
              "  </tbody>\n",
              "</table>\n",
              "</div>\n",
              "      <button class=\"colab-df-convert\" onclick=\"convertToInteractive('df-5c9f956d-bd58-4a38-984f-0dddcae4ef37')\"\n",
              "              title=\"Convert this dataframe to an interactive table.\"\n",
              "              style=\"display:none;\">\n",
              "        \n",
              "  <svg xmlns=\"http://www.w3.org/2000/svg\" height=\"24px\"viewBox=\"0 0 24 24\"\n",
              "       width=\"24px\">\n",
              "    <path d=\"M0 0h24v24H0V0z\" fill=\"none\"/>\n",
              "    <path d=\"M18.56 5.44l.94 2.06.94-2.06 2.06-.94-2.06-.94-.94-2.06-.94 2.06-2.06.94zm-11 1L8.5 8.5l.94-2.06 2.06-.94-2.06-.94L8.5 2.5l-.94 2.06-2.06.94zm10 10l.94 2.06.94-2.06 2.06-.94-2.06-.94-.94-2.06-.94 2.06-2.06.94z\"/><path d=\"M17.41 7.96l-1.37-1.37c-.4-.4-.92-.59-1.43-.59-.52 0-1.04.2-1.43.59L10.3 9.45l-7.72 7.72c-.78.78-.78 2.05 0 2.83L4 21.41c.39.39.9.59 1.41.59.51 0 1.02-.2 1.41-.59l7.78-7.78 2.81-2.81c.8-.78.8-2.07 0-2.86zM5.41 20L4 18.59l7.72-7.72 1.47 1.35L5.41 20z\"/>\n",
              "  </svg>\n",
              "      </button>\n",
              "      \n",
              "  <style>\n",
              "    .colab-df-container {\n",
              "      display:flex;\n",
              "      flex-wrap:wrap;\n",
              "      gap: 12px;\n",
              "    }\n",
              "\n",
              "    .colab-df-convert {\n",
              "      background-color: #E8F0FE;\n",
              "      border: none;\n",
              "      border-radius: 50%;\n",
              "      cursor: pointer;\n",
              "      display: none;\n",
              "      fill: #1967D2;\n",
              "      height: 32px;\n",
              "      padding: 0 0 0 0;\n",
              "      width: 32px;\n",
              "    }\n",
              "\n",
              "    .colab-df-convert:hover {\n",
              "      background-color: #E2EBFA;\n",
              "      box-shadow: 0px 1px 2px rgba(60, 64, 67, 0.3), 0px 1px 3px 1px rgba(60, 64, 67, 0.15);\n",
              "      fill: #174EA6;\n",
              "    }\n",
              "\n",
              "    [theme=dark] .colab-df-convert {\n",
              "      background-color: #3B4455;\n",
              "      fill: #D2E3FC;\n",
              "    }\n",
              "\n",
              "    [theme=dark] .colab-df-convert:hover {\n",
              "      background-color: #434B5C;\n",
              "      box-shadow: 0px 1px 3px 1px rgba(0, 0, 0, 0.15);\n",
              "      filter: drop-shadow(0px 1px 2px rgba(0, 0, 0, 0.3));\n",
              "      fill: #FFFFFF;\n",
              "    }\n",
              "  </style>\n",
              "\n",
              "      <script>\n",
              "        const buttonEl =\n",
              "          document.querySelector('#df-5c9f956d-bd58-4a38-984f-0dddcae4ef37 button.colab-df-convert');\n",
              "        buttonEl.style.display =\n",
              "          google.colab.kernel.accessAllowed ? 'block' : 'none';\n",
              "\n",
              "        async function convertToInteractive(key) {\n",
              "          const element = document.querySelector('#df-5c9f956d-bd58-4a38-984f-0dddcae4ef37');\n",
              "          const dataTable =\n",
              "            await google.colab.kernel.invokeFunction('convertToInteractive',\n",
              "                                                     [key], {});\n",
              "          if (!dataTable) return;\n",
              "\n",
              "          const docLinkHtml = 'Like what you see? Visit the ' +\n",
              "            '<a target=\"_blank\" href=https://colab.research.google.com/notebooks/data_table.ipynb>data table notebook</a>'\n",
              "            + ' to learn more about interactive tables.';\n",
              "          element.innerHTML = '';\n",
              "          dataTable['output_type'] = 'display_data';\n",
              "          await google.colab.output.renderOutput(dataTable, element);\n",
              "          const docLink = document.createElement('div');\n",
              "          docLink.innerHTML = docLinkHtml;\n",
              "          element.appendChild(docLink);\n",
              "        }\n",
              "      </script>\n",
              "    </div>\n",
              "  </div>\n",
              "  "
            ]
          },
          "metadata": {},
          "execution_count": 6
        }
      ]
    },
    {
      "metadata": {
        "_cell_guid": "e43a6271-1b69-43d7-a45b-f8b84c940dad",
        "_uuid": "a7b00e3add28398149621d710b28cfd43a7e8315",
        "trusted": true,
        "colab": {
          "base_uri": "https://localhost:8080/"
        },
        "id": "48u7WsLNWVCd",
        "outputId": "c5297112-1686-4630-a165-2107446dbad9"
      },
      "cell_type": "code",
      "source": [
        "train_data.isnull().sum()"
      ],
      "execution_count": 7,
      "outputs": [
        {
          "output_type": "execute_result",
          "data": {
            "text/plain": [
              "PassengerId      0\n",
              "Survived         0\n",
              "Pclass           0\n",
              "Name             0\n",
              "Sex              0\n",
              "Age            177\n",
              "SibSp            0\n",
              "Parch            0\n",
              "Ticket           0\n",
              "Fare             0\n",
              "Cabin          687\n",
              "Embarked         2\n",
              "dtype: int64"
            ]
          },
          "metadata": {},
          "execution_count": 7
        }
      ]
    },
    {
      "metadata": {
        "_cell_guid": "c57466e5-c0fc-4e3a-86ee-c219c25cfb4e",
        "_uuid": "474928cc7dc656e5da644fa453edcd1d21841915",
        "trusted": true,
        "colab": {
          "base_uri": "https://localhost:8080/",
          "height": 279
        },
        "id": "IWJTpuVUWVCd",
        "outputId": "4d3d8ed5-e1a8-460a-8622-71e5d21b6025"
      },
      "cell_type": "code",
      "source": [
        "sb.countplot('Survived',data=train_data)\n",
        "plt.show()"
      ],
      "execution_count": 8,
      "outputs": [
        {
          "output_type": "display_data",
          "data": {
            "text/plain": [
              "<Figure size 432x288 with 1 Axes>"
            ],
            "image/png": "[encoded data removed]"
          },
          "metadata": {
            "needs_background": "light"
          }
        }
      ]
    },
    {
      "metadata": {
        "_cell_guid": "f14422da-af0a-431a-89ce-6ea5993aca91",
        "_uuid": "62f5615b17798fb758e14fab7be9d99369e791ea",
        "id": "KQFHpk_kWVCe"
      },
      "cell_type": "markdown",
      "source": [
        "From the above graph it is clear that not many persons survived.\n",
        "Out of 891 persons in training dataset only 350, 38.4% of total training dataset survived. We will get more insight of data by exploring more."
      ]
    },
    {
      "metadata": {
        "_cell_guid": "8ba3935e-5f02-4d93-95dc-cfd80fab8d30",
        "_uuid": "f678cba564076a54d7d05a1e4fbaf30436066fb0",
        "id": "eAw6z635WVCe"
      },
      "cell_type": "markdown",
      "source": [
        "Here we'll explore features"
      ]
    },
    {
      "metadata": {
        "_cell_guid": "76992ff6-10cb-409a-9465-e56b335faa74",
        "_uuid": "ef6e3bed7a9c2f718dd269619c30c1105233ea54",
        "trusted": true,
        "colab": {
          "base_uri": "https://localhost:8080/"
        },
        "id": "XxpxbukZWVCe",
        "outputId": "d1b01be8-541f-45e8-94dc-1fc9047f7ccf"
      },
      "cell_type": "code",
      "source": [
        "train_data.groupby(['Sex', 'Survived'])['Survived'].count()"
      ],
      "execution_count": 9,
      "outputs": [
        {
          "output_type": "execute_result",
          "data": {
            "text/plain": [
              "Sex     Survived\n",
              "female  0            81\n",
              "        1           233\n",
              "male    0           468\n",
              "        1           109\n",
              "Name: Survived, dtype: int64"
            ]
          },
          "metadata": {},
          "execution_count": 9
        }
      ]
    },
    {
      "metadata": {
        "_cell_guid": "ac056788-6cc2-4411-a19f-73b83bd6f21b",
        "_uuid": "eed11c2d5077018577d778cb3d03e32214c7c6ce",
        "id": "GD3aJi-mWVCf"
      },
      "cell_type": "markdown",
      "source": [
        "It is clear that 233 female survived out of 344. And out of 577 male 109 survived. The survival ratio of female is much greater than that of male. It can be seen clearly in following graph"
      ]
    },
    {
      "metadata": {
        "_cell_guid": "7b0bc1e0-a8d9-4848-807e-815392d12b76",
        "_uuid": "bf5d8e2522bb00dc2fc1c22ff0d821290e8b418b",
        "trusted": true,
        "colab": {
          "base_uri": "https://localhost:8080/",
          "height": 303
        },
        "id": "2u4XO8DZWVCf",
        "outputId": "019ba833-c2c1-48b1-a209-9db8942a0fc1"
      },
      "cell_type": "code",
      "source": [
        "train_data[['Sex','Survived']].groupby(['Sex']).mean().plot.bar()\n",
        "sb.countplot('Sex',hue='Survived',data=train_data,)\n",
        "plt.show()"
      ],
      "execution_count": 10,
      "outputs": [
        {
          "output_type": "display_data",
          "data": {
            "text/plain": [
              "<Figure size 432x288 with 1 Axes>"
            ],
            "image/png": "[encoded data removed]"
          },
          "metadata": {
            "needs_background": "light"
          }
        }
      ]
    },
    {
      "metadata": {
        "_cell_guid": "14c2aff4-a9af-49f5-ae09-2f7ead2e108b",
        "_uuid": "90cc96f012bb3c866ed40bc88e20ff8a1eb4028d",
        "id": "mnSPYeEIWVCg"
      },
      "cell_type": "markdown",
      "source": [
        "'Sex' is very interesting feature. Isn't it? Let's explore more features"
      ]
    },
    {
      "metadata": {
        "_cell_guid": "013a7ce7-accc-4272-9df7-c78289478cc6",
        "_uuid": "c949094d68749de7822e975aed9e20327a98f5dd",
        "trusted": true,
        "colab": {
          "base_uri": "https://localhost:8080/",
          "height": 296
        },
        "id": "T41Uo3XwWVCg",
        "outputId": "49475814-9148-4e70-d994-bf5d29a3aa60"
      },
      "cell_type": "code",
      "source": [
        "sb.countplot('Pclass', hue='Survived', data=train_data)\n",
        "plt.title('Pclass: Sruvived vs Dead')\n",
        "plt.show()"
      ],
      "execution_count": 11,
      "outputs": [
        {
          "output_type": "display_data",
          "data": {
            "text/plain": [
              "<Figure size 432x288 with 1 Axes>"
            ],
            "image/png": "[encoded data removed]"
          },
          "metadata": {
            "needs_background": "light"
          }
        }
      ]
    },
    {
      "metadata": {
        "_cell_guid": "22af9369-c7e2-49d2-b838-c51dbf33fdf6",
        "_uuid": "f8630bf3c9131f866b44c523ffdad4ecf4fd9bfa",
        "id": "KaZGe6YyWVCg"
      },
      "cell_type": "markdown",
      "source": [
        "Wow.... That looks amazing. It is usually said that Money can't buy Everything, But it is clearly seen that pasangers of Class 1 are given high priority while Rescue. There are greater number of passangers in Class 3 than Class 1 and Class 2 but very few, almost 25% in Class 3 survived. In Class 2, survivail and non-survival rate is 49% and 51% approx.\n",
        "While in Class 1 almost 68% people survived. So money and status matters here.\n",
        "\n",
        "Let's dive in again into data to check more interesting observations."
      ]
    },
    {
      "metadata": {
        "_cell_guid": "9c3d4ad1-18e5-416d-a26d-74fbdca0b94a",
        "_uuid": "26243d12a3c5fad03467180a23a39d5e63131fd9",
        "trusted": true,
        "colab": {
          "base_uri": "https://localhost:8080/",
          "height": 237
        },
        "id": "7BVdn6IxWVCg",
        "outputId": "9f2607dd-7135-4dc5-cd91-40637cdcb8d9"
      },
      "cell_type": "code",
      "source": [
        "pd.crosstab([train_data.Sex,train_data.Survived],train_data.Pclass,margins=True).style.background_gradient(cmap='summer_r')"
      ],
      "execution_count": 12,
      "outputs": [
        {
          "output_type": "execute_result",
          "data": {
            "text/plain": [
              "<pandas.io.formats.style.Styler at 0x7f10aaa7e750>"
            ],
            "text/html": [
              "<style type=\"text/css\">\n",
              "#T_f8f57_row0_col0, #T_f8f57_row0_col1, #T_f8f57_row0_col3, #T_f8f57_row3_col2 {\n",
              "  background-color: #ffff66;\n",
              "  color: #000000;\n",
              "}\n",
              "#T_f8f57_row0_col2, #T_f8f57_row1_col2 {\n",
              "  background-color: #f1f866;\n",
              "  color: #000000;\n",
              "}\n",
              "#T_f8f57_row1_col0 {\n",
              "  background-color: #96cb66;\n",
              "  color: #000000;\n",
              "}\n",
              "#T_f8f57_row1_col1 {\n",
              "  background-color: #a3d166;\n",
              "  color: #000000;\n",
              "}\n",
              "#T_f8f57_row1_col3 {\n",
              "  background-color: #cfe766;\n",
              "  color: #000000;\n",
              "}\n",
              "#T_f8f57_row2_col0 {\n",
              "  background-color: #a7d366;\n",
              "  color: #000000;\n",
              "}\n",
              "#T_f8f57_row2_col1, #T_f8f57_row2_col3 {\n",
              "  background-color: #85c266;\n",
              "  color: #000000;\n",
              "}\n",
              "#T_f8f57_row2_col2 {\n",
              "  background-color: #6eb666;\n",
              "  color: #f1f1f1;\n",
              "}\n",
              "#T_f8f57_row3_col0 {\n",
              "  background-color: #cde666;\n",
              "  color: #000000;\n",
              "}\n",
              "#T_f8f57_row3_col1 {\n",
              "  background-color: #f0f866;\n",
              "  color: #000000;\n",
              "}\n",
              "#T_f8f57_row3_col3 {\n",
              "  background-color: #f7fb66;\n",
              "  color: #000000;\n",
              "}\n",
              "#T_f8f57_row4_col0, #T_f8f57_row4_col1, #T_f8f57_row4_col2, #T_f8f57_row4_col3 {\n",
              "  background-color: #008066;\n",
              "  color: #f1f1f1;\n",
              "}\n",
              "</style>\n",
              "<table id=\"T_f8f57_\" class=\"dataframe\">\n",
              "  <thead>\n",
              "    <tr>\n",
              "      <th class=\"blank\" >&nbsp;</th>\n",
              "      <th class=\"index_name level0\" >Pclass</th>\n",
              "      <th class=\"col_heading level0 col0\" >1</th>\n",
              "      <th class=\"col_heading level0 col1\" >2</th>\n",
              "      <th class=\"col_heading level0 col2\" >3</th>\n",
              "      <th class=\"col_heading level0 col3\" >All</th>\n",
              "    </tr>\n",
              "    <tr>\n",
              "      <th class=\"index_name level0\" >Sex</th>\n",
              "      <th class=\"index_name level1\" >Survived</th>\n",
              "      <th class=\"blank col0\" >&nbsp;</th>\n",
              "      <th class=\"blank col1\" >&nbsp;</th>\n",
              "      <th class=\"blank col2\" >&nbsp;</th>\n",
              "      <th class=\"blank col3\" >&nbsp;</th>\n",
              "    </tr>\n",
              "  </thead>\n",
              "  <tbody>\n",
              "    <tr>\n",
              "      <th id=\"T_f8f57_level0_row0\" class=\"row_heading level0 row0\" rowspan=\"2\">female</th>\n",
              "      <th id=\"T_f8f57_level1_row0\" class=\"row_heading level1 row0\" >0</th>\n",
              "      <td id=\"T_f8f57_row0_col0\" class=\"data row0 col0\" >3</td>\n",
              "      <td id=\"T_f8f57_row0_col1\" class=\"data row0 col1\" >6</td>\n",
              "      <td id=\"T_f8f57_row0_col2\" class=\"data row0 col2\" >72</td>\n",
              "      <td id=\"T_f8f57_row0_col3\" class=\"data row0 col3\" >81</td>\n",
              "    </tr>\n",
              "    <tr>\n",
              "      <th id=\"T_f8f57_level1_row1\" class=\"row_heading level1 row1\" >1</th>\n",
              "      <td id=\"T_f8f57_row1_col0\" class=\"data row1 col0\" >91</td>\n",
              "      <td id=\"T_f8f57_row1_col1\" class=\"data row1 col1\" >70</td>\n",
              "      <td id=\"T_f8f57_row1_col2\" class=\"data row1 col2\" >72</td>\n",
              "      <td id=\"T_f8f57_row1_col3\" class=\"data row1 col3\" >233</td>\n",
              "    </tr>\n",
              "    <tr>\n",
              "      <th id=\"T_f8f57_level0_row2\" class=\"row_heading level0 row2\" rowspan=\"2\">male</th>\n",
              "      <th id=\"T_f8f57_level1_row2\" class=\"row_heading level1 row2\" >0</th>\n",
              "      <td id=\"T_f8f57_row2_col0\" class=\"data row2 col0\" >77</td>\n",
              "      <td id=\"T_f8f57_row2_col1\" class=\"data row2 col1\" >91</td>\n",
              "      <td id=\"T_f8f57_row2_col2\" class=\"data row2 col2\" >300</td>\n",
              "      <td id=\"T_f8f57_row2_col3\" class=\"data row2 col3\" >468</td>\n",
              "    </tr>\n",
              "    <tr>\n",
              "      <th id=\"T_f8f57_level1_row3\" class=\"row_heading level1 row3\" >1</th>\n",
              "      <td id=\"T_f8f57_row3_col0\" class=\"data row3 col0\" >45</td>\n",
              "      <td id=\"T_f8f57_row3_col1\" class=\"data row3 col1\" >17</td>\n",
              "      <td id=\"T_f8f57_row3_col2\" class=\"data row3 col2\" >47</td>\n",
              "      <td id=\"T_f8f57_row3_col3\" class=\"data row3 col3\" >109</td>\n",
              "    </tr>\n",
              "    <tr>\n",
              "      <th id=\"T_f8f57_level0_row4\" class=\"row_heading level0 row4\" >All</th>\n",
              "      <th id=\"T_f8f57_level1_row4\" class=\"row_heading level1 row4\" ></th>\n",
              "      <td id=\"T_f8f57_row4_col0\" class=\"data row4 col0\" >216</td>\n",
              "      <td id=\"T_f8f57_row4_col1\" class=\"data row4 col1\" >184</td>\n",
              "      <td id=\"T_f8f57_row4_col2\" class=\"data row4 col2\" >491</td>\n",
              "      <td id=\"T_f8f57_row4_col3\" class=\"data row4 col3\" >891</td>\n",
              "    </tr>\n",
              "  </tbody>\n",
              "</table>\n"
            ]
          },
          "metadata": {},
          "execution_count": 12
        }
      ]
    },
    {
      "metadata": {
        "_cell_guid": "458dff98-f6bb-4f40-8d1d-0aa1b19893aa",
        "_uuid": "0f629690be27786abfadf19b3a5f2f5121c09772",
        "trusted": true,
        "colab": {
          "base_uri": "https://localhost:8080/",
          "height": 369
        },
        "id": "UfDgqz0SWVCh",
        "outputId": "70875b0d-bba6-45f7-e299-7ab1aaf8052e"
      },
      "cell_type": "code",
      "source": [
        "sb.factorplot('Pclass', 'Survived', hue='Sex', data=train_data)\n",
        "plt.show()"
      ],
      "execution_count": 13,
      "outputs": [
        {
          "output_type": "display_data",
          "data": {
            "text/plain": [
              "<Figure size 430.5x360 with 1 Axes>"
            ],
            "image/png": "[encoded data removed]"
          },
          "metadata": {
            "needs_background": "light"
          }
        }
      ]
    },
    {
      "metadata": {
        "_cell_guid": "b5640e42-e3b8-4b82-90c9-dc9334c260df",
        "_uuid": "08302445557a66dc313431d2e47da3f176a4406c",
        "id": "-VZx0duYWVCh"
      },
      "cell_type": "markdown",
      "source": [
        "I use FactorPlot and CrossTab here because with these plots categorical variables can easily be visualized. Looking at FactorPlot and CrossTab, it is clear that women survival rate in Class 1 is about 95-96%, as only 3 out of 94 women died. So, it is now more clear that irrespective of Class, women are given first priority during Rescue. Because survival rate for men in even Class 1 is also very low.\n",
        "From this conclusion, PClass is also a important feature."
      ]
    },
    {
      "metadata": {
        "_cell_guid": "dfe8ad42-528f-400f-bff1-493dba5f3dfd",
        "_uuid": "bfbbe611e3f4f089ed5ffcf17d994485127af4f5",
        "trusted": true,
        "colab": {
          "base_uri": "https://localhost:8080/"
        },
        "id": "Mw-cZ_Z8WVCh",
        "outputId": "4292b3d7-8534-45d6-896a-5b898a5a3947"
      },
      "cell_type": "code",
      "source": [
        "print('Oldest person Survived was of:',train_data['Age'].max())\n",
        "print('Youngest person Survived was of:',train_data['Age'].min())\n",
        "print('Average person Survived was of:',train_data['Age'].mean())"
      ],
      "execution_count": 14,
      "outputs": [
        {
          "output_type": "stream",
          "name": "stdout",
          "text": [
            "Oldest person Survived was of: 80.0\n",
            "Youngest person Survived was of: 0.42\n",
            "Average person Survived was of: 29.69911764705882\n"
          ]
        }
      ]
    },
    {
      "metadata": {
        "_cell_guid": "623f7637-6bf0-4c11-bc39-f32e7c2cc1d7",
        "_uuid": "392a729823d49f221d95aa57dcc9d03223bf80ba",
        "trusted": true,
        "colab": {
          "base_uri": "https://localhost:8080/",
          "height": 513
        },
        "id": "_pQU7odrWVCi",
        "outputId": "714766ae-cc67-49bd-9d87-ee61edfc111f"
      },
      "cell_type": "code",
      "source": [
        "f,ax=plt.subplots(1,2,figsize=(18,8))\n",
        "sb.violinplot('Pclass','Age',hue='Survived',data=train_data,split=True,ax=ax[0])\n",
        "ax[0].set_title('PClass and Age vs Survived')\n",
        "ax[0].set_yticks(range(0,110,10))\n",
        "sb.violinplot(\"Sex\",\"Age\", hue=\"Survived\", data=train_data,split=True,ax=ax[1])\n",
        "ax[1].set_title('Sex and Age vs Survived')\n",
        "ax[1].set_yticks(range(0,110,10))\n",
        "plt.show()\n"
      ],
      "execution_count": 15,
      "outputs": [
        {
          "output_type": "display_data",
          "data": {
            "text/plain": [
              "<Figure size 1296x576 with 2 Axes>"
            ],
            "image/png": "[encoded data removed]"
          },
          "metadata": {
            "needs_background": "light"
          }
        }
      ]
    },
    {
      "metadata": {
        "_cell_guid": "b948bf43-0a2b-4159-a0ec-ead2728110ca",
        "_uuid": "e7f8efa74236d35aa4aeb3b5acd6f51a91e770ce",
        "id": "UIQD6aV8WVCi"
      },
      "cell_type": "markdown",
      "source": [
        "From above violen plots, following observations are clear,\n",
        "1) The no of children is increasing from Class 1 to 3, the number of children in Class 3 is greater than other two. \n",
        "2) Survival rate of children, for age 10 and below is good irrespective of Class\n",
        "3) Survival rate between age 20-30 is well and is quite better for women.\n",
        "\n",
        "Now, in Age feature we have 177 null values filled with NaN. We have to deal with it. But we can't enter mean of age in every NaN column, because our average/mean is 29 and we cannot put 29 for a child or some olde man. So we have to discover something better. \n",
        "Let's do something more interesting with dataset by exploring more."
      ]
    },
    {
      "metadata": {
        "_cell_guid": "7845ce06-5e0f-4850-af21-6e47e3a60c3d",
        "_uuid": "0021a84e580c8010d11082766b48d1dc755c5f2a",
        "id": "x9SFcmq-WVCi"
      },
      "cell_type": "markdown",
      "source": [
        "What is, if I look at 'Name' feature, It looks interesting. Let's check it...."
      ]
    },
    {
      "metadata": {
        "_cell_guid": "1aa29a1a-34dd-4270-8f8c-8022dd806ba0",
        "_uuid": "00ba326def819939d616f175f150b09026e5f623",
        "collapsed": true,
        "trusted": true,
        "id": "3cEiz-R8WVCi"
      },
      "cell_type": "code",
      "source": [
        "train_data['Initial']=0\n",
        "for i in train_data:\n",
        "    train_data['Initial']=train_data.Name.str.extract('([A-Za-z]+)\\.') #extracting Name initials"
      ],
      "execution_count": 16,
      "outputs": []
    },
    {
      "metadata": {
        "_cell_guid": "9289e051-d21d-4fc9-b774-224a436ba5c9",
        "_uuid": "4a1568cce94ad94c6049266831cb6ad2acbdfb06",
        "trusted": true,
        "colab": {
          "base_uri": "https://localhost:8080/",
          "height": 143
        },
        "id": "ZgHtU5d-WVCj",
        "outputId": "6b8b72cc-c7c4-4962-e003-6ab747cfe113"
      },
      "cell_type": "code",
      "source": [
        "pd.crosstab(train_data.Initial,train_data.Sex).T.style.background_gradient(cmap='summer_r')\n"
      ],
      "execution_count": 17,
      "outputs": [
        {
          "output_type": "execute_result",
          "data": {
            "text/plain": [
              "<pandas.io.formats.style.Styler at 0x7f10aaabc890>"
            ],
            "text/html": [
              "<style type=\"text/css\">\n",
              "#T_96fc0_row0_col0, #T_96fc0_row0_col1, #T_96fc0_row0_col3, #T_96fc0_row0_col4, #T_96fc0_row0_col5, #T_96fc0_row0_col7, #T_96fc0_row0_col8, #T_96fc0_row0_col12, #T_96fc0_row0_col15, #T_96fc0_row0_col16, #T_96fc0_row1_col2, #T_96fc0_row1_col6, #T_96fc0_row1_col9, #T_96fc0_row1_col10, #T_96fc0_row1_col11, #T_96fc0_row1_col13, #T_96fc0_row1_col14 {\n",
              "  background-color: #ffff66;\n",
              "  color: #000000;\n",
              "}\n",
              "#T_96fc0_row0_col2, #T_96fc0_row0_col6, #T_96fc0_row0_col9, #T_96fc0_row0_col10, #T_96fc0_row0_col11, #T_96fc0_row0_col13, #T_96fc0_row0_col14, #T_96fc0_row1_col0, #T_96fc0_row1_col1, #T_96fc0_row1_col3, #T_96fc0_row1_col4, #T_96fc0_row1_col5, #T_96fc0_row1_col7, #T_96fc0_row1_col8, #T_96fc0_row1_col12, #T_96fc0_row1_col15, #T_96fc0_row1_col16 {\n",
              "  background-color: #008066;\n",
              "  color: #f1f1f1;\n",
              "}\n",
              "</style>\n",
              "<table id=\"T_96fc0_\" class=\"dataframe\">\n",
              "  <thead>\n",
              "    <tr>\n",
              "      <th class=\"index_name level0\" >Initial</th>\n",
              "      <th class=\"col_heading level0 col0\" >Capt</th>\n",
              "      <th class=\"col_heading level0 col1\" >Col</th>\n",
              "      <th class=\"col_heading level0 col2\" >Countess</th>\n",
              "      <th class=\"col_heading level0 col3\" >Don</th>\n",
              "      <th class=\"col_heading level0 col4\" >Dr</th>\n",
              "      <th class=\"col_heading level0 col5\" >Jonkheer</th>\n",
              "      <th class=\"col_heading level0 col6\" >Lady</th>\n",
              "      <th class=\"col_heading level0 col7\" >Major</th>\n",
              "      <th class=\"col_heading level0 col8\" >Master</th>\n",
              "      <th class=\"col_heading level0 col9\" >Miss</th>\n",
              "      <th class=\"col_heading level0 col10\" >Mlle</th>\n",
              "      <th class=\"col_heading level0 col11\" >Mme</th>\n",
              "      <th class=\"col_heading level0 col12\" >Mr</th>\n",
              "      <th class=\"col_heading level0 col13\" >Mrs</th>\n",
              "      <th class=\"col_heading level0 col14\" >Ms</th>\n",
              "      <th class=\"col_heading level0 col15\" >Rev</th>\n",
              "      <th class=\"col_heading level0 col16\" >Sir</th>\n",
              "    </tr>\n",
              "    <tr>\n",
              "      <th class=\"index_name level0\" >Sex</th>\n",
              "      <th class=\"blank col0\" >&nbsp;</th>\n",
              "      <th class=\"blank col1\" >&nbsp;</th>\n",
              "      <th class=\"blank col2\" >&nbsp;</th>\n",
              "      <th class=\"blank col3\" >&nbsp;</th>\n",
              "      <th class=\"blank col4\" >&nbsp;</th>\n",
              "      <th class=\"blank col5\" >&nbsp;</th>\n",
              "      <th class=\"blank col6\" >&nbsp;</th>\n",
              "      <th class=\"blank col7\" >&nbsp;</th>\n",
              "      <th class=\"blank col8\" >&nbsp;</th>\n",
              "      <th class=\"blank col9\" >&nbsp;</th>\n",
              "      <th class=\"blank col10\" >&nbsp;</th>\n",
              "      <th class=\"blank col11\" >&nbsp;</th>\n",
              "      <th class=\"blank col12\" >&nbsp;</th>\n",
              "      <th class=\"blank col13\" >&nbsp;</th>\n",
              "      <th class=\"blank col14\" >&nbsp;</th>\n",
              "      <th class=\"blank col15\" >&nbsp;</th>\n",
              "      <th class=\"blank col16\" >&nbsp;</th>\n",
              "    </tr>\n",
              "  </thead>\n",
              "  <tbody>\n",
              "    <tr>\n",
              "      <th id=\"T_96fc0_level0_row0\" class=\"row_heading level0 row0\" >female</th>\n",
              "      <td id=\"T_96fc0_row0_col0\" class=\"data row0 col0\" >0</td>\n",
              "      <td id=\"T_96fc0_row0_col1\" class=\"data row0 col1\" >0</td>\n",
              "      <td id=\"T_96fc0_row0_col2\" class=\"data row0 col2\" >1</td>\n",
              "      <td id=\"T_96fc0_row0_col3\" class=\"data row0 col3\" >0</td>\n",
              "      <td id=\"T_96fc0_row0_col4\" class=\"data row0 col4\" >1</td>\n",
              "      <td id=\"T_96fc0_row0_col5\" class=\"data row0 col5\" >0</td>\n",
              "      <td id=\"T_96fc0_row0_col6\" class=\"data row0 col6\" >1</td>\n",
              "      <td id=\"T_96fc0_row0_col7\" class=\"data row0 col7\" >0</td>\n",
              "      <td id=\"T_96fc0_row0_col8\" class=\"data row0 col8\" >0</td>\n",
              "      <td id=\"T_96fc0_row0_col9\" class=\"data row0 col9\" >182</td>\n",
              "      <td id=\"T_96fc0_row0_col10\" class=\"data row0 col10\" >2</td>\n",
              "      <td id=\"T_96fc0_row0_col11\" class=\"data row0 col11\" >1</td>\n",
              "      <td id=\"T_96fc0_row0_col12\" class=\"data row0 col12\" >0</td>\n",
              "      <td id=\"T_96fc0_row0_col13\" class=\"data row0 col13\" >125</td>\n",
              "      <td id=\"T_96fc0_row0_col14\" class=\"data row0 col14\" >1</td>\n",
              "      <td id=\"T_96fc0_row0_col15\" class=\"data row0 col15\" >0</td>\n",
              "      <td id=\"T_96fc0_row0_col16\" class=\"data row0 col16\" >0</td>\n",
              "    </tr>\n",
              "    <tr>\n",
              "      <th id=\"T_96fc0_level0_row1\" class=\"row_heading level0 row1\" >male</th>\n",
              "      <td id=\"T_96fc0_row1_col0\" class=\"data row1 col0\" >1</td>\n",
              "      <td id=\"T_96fc0_row1_col1\" class=\"data row1 col1\" >2</td>\n",
              "      <td id=\"T_96fc0_row1_col2\" class=\"data row1 col2\" >0</td>\n",
              "      <td id=\"T_96fc0_row1_col3\" class=\"data row1 col3\" >1</td>\n",
              "      <td id=\"T_96fc0_row1_col4\" class=\"data row1 col4\" >6</td>\n",
              "      <td id=\"T_96fc0_row1_col5\" class=\"data row1 col5\" >1</td>\n",
              "      <td id=\"T_96fc0_row1_col6\" class=\"data row1 col6\" >0</td>\n",
              "      <td id=\"T_96fc0_row1_col7\" class=\"data row1 col7\" >2</td>\n",
              "      <td id=\"T_96fc0_row1_col8\" class=\"data row1 col8\" >40</td>\n",
              "      <td id=\"T_96fc0_row1_col9\" class=\"data row1 col9\" >0</td>\n",
              "      <td id=\"T_96fc0_row1_col10\" class=\"data row1 col10\" >0</td>\n",
              "      <td id=\"T_96fc0_row1_col11\" class=\"data row1 col11\" >0</td>\n",
              "      <td id=\"T_96fc0_row1_col12\" class=\"data row1 col12\" >517</td>\n",
              "      <td id=\"T_96fc0_row1_col13\" class=\"data row1 col13\" >0</td>\n",
              "      <td id=\"T_96fc0_row1_col14\" class=\"data row1 col14\" >0</td>\n",
              "      <td id=\"T_96fc0_row1_col15\" class=\"data row1 col15\" >6</td>\n",
              "      <td id=\"T_96fc0_row1_col16\" class=\"data row1 col16\" >1</td>\n",
              "    </tr>\n",
              "  </tbody>\n",
              "</table>\n"
            ]
          },
          "metadata": {},
          "execution_count": 17
        }
      ]
    },
    {
      "metadata": {
        "_cell_guid": "8002063e-0472-4277-aa71-898a82691958",
        "_uuid": "e57a594cb3ec11145e1538b030834963b1a38fff",
        "id": "9bEOGUJtWVCj"
      },
      "cell_type": "markdown",
      "source": [
        "There are many names which are not relevant like Mr, Mrs etc. So I will replace them with some relevant names,"
      ]
    },
    {
      "metadata": {
        "_cell_guid": "2c766ba5-c271-41bb-9375-9a7ba28c761e",
        "_uuid": "be92506f66b163d85cab44e4eca42d832aa01a85",
        "collapsed": true,
        "trusted": true,
        "id": "nXc0bw6qWVCj"
      },
      "cell_type": "code",
      "source": [
        "train_data['Initial'].replace(['Mlle','Mme','Ms','Dr','Major','Lady','Countess',\n",
        "                               'Jonkheer','Col','Rev','Capt','Sir','Don'],['Miss',\n",
        "                                'Miss','Miss','Mr','Mr','Mrs','Mrs','Other','Other','Other','Mr','Mr','Mr'],inplace=True)\n"
      ],
      "execution_count": 18,
      "outputs": []
    },
    {
      "metadata": {
        "_cell_guid": "40c865d9-4c7d-4fc4-a7fc-177e56fea22e",
        "_uuid": "2497881aa84c4f77dbfcf1252b2264ba697b5d12",
        "trusted": true,
        "colab": {
          "base_uri": "https://localhost:8080/"
        },
        "id": "BeOZsqIhWVCj",
        "outputId": "342674d7-623d-44d0-de82-d3e2fefff92d"
      },
      "cell_type": "code",
      "source": [
        "train_data.groupby('Initial')['Age'].mean()"
      ],
      "execution_count": 19,
      "outputs": [
        {
          "output_type": "execute_result",
          "data": {
            "text/plain": [
              "Initial\n",
              "Master     4.574167\n",
              "Miss      21.860000\n",
              "Mr        32.739609\n",
              "Mrs       35.981818\n",
              "Other     45.888889\n",
              "Name: Age, dtype: float64"
            ]
          },
          "metadata": {},
          "execution_count": 19
        }
      ]
    },
    {
      "metadata": {
        "_cell_guid": "bb997eb2-a34e-4401-ab16-53c1e0789e02",
        "_uuid": "66b23092f07041fad20e6bd68aba4874982d42e6",
        "collapsed": true,
        "trusted": true,
        "id": "ovhzvjdjWVCj"
      },
      "cell_type": "code",
      "source": [
        "train_data.loc[(train_data.Age.isnull()) & (train_data.Initial=='Mr'),'Age']=33\n",
        "train_data.loc[(train_data.Age.isnull()) & (train_data.Initial=='Mrs'),'Age']=36\n",
        "train_data.loc[(train_data.Age.isnull()) & (train_data.Initial=='Master'),'Age']=5\n",
        "train_data.loc[(train_data.Age.isnull()) & (train_data.Initial=='Miss'),'Age']=22\n",
        "train_data.loc[(train_data.Age.isnull()) & (train_data.Initial=='Other'),'Age']=46"
      ],
      "execution_count": 20,
      "outputs": []
    },
    {
      "metadata": {
        "_cell_guid": "f962c1fe-35d1-475b-9635-d57e7c420315",
        "_uuid": "438fcbe0457287ec094b253c81f2a9fecf6e3c56",
        "trusted": true,
        "colab": {
          "base_uri": "https://localhost:8080/"
        },
        "id": "txBp_MLCWVCj",
        "outputId": "005de458-916f-4225-fdcf-5c3bbce2617e"
      },
      "cell_type": "code",
      "source": [
        "train_data.Age.isnull().any()\n"
      ],
      "execution_count": 21,
      "outputs": [
        {
          "output_type": "execute_result",
          "data": {
            "text/plain": [
              "False"
            ]
          },
          "metadata": {},
          "execution_count": 21
        }
      ]
    },
    {
      "metadata": {
        "_cell_guid": "b6d56cd3-a67f-4390-a810-0607b4933f8b",
        "_uuid": "7f0f35d293722d47ca53c380fab2249cc5d2a964",
        "trusted": true,
        "colab": {
          "base_uri": "https://localhost:8080/",
          "height": 1000
        },
        "id": "0t-oyHRDWVCk",
        "outputId": "caee9a36-6cdf-40cd-c676-5da47cf1fe2a"
      },
      "cell_type": "code",
      "source": [
        "f,ax=plt.subplots(1,2,figsize=(20,20))\n",
        "train_data[train_data['Survived']==0].Age.plot.hist(ax=ax[0],bins=20,edgecolor='black',color='red')\n",
        "ax[0].set_title('Survived = 0')\n",
        "x1=list(range(0,85,5))\n",
        "ax[0].set_xticks(x1)\n",
        "train_data[train_data['Survived']==1].Age.plot.hist(ax=ax[1],bins=20,edgecolor='black',color='green')\n",
        "x2=list(range(0,85,5))\n",
        "ax[1].set_xticks(x2)\n",
        "ax[1].set_title('Survived = 1')\n",
        "plt.show()\n"
      ],
      "execution_count": 22,
      "outputs": [
        {
          "output_type": "display_data",
          "data": {
            "text/plain": [
              "<Figure size 1440x1440 with 2 Axes>"
            ],
            "image/png": "[encoded data removed]"
          },
          "metadata": {
            "needs_background": "light"
          }
        }
      ]
    },
    {
      "metadata": {
        "_cell_guid": "6aab367a-e7b7-4770-a3b1-6d59e2c77eec",
        "_uuid": "8ad2ad7f5b3b650fd25a5f5005739bbc4ec08cad",
        "id": "BEjbFLMaWVCk"
      },
      "cell_type": "markdown",
      "source": [
        "From the above plots, I found the following observations\n"
      ]
    },
    {
      "metadata": {
        "_cell_guid": "d48c2228-7dbf-4a69-96e0-fb2688e2592e",
        "_uuid": "fd02e90f9405f908ec564ca976a0467de8fe7f25",
        "id": "47Pg39EHWVCk"
      },
      "cell_type": "markdown",
      "source": [
        "(1) First priority during Rescue is given to children and women, as the persons<5 are save by large numbers\n",
        "(2) The oldest saved passanger is of 80\n",
        "(3) The most deaths were between 30-40"
      ]
    },
    {
      "metadata": {
        "_cell_guid": "b759c434-0a85-4b26-8c8b-526dfa0c560e",
        "_uuid": "9d5087ff08dc40bd3c07eb528ab9769a2d559264",
        "trusted": true,
        "colab": {
          "base_uri": "https://localhost:8080/",
          "height": 276
        },
        "id": "ag0znqmNWVCk",
        "outputId": "b8e024e0-33d8-49ba-9bc0-9747bea03fcb"
      },
      "cell_type": "code",
      "source": [
        "sb.factorplot('Pclass','Survived',col='Initial',data=train_data)\n",
        "plt.show()\n"
      ],
      "execution_count": 23,
      "outputs": [
        {
          "output_type": "display_data",
          "data": {
            "text/plain": [
              "<Figure size 1800x360 with 5 Axes>"
            ],
            "image/png": "[encoded data removed]"
          },
          "metadata": {
            "needs_background": "light"
          }
        }
      ]
    },
    {
      "metadata": {
        "_cell_guid": "6dcec7f5-2d1d-4ab4-b4c2-d05678d17840",
        "_uuid": "745d9d544608918476f11f800086d373cc0a6e14",
        "id": "Abb8Ib5VWVCk"
      },
      "cell_type": "markdown",
      "source": [
        "From the above FactorPlots it is Clearly seen that women and children were saved irrespective of PClass"
      ]
    },
    {
      "metadata": {
        "_cell_guid": "325218e5-1098-4873-86e8-825b2b657497",
        "_uuid": "1eac6b235e6ce9903b3e8bd3c1074f6f5e18fd46",
        "id": "iqmU5LmBWVCk"
      },
      "cell_type": "markdown",
      "source": [
        "Let's explore some more"
      ]
    },
    {
      "metadata": {
        "_cell_guid": "f789c8de-c54a-4de6-8d48-23326f0047a2",
        "_uuid": "664569712e94f4c1fa4329f718763bb04a39a156",
        "id": "Tn0WaiJ1WVCk"
      },
      "cell_type": "markdown",
      "source": [
        "# Feature: SibSip"
      ]
    },
    {
      "metadata": {
        "_cell_guid": "411eafc5-f8fc-43e8-a521-425ed3e4eca7",
        "_uuid": "b0855581eb534395babfc51f13069e6a55340794",
        "id": "GofB-xyLWVCl"
      },
      "cell_type": "markdown",
      "source": [
        "SibSip feature indicates that whether a person is alone or with his family. Siblings=brother,sister, etc\n",
        "and Spouse= husband,wife"
      ]
    },
    {
      "metadata": {
        "_cell_guid": "9e188e6a-b0c6-4a83-a843-b3551300e933",
        "_uuid": "663a48b6c547bd4eb7ae4a42935f4873c102c946",
        "trusted": true,
        "colab": {
          "base_uri": "https://localhost:8080/",
          "height": 300
        },
        "id": "DelLmlQFWVCl",
        "outputId": "b5cc2101-1d5f-487b-e8f4-23f0409af46b"
      },
      "cell_type": "code",
      "source": [
        "pd.crosstab([train_data.SibSp],train_data.Survived).style.background_gradient('summer_r')"
      ],
      "execution_count": 24,
      "outputs": [
        {
          "output_type": "execute_result",
          "data": {
            "text/plain": [
              "<pandas.io.formats.style.Styler at 0x7f10a417f210>"
            ],
            "text/html": [
              "<style type=\"text/css\">\n",
              "#T_e7c62_row0_col0, #T_e7c62_row0_col1 {\n",
              "  background-color: #008066;\n",
              "  color: #f1f1f1;\n",
              "}\n",
              "#T_e7c62_row1_col0 {\n",
              "  background-color: #c4e266;\n",
              "  color: #000000;\n",
              "}\n",
              "#T_e7c62_row1_col1 {\n",
              "  background-color: #77bb66;\n",
              "  color: #f1f1f1;\n",
              "}\n",
              "#T_e7c62_row2_col0, #T_e7c62_row4_col0 {\n",
              "  background-color: #f9fc66;\n",
              "  color: #000000;\n",
              "}\n",
              "#T_e7c62_row2_col1 {\n",
              "  background-color: #f0f866;\n",
              "  color: #000000;\n",
              "}\n",
              "#T_e7c62_row3_col0, #T_e7c62_row3_col1 {\n",
              "  background-color: #fbfd66;\n",
              "  color: #000000;\n",
              "}\n",
              "#T_e7c62_row4_col1 {\n",
              "  background-color: #fcfe66;\n",
              "  color: #000000;\n",
              "}\n",
              "#T_e7c62_row5_col0, #T_e7c62_row5_col1, #T_e7c62_row6_col1 {\n",
              "  background-color: #ffff66;\n",
              "  color: #000000;\n",
              "}\n",
              "#T_e7c62_row6_col0 {\n",
              "  background-color: #fefe66;\n",
              "  color: #000000;\n",
              "}\n",
              "</style>\n",
              "<table id=\"T_e7c62_\" class=\"dataframe\">\n",
              "  <thead>\n",
              "    <tr>\n",
              "      <th class=\"index_name level0\" >Survived</th>\n",
              "      <th class=\"col_heading level0 col0\" >0</th>\n",
              "      <th class=\"col_heading level0 col1\" >1</th>\n",
              "    </tr>\n",
              "    <tr>\n",
              "      <th class=\"index_name level0\" >SibSp</th>\n",
              "      <th class=\"blank col0\" >&nbsp;</th>\n",
              "      <th class=\"blank col1\" >&nbsp;</th>\n",
              "    </tr>\n",
              "  </thead>\n",
              "  <tbody>\n",
              "    <tr>\n",
              "      <th id=\"T_e7c62_level0_row0\" class=\"row_heading level0 row0\" >0</th>\n",
              "      <td id=\"T_e7c62_row0_col0\" class=\"data row0 col0\" >398</td>\n",
              "      <td id=\"T_e7c62_row0_col1\" class=\"data row0 col1\" >210</td>\n",
              "    </tr>\n",
              "    <tr>\n",
              "      <th id=\"T_e7c62_level0_row1\" class=\"row_heading level0 row1\" >1</th>\n",
              "      <td id=\"T_e7c62_row1_col0\" class=\"data row1 col0\" >97</td>\n",
              "      <td id=\"T_e7c62_row1_col1\" class=\"data row1 col1\" >112</td>\n",
              "    </tr>\n",
              "    <tr>\n",
              "      <th id=\"T_e7c62_level0_row2\" class=\"row_heading level0 row2\" >2</th>\n",
              "      <td id=\"T_e7c62_row2_col0\" class=\"data row2 col0\" >15</td>\n",
              "      <td id=\"T_e7c62_row2_col1\" class=\"data row2 col1\" >13</td>\n",
              "    </tr>\n",
              "    <tr>\n",
              "      <th id=\"T_e7c62_level0_row3\" class=\"row_heading level0 row3\" >3</th>\n",
              "      <td id=\"T_e7c62_row3_col0\" class=\"data row3 col0\" >12</td>\n",
              "      <td id=\"T_e7c62_row3_col1\" class=\"data row3 col1\" >4</td>\n",
              "    </tr>\n",
              "    <tr>\n",
              "      <th id=\"T_e7c62_level0_row4\" class=\"row_heading level0 row4\" >4</th>\n",
              "      <td id=\"T_e7c62_row4_col0\" class=\"data row4 col0\" >15</td>\n",
              "      <td id=\"T_e7c62_row4_col1\" class=\"data row4 col1\" >3</td>\n",
              "    </tr>\n",
              "    <tr>\n",
              "      <th id=\"T_e7c62_level0_row5\" class=\"row_heading level0 row5\" >5</th>\n",
              "      <td id=\"T_e7c62_row5_col0\" class=\"data row5 col0\" >5</td>\n",
              "      <td id=\"T_e7c62_row5_col1\" class=\"data row5 col1\" >0</td>\n",
              "    </tr>\n",
              "    <tr>\n",
              "      <th id=\"T_e7c62_level0_row6\" class=\"row_heading level0 row6\" >8</th>\n",
              "      <td id=\"T_e7c62_row6_col0\" class=\"data row6 col0\" >7</td>\n",
              "      <td id=\"T_e7c62_row6_col1\" class=\"data row6 col1\" >0</td>\n",
              "    </tr>\n",
              "  </tbody>\n",
              "</table>\n"
            ]
          },
          "metadata": {},
          "execution_count": 24
        }
      ]
    },
    {
      "metadata": {
        "_cell_guid": "5e29de27-9fcb-47c3-bcd7-fc941351694a",
        "_uuid": "b45f146653abef8f113657e81a6d49e0c54605ca",
        "trusted": true,
        "colab": {
          "base_uri": "https://localhost:8080/",
          "height": 513
        },
        "id": "ln_PFCKrWVCl",
        "outputId": "abb47e0a-68a3-4e90-97a2-b4543ab6b8d0"
      },
      "cell_type": "code",
      "source": [
        "f,ax=plt.subplots(1,2,figsize=(20,8))\n",
        "sb.barplot('SibSp','Survived', data=train_data,ax=ax[0])\n",
        "ax[0].set_title('SipSp vs Survived in BarPlot')\n",
        "sb.factorplot('SibSp','Survived', data=train_data,ax=ax[1])\n",
        "ax[1].set_title('SibSp vs Survived in FactorPlot')\n",
        "plt.close(2)\n",
        "plt.show()\n"
      ],
      "execution_count": 25,
      "outputs": [
        {
          "output_type": "display_data",
          "data": {
            "text/plain": [
              "<Figure size 1440x576 with 2 Axes>"
            ],
            "image/png": "[encoded data removed]"
          },
          "metadata": {
            "needs_background": "light"
          }
        }
      ]
    },
    {
      "metadata": {
        "_cell_guid": "5bd1649c-f674-4cb8-b566-5daa966f785b",
        "_uuid": "1a734d2421ce6bb7be165841a750fd499ca98aa7",
        "trusted": true,
        "colab": {
          "base_uri": "https://localhost:8080/",
          "height": 300
        },
        "id": "tHZnCL6OWVCl",
        "outputId": "a7a61cb4-42e9-40cf-f89b-b30f0586b1ab"
      },
      "cell_type": "code",
      "source": [
        "pd.crosstab(train_data.SibSp,train_data.Pclass).style.background_gradient('summer_r')\n"
      ],
      "execution_count": 26,
      "outputs": [
        {
          "output_type": "execute_result",
          "data": {
            "text/plain": [
              "<pandas.io.formats.style.Styler at 0x7f10a4208290>"
            ],
            "text/html": [
              "<style type=\"text/css\">\n",
              "#T_24933_row0_col0, #T_24933_row0_col1, #T_24933_row0_col2 {\n",
              "  background-color: #008066;\n",
              "  color: #f1f1f1;\n",
              "}\n",
              "#T_24933_row1_col0 {\n",
              "  background-color: #7bbd66;\n",
              "  color: #000000;\n",
              "}\n",
              "#T_24933_row1_col1 {\n",
              "  background-color: #8ac466;\n",
              "  color: #000000;\n",
              "}\n",
              "#T_24933_row1_col2 {\n",
              "  background-color: #c6e266;\n",
              "  color: #000000;\n",
              "}\n",
              "#T_24933_row2_col0, #T_24933_row4_col2 {\n",
              "  background-color: #f6fa66;\n",
              "  color: #000000;\n",
              "}\n",
              "#T_24933_row2_col1 {\n",
              "  background-color: #eef666;\n",
              "  color: #000000;\n",
              "}\n",
              "#T_24933_row2_col2 {\n",
              "  background-color: #f8fc66;\n",
              "  color: #000000;\n",
              "}\n",
              "#T_24933_row3_col0, #T_24933_row3_col2 {\n",
              "  background-color: #fafc66;\n",
              "  color: #000000;\n",
              "}\n",
              "#T_24933_row3_col1 {\n",
              "  background-color: #fdfe66;\n",
              "  color: #000000;\n",
              "}\n",
              "#T_24933_row4_col0, #T_24933_row4_col1, #T_24933_row5_col0, #T_24933_row5_col1, #T_24933_row5_col2, #T_24933_row6_col0, #T_24933_row6_col1 {\n",
              "  background-color: #ffff66;\n",
              "  color: #000000;\n",
              "}\n",
              "#T_24933_row6_col2 {\n",
              "  background-color: #fefe66;\n",
              "  color: #000000;\n",
              "}\n",
              "</style>\n",
              "<table id=\"T_24933_\" class=\"dataframe\">\n",
              "  <thead>\n",
              "    <tr>\n",
              "      <th class=\"index_name level0\" >Pclass</th>\n",
              "      <th class=\"col_heading level0 col0\" >1</th>\n",
              "      <th class=\"col_heading level0 col1\" >2</th>\n",
              "      <th class=\"col_heading level0 col2\" >3</th>\n",
              "    </tr>\n",
              "    <tr>\n",
              "      <th class=\"index_name level0\" >SibSp</th>\n",
              "      <th class=\"blank col0\" >&nbsp;</th>\n",
              "      <th class=\"blank col1\" >&nbsp;</th>\n",
              "      <th class=\"blank col2\" >&nbsp;</th>\n",
              "    </tr>\n",
              "  </thead>\n",
              "  <tbody>\n",
              "    <tr>\n",
              "      <th id=\"T_24933_level0_row0\" class=\"row_heading level0 row0\" >0</th>\n",
              "      <td id=\"T_24933_row0_col0\" class=\"data row0 col0\" >137</td>\n",
              "      <td id=\"T_24933_row0_col1\" class=\"data row0 col1\" >120</td>\n",
              "      <td id=\"T_24933_row0_col2\" class=\"data row0 col2\" >351</td>\n",
              "    </tr>\n",
              "    <tr>\n",
              "      <th id=\"T_24933_level0_row1\" class=\"row_heading level0 row1\" >1</th>\n",
              "      <td id=\"T_24933_row1_col0\" class=\"data row1 col0\" >71</td>\n",
              "      <td id=\"T_24933_row1_col1\" class=\"data row1 col1\" >55</td>\n",
              "      <td id=\"T_24933_row1_col2\" class=\"data row1 col2\" >83</td>\n",
              "    </tr>\n",
              "    <tr>\n",
              "      <th id=\"T_24933_level0_row2\" class=\"row_heading level0 row2\" >2</th>\n",
              "      <td id=\"T_24933_row2_col0\" class=\"data row2 col0\" >5</td>\n",
              "      <td id=\"T_24933_row2_col1\" class=\"data row2 col1\" >8</td>\n",
              "      <td id=\"T_24933_row2_col2\" class=\"data row2 col2\" >15</td>\n",
              "    </tr>\n",
              "    <tr>\n",
              "      <th id=\"T_24933_level0_row3\" class=\"row_heading level0 row3\" >3</th>\n",
              "      <td id=\"T_24933_row3_col0\" class=\"data row3 col0\" >3</td>\n",
              "      <td id=\"T_24933_row3_col1\" class=\"data row3 col1\" >1</td>\n",
              "      <td id=\"T_24933_row3_col2\" class=\"data row3 col2\" >12</td>\n",
              "    </tr>\n",
              "    <tr>\n",
              "      <th id=\"T_24933_level0_row4\" class=\"row_heading level0 row4\" >4</th>\n",
              "      <td id=\"T_24933_row4_col0\" class=\"data row4 col0\" >0</td>\n",
              "      <td id=\"T_24933_row4_col1\" class=\"data row4 col1\" >0</td>\n",
              "      <td id=\"T_24933_row4_col2\" class=\"data row4 col2\" >18</td>\n",
              "    </tr>\n",
              "    <tr>\n",
              "      <th id=\"T_24933_level0_row5\" class=\"row_heading level0 row5\" >5</th>\n",
              "      <td id=\"T_24933_row5_col0\" class=\"data row5 col0\" >0</td>\n",
              "      <td id=\"T_24933_row5_col1\" class=\"data row5 col1\" >0</td>\n",
              "      <td id=\"T_24933_row5_col2\" class=\"data row5 col2\" >5</td>\n",
              "    </tr>\n",
              "    <tr>\n",
              "      <th id=\"T_24933_level0_row6\" class=\"row_heading level0 row6\" >8</th>\n",
              "      <td id=\"T_24933_row6_col0\" class=\"data row6 col0\" >0</td>\n",
              "      <td id=\"T_24933_row6_col1\" class=\"data row6 col1\" >0</td>\n",
              "      <td id=\"T_24933_row6_col2\" class=\"data row6 col2\" >7</td>\n",
              "    </tr>\n",
              "  </tbody>\n",
              "</table>\n"
            ]
          },
          "metadata": {},
          "execution_count": 26
        }
      ]
    },
    {
      "metadata": {
        "_cell_guid": "370a48eb-0a15-4bee-ad4a-c538fde3d75c",
        "_uuid": "35e4a93f1a9943165bb7b348daf2b008820be2a4",
        "id": "qkIpwLSEWVCl"
      },
      "cell_type": "markdown",
      "source": [
        "There are many interesting facts with this feature. Barplot and FactorPlot shows that if a passanger is alone in ship with no siblings, survival rate is 34.5%. The graph decreases as no of siblings increase. This is interesting because, If I have a family onboard, I will save them instead of saving myself. But there's something wrong, the survival rate for families with 5-8 members is 0%. Is this because of PClass?\n",
        "Yes this is PClass,  The crosstab shows that Person with SibSp>3 were all in Pclass3. It is imminent that all the large families in Pclass3(>3) died."
      ]
    },
    {
      "metadata": {
        "_cell_guid": "0fdd2521-4b53-4a04-bad7-0bf62f4932f2",
        "_uuid": "2095912b48d60e66fa9b2f71f7d59ecf9367304f",
        "id": "Yj2X-iHzWVCl"
      },
      "cell_type": "markdown",
      "source": [
        "That are some interesting facts we have observed with Titanic dataset."
      ]
    },
    {
      "metadata": {
        "_cell_guid": "7ca8c974-a10e-4a88-b466-49a7c198428d",
        "_uuid": "257631be7f62837e92c4cf3d9b12f05527ba810e",
        "collapsed": true,
        "trusted": true,
        "id": "NlvXr463WVCl"
      },
      "cell_type": "code",
      "source": [
        ""
      ],
      "execution_count": 26,
      "outputs": []
    }
  ],
  "metadata": {
    "kernelspec": {
      "display_name": "Python 3",
      "language": "python",
      "name": "python3"
    },
    "language_info": {
      "name": "python",
      "version": "3.6.5",
      "mimetype": "text/x-python",
      "codemirror_mode": {
        "name": "ipython",
        "version": 3
      },
      "pygments_lexer": "ipython3",
      "nbconvert_exporter": "python",
      "file_extension": ".py"
    },
    "colab": {
      "name": "eda-of-titanic-dataset-with-python-analysis.ipynb",
      "provenance": [],
      "collapsed_sections": [],
      "include_colab_link": true
    }
  },
  "nbformat": 4,
  "nbformat_minor": 0
}