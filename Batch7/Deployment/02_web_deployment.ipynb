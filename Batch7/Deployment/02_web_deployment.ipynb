{
  "cells": [
    {
      "cell_type": "markdown",
      "metadata": {
        "id": "view-in-github",
        "colab_type": "text"
      },
      "source": [
        "<a href=\"https://colab.research.google.com/github/angelaaaateng/ftw_python/blob/main/02_web_deployment.ipynb\" target=\"_parent\"><img src=\"https://colab.research.google.com/assets/colab-badge.svg\" alt=\"Open In Colab\"/></a>"
      ]
    },
    {
      "cell_type": "markdown",
      "metadata": {
        "id": "Mytp0TT-o7Ox"
      },
      "source": [
        "02 Web Deployment\n",
        "==="
      ]
    },
    {
      "cell_type": "markdown",
      "metadata": {
        "id": "X4gbKf2ho7O0"
      },
      "source": [
        "### Where can we deploy Streamlit on the web?\n",
        "\n",
        "- Google colab\n",
        "- Heroku\n",
        "- Virtual Private Server ie. AWS ec2/ google cloud/ azure"
      ]
    },
    {
      "cell_type": "markdown",
      "metadata": {
        "id": "GNpzbztDo7O1"
      },
      "source": [
        "# Deploying in Colab"
      ]
    },
    {
      "cell_type": "markdown",
      "metadata": {
        "id": "s1evZ3Ddo7O2"
      },
      "source": [
        "1. Open Colab\n",
        "2. Open Files Tab\n",
        "3. upload the contents of the adsales_app\n",
        "4. run the following commands per cell:\n",
        "\n",
        "> !pip install -q streamlit\n",
        "\n",
        "> !wget https://bin.equinox.io/c/4VmDzA7iaHb/ngrok-stable-linux-amd64.zip\n",
        "\n",
        "> !unzip ngrok-stable-linux-amd64.zip\n",
        "\n",
        "> get_ipython().system_raw('./ngrok http 8501 &')\n",
        "\n",
        "\n",
        "> !curl -s http://localhost:4040/api/tunnels | python3 -c \n",
        "\n",
        "> !curl -s http://localhost:4040/api/tunnels | python3 -c 'import sys, json; print(\"Execute the next cell and the go to the following URL: \" +json.load(sys.stdin)[\"tunnels\"][0][\"public_url\"])'\n",
        "    \n",
        "> !streamlit run /content/app.py\n"
      ]
    },
    {
      "cell_type": "code",
      "source": [
        "!pip install -q streamlit\n",
        "!wget https://bin.equinox.io/c/4VmDzA7iaHb/ngrok-stable-linux-amd64.zip\n",
        "!unzip ngrok-stable-linux-amd64.zip"
      ],
      "metadata": {
        "colab": {
          "base_uri": "https://localhost:8080/"
        },
        "id": "vSsSpsOspCtA",
        "outputId": "d2398be4-8f3f-415f-e07e-77b18e3434f6"
      },
      "execution_count": 1,
      "outputs": [
        {
          "output_type": "stream",
          "name": "stdout",
          "text": [
            "\u001b[K     |████████████████████████████████| 9.1 MB 19.3 MB/s \n",
            "\u001b[K     |████████████████████████████████| 4.3 MB 41.0 MB/s \n",
            "\u001b[K     |████████████████████████████████| 235 kB 59.3 MB/s \n",
            "\u001b[K     |████████████████████████████████| 78 kB 7.1 MB/s \n",
            "\u001b[K     |████████████████████████████████| 181 kB 59.7 MB/s \n",
            "\u001b[K     |████████████████████████████████| 164 kB 59.8 MB/s \n",
            "\u001b[K     |████████████████████████████████| 111 kB 43.2 MB/s \n",
            "\u001b[K     |████████████████████████████████| 63 kB 962 kB/s \n",
            "\u001b[K     |████████████████████████████████| 132 kB 46.7 MB/s \n",
            "\u001b[K     |████████████████████████████████| 793 kB 68.0 MB/s \n",
            "\u001b[K     |████████████████████████████████| 132 kB 77.5 MB/s \n",
            "\u001b[K     |████████████████████████████████| 423 kB 67.7 MB/s \n",
            "\u001b[K     |████████████████████████████████| 381 kB 59.3 MB/s \n",
            "\u001b[K     |████████████████████████████████| 51 kB 7.3 MB/s \n",
            "\u001b[?25h  Building wheel for blinker (setup.py) ... \u001b[?25l\u001b[?25hdone\n",
            "  Building wheel for validators (setup.py) ... \u001b[?25l\u001b[?25hdone\n",
            "\u001b[31mERROR: pip's dependency resolver does not currently take into account all the packages that are installed. This behaviour is the source of the following dependency conflicts.\n",
            "nbclient 0.6.6 requires traitlets>=5.2.2, but you have traitlets 5.1.1 which is incompatible.\n",
            "jupyter-console 5.2.0 requires prompt-toolkit<2.0.0,>=1.0.0, but you have prompt-toolkit 3.0.30 which is incompatible.\n",
            "google-colab 1.0.0 requires ipykernel~=4.10, but you have ipykernel 6.15.1 which is incompatible.\n",
            "google-colab 1.0.0 requires ipython~=5.5.0, but you have ipython 7.34.0 which is incompatible.\n",
            "google-colab 1.0.0 requires tornado~=5.1.0; python_version >= \"3.0\", but you have tornado 6.2 which is incompatible.\u001b[0m\n",
            "--2022-07-15 16:15:36--  https://bin.equinox.io/c/4VmDzA7iaHb/ngrok-stable-linux-amd64.zip\n",
            "Resolving bin.equinox.io (bin.equinox.io)... 18.205.222.128, 54.237.133.81, 52.202.168.65, ...\n",
            "Connecting to bin.equinox.io (bin.equinox.io)|18.205.222.128|:443... connected.\n",
            "HTTP request sent, awaiting response... 200 OK\n",
            "Length: 13832437 (13M) [application/octet-stream]\n",
            "Saving to: ‘ngrok-stable-linux-amd64.zip’\n",
            "\n",
            "ngrok-stable-linux- 100%[===================>]  13.19M  84.9MB/s    in 0.2s    \n",
            "\n",
            "2022-07-15 16:15:36 (84.9 MB/s) - ‘ngrok-stable-linux-amd64.zip’ saved [13832437/13832437]\n",
            "\n",
            "Archive:  ngrok-stable-linux-amd64.zip\n",
            "  inflating: ngrok                   \n"
          ]
        }
      ]
    },
    {
      "cell_type": "code",
      "source": [
        "get_ipython().system_raw('./ngrok http 8501 &')\n"
      ],
      "metadata": {
        "id": "IASACs4wpJl2"
      },
      "execution_count": 2,
      "outputs": []
    },
    {
      "cell_type": "code",
      "source": [
        "!curl -s http://localhost:4040/api/tunnels | python3 -c \n",
        "!curl -s http://localhost:4040/api/tunnels | python3 -c 'import sys, json; print(\"Execute the next cell and the go to the following URL: \" +json.load(sys.stdin)[\"tunnels\"][0][\"public_url\"])'\n",
        "    \n",
        "!streamlit run /content/app.py\n"
      ],
      "metadata": {
        "colab": {
          "base_uri": "https://localhost:8080/"
        },
        "id": "W8wrhtcypLUu",
        "outputId": "3833984d-e4db-4daa-8b0a-4df69591ad2a"
      },
      "execution_count": 4,
      "outputs": [
        {
          "output_type": "stream",
          "name": "stdout",
          "text": [
            "Argument expected for the -c option\n",
            "usage: python3 [option] ... [-c cmd | -m mod | file | -] [arg] ...\n",
            "Try `python -h' for more information.\n",
            "(23) Failed writing body\n",
            "Execute the next cell and the go to the following URL: https://dfaf-35-245-27-75.ngrok.io\n",
            "2022-07-15 16:16:19.762 INFO    numexpr.utils: NumExpr defaulting to 2 threads.\n",
            "\u001b[0m\n",
            "\u001b[34m\u001b[1m  You can now view your Streamlit app in your browser.\u001b[0m\n",
            "\u001b[0m\n",
            "\u001b[34m  Network URL: \u001b[0m\u001b[1mhttp://172.28.0.2:8501\u001b[0m\n",
            "\u001b[34m  External URL: \u001b[0m\u001b[1mhttp://35.245.27.75:8501\u001b[0m\n",
            "\u001b[0m\n",
            "\u001b[34m  Stopping...\u001b[0m\n",
            "^C\n"
          ]
        }
      ]
    },
    {
      "cell_type": "markdown",
      "metadata": {
        "id": "0UBXgGUso7O3"
      },
      "source": [
        "# Deploying in Heroku"
      ]
    },
    {
      "cell_type": "markdown",
      "metadata": {
        "id": "aPS3syr4o7O3"
      },
      "source": [
        "1. open command prompt / terminal\n",
        "2. go to adsales_app folder\n",
        "3. Install pipreqs\n",
        "> pip install pipreqs\n",
        "4. run pipreqs on the current folder this will generate a requirements.txt file. verify contents!\n",
        "> pipreqs ./\n",
        "5. create **Procfile** file. This file should contain the following text\n",
        "> web: sh setup.sh && streamlit run app.py\n",
        "6. create **setup.sh** file. This file should contain the following text\n",
        "\n",
        "~~~~\n",
        "mkdir -p ~/.streamlit/\n",
        "echo \"\\\n",
        "[general]\\n\\\n",
        "email = \\\"your@domain.com\\\"\\n\\\n",
        "\" > ~/.streamlit/credentials.toml\n",
        "echo \"\\\n",
        "[server]\\n\\\n",
        "headless = true\\n\\\n",
        "enableCORS=false\\n\\\n",
        "port = $PORT\\n\\\n",
        "\" > ~/.streamlit/config.toml\n",
        "~~~~\n",
        "\n",
        "7. You should now have the following files:\n",
        "    - adsales_linearregression.mdl\n",
        "    - advertising_regression.csv\n",
        "    - app.py\n",
        "    - procfile\n",
        "    - requirements.txt\n",
        "    - setup.sh\n",
        "8. Setup Heroku\n",
        "    - create Heroku account\n",
        "    - install Heroku CLI https://devcenter.heroku.com/articles/heroku-cli\n",
        "    - we assume you have git installed (including github account)\n",
        "9. Heroku commandline \n",
        "\n",
        "> heroku login #use your login credentials via browser\n",
        "\n",
        "> git init\n",
        "\n",
        "> heroku create\n",
        "\n",
        "> git add .\n",
        "\n",
        "> git commit -m \"some message\"\n",
        "\n",
        "> git push heroku master\n",
        "\n",
        "note: you might encounter path issues with heroku double check where it is located/installed and consult your path environment variable\n",
        "\n",
        "> heroku ps:scale web=1 #check if process is running\n",
        "\n",
        "> heroku logs --tail # diagnose if there are issues\n",
        "\n",
        "10. visit your site and congratulate yourself on deploying to the web! "
      ]
    },
    {
      "cell_type": "code",
      "execution_count": null,
      "metadata": {
        "id": "FKLtoPkZo7O5"
      },
      "outputs": [],
      "source": [
        ""
      ]
    }
  ],
  "metadata": {
    "kernelspec": {
      "display_name": "Python 3",
      "language": "python",
      "name": "python3"
    },
    "language_info": {
      "codemirror_mode": {
        "name": "ipython",
        "version": 3
      },
      "file_extension": ".py",
      "mimetype": "text/x-python",
      "name": "python",
      "nbconvert_exporter": "python",
      "pygments_lexer": "ipython3",
      "version": "3.8.3"
    },
    "colab": {
      "name": "02_web_deployment.ipynb",
      "provenance": [],
      "collapsed_sections": [],
      "include_colab_link": true
    }
  },
  "nbformat": 4,
  "nbformat_minor": 0
}